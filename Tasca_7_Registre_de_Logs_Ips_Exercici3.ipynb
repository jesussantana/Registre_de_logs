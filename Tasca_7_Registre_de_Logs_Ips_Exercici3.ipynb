{
 "metadata": {
  "language_info": {
   "codemirror_mode": {
    "name": "ipython",
    "version": 3
   },
   "file_extension": ".py",
   "mimetype": "text/x-python",
   "name": "python",
   "nbconvert_exporter": "python",
   "pygments_lexer": "ipython3",
   "version": "3.8.5-final"
  },
  "orig_nbformat": 2,
  "kernelspec": {
   "name": "python3",
   "display_name": "Python 3",
   "language": "python"
  }
 },
 "nbformat": 4,
 "nbformat_minor": 2,
 "cells": [
  {
   "source": [
    "# IT Academy - Data Science amb Python\n",
    "## Tasca 7: Estructura de control\n",
    "\n",
    "###  [Github Registre de Logs](https://github.com/jesussantana/Registre_de_logs)"
   ],
   "cell_type": "markdown",
   "metadata": {}
  },
  {
   "source": [
    "###  Exercici 3\n",
    "- Geolocalitza les IP's. Aqui tens una pagina de interes:\n",
    "  - [IP2Locattion](https://blog.ip2location.com/knowledge-base/how-to-add-a-sub-account-in-ip2location/)"
   ],
   "cell_type": "markdown",
   "metadata": {}
  },
  {
   "cell_type": "code",
   "execution_count": 81,
   "metadata": {},
   "outputs": [],
   "source": [
    "import numpy as np\n",
    "import pandas as pd\n",
    "import re\n",
    "import time\n",
    "from datetime import datetime\n",
    "from datetime import timedelta\n",
    "\n",
    "import json\n",
    "from ip2geotools.databases.noncommercial import DbIpCity"
   ]
  },
  {
   "cell_type": "code",
   "execution_count": 82,
   "metadata": {},
   "outputs": [
    {
     "output_type": "execute_result",
     "data": {
      "text/plain": [
       "          IP\n",
       "0  127.0.0.1\n",
       "1  127.0.0.1\n",
       "2  127.0.0.1\n",
       "3  127.0.0.1\n",
       "4  127.0.0.1"
      ],
      "text/html": "<div>\n<style scoped>\n    .dataframe tbody tr th:only-of-type {\n        vertical-align: middle;\n    }\n\n    .dataframe tbody tr th {\n        vertical-align: top;\n    }\n\n    .dataframe thead th {\n        text-align: right;\n    }\n</style>\n<table border=\"1\" class=\"dataframe\">\n  <thead>\n    <tr style=\"text-align: right;\">\n      <th></th>\n      <th>IP</th>\n    </tr>\n  </thead>\n  <tbody>\n    <tr>\n      <th>0</th>\n      <td>127.0.0.1</td>\n    </tr>\n    <tr>\n      <th>1</th>\n      <td>127.0.0.1</td>\n    </tr>\n    <tr>\n      <th>2</th>\n      <td>127.0.0.1</td>\n    </tr>\n    <tr>\n      <th>3</th>\n      <td>127.0.0.1</td>\n    </tr>\n    <tr>\n      <th>4</th>\n      <td>127.0.0.1</td>\n    </tr>\n  </tbody>\n</table>\n</div>"
     },
     "metadata": {},
     "execution_count": 82
    }
   ],
   "source": [
    "path = '../Data/Ips_export.csv'\n",
    "\n",
    "Ips_raw = pd.read_csv(path, sep= 'delimiter', engine='python')\n",
    "\n",
    "Ips_raw.head()"
   ]
  },
  {
   "cell_type": "code",
   "execution_count": 83,
   "metadata": {},
   "outputs": [
    {
     "output_type": "execute_result",
     "data": {
      "text/plain": [
       "                   IP\n",
       "261868   5.255.253.53\n",
       "261869  74.86.158.107\n",
       "261870      127.0.0.1\n",
       "261871      127.0.0.1\n",
       "261872      127.0.0.1"
      ],
      "text/html": "<div>\n<style scoped>\n    .dataframe tbody tr th:only-of-type {\n        vertical-align: middle;\n    }\n\n    .dataframe tbody tr th {\n        vertical-align: top;\n    }\n\n    .dataframe thead th {\n        text-align: right;\n    }\n</style>\n<table border=\"1\" class=\"dataframe\">\n  <thead>\n    <tr style=\"text-align: right;\">\n      <th></th>\n      <th>IP</th>\n    </tr>\n  </thead>\n  <tbody>\n    <tr>\n      <th>261868</th>\n      <td>5.255.253.53</td>\n    </tr>\n    <tr>\n      <th>261869</th>\n      <td>74.86.158.107</td>\n    </tr>\n    <tr>\n      <th>261870</th>\n      <td>127.0.0.1</td>\n    </tr>\n    <tr>\n      <th>261871</th>\n      <td>127.0.0.1</td>\n    </tr>\n    <tr>\n      <th>261872</th>\n      <td>127.0.0.1</td>\n    </tr>\n  </tbody>\n</table>\n</div>"
     },
     "metadata": {},
     "execution_count": 83
    }
   ],
   "source": [
    "Ips_raw.tail()"
   ]
  },
  {
   "cell_type": "code",
   "execution_count": 84,
   "metadata": {},
   "outputs": [],
   "source": [
    "Ips_copy = Ips_raw.copy()\n",
    "ips = Ips_copy.IP.unique()"
   ]
  },
  {
   "cell_type": "code",
   "execution_count": 85,
   "metadata": {},
   "outputs": [
    {
     "output_type": "execute_result",
     "data": {
      "text/plain": [
       "2921"
      ]
     },
     "metadata": {},
     "execution_count": 85
    }
   ],
   "source": [
    "len(Ips_copy.IP.unique())"
   ]
  },
  {
   "cell_type": "code",
   "execution_count": 5,
   "metadata": {},
   "outputs": [],
   "source": [
    "# Function for extract Locations\n",
    "\n",
    "localhost = \"127.0.0.1\"\n",
    "\n",
    "def extract_location(ip):\n",
    "    \n",
    "    try:\n",
    "        if ip == localhost:\n",
    "            return ('Local', 'Local')\n",
    "\n",
    "        else:\n",
    "            response = DbIpCity.get(ip, api_key = 'free').to_json()    \n",
    "            data = json.loads(response)\n",
    "            return data['city'], data['country']\n",
    "    \n",
    "    except:\n",
    "        return np.nan"
   ]
  },
  {
   "cell_type": "code",
   "execution_count": 96,
   "metadata": {},
   "outputs": [
    {
     "output_type": "execute_result",
     "data": {
      "text/plain": [
       "nan"
      ]
     },
     "metadata": {},
     "execution_count": 96
    }
   ],
   "source": [
    "# Extract Location Test\n",
    "\n",
    "extract_location(Ips_copy.IP[50000])"
   ]
  },
  {
   "cell_type": "code",
   "execution_count": 7,
   "metadata": {},
   "outputs": [
    {
     "output_type": "stream",
     "name": "stdout",
     "text": [
      "0:12:44.235354\n"
     ]
    }
   ],
   "source": [
    "# List of locations for unique Ips\n",
    "start = time.monotonic()\n",
    "\n",
    "locations = []\n",
    "\n",
    "for item in ips:\n",
    "    \n",
    "    locations.append(extract_location(item))  \n",
    "\n",
    "end = time.monotonic()\n",
    "\n",
    "print(timedelta(seconds = end - start))"
   ]
  },
  {
   "cell_type": "code",
   "execution_count": 48,
   "metadata": {},
   "outputs": [
    {
     "output_type": "execute_result",
     "data": {
      "text/plain": [
       "('Mountain View', 'US')"
      ]
     },
     "metadata": {},
     "execution_count": 48
    }
   ],
   "source": [
    "locations[1]"
   ]
  },
  {
   "cell_type": "code",
   "execution_count": 73,
   "metadata": {},
   "outputs": [],
   "source": [
    "ips = pd.Series(ips)\n",
    "locations = pd.Series(locations)\n",
    "frame_data= {'IP': ips, 'Locations': locations}\n",
    "Ips_Locations = pd.DataFrame(frame_data)"
   ]
  },
  {
   "cell_type": "code",
   "execution_count": 74,
   "metadata": {},
   "outputs": [
    {
     "output_type": "execute_result",
     "data": {
      "text/plain": [
       "                IP                                          Locations\n",
       "0        127.0.0.1                                     (Local, Local)\n",
       "1    66.249.76.216                                (Mountain View, US)\n",
       "2     5.255.253.53  (Moscow (Tsentralnyy administrativnyy okrug), RU)\n",
       "3    157.55.35.112                                       (Newark, US)\n",
       "4  193.111.141.116            (Amsterdam (Nieuwmarkt en Lastage), NL)"
      ],
      "text/html": "<div>\n<style scoped>\n    .dataframe tbody tr th:only-of-type {\n        vertical-align: middle;\n    }\n\n    .dataframe tbody tr th {\n        vertical-align: top;\n    }\n\n    .dataframe thead th {\n        text-align: right;\n    }\n</style>\n<table border=\"1\" class=\"dataframe\">\n  <thead>\n    <tr style=\"text-align: right;\">\n      <th></th>\n      <th>IP</th>\n      <th>Locations</th>\n    </tr>\n  </thead>\n  <tbody>\n    <tr>\n      <th>0</th>\n      <td>127.0.0.1</td>\n      <td>(Local, Local)</td>\n    </tr>\n    <tr>\n      <th>1</th>\n      <td>66.249.76.216</td>\n      <td>(Mountain View, US)</td>\n    </tr>\n    <tr>\n      <th>2</th>\n      <td>5.255.253.53</td>\n      <td>(Moscow (Tsentralnyy administrativnyy okrug), RU)</td>\n    </tr>\n    <tr>\n      <th>3</th>\n      <td>157.55.35.112</td>\n      <td>(Newark, US)</td>\n    </tr>\n    <tr>\n      <th>4</th>\n      <td>193.111.141.116</td>\n      <td>(Amsterdam (Nieuwmarkt en Lastage), NL)</td>\n    </tr>\n  </tbody>\n</table>\n</div>"
     },
     "metadata": {},
     "execution_count": 74
    }
   ],
   "source": [
    "Ips_Locations.head()"
   ]
  },
  {
   "cell_type": "code",
   "execution_count": 75,
   "metadata": {},
   "outputs": [
    {
     "output_type": "execute_result",
     "data": {
      "text/plain": [
       "                   IP Locations\n",
       "2916    46.222.83.180       NaN\n",
       "2917    79.155.78.117       NaN\n",
       "2918  217.174.248.179       NaN\n",
       "2919   188.135.173.80       NaN\n",
       "2920     206.198.5.33       NaN"
      ],
      "text/html": "<div>\n<style scoped>\n    .dataframe tbody tr th:only-of-type {\n        vertical-align: middle;\n    }\n\n    .dataframe tbody tr th {\n        vertical-align: top;\n    }\n\n    .dataframe thead th {\n        text-align: right;\n    }\n</style>\n<table border=\"1\" class=\"dataframe\">\n  <thead>\n    <tr style=\"text-align: right;\">\n      <th></th>\n      <th>IP</th>\n      <th>Locations</th>\n    </tr>\n  </thead>\n  <tbody>\n    <tr>\n      <th>2916</th>\n      <td>46.222.83.180</td>\n      <td>NaN</td>\n    </tr>\n    <tr>\n      <th>2917</th>\n      <td>79.155.78.117</td>\n      <td>NaN</td>\n    </tr>\n    <tr>\n      <th>2918</th>\n      <td>217.174.248.179</td>\n      <td>NaN</td>\n    </tr>\n    <tr>\n      <th>2919</th>\n      <td>188.135.173.80</td>\n      <td>NaN</td>\n    </tr>\n    <tr>\n      <th>2920</th>\n      <td>206.198.5.33</td>\n      <td>NaN</td>\n    </tr>\n  </tbody>\n</table>\n</div>"
     },
     "metadata": {},
     "execution_count": 75
    }
   ],
   "source": [
    "Ips_Locations.tail()"
   ]
  },
  {
   "cell_type": "code",
   "execution_count": 88,
   "metadata": {},
   "outputs": [
    {
     "output_type": "stream",
     "name": "stdout",
     "text": [
      "0:00:00.042559\n"
     ]
    }
   ],
   "source": [
    "start = time.monotonic()\n",
    "\n",
    "df = Ips_copy.merge(Ips_Locations, how='inner')\n",
    "   \n",
    "end = time.monotonic()\n",
    "\n",
    "print(timedelta(seconds = end - start))"
   ]
  },
  {
   "cell_type": "code",
   "execution_count": 89,
   "metadata": {},
   "outputs": [
    {
     "output_type": "execute_result",
     "data": {
      "text/plain": [
       "                     IP       Locations\n",
       "0             127.0.0.1  (Local, Local)\n",
       "1             127.0.0.1  (Local, Local)\n",
       "2             127.0.0.1  (Local, Local)\n",
       "3             127.0.0.1  (Local, Local)\n",
       "4             127.0.0.1  (Local, Local)\n",
       "...                 ...             ...\n",
       "261868  217.174.248.179             NaN\n",
       "261869  217.174.248.179             NaN\n",
       "261870   188.135.173.80             NaN\n",
       "261871   188.135.173.80             NaN\n",
       "261872     206.198.5.33             NaN\n",
       "\n",
       "[261873 rows x 2 columns]"
      ],
      "text/html": "<div>\n<style scoped>\n    .dataframe tbody tr th:only-of-type {\n        vertical-align: middle;\n    }\n\n    .dataframe tbody tr th {\n        vertical-align: top;\n    }\n\n    .dataframe thead th {\n        text-align: right;\n    }\n</style>\n<table border=\"1\" class=\"dataframe\">\n  <thead>\n    <tr style=\"text-align: right;\">\n      <th></th>\n      <th>IP</th>\n      <th>Locations</th>\n    </tr>\n  </thead>\n  <tbody>\n    <tr>\n      <th>0</th>\n      <td>127.0.0.1</td>\n      <td>(Local, Local)</td>\n    </tr>\n    <tr>\n      <th>1</th>\n      <td>127.0.0.1</td>\n      <td>(Local, Local)</td>\n    </tr>\n    <tr>\n      <th>2</th>\n      <td>127.0.0.1</td>\n      <td>(Local, Local)</td>\n    </tr>\n    <tr>\n      <th>3</th>\n      <td>127.0.0.1</td>\n      <td>(Local, Local)</td>\n    </tr>\n    <tr>\n      <th>4</th>\n      <td>127.0.0.1</td>\n      <td>(Local, Local)</td>\n    </tr>\n    <tr>\n      <th>...</th>\n      <td>...</td>\n      <td>...</td>\n    </tr>\n    <tr>\n      <th>261868</th>\n      <td>217.174.248.179</td>\n      <td>NaN</td>\n    </tr>\n    <tr>\n      <th>261869</th>\n      <td>217.174.248.179</td>\n      <td>NaN</td>\n    </tr>\n    <tr>\n      <th>261870</th>\n      <td>188.135.173.80</td>\n      <td>NaN</td>\n    </tr>\n    <tr>\n      <th>261871</th>\n      <td>188.135.173.80</td>\n      <td>NaN</td>\n    </tr>\n    <tr>\n      <th>261872</th>\n      <td>206.198.5.33</td>\n      <td>NaN</td>\n    </tr>\n  </tbody>\n</table>\n<p>261873 rows × 2 columns</p>\n</div>"
     },
     "metadata": {},
     "execution_count": 89
    }
   ],
   "source": [
    "df"
   ]
  },
  {
   "cell_type": "code",
   "execution_count": null,
   "metadata": {
    "tags": [
     "outputPrepend"
    ]
   },
   "outputs": [],
   "source": [
    "# Compare ips & add location\n",
    "'''start = time.monotonic()\n",
    "\n",
    "IP_locations = []\n",
    "count = 1\n",
    "\n",
    "for index, row in Ips_copy.iterrows():\n",
    "    \n",
    "    # iterate the two lists\n",
    "    for a, b in zip(ips, locations):\n",
    "        \n",
    "        # Compare & add\n",
    "        if row.IP == a:\n",
    "            IP_locations.append(b)  \n",
    "            print(b, count)\n",
    "            count += 1\n",
    "\n",
    "end = time.monotonic()\n",
    "\n",
    "print(timedelta(seconds = end - start))'''"
   ]
  },
  {
   "cell_type": "code",
   "execution_count": 91,
   "metadata": {},
   "outputs": [],
   "source": [
    "Locations_export= df.Locations.copy()\n",
    "\n",
    "Locations_export.replace('', 'null', inplace = True)\n",
    "\n",
    "Locations_export.to_csv('../Data/Locations_export.csv', index = False)"
   ]
  }
 ]
}