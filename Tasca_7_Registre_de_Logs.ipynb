{
 "cells": [
  {
   "cell_type": "markdown",
   "metadata": {},
   "source": [
    "# IT Academy - Data Science amb Python\n",
    "## Tasca 7: Estructura de control\n",
    "\n",
    "###  [Github Registre de Logs](https://github.com/jesussantana/Registre_de_logs)"
   ]
  },
  {
   "cell_type": "markdown",
   "metadata": {},
   "source": [
    "###  Exercici 1\n",
    "- Normalitza, identifica i enumera cada un dels atributs / variables de l'estructura de l'arxiu \"Web_access_log-akumenius.com\" que trobaràs al repositori de GitHub \"Data-sources\"."
   ]
  },
  {
   "cell_type": "code",
   "execution_count": 1,
   "metadata": {},
   "outputs": [],
   "source": [
    "import numpy as np\n",
    "import pandas as pd\n",
    "import requests\n",
    "import pickle\n",
    "import json\n",
    "import time\n",
    "import re\n",
    "\n",
    "from datetime import datetime\n",
    "from datetime import timedelta\n",
    "from joblib import Parallel, delayed\n",
    "from urllib.request import urlopen\n",
    "\n",
    "pd.set_option('display.max_columns', None)"
   ]
  },
  {
   "source": [
    "- We load the data to check how it has been distributed\n",
    "  - The variables that we will use:\n",
    "    - 'DNS','IP','Date','Time','Request','Status','Size','Referer','UserAgent'"
   ],
   "cell_type": "markdown",
   "metadata": {}
  },
  {
   "cell_type": "code",
   "execution_count": 2,
   "metadata": {},
   "outputs": [
    {
     "output_type": "execute_result",
     "data": {
      "text/plain": [
       "                   DNS                              IP  \\\n",
       "0  localhost 127.0.0.1  - [23/Feb/2014:03:10:31 +0100]   \n",
       "1  localhost 127.0.0.1  - [23/Feb/2014:03:10:31 +0100]   \n",
       "2  localhost 127.0.0.1  - [23/Feb/2014:03:10:31 +0100]   \n",
       "3  localhost 127.0.0.1  - [23/Feb/2014:03:10:31 +0100]   \n",
       "4  localhost 127.0.0.1  - [23/Feb/2014:03:10:31 +0100]   \n",
       "\n",
       "                      Date Time                                     Request  \\\n",
       "0  OPTIONS * HTTP/1.0\" 200  \"-\"  Apache (internal dummy connection)\" VLOG=-   \n",
       "1  OPTIONS * HTTP/1.0\" 200  \"-\"  Apache (internal dummy connection)\" VLOG=-   \n",
       "2  OPTIONS * HTTP/1.0\" 200  \"-\"  Apache (internal dummy connection)\" VLOG=-   \n",
       "3  OPTIONS * HTTP/1.0\" 200  \"-\"  Apache (internal dummy connection)\" VLOG=-   \n",
       "4  OPTIONS * HTTP/1.0\" 200  \"-\"  Apache (internal dummy connection)\" VLOG=-   \n",
       "\n",
       "  Status  Size Referer  UserAgent  \n",
       "0   None  None    None        NaN  \n",
       "1   None  None    None        NaN  \n",
       "2   None  None    None        NaN  \n",
       "3   None  None    None        NaN  \n",
       "4   None  None    None        NaN  "
      ],
      "text/html": "<div>\n<style scoped>\n    .dataframe tbody tr th:only-of-type {\n        vertical-align: middle;\n    }\n\n    .dataframe tbody tr th {\n        vertical-align: top;\n    }\n\n    .dataframe thead th {\n        text-align: right;\n    }\n</style>\n<table border=\"1\" class=\"dataframe\">\n  <thead>\n    <tr style=\"text-align: right;\">\n      <th></th>\n      <th>DNS</th>\n      <th>IP</th>\n      <th>Date</th>\n      <th>Time</th>\n      <th>Request</th>\n      <th>Status</th>\n      <th>Size</th>\n      <th>Referer</th>\n      <th>UserAgent</th>\n    </tr>\n  </thead>\n  <tbody>\n    <tr>\n      <th>0</th>\n      <td>localhost 127.0.0.1</td>\n      <td>- [23/Feb/2014:03:10:31 +0100]</td>\n      <td>OPTIONS * HTTP/1.0\" 200</td>\n      <td>\"-\"</td>\n      <td>Apache (internal dummy connection)\" VLOG=-</td>\n      <td>None</td>\n      <td>None</td>\n      <td>None</td>\n      <td>NaN</td>\n    </tr>\n    <tr>\n      <th>1</th>\n      <td>localhost 127.0.0.1</td>\n      <td>- [23/Feb/2014:03:10:31 +0100]</td>\n      <td>OPTIONS * HTTP/1.0\" 200</td>\n      <td>\"-\"</td>\n      <td>Apache (internal dummy connection)\" VLOG=-</td>\n      <td>None</td>\n      <td>None</td>\n      <td>None</td>\n      <td>NaN</td>\n    </tr>\n    <tr>\n      <th>2</th>\n      <td>localhost 127.0.0.1</td>\n      <td>- [23/Feb/2014:03:10:31 +0100]</td>\n      <td>OPTIONS * HTTP/1.0\" 200</td>\n      <td>\"-\"</td>\n      <td>Apache (internal dummy connection)\" VLOG=-</td>\n      <td>None</td>\n      <td>None</td>\n      <td>None</td>\n      <td>NaN</td>\n    </tr>\n    <tr>\n      <th>3</th>\n      <td>localhost 127.0.0.1</td>\n      <td>- [23/Feb/2014:03:10:31 +0100]</td>\n      <td>OPTIONS * HTTP/1.0\" 200</td>\n      <td>\"-\"</td>\n      <td>Apache (internal dummy connection)\" VLOG=-</td>\n      <td>None</td>\n      <td>None</td>\n      <td>None</td>\n      <td>NaN</td>\n    </tr>\n    <tr>\n      <th>4</th>\n      <td>localhost 127.0.0.1</td>\n      <td>- [23/Feb/2014:03:10:31 +0100]</td>\n      <td>OPTIONS * HTTP/1.0\" 200</td>\n      <td>\"-\"</td>\n      <td>Apache (internal dummy connection)\" VLOG=-</td>\n      <td>None</td>\n      <td>None</td>\n      <td>None</td>\n      <td>NaN</td>\n    </tr>\n  </tbody>\n</table>\n</div>"
     },
     "metadata": {},
     "execution_count": 2
    }
   ],
   "source": [
    "path = '../Data/Web_access_log-akumenius.com.txt'\n",
    "\n",
    "Logs_raw = pd.read_csv(path, sep='\\s | \\- | \\\"', names =['DNS','IP','Date','Time','Request','Status','Size','Referer','UserAgent'], engine='python')\n",
    "\n",
    "Logs_copy = Logs_raw.copy()\n",
    "\n",
    "Logs_copy.head()"
   ]
  },
  {
   "cell_type": "markdown",
   "metadata": {},
   "source": [
    "###  Exercici 2\n",
    "- Neteja, preprocesa, estructura i transforma (dataframe) les dades del registre d'Accés a la web."
   ]
  },
  {
   "source": [
    "- Check rows and columns"
   ],
   "cell_type": "markdown",
   "metadata": {}
  },
  {
   "cell_type": "code",
   "execution_count": 3,
   "metadata": {},
   "outputs": [
    {
     "output_type": "execute_result",
     "data": {
      "text/plain": [
       "                                    DNS                              IP  \\\n",
       "261868   www.akumenius.com 5.255.253.53  - [02/Mar/2014:03:05:39 +0100]   \n",
       "261869  www.akumenius.com 74.86.158.107  - [02/Mar/2014:03:09:52 +0100]   \n",
       "261870              localhost 127.0.0.1  - [02/Mar/2014:03:10:18 +0100]   \n",
       "261871              localhost 127.0.0.1  - [02/Mar/2014:03:10:18 +0100]   \n",
       "261872              localhost 127.0.0.1  - [02/Mar/2014:03:10:18 +0100]   \n",
       "\n",
       "                            Date Time  \\\n",
       "261868  GET / HTTP/1.1\" 200 7528   -\"   \n",
       "261869      HEAD / HTTP/1.1\" 200  \"-\"   \n",
       "261870   OPTIONS * HTTP/1.0\" 200  \"-\"   \n",
       "261871   OPTIONS * HTTP/1.0\" 200  \"-\"   \n",
       "261872   OPTIONS * HTTP/1.0\" 200  \"-\"   \n",
       "\n",
       "                                                  Request Status  Size  \\\n",
       "261868  Mozilla/5.0 (compatible; YandexBot/3.0; +http:...   None  None   \n",
       "261869  Mozilla/5.0+(compatible; UptimeRobot/2.0; http...   None  None   \n",
       "261870         Apache (internal dummy connection)\" VLOG=-   None  None   \n",
       "261871         Apache (internal dummy connection)\" VLOG=-   None  None   \n",
       "261872         Apache (internal dummy connection)\" VLOG=-   None  None   \n",
       "\n",
       "       Referer  UserAgent  \n",
       "261868    None        NaN  \n",
       "261869    None        NaN  \n",
       "261870    None        NaN  \n",
       "261871    None        NaN  \n",
       "261872    None        NaN  "
      ],
      "text/html": "<div>\n<style scoped>\n    .dataframe tbody tr th:only-of-type {\n        vertical-align: middle;\n    }\n\n    .dataframe tbody tr th {\n        vertical-align: top;\n    }\n\n    .dataframe thead th {\n        text-align: right;\n    }\n</style>\n<table border=\"1\" class=\"dataframe\">\n  <thead>\n    <tr style=\"text-align: right;\">\n      <th></th>\n      <th>DNS</th>\n      <th>IP</th>\n      <th>Date</th>\n      <th>Time</th>\n      <th>Request</th>\n      <th>Status</th>\n      <th>Size</th>\n      <th>Referer</th>\n      <th>UserAgent</th>\n    </tr>\n  </thead>\n  <tbody>\n    <tr>\n      <th>261868</th>\n      <td>www.akumenius.com 5.255.253.53</td>\n      <td>- [02/Mar/2014:03:05:39 +0100]</td>\n      <td>GET / HTTP/1.1\" 200 7528</td>\n      <td>-\"</td>\n      <td>Mozilla/5.0 (compatible; YandexBot/3.0; +http:...</td>\n      <td>None</td>\n      <td>None</td>\n      <td>None</td>\n      <td>NaN</td>\n    </tr>\n    <tr>\n      <th>261869</th>\n      <td>www.akumenius.com 74.86.158.107</td>\n      <td>- [02/Mar/2014:03:09:52 +0100]</td>\n      <td>HEAD / HTTP/1.1\" 200</td>\n      <td>\"-\"</td>\n      <td>Mozilla/5.0+(compatible; UptimeRobot/2.0; http...</td>\n      <td>None</td>\n      <td>None</td>\n      <td>None</td>\n      <td>NaN</td>\n    </tr>\n    <tr>\n      <th>261870</th>\n      <td>localhost 127.0.0.1</td>\n      <td>- [02/Mar/2014:03:10:18 +0100]</td>\n      <td>OPTIONS * HTTP/1.0\" 200</td>\n      <td>\"-\"</td>\n      <td>Apache (internal dummy connection)\" VLOG=-</td>\n      <td>None</td>\n      <td>None</td>\n      <td>None</td>\n      <td>NaN</td>\n    </tr>\n    <tr>\n      <th>261871</th>\n      <td>localhost 127.0.0.1</td>\n      <td>- [02/Mar/2014:03:10:18 +0100]</td>\n      <td>OPTIONS * HTTP/1.0\" 200</td>\n      <td>\"-\"</td>\n      <td>Apache (internal dummy connection)\" VLOG=-</td>\n      <td>None</td>\n      <td>None</td>\n      <td>None</td>\n      <td>NaN</td>\n    </tr>\n    <tr>\n      <th>261872</th>\n      <td>localhost 127.0.0.1</td>\n      <td>- [02/Mar/2014:03:10:18 +0100]</td>\n      <td>OPTIONS * HTTP/1.0\" 200</td>\n      <td>\"-\"</td>\n      <td>Apache (internal dummy connection)\" VLOG=-</td>\n      <td>None</td>\n      <td>None</td>\n      <td>None</td>\n      <td>NaN</td>\n    </tr>\n  </tbody>\n</table>\n</div>"
     },
     "metadata": {},
     "execution_count": 3
    }
   ],
   "source": [
    "Logs_copy.tail()"
   ]
  },
  {
   "cell_type": "code",
   "execution_count": 4,
   "metadata": {},
   "outputs": [
    {
     "output_type": "execute_result",
     "data": {
      "text/plain": [
       "(261873, 9)"
      ]
     },
     "metadata": {},
     "execution_count": 4
    }
   ],
   "source": [
    "Logs_copy.shape"
   ]
  },
  {
   "source": [
    "- Check for null data"
   ],
   "cell_type": "markdown",
   "metadata": {}
  },
  {
   "cell_type": "code",
   "execution_count": 5,
   "metadata": {},
   "outputs": [
    {
     "output_type": "execute_result",
     "data": {
      "text/plain": [
       "DNS               0\n",
       "IP                0\n",
       "Date              0\n",
       "Time              0\n",
       "Request           0\n",
       "Status       261387\n",
       "Size         261872\n",
       "Referer      261872\n",
       "UserAgent    261873\n",
       "dtype: int64"
      ]
     },
     "metadata": {},
     "execution_count": 5
    }
   ],
   "source": [
    "Logs_copy.isnull().sum()"
   ]
  },
  {
   "cell_type": "code",
   "execution_count": 6,
   "metadata": {},
   "outputs": [
    {
     "output_type": "execute_result",
     "data": {
      "text/plain": [
       "                   DNS                              IP  \\\n",
       "0  localhost 127.0.0.1  - [23/Feb/2014:03:10:31 +0100]   \n",
       "1  localhost 127.0.0.1  - [23/Feb/2014:03:10:31 +0100]   \n",
       "2  localhost 127.0.0.1  - [23/Feb/2014:03:10:31 +0100]   \n",
       "3  localhost 127.0.0.1  - [23/Feb/2014:03:10:31 +0100]   \n",
       "4  localhost 127.0.0.1  - [23/Feb/2014:03:10:31 +0100]   \n",
       "\n",
       "                      Date Time                                     Request  \\\n",
       "0  OPTIONS * HTTP/1.0\" 200  \"-\"  Apache (internal dummy connection)\" VLOG=-   \n",
       "1  OPTIONS * HTTP/1.0\" 200  \"-\"  Apache (internal dummy connection)\" VLOG=-   \n",
       "2  OPTIONS * HTTP/1.0\" 200  \"-\"  Apache (internal dummy connection)\" VLOG=-   \n",
       "3  OPTIONS * HTTP/1.0\" 200  \"-\"  Apache (internal dummy connection)\" VLOG=-   \n",
       "4  OPTIONS * HTTP/1.0\" 200  \"-\"  Apache (internal dummy connection)\" VLOG=-   \n",
       "\n",
       "  Status  Size Referer  UserAgent  \n",
       "0   None  None    None        NaN  \n",
       "1   None  None    None        NaN  \n",
       "2   None  None    None        NaN  \n",
       "3   None  None    None        NaN  \n",
       "4   None  None    None        NaN  "
      ],
      "text/html": "<div>\n<style scoped>\n    .dataframe tbody tr th:only-of-type {\n        vertical-align: middle;\n    }\n\n    .dataframe tbody tr th {\n        vertical-align: top;\n    }\n\n    .dataframe thead th {\n        text-align: right;\n    }\n</style>\n<table border=\"1\" class=\"dataframe\">\n  <thead>\n    <tr style=\"text-align: right;\">\n      <th></th>\n      <th>DNS</th>\n      <th>IP</th>\n      <th>Date</th>\n      <th>Time</th>\n      <th>Request</th>\n      <th>Status</th>\n      <th>Size</th>\n      <th>Referer</th>\n      <th>UserAgent</th>\n    </tr>\n  </thead>\n  <tbody>\n    <tr>\n      <th>0</th>\n      <td>localhost 127.0.0.1</td>\n      <td>- [23/Feb/2014:03:10:31 +0100]</td>\n      <td>OPTIONS * HTTP/1.0\" 200</td>\n      <td>\"-\"</td>\n      <td>Apache (internal dummy connection)\" VLOG=-</td>\n      <td>None</td>\n      <td>None</td>\n      <td>None</td>\n      <td>NaN</td>\n    </tr>\n    <tr>\n      <th>1</th>\n      <td>localhost 127.0.0.1</td>\n      <td>- [23/Feb/2014:03:10:31 +0100]</td>\n      <td>OPTIONS * HTTP/1.0\" 200</td>\n      <td>\"-\"</td>\n      <td>Apache (internal dummy connection)\" VLOG=-</td>\n      <td>None</td>\n      <td>None</td>\n      <td>None</td>\n      <td>NaN</td>\n    </tr>\n    <tr>\n      <th>2</th>\n      <td>localhost 127.0.0.1</td>\n      <td>- [23/Feb/2014:03:10:31 +0100]</td>\n      <td>OPTIONS * HTTP/1.0\" 200</td>\n      <td>\"-\"</td>\n      <td>Apache (internal dummy connection)\" VLOG=-</td>\n      <td>None</td>\n      <td>None</td>\n      <td>None</td>\n      <td>NaN</td>\n    </tr>\n    <tr>\n      <th>3</th>\n      <td>localhost 127.0.0.1</td>\n      <td>- [23/Feb/2014:03:10:31 +0100]</td>\n      <td>OPTIONS * HTTP/1.0\" 200</td>\n      <td>\"-\"</td>\n      <td>Apache (internal dummy connection)\" VLOG=-</td>\n      <td>None</td>\n      <td>None</td>\n      <td>None</td>\n      <td>NaN</td>\n    </tr>\n    <tr>\n      <th>4</th>\n      <td>localhost 127.0.0.1</td>\n      <td>- [23/Feb/2014:03:10:31 +0100]</td>\n      <td>OPTIONS * HTTP/1.0\" 200</td>\n      <td>\"-\"</td>\n      <td>Apache (internal dummy connection)\" VLOG=-</td>\n      <td>None</td>\n      <td>None</td>\n      <td>None</td>\n      <td>NaN</td>\n    </tr>\n  </tbody>\n</table>\n</div>"
     },
     "metadata": {},
     "execution_count": 6
    }
   ],
   "source": [
    "Logs_copy.head()"
   ]
  },
  {
   "cell_type": "code",
   "execution_count": 7,
   "metadata": {},
   "outputs": [
    {
     "output_type": "execute_result",
     "data": {
      "text/plain": [
       "                                    DNS                              IP  \\\n",
       "261868   www.akumenius.com 5.255.253.53  - [02/Mar/2014:03:05:39 +0100]   \n",
       "261869  www.akumenius.com 74.86.158.107  - [02/Mar/2014:03:09:52 +0100]   \n",
       "261870              localhost 127.0.0.1  - [02/Mar/2014:03:10:18 +0100]   \n",
       "261871              localhost 127.0.0.1  - [02/Mar/2014:03:10:18 +0100]   \n",
       "261872              localhost 127.0.0.1  - [02/Mar/2014:03:10:18 +0100]   \n",
       "\n",
       "                            Date Time  \\\n",
       "261868  GET / HTTP/1.1\" 200 7528   -\"   \n",
       "261869      HEAD / HTTP/1.1\" 200  \"-\"   \n",
       "261870   OPTIONS * HTTP/1.0\" 200  \"-\"   \n",
       "261871   OPTIONS * HTTP/1.0\" 200  \"-\"   \n",
       "261872   OPTIONS * HTTP/1.0\" 200  \"-\"   \n",
       "\n",
       "                                                  Request Status  Size  \\\n",
       "261868  Mozilla/5.0 (compatible; YandexBot/3.0; +http:...   None  None   \n",
       "261869  Mozilla/5.0+(compatible; UptimeRobot/2.0; http...   None  None   \n",
       "261870         Apache (internal dummy connection)\" VLOG=-   None  None   \n",
       "261871         Apache (internal dummy connection)\" VLOG=-   None  None   \n",
       "261872         Apache (internal dummy connection)\" VLOG=-   None  None   \n",
       "\n",
       "       Referer  UserAgent  \n",
       "261868    None        NaN  \n",
       "261869    None        NaN  \n",
       "261870    None        NaN  \n",
       "261871    None        NaN  \n",
       "261872    None        NaN  "
      ],
      "text/html": "<div>\n<style scoped>\n    .dataframe tbody tr th:only-of-type {\n        vertical-align: middle;\n    }\n\n    .dataframe tbody tr th {\n        vertical-align: top;\n    }\n\n    .dataframe thead th {\n        text-align: right;\n    }\n</style>\n<table border=\"1\" class=\"dataframe\">\n  <thead>\n    <tr style=\"text-align: right;\">\n      <th></th>\n      <th>DNS</th>\n      <th>IP</th>\n      <th>Date</th>\n      <th>Time</th>\n      <th>Request</th>\n      <th>Status</th>\n      <th>Size</th>\n      <th>Referer</th>\n      <th>UserAgent</th>\n    </tr>\n  </thead>\n  <tbody>\n    <tr>\n      <th>261868</th>\n      <td>www.akumenius.com 5.255.253.53</td>\n      <td>- [02/Mar/2014:03:05:39 +0100]</td>\n      <td>GET / HTTP/1.1\" 200 7528</td>\n      <td>-\"</td>\n      <td>Mozilla/5.0 (compatible; YandexBot/3.0; +http:...</td>\n      <td>None</td>\n      <td>None</td>\n      <td>None</td>\n      <td>NaN</td>\n    </tr>\n    <tr>\n      <th>261869</th>\n      <td>www.akumenius.com 74.86.158.107</td>\n      <td>- [02/Mar/2014:03:09:52 +0100]</td>\n      <td>HEAD / HTTP/1.1\" 200</td>\n      <td>\"-\"</td>\n      <td>Mozilla/5.0+(compatible; UptimeRobot/2.0; http...</td>\n      <td>None</td>\n      <td>None</td>\n      <td>None</td>\n      <td>NaN</td>\n    </tr>\n    <tr>\n      <th>261870</th>\n      <td>localhost 127.0.0.1</td>\n      <td>- [02/Mar/2014:03:10:18 +0100]</td>\n      <td>OPTIONS * HTTP/1.0\" 200</td>\n      <td>\"-\"</td>\n      <td>Apache (internal dummy connection)\" VLOG=-</td>\n      <td>None</td>\n      <td>None</td>\n      <td>None</td>\n      <td>NaN</td>\n    </tr>\n    <tr>\n      <th>261871</th>\n      <td>localhost 127.0.0.1</td>\n      <td>- [02/Mar/2014:03:10:18 +0100]</td>\n      <td>OPTIONS * HTTP/1.0\" 200</td>\n      <td>\"-\"</td>\n      <td>Apache (internal dummy connection)\" VLOG=-</td>\n      <td>None</td>\n      <td>None</td>\n      <td>None</td>\n      <td>NaN</td>\n    </tr>\n    <tr>\n      <th>261872</th>\n      <td>localhost 127.0.0.1</td>\n      <td>- [02/Mar/2014:03:10:18 +0100]</td>\n      <td>OPTIONS * HTTP/1.0\" 200</td>\n      <td>\"-\"</td>\n      <td>Apache (internal dummy connection)\" VLOG=-</td>\n      <td>None</td>\n      <td>None</td>\n      <td>None</td>\n      <td>NaN</td>\n    </tr>\n  </tbody>\n</table>\n</div>"
     },
     "metadata": {},
     "execution_count": 7
    }
   ],
   "source": [
    "Logs_copy.tail()"
   ]
  },
  {
   "source": [
    "- Reorder columns of data"
   ],
   "cell_type": "markdown",
   "metadata": {}
  },
  {
   "cell_type": "code",
   "execution_count": 8,
   "metadata": {
    "scrolled": true
   },
   "outputs": [
    {
     "output_type": "execute_result",
     "data": {
      "text/plain": [
       "                   DNS  IP                            Date  Time  \\\n",
       "0  localhost 127.0.0.1 NaN  - [23/Feb/2014:03:10:31 +0100]   NaN   \n",
       "1  localhost 127.0.0.1 NaN  - [23/Feb/2014:03:10:31 +0100]   NaN   \n",
       "2  localhost 127.0.0.1 NaN  - [23/Feb/2014:03:10:31 +0100]   NaN   \n",
       "3  localhost 127.0.0.1 NaN  - [23/Feb/2014:03:10:31 +0100]   NaN   \n",
       "4  localhost 127.0.0.1 NaN  - [23/Feb/2014:03:10:31 +0100]   NaN   \n",
       "\n",
       "                   Request Status  Size Referer  \\\n",
       "0  OPTIONS * HTTP/1.0\" 200   None  None     \"-\"   \n",
       "1  OPTIONS * HTTP/1.0\" 200   None  None     \"-\"   \n",
       "2  OPTIONS * HTTP/1.0\" 200   None  None     \"-\"   \n",
       "3  OPTIONS * HTTP/1.0\" 200   None  None     \"-\"   \n",
       "4  OPTIONS * HTTP/1.0\" 200   None  None     \"-\"   \n",
       "\n",
       "                                    UserAgent  \n",
       "0  Apache (internal dummy connection)\" VLOG=-  \n",
       "1  Apache (internal dummy connection)\" VLOG=-  \n",
       "2  Apache (internal dummy connection)\" VLOG=-  \n",
       "3  Apache (internal dummy connection)\" VLOG=-  \n",
       "4  Apache (internal dummy connection)\" VLOG=-  "
      ],
      "text/html": "<div>\n<style scoped>\n    .dataframe tbody tr th:only-of-type {\n        vertical-align: middle;\n    }\n\n    .dataframe tbody tr th {\n        vertical-align: top;\n    }\n\n    .dataframe thead th {\n        text-align: right;\n    }\n</style>\n<table border=\"1\" class=\"dataframe\">\n  <thead>\n    <tr style=\"text-align: right;\">\n      <th></th>\n      <th>DNS</th>\n      <th>IP</th>\n      <th>Date</th>\n      <th>Time</th>\n      <th>Request</th>\n      <th>Status</th>\n      <th>Size</th>\n      <th>Referer</th>\n      <th>UserAgent</th>\n    </tr>\n  </thead>\n  <tbody>\n    <tr>\n      <th>0</th>\n      <td>localhost 127.0.0.1</td>\n      <td>NaN</td>\n      <td>- [23/Feb/2014:03:10:31 +0100]</td>\n      <td>NaN</td>\n      <td>OPTIONS * HTTP/1.0\" 200</td>\n      <td>None</td>\n      <td>None</td>\n      <td>\"-\"</td>\n      <td>Apache (internal dummy connection)\" VLOG=-</td>\n    </tr>\n    <tr>\n      <th>1</th>\n      <td>localhost 127.0.0.1</td>\n      <td>NaN</td>\n      <td>- [23/Feb/2014:03:10:31 +0100]</td>\n      <td>NaN</td>\n      <td>OPTIONS * HTTP/1.0\" 200</td>\n      <td>None</td>\n      <td>None</td>\n      <td>\"-\"</td>\n      <td>Apache (internal dummy connection)\" VLOG=-</td>\n    </tr>\n    <tr>\n      <th>2</th>\n      <td>localhost 127.0.0.1</td>\n      <td>NaN</td>\n      <td>- [23/Feb/2014:03:10:31 +0100]</td>\n      <td>NaN</td>\n      <td>OPTIONS * HTTP/1.0\" 200</td>\n      <td>None</td>\n      <td>None</td>\n      <td>\"-\"</td>\n      <td>Apache (internal dummy connection)\" VLOG=-</td>\n    </tr>\n    <tr>\n      <th>3</th>\n      <td>localhost 127.0.0.1</td>\n      <td>NaN</td>\n      <td>- [23/Feb/2014:03:10:31 +0100]</td>\n      <td>NaN</td>\n      <td>OPTIONS * HTTP/1.0\" 200</td>\n      <td>None</td>\n      <td>None</td>\n      <td>\"-\"</td>\n      <td>Apache (internal dummy connection)\" VLOG=-</td>\n    </tr>\n    <tr>\n      <th>4</th>\n      <td>localhost 127.0.0.1</td>\n      <td>NaN</td>\n      <td>- [23/Feb/2014:03:10:31 +0100]</td>\n      <td>NaN</td>\n      <td>OPTIONS * HTTP/1.0\" 200</td>\n      <td>None</td>\n      <td>None</td>\n      <td>\"-\"</td>\n      <td>Apache (internal dummy connection)\" VLOG=-</td>\n    </tr>\n  </tbody>\n</table>\n</div>"
     },
     "metadata": {},
     "execution_count": 8
    }
   ],
   "source": [
    "Logs_copy.UserAgent = Logs_copy.Request\n",
    "Logs_copy.Request = Logs_copy.Date\n",
    "Logs_copy.Referer = Logs_copy.Time\n",
    "Logs_copy.Date = Logs_copy.IP\n",
    "Logs_copy.Time = Logs_copy.IP = np.nan\n",
    "\n",
    "Logs_copy.head()"
   ]
  },
  {
   "source": [
    "- DNS & IP data split"
   ],
   "cell_type": "markdown",
   "metadata": {}
  },
  {
   "cell_type": "code",
   "execution_count": 9,
   "metadata": {},
   "outputs": [],
   "source": [
    "Logs_copy[['DNS','IP']] = Logs_copy.DNS.str.split('\\s', expand = True).get([0, 1])"
   ]
  },
  {
   "cell_type": "code",
   "execution_count": 10,
   "metadata": {},
   "outputs": [
    {
     "output_type": "execute_result",
     "data": {
      "text/plain": [
       "         DNS         IP                            Date  Time  \\\n",
       "0  localhost  127.0.0.1  - [23/Feb/2014:03:10:31 +0100]   NaN   \n",
       "1  localhost  127.0.0.1  - [23/Feb/2014:03:10:31 +0100]   NaN   \n",
       "2  localhost  127.0.0.1  - [23/Feb/2014:03:10:31 +0100]   NaN   \n",
       "3  localhost  127.0.0.1  - [23/Feb/2014:03:10:31 +0100]   NaN   \n",
       "4  localhost  127.0.0.1  - [23/Feb/2014:03:10:31 +0100]   NaN   \n",
       "\n",
       "                   Request Status  Size Referer  \\\n",
       "0  OPTIONS * HTTP/1.0\" 200   None  None     \"-\"   \n",
       "1  OPTIONS * HTTP/1.0\" 200   None  None     \"-\"   \n",
       "2  OPTIONS * HTTP/1.0\" 200   None  None     \"-\"   \n",
       "3  OPTIONS * HTTP/1.0\" 200   None  None     \"-\"   \n",
       "4  OPTIONS * HTTP/1.0\" 200   None  None     \"-\"   \n",
       "\n",
       "                                    UserAgent  \n",
       "0  Apache (internal dummy connection)\" VLOG=-  \n",
       "1  Apache (internal dummy connection)\" VLOG=-  \n",
       "2  Apache (internal dummy connection)\" VLOG=-  \n",
       "3  Apache (internal dummy connection)\" VLOG=-  \n",
       "4  Apache (internal dummy connection)\" VLOG=-  "
      ],
      "text/html": "<div>\n<style scoped>\n    .dataframe tbody tr th:only-of-type {\n        vertical-align: middle;\n    }\n\n    .dataframe tbody tr th {\n        vertical-align: top;\n    }\n\n    .dataframe thead th {\n        text-align: right;\n    }\n</style>\n<table border=\"1\" class=\"dataframe\">\n  <thead>\n    <tr style=\"text-align: right;\">\n      <th></th>\n      <th>DNS</th>\n      <th>IP</th>\n      <th>Date</th>\n      <th>Time</th>\n      <th>Request</th>\n      <th>Status</th>\n      <th>Size</th>\n      <th>Referer</th>\n      <th>UserAgent</th>\n    </tr>\n  </thead>\n  <tbody>\n    <tr>\n      <th>0</th>\n      <td>localhost</td>\n      <td>127.0.0.1</td>\n      <td>- [23/Feb/2014:03:10:31 +0100]</td>\n      <td>NaN</td>\n      <td>OPTIONS * HTTP/1.0\" 200</td>\n      <td>None</td>\n      <td>None</td>\n      <td>\"-\"</td>\n      <td>Apache (internal dummy connection)\" VLOG=-</td>\n    </tr>\n    <tr>\n      <th>1</th>\n      <td>localhost</td>\n      <td>127.0.0.1</td>\n      <td>- [23/Feb/2014:03:10:31 +0100]</td>\n      <td>NaN</td>\n      <td>OPTIONS * HTTP/1.0\" 200</td>\n      <td>None</td>\n      <td>None</td>\n      <td>\"-\"</td>\n      <td>Apache (internal dummy connection)\" VLOG=-</td>\n    </tr>\n    <tr>\n      <th>2</th>\n      <td>localhost</td>\n      <td>127.0.0.1</td>\n      <td>- [23/Feb/2014:03:10:31 +0100]</td>\n      <td>NaN</td>\n      <td>OPTIONS * HTTP/1.0\" 200</td>\n      <td>None</td>\n      <td>None</td>\n      <td>\"-\"</td>\n      <td>Apache (internal dummy connection)\" VLOG=-</td>\n    </tr>\n    <tr>\n      <th>3</th>\n      <td>localhost</td>\n      <td>127.0.0.1</td>\n      <td>- [23/Feb/2014:03:10:31 +0100]</td>\n      <td>NaN</td>\n      <td>OPTIONS * HTTP/1.0\" 200</td>\n      <td>None</td>\n      <td>None</td>\n      <td>\"-\"</td>\n      <td>Apache (internal dummy connection)\" VLOG=-</td>\n    </tr>\n    <tr>\n      <th>4</th>\n      <td>localhost</td>\n      <td>127.0.0.1</td>\n      <td>- [23/Feb/2014:03:10:31 +0100]</td>\n      <td>NaN</td>\n      <td>OPTIONS * HTTP/1.0\" 200</td>\n      <td>None</td>\n      <td>None</td>\n      <td>\"-\"</td>\n      <td>Apache (internal dummy connection)\" VLOG=-</td>\n    </tr>\n  </tbody>\n</table>\n</div>"
     },
     "metadata": {},
     "execution_count": 10
    }
   ],
   "source": [
    "Logs_copy.head()"
   ]
  },
  {
   "source": [
    "- Check how many different Ips exist"
   ],
   "cell_type": "markdown",
   "metadata": {}
  },
  {
   "cell_type": "code",
   "execution_count": 11,
   "metadata": {},
   "outputs": [
    {
     "output_type": "execute_result",
     "data": {
      "text/plain": [
       "array(['localhost', 'www.akumenius.com', 'akumenius.com', 'akumenius.es',\n",
       "       'test.akumenius.com'], dtype=object)"
      ]
     },
     "metadata": {},
     "execution_count": 11
    }
   ],
   "source": [
    "Logs_copy.DNS.unique()"
   ]
  },
  {
   "cell_type": "code",
   "execution_count": 12,
   "metadata": {},
   "outputs": [
    {
     "output_type": "execute_result",
     "data": {
      "text/plain": [
       "2921"
      ]
     },
     "metadata": {},
     "execution_count": 12
    }
   ],
   "source": [
    "len(Logs_copy.IP.unique())"
   ]
  },
  {
   "source": [
    "- Time data extraction"
   ],
   "cell_type": "markdown",
   "metadata": {}
  },
  {
   "cell_type": "code",
   "execution_count": 13,
   "metadata": {},
   "outputs": [
    {
     "output_type": "execute_result",
     "data": {
      "text/plain": [
       "         DNS         IP                            Date            Time  \\\n",
       "0  localhost  127.0.0.1  - [23/Feb/2014:03:10:31 +0100]  03:10:31 +0100   \n",
       "1  localhost  127.0.0.1  - [23/Feb/2014:03:10:31 +0100]  03:10:31 +0100   \n",
       "2  localhost  127.0.0.1  - [23/Feb/2014:03:10:31 +0100]  03:10:31 +0100   \n",
       "3  localhost  127.0.0.1  - [23/Feb/2014:03:10:31 +0100]  03:10:31 +0100   \n",
       "4  localhost  127.0.0.1  - [23/Feb/2014:03:10:31 +0100]  03:10:31 +0100   \n",
       "\n",
       "                   Request Status  Size Referer  \\\n",
       "0  OPTIONS * HTTP/1.0\" 200   None  None     \"-\"   \n",
       "1  OPTIONS * HTTP/1.0\" 200   None  None     \"-\"   \n",
       "2  OPTIONS * HTTP/1.0\" 200   None  None     \"-\"   \n",
       "3  OPTIONS * HTTP/1.0\" 200   None  None     \"-\"   \n",
       "4  OPTIONS * HTTP/1.0\" 200   None  None     \"-\"   \n",
       "\n",
       "                                    UserAgent  \n",
       "0  Apache (internal dummy connection)\" VLOG=-  \n",
       "1  Apache (internal dummy connection)\" VLOG=-  \n",
       "2  Apache (internal dummy connection)\" VLOG=-  \n",
       "3  Apache (internal dummy connection)\" VLOG=-  \n",
       "4  Apache (internal dummy connection)\" VLOG=-  "
      ],
      "text/html": "<div>\n<style scoped>\n    .dataframe tbody tr th:only-of-type {\n        vertical-align: middle;\n    }\n\n    .dataframe tbody tr th {\n        vertical-align: top;\n    }\n\n    .dataframe thead th {\n        text-align: right;\n    }\n</style>\n<table border=\"1\" class=\"dataframe\">\n  <thead>\n    <tr style=\"text-align: right;\">\n      <th></th>\n      <th>DNS</th>\n      <th>IP</th>\n      <th>Date</th>\n      <th>Time</th>\n      <th>Request</th>\n      <th>Status</th>\n      <th>Size</th>\n      <th>Referer</th>\n      <th>UserAgent</th>\n    </tr>\n  </thead>\n  <tbody>\n    <tr>\n      <th>0</th>\n      <td>localhost</td>\n      <td>127.0.0.1</td>\n      <td>- [23/Feb/2014:03:10:31 +0100]</td>\n      <td>03:10:31 +0100</td>\n      <td>OPTIONS * HTTP/1.0\" 200</td>\n      <td>None</td>\n      <td>None</td>\n      <td>\"-\"</td>\n      <td>Apache (internal dummy connection)\" VLOG=-</td>\n    </tr>\n    <tr>\n      <th>1</th>\n      <td>localhost</td>\n      <td>127.0.0.1</td>\n      <td>- [23/Feb/2014:03:10:31 +0100]</td>\n      <td>03:10:31 +0100</td>\n      <td>OPTIONS * HTTP/1.0\" 200</td>\n      <td>None</td>\n      <td>None</td>\n      <td>\"-\"</td>\n      <td>Apache (internal dummy connection)\" VLOG=-</td>\n    </tr>\n    <tr>\n      <th>2</th>\n      <td>localhost</td>\n      <td>127.0.0.1</td>\n      <td>- [23/Feb/2014:03:10:31 +0100]</td>\n      <td>03:10:31 +0100</td>\n      <td>OPTIONS * HTTP/1.0\" 200</td>\n      <td>None</td>\n      <td>None</td>\n      <td>\"-\"</td>\n      <td>Apache (internal dummy connection)\" VLOG=-</td>\n    </tr>\n    <tr>\n      <th>3</th>\n      <td>localhost</td>\n      <td>127.0.0.1</td>\n      <td>- [23/Feb/2014:03:10:31 +0100]</td>\n      <td>03:10:31 +0100</td>\n      <td>OPTIONS * HTTP/1.0\" 200</td>\n      <td>None</td>\n      <td>None</td>\n      <td>\"-\"</td>\n      <td>Apache (internal dummy connection)\" VLOG=-</td>\n    </tr>\n    <tr>\n      <th>4</th>\n      <td>localhost</td>\n      <td>127.0.0.1</td>\n      <td>- [23/Feb/2014:03:10:31 +0100]</td>\n      <td>03:10:31 +0100</td>\n      <td>OPTIONS * HTTP/1.0\" 200</td>\n      <td>None</td>\n      <td>None</td>\n      <td>\"-\"</td>\n      <td>Apache (internal dummy connection)\" VLOG=-</td>\n    </tr>\n  </tbody>\n</table>\n</div>"
     },
     "metadata": {},
     "execution_count": 13
    }
   ],
   "source": [
    "Logs_copy.Time = Logs_copy.Date.str.extract(':(\\d{2}:\\d{2}:\\d{2}.*)]')\n",
    "\n",
    "#Logs_copy.Time = pd.to_datetime(Logs_copy.Time, format = '%H:%M:%S %z')\n",
    "Logs_copy.head()"
   ]
  },
  {
   "source": [
    "- Date data extraction"
   ],
   "cell_type": "markdown",
   "metadata": {}
  },
  {
   "cell_type": "code",
   "execution_count": 14,
   "metadata": {},
   "outputs": [],
   "source": [
    "Logs_copy.Date = Logs_copy.Date.str.extract('(\\d+/\\w+/\\d+)')\n",
    "\n",
    "#Logs_copy.Date = pd.to_datetime(Logs_copy.Date, format = '%d/%b/%Y')"
   ]
  },
  {
   "cell_type": "code",
   "execution_count": 15,
   "metadata": {
    "scrolled": true
   },
   "outputs": [
    {
     "output_type": "execute_result",
     "data": {
      "text/plain": [
       "         DNS         IP         Date            Time                  Request  \\\n",
       "0  localhost  127.0.0.1  23/Feb/2014  03:10:31 +0100  OPTIONS * HTTP/1.0\" 200   \n",
       "1  localhost  127.0.0.1  23/Feb/2014  03:10:31 +0100  OPTIONS * HTTP/1.0\" 200   \n",
       "2  localhost  127.0.0.1  23/Feb/2014  03:10:31 +0100  OPTIONS * HTTP/1.0\" 200   \n",
       "3  localhost  127.0.0.1  23/Feb/2014  03:10:31 +0100  OPTIONS * HTTP/1.0\" 200   \n",
       "4  localhost  127.0.0.1  23/Feb/2014  03:10:31 +0100  OPTIONS * HTTP/1.0\" 200   \n",
       "\n",
       "  Status  Size Referer                                   UserAgent  \n",
       "0   None  None     \"-\"  Apache (internal dummy connection)\" VLOG=-  \n",
       "1   None  None     \"-\"  Apache (internal dummy connection)\" VLOG=-  \n",
       "2   None  None     \"-\"  Apache (internal dummy connection)\" VLOG=-  \n",
       "3   None  None     \"-\"  Apache (internal dummy connection)\" VLOG=-  \n",
       "4   None  None     \"-\"  Apache (internal dummy connection)\" VLOG=-  "
      ],
      "text/html": "<div>\n<style scoped>\n    .dataframe tbody tr th:only-of-type {\n        vertical-align: middle;\n    }\n\n    .dataframe tbody tr th {\n        vertical-align: top;\n    }\n\n    .dataframe thead th {\n        text-align: right;\n    }\n</style>\n<table border=\"1\" class=\"dataframe\">\n  <thead>\n    <tr style=\"text-align: right;\">\n      <th></th>\n      <th>DNS</th>\n      <th>IP</th>\n      <th>Date</th>\n      <th>Time</th>\n      <th>Request</th>\n      <th>Status</th>\n      <th>Size</th>\n      <th>Referer</th>\n      <th>UserAgent</th>\n    </tr>\n  </thead>\n  <tbody>\n    <tr>\n      <th>0</th>\n      <td>localhost</td>\n      <td>127.0.0.1</td>\n      <td>23/Feb/2014</td>\n      <td>03:10:31 +0100</td>\n      <td>OPTIONS * HTTP/1.0\" 200</td>\n      <td>None</td>\n      <td>None</td>\n      <td>\"-\"</td>\n      <td>Apache (internal dummy connection)\" VLOG=-</td>\n    </tr>\n    <tr>\n      <th>1</th>\n      <td>localhost</td>\n      <td>127.0.0.1</td>\n      <td>23/Feb/2014</td>\n      <td>03:10:31 +0100</td>\n      <td>OPTIONS * HTTP/1.0\" 200</td>\n      <td>None</td>\n      <td>None</td>\n      <td>\"-\"</td>\n      <td>Apache (internal dummy connection)\" VLOG=-</td>\n    </tr>\n    <tr>\n      <th>2</th>\n      <td>localhost</td>\n      <td>127.0.0.1</td>\n      <td>23/Feb/2014</td>\n      <td>03:10:31 +0100</td>\n      <td>OPTIONS * HTTP/1.0\" 200</td>\n      <td>None</td>\n      <td>None</td>\n      <td>\"-\"</td>\n      <td>Apache (internal dummy connection)\" VLOG=-</td>\n    </tr>\n    <tr>\n      <th>3</th>\n      <td>localhost</td>\n      <td>127.0.0.1</td>\n      <td>23/Feb/2014</td>\n      <td>03:10:31 +0100</td>\n      <td>OPTIONS * HTTP/1.0\" 200</td>\n      <td>None</td>\n      <td>None</td>\n      <td>\"-\"</td>\n      <td>Apache (internal dummy connection)\" VLOG=-</td>\n    </tr>\n    <tr>\n      <th>4</th>\n      <td>localhost</td>\n      <td>127.0.0.1</td>\n      <td>23/Feb/2014</td>\n      <td>03:10:31 +0100</td>\n      <td>OPTIONS * HTTP/1.0\" 200</td>\n      <td>None</td>\n      <td>None</td>\n      <td>\"-\"</td>\n      <td>Apache (internal dummy connection)\" VLOG=-</td>\n    </tr>\n  </tbody>\n</table>\n</div>"
     },
     "metadata": {},
     "execution_count": 15
    }
   ],
   "source": [
    "Logs_copy.head()"
   ]
  },
  {
   "source": [
    "- Request & Status data split"
   ],
   "cell_type": "markdown",
   "metadata": {}
  },
  {
   "cell_type": "code",
   "execution_count": 16,
   "metadata": {},
   "outputs": [],
   "source": [
    "Logs_copy[['Request','Status']] = Logs_copy.Request.str.split('\\\"', expand = True).get([0, 1])"
   ]
  },
  {
   "cell_type": "code",
   "execution_count": 17,
   "metadata": {},
   "outputs": [
    {
     "output_type": "execute_result",
     "data": {
      "text/plain": [
       "                      DNS             IP         Date            Time  \\\n",
       "261868  www.akumenius.com   5.255.253.53  02/Mar/2014  03:05:39 +0100   \n",
       "261869  www.akumenius.com  74.86.158.107  02/Mar/2014  03:09:52 +0100   \n",
       "261870          localhost      127.0.0.1  02/Mar/2014  03:10:18 +0100   \n",
       "261871          localhost      127.0.0.1  02/Mar/2014  03:10:18 +0100   \n",
       "261872          localhost      127.0.0.1  02/Mar/2014  03:10:18 +0100   \n",
       "\n",
       "                   Request     Status  Size Referer  \\\n",
       "261868      GET / HTTP/1.1   200 7528  None      -\"   \n",
       "261869     HEAD / HTTP/1.1        200  None     \"-\"   \n",
       "261870  OPTIONS * HTTP/1.0        200  None     \"-\"   \n",
       "261871  OPTIONS * HTTP/1.0        200  None     \"-\"   \n",
       "261872  OPTIONS * HTTP/1.0        200  None     \"-\"   \n",
       "\n",
       "                                                UserAgent  \n",
       "261868  Mozilla/5.0 (compatible; YandexBot/3.0; +http:...  \n",
       "261869  Mozilla/5.0+(compatible; UptimeRobot/2.0; http...  \n",
       "261870         Apache (internal dummy connection)\" VLOG=-  \n",
       "261871         Apache (internal dummy connection)\" VLOG=-  \n",
       "261872         Apache (internal dummy connection)\" VLOG=-  "
      ],
      "text/html": "<div>\n<style scoped>\n    .dataframe tbody tr th:only-of-type {\n        vertical-align: middle;\n    }\n\n    .dataframe tbody tr th {\n        vertical-align: top;\n    }\n\n    .dataframe thead th {\n        text-align: right;\n    }\n</style>\n<table border=\"1\" class=\"dataframe\">\n  <thead>\n    <tr style=\"text-align: right;\">\n      <th></th>\n      <th>DNS</th>\n      <th>IP</th>\n      <th>Date</th>\n      <th>Time</th>\n      <th>Request</th>\n      <th>Status</th>\n      <th>Size</th>\n      <th>Referer</th>\n      <th>UserAgent</th>\n    </tr>\n  </thead>\n  <tbody>\n    <tr>\n      <th>261868</th>\n      <td>www.akumenius.com</td>\n      <td>5.255.253.53</td>\n      <td>02/Mar/2014</td>\n      <td>03:05:39 +0100</td>\n      <td>GET / HTTP/1.1</td>\n      <td>200 7528</td>\n      <td>None</td>\n      <td>-\"</td>\n      <td>Mozilla/5.0 (compatible; YandexBot/3.0; +http:...</td>\n    </tr>\n    <tr>\n      <th>261869</th>\n      <td>www.akumenius.com</td>\n      <td>74.86.158.107</td>\n      <td>02/Mar/2014</td>\n      <td>03:09:52 +0100</td>\n      <td>HEAD / HTTP/1.1</td>\n      <td>200</td>\n      <td>None</td>\n      <td>\"-\"</td>\n      <td>Mozilla/5.0+(compatible; UptimeRobot/2.0; http...</td>\n    </tr>\n    <tr>\n      <th>261870</th>\n      <td>localhost</td>\n      <td>127.0.0.1</td>\n      <td>02/Mar/2014</td>\n      <td>03:10:18 +0100</td>\n      <td>OPTIONS * HTTP/1.0</td>\n      <td>200</td>\n      <td>None</td>\n      <td>\"-\"</td>\n      <td>Apache (internal dummy connection)\" VLOG=-</td>\n    </tr>\n    <tr>\n      <th>261871</th>\n      <td>localhost</td>\n      <td>127.0.0.1</td>\n      <td>02/Mar/2014</td>\n      <td>03:10:18 +0100</td>\n      <td>OPTIONS * HTTP/1.0</td>\n      <td>200</td>\n      <td>None</td>\n      <td>\"-\"</td>\n      <td>Apache (internal dummy connection)\" VLOG=-</td>\n    </tr>\n    <tr>\n      <th>261872</th>\n      <td>localhost</td>\n      <td>127.0.0.1</td>\n      <td>02/Mar/2014</td>\n      <td>03:10:18 +0100</td>\n      <td>OPTIONS * HTTP/1.0</td>\n      <td>200</td>\n      <td>None</td>\n      <td>\"-\"</td>\n      <td>Apache (internal dummy connection)\" VLOG=-</td>\n    </tr>\n  </tbody>\n</table>\n</div>"
     },
     "metadata": {},
     "execution_count": 17
    }
   ],
   "source": [
    "Logs_copy.tail()"
   ]
  },
  {
   "cell_type": "code",
   "execution_count": 18,
   "metadata": {},
   "outputs": [
    {
     "output_type": "execute_result",
     "data": {
      "text/plain": [
       "         DNS         IP         Date            Time             Request  \\\n",
       "0  localhost  127.0.0.1  23/Feb/2014  03:10:31 +0100  OPTIONS * HTTP/1.0   \n",
       "1  localhost  127.0.0.1  23/Feb/2014  03:10:31 +0100  OPTIONS * HTTP/1.0   \n",
       "2  localhost  127.0.0.1  23/Feb/2014  03:10:31 +0100  OPTIONS * HTTP/1.0   \n",
       "3  localhost  127.0.0.1  23/Feb/2014  03:10:31 +0100  OPTIONS * HTTP/1.0   \n",
       "4  localhost  127.0.0.1  23/Feb/2014  03:10:31 +0100  OPTIONS * HTTP/1.0   \n",
       "\n",
       "  Status  Size Referer                                   UserAgent  \n",
       "0    200  None     \"-\"  Apache (internal dummy connection)\" VLOG=-  \n",
       "1    200  None     \"-\"  Apache (internal dummy connection)\" VLOG=-  \n",
       "2    200  None     \"-\"  Apache (internal dummy connection)\" VLOG=-  \n",
       "3    200  None     \"-\"  Apache (internal dummy connection)\" VLOG=-  \n",
       "4    200  None     \"-\"  Apache (internal dummy connection)\" VLOG=-  "
      ],
      "text/html": "<div>\n<style scoped>\n    .dataframe tbody tr th:only-of-type {\n        vertical-align: middle;\n    }\n\n    .dataframe tbody tr th {\n        vertical-align: top;\n    }\n\n    .dataframe thead th {\n        text-align: right;\n    }\n</style>\n<table border=\"1\" class=\"dataframe\">\n  <thead>\n    <tr style=\"text-align: right;\">\n      <th></th>\n      <th>DNS</th>\n      <th>IP</th>\n      <th>Date</th>\n      <th>Time</th>\n      <th>Request</th>\n      <th>Status</th>\n      <th>Size</th>\n      <th>Referer</th>\n      <th>UserAgent</th>\n    </tr>\n  </thead>\n  <tbody>\n    <tr>\n      <th>0</th>\n      <td>localhost</td>\n      <td>127.0.0.1</td>\n      <td>23/Feb/2014</td>\n      <td>03:10:31 +0100</td>\n      <td>OPTIONS * HTTP/1.0</td>\n      <td>200</td>\n      <td>None</td>\n      <td>\"-\"</td>\n      <td>Apache (internal dummy connection)\" VLOG=-</td>\n    </tr>\n    <tr>\n      <th>1</th>\n      <td>localhost</td>\n      <td>127.0.0.1</td>\n      <td>23/Feb/2014</td>\n      <td>03:10:31 +0100</td>\n      <td>OPTIONS * HTTP/1.0</td>\n      <td>200</td>\n      <td>None</td>\n      <td>\"-\"</td>\n      <td>Apache (internal dummy connection)\" VLOG=-</td>\n    </tr>\n    <tr>\n      <th>2</th>\n      <td>localhost</td>\n      <td>127.0.0.1</td>\n      <td>23/Feb/2014</td>\n      <td>03:10:31 +0100</td>\n      <td>OPTIONS * HTTP/1.0</td>\n      <td>200</td>\n      <td>None</td>\n      <td>\"-\"</td>\n      <td>Apache (internal dummy connection)\" VLOG=-</td>\n    </tr>\n    <tr>\n      <th>3</th>\n      <td>localhost</td>\n      <td>127.0.0.1</td>\n      <td>23/Feb/2014</td>\n      <td>03:10:31 +0100</td>\n      <td>OPTIONS * HTTP/1.0</td>\n      <td>200</td>\n      <td>None</td>\n      <td>\"-\"</td>\n      <td>Apache (internal dummy connection)\" VLOG=-</td>\n    </tr>\n    <tr>\n      <th>4</th>\n      <td>localhost</td>\n      <td>127.0.0.1</td>\n      <td>23/Feb/2014</td>\n      <td>03:10:31 +0100</td>\n      <td>OPTIONS * HTTP/1.0</td>\n      <td>200</td>\n      <td>None</td>\n      <td>\"-\"</td>\n      <td>Apache (internal dummy connection)\" VLOG=-</td>\n    </tr>\n  </tbody>\n</table>\n</div>"
     },
     "metadata": {},
     "execution_count": 18
    }
   ],
   "source": [
    "Logs_copy.head()"
   ]
  },
  {
   "source": [
    "- Size data extraction"
   ],
   "cell_type": "markdown",
   "metadata": {}
  },
  {
   "cell_type": "code",
   "execution_count": 19,
   "metadata": {},
   "outputs": [
    {
     "output_type": "execute_result",
     "data": {
      "text/plain": [
       "                      DNS             IP         Date            Time  \\\n",
       "0               localhost      127.0.0.1  23/Feb/2014  03:10:31 +0100   \n",
       "1               localhost      127.0.0.1  23/Feb/2014  03:10:31 +0100   \n",
       "2               localhost      127.0.0.1  23/Feb/2014  03:10:31 +0100   \n",
       "3               localhost      127.0.0.1  23/Feb/2014  03:10:31 +0100   \n",
       "4               localhost      127.0.0.1  23/Feb/2014  03:10:31 +0100   \n",
       "...                   ...            ...          ...             ...   \n",
       "261868  www.akumenius.com   5.255.253.53  02/Mar/2014  03:05:39 +0100   \n",
       "261869  www.akumenius.com  74.86.158.107  02/Mar/2014  03:09:52 +0100   \n",
       "261870          localhost      127.0.0.1  02/Mar/2014  03:10:18 +0100   \n",
       "261871          localhost      127.0.0.1  02/Mar/2014  03:10:18 +0100   \n",
       "261872          localhost      127.0.0.1  02/Mar/2014  03:10:18 +0100   \n",
       "\n",
       "                   Request     Status  Size Referer  \\\n",
       "0       OPTIONS * HTTP/1.0        200   200     \"-\"   \n",
       "1       OPTIONS * HTTP/1.0        200   200     \"-\"   \n",
       "2       OPTIONS * HTTP/1.0        200   200     \"-\"   \n",
       "3       OPTIONS * HTTP/1.0        200   200     \"-\"   \n",
       "4       OPTIONS * HTTP/1.0        200   200     \"-\"   \n",
       "...                    ...        ...   ...     ...   \n",
       "261868      GET / HTTP/1.1   200 7528  7528      -\"   \n",
       "261869     HEAD / HTTP/1.1        200   200     \"-\"   \n",
       "261870  OPTIONS * HTTP/1.0        200   200     \"-\"   \n",
       "261871  OPTIONS * HTTP/1.0        200   200     \"-\"   \n",
       "261872  OPTIONS * HTTP/1.0        200   200     \"-\"   \n",
       "\n",
       "                                                UserAgent  \n",
       "0              Apache (internal dummy connection)\" VLOG=-  \n",
       "1              Apache (internal dummy connection)\" VLOG=-  \n",
       "2              Apache (internal dummy connection)\" VLOG=-  \n",
       "3              Apache (internal dummy connection)\" VLOG=-  \n",
       "4              Apache (internal dummy connection)\" VLOG=-  \n",
       "...                                                   ...  \n",
       "261868  Mozilla/5.0 (compatible; YandexBot/3.0; +http:...  \n",
       "261869  Mozilla/5.0+(compatible; UptimeRobot/2.0; http...  \n",
       "261870         Apache (internal dummy connection)\" VLOG=-  \n",
       "261871         Apache (internal dummy connection)\" VLOG=-  \n",
       "261872         Apache (internal dummy connection)\" VLOG=-  \n",
       "\n",
       "[261873 rows x 9 columns]"
      ],
      "text/html": "<div>\n<style scoped>\n    .dataframe tbody tr th:only-of-type {\n        vertical-align: middle;\n    }\n\n    .dataframe tbody tr th {\n        vertical-align: top;\n    }\n\n    .dataframe thead th {\n        text-align: right;\n    }\n</style>\n<table border=\"1\" class=\"dataframe\">\n  <thead>\n    <tr style=\"text-align: right;\">\n      <th></th>\n      <th>DNS</th>\n      <th>IP</th>\n      <th>Date</th>\n      <th>Time</th>\n      <th>Request</th>\n      <th>Status</th>\n      <th>Size</th>\n      <th>Referer</th>\n      <th>UserAgent</th>\n    </tr>\n  </thead>\n  <tbody>\n    <tr>\n      <th>0</th>\n      <td>localhost</td>\n      <td>127.0.0.1</td>\n      <td>23/Feb/2014</td>\n      <td>03:10:31 +0100</td>\n      <td>OPTIONS * HTTP/1.0</td>\n      <td>200</td>\n      <td>200</td>\n      <td>\"-\"</td>\n      <td>Apache (internal dummy connection)\" VLOG=-</td>\n    </tr>\n    <tr>\n      <th>1</th>\n      <td>localhost</td>\n      <td>127.0.0.1</td>\n      <td>23/Feb/2014</td>\n      <td>03:10:31 +0100</td>\n      <td>OPTIONS * HTTP/1.0</td>\n      <td>200</td>\n      <td>200</td>\n      <td>\"-\"</td>\n      <td>Apache (internal dummy connection)\" VLOG=-</td>\n    </tr>\n    <tr>\n      <th>2</th>\n      <td>localhost</td>\n      <td>127.0.0.1</td>\n      <td>23/Feb/2014</td>\n      <td>03:10:31 +0100</td>\n      <td>OPTIONS * HTTP/1.0</td>\n      <td>200</td>\n      <td>200</td>\n      <td>\"-\"</td>\n      <td>Apache (internal dummy connection)\" VLOG=-</td>\n    </tr>\n    <tr>\n      <th>3</th>\n      <td>localhost</td>\n      <td>127.0.0.1</td>\n      <td>23/Feb/2014</td>\n      <td>03:10:31 +0100</td>\n      <td>OPTIONS * HTTP/1.0</td>\n      <td>200</td>\n      <td>200</td>\n      <td>\"-\"</td>\n      <td>Apache (internal dummy connection)\" VLOG=-</td>\n    </tr>\n    <tr>\n      <th>4</th>\n      <td>localhost</td>\n      <td>127.0.0.1</td>\n      <td>23/Feb/2014</td>\n      <td>03:10:31 +0100</td>\n      <td>OPTIONS * HTTP/1.0</td>\n      <td>200</td>\n      <td>200</td>\n      <td>\"-\"</td>\n      <td>Apache (internal dummy connection)\" VLOG=-</td>\n    </tr>\n    <tr>\n      <th>...</th>\n      <td>...</td>\n      <td>...</td>\n      <td>...</td>\n      <td>...</td>\n      <td>...</td>\n      <td>...</td>\n      <td>...</td>\n      <td>...</td>\n      <td>...</td>\n    </tr>\n    <tr>\n      <th>261868</th>\n      <td>www.akumenius.com</td>\n      <td>5.255.253.53</td>\n      <td>02/Mar/2014</td>\n      <td>03:05:39 +0100</td>\n      <td>GET / HTTP/1.1</td>\n      <td>200 7528</td>\n      <td>7528</td>\n      <td>-\"</td>\n      <td>Mozilla/5.0 (compatible; YandexBot/3.0; +http:...</td>\n    </tr>\n    <tr>\n      <th>261869</th>\n      <td>www.akumenius.com</td>\n      <td>74.86.158.107</td>\n      <td>02/Mar/2014</td>\n      <td>03:09:52 +0100</td>\n      <td>HEAD / HTTP/1.1</td>\n      <td>200</td>\n      <td>200</td>\n      <td>\"-\"</td>\n      <td>Mozilla/5.0+(compatible; UptimeRobot/2.0; http...</td>\n    </tr>\n    <tr>\n      <th>261870</th>\n      <td>localhost</td>\n      <td>127.0.0.1</td>\n      <td>02/Mar/2014</td>\n      <td>03:10:18 +0100</td>\n      <td>OPTIONS * HTTP/1.0</td>\n      <td>200</td>\n      <td>200</td>\n      <td>\"-\"</td>\n      <td>Apache (internal dummy connection)\" VLOG=-</td>\n    </tr>\n    <tr>\n      <th>261871</th>\n      <td>localhost</td>\n      <td>127.0.0.1</td>\n      <td>02/Mar/2014</td>\n      <td>03:10:18 +0100</td>\n      <td>OPTIONS * HTTP/1.0</td>\n      <td>200</td>\n      <td>200</td>\n      <td>\"-\"</td>\n      <td>Apache (internal dummy connection)\" VLOG=-</td>\n    </tr>\n    <tr>\n      <th>261872</th>\n      <td>localhost</td>\n      <td>127.0.0.1</td>\n      <td>02/Mar/2014</td>\n      <td>03:10:18 +0100</td>\n      <td>OPTIONS * HTTP/1.0</td>\n      <td>200</td>\n      <td>200</td>\n      <td>\"-\"</td>\n      <td>Apache (internal dummy connection)\" VLOG=-</td>\n    </tr>\n  </tbody>\n</table>\n<p>261873 rows × 9 columns</p>\n</div>"
     },
     "metadata": {},
     "execution_count": 19
    }
   ],
   "source": [
    "Logs_copy.Size = Logs_copy.Status.str.extract('(\\d+$)')\n",
    "Logs_copy"
   ]
  },
  {
   "source": [
    "- Clean Size data"
   ],
   "cell_type": "markdown",
   "metadata": {}
  },
  {
   "cell_type": "code",
   "execution_count": 24,
   "metadata": {},
   "outputs": [
    {
     "output_type": "stream",
     "name": "stdout",
     "text": [
      "CPU times: user 86.4 ms, sys: 60 µs, total: 86.4 ms\nWall time: 84.6 ms\n"
     ]
    }
   ],
   "source": [
    "%%time\n",
    "\n",
    "Logs_copy.Size = Logs_copy.Size.apply(lambda x: (np.nan if x == '200' else x))"
   ]
  },
  {
   "cell_type": "code",
   "execution_count": 25,
   "metadata": {},
   "outputs": [
    {
     "output_type": "execute_result",
     "data": {
      "text/plain": [
       "                      DNS             IP         Date            Time  \\\n",
       "0               localhost      127.0.0.1  23/Feb/2014  03:10:31 +0100   \n",
       "1               localhost      127.0.0.1  23/Feb/2014  03:10:31 +0100   \n",
       "2               localhost      127.0.0.1  23/Feb/2014  03:10:31 +0100   \n",
       "3               localhost      127.0.0.1  23/Feb/2014  03:10:31 +0100   \n",
       "4               localhost      127.0.0.1  23/Feb/2014  03:10:31 +0100   \n",
       "...                   ...            ...          ...             ...   \n",
       "261868  www.akumenius.com   5.255.253.53  02/Mar/2014  03:05:39 +0100   \n",
       "261869  www.akumenius.com  74.86.158.107  02/Mar/2014  03:09:52 +0100   \n",
       "261870          localhost      127.0.0.1  02/Mar/2014  03:10:18 +0100   \n",
       "261871          localhost      127.0.0.1  02/Mar/2014  03:10:18 +0100   \n",
       "261872          localhost      127.0.0.1  02/Mar/2014  03:10:18 +0100   \n",
       "\n",
       "                   Request     Status  Size Referer  \\\n",
       "0       OPTIONS * HTTP/1.0        200   NaN     \"-\"   \n",
       "1       OPTIONS * HTTP/1.0        200   NaN     \"-\"   \n",
       "2       OPTIONS * HTTP/1.0        200   NaN     \"-\"   \n",
       "3       OPTIONS * HTTP/1.0        200   NaN     \"-\"   \n",
       "4       OPTIONS * HTTP/1.0        200   NaN     \"-\"   \n",
       "...                    ...        ...   ...     ...   \n",
       "261868      GET / HTTP/1.1   200 7528  7528      -\"   \n",
       "261869     HEAD / HTTP/1.1        200   NaN     \"-\"   \n",
       "261870  OPTIONS * HTTP/1.0        200   NaN     \"-\"   \n",
       "261871  OPTIONS * HTTP/1.0        200   NaN     \"-\"   \n",
       "261872  OPTIONS * HTTP/1.0        200   NaN     \"-\"   \n",
       "\n",
       "                                                UserAgent  \n",
       "0              Apache (internal dummy connection)\" VLOG=-  \n",
       "1              Apache (internal dummy connection)\" VLOG=-  \n",
       "2              Apache (internal dummy connection)\" VLOG=-  \n",
       "3              Apache (internal dummy connection)\" VLOG=-  \n",
       "4              Apache (internal dummy connection)\" VLOG=-  \n",
       "...                                                   ...  \n",
       "261868  Mozilla/5.0 (compatible; YandexBot/3.0; +http:...  \n",
       "261869  Mozilla/5.0+(compatible; UptimeRobot/2.0; http...  \n",
       "261870         Apache (internal dummy connection)\" VLOG=-  \n",
       "261871         Apache (internal dummy connection)\" VLOG=-  \n",
       "261872         Apache (internal dummy connection)\" VLOG=-  \n",
       "\n",
       "[261873 rows x 9 columns]"
      ],
      "text/html": "<div>\n<style scoped>\n    .dataframe tbody tr th:only-of-type {\n        vertical-align: middle;\n    }\n\n    .dataframe tbody tr th {\n        vertical-align: top;\n    }\n\n    .dataframe thead th {\n        text-align: right;\n    }\n</style>\n<table border=\"1\" class=\"dataframe\">\n  <thead>\n    <tr style=\"text-align: right;\">\n      <th></th>\n      <th>DNS</th>\n      <th>IP</th>\n      <th>Date</th>\n      <th>Time</th>\n      <th>Request</th>\n      <th>Status</th>\n      <th>Size</th>\n      <th>Referer</th>\n      <th>UserAgent</th>\n    </tr>\n  </thead>\n  <tbody>\n    <tr>\n      <th>0</th>\n      <td>localhost</td>\n      <td>127.0.0.1</td>\n      <td>23/Feb/2014</td>\n      <td>03:10:31 +0100</td>\n      <td>OPTIONS * HTTP/1.0</td>\n      <td>200</td>\n      <td>NaN</td>\n      <td>\"-\"</td>\n      <td>Apache (internal dummy connection)\" VLOG=-</td>\n    </tr>\n    <tr>\n      <th>1</th>\n      <td>localhost</td>\n      <td>127.0.0.1</td>\n      <td>23/Feb/2014</td>\n      <td>03:10:31 +0100</td>\n      <td>OPTIONS * HTTP/1.0</td>\n      <td>200</td>\n      <td>NaN</td>\n      <td>\"-\"</td>\n      <td>Apache (internal dummy connection)\" VLOG=-</td>\n    </tr>\n    <tr>\n      <th>2</th>\n      <td>localhost</td>\n      <td>127.0.0.1</td>\n      <td>23/Feb/2014</td>\n      <td>03:10:31 +0100</td>\n      <td>OPTIONS * HTTP/1.0</td>\n      <td>200</td>\n      <td>NaN</td>\n      <td>\"-\"</td>\n      <td>Apache (internal dummy connection)\" VLOG=-</td>\n    </tr>\n    <tr>\n      <th>3</th>\n      <td>localhost</td>\n      <td>127.0.0.1</td>\n      <td>23/Feb/2014</td>\n      <td>03:10:31 +0100</td>\n      <td>OPTIONS * HTTP/1.0</td>\n      <td>200</td>\n      <td>NaN</td>\n      <td>\"-\"</td>\n      <td>Apache (internal dummy connection)\" VLOG=-</td>\n    </tr>\n    <tr>\n      <th>4</th>\n      <td>localhost</td>\n      <td>127.0.0.1</td>\n      <td>23/Feb/2014</td>\n      <td>03:10:31 +0100</td>\n      <td>OPTIONS * HTTP/1.0</td>\n      <td>200</td>\n      <td>NaN</td>\n      <td>\"-\"</td>\n      <td>Apache (internal dummy connection)\" VLOG=-</td>\n    </tr>\n    <tr>\n      <th>...</th>\n      <td>...</td>\n      <td>...</td>\n      <td>...</td>\n      <td>...</td>\n      <td>...</td>\n      <td>...</td>\n      <td>...</td>\n      <td>...</td>\n      <td>...</td>\n    </tr>\n    <tr>\n      <th>261868</th>\n      <td>www.akumenius.com</td>\n      <td>5.255.253.53</td>\n      <td>02/Mar/2014</td>\n      <td>03:05:39 +0100</td>\n      <td>GET / HTTP/1.1</td>\n      <td>200 7528</td>\n      <td>7528</td>\n      <td>-\"</td>\n      <td>Mozilla/5.0 (compatible; YandexBot/3.0; +http:...</td>\n    </tr>\n    <tr>\n      <th>261869</th>\n      <td>www.akumenius.com</td>\n      <td>74.86.158.107</td>\n      <td>02/Mar/2014</td>\n      <td>03:09:52 +0100</td>\n      <td>HEAD / HTTP/1.1</td>\n      <td>200</td>\n      <td>NaN</td>\n      <td>\"-\"</td>\n      <td>Mozilla/5.0+(compatible; UptimeRobot/2.0; http...</td>\n    </tr>\n    <tr>\n      <th>261870</th>\n      <td>localhost</td>\n      <td>127.0.0.1</td>\n      <td>02/Mar/2014</td>\n      <td>03:10:18 +0100</td>\n      <td>OPTIONS * HTTP/1.0</td>\n      <td>200</td>\n      <td>NaN</td>\n      <td>\"-\"</td>\n      <td>Apache (internal dummy connection)\" VLOG=-</td>\n    </tr>\n    <tr>\n      <th>261871</th>\n      <td>localhost</td>\n      <td>127.0.0.1</td>\n      <td>02/Mar/2014</td>\n      <td>03:10:18 +0100</td>\n      <td>OPTIONS * HTTP/1.0</td>\n      <td>200</td>\n      <td>NaN</td>\n      <td>\"-\"</td>\n      <td>Apache (internal dummy connection)\" VLOG=-</td>\n    </tr>\n    <tr>\n      <th>261872</th>\n      <td>localhost</td>\n      <td>127.0.0.1</td>\n      <td>02/Mar/2014</td>\n      <td>03:10:18 +0100</td>\n      <td>OPTIONS * HTTP/1.0</td>\n      <td>200</td>\n      <td>NaN</td>\n      <td>\"-\"</td>\n      <td>Apache (internal dummy connection)\" VLOG=-</td>\n    </tr>\n  </tbody>\n</table>\n<p>261873 rows × 9 columns</p>\n</div>"
     },
     "metadata": {},
     "execution_count": 25
    }
   ],
   "source": [
    "Logs_copy"
   ]
  },
  {
   "source": [
    "- Status data extraction"
   ],
   "cell_type": "markdown",
   "metadata": {}
  },
  {
   "cell_type": "code",
   "execution_count": 26,
   "metadata": {
    "scrolled": true
   },
   "outputs": [
    {
     "output_type": "execute_result",
     "data": {
      "text/plain": [
       "                      DNS             IP         Date            Time  \\\n",
       "261868  www.akumenius.com   5.255.253.53  02/Mar/2014  03:05:39 +0100   \n",
       "261869  www.akumenius.com  74.86.158.107  02/Mar/2014  03:09:52 +0100   \n",
       "261870          localhost      127.0.0.1  02/Mar/2014  03:10:18 +0100   \n",
       "261871          localhost      127.0.0.1  02/Mar/2014  03:10:18 +0100   \n",
       "261872          localhost      127.0.0.1  02/Mar/2014  03:10:18 +0100   \n",
       "\n",
       "                   Request Status  Size Referer  \\\n",
       "261868      GET / HTTP/1.1    200  7528      -\"   \n",
       "261869     HEAD / HTTP/1.1    200   NaN     \"-\"   \n",
       "261870  OPTIONS * HTTP/1.0    200   NaN     \"-\"   \n",
       "261871  OPTIONS * HTTP/1.0    200   NaN     \"-\"   \n",
       "261872  OPTIONS * HTTP/1.0    200   NaN     \"-\"   \n",
       "\n",
       "                                                UserAgent  \n",
       "261868  Mozilla/5.0 (compatible; YandexBot/3.0; +http:...  \n",
       "261869  Mozilla/5.0+(compatible; UptimeRobot/2.0; http...  \n",
       "261870         Apache (internal dummy connection)\" VLOG=-  \n",
       "261871         Apache (internal dummy connection)\" VLOG=-  \n",
       "261872         Apache (internal dummy connection)\" VLOG=-  "
      ],
      "text/html": "<div>\n<style scoped>\n    .dataframe tbody tr th:only-of-type {\n        vertical-align: middle;\n    }\n\n    .dataframe tbody tr th {\n        vertical-align: top;\n    }\n\n    .dataframe thead th {\n        text-align: right;\n    }\n</style>\n<table border=\"1\" class=\"dataframe\">\n  <thead>\n    <tr style=\"text-align: right;\">\n      <th></th>\n      <th>DNS</th>\n      <th>IP</th>\n      <th>Date</th>\n      <th>Time</th>\n      <th>Request</th>\n      <th>Status</th>\n      <th>Size</th>\n      <th>Referer</th>\n      <th>UserAgent</th>\n    </tr>\n  </thead>\n  <tbody>\n    <tr>\n      <th>261868</th>\n      <td>www.akumenius.com</td>\n      <td>5.255.253.53</td>\n      <td>02/Mar/2014</td>\n      <td>03:05:39 +0100</td>\n      <td>GET / HTTP/1.1</td>\n      <td>200</td>\n      <td>7528</td>\n      <td>-\"</td>\n      <td>Mozilla/5.0 (compatible; YandexBot/3.0; +http:...</td>\n    </tr>\n    <tr>\n      <th>261869</th>\n      <td>www.akumenius.com</td>\n      <td>74.86.158.107</td>\n      <td>02/Mar/2014</td>\n      <td>03:09:52 +0100</td>\n      <td>HEAD / HTTP/1.1</td>\n      <td>200</td>\n      <td>NaN</td>\n      <td>\"-\"</td>\n      <td>Mozilla/5.0+(compatible; UptimeRobot/2.0; http...</td>\n    </tr>\n    <tr>\n      <th>261870</th>\n      <td>localhost</td>\n      <td>127.0.0.1</td>\n      <td>02/Mar/2014</td>\n      <td>03:10:18 +0100</td>\n      <td>OPTIONS * HTTP/1.0</td>\n      <td>200</td>\n      <td>NaN</td>\n      <td>\"-\"</td>\n      <td>Apache (internal dummy connection)\" VLOG=-</td>\n    </tr>\n    <tr>\n      <th>261871</th>\n      <td>localhost</td>\n      <td>127.0.0.1</td>\n      <td>02/Mar/2014</td>\n      <td>03:10:18 +0100</td>\n      <td>OPTIONS * HTTP/1.0</td>\n      <td>200</td>\n      <td>NaN</td>\n      <td>\"-\"</td>\n      <td>Apache (internal dummy connection)\" VLOG=-</td>\n    </tr>\n    <tr>\n      <th>261872</th>\n      <td>localhost</td>\n      <td>127.0.0.1</td>\n      <td>02/Mar/2014</td>\n      <td>03:10:18 +0100</td>\n      <td>OPTIONS * HTTP/1.0</td>\n      <td>200</td>\n      <td>NaN</td>\n      <td>\"-\"</td>\n      <td>Apache (internal dummy connection)\" VLOG=-</td>\n    </tr>\n  </tbody>\n</table>\n</div>"
     },
     "metadata": {},
     "execution_count": 26
    }
   ],
   "source": [
    "Logs_copy.Status = Logs_copy.Status.str.extract('(\\d{3})')\n",
    "Logs_copy.tail()"
   ]
  },
  {
   "source": [
    "- Clean Referer data"
   ],
   "cell_type": "markdown",
   "metadata": {}
  },
  {
   "cell_type": "code",
   "execution_count": 27,
   "metadata": {},
   "outputs": [
    {
     "output_type": "stream",
     "name": "stdout",
     "text": [
      "CPU times: user 272 ms, sys: 4.03 ms, total: 277 ms\nWall time: 274 ms\n"
     ]
    }
   ],
   "source": [
    "%%time\n",
    "\n",
    "Logs_copy.Referer = Logs_copy.Referer.apply(lambda x: (np.nan if re.search('-\"', x) else x.rstrip(x[-1])))"
   ]
  },
  {
   "cell_type": "code",
   "execution_count": 28,
   "metadata": {},
   "outputs": [
    {
     "output_type": "execute_result",
     "data": {
      "text/plain": [
       "                      DNS             IP         Date            Time  \\\n",
       "0               localhost      127.0.0.1  23/Feb/2014  03:10:31 +0100   \n",
       "1               localhost      127.0.0.1  23/Feb/2014  03:10:31 +0100   \n",
       "2               localhost      127.0.0.1  23/Feb/2014  03:10:31 +0100   \n",
       "3               localhost      127.0.0.1  23/Feb/2014  03:10:31 +0100   \n",
       "4               localhost      127.0.0.1  23/Feb/2014  03:10:31 +0100   \n",
       "...                   ...            ...          ...             ...   \n",
       "261868  www.akumenius.com   5.255.253.53  02/Mar/2014  03:05:39 +0100   \n",
       "261869  www.akumenius.com  74.86.158.107  02/Mar/2014  03:09:52 +0100   \n",
       "261870          localhost      127.0.0.1  02/Mar/2014  03:10:18 +0100   \n",
       "261871          localhost      127.0.0.1  02/Mar/2014  03:10:18 +0100   \n",
       "261872          localhost      127.0.0.1  02/Mar/2014  03:10:18 +0100   \n",
       "\n",
       "                   Request Status  Size Referer  \\\n",
       "0       OPTIONS * HTTP/1.0    200   NaN     NaN   \n",
       "1       OPTIONS * HTTP/1.0    200   NaN     NaN   \n",
       "2       OPTIONS * HTTP/1.0    200   NaN     NaN   \n",
       "3       OPTIONS * HTTP/1.0    200   NaN     NaN   \n",
       "4       OPTIONS * HTTP/1.0    200   NaN     NaN   \n",
       "...                    ...    ...   ...     ...   \n",
       "261868      GET / HTTP/1.1    200  7528     NaN   \n",
       "261869     HEAD / HTTP/1.1    200   NaN     NaN   \n",
       "261870  OPTIONS * HTTP/1.0    200   NaN     NaN   \n",
       "261871  OPTIONS * HTTP/1.0    200   NaN     NaN   \n",
       "261872  OPTIONS * HTTP/1.0    200   NaN     NaN   \n",
       "\n",
       "                                                UserAgent  \n",
       "0              Apache (internal dummy connection)\" VLOG=-  \n",
       "1              Apache (internal dummy connection)\" VLOG=-  \n",
       "2              Apache (internal dummy connection)\" VLOG=-  \n",
       "3              Apache (internal dummy connection)\" VLOG=-  \n",
       "4              Apache (internal dummy connection)\" VLOG=-  \n",
       "...                                                   ...  \n",
       "261868  Mozilla/5.0 (compatible; YandexBot/3.0; +http:...  \n",
       "261869  Mozilla/5.0+(compatible; UptimeRobot/2.0; http...  \n",
       "261870         Apache (internal dummy connection)\" VLOG=-  \n",
       "261871         Apache (internal dummy connection)\" VLOG=-  \n",
       "261872         Apache (internal dummy connection)\" VLOG=-  \n",
       "\n",
       "[261873 rows x 9 columns]"
      ],
      "text/html": "<div>\n<style scoped>\n    .dataframe tbody tr th:only-of-type {\n        vertical-align: middle;\n    }\n\n    .dataframe tbody tr th {\n        vertical-align: top;\n    }\n\n    .dataframe thead th {\n        text-align: right;\n    }\n</style>\n<table border=\"1\" class=\"dataframe\">\n  <thead>\n    <tr style=\"text-align: right;\">\n      <th></th>\n      <th>DNS</th>\n      <th>IP</th>\n      <th>Date</th>\n      <th>Time</th>\n      <th>Request</th>\n      <th>Status</th>\n      <th>Size</th>\n      <th>Referer</th>\n      <th>UserAgent</th>\n    </tr>\n  </thead>\n  <tbody>\n    <tr>\n      <th>0</th>\n      <td>localhost</td>\n      <td>127.0.0.1</td>\n      <td>23/Feb/2014</td>\n      <td>03:10:31 +0100</td>\n      <td>OPTIONS * HTTP/1.0</td>\n      <td>200</td>\n      <td>NaN</td>\n      <td>NaN</td>\n      <td>Apache (internal dummy connection)\" VLOG=-</td>\n    </tr>\n    <tr>\n      <th>1</th>\n      <td>localhost</td>\n      <td>127.0.0.1</td>\n      <td>23/Feb/2014</td>\n      <td>03:10:31 +0100</td>\n      <td>OPTIONS * HTTP/1.0</td>\n      <td>200</td>\n      <td>NaN</td>\n      <td>NaN</td>\n      <td>Apache (internal dummy connection)\" VLOG=-</td>\n    </tr>\n    <tr>\n      <th>2</th>\n      <td>localhost</td>\n      <td>127.0.0.1</td>\n      <td>23/Feb/2014</td>\n      <td>03:10:31 +0100</td>\n      <td>OPTIONS * HTTP/1.0</td>\n      <td>200</td>\n      <td>NaN</td>\n      <td>NaN</td>\n      <td>Apache (internal dummy connection)\" VLOG=-</td>\n    </tr>\n    <tr>\n      <th>3</th>\n      <td>localhost</td>\n      <td>127.0.0.1</td>\n      <td>23/Feb/2014</td>\n      <td>03:10:31 +0100</td>\n      <td>OPTIONS * HTTP/1.0</td>\n      <td>200</td>\n      <td>NaN</td>\n      <td>NaN</td>\n      <td>Apache (internal dummy connection)\" VLOG=-</td>\n    </tr>\n    <tr>\n      <th>4</th>\n      <td>localhost</td>\n      <td>127.0.0.1</td>\n      <td>23/Feb/2014</td>\n      <td>03:10:31 +0100</td>\n      <td>OPTIONS * HTTP/1.0</td>\n      <td>200</td>\n      <td>NaN</td>\n      <td>NaN</td>\n      <td>Apache (internal dummy connection)\" VLOG=-</td>\n    </tr>\n    <tr>\n      <th>...</th>\n      <td>...</td>\n      <td>...</td>\n      <td>...</td>\n      <td>...</td>\n      <td>...</td>\n      <td>...</td>\n      <td>...</td>\n      <td>...</td>\n      <td>...</td>\n    </tr>\n    <tr>\n      <th>261868</th>\n      <td>www.akumenius.com</td>\n      <td>5.255.253.53</td>\n      <td>02/Mar/2014</td>\n      <td>03:05:39 +0100</td>\n      <td>GET / HTTP/1.1</td>\n      <td>200</td>\n      <td>7528</td>\n      <td>NaN</td>\n      <td>Mozilla/5.0 (compatible; YandexBot/3.0; +http:...</td>\n    </tr>\n    <tr>\n      <th>261869</th>\n      <td>www.akumenius.com</td>\n      <td>74.86.158.107</td>\n      <td>02/Mar/2014</td>\n      <td>03:09:52 +0100</td>\n      <td>HEAD / HTTP/1.1</td>\n      <td>200</td>\n      <td>NaN</td>\n      <td>NaN</td>\n      <td>Mozilla/5.0+(compatible; UptimeRobot/2.0; http...</td>\n    </tr>\n    <tr>\n      <th>261870</th>\n      <td>localhost</td>\n      <td>127.0.0.1</td>\n      <td>02/Mar/2014</td>\n      <td>03:10:18 +0100</td>\n      <td>OPTIONS * HTTP/1.0</td>\n      <td>200</td>\n      <td>NaN</td>\n      <td>NaN</td>\n      <td>Apache (internal dummy connection)\" VLOG=-</td>\n    </tr>\n    <tr>\n      <th>261871</th>\n      <td>localhost</td>\n      <td>127.0.0.1</td>\n      <td>02/Mar/2014</td>\n      <td>03:10:18 +0100</td>\n      <td>OPTIONS * HTTP/1.0</td>\n      <td>200</td>\n      <td>NaN</td>\n      <td>NaN</td>\n      <td>Apache (internal dummy connection)\" VLOG=-</td>\n    </tr>\n    <tr>\n      <th>261872</th>\n      <td>localhost</td>\n      <td>127.0.0.1</td>\n      <td>02/Mar/2014</td>\n      <td>03:10:18 +0100</td>\n      <td>OPTIONS * HTTP/1.0</td>\n      <td>200</td>\n      <td>NaN</td>\n      <td>NaN</td>\n      <td>Apache (internal dummy connection)\" VLOG=-</td>\n    </tr>\n  </tbody>\n</table>\n<p>261873 rows × 9 columns</p>\n</div>"
     },
     "metadata": {},
     "execution_count": 28
    }
   ],
   "source": [
    "Logs_copy"
   ]
  },
  {
   "cell_type": "markdown",
   "metadata": {},
   "source": [
    "###  Exercici 3\n",
    "- Geolocalitza les IP's. Aqui tens una pagina de interes:\n",
    "  - [freegeoip](https://freegeoip.app/)"
   ]
  },
  {
   "source": [
    "- We export Ips file for security"
   ],
   "cell_type": "markdown",
   "metadata": {}
  },
  {
   "cell_type": "code",
   "execution_count": 30,
   "metadata": {},
   "outputs": [],
   "source": [
    "Ips_export= Logs_copy.IP.copy()\n",
    "\n",
    "Ips_export.replace('', 'null', inplace = True)\n",
    "\n",
    "Ips_export.to_csv('../Data/Ips_export.csv', index = False)"
   ]
  },
  {
   "source": [
    "- Ips file recovery"
   ],
   "cell_type": "markdown",
   "metadata": {}
  },
  {
   "cell_type": "code",
   "execution_count": 31,
   "metadata": {},
   "outputs": [
    {
     "output_type": "execute_result",
     "data": {
      "text/plain": [
       "          IP\n",
       "0  127.0.0.1\n",
       "1  127.0.0.1\n",
       "2  127.0.0.1\n",
       "3  127.0.0.1\n",
       "4  127.0.0.1"
      ],
      "text/html": "<div>\n<style scoped>\n    .dataframe tbody tr th:only-of-type {\n        vertical-align: middle;\n    }\n\n    .dataframe tbody tr th {\n        vertical-align: top;\n    }\n\n    .dataframe thead th {\n        text-align: right;\n    }\n</style>\n<table border=\"1\" class=\"dataframe\">\n  <thead>\n    <tr style=\"text-align: right;\">\n      <th></th>\n      <th>IP</th>\n    </tr>\n  </thead>\n  <tbody>\n    <tr>\n      <th>0</th>\n      <td>127.0.0.1</td>\n    </tr>\n    <tr>\n      <th>1</th>\n      <td>127.0.0.1</td>\n    </tr>\n    <tr>\n      <th>2</th>\n      <td>127.0.0.1</td>\n    </tr>\n    <tr>\n      <th>3</th>\n      <td>127.0.0.1</td>\n    </tr>\n    <tr>\n      <th>4</th>\n      <td>127.0.0.1</td>\n    </tr>\n  </tbody>\n</table>\n</div>"
     },
     "metadata": {},
     "execution_count": 31
    }
   ],
   "source": [
    "path = '../Data/Ips_export.csv'\n",
    "\n",
    "Ips_raw = pd.read_csv(path, sep= 'delimiter', engine='python')\n",
    "\n",
    "Ips_raw.head()"
   ]
  },
  {
   "cell_type": "code",
   "execution_count": 32,
   "metadata": {},
   "outputs": [
    {
     "output_type": "execute_result",
     "data": {
      "text/plain": [
       "                   IP\n",
       "261868   5.255.253.53\n",
       "261869  74.86.158.107\n",
       "261870      127.0.0.1\n",
       "261871      127.0.0.1\n",
       "261872      127.0.0.1"
      ],
      "text/html": "<div>\n<style scoped>\n    .dataframe tbody tr th:only-of-type {\n        vertical-align: middle;\n    }\n\n    .dataframe tbody tr th {\n        vertical-align: top;\n    }\n\n    .dataframe thead th {\n        text-align: right;\n    }\n</style>\n<table border=\"1\" class=\"dataframe\">\n  <thead>\n    <tr style=\"text-align: right;\">\n      <th></th>\n      <th>IP</th>\n    </tr>\n  </thead>\n  <tbody>\n    <tr>\n      <th>261868</th>\n      <td>5.255.253.53</td>\n    </tr>\n    <tr>\n      <th>261869</th>\n      <td>74.86.158.107</td>\n    </tr>\n    <tr>\n      <th>261870</th>\n      <td>127.0.0.1</td>\n    </tr>\n    <tr>\n      <th>261871</th>\n      <td>127.0.0.1</td>\n    </tr>\n    <tr>\n      <th>261872</th>\n      <td>127.0.0.1</td>\n    </tr>\n  </tbody>\n</table>\n</div>"
     },
     "metadata": {},
     "execution_count": 32
    }
   ],
   "source": [
    "Ips_raw.tail()"
   ]
  },
  {
   "source": [
    "- Make a copy of the data to be used and we check them"
   ],
   "cell_type": "markdown",
   "metadata": {}
  },
  {
   "cell_type": "code",
   "execution_count": 33,
   "metadata": {},
   "outputs": [],
   "source": [
    "Ips_copy = Ips_raw.copy()\n",
    "ips_unique = Ips_copy.IP.unique()"
   ]
  },
  {
   "cell_type": "code",
   "execution_count": 34,
   "metadata": {},
   "outputs": [
    {
     "output_type": "execute_result",
     "data": {
      "text/plain": [
       "2921"
      ]
     },
     "metadata": {},
     "execution_count": 34
    }
   ],
   "source": [
    "len(Ips_copy.IP.unique())"
   ]
  },
  {
   "cell_type": "code",
   "execution_count": 35,
   "metadata": {},
   "outputs": [
    {
     "output_type": "execute_result",
     "data": {
      "text/plain": [
       "array(['127.0.0.1', '66.249.76.216', '5.255.253.53', ...,\n",
       "       '217.174.248.179', '188.135.173.80', '206.198.5.33'], dtype=object)"
      ]
     },
     "metadata": {},
     "execution_count": 35
    }
   ],
   "source": [
    "ips_unique"
   ]
  },
  {
   "source": [
    "- Function for extract Information freegeoip"
   ],
   "cell_type": "markdown",
   "metadata": {}
  },
  {
   "cell_type": "code",
   "execution_count": 36,
   "metadata": {},
   "outputs": [],
   "source": [
    "\n",
    "localhost = \"127.0.0.1\"\n",
    "loalhost_info = {'ip': '127.0.0.1',\n",
    "    'country_code': 'ES',\n",
    "    'country_name': 'Spain',\n",
    "     'region_code': '',\n",
    "     'region_name': '',\n",
    "     'city': '',\n",
    "     'zip_code': '',\n",
    "    'time_zone': '',\n",
    "     'latitude': '',\n",
    "     'longitude': '',\n",
    "     'metro_code': ''}\n",
    "\n",
    "def extract_info(ip):\n",
    "\n",
    "    try:\n",
    "        if ip == localhost:\n",
    "            return localhost_info\n",
    "        else:\n",
    "            response = urlopen(\"https://freegeoip.app/json/\" + ip)\n",
    "            data = json.load(response)\n",
    "            return data  \n",
    "\n",
    "    except:\n",
    "        return np.nan"
   ]
  },
  {
   "source": [
    "- Test the extraction function"
   ],
   "cell_type": "markdown",
   "metadata": {}
  },
  {
   "cell_type": "code",
   "execution_count": 37,
   "metadata": {},
   "outputs": [
    {
     "output_type": "execute_result",
     "data": {
      "text/plain": [
       "{'ip': '66.249.76.216',\n",
       " 'country_code': 'US',\n",
       " 'country_name': 'United States',\n",
       " 'region_code': '',\n",
       " 'region_name': '',\n",
       " 'city': '',\n",
       " 'zip_code': '',\n",
       " 'time_zone': 'America/Chicago',\n",
       " 'latitude': 37.751,\n",
       " 'longitude': -97.822,\n",
       " 'metro_code': 0}"
      ]
     },
     "metadata": {},
     "execution_count": 37
    }
   ],
   "source": [
    "extract_info(ips_unique[1])"
   ]
  },
  {
   "source": [
    "- Ips Information Extraction"
   ],
   "cell_type": "markdown",
   "metadata": {}
  },
  {
   "cell_type": "code",
   "execution_count": 43,
   "metadata": {},
   "outputs": [
    {
     "output_type": "stream",
     "name": "stdout",
     "text": [
      "CPU times: user 2.35 s, sys: 426 ms, total: 2.77 s\nWall time: 47.8 s\n"
     ]
    }
   ],
   "source": [
    "%%time\n",
    "\n",
    "Info_list = Parallel(n_jobs = 8, backend = \"multiprocessing\")(map(delayed(extract_info), ips_unique))"
   ]
  },
  {
   "source": [
    "- joblib.Parallel uses the backend module to start worker processes, executing tasks simultaneously on separate CPUs.\n",
    "- 47.8 s for obtaining the IPS 2921 extraction, too much faster, when using 4 cores and 8 threads"
   ],
   "cell_type": "markdown",
   "metadata": {}
  },
  {
   "source": [
    "- check the data obtained"
   ],
   "cell_type": "markdown",
   "metadata": {}
  },
  {
   "cell_type": "code",
   "execution_count": 45,
   "metadata": {},
   "outputs": [
    {
     "output_type": "execute_result",
     "data": {
      "text/plain": [
       "{'ip': '180.76.6.44',\n",
       " 'country_code': 'CN',\n",
       " 'country_name': 'China',\n",
       " 'region_code': '',\n",
       " 'region_name': '',\n",
       " 'city': '',\n",
       " 'zip_code': '',\n",
       " 'time_zone': 'Asia/Shanghai',\n",
       " 'latitude': 34.7725,\n",
       " 'longitude': 113.7266,\n",
       " 'metro_code': 0}"
      ]
     },
     "metadata": {},
     "execution_count": 45
    }
   ],
   "source": [
    "Info_list[10]"
   ]
  },
  {
   "cell_type": "code",
   "execution_count": 46,
   "metadata": {},
   "outputs": [
    {
     "output_type": "execute_result",
     "data": {
      "text/plain": [
       "2921"
      ]
     },
     "metadata": {},
     "execution_count": 46
    }
   ],
   "source": [
    "len(Info_list)"
   ]
  },
  {
   "source": [
    "- Function for File to pickle"
   ],
   "cell_type": "markdown",
   "metadata": {}
  },
  {
   "cell_type": "code",
   "execution_count": 47,
   "metadata": {},
   "outputs": [],
   "source": [
    "def to_pickle(info):\n",
    "    with open('geolocation.pickle', 'wb') as file:\n",
    "        pickle.dump(info, file)"
   ]
  },
  {
   "source": [
    "- We export pickle info for security"
   ],
   "cell_type": "markdown",
   "metadata": {}
  },
  {
   "cell_type": "code",
   "execution_count": 48,
   "metadata": {},
   "outputs": [],
   "source": [
    "to_pickle(Info_list)"
   ]
  },
  {
   "source": [
    "- Pickle file recovery"
   ],
   "cell_type": "markdown",
   "metadata": {}
  },
  {
   "cell_type": "code",
   "execution_count": 49,
   "metadata": {},
   "outputs": [],
   "source": [
    "ips_info = pd.read_pickle('geolocation.pickle')"
   ]
  },
  {
   "source": [
    "- Create variable to join the data obtained with the ones we had"
   ],
   "cell_type": "markdown",
   "metadata": {}
  },
  {
   "cell_type": "code",
   "execution_count": 50,
   "metadata": {},
   "outputs": [
    {
     "output_type": "execute_result",
     "data": {
      "text/plain": [
       "                IP\n",
       "0        127.0.0.1\n",
       "1    66.249.76.216\n",
       "2     5.255.253.53\n",
       "3    157.55.35.112\n",
       "4  193.111.141.116"
      ],
      "text/html": "<div>\n<style scoped>\n    .dataframe tbody tr th:only-of-type {\n        vertical-align: middle;\n    }\n\n    .dataframe tbody tr th {\n        vertical-align: top;\n    }\n\n    .dataframe thead th {\n        text-align: right;\n    }\n</style>\n<table border=\"1\" class=\"dataframe\">\n  <thead>\n    <tr style=\"text-align: right;\">\n      <th></th>\n      <th>IP</th>\n    </tr>\n  </thead>\n  <tbody>\n    <tr>\n      <th>0</th>\n      <td>127.0.0.1</td>\n    </tr>\n    <tr>\n      <th>1</th>\n      <td>66.249.76.216</td>\n    </tr>\n    <tr>\n      <th>2</th>\n      <td>5.255.253.53</td>\n    </tr>\n    <tr>\n      <th>3</th>\n      <td>157.55.35.112</td>\n    </tr>\n    <tr>\n      <th>4</th>\n      <td>193.111.141.116</td>\n    </tr>\n  </tbody>\n</table>\n</div>"
     },
     "metadata": {},
     "execution_count": 50
    }
   ],
   "source": [
    "Info = pd.DataFrame(ips_unique, columns=['IP'])\n",
    "Info.head()"
   ]
  },
  {
   "cell_type": "code",
   "execution_count": 51,
   "metadata": {},
   "outputs": [
    {
     "output_type": "execute_result",
     "data": {
      "text/plain": [
       "2921"
      ]
     },
     "metadata": {},
     "execution_count": 51
    }
   ],
   "source": [
    "len(Info)"
   ]
  },
  {
   "cell_type": "code",
   "execution_count": 52,
   "metadata": {},
   "outputs": [
    {
     "output_type": "execute_result",
     "data": {
      "text/plain": [
       "                   IP                                               Info\n",
       "0           127.0.0.1                                                NaN\n",
       "1       66.249.76.216  {'ip': '66.249.76.216', 'country_code': 'US', ...\n",
       "2        5.255.253.53  {'ip': '5.255.253.53', 'country_code': 'RU', '...\n",
       "3       157.55.35.112  {'ip': '157.55.35.112', 'country_code': 'US', ...\n",
       "4     193.111.141.116  {'ip': '193.111.141.116', 'country_code': 'DE'...\n",
       "...               ...                                                ...\n",
       "2916    46.222.83.180  {'ip': '46.222.83.180', 'country_code': 'ES', ...\n",
       "2917    79.155.78.117  {'ip': '79.155.78.117', 'country_code': 'ES', ...\n",
       "2918  217.174.248.179  {'ip': '217.174.248.179', 'country_code': 'GB'...\n",
       "2919   188.135.173.80  {'ip': '188.135.173.80', 'country_code': 'IT',...\n",
       "2920     206.198.5.33  {'ip': '206.198.5.33', 'country_code': 'US', '...\n",
       "\n",
       "[2921 rows x 2 columns]"
      ],
      "text/html": "<div>\n<style scoped>\n    .dataframe tbody tr th:only-of-type {\n        vertical-align: middle;\n    }\n\n    .dataframe tbody tr th {\n        vertical-align: top;\n    }\n\n    .dataframe thead th {\n        text-align: right;\n    }\n</style>\n<table border=\"1\" class=\"dataframe\">\n  <thead>\n    <tr style=\"text-align: right;\">\n      <th></th>\n      <th>IP</th>\n      <th>Info</th>\n    </tr>\n  </thead>\n  <tbody>\n    <tr>\n      <th>0</th>\n      <td>127.0.0.1</td>\n      <td>NaN</td>\n    </tr>\n    <tr>\n      <th>1</th>\n      <td>66.249.76.216</td>\n      <td>{'ip': '66.249.76.216', 'country_code': 'US', ...</td>\n    </tr>\n    <tr>\n      <th>2</th>\n      <td>5.255.253.53</td>\n      <td>{'ip': '5.255.253.53', 'country_code': 'RU', '...</td>\n    </tr>\n    <tr>\n      <th>3</th>\n      <td>157.55.35.112</td>\n      <td>{'ip': '157.55.35.112', 'country_code': 'US', ...</td>\n    </tr>\n    <tr>\n      <th>4</th>\n      <td>193.111.141.116</td>\n      <td>{'ip': '193.111.141.116', 'country_code': 'DE'...</td>\n    </tr>\n    <tr>\n      <th>...</th>\n      <td>...</td>\n      <td>...</td>\n    </tr>\n    <tr>\n      <th>2916</th>\n      <td>46.222.83.180</td>\n      <td>{'ip': '46.222.83.180', 'country_code': 'ES', ...</td>\n    </tr>\n    <tr>\n      <th>2917</th>\n      <td>79.155.78.117</td>\n      <td>{'ip': '79.155.78.117', 'country_code': 'ES', ...</td>\n    </tr>\n    <tr>\n      <th>2918</th>\n      <td>217.174.248.179</td>\n      <td>{'ip': '217.174.248.179', 'country_code': 'GB'...</td>\n    </tr>\n    <tr>\n      <th>2919</th>\n      <td>188.135.173.80</td>\n      <td>{'ip': '188.135.173.80', 'country_code': 'IT',...</td>\n    </tr>\n    <tr>\n      <th>2920</th>\n      <td>206.198.5.33</td>\n      <td>{'ip': '206.198.5.33', 'country_code': 'US', '...</td>\n    </tr>\n  </tbody>\n</table>\n<p>2921 rows × 2 columns</p>\n</div>"
     },
     "metadata": {},
     "execution_count": 52
    }
   ],
   "source": [
    "Info['Info'] = ips_info\n",
    "Info"
   ]
  },
  {
   "source": [
    "- Do a merge by the column of IPs"
   ],
   "cell_type": "markdown",
   "metadata": {}
  },
  {
   "cell_type": "code",
   "execution_count": 54,
   "metadata": {},
   "outputs": [],
   "source": [
    "Logs_copy = Logs_copy.merge(Info, on='IP', how='inner')"
   ]
  },
  {
   "source": [
    "- Check the result"
   ],
   "cell_type": "markdown",
   "metadata": {}
  },
  {
   "cell_type": "code",
   "execution_count": 56,
   "metadata": {},
   "outputs": [
    {
     "output_type": "execute_result",
     "data": {
      "text/plain": [
       "                      DNS               IP         Date            Time  \\\n",
       "0               localhost        127.0.0.1  23/Feb/2014  03:10:31 +0100   \n",
       "1               localhost        127.0.0.1  23/Feb/2014  03:10:31 +0100   \n",
       "2               localhost        127.0.0.1  23/Feb/2014  03:10:31 +0100   \n",
       "3               localhost        127.0.0.1  23/Feb/2014  03:10:31 +0100   \n",
       "4               localhost        127.0.0.1  23/Feb/2014  03:10:31 +0100   \n",
       "...                   ...              ...          ...             ...   \n",
       "261868          localhost  217.174.248.179  02/Mar/2014  02:34:43 +0100   \n",
       "261869          localhost  217.174.248.179  02/Mar/2014  02:34:43 +0100   \n",
       "261870  www.akumenius.com   188.135.173.80  02/Mar/2014  02:44:08 +0100   \n",
       "261871  www.akumenius.com   188.135.173.80  02/Mar/2014  02:44:09 +0100   \n",
       "261872  www.akumenius.com     206.198.5.33  02/Mar/2014  03:02:33 +0100   \n",
       "\n",
       "                                                  Request Status   Size  \\\n",
       "0                                      OPTIONS * HTTP/1.0    200    NaN   \n",
       "1                                      OPTIONS * HTTP/1.0    200    NaN   \n",
       "2                                      OPTIONS * HTTP/1.0    200    NaN   \n",
       "3                                      OPTIONS * HTTP/1.0    200    NaN   \n",
       "4                                      OPTIONS * HTTP/1.0    200    NaN   \n",
       "...                                                   ...    ...    ...   \n",
       "261868  POST /cgi-bin/php4?%2D%64+%61%6C%6C%6F%77%5F%7...    403    278   \n",
       "261869  POST /?%2D%64+%61%6C%6C%6F%77%5F%75%72%6C%5F%6...    403    266   \n",
       "261870  GET /destinos-baratos/hoteles-en-Alvor_PORTUGA...    200  21144   \n",
       "261871  GET /destinos-baratos/hoteles-baratos/ofertas-...    200   6597   \n",
       "261872                             GET /icon.png HTTP/1.1    304    304   \n",
       "\n",
       "                          Referer  \\\n",
       "0                             NaN   \n",
       "1                             NaN   \n",
       "2                             NaN   \n",
       "3                             NaN   \n",
       "4                             NaN   \n",
       "...                           ...   \n",
       "261868                        NaN   \n",
       "261869                        NaN   \n",
       "261870  http://www.akumenius.com/   \n",
       "261871  http://www.akumenius.com/   \n",
       "261872                        NaN   \n",
       "\n",
       "                                                UserAgent  \\\n",
       "0              Apache (internal dummy connection)\" VLOG=-   \n",
       "1              Apache (internal dummy connection)\" VLOG=-   \n",
       "2              Apache (internal dummy connection)\" VLOG=-   \n",
       "3              Apache (internal dummy connection)\" VLOG=-   \n",
       "4              Apache (internal dummy connection)\" VLOG=-   \n",
       "...                                                   ...   \n",
       "261868  Mozilla/5.0 (iPad; CPU OS 6_0 like Mac OS X) A...   \n",
       "261869  Mozilla/5.0 (iPad; CPU OS 6_0 like Mac OS X) A...   \n",
       "261870  Mozilla/5.0 (Windows NT 6.1) AppleWebKit/537.3...   \n",
       "261871  Mozilla/5.0 (Windows NT 6.1) AppleWebKit/537.3...   \n",
       "261872                  Mozilla/4.0 (compatible;)\" VLOG=-   \n",
       "\n",
       "                                                     Info  \n",
       "0                                                     NaN  \n",
       "1                                                     NaN  \n",
       "2                                                     NaN  \n",
       "3                                                     NaN  \n",
       "4                                                     NaN  \n",
       "...                                                   ...  \n",
       "261868  {'ip': '217.174.248.179', 'country_code': 'GB'...  \n",
       "261869  {'ip': '217.174.248.179', 'country_code': 'GB'...  \n",
       "261870  {'ip': '188.135.173.80', 'country_code': 'IT',...  \n",
       "261871  {'ip': '188.135.173.80', 'country_code': 'IT',...  \n",
       "261872  {'ip': '206.198.5.33', 'country_code': 'US', '...  \n",
       "\n",
       "[261873 rows x 10 columns]"
      ],
      "text/html": "<div>\n<style scoped>\n    .dataframe tbody tr th:only-of-type {\n        vertical-align: middle;\n    }\n\n    .dataframe tbody tr th {\n        vertical-align: top;\n    }\n\n    .dataframe thead th {\n        text-align: right;\n    }\n</style>\n<table border=\"1\" class=\"dataframe\">\n  <thead>\n    <tr style=\"text-align: right;\">\n      <th></th>\n      <th>DNS</th>\n      <th>IP</th>\n      <th>Date</th>\n      <th>Time</th>\n      <th>Request</th>\n      <th>Status</th>\n      <th>Size</th>\n      <th>Referer</th>\n      <th>UserAgent</th>\n      <th>Info</th>\n    </tr>\n  </thead>\n  <tbody>\n    <tr>\n      <th>0</th>\n      <td>localhost</td>\n      <td>127.0.0.1</td>\n      <td>23/Feb/2014</td>\n      <td>03:10:31 +0100</td>\n      <td>OPTIONS * HTTP/1.0</td>\n      <td>200</td>\n      <td>NaN</td>\n      <td>NaN</td>\n      <td>Apache (internal dummy connection)\" VLOG=-</td>\n      <td>NaN</td>\n    </tr>\n    <tr>\n      <th>1</th>\n      <td>localhost</td>\n      <td>127.0.0.1</td>\n      <td>23/Feb/2014</td>\n      <td>03:10:31 +0100</td>\n      <td>OPTIONS * HTTP/1.0</td>\n      <td>200</td>\n      <td>NaN</td>\n      <td>NaN</td>\n      <td>Apache (internal dummy connection)\" VLOG=-</td>\n      <td>NaN</td>\n    </tr>\n    <tr>\n      <th>2</th>\n      <td>localhost</td>\n      <td>127.0.0.1</td>\n      <td>23/Feb/2014</td>\n      <td>03:10:31 +0100</td>\n      <td>OPTIONS * HTTP/1.0</td>\n      <td>200</td>\n      <td>NaN</td>\n      <td>NaN</td>\n      <td>Apache (internal dummy connection)\" VLOG=-</td>\n      <td>NaN</td>\n    </tr>\n    <tr>\n      <th>3</th>\n      <td>localhost</td>\n      <td>127.0.0.1</td>\n      <td>23/Feb/2014</td>\n      <td>03:10:31 +0100</td>\n      <td>OPTIONS * HTTP/1.0</td>\n      <td>200</td>\n      <td>NaN</td>\n      <td>NaN</td>\n      <td>Apache (internal dummy connection)\" VLOG=-</td>\n      <td>NaN</td>\n    </tr>\n    <tr>\n      <th>4</th>\n      <td>localhost</td>\n      <td>127.0.0.1</td>\n      <td>23/Feb/2014</td>\n      <td>03:10:31 +0100</td>\n      <td>OPTIONS * HTTP/1.0</td>\n      <td>200</td>\n      <td>NaN</td>\n      <td>NaN</td>\n      <td>Apache (internal dummy connection)\" VLOG=-</td>\n      <td>NaN</td>\n    </tr>\n    <tr>\n      <th>...</th>\n      <td>...</td>\n      <td>...</td>\n      <td>...</td>\n      <td>...</td>\n      <td>...</td>\n      <td>...</td>\n      <td>...</td>\n      <td>...</td>\n      <td>...</td>\n      <td>...</td>\n    </tr>\n    <tr>\n      <th>261868</th>\n      <td>localhost</td>\n      <td>217.174.248.179</td>\n      <td>02/Mar/2014</td>\n      <td>02:34:43 +0100</td>\n      <td>POST /cgi-bin/php4?%2D%64+%61%6C%6C%6F%77%5F%7...</td>\n      <td>403</td>\n      <td>278</td>\n      <td>NaN</td>\n      <td>Mozilla/5.0 (iPad; CPU OS 6_0 like Mac OS X) A...</td>\n      <td>{'ip': '217.174.248.179', 'country_code': 'GB'...</td>\n    </tr>\n    <tr>\n      <th>261869</th>\n      <td>localhost</td>\n      <td>217.174.248.179</td>\n      <td>02/Mar/2014</td>\n      <td>02:34:43 +0100</td>\n      <td>POST /?%2D%64+%61%6C%6C%6F%77%5F%75%72%6C%5F%6...</td>\n      <td>403</td>\n      <td>266</td>\n      <td>NaN</td>\n      <td>Mozilla/5.0 (iPad; CPU OS 6_0 like Mac OS X) A...</td>\n      <td>{'ip': '217.174.248.179', 'country_code': 'GB'...</td>\n    </tr>\n    <tr>\n      <th>261870</th>\n      <td>www.akumenius.com</td>\n      <td>188.135.173.80</td>\n      <td>02/Mar/2014</td>\n      <td>02:44:08 +0100</td>\n      <td>GET /destinos-baratos/hoteles-en-Alvor_PORTUGA...</td>\n      <td>200</td>\n      <td>21144</td>\n      <td>http://www.akumenius.com/</td>\n      <td>Mozilla/5.0 (Windows NT 6.1) AppleWebKit/537.3...</td>\n      <td>{'ip': '188.135.173.80', 'country_code': 'IT',...</td>\n    </tr>\n    <tr>\n      <th>261871</th>\n      <td>www.akumenius.com</td>\n      <td>188.135.173.80</td>\n      <td>02/Mar/2014</td>\n      <td>02:44:09 +0100</td>\n      <td>GET /destinos-baratos/hoteles-baratos/ofertas-...</td>\n      <td>200</td>\n      <td>6597</td>\n      <td>http://www.akumenius.com/</td>\n      <td>Mozilla/5.0 (Windows NT 6.1) AppleWebKit/537.3...</td>\n      <td>{'ip': '188.135.173.80', 'country_code': 'IT',...</td>\n    </tr>\n    <tr>\n      <th>261872</th>\n      <td>www.akumenius.com</td>\n      <td>206.198.5.33</td>\n      <td>02/Mar/2014</td>\n      <td>03:02:33 +0100</td>\n      <td>GET /icon.png HTTP/1.1</td>\n      <td>304</td>\n      <td>304</td>\n      <td>NaN</td>\n      <td>Mozilla/4.0 (compatible;)\" VLOG=-</td>\n      <td>{'ip': '206.198.5.33', 'country_code': 'US', '...</td>\n    </tr>\n  </tbody>\n</table>\n<p>261873 rows × 10 columns</p>\n</div>"
     },
     "metadata": {},
     "execution_count": 56
    }
   ],
   "source": [
    "Logs_copy"
   ]
  },
  {
   "cell_type": "markdown",
   "metadata": {},
   "source": [
    "###  Exercici 4\n",
    "- Mostreu-me la teva creativitat, Sorprèn-me fes un pas més enllà amb el analysis anterior."
   ]
  },
  {
   "source": [
    "- Extract data from location information"
   ],
   "cell_type": "markdown",
   "metadata": {}
  },
  {
   "source": [
    "In progress ..."
   ],
   "cell_type": "markdown",
   "metadata": {}
  },
  {
   "source": [
    "- Extract UserAgent Data"
   ],
   "cell_type": "markdown",
   "metadata": {}
  },
  {
   "cell_type": "code",
   "execution_count": 57,
   "metadata": {},
   "outputs": [],
   "source": [
    "from device_detector import SoftwareDetector\n",
    "\n",
    "Devices = Logs_copy.UserAgent\n",
    "device = []\n",
    "\n",
    "for x in Devices:\n",
    "    \n",
    "    device.append(SoftwareDetector(x).parse())\n",
    "\n",
    "client_name = []\n",
    "client_type = []\n",
    "client_version = []\n",
    "os_name = []\n",
    "os_version = []\n",
    "device_type = []\n",
    "\n",
    "for x in device:\n",
    "    \n",
    "    client_name.append(x.client_name())\n",
    "    client_type.append(x.client_type())\n",
    "    client_version.append(x.client_version())\n",
    "    os_name.append(x.os_name())\n",
    "    os_version.append(x.os_version())\n",
    "    device_type.append(x.device_type())\n",
    "\n",
    "Logs_copy['Client_Name'] = client_name\n",
    "Logs_copy['Client_Type'] = client_type\n",
    "Logs_copy['Client_Version'] = client_version\n",
    "Logs_copy['Os_Name'] = os_name\n",
    "Logs_copy['Os_Version'] = os_version\n",
    "Logs_copy['Device_Type'] = device_type"
   ]
  },
  {
   "source": [
    "- Check the result"
   ],
   "cell_type": "markdown",
   "metadata": {}
  },
  {
   "cell_type": "code",
   "execution_count": 60,
   "metadata": {},
   "outputs": [
    {
     "output_type": "execute_result",
     "data": {
      "text/plain": [
       "                      DNS               IP         Date            Time  \\\n",
       "0               localhost        127.0.0.1  23/Feb/2014  03:10:31 +0100   \n",
       "1               localhost        127.0.0.1  23/Feb/2014  03:10:31 +0100   \n",
       "2               localhost        127.0.0.1  23/Feb/2014  03:10:31 +0100   \n",
       "3               localhost        127.0.0.1  23/Feb/2014  03:10:31 +0100   \n",
       "4               localhost        127.0.0.1  23/Feb/2014  03:10:31 +0100   \n",
       "...                   ...              ...          ...             ...   \n",
       "261868          localhost  217.174.248.179  02/Mar/2014  02:34:43 +0100   \n",
       "261869          localhost  217.174.248.179  02/Mar/2014  02:34:43 +0100   \n",
       "261870  www.akumenius.com   188.135.173.80  02/Mar/2014  02:44:08 +0100   \n",
       "261871  www.akumenius.com   188.135.173.80  02/Mar/2014  02:44:09 +0100   \n",
       "261872  www.akumenius.com     206.198.5.33  02/Mar/2014  03:02:33 +0100   \n",
       "\n",
       "                                                  Request Status   Size  \\\n",
       "0                                      OPTIONS * HTTP/1.0    200    NaN   \n",
       "1                                      OPTIONS * HTTP/1.0    200    NaN   \n",
       "2                                      OPTIONS * HTTP/1.0    200    NaN   \n",
       "3                                      OPTIONS * HTTP/1.0    200    NaN   \n",
       "4                                      OPTIONS * HTTP/1.0    200    NaN   \n",
       "...                                                   ...    ...    ...   \n",
       "261868  POST /cgi-bin/php4?%2D%64+%61%6C%6C%6F%77%5F%7...    403    278   \n",
       "261869  POST /?%2D%64+%61%6C%6C%6F%77%5F%75%72%6C%5F%6...    403    266   \n",
       "261870  GET /destinos-baratos/hoteles-en-Alvor_PORTUGA...    200  21144   \n",
       "261871  GET /destinos-baratos/hoteles-baratos/ofertas-...    200   6597   \n",
       "261872                             GET /icon.png HTTP/1.1    304    304   \n",
       "\n",
       "                          Referer  \\\n",
       "0                             NaN   \n",
       "1                             NaN   \n",
       "2                             NaN   \n",
       "3                             NaN   \n",
       "4                             NaN   \n",
       "...                           ...   \n",
       "261868                        NaN   \n",
       "261869                        NaN   \n",
       "261870  http://www.akumenius.com/   \n",
       "261871  http://www.akumenius.com/   \n",
       "261872                        NaN   \n",
       "\n",
       "                                                UserAgent  \\\n",
       "0              Apache (internal dummy connection)\" VLOG=-   \n",
       "1              Apache (internal dummy connection)\" VLOG=-   \n",
       "2              Apache (internal dummy connection)\" VLOG=-   \n",
       "3              Apache (internal dummy connection)\" VLOG=-   \n",
       "4              Apache (internal dummy connection)\" VLOG=-   \n",
       "...                                                   ...   \n",
       "261868  Mozilla/5.0 (iPad; CPU OS 6_0 like Mac OS X) A...   \n",
       "261869  Mozilla/5.0 (iPad; CPU OS 6_0 like Mac OS X) A...   \n",
       "261870  Mozilla/5.0 (Windows NT 6.1) AppleWebKit/537.3...   \n",
       "261871  Mozilla/5.0 (Windows NT 6.1) AppleWebKit/537.3...   \n",
       "261872                  Mozilla/4.0 (compatible;)\" VLOG=-   \n",
       "\n",
       "                                                     Info  \\\n",
       "0                                                     NaN   \n",
       "1                                                     NaN   \n",
       "2                                                     NaN   \n",
       "3                                                     NaN   \n",
       "4                                                     NaN   \n",
       "...                                                   ...   \n",
       "261868  {'ip': '217.174.248.179', 'country_code': 'GB'...   \n",
       "261869  {'ip': '217.174.248.179', 'country_code': 'GB'...   \n",
       "261870  {'ip': '188.135.173.80', 'country_code': 'IT',...   \n",
       "261871  {'ip': '188.135.173.80', 'country_code': 'IT',...   \n",
       "261872  {'ip': '206.198.5.33', 'country_code': 'US', '...   \n",
       "\n",
       "                                       Client_Name Client_Type Client_Version  \\\n",
       "0       Apache (internal dummy connection)\" VLOG=-     generic           None   \n",
       "1       Apache (internal dummy connection)\" VLOG=-     generic           None   \n",
       "2       Apache (internal dummy connection)\" VLOG=-     generic           None   \n",
       "3       Apache (internal dummy connection)\" VLOG=-     generic           None   \n",
       "4       Apache (internal dummy connection)\" VLOG=-     generic           None   \n",
       "...                                            ...         ...            ...   \n",
       "261868                               Mobile Safari     browser            6.0   \n",
       "261869                               Mobile Safari     browser            6.0   \n",
       "261870                                      Chrome     browser   28.0.1500.71   \n",
       "261871                                      Chrome     browser   28.0.1500.71   \n",
       "261872                                                                          \n",
       "\n",
       "        Os_Name Os_Version Device_Type  \n",
       "0                                       \n",
       "1                                       \n",
       "2                                       \n",
       "3                                       \n",
       "4                                       \n",
       "...         ...        ...         ...  \n",
       "261868      iOS        6.0              \n",
       "261869      iOS        6.0              \n",
       "261870  Windows          7     desktop  \n",
       "261871  Windows          7     desktop  \n",
       "261872                                  \n",
       "\n",
       "[261873 rows x 16 columns]"
      ],
      "text/html": "<div>\n<style scoped>\n    .dataframe tbody tr th:only-of-type {\n        vertical-align: middle;\n    }\n\n    .dataframe tbody tr th {\n        vertical-align: top;\n    }\n\n    .dataframe thead th {\n        text-align: right;\n    }\n</style>\n<table border=\"1\" class=\"dataframe\">\n  <thead>\n    <tr style=\"text-align: right;\">\n      <th></th>\n      <th>DNS</th>\n      <th>IP</th>\n      <th>Date</th>\n      <th>Time</th>\n      <th>Request</th>\n      <th>Status</th>\n      <th>Size</th>\n      <th>Referer</th>\n      <th>UserAgent</th>\n      <th>Info</th>\n      <th>Client_Name</th>\n      <th>Client_Type</th>\n      <th>Client_Version</th>\n      <th>Os_Name</th>\n      <th>Os_Version</th>\n      <th>Device_Type</th>\n    </tr>\n  </thead>\n  <tbody>\n    <tr>\n      <th>0</th>\n      <td>localhost</td>\n      <td>127.0.0.1</td>\n      <td>23/Feb/2014</td>\n      <td>03:10:31 +0100</td>\n      <td>OPTIONS * HTTP/1.0</td>\n      <td>200</td>\n      <td>NaN</td>\n      <td>NaN</td>\n      <td>Apache (internal dummy connection)\" VLOG=-</td>\n      <td>NaN</td>\n      <td>Apache (internal dummy connection)\" VLOG=-</td>\n      <td>generic</td>\n      <td>None</td>\n      <td></td>\n      <td></td>\n      <td></td>\n    </tr>\n    <tr>\n      <th>1</th>\n      <td>localhost</td>\n      <td>127.0.0.1</td>\n      <td>23/Feb/2014</td>\n      <td>03:10:31 +0100</td>\n      <td>OPTIONS * HTTP/1.0</td>\n      <td>200</td>\n      <td>NaN</td>\n      <td>NaN</td>\n      <td>Apache (internal dummy connection)\" VLOG=-</td>\n      <td>NaN</td>\n      <td>Apache (internal dummy connection)\" VLOG=-</td>\n      <td>generic</td>\n      <td>None</td>\n      <td></td>\n      <td></td>\n      <td></td>\n    </tr>\n    <tr>\n      <th>2</th>\n      <td>localhost</td>\n      <td>127.0.0.1</td>\n      <td>23/Feb/2014</td>\n      <td>03:10:31 +0100</td>\n      <td>OPTIONS * HTTP/1.0</td>\n      <td>200</td>\n      <td>NaN</td>\n      <td>NaN</td>\n      <td>Apache (internal dummy connection)\" VLOG=-</td>\n      <td>NaN</td>\n      <td>Apache (internal dummy connection)\" VLOG=-</td>\n      <td>generic</td>\n      <td>None</td>\n      <td></td>\n      <td></td>\n      <td></td>\n    </tr>\n    <tr>\n      <th>3</th>\n      <td>localhost</td>\n      <td>127.0.0.1</td>\n      <td>23/Feb/2014</td>\n      <td>03:10:31 +0100</td>\n      <td>OPTIONS * HTTP/1.0</td>\n      <td>200</td>\n      <td>NaN</td>\n      <td>NaN</td>\n      <td>Apache (internal dummy connection)\" VLOG=-</td>\n      <td>NaN</td>\n      <td>Apache (internal dummy connection)\" VLOG=-</td>\n      <td>generic</td>\n      <td>None</td>\n      <td></td>\n      <td></td>\n      <td></td>\n    </tr>\n    <tr>\n      <th>4</th>\n      <td>localhost</td>\n      <td>127.0.0.1</td>\n      <td>23/Feb/2014</td>\n      <td>03:10:31 +0100</td>\n      <td>OPTIONS * HTTP/1.0</td>\n      <td>200</td>\n      <td>NaN</td>\n      <td>NaN</td>\n      <td>Apache (internal dummy connection)\" VLOG=-</td>\n      <td>NaN</td>\n      <td>Apache (internal dummy connection)\" VLOG=-</td>\n      <td>generic</td>\n      <td>None</td>\n      <td></td>\n      <td></td>\n      <td></td>\n    </tr>\n    <tr>\n      <th>...</th>\n      <td>...</td>\n      <td>...</td>\n      <td>...</td>\n      <td>...</td>\n      <td>...</td>\n      <td>...</td>\n      <td>...</td>\n      <td>...</td>\n      <td>...</td>\n      <td>...</td>\n      <td>...</td>\n      <td>...</td>\n      <td>...</td>\n      <td>...</td>\n      <td>...</td>\n      <td>...</td>\n    </tr>\n    <tr>\n      <th>261868</th>\n      <td>localhost</td>\n      <td>217.174.248.179</td>\n      <td>02/Mar/2014</td>\n      <td>02:34:43 +0100</td>\n      <td>POST /cgi-bin/php4?%2D%64+%61%6C%6C%6F%77%5F%7...</td>\n      <td>403</td>\n      <td>278</td>\n      <td>NaN</td>\n      <td>Mozilla/5.0 (iPad; CPU OS 6_0 like Mac OS X) A...</td>\n      <td>{'ip': '217.174.248.179', 'country_code': 'GB'...</td>\n      <td>Mobile Safari</td>\n      <td>browser</td>\n      <td>6.0</td>\n      <td>iOS</td>\n      <td>6.0</td>\n      <td></td>\n    </tr>\n    <tr>\n      <th>261869</th>\n      <td>localhost</td>\n      <td>217.174.248.179</td>\n      <td>02/Mar/2014</td>\n      <td>02:34:43 +0100</td>\n      <td>POST /?%2D%64+%61%6C%6C%6F%77%5F%75%72%6C%5F%6...</td>\n      <td>403</td>\n      <td>266</td>\n      <td>NaN</td>\n      <td>Mozilla/5.0 (iPad; CPU OS 6_0 like Mac OS X) A...</td>\n      <td>{'ip': '217.174.248.179', 'country_code': 'GB'...</td>\n      <td>Mobile Safari</td>\n      <td>browser</td>\n      <td>6.0</td>\n      <td>iOS</td>\n      <td>6.0</td>\n      <td></td>\n    </tr>\n    <tr>\n      <th>261870</th>\n      <td>www.akumenius.com</td>\n      <td>188.135.173.80</td>\n      <td>02/Mar/2014</td>\n      <td>02:44:08 +0100</td>\n      <td>GET /destinos-baratos/hoteles-en-Alvor_PORTUGA...</td>\n      <td>200</td>\n      <td>21144</td>\n      <td>http://www.akumenius.com/</td>\n      <td>Mozilla/5.0 (Windows NT 6.1) AppleWebKit/537.3...</td>\n      <td>{'ip': '188.135.173.80', 'country_code': 'IT',...</td>\n      <td>Chrome</td>\n      <td>browser</td>\n      <td>28.0.1500.71</td>\n      <td>Windows</td>\n      <td>7</td>\n      <td>desktop</td>\n    </tr>\n    <tr>\n      <th>261871</th>\n      <td>www.akumenius.com</td>\n      <td>188.135.173.80</td>\n      <td>02/Mar/2014</td>\n      <td>02:44:09 +0100</td>\n      <td>GET /destinos-baratos/hoteles-baratos/ofertas-...</td>\n      <td>200</td>\n      <td>6597</td>\n      <td>http://www.akumenius.com/</td>\n      <td>Mozilla/5.0 (Windows NT 6.1) AppleWebKit/537.3...</td>\n      <td>{'ip': '188.135.173.80', 'country_code': 'IT',...</td>\n      <td>Chrome</td>\n      <td>browser</td>\n      <td>28.0.1500.71</td>\n      <td>Windows</td>\n      <td>7</td>\n      <td>desktop</td>\n    </tr>\n    <tr>\n      <th>261872</th>\n      <td>www.akumenius.com</td>\n      <td>206.198.5.33</td>\n      <td>02/Mar/2014</td>\n      <td>03:02:33 +0100</td>\n      <td>GET /icon.png HTTP/1.1</td>\n      <td>304</td>\n      <td>304</td>\n      <td>NaN</td>\n      <td>Mozilla/4.0 (compatible;)\" VLOG=-</td>\n      <td>{'ip': '206.198.5.33', 'country_code': 'US', '...</td>\n      <td></td>\n      <td></td>\n      <td></td>\n      <td></td>\n      <td></td>\n      <td></td>\n    </tr>\n  </tbody>\n</table>\n<p>261873 rows × 16 columns</p>\n</div>"
     },
     "metadata": {},
     "execution_count": 60
    }
   ],
   "source": [
    "Logs_copy"
   ]
  },
  {
   "cell_type": "code",
   "execution_count": 61,
   "metadata": {},
   "outputs": [
    {
     "output_type": "execute_result",
     "data": {
      "text/plain": [
       "'Apache (internal dummy connection)\" VLOG=-'"
      ]
     },
     "metadata": {},
     "execution_count": 61
    }
   ],
   "source": [
    "Logs_copy.UserAgent[0]"
   ]
  },
  {
   "source": [
    "- The column from which we have extracted the data is deleted"
   ],
   "cell_type": "markdown",
   "metadata": {}
  },
  {
   "cell_type": "code",
   "execution_count": 62,
   "metadata": {},
   "outputs": [
    {
     "output_type": "execute_result",
     "data": {
      "text/plain": [
       "                      DNS               IP         Date            Time  \\\n",
       "261868          localhost  217.174.248.179  02/Mar/2014  02:34:43 +0100   \n",
       "261869          localhost  217.174.248.179  02/Mar/2014  02:34:43 +0100   \n",
       "261870  www.akumenius.com   188.135.173.80  02/Mar/2014  02:44:08 +0100   \n",
       "261871  www.akumenius.com   188.135.173.80  02/Mar/2014  02:44:09 +0100   \n",
       "261872  www.akumenius.com     206.198.5.33  02/Mar/2014  03:02:33 +0100   \n",
       "\n",
       "                                                  Request Status   Size  \\\n",
       "261868  POST /cgi-bin/php4?%2D%64+%61%6C%6C%6F%77%5F%7...    403    278   \n",
       "261869  POST /?%2D%64+%61%6C%6C%6F%77%5F%75%72%6C%5F%6...    403    266   \n",
       "261870  GET /destinos-baratos/hoteles-en-Alvor_PORTUGA...    200  21144   \n",
       "261871  GET /destinos-baratos/hoteles-baratos/ofertas-...    200   6597   \n",
       "261872                             GET /icon.png HTTP/1.1    304    304   \n",
       "\n",
       "                          Referer  \\\n",
       "261868                        NaN   \n",
       "261869                        NaN   \n",
       "261870  http://www.akumenius.com/   \n",
       "261871  http://www.akumenius.com/   \n",
       "261872                        NaN   \n",
       "\n",
       "                                                     Info    Client_Name  \\\n",
       "261868  {'ip': '217.174.248.179', 'country_code': 'GB'...  Mobile Safari   \n",
       "261869  {'ip': '217.174.248.179', 'country_code': 'GB'...  Mobile Safari   \n",
       "261870  {'ip': '188.135.173.80', 'country_code': 'IT',...         Chrome   \n",
       "261871  {'ip': '188.135.173.80', 'country_code': 'IT',...         Chrome   \n",
       "261872  {'ip': '206.198.5.33', 'country_code': 'US', '...                  \n",
       "\n",
       "       Client_Type Client_Version  Os_Name Os_Version Device_Type  \n",
       "261868     browser            6.0      iOS        6.0              \n",
       "261869     browser            6.0      iOS        6.0              \n",
       "261870     browser   28.0.1500.71  Windows          7     desktop  \n",
       "261871     browser   28.0.1500.71  Windows          7     desktop  \n",
       "261872                                                             "
      ],
      "text/html": "<div>\n<style scoped>\n    .dataframe tbody tr th:only-of-type {\n        vertical-align: middle;\n    }\n\n    .dataframe tbody tr th {\n        vertical-align: top;\n    }\n\n    .dataframe thead th {\n        text-align: right;\n    }\n</style>\n<table border=\"1\" class=\"dataframe\">\n  <thead>\n    <tr style=\"text-align: right;\">\n      <th></th>\n      <th>DNS</th>\n      <th>IP</th>\n      <th>Date</th>\n      <th>Time</th>\n      <th>Request</th>\n      <th>Status</th>\n      <th>Size</th>\n      <th>Referer</th>\n      <th>Info</th>\n      <th>Client_Name</th>\n      <th>Client_Type</th>\n      <th>Client_Version</th>\n      <th>Os_Name</th>\n      <th>Os_Version</th>\n      <th>Device_Type</th>\n    </tr>\n  </thead>\n  <tbody>\n    <tr>\n      <th>261868</th>\n      <td>localhost</td>\n      <td>217.174.248.179</td>\n      <td>02/Mar/2014</td>\n      <td>02:34:43 +0100</td>\n      <td>POST /cgi-bin/php4?%2D%64+%61%6C%6C%6F%77%5F%7...</td>\n      <td>403</td>\n      <td>278</td>\n      <td>NaN</td>\n      <td>{'ip': '217.174.248.179', 'country_code': 'GB'...</td>\n      <td>Mobile Safari</td>\n      <td>browser</td>\n      <td>6.0</td>\n      <td>iOS</td>\n      <td>6.0</td>\n      <td></td>\n    </tr>\n    <tr>\n      <th>261869</th>\n      <td>localhost</td>\n      <td>217.174.248.179</td>\n      <td>02/Mar/2014</td>\n      <td>02:34:43 +0100</td>\n      <td>POST /?%2D%64+%61%6C%6C%6F%77%5F%75%72%6C%5F%6...</td>\n      <td>403</td>\n      <td>266</td>\n      <td>NaN</td>\n      <td>{'ip': '217.174.248.179', 'country_code': 'GB'...</td>\n      <td>Mobile Safari</td>\n      <td>browser</td>\n      <td>6.0</td>\n      <td>iOS</td>\n      <td>6.0</td>\n      <td></td>\n    </tr>\n    <tr>\n      <th>261870</th>\n      <td>www.akumenius.com</td>\n      <td>188.135.173.80</td>\n      <td>02/Mar/2014</td>\n      <td>02:44:08 +0100</td>\n      <td>GET /destinos-baratos/hoteles-en-Alvor_PORTUGA...</td>\n      <td>200</td>\n      <td>21144</td>\n      <td>http://www.akumenius.com/</td>\n      <td>{'ip': '188.135.173.80', 'country_code': 'IT',...</td>\n      <td>Chrome</td>\n      <td>browser</td>\n      <td>28.0.1500.71</td>\n      <td>Windows</td>\n      <td>7</td>\n      <td>desktop</td>\n    </tr>\n    <tr>\n      <th>261871</th>\n      <td>www.akumenius.com</td>\n      <td>188.135.173.80</td>\n      <td>02/Mar/2014</td>\n      <td>02:44:09 +0100</td>\n      <td>GET /destinos-baratos/hoteles-baratos/ofertas-...</td>\n      <td>200</td>\n      <td>6597</td>\n      <td>http://www.akumenius.com/</td>\n      <td>{'ip': '188.135.173.80', 'country_code': 'IT',...</td>\n      <td>Chrome</td>\n      <td>browser</td>\n      <td>28.0.1500.71</td>\n      <td>Windows</td>\n      <td>7</td>\n      <td>desktop</td>\n    </tr>\n    <tr>\n      <th>261872</th>\n      <td>www.akumenius.com</td>\n      <td>206.198.5.33</td>\n      <td>02/Mar/2014</td>\n      <td>03:02:33 +0100</td>\n      <td>GET /icon.png HTTP/1.1</td>\n      <td>304</td>\n      <td>304</td>\n      <td>NaN</td>\n      <td>{'ip': '206.198.5.33', 'country_code': 'US', '...</td>\n      <td></td>\n      <td></td>\n      <td></td>\n      <td></td>\n      <td></td>\n      <td></td>\n    </tr>\n  </tbody>\n</table>\n</div>"
     },
     "metadata": {},
     "execution_count": 62
    }
   ],
   "source": [
    "del(Logs_copy['UserAgent'])\n",
    "\n",
    "Logs_copy.tail()"
   ]
  },
  {
   "source": [
    "- Clean Client Data"
   ],
   "cell_type": "markdown",
   "metadata": {}
  },
  {
   "cell_type": "code",
   "execution_count": null,
   "metadata": {},
   "outputs": [],
   "source": [
    "%%time\n",
    "\n",
    "Logs_copy.Client_Name = Logs_copy.Client_Name.apply(lambda x: (x[0:6] if re.search('Apache', x) else x))"
   ]
  },
  {
   "cell_type": "code",
   "execution_count": 65,
   "metadata": {},
   "outputs": [
    {
     "output_type": "execute_result",
     "data": {
      "text/plain": [
       "                      DNS               IP         Date            Time  \\\n",
       "0               localhost        127.0.0.1  23/Feb/2014  03:10:31 +0100   \n",
       "1               localhost        127.0.0.1  23/Feb/2014  03:10:31 +0100   \n",
       "2               localhost        127.0.0.1  23/Feb/2014  03:10:31 +0100   \n",
       "3               localhost        127.0.0.1  23/Feb/2014  03:10:31 +0100   \n",
       "4               localhost        127.0.0.1  23/Feb/2014  03:10:31 +0100   \n",
       "...                   ...              ...          ...             ...   \n",
       "261868          localhost  217.174.248.179  02/Mar/2014  02:34:43 +0100   \n",
       "261869          localhost  217.174.248.179  02/Mar/2014  02:34:43 +0100   \n",
       "261870  www.akumenius.com   188.135.173.80  02/Mar/2014  02:44:08 +0100   \n",
       "261871  www.akumenius.com   188.135.173.80  02/Mar/2014  02:44:09 +0100   \n",
       "261872  www.akumenius.com     206.198.5.33  02/Mar/2014  03:02:33 +0100   \n",
       "\n",
       "                                                  Request Status   Size  \\\n",
       "0                                      OPTIONS * HTTP/1.0    200    NaN   \n",
       "1                                      OPTIONS * HTTP/1.0    200    NaN   \n",
       "2                                      OPTIONS * HTTP/1.0    200    NaN   \n",
       "3                                      OPTIONS * HTTP/1.0    200    NaN   \n",
       "4                                      OPTIONS * HTTP/1.0    200    NaN   \n",
       "...                                                   ...    ...    ...   \n",
       "261868  POST /cgi-bin/php4?%2D%64+%61%6C%6C%6F%77%5F%7...    403    278   \n",
       "261869  POST /?%2D%64+%61%6C%6C%6F%77%5F%75%72%6C%5F%6...    403    266   \n",
       "261870  GET /destinos-baratos/hoteles-en-Alvor_PORTUGA...    200  21144   \n",
       "261871  GET /destinos-baratos/hoteles-baratos/ofertas-...    200   6597   \n",
       "261872                             GET /icon.png HTTP/1.1    304    304   \n",
       "\n",
       "                          Referer  \\\n",
       "0                             NaN   \n",
       "1                             NaN   \n",
       "2                             NaN   \n",
       "3                             NaN   \n",
       "4                             NaN   \n",
       "...                           ...   \n",
       "261868                        NaN   \n",
       "261869                        NaN   \n",
       "261870  http://www.akumenius.com/   \n",
       "261871  http://www.akumenius.com/   \n",
       "261872                        NaN   \n",
       "\n",
       "                                                     Info    Client_Name  \\\n",
       "0                                                     NaN         Apache   \n",
       "1                                                     NaN         Apache   \n",
       "2                                                     NaN         Apache   \n",
       "3                                                     NaN         Apache   \n",
       "4                                                     NaN         Apache   \n",
       "...                                                   ...            ...   \n",
       "261868  {'ip': '217.174.248.179', 'country_code': 'GB'...  Mobile Safari   \n",
       "261869  {'ip': '217.174.248.179', 'country_code': 'GB'...  Mobile Safari   \n",
       "261870  {'ip': '188.135.173.80', 'country_code': 'IT',...         Chrome   \n",
       "261871  {'ip': '188.135.173.80', 'country_code': 'IT',...         Chrome   \n",
       "261872  {'ip': '206.198.5.33', 'country_code': 'US', '...                  \n",
       "\n",
       "       Client_Type Client_Version  Os_Name Os_Version Device_Type  \n",
       "0          generic           None                                  \n",
       "1          generic           None                                  \n",
       "2          generic           None                                  \n",
       "3          generic           None                                  \n",
       "4          generic           None                                  \n",
       "...            ...            ...      ...        ...         ...  \n",
       "261868     browser            6.0      iOS        6.0              \n",
       "261869     browser            6.0      iOS        6.0              \n",
       "261870     browser   28.0.1500.71  Windows          7     desktop  \n",
       "261871     browser   28.0.1500.71  Windows          7     desktop  \n",
       "261872                                                             \n",
       "\n",
       "[261873 rows x 15 columns]"
      ],
      "text/html": "<div>\n<style scoped>\n    .dataframe tbody tr th:only-of-type {\n        vertical-align: middle;\n    }\n\n    .dataframe tbody tr th {\n        vertical-align: top;\n    }\n\n    .dataframe thead th {\n        text-align: right;\n    }\n</style>\n<table border=\"1\" class=\"dataframe\">\n  <thead>\n    <tr style=\"text-align: right;\">\n      <th></th>\n      <th>DNS</th>\n      <th>IP</th>\n      <th>Date</th>\n      <th>Time</th>\n      <th>Request</th>\n      <th>Status</th>\n      <th>Size</th>\n      <th>Referer</th>\n      <th>Info</th>\n      <th>Client_Name</th>\n      <th>Client_Type</th>\n      <th>Client_Version</th>\n      <th>Os_Name</th>\n      <th>Os_Version</th>\n      <th>Device_Type</th>\n    </tr>\n  </thead>\n  <tbody>\n    <tr>\n      <th>0</th>\n      <td>localhost</td>\n      <td>127.0.0.1</td>\n      <td>23/Feb/2014</td>\n      <td>03:10:31 +0100</td>\n      <td>OPTIONS * HTTP/1.0</td>\n      <td>200</td>\n      <td>NaN</td>\n      <td>NaN</td>\n      <td>NaN</td>\n      <td>Apache</td>\n      <td>generic</td>\n      <td>None</td>\n      <td></td>\n      <td></td>\n      <td></td>\n    </tr>\n    <tr>\n      <th>1</th>\n      <td>localhost</td>\n      <td>127.0.0.1</td>\n      <td>23/Feb/2014</td>\n      <td>03:10:31 +0100</td>\n      <td>OPTIONS * HTTP/1.0</td>\n      <td>200</td>\n      <td>NaN</td>\n      <td>NaN</td>\n      <td>NaN</td>\n      <td>Apache</td>\n      <td>generic</td>\n      <td>None</td>\n      <td></td>\n      <td></td>\n      <td></td>\n    </tr>\n    <tr>\n      <th>2</th>\n      <td>localhost</td>\n      <td>127.0.0.1</td>\n      <td>23/Feb/2014</td>\n      <td>03:10:31 +0100</td>\n      <td>OPTIONS * HTTP/1.0</td>\n      <td>200</td>\n      <td>NaN</td>\n      <td>NaN</td>\n      <td>NaN</td>\n      <td>Apache</td>\n      <td>generic</td>\n      <td>None</td>\n      <td></td>\n      <td></td>\n      <td></td>\n    </tr>\n    <tr>\n      <th>3</th>\n      <td>localhost</td>\n      <td>127.0.0.1</td>\n      <td>23/Feb/2014</td>\n      <td>03:10:31 +0100</td>\n      <td>OPTIONS * HTTP/1.0</td>\n      <td>200</td>\n      <td>NaN</td>\n      <td>NaN</td>\n      <td>NaN</td>\n      <td>Apache</td>\n      <td>generic</td>\n      <td>None</td>\n      <td></td>\n      <td></td>\n      <td></td>\n    </tr>\n    <tr>\n      <th>4</th>\n      <td>localhost</td>\n      <td>127.0.0.1</td>\n      <td>23/Feb/2014</td>\n      <td>03:10:31 +0100</td>\n      <td>OPTIONS * HTTP/1.0</td>\n      <td>200</td>\n      <td>NaN</td>\n      <td>NaN</td>\n      <td>NaN</td>\n      <td>Apache</td>\n      <td>generic</td>\n      <td>None</td>\n      <td></td>\n      <td></td>\n      <td></td>\n    </tr>\n    <tr>\n      <th>...</th>\n      <td>...</td>\n      <td>...</td>\n      <td>...</td>\n      <td>...</td>\n      <td>...</td>\n      <td>...</td>\n      <td>...</td>\n      <td>...</td>\n      <td>...</td>\n      <td>...</td>\n      <td>...</td>\n      <td>...</td>\n      <td>...</td>\n      <td>...</td>\n      <td>...</td>\n    </tr>\n    <tr>\n      <th>261868</th>\n      <td>localhost</td>\n      <td>217.174.248.179</td>\n      <td>02/Mar/2014</td>\n      <td>02:34:43 +0100</td>\n      <td>POST /cgi-bin/php4?%2D%64+%61%6C%6C%6F%77%5F%7...</td>\n      <td>403</td>\n      <td>278</td>\n      <td>NaN</td>\n      <td>{'ip': '217.174.248.179', 'country_code': 'GB'...</td>\n      <td>Mobile Safari</td>\n      <td>browser</td>\n      <td>6.0</td>\n      <td>iOS</td>\n      <td>6.0</td>\n      <td></td>\n    </tr>\n    <tr>\n      <th>261869</th>\n      <td>localhost</td>\n      <td>217.174.248.179</td>\n      <td>02/Mar/2014</td>\n      <td>02:34:43 +0100</td>\n      <td>POST /?%2D%64+%61%6C%6C%6F%77%5F%75%72%6C%5F%6...</td>\n      <td>403</td>\n      <td>266</td>\n      <td>NaN</td>\n      <td>{'ip': '217.174.248.179', 'country_code': 'GB'...</td>\n      <td>Mobile Safari</td>\n      <td>browser</td>\n      <td>6.0</td>\n      <td>iOS</td>\n      <td>6.0</td>\n      <td></td>\n    </tr>\n    <tr>\n      <th>261870</th>\n      <td>www.akumenius.com</td>\n      <td>188.135.173.80</td>\n      <td>02/Mar/2014</td>\n      <td>02:44:08 +0100</td>\n      <td>GET /destinos-baratos/hoteles-en-Alvor_PORTUGA...</td>\n      <td>200</td>\n      <td>21144</td>\n      <td>http://www.akumenius.com/</td>\n      <td>{'ip': '188.135.173.80', 'country_code': 'IT',...</td>\n      <td>Chrome</td>\n      <td>browser</td>\n      <td>28.0.1500.71</td>\n      <td>Windows</td>\n      <td>7</td>\n      <td>desktop</td>\n    </tr>\n    <tr>\n      <th>261871</th>\n      <td>www.akumenius.com</td>\n      <td>188.135.173.80</td>\n      <td>02/Mar/2014</td>\n      <td>02:44:09 +0100</td>\n      <td>GET /destinos-baratos/hoteles-baratos/ofertas-...</td>\n      <td>200</td>\n      <td>6597</td>\n      <td>http://www.akumenius.com/</td>\n      <td>{'ip': '188.135.173.80', 'country_code': 'IT',...</td>\n      <td>Chrome</td>\n      <td>browser</td>\n      <td>28.0.1500.71</td>\n      <td>Windows</td>\n      <td>7</td>\n      <td>desktop</td>\n    </tr>\n    <tr>\n      <th>261872</th>\n      <td>www.akumenius.com</td>\n      <td>206.198.5.33</td>\n      <td>02/Mar/2014</td>\n      <td>03:02:33 +0100</td>\n      <td>GET /icon.png HTTP/1.1</td>\n      <td>304</td>\n      <td>304</td>\n      <td>NaN</td>\n      <td>{'ip': '206.198.5.33', 'country_code': 'US', '...</td>\n      <td></td>\n      <td></td>\n      <td></td>\n      <td></td>\n      <td></td>\n      <td></td>\n    </tr>\n  </tbody>\n</table>\n<p>261873 rows × 15 columns</p>\n</div>"
     },
     "metadata": {},
     "execution_count": 65
    }
   ],
   "source": [
    "Logs_copy"
   ]
  },
  {
   "source": [
    "- Visualize the data in progress"
   ],
   "cell_type": "markdown",
   "metadata": {}
  },
  {
   "cell_type": "code",
   "execution_count": 66,
   "metadata": {},
   "outputs": [],
   "source": [
    "import matplotlib.pyplot as plt\n",
    "import seaborn as sns\n",
    "%matplotlib inline"
   ]
  },
  {
   "cell_type": "code",
   "execution_count": 68,
   "metadata": {},
   "outputs": [
    {
     "output_type": "execute_result",
     "data": {
      "text/plain": [
       "\"Logs_copy.Location.value_counts(normalize=False).where(Logs_copy.Location.value_counts() > 2000).plot(kind = 'pie', figsize = (10,6))\""
      ]
     },
     "metadata": {},
     "execution_count": 68
    }
   ],
   "source": [
    "\n",
    "Logs_copy.Location.value_counts(normalize=False).where(Logs_copy.Location.value_counts() > 2000).plot(kind = 'pie', figsize = (10,6))"
   ]
  },
  {
   "cell_type": "code",
   "execution_count": null,
   "metadata": {},
   "outputs": [],
   "source": [
    "graph = Logs_copy[['DNS', 'Location']].groupby(['DNS']).count().sort_values(by = 'Location',ascending = False)\n",
    "graph = graph.rename(columns = {'Location' : 'Frequency'})\n",
    "graph.plot.bar(y = 'Frequency', color = 'g', ylabel = 'Frequency', legend = None, figsize = (10,6))\n",
    "plt.show()"
   ]
  },
  {
   "cell_type": "code",
   "execution_count": null,
   "metadata": {},
   "outputs": [],
   "source": [
    "graph = Logs_copy[['Status', 'Time']].groupby(['Status']).count().sort_values(by = 'Time',ascending = False)\n",
    "graph = graph.rename(columns = {'Time' : 'Frequency'})\n",
    "graph.plot.bar(y = 'Frequency', color = 'r', ylabel = 'Frequency', legend = None, figsize = (10,6))\n",
    "plt.show()"
   ]
  },
  {
   "cell_type": "code",
   "execution_count": null,
   "metadata": {},
   "outputs": [],
   "source": [
    "graph = Logs_copy[['Client_Type', 'Time']].groupby(['Client_Type']).count().sort_values(by = 'Time',ascending = False)\n",
    "graph = graph.rename(columns = {'Time' : 'Frequency'})\n",
    "graph.plot.bar(y = 'Frequency', color = 'y', ylabel = 'Frequency', legend = None, figsize = (10,6))\n",
    "plt.show()"
   ]
  },
  {
   "cell_type": "code",
   "execution_count": null,
   "metadata": {},
   "outputs": [],
   "source": [
    "sns.displot(data = Logs_copy, x = \"Os_Name\", hue = \"Date\", multiple = \"stack\")"
   ]
  },
  {
   "cell_type": "code",
   "execution_count": null,
   "metadata": {},
   "outputs": [],
   "source": [
    "sns.displot(Logs_copy.Os_Name)"
   ]
  },
  {
   "cell_type": "code",
   "execution_count": null,
   "metadata": {},
   "outputs": [],
   "source": [
    "sns.displot(data = Logs_copy, x = \"Device_Type\", hue = \"Date\", multiple = \"stack\")"
   ]
  },
  {
   "source": [
    "- Save the data obtained for later reuse"
   ],
   "cell_type": "markdown",
   "metadata": {}
  },
  {
   "cell_type": "code",
   "execution_count": null,
   "metadata": {},
   "outputs": [],
   "source": [
    "Logs_export = Logs_copy.copy()\n",
    "\n",
    "Logs_export.replace('', 'null', inplace = True)\n",
    "\n",
    "Logs_export.to_csv('../Data/Logs_export.csv', index = False)"
   ]
  }
 ],
 "metadata": {
  "kernelspec": {
   "display_name": "Python 3",
   "language": "python",
   "name": "python3"
  },
  "language_info": {
   "codemirror_mode": {
    "name": "ipython",
    "version": 3
   },
   "file_extension": ".py",
   "mimetype": "text/x-python",
   "name": "python",
   "nbconvert_exporter": "python",
   "pygments_lexer": "ipython3",
   "version": "3.8.5-final"
  }
 },
 "nbformat": 4,
 "nbformat_minor": 4
}