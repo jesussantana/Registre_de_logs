{
 "cells": [
  {
   "cell_type": "markdown",
   "metadata": {},
   "source": [
    "# IT Academy - Data Science amb Python\n",
    "## Tasca 7: Estructura de control\n",
    "\n",
    "###  [Github Registre de Logs](https://github.com/jesussantana/Registre_de_logs)"
   ]
  },
  {
   "cell_type": "markdown",
   "metadata": {},
   "source": [
    "###  Exercici 1\n",
    "- Normalitza, identifica i enumera cada un dels atributs / variables de l'estructura de l'arxiu \"Web_access_log-akumenius.com\" que trobaràs al repositori de GitHub \"Data-sources\"."
   ]
  },
  {
   "cell_type": "code",
   "execution_count": 1,
   "metadata": {},
   "outputs": [],
   "source": [
    "import numpy as np\n",
    "import pandas as pd\n",
    "import requests\n",
    "import re\n",
    "from datetime import datetime\n",
    "\n",
    "pd.set_option('display.max_columns', None)"
   ]
  },
  {
   "cell_type": "code",
   "execution_count": 2,
   "metadata": {},
   "outputs": [
    {
     "output_type": "execute_result",
     "data": {
      "text/plain": [
       "                                DNS                              IP  \\\n",
       "0  www.akumenius.com 187.133.87.116  - [02/Mar/2014:00:40:59 +0100]   \n",
       "1  www.akumenius.com 187.133.87.116  - [02/Mar/2014:00:41:01 +0100]   \n",
       "2  www.akumenius.com 187.133.87.116  - [02/Mar/2014:00:40:58 +0100]   \n",
       "3  www.akumenius.com 187.133.87.116  - [02/Mar/2014:00:41:00 +0100]   \n",
       "4  www.akumenius.com 187.133.87.116  - [02/Mar/2014:00:41:02 +0100]   \n",
       "\n",
       "                                            Location  \\\n",
       "0  GET /libraries/jqueryui/js/jquery.ui.datepicke...   \n",
       "1  GET /modules/raton/views/themes/bcoos/js/ga.js...   \n",
       "2  GET /libraries/jquery/jquery-1.4.2.min.js HTTP...   \n",
       "3  GET /modules/raton/views/themes/bcoos/js/block...   \n",
       "4  GET /includes/images/uploaded/logo.png HTTP/1....   \n",
       "\n",
       "                                                Date  \\\n",
       "0  http://www.akumenius.com/hoteles-baratos/hotel...   \n",
       "1  http://www.akumenius.com/hoteles-baratos/hotel...   \n",
       "2  http://www.akumenius.com/hoteles-baratos/hotel...   \n",
       "3  http://www.akumenius.com/hoteles-baratos/hotel...   \n",
       "4  http://www.akumenius.com/hoteles-baratos/hotel...   \n",
       "\n",
       "                                                Time  Request  Status  Size  \\\n",
       "0  Mozilla/5.0 (Linux; U; Android 4.0.4; es-mx; S...      NaN     NaN   NaN   \n",
       "1  Mozilla/5.0 (Linux; U; Android 4.0.4; es-mx; S...      NaN     NaN   NaN   \n",
       "2  Mozilla/5.0 (Linux; U; Android 4.0.4; es-mx; S...      NaN     NaN   NaN   \n",
       "3  Mozilla/5.0 (Linux; U; Android 4.0.4; es-mx; S...      NaN     NaN   NaN   \n",
       "4  Mozilla/5.0 (Linux; U; Android 4.0.4; es-mx; S...      NaN     NaN   NaN   \n",
       "\n",
       "   Referer  UserAgent  \n",
       "0      NaN        NaN  \n",
       "1      NaN        NaN  \n",
       "2      NaN        NaN  \n",
       "3      NaN        NaN  \n",
       "4      NaN        NaN  "
      ],
      "text/html": "<div>\n<style scoped>\n    .dataframe tbody tr th:only-of-type {\n        vertical-align: middle;\n    }\n\n    .dataframe tbody tr th {\n        vertical-align: top;\n    }\n\n    .dataframe thead th {\n        text-align: right;\n    }\n</style>\n<table border=\"1\" class=\"dataframe\">\n  <thead>\n    <tr style=\"text-align: right;\">\n      <th></th>\n      <th>DNS</th>\n      <th>IP</th>\n      <th>Location</th>\n      <th>Date</th>\n      <th>Time</th>\n      <th>Request</th>\n      <th>Status</th>\n      <th>Size</th>\n      <th>Referer</th>\n      <th>UserAgent</th>\n    </tr>\n  </thead>\n  <tbody>\n    <tr>\n      <th>0</th>\n      <td>www.akumenius.com 187.133.87.116</td>\n      <td>- [02/Mar/2014:00:40:59 +0100]</td>\n      <td>GET /libraries/jqueryui/js/jquery.ui.datepicke...</td>\n      <td>http://www.akumenius.com/hoteles-baratos/hotel...</td>\n      <td>Mozilla/5.0 (Linux; U; Android 4.0.4; es-mx; S...</td>\n      <td>NaN</td>\n      <td>NaN</td>\n      <td>NaN</td>\n      <td>NaN</td>\n      <td>NaN</td>\n    </tr>\n    <tr>\n      <th>1</th>\n      <td>www.akumenius.com 187.133.87.116</td>\n      <td>- [02/Mar/2014:00:41:01 +0100]</td>\n      <td>GET /modules/raton/views/themes/bcoos/js/ga.js...</td>\n      <td>http://www.akumenius.com/hoteles-baratos/hotel...</td>\n      <td>Mozilla/5.0 (Linux; U; Android 4.0.4; es-mx; S...</td>\n      <td>NaN</td>\n      <td>NaN</td>\n      <td>NaN</td>\n      <td>NaN</td>\n      <td>NaN</td>\n    </tr>\n    <tr>\n      <th>2</th>\n      <td>www.akumenius.com 187.133.87.116</td>\n      <td>- [02/Mar/2014:00:40:58 +0100]</td>\n      <td>GET /libraries/jquery/jquery-1.4.2.min.js HTTP...</td>\n      <td>http://www.akumenius.com/hoteles-baratos/hotel...</td>\n      <td>Mozilla/5.0 (Linux; U; Android 4.0.4; es-mx; S...</td>\n      <td>NaN</td>\n      <td>NaN</td>\n      <td>NaN</td>\n      <td>NaN</td>\n      <td>NaN</td>\n    </tr>\n    <tr>\n      <th>3</th>\n      <td>www.akumenius.com 187.133.87.116</td>\n      <td>- [02/Mar/2014:00:41:00 +0100]</td>\n      <td>GET /modules/raton/views/themes/bcoos/js/block...</td>\n      <td>http://www.akumenius.com/hoteles-baratos/hotel...</td>\n      <td>Mozilla/5.0 (Linux; U; Android 4.0.4; es-mx; S...</td>\n      <td>NaN</td>\n      <td>NaN</td>\n      <td>NaN</td>\n      <td>NaN</td>\n      <td>NaN</td>\n    </tr>\n    <tr>\n      <th>4</th>\n      <td>www.akumenius.com 187.133.87.116</td>\n      <td>- [02/Mar/2014:00:41:02 +0100]</td>\n      <td>GET /includes/images/uploaded/logo.png HTTP/1....</td>\n      <td>http://www.akumenius.com/hoteles-baratos/hotel...</td>\n      <td>Mozilla/5.0 (Linux; U; Android 4.0.4; es-mx; S...</td>\n      <td>NaN</td>\n      <td>NaN</td>\n      <td>NaN</td>\n      <td>NaN</td>\n      <td>NaN</td>\n    </tr>\n  </tbody>\n</table>\n</div>"
     },
     "metadata": {},
     "execution_count": 2
    }
   ],
   "source": [
    "path = '../Data/Web_access_log-akumenius.com.txt'\n",
    "\n",
    "Logs_raw = pd.read_csv(path, sep='\\s | \\- | \\\"', names =['DNS','IP','Location','Date','Time','Request','Status','Size','Referer','UserAgent'], skiprows=260771, engine='python')\n",
    "\n",
    "Logs_copy = Logs_raw.copy()\n",
    "\n",
    "Logs_copy.head()"
   ]
  },
  {
   "cell_type": "markdown",
   "metadata": {},
   "source": [
    "###  Exercici 2\n",
    "- Neteja, preprocesa, estructura i transforma (dataframe) les dades del registre d'Accés a la web."
   ]
  },
  {
   "cell_type": "code",
   "execution_count": 3,
   "metadata": {},
   "outputs": [
    {
     "output_type": "execute_result",
     "data": {
      "text/plain": [
       "(1102, 10)"
      ]
     },
     "metadata": {},
     "execution_count": 3
    }
   ],
   "source": [
    "Logs_copy.shape"
   ]
  },
  {
   "cell_type": "code",
   "execution_count": 4,
   "metadata": {},
   "outputs": [
    {
     "output_type": "execute_result",
     "data": {
      "text/plain": [
       "DNS             0\n",
       "IP              0\n",
       "Location        0\n",
       "Date            0\n",
       "Time            0\n",
       "Request      1102\n",
       "Status       1102\n",
       "Size         1102\n",
       "Referer      1102\n",
       "UserAgent    1102\n",
       "dtype: int64"
      ]
     },
     "metadata": {},
     "execution_count": 4
    }
   ],
   "source": [
    "Logs_copy.isnull().sum()"
   ]
  },
  {
   "cell_type": "code",
   "execution_count": 5,
   "metadata": {},
   "outputs": [
    {
     "output_type": "execute_result",
     "data": {
      "text/plain": [
       "                                DNS                              IP  \\\n",
       "0  www.akumenius.com 187.133.87.116  - [02/Mar/2014:00:40:59 +0100]   \n",
       "1  www.akumenius.com 187.133.87.116  - [02/Mar/2014:00:41:01 +0100]   \n",
       "2  www.akumenius.com 187.133.87.116  - [02/Mar/2014:00:40:58 +0100]   \n",
       "3  www.akumenius.com 187.133.87.116  - [02/Mar/2014:00:41:00 +0100]   \n",
       "4  www.akumenius.com 187.133.87.116  - [02/Mar/2014:00:41:02 +0100]   \n",
       "\n",
       "                                            Location  \\\n",
       "0  GET /libraries/jqueryui/js/jquery.ui.datepicke...   \n",
       "1  GET /modules/raton/views/themes/bcoos/js/ga.js...   \n",
       "2  GET /libraries/jquery/jquery-1.4.2.min.js HTTP...   \n",
       "3  GET /modules/raton/views/themes/bcoos/js/block...   \n",
       "4  GET /includes/images/uploaded/logo.png HTTP/1....   \n",
       "\n",
       "                                                Date  \\\n",
       "0  http://www.akumenius.com/hoteles-baratos/hotel...   \n",
       "1  http://www.akumenius.com/hoteles-baratos/hotel...   \n",
       "2  http://www.akumenius.com/hoteles-baratos/hotel...   \n",
       "3  http://www.akumenius.com/hoteles-baratos/hotel...   \n",
       "4  http://www.akumenius.com/hoteles-baratos/hotel...   \n",
       "\n",
       "                                                Time  Request  Status  Size  \\\n",
       "0  Mozilla/5.0 (Linux; U; Android 4.0.4; es-mx; S...      NaN     NaN   NaN   \n",
       "1  Mozilla/5.0 (Linux; U; Android 4.0.4; es-mx; S...      NaN     NaN   NaN   \n",
       "2  Mozilla/5.0 (Linux; U; Android 4.0.4; es-mx; S...      NaN     NaN   NaN   \n",
       "3  Mozilla/5.0 (Linux; U; Android 4.0.4; es-mx; S...      NaN     NaN   NaN   \n",
       "4  Mozilla/5.0 (Linux; U; Android 4.0.4; es-mx; S...      NaN     NaN   NaN   \n",
       "\n",
       "   Referer  UserAgent  \n",
       "0      NaN        NaN  \n",
       "1      NaN        NaN  \n",
       "2      NaN        NaN  \n",
       "3      NaN        NaN  \n",
       "4      NaN        NaN  "
      ],
      "text/html": "<div>\n<style scoped>\n    .dataframe tbody tr th:only-of-type {\n        vertical-align: middle;\n    }\n\n    .dataframe tbody tr th {\n        vertical-align: top;\n    }\n\n    .dataframe thead th {\n        text-align: right;\n    }\n</style>\n<table border=\"1\" class=\"dataframe\">\n  <thead>\n    <tr style=\"text-align: right;\">\n      <th></th>\n      <th>DNS</th>\n      <th>IP</th>\n      <th>Location</th>\n      <th>Date</th>\n      <th>Time</th>\n      <th>Request</th>\n      <th>Status</th>\n      <th>Size</th>\n      <th>Referer</th>\n      <th>UserAgent</th>\n    </tr>\n  </thead>\n  <tbody>\n    <tr>\n      <th>0</th>\n      <td>www.akumenius.com 187.133.87.116</td>\n      <td>- [02/Mar/2014:00:40:59 +0100]</td>\n      <td>GET /libraries/jqueryui/js/jquery.ui.datepicke...</td>\n      <td>http://www.akumenius.com/hoteles-baratos/hotel...</td>\n      <td>Mozilla/5.0 (Linux; U; Android 4.0.4; es-mx; S...</td>\n      <td>NaN</td>\n      <td>NaN</td>\n      <td>NaN</td>\n      <td>NaN</td>\n      <td>NaN</td>\n    </tr>\n    <tr>\n      <th>1</th>\n      <td>www.akumenius.com 187.133.87.116</td>\n      <td>- [02/Mar/2014:00:41:01 +0100]</td>\n      <td>GET /modules/raton/views/themes/bcoos/js/ga.js...</td>\n      <td>http://www.akumenius.com/hoteles-baratos/hotel...</td>\n      <td>Mozilla/5.0 (Linux; U; Android 4.0.4; es-mx; S...</td>\n      <td>NaN</td>\n      <td>NaN</td>\n      <td>NaN</td>\n      <td>NaN</td>\n      <td>NaN</td>\n    </tr>\n    <tr>\n      <th>2</th>\n      <td>www.akumenius.com 187.133.87.116</td>\n      <td>- [02/Mar/2014:00:40:58 +0100]</td>\n      <td>GET /libraries/jquery/jquery-1.4.2.min.js HTTP...</td>\n      <td>http://www.akumenius.com/hoteles-baratos/hotel...</td>\n      <td>Mozilla/5.0 (Linux; U; Android 4.0.4; es-mx; S...</td>\n      <td>NaN</td>\n      <td>NaN</td>\n      <td>NaN</td>\n      <td>NaN</td>\n      <td>NaN</td>\n    </tr>\n    <tr>\n      <th>3</th>\n      <td>www.akumenius.com 187.133.87.116</td>\n      <td>- [02/Mar/2014:00:41:00 +0100]</td>\n      <td>GET /modules/raton/views/themes/bcoos/js/block...</td>\n      <td>http://www.akumenius.com/hoteles-baratos/hotel...</td>\n      <td>Mozilla/5.0 (Linux; U; Android 4.0.4; es-mx; S...</td>\n      <td>NaN</td>\n      <td>NaN</td>\n      <td>NaN</td>\n      <td>NaN</td>\n      <td>NaN</td>\n    </tr>\n    <tr>\n      <th>4</th>\n      <td>www.akumenius.com 187.133.87.116</td>\n      <td>- [02/Mar/2014:00:41:02 +0100]</td>\n      <td>GET /includes/images/uploaded/logo.png HTTP/1....</td>\n      <td>http://www.akumenius.com/hoteles-baratos/hotel...</td>\n      <td>Mozilla/5.0 (Linux; U; Android 4.0.4; es-mx; S...</td>\n      <td>NaN</td>\n      <td>NaN</td>\n      <td>NaN</td>\n      <td>NaN</td>\n      <td>NaN</td>\n    </tr>\n  </tbody>\n</table>\n</div>"
     },
     "metadata": {},
     "execution_count": 5
    }
   ],
   "source": [
    "Logs_copy.head()"
   ]
  },
  {
   "cell_type": "code",
   "execution_count": 6,
   "metadata": {
    "scrolled": true
   },
   "outputs": [
    {
     "output_type": "execute_result",
     "data": {
      "text/plain": [
       "                                DNS  IP Location  \\\n",
       "0  www.akumenius.com 187.133.87.116 NaN            \n",
       "1  www.akumenius.com 187.133.87.116 NaN            \n",
       "2  www.akumenius.com 187.133.87.116 NaN            \n",
       "3  www.akumenius.com 187.133.87.116 NaN            \n",
       "4  www.akumenius.com 187.133.87.116 NaN            \n",
       "\n",
       "                             Date  Time  \\\n",
       "0  - [02/Mar/2014:00:40:59 +0100]   NaN   \n",
       "1  - [02/Mar/2014:00:41:01 +0100]   NaN   \n",
       "2  - [02/Mar/2014:00:40:58 +0100]   NaN   \n",
       "3  - [02/Mar/2014:00:41:00 +0100]   NaN   \n",
       "4  - [02/Mar/2014:00:41:02 +0100]   NaN   \n",
       "\n",
       "                                             Request  Status  Size  \\\n",
       "0  GET /libraries/jqueryui/js/jquery.ui.datepicke...     NaN   NaN   \n",
       "1  GET /modules/raton/views/themes/bcoos/js/ga.js...     NaN   NaN   \n",
       "2  GET /libraries/jquery/jquery-1.4.2.min.js HTTP...     NaN   NaN   \n",
       "3  GET /modules/raton/views/themes/bcoos/js/block...     NaN   NaN   \n",
       "4  GET /includes/images/uploaded/logo.png HTTP/1....     NaN   NaN   \n",
       "\n",
       "                                             Referer  \\\n",
       "0  http://www.akumenius.com/hoteles-baratos/hotel...   \n",
       "1  http://www.akumenius.com/hoteles-baratos/hotel...   \n",
       "2  http://www.akumenius.com/hoteles-baratos/hotel...   \n",
       "3  http://www.akumenius.com/hoteles-baratos/hotel...   \n",
       "4  http://www.akumenius.com/hoteles-baratos/hotel...   \n",
       "\n",
       "                                           UserAgent  \n",
       "0  Mozilla/5.0 (Linux; U; Android 4.0.4; es-mx; S...  \n",
       "1  Mozilla/5.0 (Linux; U; Android 4.0.4; es-mx; S...  \n",
       "2  Mozilla/5.0 (Linux; U; Android 4.0.4; es-mx; S...  \n",
       "3  Mozilla/5.0 (Linux; U; Android 4.0.4; es-mx; S...  \n",
       "4  Mozilla/5.0 (Linux; U; Android 4.0.4; es-mx; S...  "
      ],
      "text/html": "<div>\n<style scoped>\n    .dataframe tbody tr th:only-of-type {\n        vertical-align: middle;\n    }\n\n    .dataframe tbody tr th {\n        vertical-align: top;\n    }\n\n    .dataframe thead th {\n        text-align: right;\n    }\n</style>\n<table border=\"1\" class=\"dataframe\">\n  <thead>\n    <tr style=\"text-align: right;\">\n      <th></th>\n      <th>DNS</th>\n      <th>IP</th>\n      <th>Location</th>\n      <th>Date</th>\n      <th>Time</th>\n      <th>Request</th>\n      <th>Status</th>\n      <th>Size</th>\n      <th>Referer</th>\n      <th>UserAgent</th>\n    </tr>\n  </thead>\n  <tbody>\n    <tr>\n      <th>0</th>\n      <td>www.akumenius.com 187.133.87.116</td>\n      <td>NaN</td>\n      <td></td>\n      <td>- [02/Mar/2014:00:40:59 +0100]</td>\n      <td>NaN</td>\n      <td>GET /libraries/jqueryui/js/jquery.ui.datepicke...</td>\n      <td>NaN</td>\n      <td>NaN</td>\n      <td>http://www.akumenius.com/hoteles-baratos/hotel...</td>\n      <td>Mozilla/5.0 (Linux; U; Android 4.0.4; es-mx; S...</td>\n    </tr>\n    <tr>\n      <th>1</th>\n      <td>www.akumenius.com 187.133.87.116</td>\n      <td>NaN</td>\n      <td></td>\n      <td>- [02/Mar/2014:00:41:01 +0100]</td>\n      <td>NaN</td>\n      <td>GET /modules/raton/views/themes/bcoos/js/ga.js...</td>\n      <td>NaN</td>\n      <td>NaN</td>\n      <td>http://www.akumenius.com/hoteles-baratos/hotel...</td>\n      <td>Mozilla/5.0 (Linux; U; Android 4.0.4; es-mx; S...</td>\n    </tr>\n    <tr>\n      <th>2</th>\n      <td>www.akumenius.com 187.133.87.116</td>\n      <td>NaN</td>\n      <td></td>\n      <td>- [02/Mar/2014:00:40:58 +0100]</td>\n      <td>NaN</td>\n      <td>GET /libraries/jquery/jquery-1.4.2.min.js HTTP...</td>\n      <td>NaN</td>\n      <td>NaN</td>\n      <td>http://www.akumenius.com/hoteles-baratos/hotel...</td>\n      <td>Mozilla/5.0 (Linux; U; Android 4.0.4; es-mx; S...</td>\n    </tr>\n    <tr>\n      <th>3</th>\n      <td>www.akumenius.com 187.133.87.116</td>\n      <td>NaN</td>\n      <td></td>\n      <td>- [02/Mar/2014:00:41:00 +0100]</td>\n      <td>NaN</td>\n      <td>GET /modules/raton/views/themes/bcoos/js/block...</td>\n      <td>NaN</td>\n      <td>NaN</td>\n      <td>http://www.akumenius.com/hoteles-baratos/hotel...</td>\n      <td>Mozilla/5.0 (Linux; U; Android 4.0.4; es-mx; S...</td>\n    </tr>\n    <tr>\n      <th>4</th>\n      <td>www.akumenius.com 187.133.87.116</td>\n      <td>NaN</td>\n      <td></td>\n      <td>- [02/Mar/2014:00:41:02 +0100]</td>\n      <td>NaN</td>\n      <td>GET /includes/images/uploaded/logo.png HTTP/1....</td>\n      <td>NaN</td>\n      <td>NaN</td>\n      <td>http://www.akumenius.com/hoteles-baratos/hotel...</td>\n      <td>Mozilla/5.0 (Linux; U; Android 4.0.4; es-mx; S...</td>\n    </tr>\n  </tbody>\n</table>\n</div>"
     },
     "metadata": {},
     "execution_count": 6
    }
   ],
   "source": [
    "# Reorder columns of data\n",
    "\n",
    "Logs_copy.UserAgent = Logs_copy.Time\n",
    "Logs_copy.Request = Logs_copy.Location\n",
    "Logs_copy.Referer = Logs_copy.Date\n",
    "Logs_copy.Date = Logs_copy.IP\n",
    "Logs_copy.Time = Logs_copy.IP = np.nan\n",
    "Logs_copy.Location = \"\"\n",
    "\n",
    "Logs_copy.head()"
   ]
  },
  {
   "cell_type": "code",
   "execution_count": 7,
   "metadata": {},
   "outputs": [],
   "source": [
    "# DNS & IP data split\n",
    "\n",
    "Logs_copy[['DNS','IP']] = Logs_copy.DNS.str.split('\\s', expand = True).get([0, 1])"
   ]
  },
  {
   "cell_type": "code",
   "execution_count": 8,
   "metadata": {},
   "outputs": [
    {
     "output_type": "execute_result",
     "data": {
      "text/plain": [
       "                 DNS              IP Location                            Date  \\\n",
       "0  www.akumenius.com  187.133.87.116           - [02/Mar/2014:00:40:59 +0100]   \n",
       "1  www.akumenius.com  187.133.87.116           - [02/Mar/2014:00:41:01 +0100]   \n",
       "2  www.akumenius.com  187.133.87.116           - [02/Mar/2014:00:40:58 +0100]   \n",
       "3  www.akumenius.com  187.133.87.116           - [02/Mar/2014:00:41:00 +0100]   \n",
       "4  www.akumenius.com  187.133.87.116           - [02/Mar/2014:00:41:02 +0100]   \n",
       "\n",
       "   Time                                            Request  Status  Size  \\\n",
       "0   NaN  GET /libraries/jqueryui/js/jquery.ui.datepicke...     NaN   NaN   \n",
       "1   NaN  GET /modules/raton/views/themes/bcoos/js/ga.js...     NaN   NaN   \n",
       "2   NaN  GET /libraries/jquery/jquery-1.4.2.min.js HTTP...     NaN   NaN   \n",
       "3   NaN  GET /modules/raton/views/themes/bcoos/js/block...     NaN   NaN   \n",
       "4   NaN  GET /includes/images/uploaded/logo.png HTTP/1....     NaN   NaN   \n",
       "\n",
       "                                             Referer  \\\n",
       "0  http://www.akumenius.com/hoteles-baratos/hotel...   \n",
       "1  http://www.akumenius.com/hoteles-baratos/hotel...   \n",
       "2  http://www.akumenius.com/hoteles-baratos/hotel...   \n",
       "3  http://www.akumenius.com/hoteles-baratos/hotel...   \n",
       "4  http://www.akumenius.com/hoteles-baratos/hotel...   \n",
       "\n",
       "                                           UserAgent  \n",
       "0  Mozilla/5.0 (Linux; U; Android 4.0.4; es-mx; S...  \n",
       "1  Mozilla/5.0 (Linux; U; Android 4.0.4; es-mx; S...  \n",
       "2  Mozilla/5.0 (Linux; U; Android 4.0.4; es-mx; S...  \n",
       "3  Mozilla/5.0 (Linux; U; Android 4.0.4; es-mx; S...  \n",
       "4  Mozilla/5.0 (Linux; U; Android 4.0.4; es-mx; S...  "
      ],
      "text/html": "<div>\n<style scoped>\n    .dataframe tbody tr th:only-of-type {\n        vertical-align: middle;\n    }\n\n    .dataframe tbody tr th {\n        vertical-align: top;\n    }\n\n    .dataframe thead th {\n        text-align: right;\n    }\n</style>\n<table border=\"1\" class=\"dataframe\">\n  <thead>\n    <tr style=\"text-align: right;\">\n      <th></th>\n      <th>DNS</th>\n      <th>IP</th>\n      <th>Location</th>\n      <th>Date</th>\n      <th>Time</th>\n      <th>Request</th>\n      <th>Status</th>\n      <th>Size</th>\n      <th>Referer</th>\n      <th>UserAgent</th>\n    </tr>\n  </thead>\n  <tbody>\n    <tr>\n      <th>0</th>\n      <td>www.akumenius.com</td>\n      <td>187.133.87.116</td>\n      <td></td>\n      <td>- [02/Mar/2014:00:40:59 +0100]</td>\n      <td>NaN</td>\n      <td>GET /libraries/jqueryui/js/jquery.ui.datepicke...</td>\n      <td>NaN</td>\n      <td>NaN</td>\n      <td>http://www.akumenius.com/hoteles-baratos/hotel...</td>\n      <td>Mozilla/5.0 (Linux; U; Android 4.0.4; es-mx; S...</td>\n    </tr>\n    <tr>\n      <th>1</th>\n      <td>www.akumenius.com</td>\n      <td>187.133.87.116</td>\n      <td></td>\n      <td>- [02/Mar/2014:00:41:01 +0100]</td>\n      <td>NaN</td>\n      <td>GET /modules/raton/views/themes/bcoos/js/ga.js...</td>\n      <td>NaN</td>\n      <td>NaN</td>\n      <td>http://www.akumenius.com/hoteles-baratos/hotel...</td>\n      <td>Mozilla/5.0 (Linux; U; Android 4.0.4; es-mx; S...</td>\n    </tr>\n    <tr>\n      <th>2</th>\n      <td>www.akumenius.com</td>\n      <td>187.133.87.116</td>\n      <td></td>\n      <td>- [02/Mar/2014:00:40:58 +0100]</td>\n      <td>NaN</td>\n      <td>GET /libraries/jquery/jquery-1.4.2.min.js HTTP...</td>\n      <td>NaN</td>\n      <td>NaN</td>\n      <td>http://www.akumenius.com/hoteles-baratos/hotel...</td>\n      <td>Mozilla/5.0 (Linux; U; Android 4.0.4; es-mx; S...</td>\n    </tr>\n    <tr>\n      <th>3</th>\n      <td>www.akumenius.com</td>\n      <td>187.133.87.116</td>\n      <td></td>\n      <td>- [02/Mar/2014:00:41:00 +0100]</td>\n      <td>NaN</td>\n      <td>GET /modules/raton/views/themes/bcoos/js/block...</td>\n      <td>NaN</td>\n      <td>NaN</td>\n      <td>http://www.akumenius.com/hoteles-baratos/hotel...</td>\n      <td>Mozilla/5.0 (Linux; U; Android 4.0.4; es-mx; S...</td>\n    </tr>\n    <tr>\n      <th>4</th>\n      <td>www.akumenius.com</td>\n      <td>187.133.87.116</td>\n      <td></td>\n      <td>- [02/Mar/2014:00:41:02 +0100]</td>\n      <td>NaN</td>\n      <td>GET /includes/images/uploaded/logo.png HTTP/1....</td>\n      <td>NaN</td>\n      <td>NaN</td>\n      <td>http://www.akumenius.com/hoteles-baratos/hotel...</td>\n      <td>Mozilla/5.0 (Linux; U; Android 4.0.4; es-mx; S...</td>\n    </tr>\n  </tbody>\n</table>\n</div>"
     },
     "metadata": {},
     "execution_count": 8
    }
   ],
   "source": [
    "Logs_copy.head()"
   ]
  },
  {
   "cell_type": "code",
   "execution_count": 9,
   "metadata": {},
   "outputs": [
    {
     "output_type": "execute_result",
     "data": {
      "text/plain": [
       "array(['www.akumenius.com', 'localhost', 'akumenius.com',\n",
       "       'test.akumenius.com', 'akumenius.es'], dtype=object)"
      ]
     },
     "metadata": {},
     "execution_count": 9
    }
   ],
   "source": [
    "Logs_copy.DNS.unique()"
   ]
  },
  {
   "cell_type": "code",
   "execution_count": 10,
   "metadata": {},
   "outputs": [
    {
     "output_type": "execute_result",
     "data": {
      "text/plain": [
       "                 DNS              IP Location                            Date  \\\n",
       "0  www.akumenius.com  187.133.87.116           - [02/Mar/2014:00:40:59 +0100]   \n",
       "1  www.akumenius.com  187.133.87.116           - [02/Mar/2014:00:41:01 +0100]   \n",
       "2  www.akumenius.com  187.133.87.116           - [02/Mar/2014:00:40:58 +0100]   \n",
       "3  www.akumenius.com  187.133.87.116           - [02/Mar/2014:00:41:00 +0100]   \n",
       "4  www.akumenius.com  187.133.87.116           - [02/Mar/2014:00:41:02 +0100]   \n",
       "\n",
       "                       Time  \\\n",
       "0 1900-01-01 00:40:59+01:00   \n",
       "1 1900-01-01 00:41:01+01:00   \n",
       "2 1900-01-01 00:40:58+01:00   \n",
       "3 1900-01-01 00:41:00+01:00   \n",
       "4 1900-01-01 00:41:02+01:00   \n",
       "\n",
       "                                             Request  Status  Size  \\\n",
       "0  GET /libraries/jqueryui/js/jquery.ui.datepicke...     NaN   NaN   \n",
       "1  GET /modules/raton/views/themes/bcoos/js/ga.js...     NaN   NaN   \n",
       "2  GET /libraries/jquery/jquery-1.4.2.min.js HTTP...     NaN   NaN   \n",
       "3  GET /modules/raton/views/themes/bcoos/js/block...     NaN   NaN   \n",
       "4  GET /includes/images/uploaded/logo.png HTTP/1....     NaN   NaN   \n",
       "\n",
       "                                             Referer  \\\n",
       "0  http://www.akumenius.com/hoteles-baratos/hotel...   \n",
       "1  http://www.akumenius.com/hoteles-baratos/hotel...   \n",
       "2  http://www.akumenius.com/hoteles-baratos/hotel...   \n",
       "3  http://www.akumenius.com/hoteles-baratos/hotel...   \n",
       "4  http://www.akumenius.com/hoteles-baratos/hotel...   \n",
       "\n",
       "                                           UserAgent  \n",
       "0  Mozilla/5.0 (Linux; U; Android 4.0.4; es-mx; S...  \n",
       "1  Mozilla/5.0 (Linux; U; Android 4.0.4; es-mx; S...  \n",
       "2  Mozilla/5.0 (Linux; U; Android 4.0.4; es-mx; S...  \n",
       "3  Mozilla/5.0 (Linux; U; Android 4.0.4; es-mx; S...  \n",
       "4  Mozilla/5.0 (Linux; U; Android 4.0.4; es-mx; S...  "
      ],
      "text/html": "<div>\n<style scoped>\n    .dataframe tbody tr th:only-of-type {\n        vertical-align: middle;\n    }\n\n    .dataframe tbody tr th {\n        vertical-align: top;\n    }\n\n    .dataframe thead th {\n        text-align: right;\n    }\n</style>\n<table border=\"1\" class=\"dataframe\">\n  <thead>\n    <tr style=\"text-align: right;\">\n      <th></th>\n      <th>DNS</th>\n      <th>IP</th>\n      <th>Location</th>\n      <th>Date</th>\n      <th>Time</th>\n      <th>Request</th>\n      <th>Status</th>\n      <th>Size</th>\n      <th>Referer</th>\n      <th>UserAgent</th>\n    </tr>\n  </thead>\n  <tbody>\n    <tr>\n      <th>0</th>\n      <td>www.akumenius.com</td>\n      <td>187.133.87.116</td>\n      <td></td>\n      <td>- [02/Mar/2014:00:40:59 +0100]</td>\n      <td>1900-01-01 00:40:59+01:00</td>\n      <td>GET /libraries/jqueryui/js/jquery.ui.datepicke...</td>\n      <td>NaN</td>\n      <td>NaN</td>\n      <td>http://www.akumenius.com/hoteles-baratos/hotel...</td>\n      <td>Mozilla/5.0 (Linux; U; Android 4.0.4; es-mx; S...</td>\n    </tr>\n    <tr>\n      <th>1</th>\n      <td>www.akumenius.com</td>\n      <td>187.133.87.116</td>\n      <td></td>\n      <td>- [02/Mar/2014:00:41:01 +0100]</td>\n      <td>1900-01-01 00:41:01+01:00</td>\n      <td>GET /modules/raton/views/themes/bcoos/js/ga.js...</td>\n      <td>NaN</td>\n      <td>NaN</td>\n      <td>http://www.akumenius.com/hoteles-baratos/hotel...</td>\n      <td>Mozilla/5.0 (Linux; U; Android 4.0.4; es-mx; S...</td>\n    </tr>\n    <tr>\n      <th>2</th>\n      <td>www.akumenius.com</td>\n      <td>187.133.87.116</td>\n      <td></td>\n      <td>- [02/Mar/2014:00:40:58 +0100]</td>\n      <td>1900-01-01 00:40:58+01:00</td>\n      <td>GET /libraries/jquery/jquery-1.4.2.min.js HTTP...</td>\n      <td>NaN</td>\n      <td>NaN</td>\n      <td>http://www.akumenius.com/hoteles-baratos/hotel...</td>\n      <td>Mozilla/5.0 (Linux; U; Android 4.0.4; es-mx; S...</td>\n    </tr>\n    <tr>\n      <th>3</th>\n      <td>www.akumenius.com</td>\n      <td>187.133.87.116</td>\n      <td></td>\n      <td>- [02/Mar/2014:00:41:00 +0100]</td>\n      <td>1900-01-01 00:41:00+01:00</td>\n      <td>GET /modules/raton/views/themes/bcoos/js/block...</td>\n      <td>NaN</td>\n      <td>NaN</td>\n      <td>http://www.akumenius.com/hoteles-baratos/hotel...</td>\n      <td>Mozilla/5.0 (Linux; U; Android 4.0.4; es-mx; S...</td>\n    </tr>\n    <tr>\n      <th>4</th>\n      <td>www.akumenius.com</td>\n      <td>187.133.87.116</td>\n      <td></td>\n      <td>- [02/Mar/2014:00:41:02 +0100]</td>\n      <td>1900-01-01 00:41:02+01:00</td>\n      <td>GET /includes/images/uploaded/logo.png HTTP/1....</td>\n      <td>NaN</td>\n      <td>NaN</td>\n      <td>http://www.akumenius.com/hoteles-baratos/hotel...</td>\n      <td>Mozilla/5.0 (Linux; U; Android 4.0.4; es-mx; S...</td>\n    </tr>\n  </tbody>\n</table>\n</div>"
     },
     "metadata": {},
     "execution_count": 10
    }
   ],
   "source": [
    "# Time data extraction\n",
    "\n",
    "Logs_copy.Time = Logs_copy.Date.str.extract(':(\\d{2}:\\d{2}:\\d{2}.*)]')\n",
    "\n",
    "Logs_copy.Time = pd.to_datetime(Logs_copy.Time, format = '%H:%M:%S %z')\n",
    "Logs_copy.head()"
   ]
  },
  {
   "cell_type": "code",
   "execution_count": 11,
   "metadata": {},
   "outputs": [],
   "source": [
    "# Date data extraction\n",
    "\n",
    "Logs_copy.Date = Logs_copy.Date.str.extract('(\\d+/\\w+/\\d+)')\n",
    "\n",
    "Logs_copy.Date = pd.to_datetime(Logs_copy.Date, format = '%d/%b/%Y')"
   ]
  },
  {
   "cell_type": "code",
   "execution_count": 12,
   "metadata": {
    "scrolled": true
   },
   "outputs": [
    {
     "output_type": "execute_result",
     "data": {
      "text/plain": [
       "                 DNS              IP Location       Date  \\\n",
       "0  www.akumenius.com  187.133.87.116          2014-03-02   \n",
       "1  www.akumenius.com  187.133.87.116          2014-03-02   \n",
       "2  www.akumenius.com  187.133.87.116          2014-03-02   \n",
       "3  www.akumenius.com  187.133.87.116          2014-03-02   \n",
       "4  www.akumenius.com  187.133.87.116          2014-03-02   \n",
       "\n",
       "                       Time  \\\n",
       "0 1900-01-01 00:40:59+01:00   \n",
       "1 1900-01-01 00:41:01+01:00   \n",
       "2 1900-01-01 00:40:58+01:00   \n",
       "3 1900-01-01 00:41:00+01:00   \n",
       "4 1900-01-01 00:41:02+01:00   \n",
       "\n",
       "                                             Request  Status  Size  \\\n",
       "0  GET /libraries/jqueryui/js/jquery.ui.datepicke...     NaN   NaN   \n",
       "1  GET /modules/raton/views/themes/bcoos/js/ga.js...     NaN   NaN   \n",
       "2  GET /libraries/jquery/jquery-1.4.2.min.js HTTP...     NaN   NaN   \n",
       "3  GET /modules/raton/views/themes/bcoos/js/block...     NaN   NaN   \n",
       "4  GET /includes/images/uploaded/logo.png HTTP/1....     NaN   NaN   \n",
       "\n",
       "                                             Referer  \\\n",
       "0  http://www.akumenius.com/hoteles-baratos/hotel...   \n",
       "1  http://www.akumenius.com/hoteles-baratos/hotel...   \n",
       "2  http://www.akumenius.com/hoteles-baratos/hotel...   \n",
       "3  http://www.akumenius.com/hoteles-baratos/hotel...   \n",
       "4  http://www.akumenius.com/hoteles-baratos/hotel...   \n",
       "\n",
       "                                           UserAgent  \n",
       "0  Mozilla/5.0 (Linux; U; Android 4.0.4; es-mx; S...  \n",
       "1  Mozilla/5.0 (Linux; U; Android 4.0.4; es-mx; S...  \n",
       "2  Mozilla/5.0 (Linux; U; Android 4.0.4; es-mx; S...  \n",
       "3  Mozilla/5.0 (Linux; U; Android 4.0.4; es-mx; S...  \n",
       "4  Mozilla/5.0 (Linux; U; Android 4.0.4; es-mx; S...  "
      ],
      "text/html": "<div>\n<style scoped>\n    .dataframe tbody tr th:only-of-type {\n        vertical-align: middle;\n    }\n\n    .dataframe tbody tr th {\n        vertical-align: top;\n    }\n\n    .dataframe thead th {\n        text-align: right;\n    }\n</style>\n<table border=\"1\" class=\"dataframe\">\n  <thead>\n    <tr style=\"text-align: right;\">\n      <th></th>\n      <th>DNS</th>\n      <th>IP</th>\n      <th>Location</th>\n      <th>Date</th>\n      <th>Time</th>\n      <th>Request</th>\n      <th>Status</th>\n      <th>Size</th>\n      <th>Referer</th>\n      <th>UserAgent</th>\n    </tr>\n  </thead>\n  <tbody>\n    <tr>\n      <th>0</th>\n      <td>www.akumenius.com</td>\n      <td>187.133.87.116</td>\n      <td></td>\n      <td>2014-03-02</td>\n      <td>1900-01-01 00:40:59+01:00</td>\n      <td>GET /libraries/jqueryui/js/jquery.ui.datepicke...</td>\n      <td>NaN</td>\n      <td>NaN</td>\n      <td>http://www.akumenius.com/hoteles-baratos/hotel...</td>\n      <td>Mozilla/5.0 (Linux; U; Android 4.0.4; es-mx; S...</td>\n    </tr>\n    <tr>\n      <th>1</th>\n      <td>www.akumenius.com</td>\n      <td>187.133.87.116</td>\n      <td></td>\n      <td>2014-03-02</td>\n      <td>1900-01-01 00:41:01+01:00</td>\n      <td>GET /modules/raton/views/themes/bcoos/js/ga.js...</td>\n      <td>NaN</td>\n      <td>NaN</td>\n      <td>http://www.akumenius.com/hoteles-baratos/hotel...</td>\n      <td>Mozilla/5.0 (Linux; U; Android 4.0.4; es-mx; S...</td>\n    </tr>\n    <tr>\n      <th>2</th>\n      <td>www.akumenius.com</td>\n      <td>187.133.87.116</td>\n      <td></td>\n      <td>2014-03-02</td>\n      <td>1900-01-01 00:40:58+01:00</td>\n      <td>GET /libraries/jquery/jquery-1.4.2.min.js HTTP...</td>\n      <td>NaN</td>\n      <td>NaN</td>\n      <td>http://www.akumenius.com/hoteles-baratos/hotel...</td>\n      <td>Mozilla/5.0 (Linux; U; Android 4.0.4; es-mx; S...</td>\n    </tr>\n    <tr>\n      <th>3</th>\n      <td>www.akumenius.com</td>\n      <td>187.133.87.116</td>\n      <td></td>\n      <td>2014-03-02</td>\n      <td>1900-01-01 00:41:00+01:00</td>\n      <td>GET /modules/raton/views/themes/bcoos/js/block...</td>\n      <td>NaN</td>\n      <td>NaN</td>\n      <td>http://www.akumenius.com/hoteles-baratos/hotel...</td>\n      <td>Mozilla/5.0 (Linux; U; Android 4.0.4; es-mx; S...</td>\n    </tr>\n    <tr>\n      <th>4</th>\n      <td>www.akumenius.com</td>\n      <td>187.133.87.116</td>\n      <td></td>\n      <td>2014-03-02</td>\n      <td>1900-01-01 00:41:02+01:00</td>\n      <td>GET /includes/images/uploaded/logo.png HTTP/1....</td>\n      <td>NaN</td>\n      <td>NaN</td>\n      <td>http://www.akumenius.com/hoteles-baratos/hotel...</td>\n      <td>Mozilla/5.0 (Linux; U; Android 4.0.4; es-mx; S...</td>\n    </tr>\n  </tbody>\n</table>\n</div>"
     },
     "metadata": {},
     "execution_count": 12
    }
   ],
   "source": [
    "Logs_copy.head()"
   ]
  },
  {
   "cell_type": "code",
   "execution_count": 13,
   "metadata": {},
   "outputs": [],
   "source": [
    "# Request & Status data split\n",
    "\n",
    "Logs_copy[['Request','Status']] = Logs_copy.Request.str.split('\\\"', expand = True).get([0, 1])"
   ]
  },
  {
   "cell_type": "code",
   "execution_count": 14,
   "metadata": {},
   "outputs": [
    {
     "output_type": "execute_result",
     "data": {
      "text/plain": [
       "                 DNS              IP Location       Date  \\\n",
       "0  www.akumenius.com  187.133.87.116          2014-03-02   \n",
       "1  www.akumenius.com  187.133.87.116          2014-03-02   \n",
       "2  www.akumenius.com  187.133.87.116          2014-03-02   \n",
       "3  www.akumenius.com  187.133.87.116          2014-03-02   \n",
       "4  www.akumenius.com  187.133.87.116          2014-03-02   \n",
       "\n",
       "                       Time  \\\n",
       "0 1900-01-01 00:40:59+01:00   \n",
       "1 1900-01-01 00:41:01+01:00   \n",
       "2 1900-01-01 00:40:58+01:00   \n",
       "3 1900-01-01 00:41:00+01:00   \n",
       "4 1900-01-01 00:41:02+01:00   \n",
       "\n",
       "                                             Request      Status  Size  \\\n",
       "0  GET /libraries/jqueryui/js/jquery.ui.datepicke...   200 36542   NaN   \n",
       "1  GET /modules/raton/views/themes/bcoos/js/ga.js...     200 419   NaN   \n",
       "2  GET /libraries/jquery/jquery-1.4.2.min.js HTTP...   200 72174   NaN   \n",
       "3  GET /modules/raton/views/themes/bcoos/js/block...   200 28568   NaN   \n",
       "4    GET /includes/images/uploaded/logo.png HTTP/1.1   200 11389   NaN   \n",
       "\n",
       "                                             Referer  \\\n",
       "0  http://www.akumenius.com/hoteles-baratos/hotel...   \n",
       "1  http://www.akumenius.com/hoteles-baratos/hotel...   \n",
       "2  http://www.akumenius.com/hoteles-baratos/hotel...   \n",
       "3  http://www.akumenius.com/hoteles-baratos/hotel...   \n",
       "4  http://www.akumenius.com/hoteles-baratos/hotel...   \n",
       "\n",
       "                                           UserAgent  \n",
       "0  Mozilla/5.0 (Linux; U; Android 4.0.4; es-mx; S...  \n",
       "1  Mozilla/5.0 (Linux; U; Android 4.0.4; es-mx; S...  \n",
       "2  Mozilla/5.0 (Linux; U; Android 4.0.4; es-mx; S...  \n",
       "3  Mozilla/5.0 (Linux; U; Android 4.0.4; es-mx; S...  \n",
       "4  Mozilla/5.0 (Linux; U; Android 4.0.4; es-mx; S...  "
      ],
      "text/html": "<div>\n<style scoped>\n    .dataframe tbody tr th:only-of-type {\n        vertical-align: middle;\n    }\n\n    .dataframe tbody tr th {\n        vertical-align: top;\n    }\n\n    .dataframe thead th {\n        text-align: right;\n    }\n</style>\n<table border=\"1\" class=\"dataframe\">\n  <thead>\n    <tr style=\"text-align: right;\">\n      <th></th>\n      <th>DNS</th>\n      <th>IP</th>\n      <th>Location</th>\n      <th>Date</th>\n      <th>Time</th>\n      <th>Request</th>\n      <th>Status</th>\n      <th>Size</th>\n      <th>Referer</th>\n      <th>UserAgent</th>\n    </tr>\n  </thead>\n  <tbody>\n    <tr>\n      <th>0</th>\n      <td>www.akumenius.com</td>\n      <td>187.133.87.116</td>\n      <td></td>\n      <td>2014-03-02</td>\n      <td>1900-01-01 00:40:59+01:00</td>\n      <td>GET /libraries/jqueryui/js/jquery.ui.datepicke...</td>\n      <td>200 36542</td>\n      <td>NaN</td>\n      <td>http://www.akumenius.com/hoteles-baratos/hotel...</td>\n      <td>Mozilla/5.0 (Linux; U; Android 4.0.4; es-mx; S...</td>\n    </tr>\n    <tr>\n      <th>1</th>\n      <td>www.akumenius.com</td>\n      <td>187.133.87.116</td>\n      <td></td>\n      <td>2014-03-02</td>\n      <td>1900-01-01 00:41:01+01:00</td>\n      <td>GET /modules/raton/views/themes/bcoos/js/ga.js...</td>\n      <td>200 419</td>\n      <td>NaN</td>\n      <td>http://www.akumenius.com/hoteles-baratos/hotel...</td>\n      <td>Mozilla/5.0 (Linux; U; Android 4.0.4; es-mx; S...</td>\n    </tr>\n    <tr>\n      <th>2</th>\n      <td>www.akumenius.com</td>\n      <td>187.133.87.116</td>\n      <td></td>\n      <td>2014-03-02</td>\n      <td>1900-01-01 00:40:58+01:00</td>\n      <td>GET /libraries/jquery/jquery-1.4.2.min.js HTTP...</td>\n      <td>200 72174</td>\n      <td>NaN</td>\n      <td>http://www.akumenius.com/hoteles-baratos/hotel...</td>\n      <td>Mozilla/5.0 (Linux; U; Android 4.0.4; es-mx; S...</td>\n    </tr>\n    <tr>\n      <th>3</th>\n      <td>www.akumenius.com</td>\n      <td>187.133.87.116</td>\n      <td></td>\n      <td>2014-03-02</td>\n      <td>1900-01-01 00:41:00+01:00</td>\n      <td>GET /modules/raton/views/themes/bcoos/js/block...</td>\n      <td>200 28568</td>\n      <td>NaN</td>\n      <td>http://www.akumenius.com/hoteles-baratos/hotel...</td>\n      <td>Mozilla/5.0 (Linux; U; Android 4.0.4; es-mx; S...</td>\n    </tr>\n    <tr>\n      <th>4</th>\n      <td>www.akumenius.com</td>\n      <td>187.133.87.116</td>\n      <td></td>\n      <td>2014-03-02</td>\n      <td>1900-01-01 00:41:02+01:00</td>\n      <td>GET /includes/images/uploaded/logo.png HTTP/1.1</td>\n      <td>200 11389</td>\n      <td>NaN</td>\n      <td>http://www.akumenius.com/hoteles-baratos/hotel...</td>\n      <td>Mozilla/5.0 (Linux; U; Android 4.0.4; es-mx; S...</td>\n    </tr>\n  </tbody>\n</table>\n</div>"
     },
     "metadata": {},
     "execution_count": 14
    }
   ],
   "source": [
    "Logs_copy.head()"
   ]
  },
  {
   "cell_type": "code",
   "execution_count": 15,
   "metadata": {},
   "outputs": [
    {
     "output_type": "execute_result",
     "data": {
      "text/plain": [
       "                 DNS              IP Location       Date  \\\n",
       "0  www.akumenius.com  187.133.87.116          2014-03-02   \n",
       "1  www.akumenius.com  187.133.87.116          2014-03-02   \n",
       "2  www.akumenius.com  187.133.87.116          2014-03-02   \n",
       "3  www.akumenius.com  187.133.87.116          2014-03-02   \n",
       "4  www.akumenius.com  187.133.87.116          2014-03-02   \n",
       "\n",
       "                       Time  \\\n",
       "0 1900-01-01 00:40:59+01:00   \n",
       "1 1900-01-01 00:41:01+01:00   \n",
       "2 1900-01-01 00:40:58+01:00   \n",
       "3 1900-01-01 00:41:00+01:00   \n",
       "4 1900-01-01 00:41:02+01:00   \n",
       "\n",
       "                                             Request      Status   Size  \\\n",
       "0  GET /libraries/jqueryui/js/jquery.ui.datepicke...   200 36542  36542   \n",
       "1  GET /modules/raton/views/themes/bcoos/js/ga.js...     200 419    419   \n",
       "2  GET /libraries/jquery/jquery-1.4.2.min.js HTTP...   200 72174  72174   \n",
       "3  GET /modules/raton/views/themes/bcoos/js/block...   200 28568  28568   \n",
       "4    GET /includes/images/uploaded/logo.png HTTP/1.1   200 11389  11389   \n",
       "\n",
       "                                             Referer  \\\n",
       "0  http://www.akumenius.com/hoteles-baratos/hotel...   \n",
       "1  http://www.akumenius.com/hoteles-baratos/hotel...   \n",
       "2  http://www.akumenius.com/hoteles-baratos/hotel...   \n",
       "3  http://www.akumenius.com/hoteles-baratos/hotel...   \n",
       "4  http://www.akumenius.com/hoteles-baratos/hotel...   \n",
       "\n",
       "                                           UserAgent  \n",
       "0  Mozilla/5.0 (Linux; U; Android 4.0.4; es-mx; S...  \n",
       "1  Mozilla/5.0 (Linux; U; Android 4.0.4; es-mx; S...  \n",
       "2  Mozilla/5.0 (Linux; U; Android 4.0.4; es-mx; S...  \n",
       "3  Mozilla/5.0 (Linux; U; Android 4.0.4; es-mx; S...  \n",
       "4  Mozilla/5.0 (Linux; U; Android 4.0.4; es-mx; S...  "
      ],
      "text/html": "<div>\n<style scoped>\n    .dataframe tbody tr th:only-of-type {\n        vertical-align: middle;\n    }\n\n    .dataframe tbody tr th {\n        vertical-align: top;\n    }\n\n    .dataframe thead th {\n        text-align: right;\n    }\n</style>\n<table border=\"1\" class=\"dataframe\">\n  <thead>\n    <tr style=\"text-align: right;\">\n      <th></th>\n      <th>DNS</th>\n      <th>IP</th>\n      <th>Location</th>\n      <th>Date</th>\n      <th>Time</th>\n      <th>Request</th>\n      <th>Status</th>\n      <th>Size</th>\n      <th>Referer</th>\n      <th>UserAgent</th>\n    </tr>\n  </thead>\n  <tbody>\n    <tr>\n      <th>0</th>\n      <td>www.akumenius.com</td>\n      <td>187.133.87.116</td>\n      <td></td>\n      <td>2014-03-02</td>\n      <td>1900-01-01 00:40:59+01:00</td>\n      <td>GET /libraries/jqueryui/js/jquery.ui.datepicke...</td>\n      <td>200 36542</td>\n      <td>36542</td>\n      <td>http://www.akumenius.com/hoteles-baratos/hotel...</td>\n      <td>Mozilla/5.0 (Linux; U; Android 4.0.4; es-mx; S...</td>\n    </tr>\n    <tr>\n      <th>1</th>\n      <td>www.akumenius.com</td>\n      <td>187.133.87.116</td>\n      <td></td>\n      <td>2014-03-02</td>\n      <td>1900-01-01 00:41:01+01:00</td>\n      <td>GET /modules/raton/views/themes/bcoos/js/ga.js...</td>\n      <td>200 419</td>\n      <td>419</td>\n      <td>http://www.akumenius.com/hoteles-baratos/hotel...</td>\n      <td>Mozilla/5.0 (Linux; U; Android 4.0.4; es-mx; S...</td>\n    </tr>\n    <tr>\n      <th>2</th>\n      <td>www.akumenius.com</td>\n      <td>187.133.87.116</td>\n      <td></td>\n      <td>2014-03-02</td>\n      <td>1900-01-01 00:40:58+01:00</td>\n      <td>GET /libraries/jquery/jquery-1.4.2.min.js HTTP...</td>\n      <td>200 72174</td>\n      <td>72174</td>\n      <td>http://www.akumenius.com/hoteles-baratos/hotel...</td>\n      <td>Mozilla/5.0 (Linux; U; Android 4.0.4; es-mx; S...</td>\n    </tr>\n    <tr>\n      <th>3</th>\n      <td>www.akumenius.com</td>\n      <td>187.133.87.116</td>\n      <td></td>\n      <td>2014-03-02</td>\n      <td>1900-01-01 00:41:00+01:00</td>\n      <td>GET /modules/raton/views/themes/bcoos/js/block...</td>\n      <td>200 28568</td>\n      <td>28568</td>\n      <td>http://www.akumenius.com/hoteles-baratos/hotel...</td>\n      <td>Mozilla/5.0 (Linux; U; Android 4.0.4; es-mx; S...</td>\n    </tr>\n    <tr>\n      <th>4</th>\n      <td>www.akumenius.com</td>\n      <td>187.133.87.116</td>\n      <td></td>\n      <td>2014-03-02</td>\n      <td>1900-01-01 00:41:02+01:00</td>\n      <td>GET /includes/images/uploaded/logo.png HTTP/1.1</td>\n      <td>200 11389</td>\n      <td>11389</td>\n      <td>http://www.akumenius.com/hoteles-baratos/hotel...</td>\n      <td>Mozilla/5.0 (Linux; U; Android 4.0.4; es-mx; S...</td>\n    </tr>\n  </tbody>\n</table>\n</div>"
     },
     "metadata": {},
     "execution_count": 15
    }
   ],
   "source": [
    "# Size data extraction\n",
    "\n",
    "Logs_copy.Size = Logs_copy.Status.str.extract('(\\d+$)')\n",
    "Logs_copy.head()"
   ]
  },
  {
   "cell_type": "code",
   "execution_count": 16,
   "metadata": {
    "scrolled": true
   },
   "outputs": [
    {
     "output_type": "execute_result",
     "data": {
      "text/plain": [
       "                 DNS              IP Location       Date  \\\n",
       "0  www.akumenius.com  187.133.87.116          2014-03-02   \n",
       "1  www.akumenius.com  187.133.87.116          2014-03-02   \n",
       "2  www.akumenius.com  187.133.87.116          2014-03-02   \n",
       "3  www.akumenius.com  187.133.87.116          2014-03-02   \n",
       "4  www.akumenius.com  187.133.87.116          2014-03-02   \n",
       "\n",
       "                       Time  \\\n",
       "0 1900-01-01 00:40:59+01:00   \n",
       "1 1900-01-01 00:41:01+01:00   \n",
       "2 1900-01-01 00:40:58+01:00   \n",
       "3 1900-01-01 00:41:00+01:00   \n",
       "4 1900-01-01 00:41:02+01:00   \n",
       "\n",
       "                                             Request Status   Size  \\\n",
       "0  GET /libraries/jqueryui/js/jquery.ui.datepicke...    200  36542   \n",
       "1  GET /modules/raton/views/themes/bcoos/js/ga.js...    200    419   \n",
       "2  GET /libraries/jquery/jquery-1.4.2.min.js HTTP...    200  72174   \n",
       "3  GET /modules/raton/views/themes/bcoos/js/block...    200  28568   \n",
       "4    GET /includes/images/uploaded/logo.png HTTP/1.1    200  11389   \n",
       "\n",
       "                                             Referer  \\\n",
       "0  http://www.akumenius.com/hoteles-baratos/hotel...   \n",
       "1  http://www.akumenius.com/hoteles-baratos/hotel...   \n",
       "2  http://www.akumenius.com/hoteles-baratos/hotel...   \n",
       "3  http://www.akumenius.com/hoteles-baratos/hotel...   \n",
       "4  http://www.akumenius.com/hoteles-baratos/hotel...   \n",
       "\n",
       "                                           UserAgent  \n",
       "0  Mozilla/5.0 (Linux; U; Android 4.0.4; es-mx; S...  \n",
       "1  Mozilla/5.0 (Linux; U; Android 4.0.4; es-mx; S...  \n",
       "2  Mozilla/5.0 (Linux; U; Android 4.0.4; es-mx; S...  \n",
       "3  Mozilla/5.0 (Linux; U; Android 4.0.4; es-mx; S...  \n",
       "4  Mozilla/5.0 (Linux; U; Android 4.0.4; es-mx; S...  "
      ],
      "text/html": "<div>\n<style scoped>\n    .dataframe tbody tr th:only-of-type {\n        vertical-align: middle;\n    }\n\n    .dataframe tbody tr th {\n        vertical-align: top;\n    }\n\n    .dataframe thead th {\n        text-align: right;\n    }\n</style>\n<table border=\"1\" class=\"dataframe\">\n  <thead>\n    <tr style=\"text-align: right;\">\n      <th></th>\n      <th>DNS</th>\n      <th>IP</th>\n      <th>Location</th>\n      <th>Date</th>\n      <th>Time</th>\n      <th>Request</th>\n      <th>Status</th>\n      <th>Size</th>\n      <th>Referer</th>\n      <th>UserAgent</th>\n    </tr>\n  </thead>\n  <tbody>\n    <tr>\n      <th>0</th>\n      <td>www.akumenius.com</td>\n      <td>187.133.87.116</td>\n      <td></td>\n      <td>2014-03-02</td>\n      <td>1900-01-01 00:40:59+01:00</td>\n      <td>GET /libraries/jqueryui/js/jquery.ui.datepicke...</td>\n      <td>200</td>\n      <td>36542</td>\n      <td>http://www.akumenius.com/hoteles-baratos/hotel...</td>\n      <td>Mozilla/5.0 (Linux; U; Android 4.0.4; es-mx; S...</td>\n    </tr>\n    <tr>\n      <th>1</th>\n      <td>www.akumenius.com</td>\n      <td>187.133.87.116</td>\n      <td></td>\n      <td>2014-03-02</td>\n      <td>1900-01-01 00:41:01+01:00</td>\n      <td>GET /modules/raton/views/themes/bcoos/js/ga.js...</td>\n      <td>200</td>\n      <td>419</td>\n      <td>http://www.akumenius.com/hoteles-baratos/hotel...</td>\n      <td>Mozilla/5.0 (Linux; U; Android 4.0.4; es-mx; S...</td>\n    </tr>\n    <tr>\n      <th>2</th>\n      <td>www.akumenius.com</td>\n      <td>187.133.87.116</td>\n      <td></td>\n      <td>2014-03-02</td>\n      <td>1900-01-01 00:40:58+01:00</td>\n      <td>GET /libraries/jquery/jquery-1.4.2.min.js HTTP...</td>\n      <td>200</td>\n      <td>72174</td>\n      <td>http://www.akumenius.com/hoteles-baratos/hotel...</td>\n      <td>Mozilla/5.0 (Linux; U; Android 4.0.4; es-mx; S...</td>\n    </tr>\n    <tr>\n      <th>3</th>\n      <td>www.akumenius.com</td>\n      <td>187.133.87.116</td>\n      <td></td>\n      <td>2014-03-02</td>\n      <td>1900-01-01 00:41:00+01:00</td>\n      <td>GET /modules/raton/views/themes/bcoos/js/block...</td>\n      <td>200</td>\n      <td>28568</td>\n      <td>http://www.akumenius.com/hoteles-baratos/hotel...</td>\n      <td>Mozilla/5.0 (Linux; U; Android 4.0.4; es-mx; S...</td>\n    </tr>\n    <tr>\n      <th>4</th>\n      <td>www.akumenius.com</td>\n      <td>187.133.87.116</td>\n      <td></td>\n      <td>2014-03-02</td>\n      <td>1900-01-01 00:41:02+01:00</td>\n      <td>GET /includes/images/uploaded/logo.png HTTP/1.1</td>\n      <td>200</td>\n      <td>11389</td>\n      <td>http://www.akumenius.com/hoteles-baratos/hotel...</td>\n      <td>Mozilla/5.0 (Linux; U; Android 4.0.4; es-mx; S...</td>\n    </tr>\n  </tbody>\n</table>\n</div>"
     },
     "metadata": {},
     "execution_count": 16
    }
   ],
   "source": [
    "# Status data extraction\n",
    "\n",
    "Logs_copy.Status = Logs_copy.Status.str.extract('(\\d{3})')\n",
    "Logs_copy.head()"
   ]
  },
  {
   "cell_type": "code",
   "execution_count": 17,
   "metadata": {},
   "outputs": [
    {
     "output_type": "execute_result",
     "data": {
      "text/plain": [
       "                    DNS              IP Location       Date  \\\n",
       "0     www.akumenius.com  187.133.87.116          2014-03-02   \n",
       "1     www.akumenius.com  187.133.87.116          2014-03-02   \n",
       "2     www.akumenius.com  187.133.87.116          2014-03-02   \n",
       "3     www.akumenius.com  187.133.87.116          2014-03-02   \n",
       "4     www.akumenius.com  187.133.87.116          2014-03-02   \n",
       "...                 ...             ...      ...        ...   \n",
       "1097  www.akumenius.com    5.255.253.53          2014-03-02   \n",
       "1098  www.akumenius.com   74.86.158.107          2014-03-02   \n",
       "1099          localhost       127.0.0.1          2014-03-02   \n",
       "1100          localhost       127.0.0.1          2014-03-02   \n",
       "1101          localhost       127.0.0.1          2014-03-02   \n",
       "\n",
       "                          Time  \\\n",
       "0    1900-01-01 00:40:59+01:00   \n",
       "1    1900-01-01 00:41:01+01:00   \n",
       "2    1900-01-01 00:40:58+01:00   \n",
       "3    1900-01-01 00:41:00+01:00   \n",
       "4    1900-01-01 00:41:02+01:00   \n",
       "...                        ...   \n",
       "1097 1900-01-01 03:05:39+01:00   \n",
       "1098 1900-01-01 03:09:52+01:00   \n",
       "1099 1900-01-01 03:10:18+01:00   \n",
       "1100 1900-01-01 03:10:18+01:00   \n",
       "1101 1900-01-01 03:10:18+01:00   \n",
       "\n",
       "                                                Request Status   Size  \\\n",
       "0     GET /libraries/jqueryui/js/jquery.ui.datepicke...    200  36542   \n",
       "1     GET /modules/raton/views/themes/bcoos/js/ga.js...    200    419   \n",
       "2     GET /libraries/jquery/jquery-1.4.2.min.js HTTP...    200  72174   \n",
       "3     GET /modules/raton/views/themes/bcoos/js/block...    200  28568   \n",
       "4       GET /includes/images/uploaded/logo.png HTTP/1.1    200  11389   \n",
       "...                                                 ...    ...    ...   \n",
       "1097                                     GET / HTTP/1.1    200   7528   \n",
       "1098                                    HEAD / HTTP/1.1    200    200   \n",
       "1099                                 OPTIONS * HTTP/1.0    200    200   \n",
       "1100                                 OPTIONS * HTTP/1.0    200    200   \n",
       "1101                                 OPTIONS * HTTP/1.0    200    200   \n",
       "\n",
       "                                                Referer  \\\n",
       "0     http://www.akumenius.com/hoteles-baratos/hotel...   \n",
       "1     http://www.akumenius.com/hoteles-baratos/hotel...   \n",
       "2     http://www.akumenius.com/hoteles-baratos/hotel...   \n",
       "3     http://www.akumenius.com/hoteles-baratos/hotel...   \n",
       "4     http://www.akumenius.com/hoteles-baratos/hotel...   \n",
       "...                                                 ...   \n",
       "1097                                                 -\"   \n",
       "1098                                                \"-\"   \n",
       "1099                                                \"-\"   \n",
       "1100                                                \"-\"   \n",
       "1101                                                \"-\"   \n",
       "\n",
       "                                              UserAgent  \n",
       "0     Mozilla/5.0 (Linux; U; Android 4.0.4; es-mx; S...  \n",
       "1     Mozilla/5.0 (Linux; U; Android 4.0.4; es-mx; S...  \n",
       "2     Mozilla/5.0 (Linux; U; Android 4.0.4; es-mx; S...  \n",
       "3     Mozilla/5.0 (Linux; U; Android 4.0.4; es-mx; S...  \n",
       "4     Mozilla/5.0 (Linux; U; Android 4.0.4; es-mx; S...  \n",
       "...                                                 ...  \n",
       "1097  Mozilla/5.0 (compatible; YandexBot/3.0; +http:...  \n",
       "1098  Mozilla/5.0+(compatible; UptimeRobot/2.0; http...  \n",
       "1099         Apache (internal dummy connection)\" VLOG=-  \n",
       "1100         Apache (internal dummy connection)\" VLOG=-  \n",
       "1101         Apache (internal dummy connection)\" VLOG=-  \n",
       "\n",
       "[1102 rows x 10 columns]"
      ],
      "text/html": "<div>\n<style scoped>\n    .dataframe tbody tr th:only-of-type {\n        vertical-align: middle;\n    }\n\n    .dataframe tbody tr th {\n        vertical-align: top;\n    }\n\n    .dataframe thead th {\n        text-align: right;\n    }\n</style>\n<table border=\"1\" class=\"dataframe\">\n  <thead>\n    <tr style=\"text-align: right;\">\n      <th></th>\n      <th>DNS</th>\n      <th>IP</th>\n      <th>Location</th>\n      <th>Date</th>\n      <th>Time</th>\n      <th>Request</th>\n      <th>Status</th>\n      <th>Size</th>\n      <th>Referer</th>\n      <th>UserAgent</th>\n    </tr>\n  </thead>\n  <tbody>\n    <tr>\n      <th>0</th>\n      <td>www.akumenius.com</td>\n      <td>187.133.87.116</td>\n      <td></td>\n      <td>2014-03-02</td>\n      <td>1900-01-01 00:40:59+01:00</td>\n      <td>GET /libraries/jqueryui/js/jquery.ui.datepicke...</td>\n      <td>200</td>\n      <td>36542</td>\n      <td>http://www.akumenius.com/hoteles-baratos/hotel...</td>\n      <td>Mozilla/5.0 (Linux; U; Android 4.0.4; es-mx; S...</td>\n    </tr>\n    <tr>\n      <th>1</th>\n      <td>www.akumenius.com</td>\n      <td>187.133.87.116</td>\n      <td></td>\n      <td>2014-03-02</td>\n      <td>1900-01-01 00:41:01+01:00</td>\n      <td>GET /modules/raton/views/themes/bcoos/js/ga.js...</td>\n      <td>200</td>\n      <td>419</td>\n      <td>http://www.akumenius.com/hoteles-baratos/hotel...</td>\n      <td>Mozilla/5.0 (Linux; U; Android 4.0.4; es-mx; S...</td>\n    </tr>\n    <tr>\n      <th>2</th>\n      <td>www.akumenius.com</td>\n      <td>187.133.87.116</td>\n      <td></td>\n      <td>2014-03-02</td>\n      <td>1900-01-01 00:40:58+01:00</td>\n      <td>GET /libraries/jquery/jquery-1.4.2.min.js HTTP...</td>\n      <td>200</td>\n      <td>72174</td>\n      <td>http://www.akumenius.com/hoteles-baratos/hotel...</td>\n      <td>Mozilla/5.0 (Linux; U; Android 4.0.4; es-mx; S...</td>\n    </tr>\n    <tr>\n      <th>3</th>\n      <td>www.akumenius.com</td>\n      <td>187.133.87.116</td>\n      <td></td>\n      <td>2014-03-02</td>\n      <td>1900-01-01 00:41:00+01:00</td>\n      <td>GET /modules/raton/views/themes/bcoos/js/block...</td>\n      <td>200</td>\n      <td>28568</td>\n      <td>http://www.akumenius.com/hoteles-baratos/hotel...</td>\n      <td>Mozilla/5.0 (Linux; U; Android 4.0.4; es-mx; S...</td>\n    </tr>\n    <tr>\n      <th>4</th>\n      <td>www.akumenius.com</td>\n      <td>187.133.87.116</td>\n      <td></td>\n      <td>2014-03-02</td>\n      <td>1900-01-01 00:41:02+01:00</td>\n      <td>GET /includes/images/uploaded/logo.png HTTP/1.1</td>\n      <td>200</td>\n      <td>11389</td>\n      <td>http://www.akumenius.com/hoteles-baratos/hotel...</td>\n      <td>Mozilla/5.0 (Linux; U; Android 4.0.4; es-mx; S...</td>\n    </tr>\n    <tr>\n      <th>...</th>\n      <td>...</td>\n      <td>...</td>\n      <td>...</td>\n      <td>...</td>\n      <td>...</td>\n      <td>...</td>\n      <td>...</td>\n      <td>...</td>\n      <td>...</td>\n      <td>...</td>\n    </tr>\n    <tr>\n      <th>1097</th>\n      <td>www.akumenius.com</td>\n      <td>5.255.253.53</td>\n      <td></td>\n      <td>2014-03-02</td>\n      <td>1900-01-01 03:05:39+01:00</td>\n      <td>GET / HTTP/1.1</td>\n      <td>200</td>\n      <td>7528</td>\n      <td>-\"</td>\n      <td>Mozilla/5.0 (compatible; YandexBot/3.0; +http:...</td>\n    </tr>\n    <tr>\n      <th>1098</th>\n      <td>www.akumenius.com</td>\n      <td>74.86.158.107</td>\n      <td></td>\n      <td>2014-03-02</td>\n      <td>1900-01-01 03:09:52+01:00</td>\n      <td>HEAD / HTTP/1.1</td>\n      <td>200</td>\n      <td>200</td>\n      <td>\"-\"</td>\n      <td>Mozilla/5.0+(compatible; UptimeRobot/2.0; http...</td>\n    </tr>\n    <tr>\n      <th>1099</th>\n      <td>localhost</td>\n      <td>127.0.0.1</td>\n      <td></td>\n      <td>2014-03-02</td>\n      <td>1900-01-01 03:10:18+01:00</td>\n      <td>OPTIONS * HTTP/1.0</td>\n      <td>200</td>\n      <td>200</td>\n      <td>\"-\"</td>\n      <td>Apache (internal dummy connection)\" VLOG=-</td>\n    </tr>\n    <tr>\n      <th>1100</th>\n      <td>localhost</td>\n      <td>127.0.0.1</td>\n      <td></td>\n      <td>2014-03-02</td>\n      <td>1900-01-01 03:10:18+01:00</td>\n      <td>OPTIONS * HTTP/1.0</td>\n      <td>200</td>\n      <td>200</td>\n      <td>\"-\"</td>\n      <td>Apache (internal dummy connection)\" VLOG=-</td>\n    </tr>\n    <tr>\n      <th>1101</th>\n      <td>localhost</td>\n      <td>127.0.0.1</td>\n      <td></td>\n      <td>2014-03-02</td>\n      <td>1900-01-01 03:10:18+01:00</td>\n      <td>OPTIONS * HTTP/1.0</td>\n      <td>200</td>\n      <td>200</td>\n      <td>\"-\"</td>\n      <td>Apache (internal dummy connection)\" VLOG=-</td>\n    </tr>\n  </tbody>\n</table>\n<p>1102 rows × 10 columns</p>\n</div>"
     },
     "metadata": {},
     "execution_count": 17
    }
   ],
   "source": [
    "# Referer useless data correction\n",
    "for index, row in Logs_copy.iterrows(): \n",
    "    \n",
    "    if '-\"' in row.Referer:\n",
    "        row.Referer = \"\"\n",
    "                \n",
    "Logs_copy  "
   ]
  },
  {
   "cell_type": "code",
   "execution_count": 18,
   "metadata": {},
   "outputs": [],
   "source": [
    "    \n",
    "for index, row in Logs_copy.iterrows(): \n",
    "    \n",
    "    if re.search('.*[^\\\"]', row.Referer):\n",
    "\n",
    "        row.Referer = \"\""
   ]
  },
  {
   "cell_type": "code",
   "execution_count": 19,
   "metadata": {},
   "outputs": [
    {
     "output_type": "execute_result",
     "data": {
      "text/plain": [
       "                    DNS              IP Location       Date  \\\n",
       "0     www.akumenius.com  187.133.87.116          2014-03-02   \n",
       "1     www.akumenius.com  187.133.87.116          2014-03-02   \n",
       "2     www.akumenius.com  187.133.87.116          2014-03-02   \n",
       "3     www.akumenius.com  187.133.87.116          2014-03-02   \n",
       "4     www.akumenius.com  187.133.87.116          2014-03-02   \n",
       "...                 ...             ...      ...        ...   \n",
       "1097  www.akumenius.com    5.255.253.53          2014-03-02   \n",
       "1098  www.akumenius.com   74.86.158.107          2014-03-02   \n",
       "1099          localhost       127.0.0.1          2014-03-02   \n",
       "1100          localhost       127.0.0.1          2014-03-02   \n",
       "1101          localhost       127.0.0.1          2014-03-02   \n",
       "\n",
       "                          Time  \\\n",
       "0    1900-01-01 00:40:59+01:00   \n",
       "1    1900-01-01 00:41:01+01:00   \n",
       "2    1900-01-01 00:40:58+01:00   \n",
       "3    1900-01-01 00:41:00+01:00   \n",
       "4    1900-01-01 00:41:02+01:00   \n",
       "...                        ...   \n",
       "1097 1900-01-01 03:05:39+01:00   \n",
       "1098 1900-01-01 03:09:52+01:00   \n",
       "1099 1900-01-01 03:10:18+01:00   \n",
       "1100 1900-01-01 03:10:18+01:00   \n",
       "1101 1900-01-01 03:10:18+01:00   \n",
       "\n",
       "                                                Request Status   Size  \\\n",
       "0     GET /libraries/jqueryui/js/jquery.ui.datepicke...    200  36542   \n",
       "1     GET /modules/raton/views/themes/bcoos/js/ga.js...    200    419   \n",
       "2     GET /libraries/jquery/jquery-1.4.2.min.js HTTP...    200  72174   \n",
       "3     GET /modules/raton/views/themes/bcoos/js/block...    200  28568   \n",
       "4       GET /includes/images/uploaded/logo.png HTTP/1.1    200  11389   \n",
       "...                                                 ...    ...    ...   \n",
       "1097                                     GET / HTTP/1.1    200   7528   \n",
       "1098                                    HEAD / HTTP/1.1    200    200   \n",
       "1099                                 OPTIONS * HTTP/1.0    200    200   \n",
       "1100                                 OPTIONS * HTTP/1.0    200    200   \n",
       "1101                                 OPTIONS * HTTP/1.0    200    200   \n",
       "\n",
       "                                                Referer  \\\n",
       "0     http://www.akumenius.com/hoteles-baratos/hotel...   \n",
       "1     http://www.akumenius.com/hoteles-baratos/hotel...   \n",
       "2     http://www.akumenius.com/hoteles-baratos/hotel...   \n",
       "3     http://www.akumenius.com/hoteles-baratos/hotel...   \n",
       "4     http://www.akumenius.com/hoteles-baratos/hotel...   \n",
       "...                                                 ...   \n",
       "1097                                                 -\"   \n",
       "1098                                                \"-\"   \n",
       "1099                                                \"-\"   \n",
       "1100                                                \"-\"   \n",
       "1101                                                \"-\"   \n",
       "\n",
       "                                              UserAgent  \n",
       "0     Mozilla/5.0 (Linux; U; Android 4.0.4; es-mx; S...  \n",
       "1     Mozilla/5.0 (Linux; U; Android 4.0.4; es-mx; S...  \n",
       "2     Mozilla/5.0 (Linux; U; Android 4.0.4; es-mx; S...  \n",
       "3     Mozilla/5.0 (Linux; U; Android 4.0.4; es-mx; S...  \n",
       "4     Mozilla/5.0 (Linux; U; Android 4.0.4; es-mx; S...  \n",
       "...                                                 ...  \n",
       "1097  Mozilla/5.0 (compatible; YandexBot/3.0; +http:...  \n",
       "1098  Mozilla/5.0+(compatible; UptimeRobot/2.0; http...  \n",
       "1099         Apache (internal dummy connection)\" VLOG=-  \n",
       "1100         Apache (internal dummy connection)\" VLOG=-  \n",
       "1101         Apache (internal dummy connection)\" VLOG=-  \n",
       "\n",
       "[1102 rows x 10 columns]"
      ],
      "text/html": "<div>\n<style scoped>\n    .dataframe tbody tr th:only-of-type {\n        vertical-align: middle;\n    }\n\n    .dataframe tbody tr th {\n        vertical-align: top;\n    }\n\n    .dataframe thead th {\n        text-align: right;\n    }\n</style>\n<table border=\"1\" class=\"dataframe\">\n  <thead>\n    <tr style=\"text-align: right;\">\n      <th></th>\n      <th>DNS</th>\n      <th>IP</th>\n      <th>Location</th>\n      <th>Date</th>\n      <th>Time</th>\n      <th>Request</th>\n      <th>Status</th>\n      <th>Size</th>\n      <th>Referer</th>\n      <th>UserAgent</th>\n    </tr>\n  </thead>\n  <tbody>\n    <tr>\n      <th>0</th>\n      <td>www.akumenius.com</td>\n      <td>187.133.87.116</td>\n      <td></td>\n      <td>2014-03-02</td>\n      <td>1900-01-01 00:40:59+01:00</td>\n      <td>GET /libraries/jqueryui/js/jquery.ui.datepicke...</td>\n      <td>200</td>\n      <td>36542</td>\n      <td>http://www.akumenius.com/hoteles-baratos/hotel...</td>\n      <td>Mozilla/5.0 (Linux; U; Android 4.0.4; es-mx; S...</td>\n    </tr>\n    <tr>\n      <th>1</th>\n      <td>www.akumenius.com</td>\n      <td>187.133.87.116</td>\n      <td></td>\n      <td>2014-03-02</td>\n      <td>1900-01-01 00:41:01+01:00</td>\n      <td>GET /modules/raton/views/themes/bcoos/js/ga.js...</td>\n      <td>200</td>\n      <td>419</td>\n      <td>http://www.akumenius.com/hoteles-baratos/hotel...</td>\n      <td>Mozilla/5.0 (Linux; U; Android 4.0.4; es-mx; S...</td>\n    </tr>\n    <tr>\n      <th>2</th>\n      <td>www.akumenius.com</td>\n      <td>187.133.87.116</td>\n      <td></td>\n      <td>2014-03-02</td>\n      <td>1900-01-01 00:40:58+01:00</td>\n      <td>GET /libraries/jquery/jquery-1.4.2.min.js HTTP...</td>\n      <td>200</td>\n      <td>72174</td>\n      <td>http://www.akumenius.com/hoteles-baratos/hotel...</td>\n      <td>Mozilla/5.0 (Linux; U; Android 4.0.4; es-mx; S...</td>\n    </tr>\n    <tr>\n      <th>3</th>\n      <td>www.akumenius.com</td>\n      <td>187.133.87.116</td>\n      <td></td>\n      <td>2014-03-02</td>\n      <td>1900-01-01 00:41:00+01:00</td>\n      <td>GET /modules/raton/views/themes/bcoos/js/block...</td>\n      <td>200</td>\n      <td>28568</td>\n      <td>http://www.akumenius.com/hoteles-baratos/hotel...</td>\n      <td>Mozilla/5.0 (Linux; U; Android 4.0.4; es-mx; S...</td>\n    </tr>\n    <tr>\n      <th>4</th>\n      <td>www.akumenius.com</td>\n      <td>187.133.87.116</td>\n      <td></td>\n      <td>2014-03-02</td>\n      <td>1900-01-01 00:41:02+01:00</td>\n      <td>GET /includes/images/uploaded/logo.png HTTP/1.1</td>\n      <td>200</td>\n      <td>11389</td>\n      <td>http://www.akumenius.com/hoteles-baratos/hotel...</td>\n      <td>Mozilla/5.0 (Linux; U; Android 4.0.4; es-mx; S...</td>\n    </tr>\n    <tr>\n      <th>...</th>\n      <td>...</td>\n      <td>...</td>\n      <td>...</td>\n      <td>...</td>\n      <td>...</td>\n      <td>...</td>\n      <td>...</td>\n      <td>...</td>\n      <td>...</td>\n      <td>...</td>\n    </tr>\n    <tr>\n      <th>1097</th>\n      <td>www.akumenius.com</td>\n      <td>5.255.253.53</td>\n      <td></td>\n      <td>2014-03-02</td>\n      <td>1900-01-01 03:05:39+01:00</td>\n      <td>GET / HTTP/1.1</td>\n      <td>200</td>\n      <td>7528</td>\n      <td>-\"</td>\n      <td>Mozilla/5.0 (compatible; YandexBot/3.0; +http:...</td>\n    </tr>\n    <tr>\n      <th>1098</th>\n      <td>www.akumenius.com</td>\n      <td>74.86.158.107</td>\n      <td></td>\n      <td>2014-03-02</td>\n      <td>1900-01-01 03:09:52+01:00</td>\n      <td>HEAD / HTTP/1.1</td>\n      <td>200</td>\n      <td>200</td>\n      <td>\"-\"</td>\n      <td>Mozilla/5.0+(compatible; UptimeRobot/2.0; http...</td>\n    </tr>\n    <tr>\n      <th>1099</th>\n      <td>localhost</td>\n      <td>127.0.0.1</td>\n      <td></td>\n      <td>2014-03-02</td>\n      <td>1900-01-01 03:10:18+01:00</td>\n      <td>OPTIONS * HTTP/1.0</td>\n      <td>200</td>\n      <td>200</td>\n      <td>\"-\"</td>\n      <td>Apache (internal dummy connection)\" VLOG=-</td>\n    </tr>\n    <tr>\n      <th>1100</th>\n      <td>localhost</td>\n      <td>127.0.0.1</td>\n      <td></td>\n      <td>2014-03-02</td>\n      <td>1900-01-01 03:10:18+01:00</td>\n      <td>OPTIONS * HTTP/1.0</td>\n      <td>200</td>\n      <td>200</td>\n      <td>\"-\"</td>\n      <td>Apache (internal dummy connection)\" VLOG=-</td>\n    </tr>\n    <tr>\n      <th>1101</th>\n      <td>localhost</td>\n      <td>127.0.0.1</td>\n      <td></td>\n      <td>2014-03-02</td>\n      <td>1900-01-01 03:10:18+01:00</td>\n      <td>OPTIONS * HTTP/1.0</td>\n      <td>200</td>\n      <td>200</td>\n      <td>\"-\"</td>\n      <td>Apache (internal dummy connection)\" VLOG=-</td>\n    </tr>\n  </tbody>\n</table>\n<p>1102 rows × 10 columns</p>\n</div>"
     },
     "metadata": {},
     "execution_count": 19
    }
   ],
   "source": [
    "Logs_copy"
   ]
  },
  {
   "cell_type": "markdown",
   "metadata": {},
   "source": [
    "###  Exercici 3\n",
    "- Geolocalitza les IP's. Aqui tens una pagina de interes:\n",
    "  - [IP2Locattion](https://blog.ip2location.com/knowledge-base/how-to-add-a-sub-account-in-ip2location/)"
   ]
  },
  {
   "cell_type": "code",
   "execution_count": 20,
   "metadata": {},
   "outputs": [],
   "source": [
    "import json\n",
    "from ip2geotools.databases.noncommercial import DbIpCity"
   ]
  },
  {
   "cell_type": "code",
   "execution_count": 21,
   "metadata": {},
   "outputs": [
    {
     "output_type": "execute_result",
     "data": {
      "text/plain": [
       "array(['187.133.87.116', '66.249.76.216', '217.12.28.5', '127.0.0.1',\n",
       "       '74.86.158.107', '220.181.108.115', '157.56.93.103',\n",
       "       '157.55.35.41', '212.231.208.21', '74.86.158.106', '123.125.71.31',\n",
       "       '69.171.229.117', '69.171.229.119', '69.171.229.114',\n",
       "       '69.171.229.118', '69.171.229.112', '173.252.77.116',\n",
       "       '173.252.77.117', '173.252.77.118', '173.252.77.119',\n",
       "       '173.252.77.113', '173.252.77.114', '176.31.255.177',\n",
       "       '88.20.52.218', '199.30.20.35', '157.55.32.185', '181.164.57.183',\n",
       "       '180.76.5.114', '217.12.28.130', '31.4.208.178', '87.217.147.158',\n",
       "       '157.56.93.82', '201.31.227.195', '89.107.180.75', '157.55.34.176',\n",
       "       '157.55.33.78', '199.30.20.66', '174.129.237.157', '123.125.71.17',\n",
       "       '220.181.108.89', '201.134.106.130', '180.76.5.119',\n",
       "       '180.76.6.155', '180.76.5.28', '202.46.58.28', '119.63.193.130',\n",
       "       '180.76.6.132', '93.186.202.198', '180.76.5.95', '194.224.196.204',\n",
       "       '83.63.131.193', '46.222.83.180', '79.155.78.117', '194.30.26.30',\n",
       "       '217.174.248.179', '157.55.34.173', '180.76.5.200',\n",
       "       '157.56.92.174', '188.135.173.80', '180.76.6.37', '180.76.5.78',\n",
       "       '83.45.25.198', '220.181.108.104', '123.125.71.52',\n",
       "       '66.249.75.148', '206.198.5.33', '5.255.253.53'], dtype=object)"
      ]
     },
     "metadata": {},
     "execution_count": 21
    }
   ],
   "source": [
    "# Extract Ips\n",
    "\n",
    "ips = Logs_copy.IP.unique()\n",
    "ips"
   ]
  },
  {
   "cell_type": "code",
   "execution_count": 22,
   "metadata": {},
   "outputs": [],
   "source": [
    "# Function for extract Locations\n",
    "\n",
    "localhost = \"127.0.0.1\"\n",
    "\n",
    "def extract_location(ip):\n",
    "    \n",
    "    try:\n",
    "        if ip == localhost:\n",
    "            return ('Local', 'Local')\n",
    "\n",
    "        else:\n",
    "            response = DbIpCity.get(ip, api_key = 'free').to_json()    \n",
    "            data = json.loads(response)\n",
    "            return data['city'], data['country']\n",
    "    \n",
    "    except:\n",
    "        return np.nan"
   ]
  },
  {
   "cell_type": "code",
   "execution_count": 23,
   "metadata": {},
   "outputs": [
    {
     "output_type": "execute_result",
     "data": {
      "text/plain": [
       "nan"
      ]
     },
     "metadata": {},
     "execution_count": 23
    }
   ],
   "source": [
    "# Extract Location Test\n",
    "\n",
    "extract_location(Logs_copy.IP[50])"
   ]
  },
  {
   "cell_type": "code",
   "execution_count": 24,
   "metadata": {},
   "outputs": [
    {
     "output_type": "execute_result",
     "data": {
      "text/plain": [
       "[nan,\n",
       " nan,\n",
       " nan,\n",
       " ('Local', 'Local'),\n",
       " nan,\n",
       " nan,\n",
       " nan,\n",
       " nan,\n",
       " nan,\n",
       " nan,\n",
       " nan,\n",
       " nan,\n",
       " nan,\n",
       " nan,\n",
       " nan,\n",
       " nan,\n",
       " nan,\n",
       " nan,\n",
       " nan,\n",
       " nan,\n",
       " nan,\n",
       " nan,\n",
       " nan,\n",
       " nan,\n",
       " nan,\n",
       " nan,\n",
       " nan,\n",
       " nan,\n",
       " nan,\n",
       " nan,\n",
       " nan,\n",
       " nan,\n",
       " nan,\n",
       " nan,\n",
       " nan,\n",
       " nan,\n",
       " nan,\n",
       " nan,\n",
       " nan,\n",
       " nan,\n",
       " nan,\n",
       " nan,\n",
       " nan,\n",
       " nan,\n",
       " nan,\n",
       " nan,\n",
       " nan,\n",
       " nan,\n",
       " nan,\n",
       " nan,\n",
       " nan,\n",
       " nan,\n",
       " nan,\n",
       " nan,\n",
       " nan,\n",
       " nan,\n",
       " nan,\n",
       " nan,\n",
       " nan,\n",
       " nan,\n",
       " nan,\n",
       " nan,\n",
       " nan,\n",
       " nan,\n",
       " nan,\n",
       " nan,\n",
       " nan]"
      ]
     },
     "metadata": {},
     "execution_count": 24
    }
   ],
   "source": [
    "# List of locations for unique Ips\n",
    "\n",
    "locations = []\n",
    "\n",
    "for item in ips:\n",
    "    \n",
    "    locations.append(extract_location(item))  \n",
    "\n",
    "locations"
   ]
  },
  {
   "cell_type": "code",
   "execution_count": 25,
   "metadata": {},
   "outputs": [],
   "source": [
    "# Compare ips & add location\n",
    "\n",
    "for index, row in Logs_copy.iterrows():\n",
    "    \n",
    "    # iterate the two lists\n",
    "    for a, b in zip(ips, locations):\n",
    "        \n",
    "        # Compare & add\n",
    "        if row.IP == a:\n",
    "            row.Location = b"
   ]
  },
  {
   "cell_type": "code",
   "execution_count": 26,
   "metadata": {},
   "outputs": [
    {
     "output_type": "execute_result",
     "data": {
      "text/plain": [
       "                 DNS              IP Location       Date  \\\n",
       "0  www.akumenius.com  187.133.87.116          2014-03-02   \n",
       "1  www.akumenius.com  187.133.87.116          2014-03-02   \n",
       "2  www.akumenius.com  187.133.87.116          2014-03-02   \n",
       "3  www.akumenius.com  187.133.87.116          2014-03-02   \n",
       "4  www.akumenius.com  187.133.87.116          2014-03-02   \n",
       "\n",
       "                       Time  \\\n",
       "0 1900-01-01 00:40:59+01:00   \n",
       "1 1900-01-01 00:41:01+01:00   \n",
       "2 1900-01-01 00:40:58+01:00   \n",
       "3 1900-01-01 00:41:00+01:00   \n",
       "4 1900-01-01 00:41:02+01:00   \n",
       "\n",
       "                                             Request Status   Size  \\\n",
       "0  GET /libraries/jqueryui/js/jquery.ui.datepicke...    200  36542   \n",
       "1  GET /modules/raton/views/themes/bcoos/js/ga.js...    200    419   \n",
       "2  GET /libraries/jquery/jquery-1.4.2.min.js HTTP...    200  72174   \n",
       "3  GET /modules/raton/views/themes/bcoos/js/block...    200  28568   \n",
       "4    GET /includes/images/uploaded/logo.png HTTP/1.1    200  11389   \n",
       "\n",
       "                                             Referer  \\\n",
       "0  http://www.akumenius.com/hoteles-baratos/hotel...   \n",
       "1  http://www.akumenius.com/hoteles-baratos/hotel...   \n",
       "2  http://www.akumenius.com/hoteles-baratos/hotel...   \n",
       "3  http://www.akumenius.com/hoteles-baratos/hotel...   \n",
       "4  http://www.akumenius.com/hoteles-baratos/hotel...   \n",
       "\n",
       "                                           UserAgent  \n",
       "0  Mozilla/5.0 (Linux; U; Android 4.0.4; es-mx; S...  \n",
       "1  Mozilla/5.0 (Linux; U; Android 4.0.4; es-mx; S...  \n",
       "2  Mozilla/5.0 (Linux; U; Android 4.0.4; es-mx; S...  \n",
       "3  Mozilla/5.0 (Linux; U; Android 4.0.4; es-mx; S...  \n",
       "4  Mozilla/5.0 (Linux; U; Android 4.0.4; es-mx; S...  "
      ],
      "text/html": "<div>\n<style scoped>\n    .dataframe tbody tr th:only-of-type {\n        vertical-align: middle;\n    }\n\n    .dataframe tbody tr th {\n        vertical-align: top;\n    }\n\n    .dataframe thead th {\n        text-align: right;\n    }\n</style>\n<table border=\"1\" class=\"dataframe\">\n  <thead>\n    <tr style=\"text-align: right;\">\n      <th></th>\n      <th>DNS</th>\n      <th>IP</th>\n      <th>Location</th>\n      <th>Date</th>\n      <th>Time</th>\n      <th>Request</th>\n      <th>Status</th>\n      <th>Size</th>\n      <th>Referer</th>\n      <th>UserAgent</th>\n    </tr>\n  </thead>\n  <tbody>\n    <tr>\n      <th>0</th>\n      <td>www.akumenius.com</td>\n      <td>187.133.87.116</td>\n      <td></td>\n      <td>2014-03-02</td>\n      <td>1900-01-01 00:40:59+01:00</td>\n      <td>GET /libraries/jqueryui/js/jquery.ui.datepicke...</td>\n      <td>200</td>\n      <td>36542</td>\n      <td>http://www.akumenius.com/hoteles-baratos/hotel...</td>\n      <td>Mozilla/5.0 (Linux; U; Android 4.0.4; es-mx; S...</td>\n    </tr>\n    <tr>\n      <th>1</th>\n      <td>www.akumenius.com</td>\n      <td>187.133.87.116</td>\n      <td></td>\n      <td>2014-03-02</td>\n      <td>1900-01-01 00:41:01+01:00</td>\n      <td>GET /modules/raton/views/themes/bcoos/js/ga.js...</td>\n      <td>200</td>\n      <td>419</td>\n      <td>http://www.akumenius.com/hoteles-baratos/hotel...</td>\n      <td>Mozilla/5.0 (Linux; U; Android 4.0.4; es-mx; S...</td>\n    </tr>\n    <tr>\n      <th>2</th>\n      <td>www.akumenius.com</td>\n      <td>187.133.87.116</td>\n      <td></td>\n      <td>2014-03-02</td>\n      <td>1900-01-01 00:40:58+01:00</td>\n      <td>GET /libraries/jquery/jquery-1.4.2.min.js HTTP...</td>\n      <td>200</td>\n      <td>72174</td>\n      <td>http://www.akumenius.com/hoteles-baratos/hotel...</td>\n      <td>Mozilla/5.0 (Linux; U; Android 4.0.4; es-mx; S...</td>\n    </tr>\n    <tr>\n      <th>3</th>\n      <td>www.akumenius.com</td>\n      <td>187.133.87.116</td>\n      <td></td>\n      <td>2014-03-02</td>\n      <td>1900-01-01 00:41:00+01:00</td>\n      <td>GET /modules/raton/views/themes/bcoos/js/block...</td>\n      <td>200</td>\n      <td>28568</td>\n      <td>http://www.akumenius.com/hoteles-baratos/hotel...</td>\n      <td>Mozilla/5.0 (Linux; U; Android 4.0.4; es-mx; S...</td>\n    </tr>\n    <tr>\n      <th>4</th>\n      <td>www.akumenius.com</td>\n      <td>187.133.87.116</td>\n      <td></td>\n      <td>2014-03-02</td>\n      <td>1900-01-01 00:41:02+01:00</td>\n      <td>GET /includes/images/uploaded/logo.png HTTP/1.1</td>\n      <td>200</td>\n      <td>11389</td>\n      <td>http://www.akumenius.com/hoteles-baratos/hotel...</td>\n      <td>Mozilla/5.0 (Linux; U; Android 4.0.4; es-mx; S...</td>\n    </tr>\n  </tbody>\n</table>\n</div>"
     },
     "metadata": {},
     "execution_count": 26
    }
   ],
   "source": [
    "Logs_copy.head()"
   ]
  },
  {
   "cell_type": "code",
   "execution_count": 27,
   "metadata": {},
   "outputs": [
    {
     "output_type": "execute_result",
     "data": {
      "text/plain": [
       "                    DNS              IP Location       Date  \\\n",
       "0     www.akumenius.com  187.133.87.116          2014-03-02   \n",
       "1     www.akumenius.com  187.133.87.116          2014-03-02   \n",
       "2     www.akumenius.com  187.133.87.116          2014-03-02   \n",
       "3     www.akumenius.com  187.133.87.116          2014-03-02   \n",
       "4     www.akumenius.com  187.133.87.116          2014-03-02   \n",
       "...                 ...             ...      ...        ...   \n",
       "1097  www.akumenius.com    5.255.253.53          2014-03-02   \n",
       "1098  www.akumenius.com   74.86.158.107          2014-03-02   \n",
       "1099          localhost       127.0.0.1          2014-03-02   \n",
       "1100          localhost       127.0.0.1          2014-03-02   \n",
       "1101          localhost       127.0.0.1          2014-03-02   \n",
       "\n",
       "                          Time  \\\n",
       "0    1900-01-01 00:40:59+01:00   \n",
       "1    1900-01-01 00:41:01+01:00   \n",
       "2    1900-01-01 00:40:58+01:00   \n",
       "3    1900-01-01 00:41:00+01:00   \n",
       "4    1900-01-01 00:41:02+01:00   \n",
       "...                        ...   \n",
       "1097 1900-01-01 03:05:39+01:00   \n",
       "1098 1900-01-01 03:09:52+01:00   \n",
       "1099 1900-01-01 03:10:18+01:00   \n",
       "1100 1900-01-01 03:10:18+01:00   \n",
       "1101 1900-01-01 03:10:18+01:00   \n",
       "\n",
       "                                                Request Status   Size  \\\n",
       "0     GET /libraries/jqueryui/js/jquery.ui.datepicke...    200  36542   \n",
       "1     GET /modules/raton/views/themes/bcoos/js/ga.js...    200    419   \n",
       "2     GET /libraries/jquery/jquery-1.4.2.min.js HTTP...    200  72174   \n",
       "3     GET /modules/raton/views/themes/bcoos/js/block...    200  28568   \n",
       "4       GET /includes/images/uploaded/logo.png HTTP/1.1    200  11389   \n",
       "...                                                 ...    ...    ...   \n",
       "1097                                     GET / HTTP/1.1    200   7528   \n",
       "1098                                    HEAD / HTTP/1.1    200    200   \n",
       "1099                                 OPTIONS * HTTP/1.0    200    200   \n",
       "1100                                 OPTIONS * HTTP/1.0    200    200   \n",
       "1101                                 OPTIONS * HTTP/1.0    200    200   \n",
       "\n",
       "                                                Referer  \\\n",
       "0     http://www.akumenius.com/hoteles-baratos/hotel...   \n",
       "1     http://www.akumenius.com/hoteles-baratos/hotel...   \n",
       "2     http://www.akumenius.com/hoteles-baratos/hotel...   \n",
       "3     http://www.akumenius.com/hoteles-baratos/hotel...   \n",
       "4     http://www.akumenius.com/hoteles-baratos/hotel...   \n",
       "...                                                 ...   \n",
       "1097                                                 -\"   \n",
       "1098                                                \"-\"   \n",
       "1099                                                \"-\"   \n",
       "1100                                                \"-\"   \n",
       "1101                                                \"-\"   \n",
       "\n",
       "                                              UserAgent  \\\n",
       "0     Mozilla/5.0 (Linux; U; Android 4.0.4; es-mx; S...   \n",
       "1     Mozilla/5.0 (Linux; U; Android 4.0.4; es-mx; S...   \n",
       "2     Mozilla/5.0 (Linux; U; Android 4.0.4; es-mx; S...   \n",
       "3     Mozilla/5.0 (Linux; U; Android 4.0.4; es-mx; S...   \n",
       "4     Mozilla/5.0 (Linux; U; Android 4.0.4; es-mx; S...   \n",
       "...                                                 ...   \n",
       "1097  Mozilla/5.0 (compatible; YandexBot/3.0; +http:...   \n",
       "1098  Mozilla/5.0+(compatible; UptimeRobot/2.0; http...   \n",
       "1099         Apache (internal dummy connection)\" VLOG=-   \n",
       "1100         Apache (internal dummy connection)\" VLOG=-   \n",
       "1101         Apache (internal dummy connection)\" VLOG=-   \n",
       "\n",
       "                                     Client Name Client Type Client Version  \\\n",
       "0                                Android Browser     browser                  \n",
       "1                                Android Browser     browser                  \n",
       "2                                Android Browser     browser                  \n",
       "3                                Android Browser     browser                  \n",
       "4                                Android Browser     browser                  \n",
       "...                                          ...         ...            ...   \n",
       "1097                                   YandexBot     generic            3.0   \n",
       "1098                                 UptimeRobot     generic            2.0   \n",
       "1099  Apache (internal dummy connection)\" VLOG=-     generic           None   \n",
       "1100  Apache (internal dummy connection)\" VLOG=-     generic           None   \n",
       "1101  Apache (internal dummy connection)\" VLOG=-     generic           None   \n",
       "\n",
       "      Os Name Os Version Device Type  \n",
       "0     Android      4.0.4              \n",
       "1     Android      4.0.4              \n",
       "2     Android      4.0.4              \n",
       "3     Android      4.0.4              \n",
       "4     Android      4.0.4              \n",
       "...       ...        ...         ...  \n",
       "1097                                  \n",
       "1098                                  \n",
       "1099                                  \n",
       "1100                                  \n",
       "1101                                  \n",
       "\n",
       "[1102 rows x 16 columns]"
      ],
      "text/html": "<div>\n<style scoped>\n    .dataframe tbody tr th:only-of-type {\n        vertical-align: middle;\n    }\n\n    .dataframe tbody tr th {\n        vertical-align: top;\n    }\n\n    .dataframe thead th {\n        text-align: right;\n    }\n</style>\n<table border=\"1\" class=\"dataframe\">\n  <thead>\n    <tr style=\"text-align: right;\">\n      <th></th>\n      <th>DNS</th>\n      <th>IP</th>\n      <th>Location</th>\n      <th>Date</th>\n      <th>Time</th>\n      <th>Request</th>\n      <th>Status</th>\n      <th>Size</th>\n      <th>Referer</th>\n      <th>UserAgent</th>\n      <th>Client Name</th>\n      <th>Client Type</th>\n      <th>Client Version</th>\n      <th>Os Name</th>\n      <th>Os Version</th>\n      <th>Device Type</th>\n    </tr>\n  </thead>\n  <tbody>\n    <tr>\n      <th>0</th>\n      <td>www.akumenius.com</td>\n      <td>187.133.87.116</td>\n      <td></td>\n      <td>2014-03-02</td>\n      <td>1900-01-01 00:40:59+01:00</td>\n      <td>GET /libraries/jqueryui/js/jquery.ui.datepicke...</td>\n      <td>200</td>\n      <td>36542</td>\n      <td>http://www.akumenius.com/hoteles-baratos/hotel...</td>\n      <td>Mozilla/5.0 (Linux; U; Android 4.0.4; es-mx; S...</td>\n      <td>Android Browser</td>\n      <td>browser</td>\n      <td></td>\n      <td>Android</td>\n      <td>4.0.4</td>\n      <td></td>\n    </tr>\n    <tr>\n      <th>1</th>\n      <td>www.akumenius.com</td>\n      <td>187.133.87.116</td>\n      <td></td>\n      <td>2014-03-02</td>\n      <td>1900-01-01 00:41:01+01:00</td>\n      <td>GET /modules/raton/views/themes/bcoos/js/ga.js...</td>\n      <td>200</td>\n      <td>419</td>\n      <td>http://www.akumenius.com/hoteles-baratos/hotel...</td>\n      <td>Mozilla/5.0 (Linux; U; Android 4.0.4; es-mx; S...</td>\n      <td>Android Browser</td>\n      <td>browser</td>\n      <td></td>\n      <td>Android</td>\n      <td>4.0.4</td>\n      <td></td>\n    </tr>\n    <tr>\n      <th>2</th>\n      <td>www.akumenius.com</td>\n      <td>187.133.87.116</td>\n      <td></td>\n      <td>2014-03-02</td>\n      <td>1900-01-01 00:40:58+01:00</td>\n      <td>GET /libraries/jquery/jquery-1.4.2.min.js HTTP...</td>\n      <td>200</td>\n      <td>72174</td>\n      <td>http://www.akumenius.com/hoteles-baratos/hotel...</td>\n      <td>Mozilla/5.0 (Linux; U; Android 4.0.4; es-mx; S...</td>\n      <td>Android Browser</td>\n      <td>browser</td>\n      <td></td>\n      <td>Android</td>\n      <td>4.0.4</td>\n      <td></td>\n    </tr>\n    <tr>\n      <th>3</th>\n      <td>www.akumenius.com</td>\n      <td>187.133.87.116</td>\n      <td></td>\n      <td>2014-03-02</td>\n      <td>1900-01-01 00:41:00+01:00</td>\n      <td>GET /modules/raton/views/themes/bcoos/js/block...</td>\n      <td>200</td>\n      <td>28568</td>\n      <td>http://www.akumenius.com/hoteles-baratos/hotel...</td>\n      <td>Mozilla/5.0 (Linux; U; Android 4.0.4; es-mx; S...</td>\n      <td>Android Browser</td>\n      <td>browser</td>\n      <td></td>\n      <td>Android</td>\n      <td>4.0.4</td>\n      <td></td>\n    </tr>\n    <tr>\n      <th>4</th>\n      <td>www.akumenius.com</td>\n      <td>187.133.87.116</td>\n      <td></td>\n      <td>2014-03-02</td>\n      <td>1900-01-01 00:41:02+01:00</td>\n      <td>GET /includes/images/uploaded/logo.png HTTP/1.1</td>\n      <td>200</td>\n      <td>11389</td>\n      <td>http://www.akumenius.com/hoteles-baratos/hotel...</td>\n      <td>Mozilla/5.0 (Linux; U; Android 4.0.4; es-mx; S...</td>\n      <td>Android Browser</td>\n      <td>browser</td>\n      <td></td>\n      <td>Android</td>\n      <td>4.0.4</td>\n      <td></td>\n    </tr>\n    <tr>\n      <th>...</th>\n      <td>...</td>\n      <td>...</td>\n      <td>...</td>\n      <td>...</td>\n      <td>...</td>\n      <td>...</td>\n      <td>...</td>\n      <td>...</td>\n      <td>...</td>\n      <td>...</td>\n      <td>...</td>\n      <td>...</td>\n      <td>...</td>\n      <td>...</td>\n      <td>...</td>\n      <td>...</td>\n    </tr>\n    <tr>\n      <th>1097</th>\n      <td>www.akumenius.com</td>\n      <td>5.255.253.53</td>\n      <td></td>\n      <td>2014-03-02</td>\n      <td>1900-01-01 03:05:39+01:00</td>\n      <td>GET / HTTP/1.1</td>\n      <td>200</td>\n      <td>7528</td>\n      <td>-\"</td>\n      <td>Mozilla/5.0 (compatible; YandexBot/3.0; +http:...</td>\n      <td>YandexBot</td>\n      <td>generic</td>\n      <td>3.0</td>\n      <td></td>\n      <td></td>\n      <td></td>\n    </tr>\n    <tr>\n      <th>1098</th>\n      <td>www.akumenius.com</td>\n      <td>74.86.158.107</td>\n      <td></td>\n      <td>2014-03-02</td>\n      <td>1900-01-01 03:09:52+01:00</td>\n      <td>HEAD / HTTP/1.1</td>\n      <td>200</td>\n      <td>200</td>\n      <td>\"-\"</td>\n      <td>Mozilla/5.0+(compatible; UptimeRobot/2.0; http...</td>\n      <td>UptimeRobot</td>\n      <td>generic</td>\n      <td>2.0</td>\n      <td></td>\n      <td></td>\n      <td></td>\n    </tr>\n    <tr>\n      <th>1099</th>\n      <td>localhost</td>\n      <td>127.0.0.1</td>\n      <td></td>\n      <td>2014-03-02</td>\n      <td>1900-01-01 03:10:18+01:00</td>\n      <td>OPTIONS * HTTP/1.0</td>\n      <td>200</td>\n      <td>200</td>\n      <td>\"-\"</td>\n      <td>Apache (internal dummy connection)\" VLOG=-</td>\n      <td>Apache (internal dummy connection)\" VLOG=-</td>\n      <td>generic</td>\n      <td>None</td>\n      <td></td>\n      <td></td>\n      <td></td>\n    </tr>\n    <tr>\n      <th>1100</th>\n      <td>localhost</td>\n      <td>127.0.0.1</td>\n      <td></td>\n      <td>2014-03-02</td>\n      <td>1900-01-01 03:10:18+01:00</td>\n      <td>OPTIONS * HTTP/1.0</td>\n      <td>200</td>\n      <td>200</td>\n      <td>\"-\"</td>\n      <td>Apache (internal dummy connection)\" VLOG=-</td>\n      <td>Apache (internal dummy connection)\" VLOG=-</td>\n      <td>generic</td>\n      <td>None</td>\n      <td></td>\n      <td></td>\n      <td></td>\n    </tr>\n    <tr>\n      <th>1101</th>\n      <td>localhost</td>\n      <td>127.0.0.1</td>\n      <td></td>\n      <td>2014-03-02</td>\n      <td>1900-01-01 03:10:18+01:00</td>\n      <td>OPTIONS * HTTP/1.0</td>\n      <td>200</td>\n      <td>200</td>\n      <td>\"-\"</td>\n      <td>Apache (internal dummy connection)\" VLOG=-</td>\n      <td>Apache (internal dummy connection)\" VLOG=-</td>\n      <td>generic</td>\n      <td>None</td>\n      <td></td>\n      <td></td>\n      <td></td>\n    </tr>\n  </tbody>\n</table>\n<p>1102 rows × 16 columns</p>\n</div>"
     },
     "metadata": {},
     "execution_count": 27
    }
   ],
   "source": [
    "# Extract UserAgent Data\n",
    "\n",
    "from device_detector import SoftwareDetector\n",
    "\n",
    "Devices = Logs_copy['UserAgent']\n",
    "device = []\n",
    "\n",
    "for x in Devices:\n",
    "    \n",
    "    device.append(SoftwareDetector(x).parse())\n",
    "\n",
    "client_name = []\n",
    "client_type = []\n",
    "client_version = []\n",
    "os_name = []\n",
    "os_version = []\n",
    "device_type = []\n",
    "\n",
    "for x in device:\n",
    "    \n",
    "    client_name.append(x.client_name())\n",
    "    client_type.append(x.client_type())\n",
    "    client_version.append(x.client_version())\n",
    "    os_name.append(x.os_name())\n",
    "    os_version.append(x.os_version())\n",
    "    device_type.append(x.device_type())\n",
    "\n",
    "Logs_copy['Client Name'] = client_name\n",
    "Logs_copy['Client Type'] = client_type\n",
    "Logs_copy['Client Version'] = client_version\n",
    "Logs_copy['Os Name'] = os_name\n",
    "Logs_copy['Os Version'] = os_version\n",
    "Logs_copy['Device Type'] = device_type\n",
    "\n",
    "Logs_copy"
   ]
  },
  {
   "cell_type": "code",
   "execution_count": 28,
   "metadata": {},
   "outputs": [
    {
     "output_type": "execute_result",
     "data": {
      "text/plain": [
       "'Mozilla/5.0 (Linux; U; Android 4.0.4; es-mx; SonyEricssonST15i Build/4.1.B.0.587) AppleWebKit/534.30 (KHTML, like Gecko) Version/4.0 Mobile Safari/534.30\" VLOG=-'"
      ]
     },
     "metadata": {},
     "execution_count": 28
    }
   ],
   "source": [
    "Logs_copy.UserAgent[0]"
   ]
  },
  {
   "cell_type": "code",
   "execution_count": 29,
   "metadata": {},
   "outputs": [
    {
     "output_type": "execute_result",
     "data": {
      "text/plain": [
       "                 DNS              IP Location       Date  \\\n",
       "0  www.akumenius.com  187.133.87.116          2014-03-02   \n",
       "1  www.akumenius.com  187.133.87.116          2014-03-02   \n",
       "2  www.akumenius.com  187.133.87.116          2014-03-02   \n",
       "3  www.akumenius.com  187.133.87.116          2014-03-02   \n",
       "4  www.akumenius.com  187.133.87.116          2014-03-02   \n",
       "\n",
       "                       Time  \\\n",
       "0 1900-01-01 00:40:59+01:00   \n",
       "1 1900-01-01 00:41:01+01:00   \n",
       "2 1900-01-01 00:40:58+01:00   \n",
       "3 1900-01-01 00:41:00+01:00   \n",
       "4 1900-01-01 00:41:02+01:00   \n",
       "\n",
       "                                             Request Status   Size  \\\n",
       "0  GET /libraries/jqueryui/js/jquery.ui.datepicke...    200  36542   \n",
       "1  GET /modules/raton/views/themes/bcoos/js/ga.js...    200    419   \n",
       "2  GET /libraries/jquery/jquery-1.4.2.min.js HTTP...    200  72174   \n",
       "3  GET /modules/raton/views/themes/bcoos/js/block...    200  28568   \n",
       "4    GET /includes/images/uploaded/logo.png HTTP/1.1    200  11389   \n",
       "\n",
       "                                             Referer      Client Name  \\\n",
       "0  http://www.akumenius.com/hoteles-baratos/hotel...  Android Browser   \n",
       "1  http://www.akumenius.com/hoteles-baratos/hotel...  Android Browser   \n",
       "2  http://www.akumenius.com/hoteles-baratos/hotel...  Android Browser   \n",
       "3  http://www.akumenius.com/hoteles-baratos/hotel...  Android Browser   \n",
       "4  http://www.akumenius.com/hoteles-baratos/hotel...  Android Browser   \n",
       "\n",
       "  Client Type Client Version  Os Name Os Version Device Type  \n",
       "0     browser                 Android      4.0.4              \n",
       "1     browser                 Android      4.0.4              \n",
       "2     browser                 Android      4.0.4              \n",
       "3     browser                 Android      4.0.4              \n",
       "4     browser                 Android      4.0.4              "
      ],
      "text/html": "<div>\n<style scoped>\n    .dataframe tbody tr th:only-of-type {\n        vertical-align: middle;\n    }\n\n    .dataframe tbody tr th {\n        vertical-align: top;\n    }\n\n    .dataframe thead th {\n        text-align: right;\n    }\n</style>\n<table border=\"1\" class=\"dataframe\">\n  <thead>\n    <tr style=\"text-align: right;\">\n      <th></th>\n      <th>DNS</th>\n      <th>IP</th>\n      <th>Location</th>\n      <th>Date</th>\n      <th>Time</th>\n      <th>Request</th>\n      <th>Status</th>\n      <th>Size</th>\n      <th>Referer</th>\n      <th>Client Name</th>\n      <th>Client Type</th>\n      <th>Client Version</th>\n      <th>Os Name</th>\n      <th>Os Version</th>\n      <th>Device Type</th>\n    </tr>\n  </thead>\n  <tbody>\n    <tr>\n      <th>0</th>\n      <td>www.akumenius.com</td>\n      <td>187.133.87.116</td>\n      <td></td>\n      <td>2014-03-02</td>\n      <td>1900-01-01 00:40:59+01:00</td>\n      <td>GET /libraries/jqueryui/js/jquery.ui.datepicke...</td>\n      <td>200</td>\n      <td>36542</td>\n      <td>http://www.akumenius.com/hoteles-baratos/hotel...</td>\n      <td>Android Browser</td>\n      <td>browser</td>\n      <td></td>\n      <td>Android</td>\n      <td>4.0.4</td>\n      <td></td>\n    </tr>\n    <tr>\n      <th>1</th>\n      <td>www.akumenius.com</td>\n      <td>187.133.87.116</td>\n      <td></td>\n      <td>2014-03-02</td>\n      <td>1900-01-01 00:41:01+01:00</td>\n      <td>GET /modules/raton/views/themes/bcoos/js/ga.js...</td>\n      <td>200</td>\n      <td>419</td>\n      <td>http://www.akumenius.com/hoteles-baratos/hotel...</td>\n      <td>Android Browser</td>\n      <td>browser</td>\n      <td></td>\n      <td>Android</td>\n      <td>4.0.4</td>\n      <td></td>\n    </tr>\n    <tr>\n      <th>2</th>\n      <td>www.akumenius.com</td>\n      <td>187.133.87.116</td>\n      <td></td>\n      <td>2014-03-02</td>\n      <td>1900-01-01 00:40:58+01:00</td>\n      <td>GET /libraries/jquery/jquery-1.4.2.min.js HTTP...</td>\n      <td>200</td>\n      <td>72174</td>\n      <td>http://www.akumenius.com/hoteles-baratos/hotel...</td>\n      <td>Android Browser</td>\n      <td>browser</td>\n      <td></td>\n      <td>Android</td>\n      <td>4.0.4</td>\n      <td></td>\n    </tr>\n    <tr>\n      <th>3</th>\n      <td>www.akumenius.com</td>\n      <td>187.133.87.116</td>\n      <td></td>\n      <td>2014-03-02</td>\n      <td>1900-01-01 00:41:00+01:00</td>\n      <td>GET /modules/raton/views/themes/bcoos/js/block...</td>\n      <td>200</td>\n      <td>28568</td>\n      <td>http://www.akumenius.com/hoteles-baratos/hotel...</td>\n      <td>Android Browser</td>\n      <td>browser</td>\n      <td></td>\n      <td>Android</td>\n      <td>4.0.4</td>\n      <td></td>\n    </tr>\n    <tr>\n      <th>4</th>\n      <td>www.akumenius.com</td>\n      <td>187.133.87.116</td>\n      <td></td>\n      <td>2014-03-02</td>\n      <td>1900-01-01 00:41:02+01:00</td>\n      <td>GET /includes/images/uploaded/logo.png HTTP/1.1</td>\n      <td>200</td>\n      <td>11389</td>\n      <td>http://www.akumenius.com/hoteles-baratos/hotel...</td>\n      <td>Android Browser</td>\n      <td>browser</td>\n      <td></td>\n      <td>Android</td>\n      <td>4.0.4</td>\n      <td></td>\n    </tr>\n  </tbody>\n</table>\n</div>"
     },
     "metadata": {},
     "execution_count": 29
    }
   ],
   "source": [
    "del(Logs_copy['UserAgent'])\n",
    "\n",
    "Logs_copy.head()"
   ]
  },
  {
   "cell_type": "markdown",
   "metadata": {},
   "source": [
    "###  Exercici 4\n",
    "- Mostreu-me la teva creativitat, Sorprèn-me fes un pas més enllà amb el analysis anterior."
   ]
  },
  {
   "cell_type": "code",
   "execution_count": 30,
   "metadata": {},
   "outputs": [],
   "source": [
    "import matplotlib.pyplot as plt\n",
    "import seaborn as sns\n",
    "%matplotlib inline"
   ]
  },
  {
   "cell_type": "code",
   "execution_count": 31,
   "metadata": {},
   "outputs": [
    {
     "output_type": "execute_result",
     "data": {
      "text/plain": [
       "<AxesSubplot:>"
      ]
     },
     "metadata": {},
     "execution_count": 31
    },
    {
     "output_type": "display_data",
     "data": {
      "text/plain": "<Figure size 720x432 with 1 Axes>",
      "image/svg+xml": "<?xml version=\"1.0\" encoding=\"utf-8\" standalone=\"no\"?>\n<!DOCTYPE svg PUBLIC \"-//W3C//DTD SVG 1.1//EN\"\n  \"http://www.w3.org/Graphics/SVG/1.1/DTD/svg11.dtd\">\n<!-- Created with matplotlib (https://matplotlib.org/) -->\n<svg height=\"357.238125pt\" version=\"1.1\" viewBox=\"0 0 575.9 357.238125\" width=\"575.9pt\" xmlns=\"http://www.w3.org/2000/svg\" xmlns:xlink=\"http://www.w3.org/1999/xlink\">\n <metadata>\n  <rdf:RDF xmlns:cc=\"http://creativecommons.org/ns#\" xmlns:dc=\"http://purl.org/dc/elements/1.1/\" xmlns:rdf=\"http://www.w3.org/1999/02/22-rdf-syntax-ns#\">\n   <cc:Work>\n    <dc:type rdf:resource=\"http://purl.org/dc/dcmitype/StillImage\"/>\n    <dc:date>2021-03-04T18:38:09.527023</dc:date>\n    <dc:format>image/svg+xml</dc:format>\n    <dc:creator>\n     <cc:Agent>\n      <dc:title>Matplotlib v3.3.2, https://matplotlib.org/</dc:title>\n     </cc:Agent>\n    </dc:creator>\n   </cc:Work>\n  </rdf:RDF>\n </metadata>\n <defs>\n  <style type=\"text/css\">*{stroke-linecap:butt;stroke-linejoin:round;}</style>\n </defs>\n <g id=\"figure_1\">\n  <g id=\"patch_1\">\n   <path d=\"M 0 357.238125 \nL 575.9 357.238125 \nL 575.9 0 \nL 0 0 \nz\n\" style=\"fill:none;\"/>\n  </g>\n  <g id=\"axes_1\">\n   <g id=\"patch_2\">\n    <path d=\"M 10.7 333.36 \nL 568.7 333.36 \nL 568.7 7.2 \nL 10.7 7.2 \nz\n\" style=\"fill:#ffffff;\"/>\n   </g>\n   <g id=\"patch_3\">\n    <path clip-path=\"url(#pf2176bfa63)\" d=\"M 10.7 251.82 \nL 542.128571 251.82 \nL 542.128571 88.74 \nL 10.7 88.74 \nz\n\" style=\"fill:#1f77b4;\"/>\n   </g>\n   <g id=\"matplotlib.axis_1\">\n    <g id=\"xtick_1\">\n     <g id=\"line2d_1\">\n      <defs>\n       <path d=\"M 0 0 \nL 0 3.5 \n\" id=\"me0e6892ce5\" style=\"stroke:#000000;stroke-width:0.8;\"/>\n      </defs>\n      <g>\n       <use style=\"stroke:#000000;stroke-width:0.8;\" x=\"10.7\" xlink:href=\"#me0e6892ce5\" y=\"333.36\"/>\n      </g>\n     </g>\n     <g id=\"text_1\">\n      <!-- 0 -->\n      <g transform=\"translate(7.51875 347.958438)scale(0.1 -0.1)\">\n       <defs>\n        <path d=\"M 31.78125 66.40625 \nQ 24.171875 66.40625 20.328125 58.90625 \nQ 16.5 51.421875 16.5 36.375 \nQ 16.5 21.390625 20.328125 13.890625 \nQ 24.171875 6.390625 31.78125 6.390625 \nQ 39.453125 6.390625 43.28125 13.890625 \nQ 47.125 21.390625 47.125 36.375 \nQ 47.125 51.421875 43.28125 58.90625 \nQ 39.453125 66.40625 31.78125 66.40625 \nz\nM 31.78125 74.21875 \nQ 44.046875 74.21875 50.515625 64.515625 \nQ 56.984375 54.828125 56.984375 36.375 \nQ 56.984375 17.96875 50.515625 8.265625 \nQ 44.046875 -1.421875 31.78125 -1.421875 \nQ 19.53125 -1.421875 13.0625 8.265625 \nQ 6.59375 17.96875 6.59375 36.375 \nQ 6.59375 54.828125 13.0625 64.515625 \nQ 19.53125 74.21875 31.78125 74.21875 \nz\n\" id=\"DejaVuSans-48\"/>\n       </defs>\n       <use xlink:href=\"#DejaVuSans-48\"/>\n      </g>\n     </g>\n    </g>\n    <g id=\"xtick_2\">\n     <g id=\"line2d_2\">\n      <g>\n       <use style=\"stroke:#000000;stroke-width:0.8;\" x=\"107.148017\" xlink:href=\"#me0e6892ce5\" y=\"333.36\"/>\n      </g>\n     </g>\n     <g id=\"text_2\">\n      <!-- 200 -->\n      <g transform=\"translate(97.604267 347.958438)scale(0.1 -0.1)\">\n       <defs>\n        <path d=\"M 19.1875 8.296875 \nL 53.609375 8.296875 \nL 53.609375 0 \nL 7.328125 0 \nL 7.328125 8.296875 \nQ 12.9375 14.109375 22.625 23.890625 \nQ 32.328125 33.6875 34.8125 36.53125 \nQ 39.546875 41.84375 41.421875 45.53125 \nQ 43.3125 49.21875 43.3125 52.78125 \nQ 43.3125 58.59375 39.234375 62.25 \nQ 35.15625 65.921875 28.609375 65.921875 \nQ 23.96875 65.921875 18.8125 64.3125 \nQ 13.671875 62.703125 7.8125 59.421875 \nL 7.8125 69.390625 \nQ 13.765625 71.78125 18.9375 73 \nQ 24.125 74.21875 28.421875 74.21875 \nQ 39.75 74.21875 46.484375 68.546875 \nQ 53.21875 62.890625 53.21875 53.421875 \nQ 53.21875 48.921875 51.53125 44.890625 \nQ 49.859375 40.875 45.40625 35.40625 \nQ 44.1875 33.984375 37.640625 27.21875 \nQ 31.109375 20.453125 19.1875 8.296875 \nz\n\" id=\"DejaVuSans-50\"/>\n       </defs>\n       <use xlink:href=\"#DejaVuSans-50\"/>\n       <use x=\"63.623047\" xlink:href=\"#DejaVuSans-48\"/>\n       <use x=\"127.246094\" xlink:href=\"#DejaVuSans-48\"/>\n      </g>\n     </g>\n    </g>\n    <g id=\"xtick_3\">\n     <g id=\"line2d_3\">\n      <g>\n       <use style=\"stroke:#000000;stroke-width:0.8;\" x=\"203.596033\" xlink:href=\"#me0e6892ce5\" y=\"333.36\"/>\n      </g>\n     </g>\n     <g id=\"text_3\">\n      <!-- 400 -->\n      <g transform=\"translate(194.052283 347.958438)scale(0.1 -0.1)\">\n       <defs>\n        <path d=\"M 37.796875 64.3125 \nL 12.890625 25.390625 \nL 37.796875 25.390625 \nz\nM 35.203125 72.90625 \nL 47.609375 72.90625 \nL 47.609375 25.390625 \nL 58.015625 25.390625 \nL 58.015625 17.1875 \nL 47.609375 17.1875 \nL 47.609375 0 \nL 37.796875 0 \nL 37.796875 17.1875 \nL 4.890625 17.1875 \nL 4.890625 26.703125 \nz\n\" id=\"DejaVuSans-52\"/>\n       </defs>\n       <use xlink:href=\"#DejaVuSans-52\"/>\n       <use x=\"63.623047\" xlink:href=\"#DejaVuSans-48\"/>\n       <use x=\"127.246094\" xlink:href=\"#DejaVuSans-48\"/>\n      </g>\n     </g>\n    </g>\n    <g id=\"xtick_4\">\n     <g id=\"line2d_4\">\n      <g>\n       <use style=\"stroke:#000000;stroke-width:0.8;\" x=\"300.04405\" xlink:href=\"#me0e6892ce5\" y=\"333.36\"/>\n      </g>\n     </g>\n     <g id=\"text_4\">\n      <!-- 600 -->\n      <g transform=\"translate(290.5003 347.958438)scale(0.1 -0.1)\">\n       <defs>\n        <path d=\"M 33.015625 40.375 \nQ 26.375 40.375 22.484375 35.828125 \nQ 18.609375 31.296875 18.609375 23.390625 \nQ 18.609375 15.53125 22.484375 10.953125 \nQ 26.375 6.390625 33.015625 6.390625 \nQ 39.65625 6.390625 43.53125 10.953125 \nQ 47.40625 15.53125 47.40625 23.390625 \nQ 47.40625 31.296875 43.53125 35.828125 \nQ 39.65625 40.375 33.015625 40.375 \nz\nM 52.59375 71.296875 \nL 52.59375 62.3125 \nQ 48.875 64.0625 45.09375 64.984375 \nQ 41.3125 65.921875 37.59375 65.921875 \nQ 27.828125 65.921875 22.671875 59.328125 \nQ 17.53125 52.734375 16.796875 39.40625 \nQ 19.671875 43.65625 24.015625 45.921875 \nQ 28.375 48.1875 33.59375 48.1875 \nQ 44.578125 48.1875 50.953125 41.515625 \nQ 57.328125 34.859375 57.328125 23.390625 \nQ 57.328125 12.15625 50.6875 5.359375 \nQ 44.046875 -1.421875 33.015625 -1.421875 \nQ 20.359375 -1.421875 13.671875 8.265625 \nQ 6.984375 17.96875 6.984375 36.375 \nQ 6.984375 53.65625 15.1875 63.9375 \nQ 23.390625 74.21875 37.203125 74.21875 \nQ 40.921875 74.21875 44.703125 73.484375 \nQ 48.484375 72.75 52.59375 71.296875 \nz\n\" id=\"DejaVuSans-54\"/>\n       </defs>\n       <use xlink:href=\"#DejaVuSans-54\"/>\n       <use x=\"63.623047\" xlink:href=\"#DejaVuSans-48\"/>\n       <use x=\"127.246094\" xlink:href=\"#DejaVuSans-48\"/>\n      </g>\n     </g>\n    </g>\n    <g id=\"xtick_5\">\n     <g id=\"line2d_5\">\n      <g>\n       <use style=\"stroke:#000000;stroke-width:0.8;\" x=\"396.492066\" xlink:href=\"#me0e6892ce5\" y=\"333.36\"/>\n      </g>\n     </g>\n     <g id=\"text_5\">\n      <!-- 800 -->\n      <g transform=\"translate(386.948316 347.958438)scale(0.1 -0.1)\">\n       <defs>\n        <path d=\"M 31.78125 34.625 \nQ 24.75 34.625 20.71875 30.859375 \nQ 16.703125 27.09375 16.703125 20.515625 \nQ 16.703125 13.921875 20.71875 10.15625 \nQ 24.75 6.390625 31.78125 6.390625 \nQ 38.8125 6.390625 42.859375 10.171875 \nQ 46.921875 13.96875 46.921875 20.515625 \nQ 46.921875 27.09375 42.890625 30.859375 \nQ 38.875 34.625 31.78125 34.625 \nz\nM 21.921875 38.8125 \nQ 15.578125 40.375 12.03125 44.71875 \nQ 8.5 49.078125 8.5 55.328125 \nQ 8.5 64.0625 14.71875 69.140625 \nQ 20.953125 74.21875 31.78125 74.21875 \nQ 42.671875 74.21875 48.875 69.140625 \nQ 55.078125 64.0625 55.078125 55.328125 \nQ 55.078125 49.078125 51.53125 44.71875 \nQ 48 40.375 41.703125 38.8125 \nQ 48.828125 37.15625 52.796875 32.3125 \nQ 56.78125 27.484375 56.78125 20.515625 \nQ 56.78125 9.90625 50.3125 4.234375 \nQ 43.84375 -1.421875 31.78125 -1.421875 \nQ 19.734375 -1.421875 13.25 4.234375 \nQ 6.78125 9.90625 6.78125 20.515625 \nQ 6.78125 27.484375 10.78125 32.3125 \nQ 14.796875 37.15625 21.921875 38.8125 \nz\nM 18.3125 54.390625 \nQ 18.3125 48.734375 21.84375 45.5625 \nQ 25.390625 42.390625 31.78125 42.390625 \nQ 38.140625 42.390625 41.71875 45.5625 \nQ 45.3125 48.734375 45.3125 54.390625 \nQ 45.3125 60.0625 41.71875 63.234375 \nQ 38.140625 66.40625 31.78125 66.40625 \nQ 25.390625 66.40625 21.84375 63.234375 \nQ 18.3125 60.0625 18.3125 54.390625 \nz\n\" id=\"DejaVuSans-56\"/>\n       </defs>\n       <use xlink:href=\"#DejaVuSans-56\"/>\n       <use x=\"63.623047\" xlink:href=\"#DejaVuSans-48\"/>\n       <use x=\"127.246094\" xlink:href=\"#DejaVuSans-48\"/>\n      </g>\n     </g>\n    </g>\n    <g id=\"xtick_6\">\n     <g id=\"line2d_6\">\n      <g>\n       <use style=\"stroke:#000000;stroke-width:0.8;\" x=\"492.940083\" xlink:href=\"#me0e6892ce5\" y=\"333.36\"/>\n      </g>\n     </g>\n     <g id=\"text_6\">\n      <!-- 1000 -->\n      <g transform=\"translate(480.215083 347.958438)scale(0.1 -0.1)\">\n       <defs>\n        <path d=\"M 12.40625 8.296875 \nL 28.515625 8.296875 \nL 28.515625 63.921875 \nL 10.984375 60.40625 \nL 10.984375 69.390625 \nL 28.421875 72.90625 \nL 38.28125 72.90625 \nL 38.28125 8.296875 \nL 54.390625 8.296875 \nL 54.390625 0 \nL 12.40625 0 \nz\n\" id=\"DejaVuSans-49\"/>\n       </defs>\n       <use xlink:href=\"#DejaVuSans-49\"/>\n       <use x=\"63.623047\" xlink:href=\"#DejaVuSans-48\"/>\n       <use x=\"127.246094\" xlink:href=\"#DejaVuSans-48\"/>\n       <use x=\"190.869141\" xlink:href=\"#DejaVuSans-48\"/>\n      </g>\n     </g>\n    </g>\n   </g>\n   <g id=\"matplotlib.axis_2\">\n    <g id=\"ytick_1\">\n     <g id=\"line2d_7\">\n      <defs>\n       <path d=\"M 0 0 \nL -3.5 0 \n\" id=\"me482af8c68\" style=\"stroke:#000000;stroke-width:0.8;\"/>\n      </defs>\n      <g>\n       <use style=\"stroke:#000000;stroke-width:0.8;\" x=\"10.7\" xlink:href=\"#me482af8c68\" y=\"170.28\"/>\n      </g>\n     </g>\n    </g>\n   </g>\n   <g id=\"patch_4\">\n    <path d=\"M 10.7 333.36 \nL 10.7 7.2 \n\" style=\"fill:none;stroke:#000000;stroke-linecap:square;stroke-linejoin:miter;stroke-width:0.8;\"/>\n   </g>\n   <g id=\"patch_5\">\n    <path d=\"M 568.7 333.36 \nL 568.7 7.2 \n\" style=\"fill:none;stroke:#000000;stroke-linecap:square;stroke-linejoin:miter;stroke-width:0.8;\"/>\n   </g>\n   <g id=\"patch_6\">\n    <path d=\"M 10.7 333.36 \nL 568.7 333.36 \n\" style=\"fill:none;stroke:#000000;stroke-linecap:square;stroke-linejoin:miter;stroke-width:0.8;\"/>\n   </g>\n   <g id=\"patch_7\">\n    <path d=\"M 10.7 7.2 \nL 568.7 7.2 \n\" style=\"fill:none;stroke:#000000;stroke-linecap:square;stroke-linejoin:miter;stroke-width:0.8;\"/>\n   </g>\n  </g>\n </g>\n <defs>\n  <clipPath id=\"pf2176bfa63\">\n   <rect height=\"326.16\" width=\"558\" x=\"10.7\" y=\"7.2\"/>\n  </clipPath>\n </defs>\n</svg>\n",
      "image/png": "[encoded data removed]"
     },
     "metadata": {
      "needs_background": "light"
     }
    }
   ],
   "source": [
    "\n",
    "Logs_copy.Location.value_counts(ascending = True).plot(kind = 'barh', figsize = (10,6))"
   ]
  },
  {
   "cell_type": "code",
   "execution_count": 32,
   "metadata": {},
   "outputs": [
    {
     "output_type": "display_data",
     "data": {
      "text/plain": "<Figure size 720x432 with 1 Axes>",
      "image/svg+xml": "<?xml version=\"1.0\" encoding=\"utf-8\" standalone=\"no\"?>\n<!DOCTYPE svg PUBLIC \"-//W3C//DTD SVG 1.1//EN\"\n  \"http://www.w3.org/Graphics/SVG/1.1/DTD/svg11.dtd\">\n<!-- Created with matplotlib (https://matplotlib.org/) -->\n<svg height=\"467.074062pt\" version=\"1.1\" viewBox=\"0 0 618.528125 467.074062\" width=\"618.528125pt\" xmlns=\"http://www.w3.org/2000/svg\" xmlns:xlink=\"http://www.w3.org/1999/xlink\">\n <metadata>\n  <rdf:RDF xmlns:cc=\"http://creativecommons.org/ns#\" xmlns:dc=\"http://purl.org/dc/elements/1.1/\" xmlns:rdf=\"http://www.w3.org/1999/02/22-rdf-syntax-ns#\">\n   <cc:Work>\n    <dc:type rdf:resource=\"http://purl.org/dc/dcmitype/StillImage\"/>\n    <dc:date>2021-03-04T18:38:09.756706</dc:date>\n    <dc:format>image/svg+xml</dc:format>\n    <dc:creator>\n     <cc:Agent>\n      <dc:title>Matplotlib v3.3.2, https://matplotlib.org/</dc:title>\n     </cc:Agent>\n    </dc:creator>\n   </cc:Work>\n  </rdf:RDF>\n </metadata>\n <defs>\n  <style type=\"text/css\">*{stroke-linecap:butt;stroke-linejoin:round;}</style>\n </defs>\n <g id=\"figure_1\">\n  <g id=\"patch_1\">\n   <path d=\"M 0 467.074062 \nL 618.528125 467.074062 \nL 618.528125 0 \nL 0 0 \nz\n\" style=\"fill:none;\"/>\n  </g>\n  <g id=\"axes_1\">\n   <g id=\"patch_2\">\n    <path d=\"M 53.328125 333.36 \nL 611.328125 333.36 \nL 611.328125 7.2 \nL 53.328125 7.2 \nz\n\" style=\"fill:#ffffff;\"/>\n   </g>\n   <g id=\"patch_3\">\n    <path clip-path=\"url(#p0400a6dd1c)\" d=\"M 81.228125 333.36 \nL 137.028125 333.36 \nL 137.028125 22.731429 \nL 81.228125 22.731429 \nz\n\" style=\"fill:#008000;\"/>\n   </g>\n   <g id=\"patch_4\">\n    <path clip-path=\"url(#p0400a6dd1c)\" d=\"M 192.828125 333.36 \nL 248.628125 333.36 \nL 248.628125 312.367472 \nL 192.828125 312.367472 \nz\n\" style=\"fill:#008000;\"/>\n   </g>\n   <g id=\"patch_5\">\n    <path clip-path=\"url(#p0400a6dd1c)\" d=\"M 304.428125 333.36 \nL 360.228125 333.36 \nL 360.228125 330.621844 \nL 304.428125 330.621844 \nz\n\" style=\"fill:#008000;\"/>\n   </g>\n   <g id=\"patch_6\">\n    <path clip-path=\"url(#p0400a6dd1c)\" d=\"M 416.028125 333.36 \nL 471.828125 333.36 \nL 471.828125 332.751521 \nL 416.028125 332.751521 \nz\n\" style=\"fill:#008000;\"/>\n   </g>\n   <g id=\"patch_7\">\n    <path clip-path=\"url(#p0400a6dd1c)\" d=\"M 527.628125 333.36 \nL 583.428125 333.36 \nL 583.428125 333.05576 \nL 527.628125 333.05576 \nz\n\" style=\"fill:#008000;\"/>\n   </g>\n   <g id=\"matplotlib.axis_1\">\n    <g id=\"xtick_1\">\n     <g id=\"line2d_1\">\n      <defs>\n       <path d=\"M 0 0 \nL 0 3.5 \n\" id=\"mc04456e01c\" style=\"stroke:#000000;stroke-width:0.8;\"/>\n      </defs>\n      <g>\n       <use style=\"stroke:#000000;stroke-width:0.8;\" x=\"109.128125\" xlink:href=\"#mc04456e01c\" y=\"333.36\"/>\n      </g>\n     </g>\n     <g id=\"text_1\">\n      <!-- www.akumenius.com -->\n      <g transform=\"translate(111.8875 446.195937)rotate(-90)scale(0.1 -0.1)\">\n       <defs>\n        <path d=\"M 4.203125 54.6875 \nL 13.1875 54.6875 \nL 24.421875 12.015625 \nL 35.59375 54.6875 \nL 46.1875 54.6875 \nL 57.421875 12.015625 \nL 68.609375 54.6875 \nL 77.59375 54.6875 \nL 63.28125 0 \nL 52.6875 0 \nL 40.921875 44.828125 \nL 29.109375 0 \nL 18.5 0 \nz\n\" id=\"DejaVuSans-119\"/>\n        <path d=\"M 10.6875 12.40625 \nL 21 12.40625 \nL 21 0 \nL 10.6875 0 \nz\n\" id=\"DejaVuSans-46\"/>\n        <path d=\"M 34.28125 27.484375 \nQ 23.390625 27.484375 19.1875 25 \nQ 14.984375 22.515625 14.984375 16.5 \nQ 14.984375 11.71875 18.140625 8.90625 \nQ 21.296875 6.109375 26.703125 6.109375 \nQ 34.1875 6.109375 38.703125 11.40625 \nQ 43.21875 16.703125 43.21875 25.484375 \nL 43.21875 27.484375 \nz\nM 52.203125 31.203125 \nL 52.203125 0 \nL 43.21875 0 \nL 43.21875 8.296875 \nQ 40.140625 3.328125 35.546875 0.953125 \nQ 30.953125 -1.421875 24.3125 -1.421875 \nQ 15.921875 -1.421875 10.953125 3.296875 \nQ 6 8.015625 6 15.921875 \nQ 6 25.140625 12.171875 29.828125 \nQ 18.359375 34.515625 30.609375 34.515625 \nL 43.21875 34.515625 \nL 43.21875 35.40625 \nQ 43.21875 41.609375 39.140625 45 \nQ 35.0625 48.390625 27.6875 48.390625 \nQ 23 48.390625 18.546875 47.265625 \nQ 14.109375 46.140625 10.015625 43.890625 \nL 10.015625 52.203125 \nQ 14.9375 54.109375 19.578125 55.046875 \nQ 24.21875 56 28.609375 56 \nQ 40.484375 56 46.34375 49.84375 \nQ 52.203125 43.703125 52.203125 31.203125 \nz\n\" id=\"DejaVuSans-97\"/>\n        <path d=\"M 9.078125 75.984375 \nL 18.109375 75.984375 \nL 18.109375 31.109375 \nL 44.921875 54.6875 \nL 56.390625 54.6875 \nL 27.390625 29.109375 \nL 57.625 0 \nL 45.90625 0 \nL 18.109375 26.703125 \nL 18.109375 0 \nL 9.078125 0 \nz\n\" id=\"DejaVuSans-107\"/>\n        <path d=\"M 8.5 21.578125 \nL 8.5 54.6875 \nL 17.484375 54.6875 \nL 17.484375 21.921875 \nQ 17.484375 14.15625 20.5 10.265625 \nQ 23.53125 6.390625 29.59375 6.390625 \nQ 36.859375 6.390625 41.078125 11.03125 \nQ 45.3125 15.671875 45.3125 23.6875 \nL 45.3125 54.6875 \nL 54.296875 54.6875 \nL 54.296875 0 \nL 45.3125 0 \nL 45.3125 8.40625 \nQ 42.046875 3.421875 37.71875 1 \nQ 33.40625 -1.421875 27.6875 -1.421875 \nQ 18.265625 -1.421875 13.375 4.4375 \nQ 8.5 10.296875 8.5 21.578125 \nz\nM 31.109375 56 \nz\n\" id=\"DejaVuSans-117\"/>\n        <path d=\"M 52 44.1875 \nQ 55.375 50.25 60.0625 53.125 \nQ 64.75 56 71.09375 56 \nQ 79.640625 56 84.28125 50.015625 \nQ 88.921875 44.046875 88.921875 33.015625 \nL 88.921875 0 \nL 79.890625 0 \nL 79.890625 32.71875 \nQ 79.890625 40.578125 77.09375 44.375 \nQ 74.3125 48.1875 68.609375 48.1875 \nQ 61.625 48.1875 57.5625 43.546875 \nQ 53.515625 38.921875 53.515625 30.90625 \nL 53.515625 0 \nL 44.484375 0 \nL 44.484375 32.71875 \nQ 44.484375 40.625 41.703125 44.40625 \nQ 38.921875 48.1875 33.109375 48.1875 \nQ 26.21875 48.1875 22.15625 43.53125 \nQ 18.109375 38.875 18.109375 30.90625 \nL 18.109375 0 \nL 9.078125 0 \nL 9.078125 54.6875 \nL 18.109375 54.6875 \nL 18.109375 46.1875 \nQ 21.1875 51.21875 25.484375 53.609375 \nQ 29.78125 56 35.6875 56 \nQ 41.65625 56 45.828125 52.96875 \nQ 50 49.953125 52 44.1875 \nz\n\" id=\"DejaVuSans-109\"/>\n        <path d=\"M 56.203125 29.59375 \nL 56.203125 25.203125 \nL 14.890625 25.203125 \nQ 15.484375 15.921875 20.484375 11.0625 \nQ 25.484375 6.203125 34.421875 6.203125 \nQ 39.59375 6.203125 44.453125 7.46875 \nQ 49.3125 8.734375 54.109375 11.28125 \nL 54.109375 2.78125 \nQ 49.265625 0.734375 44.1875 -0.34375 \nQ 39.109375 -1.421875 33.890625 -1.421875 \nQ 20.796875 -1.421875 13.15625 6.1875 \nQ 5.515625 13.8125 5.515625 26.8125 \nQ 5.515625 40.234375 12.765625 48.109375 \nQ 20.015625 56 32.328125 56 \nQ 43.359375 56 49.78125 48.890625 \nQ 56.203125 41.796875 56.203125 29.59375 \nz\nM 47.21875 32.234375 \nQ 47.125 39.59375 43.09375 43.984375 \nQ 39.0625 48.390625 32.421875 48.390625 \nQ 24.90625 48.390625 20.390625 44.140625 \nQ 15.875 39.890625 15.1875 32.171875 \nz\n\" id=\"DejaVuSans-101\"/>\n        <path d=\"M 54.890625 33.015625 \nL 54.890625 0 \nL 45.90625 0 \nL 45.90625 32.71875 \nQ 45.90625 40.484375 42.875 44.328125 \nQ 39.84375 48.1875 33.796875 48.1875 \nQ 26.515625 48.1875 22.3125 43.546875 \nQ 18.109375 38.921875 18.109375 30.90625 \nL 18.109375 0 \nL 9.078125 0 \nL 9.078125 54.6875 \nL 18.109375 54.6875 \nL 18.109375 46.1875 \nQ 21.34375 51.125 25.703125 53.5625 \nQ 30.078125 56 35.796875 56 \nQ 45.21875 56 50.046875 50.171875 \nQ 54.890625 44.34375 54.890625 33.015625 \nz\n\" id=\"DejaVuSans-110\"/>\n        <path d=\"M 9.421875 54.6875 \nL 18.40625 54.6875 \nL 18.40625 0 \nL 9.421875 0 \nz\nM 9.421875 75.984375 \nL 18.40625 75.984375 \nL 18.40625 64.59375 \nL 9.421875 64.59375 \nz\n\" id=\"DejaVuSans-105\"/>\n        <path d=\"M 44.28125 53.078125 \nL 44.28125 44.578125 \nQ 40.484375 46.53125 36.375 47.5 \nQ 32.28125 48.484375 27.875 48.484375 \nQ 21.1875 48.484375 17.84375 46.4375 \nQ 14.5 44.390625 14.5 40.28125 \nQ 14.5 37.15625 16.890625 35.375 \nQ 19.28125 33.59375 26.515625 31.984375 \nL 29.59375 31.296875 \nQ 39.15625 29.25 43.1875 25.515625 \nQ 47.21875 21.78125 47.21875 15.09375 \nQ 47.21875 7.46875 41.1875 3.015625 \nQ 35.15625 -1.421875 24.609375 -1.421875 \nQ 20.21875 -1.421875 15.453125 -0.5625 \nQ 10.6875 0.296875 5.421875 2 \nL 5.421875 11.28125 \nQ 10.40625 8.6875 15.234375 7.390625 \nQ 20.0625 6.109375 24.8125 6.109375 \nQ 31.15625 6.109375 34.5625 8.28125 \nQ 37.984375 10.453125 37.984375 14.40625 \nQ 37.984375 18.0625 35.515625 20.015625 \nQ 33.0625 21.96875 24.703125 23.78125 \nL 21.578125 24.515625 \nQ 13.234375 26.265625 9.515625 29.90625 \nQ 5.8125 33.546875 5.8125 39.890625 \nQ 5.8125 47.609375 11.28125 51.796875 \nQ 16.75 56 26.8125 56 \nQ 31.78125 56 36.171875 55.265625 \nQ 40.578125 54.546875 44.28125 53.078125 \nz\n\" id=\"DejaVuSans-115\"/>\n        <path d=\"M 48.78125 52.59375 \nL 48.78125 44.1875 \nQ 44.96875 46.296875 41.140625 47.34375 \nQ 37.3125 48.390625 33.40625 48.390625 \nQ 24.65625 48.390625 19.8125 42.84375 \nQ 14.984375 37.3125 14.984375 27.296875 \nQ 14.984375 17.28125 19.8125 11.734375 \nQ 24.65625 6.203125 33.40625 6.203125 \nQ 37.3125 6.203125 41.140625 7.25 \nQ 44.96875 8.296875 48.78125 10.40625 \nL 48.78125 2.09375 \nQ 45.015625 0.34375 40.984375 -0.53125 \nQ 36.96875 -1.421875 32.421875 -1.421875 \nQ 20.0625 -1.421875 12.78125 6.34375 \nQ 5.515625 14.109375 5.515625 27.296875 \nQ 5.515625 40.671875 12.859375 48.328125 \nQ 20.21875 56 33.015625 56 \nQ 37.15625 56 41.109375 55.140625 \nQ 45.0625 54.296875 48.78125 52.59375 \nz\n\" id=\"DejaVuSans-99\"/>\n        <path d=\"M 30.609375 48.390625 \nQ 23.390625 48.390625 19.1875 42.75 \nQ 14.984375 37.109375 14.984375 27.296875 \nQ 14.984375 17.484375 19.15625 11.84375 \nQ 23.34375 6.203125 30.609375 6.203125 \nQ 37.796875 6.203125 41.984375 11.859375 \nQ 46.1875 17.53125 46.1875 27.296875 \nQ 46.1875 37.015625 41.984375 42.703125 \nQ 37.796875 48.390625 30.609375 48.390625 \nz\nM 30.609375 56 \nQ 42.328125 56 49.015625 48.375 \nQ 55.71875 40.765625 55.71875 27.296875 \nQ 55.71875 13.875 49.015625 6.21875 \nQ 42.328125 -1.421875 30.609375 -1.421875 \nQ 18.84375 -1.421875 12.171875 6.21875 \nQ 5.515625 13.875 5.515625 27.296875 \nQ 5.515625 40.765625 12.171875 48.375 \nQ 18.84375 56 30.609375 56 \nz\n\" id=\"DejaVuSans-111\"/>\n       </defs>\n       <use xlink:href=\"#DejaVuSans-119\"/>\n       <use x=\"81.787109\" xlink:href=\"#DejaVuSans-119\"/>\n       <use x=\"163.574219\" xlink:href=\"#DejaVuSans-119\"/>\n       <use x=\"236.236328\" xlink:href=\"#DejaVuSans-46\"/>\n       <use x=\"268.023438\" xlink:href=\"#DejaVuSans-97\"/>\n       <use x=\"329.302734\" xlink:href=\"#DejaVuSans-107\"/>\n       <use x=\"384.087891\" xlink:href=\"#DejaVuSans-117\"/>\n       <use x=\"447.466797\" xlink:href=\"#DejaVuSans-109\"/>\n       <use x=\"544.878906\" xlink:href=\"#DejaVuSans-101\"/>\n       <use x=\"606.402344\" xlink:href=\"#DejaVuSans-110\"/>\n       <use x=\"669.78125\" xlink:href=\"#DejaVuSans-105\"/>\n       <use x=\"697.564453\" xlink:href=\"#DejaVuSans-117\"/>\n       <use x=\"760.943359\" xlink:href=\"#DejaVuSans-115\"/>\n       <use x=\"813.042969\" xlink:href=\"#DejaVuSans-46\"/>\n       <use x=\"844.830078\" xlink:href=\"#DejaVuSans-99\"/>\n       <use x=\"899.810547\" xlink:href=\"#DejaVuSans-111\"/>\n       <use x=\"960.992188\" xlink:href=\"#DejaVuSans-109\"/>\n      </g>\n     </g>\n    </g>\n    <g id=\"xtick_2\">\n     <g id=\"line2d_2\">\n      <g>\n       <use style=\"stroke:#000000;stroke-width:0.8;\" x=\"220.728125\" xlink:href=\"#mc04456e01c\" y=\"333.36\"/>\n      </g>\n     </g>\n     <g id=\"text_2\">\n      <!-- localhost -->\n      <g transform=\"translate(223.4875 385.2475)rotate(-90)scale(0.1 -0.1)\">\n       <defs>\n        <path d=\"M 9.421875 75.984375 \nL 18.40625 75.984375 \nL 18.40625 0 \nL 9.421875 0 \nz\n\" id=\"DejaVuSans-108\"/>\n        <path d=\"M 54.890625 33.015625 \nL 54.890625 0 \nL 45.90625 0 \nL 45.90625 32.71875 \nQ 45.90625 40.484375 42.875 44.328125 \nQ 39.84375 48.1875 33.796875 48.1875 \nQ 26.515625 48.1875 22.3125 43.546875 \nQ 18.109375 38.921875 18.109375 30.90625 \nL 18.109375 0 \nL 9.078125 0 \nL 9.078125 75.984375 \nL 18.109375 75.984375 \nL 18.109375 46.1875 \nQ 21.34375 51.125 25.703125 53.5625 \nQ 30.078125 56 35.796875 56 \nQ 45.21875 56 50.046875 50.171875 \nQ 54.890625 44.34375 54.890625 33.015625 \nz\n\" id=\"DejaVuSans-104\"/>\n        <path d=\"M 18.3125 70.21875 \nL 18.3125 54.6875 \nL 36.8125 54.6875 \nL 36.8125 47.703125 \nL 18.3125 47.703125 \nL 18.3125 18.015625 \nQ 18.3125 11.328125 20.140625 9.421875 \nQ 21.96875 7.515625 27.59375 7.515625 \nL 36.8125 7.515625 \nL 36.8125 0 \nL 27.59375 0 \nQ 17.1875 0 13.234375 3.875 \nQ 9.28125 7.765625 9.28125 18.015625 \nL 9.28125 47.703125 \nL 2.6875 47.703125 \nL 2.6875 54.6875 \nL 9.28125 54.6875 \nL 9.28125 70.21875 \nz\n\" id=\"DejaVuSans-116\"/>\n       </defs>\n       <use xlink:href=\"#DejaVuSans-108\"/>\n       <use x=\"27.783203\" xlink:href=\"#DejaVuSans-111\"/>\n       <use x=\"88.964844\" xlink:href=\"#DejaVuSans-99\"/>\n       <use x=\"143.945312\" xlink:href=\"#DejaVuSans-97\"/>\n       <use x=\"205.224609\" xlink:href=\"#DejaVuSans-108\"/>\n       <use x=\"233.007812\" xlink:href=\"#DejaVuSans-104\"/>\n       <use x=\"296.386719\" xlink:href=\"#DejaVuSans-111\"/>\n       <use x=\"357.568359\" xlink:href=\"#DejaVuSans-115\"/>\n       <use x=\"409.667969\" xlink:href=\"#DejaVuSans-116\"/>\n      </g>\n     </g>\n    </g>\n    <g id=\"xtick_3\">\n     <g id=\"line2d_3\">\n      <g>\n       <use style=\"stroke:#000000;stroke-width:0.8;\" x=\"332.328125\" xlink:href=\"#mc04456e01c\" y=\"333.36\"/>\n      </g>\n     </g>\n     <g id=\"text_3\">\n      <!-- akumenius.com -->\n      <g transform=\"translate(335.0875 419.395937)rotate(-90)scale(0.1 -0.1)\">\n       <use xlink:href=\"#DejaVuSans-97\"/>\n       <use x=\"61.279297\" xlink:href=\"#DejaVuSans-107\"/>\n       <use x=\"116.064453\" xlink:href=\"#DejaVuSans-117\"/>\n       <use x=\"179.443359\" xlink:href=\"#DejaVuSans-109\"/>\n       <use x=\"276.855469\" xlink:href=\"#DejaVuSans-101\"/>\n       <use x=\"338.378906\" xlink:href=\"#DejaVuSans-110\"/>\n       <use x=\"401.757812\" xlink:href=\"#DejaVuSans-105\"/>\n       <use x=\"429.541016\" xlink:href=\"#DejaVuSans-117\"/>\n       <use x=\"492.919922\" xlink:href=\"#DejaVuSans-115\"/>\n       <use x=\"545.019531\" xlink:href=\"#DejaVuSans-46\"/>\n       <use x=\"576.806641\" xlink:href=\"#DejaVuSans-99\"/>\n       <use x=\"631.787109\" xlink:href=\"#DejaVuSans-111\"/>\n       <use x=\"692.96875\" xlink:href=\"#DejaVuSans-109\"/>\n      </g>\n     </g>\n    </g>\n    <g id=\"xtick_4\">\n     <g id=\"line2d_4\">\n      <g>\n       <use style=\"stroke:#000000;stroke-width:0.8;\" x=\"443.928125\" xlink:href=\"#mc04456e01c\" y=\"333.36\"/>\n      </g>\n     </g>\n     <g id=\"text_4\">\n      <!-- akumenius.es -->\n      <g transform=\"translate(446.6875 409.400625)rotate(-90)scale(0.1 -0.1)\">\n       <use xlink:href=\"#DejaVuSans-97\"/>\n       <use x=\"61.279297\" xlink:href=\"#DejaVuSans-107\"/>\n       <use x=\"116.064453\" xlink:href=\"#DejaVuSans-117\"/>\n       <use x=\"179.443359\" xlink:href=\"#DejaVuSans-109\"/>\n       <use x=\"276.855469\" xlink:href=\"#DejaVuSans-101\"/>\n       <use x=\"338.378906\" xlink:href=\"#DejaVuSans-110\"/>\n       <use x=\"401.757812\" xlink:href=\"#DejaVuSans-105\"/>\n       <use x=\"429.541016\" xlink:href=\"#DejaVuSans-117\"/>\n       <use x=\"492.919922\" xlink:href=\"#DejaVuSans-115\"/>\n       <use x=\"545.019531\" xlink:href=\"#DejaVuSans-46\"/>\n       <use x=\"576.806641\" xlink:href=\"#DejaVuSans-101\"/>\n       <use x=\"638.330078\" xlink:href=\"#DejaVuSans-115\"/>\n      </g>\n     </g>\n    </g>\n    <g id=\"xtick_5\">\n     <g id=\"line2d_5\">\n      <g>\n       <use style=\"stroke:#000000;stroke-width:0.8;\" x=\"555.528125\" xlink:href=\"#mc04456e01c\" y=\"333.36\"/>\n      </g>\n     </g>\n     <g id=\"text_5\">\n      <!-- test.akumenius.com -->\n      <g transform=\"translate(558.2875 441.777187)rotate(-90)scale(0.1 -0.1)\">\n       <use xlink:href=\"#DejaVuSans-116\"/>\n       <use x=\"39.208984\" xlink:href=\"#DejaVuSans-101\"/>\n       <use x=\"100.732422\" xlink:href=\"#DejaVuSans-115\"/>\n       <use x=\"152.832031\" xlink:href=\"#DejaVuSans-116\"/>\n       <use x=\"192.041016\" xlink:href=\"#DejaVuSans-46\"/>\n       <use x=\"223.828125\" xlink:href=\"#DejaVuSans-97\"/>\n       <use x=\"285.107422\" xlink:href=\"#DejaVuSans-107\"/>\n       <use x=\"339.892578\" xlink:href=\"#DejaVuSans-117\"/>\n       <use x=\"403.271484\" xlink:href=\"#DejaVuSans-109\"/>\n       <use x=\"500.683594\" xlink:href=\"#DejaVuSans-101\"/>\n       <use x=\"562.207031\" xlink:href=\"#DejaVuSans-110\"/>\n       <use x=\"625.585938\" xlink:href=\"#DejaVuSans-105\"/>\n       <use x=\"653.369141\" xlink:href=\"#DejaVuSans-117\"/>\n       <use x=\"716.748047\" xlink:href=\"#DejaVuSans-115\"/>\n       <use x=\"768.847656\" xlink:href=\"#DejaVuSans-46\"/>\n       <use x=\"800.634766\" xlink:href=\"#DejaVuSans-99\"/>\n       <use x=\"855.615234\" xlink:href=\"#DejaVuSans-111\"/>\n       <use x=\"916.796875\" xlink:href=\"#DejaVuSans-109\"/>\n      </g>\n     </g>\n    </g>\n    <g id=\"text_6\">\n     <!-- DNS -->\n     <g transform=\"translate(321.563281 457.794375)scale(0.1 -0.1)\">\n      <defs>\n       <path d=\"M 19.671875 64.796875 \nL 19.671875 8.109375 \nL 31.59375 8.109375 \nQ 46.6875 8.109375 53.6875 14.9375 \nQ 60.6875 21.78125 60.6875 36.53125 \nQ 60.6875 51.171875 53.6875 57.984375 \nQ 46.6875 64.796875 31.59375 64.796875 \nz\nM 9.8125 72.90625 \nL 30.078125 72.90625 \nQ 51.265625 72.90625 61.171875 64.09375 \nQ 71.09375 55.28125 71.09375 36.53125 \nQ 71.09375 17.671875 61.125 8.828125 \nQ 51.171875 0 30.078125 0 \nL 9.8125 0 \nz\n\" id=\"DejaVuSans-68\"/>\n       <path d=\"M 9.8125 72.90625 \nL 23.09375 72.90625 \nL 55.421875 11.921875 \nL 55.421875 72.90625 \nL 64.984375 72.90625 \nL 64.984375 0 \nL 51.703125 0 \nL 19.390625 60.984375 \nL 19.390625 0 \nL 9.8125 0 \nz\n\" id=\"DejaVuSans-78\"/>\n       <path d=\"M 53.515625 70.515625 \nL 53.515625 60.890625 \nQ 47.90625 63.578125 42.921875 64.890625 \nQ 37.9375 66.21875 33.296875 66.21875 \nQ 25.25 66.21875 20.875 63.09375 \nQ 16.5 59.96875 16.5 54.203125 \nQ 16.5 49.359375 19.40625 46.890625 \nQ 22.3125 44.4375 30.421875 42.921875 \nL 36.375 41.703125 \nQ 47.40625 39.59375 52.65625 34.296875 \nQ 57.90625 29 57.90625 20.125 \nQ 57.90625 9.515625 50.796875 4.046875 \nQ 43.703125 -1.421875 29.984375 -1.421875 \nQ 24.8125 -1.421875 18.96875 -0.25 \nQ 13.140625 0.921875 6.890625 3.21875 \nL 6.890625 13.375 \nQ 12.890625 10.015625 18.65625 8.296875 \nQ 24.421875 6.59375 29.984375 6.59375 \nQ 38.421875 6.59375 43.015625 9.90625 \nQ 47.609375 13.234375 47.609375 19.390625 \nQ 47.609375 24.75 44.3125 27.78125 \nQ 41.015625 30.8125 33.5 32.328125 \nL 27.484375 33.5 \nQ 16.453125 35.6875 11.515625 40.375 \nQ 6.59375 45.0625 6.59375 53.421875 \nQ 6.59375 63.09375 13.40625 68.65625 \nQ 20.21875 74.21875 32.171875 74.21875 \nQ 37.3125 74.21875 42.625 73.28125 \nQ 47.953125 72.359375 53.515625 70.515625 \nz\n\" id=\"DejaVuSans-83\"/>\n      </defs>\n      <use xlink:href=\"#DejaVuSans-68\"/>\n      <use x=\"77.001953\" xlink:href=\"#DejaVuSans-78\"/>\n      <use x=\"151.806641\" xlink:href=\"#DejaVuSans-83\"/>\n     </g>\n    </g>\n   </g>\n   <g id=\"matplotlib.axis_2\">\n    <g id=\"ytick_1\">\n     <g id=\"line2d_6\">\n      <defs>\n       <path d=\"M 0 0 \nL -3.5 0 \n\" id=\"mc0c4bff168\" style=\"stroke:#000000;stroke-width:0.8;\"/>\n      </defs>\n      <g>\n       <use style=\"stroke:#000000;stroke-width:0.8;\" x=\"53.328125\" xlink:href=\"#mc0c4bff168\" y=\"333.36\"/>\n      </g>\n     </g>\n     <g id=\"text_7\">\n      <!-- 0 -->\n      <g transform=\"translate(39.965625 337.159219)scale(0.1 -0.1)\">\n       <defs>\n        <path d=\"M 31.78125 66.40625 \nQ 24.171875 66.40625 20.328125 58.90625 \nQ 16.5 51.421875 16.5 36.375 \nQ 16.5 21.390625 20.328125 13.890625 \nQ 24.171875 6.390625 31.78125 6.390625 \nQ 39.453125 6.390625 43.28125 13.890625 \nQ 47.125 21.390625 47.125 36.375 \nQ 47.125 51.421875 43.28125 58.90625 \nQ 39.453125 66.40625 31.78125 66.40625 \nz\nM 31.78125 74.21875 \nQ 44.046875 74.21875 50.515625 64.515625 \nQ 56.984375 54.828125 56.984375 36.375 \nQ 56.984375 17.96875 50.515625 8.265625 \nQ 44.046875 -1.421875 31.78125 -1.421875 \nQ 19.53125 -1.421875 13.0625 8.265625 \nQ 6.59375 17.96875 6.59375 36.375 \nQ 6.59375 54.828125 13.0625 64.515625 \nQ 19.53125 74.21875 31.78125 74.21875 \nz\n\" id=\"DejaVuSans-48\"/>\n       </defs>\n       <use xlink:href=\"#DejaVuSans-48\"/>\n      </g>\n     </g>\n    </g>\n    <g id=\"ytick_2\">\n     <g id=\"line2d_7\">\n      <g>\n       <use style=\"stroke:#000000;stroke-width:0.8;\" x=\"53.328125\" xlink:href=\"#mc0c4bff168\" y=\"272.512092\"/>\n      </g>\n     </g>\n     <g id=\"text_8\">\n      <!-- 200 -->\n      <g transform=\"translate(27.240625 276.311311)scale(0.1 -0.1)\">\n       <defs>\n        <path d=\"M 19.1875 8.296875 \nL 53.609375 8.296875 \nL 53.609375 0 \nL 7.328125 0 \nL 7.328125 8.296875 \nQ 12.9375 14.109375 22.625 23.890625 \nQ 32.328125 33.6875 34.8125 36.53125 \nQ 39.546875 41.84375 41.421875 45.53125 \nQ 43.3125 49.21875 43.3125 52.78125 \nQ 43.3125 58.59375 39.234375 62.25 \nQ 35.15625 65.921875 28.609375 65.921875 \nQ 23.96875 65.921875 18.8125 64.3125 \nQ 13.671875 62.703125 7.8125 59.421875 \nL 7.8125 69.390625 \nQ 13.765625 71.78125 18.9375 73 \nQ 24.125 74.21875 28.421875 74.21875 \nQ 39.75 74.21875 46.484375 68.546875 \nQ 53.21875 62.890625 53.21875 53.421875 \nQ 53.21875 48.921875 51.53125 44.890625 \nQ 49.859375 40.875 45.40625 35.40625 \nQ 44.1875 33.984375 37.640625 27.21875 \nQ 31.109375 20.453125 19.1875 8.296875 \nz\n\" id=\"DejaVuSans-50\"/>\n       </defs>\n       <use xlink:href=\"#DejaVuSans-50\"/>\n       <use x=\"63.623047\" xlink:href=\"#DejaVuSans-48\"/>\n       <use x=\"127.246094\" xlink:href=\"#DejaVuSans-48\"/>\n      </g>\n     </g>\n    </g>\n    <g id=\"ytick_3\">\n     <g id=\"line2d_8\">\n      <g>\n       <use style=\"stroke:#000000;stroke-width:0.8;\" x=\"53.328125\" xlink:href=\"#mc0c4bff168\" y=\"211.664184\"/>\n      </g>\n     </g>\n     <g id=\"text_9\">\n      <!-- 400 -->\n      <g transform=\"translate(27.240625 215.463402)scale(0.1 -0.1)\">\n       <defs>\n        <path d=\"M 37.796875 64.3125 \nL 12.890625 25.390625 \nL 37.796875 25.390625 \nz\nM 35.203125 72.90625 \nL 47.609375 72.90625 \nL 47.609375 25.390625 \nL 58.015625 25.390625 \nL 58.015625 17.1875 \nL 47.609375 17.1875 \nL 47.609375 0 \nL 37.796875 0 \nL 37.796875 17.1875 \nL 4.890625 17.1875 \nL 4.890625 26.703125 \nz\n\" id=\"DejaVuSans-52\"/>\n       </defs>\n       <use xlink:href=\"#DejaVuSans-52\"/>\n       <use x=\"63.623047\" xlink:href=\"#DejaVuSans-48\"/>\n       <use x=\"127.246094\" xlink:href=\"#DejaVuSans-48\"/>\n      </g>\n     </g>\n    </g>\n    <g id=\"ytick_4\">\n     <g id=\"line2d_9\">\n      <g>\n       <use style=\"stroke:#000000;stroke-width:0.8;\" x=\"53.328125\" xlink:href=\"#mc0c4bff168\" y=\"150.816275\"/>\n      </g>\n     </g>\n     <g id=\"text_10\">\n      <!-- 600 -->\n      <g transform=\"translate(27.240625 154.615494)scale(0.1 -0.1)\">\n       <defs>\n        <path d=\"M 33.015625 40.375 \nQ 26.375 40.375 22.484375 35.828125 \nQ 18.609375 31.296875 18.609375 23.390625 \nQ 18.609375 15.53125 22.484375 10.953125 \nQ 26.375 6.390625 33.015625 6.390625 \nQ 39.65625 6.390625 43.53125 10.953125 \nQ 47.40625 15.53125 47.40625 23.390625 \nQ 47.40625 31.296875 43.53125 35.828125 \nQ 39.65625 40.375 33.015625 40.375 \nz\nM 52.59375 71.296875 \nL 52.59375 62.3125 \nQ 48.875 64.0625 45.09375 64.984375 \nQ 41.3125 65.921875 37.59375 65.921875 \nQ 27.828125 65.921875 22.671875 59.328125 \nQ 17.53125 52.734375 16.796875 39.40625 \nQ 19.671875 43.65625 24.015625 45.921875 \nQ 28.375 48.1875 33.59375 48.1875 \nQ 44.578125 48.1875 50.953125 41.515625 \nQ 57.328125 34.859375 57.328125 23.390625 \nQ 57.328125 12.15625 50.6875 5.359375 \nQ 44.046875 -1.421875 33.015625 -1.421875 \nQ 20.359375 -1.421875 13.671875 8.265625 \nQ 6.984375 17.96875 6.984375 36.375 \nQ 6.984375 53.65625 15.1875 63.9375 \nQ 23.390625 74.21875 37.203125 74.21875 \nQ 40.921875 74.21875 44.703125 73.484375 \nQ 48.484375 72.75 52.59375 71.296875 \nz\n\" id=\"DejaVuSans-54\"/>\n       </defs>\n       <use xlink:href=\"#DejaVuSans-54\"/>\n       <use x=\"63.623047\" xlink:href=\"#DejaVuSans-48\"/>\n       <use x=\"127.246094\" xlink:href=\"#DejaVuSans-48\"/>\n      </g>\n     </g>\n    </g>\n    <g id=\"ytick_5\">\n     <g id=\"line2d_10\">\n      <g>\n       <use style=\"stroke:#000000;stroke-width:0.8;\" x=\"53.328125\" xlink:href=\"#mc0c4bff168\" y=\"89.968367\"/>\n      </g>\n     </g>\n     <g id=\"text_11\">\n      <!-- 800 -->\n      <g transform=\"translate(27.240625 93.767586)scale(0.1 -0.1)\">\n       <defs>\n        <path d=\"M 31.78125 34.625 \nQ 24.75 34.625 20.71875 30.859375 \nQ 16.703125 27.09375 16.703125 20.515625 \nQ 16.703125 13.921875 20.71875 10.15625 \nQ 24.75 6.390625 31.78125 6.390625 \nQ 38.8125 6.390625 42.859375 10.171875 \nQ 46.921875 13.96875 46.921875 20.515625 \nQ 46.921875 27.09375 42.890625 30.859375 \nQ 38.875 34.625 31.78125 34.625 \nz\nM 21.921875 38.8125 \nQ 15.578125 40.375 12.03125 44.71875 \nQ 8.5 49.078125 8.5 55.328125 \nQ 8.5 64.0625 14.71875 69.140625 \nQ 20.953125 74.21875 31.78125 74.21875 \nQ 42.671875 74.21875 48.875 69.140625 \nQ 55.078125 64.0625 55.078125 55.328125 \nQ 55.078125 49.078125 51.53125 44.71875 \nQ 48 40.375 41.703125 38.8125 \nQ 48.828125 37.15625 52.796875 32.3125 \nQ 56.78125 27.484375 56.78125 20.515625 \nQ 56.78125 9.90625 50.3125 4.234375 \nQ 43.84375 -1.421875 31.78125 -1.421875 \nQ 19.734375 -1.421875 13.25 4.234375 \nQ 6.78125 9.90625 6.78125 20.515625 \nQ 6.78125 27.484375 10.78125 32.3125 \nQ 14.796875 37.15625 21.921875 38.8125 \nz\nM 18.3125 54.390625 \nQ 18.3125 48.734375 21.84375 45.5625 \nQ 25.390625 42.390625 31.78125 42.390625 \nQ 38.140625 42.390625 41.71875 45.5625 \nQ 45.3125 48.734375 45.3125 54.390625 \nQ 45.3125 60.0625 41.71875 63.234375 \nQ 38.140625 66.40625 31.78125 66.40625 \nQ 25.390625 66.40625 21.84375 63.234375 \nQ 18.3125 60.0625 18.3125 54.390625 \nz\n\" id=\"DejaVuSans-56\"/>\n       </defs>\n       <use xlink:href=\"#DejaVuSans-56\"/>\n       <use x=\"63.623047\" xlink:href=\"#DejaVuSans-48\"/>\n       <use x=\"127.246094\" xlink:href=\"#DejaVuSans-48\"/>\n      </g>\n     </g>\n    </g>\n    <g id=\"ytick_6\">\n     <g id=\"line2d_11\">\n      <g>\n       <use style=\"stroke:#000000;stroke-width:0.8;\" x=\"53.328125\" xlink:href=\"#mc0c4bff168\" y=\"29.120459\"/>\n      </g>\n     </g>\n     <g id=\"text_12\">\n      <!-- 1000 -->\n      <g transform=\"translate(20.878125 32.919678)scale(0.1 -0.1)\">\n       <defs>\n        <path d=\"M 12.40625 8.296875 \nL 28.515625 8.296875 \nL 28.515625 63.921875 \nL 10.984375 60.40625 \nL 10.984375 69.390625 \nL 28.421875 72.90625 \nL 38.28125 72.90625 \nL 38.28125 8.296875 \nL 54.390625 8.296875 \nL 54.390625 0 \nL 12.40625 0 \nz\n\" id=\"DejaVuSans-49\"/>\n       </defs>\n       <use xlink:href=\"#DejaVuSans-49\"/>\n       <use x=\"63.623047\" xlink:href=\"#DejaVuSans-48\"/>\n       <use x=\"127.246094\" xlink:href=\"#DejaVuSans-48\"/>\n       <use x=\"190.869141\" xlink:href=\"#DejaVuSans-48\"/>\n      </g>\n     </g>\n    </g>\n    <g id=\"text_13\">\n     <!-- Frequency -->\n     <g transform=\"translate(14.798438 196.109687)rotate(-90)scale(0.1 -0.1)\">\n      <defs>\n       <path d=\"M 9.8125 72.90625 \nL 51.703125 72.90625 \nL 51.703125 64.59375 \nL 19.671875 64.59375 \nL 19.671875 43.109375 \nL 48.578125 43.109375 \nL 48.578125 34.8125 \nL 19.671875 34.8125 \nL 19.671875 0 \nL 9.8125 0 \nz\n\" id=\"DejaVuSans-70\"/>\n       <path d=\"M 41.109375 46.296875 \nQ 39.59375 47.171875 37.8125 47.578125 \nQ 36.03125 48 33.890625 48 \nQ 26.265625 48 22.1875 43.046875 \nQ 18.109375 38.09375 18.109375 28.8125 \nL 18.109375 0 \nL 9.078125 0 \nL 9.078125 54.6875 \nL 18.109375 54.6875 \nL 18.109375 46.1875 \nQ 20.953125 51.171875 25.484375 53.578125 \nQ 30.03125 56 36.53125 56 \nQ 37.453125 56 38.578125 55.875 \nQ 39.703125 55.765625 41.0625 55.515625 \nz\n\" id=\"DejaVuSans-114\"/>\n       <path d=\"M 14.796875 27.296875 \nQ 14.796875 17.390625 18.875 11.75 \nQ 22.953125 6.109375 30.078125 6.109375 \nQ 37.203125 6.109375 41.296875 11.75 \nQ 45.40625 17.390625 45.40625 27.296875 \nQ 45.40625 37.203125 41.296875 42.84375 \nQ 37.203125 48.484375 30.078125 48.484375 \nQ 22.953125 48.484375 18.875 42.84375 \nQ 14.796875 37.203125 14.796875 27.296875 \nz\nM 45.40625 8.203125 \nQ 42.578125 3.328125 38.25 0.953125 \nQ 33.9375 -1.421875 27.875 -1.421875 \nQ 17.96875 -1.421875 11.734375 6.484375 \nQ 5.515625 14.40625 5.515625 27.296875 \nQ 5.515625 40.1875 11.734375 48.09375 \nQ 17.96875 56 27.875 56 \nQ 33.9375 56 38.25 53.625 \nQ 42.578125 51.265625 45.40625 46.390625 \nL 45.40625 54.6875 \nL 54.390625 54.6875 \nL 54.390625 -20.796875 \nL 45.40625 -20.796875 \nz\n\" id=\"DejaVuSans-113\"/>\n       <path d=\"M 32.171875 -5.078125 \nQ 28.375 -14.84375 24.75 -17.8125 \nQ 21.140625 -20.796875 15.09375 -20.796875 \nL 7.90625 -20.796875 \nL 7.90625 -13.28125 \nL 13.1875 -13.28125 \nQ 16.890625 -13.28125 18.9375 -11.515625 \nQ 21 -9.765625 23.484375 -3.21875 \nL 25.09375 0.875 \nL 2.984375 54.6875 \nL 12.5 54.6875 \nL 29.59375 11.921875 \nL 46.6875 54.6875 \nL 56.203125 54.6875 \nz\n\" id=\"DejaVuSans-121\"/>\n      </defs>\n      <use xlink:href=\"#DejaVuSans-70\"/>\n      <use x=\"50.269531\" xlink:href=\"#DejaVuSans-114\"/>\n      <use x=\"89.132812\" xlink:href=\"#DejaVuSans-101\"/>\n      <use x=\"150.65625\" xlink:href=\"#DejaVuSans-113\"/>\n      <use x=\"214.132812\" xlink:href=\"#DejaVuSans-117\"/>\n      <use x=\"277.511719\" xlink:href=\"#DejaVuSans-101\"/>\n      <use x=\"339.035156\" xlink:href=\"#DejaVuSans-110\"/>\n      <use x=\"402.414062\" xlink:href=\"#DejaVuSans-99\"/>\n      <use x=\"457.394531\" xlink:href=\"#DejaVuSans-121\"/>\n     </g>\n    </g>\n   </g>\n   <g id=\"patch_8\">\n    <path d=\"M 53.328125 333.36 \nL 53.328125 7.2 \n\" style=\"fill:none;stroke:#000000;stroke-linecap:square;stroke-linejoin:miter;stroke-width:0.8;\"/>\n   </g>\n   <g id=\"patch_9\">\n    <path d=\"M 611.328125 333.36 \nL 611.328125 7.2 \n\" style=\"fill:none;stroke:#000000;stroke-linecap:square;stroke-linejoin:miter;stroke-width:0.8;\"/>\n   </g>\n   <g id=\"patch_10\">\n    <path d=\"M 53.328125 333.36 \nL 611.328125 333.36 \n\" style=\"fill:none;stroke:#000000;stroke-linecap:square;stroke-linejoin:miter;stroke-width:0.8;\"/>\n   </g>\n   <g id=\"patch_11\">\n    <path d=\"M 53.328125 7.2 \nL 611.328125 7.2 \n\" style=\"fill:none;stroke:#000000;stroke-linecap:square;stroke-linejoin:miter;stroke-width:0.8;\"/>\n   </g>\n  </g>\n </g>\n <defs>\n  <clipPath id=\"p0400a6dd1c\">\n   <rect height=\"326.16\" width=\"558\" x=\"53.328125\" y=\"7.2\"/>\n  </clipPath>\n </defs>\n</svg>\n",
      "image/png": "[encoded data removed]"
     },
     "metadata": {
      "needs_background": "light"
     }
    }
   ],
   "source": [
    "graph = Logs_copy[['DNS', 'Location']].groupby(['DNS']).count().sort_values(by = 'Location',ascending = False)\n",
    "graph = graph.rename(columns = {'Location' : 'Frequency'})\n",
    "graph.plot.bar(y = 'Frequency', color = 'g', ylabel = 'Frequency', legend = None, figsize = (10,6))\n",
    "plt.show()"
   ]
  },
  {
   "cell_type": "code",
   "execution_count": 33,
   "metadata": {},
   "outputs": [
    {
     "output_type": "display_data",
     "data": {
      "text/plain": "<Figure size 720x432 with 1 Axes>",
      "image/svg+xml": "<?xml version=\"1.0\" encoding=\"utf-8\" standalone=\"no\"?>\n<!DOCTYPE svg PUBLIC \"-//W3C//DTD SVG 1.1//EN\"\n  \"http://www.w3.org/Graphics/SVG/1.1/DTD/svg11.dtd\">\n<!-- Created with matplotlib (https://matplotlib.org/) -->\n<svg height=\"380.325625pt\" version=\"1.1\" viewBox=\"0 0 618.528125 380.325625\" width=\"618.528125pt\" xmlns=\"http://www.w3.org/2000/svg\" xmlns:xlink=\"http://www.w3.org/1999/xlink\">\n <metadata>\n  <rdf:RDF xmlns:cc=\"http://creativecommons.org/ns#\" xmlns:dc=\"http://purl.org/dc/elements/1.1/\" xmlns:rdf=\"http://www.w3.org/1999/02/22-rdf-syntax-ns#\">\n   <cc:Work>\n    <dc:type rdf:resource=\"http://purl.org/dc/dcmitype/StillImage\"/>\n    <dc:date>2021-03-04T18:38:10.000527</dc:date>\n    <dc:format>image/svg+xml</dc:format>\n    <dc:creator>\n     <cc:Agent>\n      <dc:title>Matplotlib v3.3.2, https://matplotlib.org/</dc:title>\n     </cc:Agent>\n    </dc:creator>\n   </cc:Work>\n  </rdf:RDF>\n </metadata>\n <defs>\n  <style type=\"text/css\">*{stroke-linecap:butt;stroke-linejoin:round;}</style>\n </defs>\n <g id=\"figure_1\">\n  <g id=\"patch_1\">\n   <path d=\"M 0 380.325625 \nL 618.528125 380.325625 \nL 618.528125 0 \nL 0 0 \nz\n\" style=\"fill:none;\"/>\n  </g>\n  <g id=\"axes_1\">\n   <g id=\"patch_2\">\n    <path d=\"M 53.328125 333.36 \nL 611.328125 333.36 \nL 611.328125 7.2 \nL 53.328125 7.2 \nz\n\" style=\"fill:#ffffff;\"/>\n   </g>\n   <g id=\"patch_3\">\n    <path clip-path=\"url(#p3acc37524a)\" d=\"M 81.228125 333.36 \nL 137.028125 333.36 \nL 137.028125 22.731429 \nL 81.228125 22.731429 \nz\n\" style=\"fill:#ff0000;\"/>\n   </g>\n   <g id=\"patch_4\">\n    <path clip-path=\"url(#p3acc37524a)\" d=\"M 192.828125 333.36 \nL 248.628125 333.36 \nL 248.628125 328.697657 \nL 192.828125 328.697657 \nz\n\" style=\"fill:#ff0000;\"/>\n   </g>\n   <g id=\"patch_5\">\n    <path clip-path=\"url(#p3acc37524a)\" d=\"M 304.428125 333.36 \nL 360.228125 333.36 \nL 360.228125 330.15464 \nL 304.428125 330.15464 \nz\n\" style=\"fill:#ff0000;\"/>\n   </g>\n   <g id=\"patch_6\">\n    <path clip-path=\"url(#p3acc37524a)\" d=\"M 416.028125 333.36 \nL 471.828125 333.36 \nL 471.828125 331.611622 \nL 416.028125 331.611622 \nz\n\" style=\"fill:#ff0000;\"/>\n   </g>\n   <g id=\"patch_7\">\n    <path clip-path=\"url(#p3acc37524a)\" d=\"M 527.628125 333.36 \nL 583.428125 333.36 \nL 583.428125 332.485811 \nL 527.628125 332.485811 \nz\n\" style=\"fill:#ff0000;\"/>\n   </g>\n   <g id=\"matplotlib.axis_1\">\n    <g id=\"xtick_1\">\n     <g id=\"line2d_1\">\n      <defs>\n       <path d=\"M 0 0 \nL 0 3.5 \n\" id=\"m4bb6ac8de9\" style=\"stroke:#000000;stroke-width:0.8;\"/>\n      </defs>\n      <g>\n       <use style=\"stroke:#000000;stroke-width:0.8;\" x=\"109.128125\" xlink:href=\"#m4bb6ac8de9\" y=\"333.36\"/>\n      </g>\n     </g>\n     <g id=\"text_1\">\n      <!-- 200 -->\n      <g transform=\"translate(111.8875 359.4475)rotate(-90)scale(0.1 -0.1)\">\n       <defs>\n        <path d=\"M 19.1875 8.296875 \nL 53.609375 8.296875 \nL 53.609375 0 \nL 7.328125 0 \nL 7.328125 8.296875 \nQ 12.9375 14.109375 22.625 23.890625 \nQ 32.328125 33.6875 34.8125 36.53125 \nQ 39.546875 41.84375 41.421875 45.53125 \nQ 43.3125 49.21875 43.3125 52.78125 \nQ 43.3125 58.59375 39.234375 62.25 \nQ 35.15625 65.921875 28.609375 65.921875 \nQ 23.96875 65.921875 18.8125 64.3125 \nQ 13.671875 62.703125 7.8125 59.421875 \nL 7.8125 69.390625 \nQ 13.765625 71.78125 18.9375 73 \nQ 24.125 74.21875 28.421875 74.21875 \nQ 39.75 74.21875 46.484375 68.546875 \nQ 53.21875 62.890625 53.21875 53.421875 \nQ 53.21875 48.921875 51.53125 44.890625 \nQ 49.859375 40.875 45.40625 35.40625 \nQ 44.1875 33.984375 37.640625 27.21875 \nQ 31.109375 20.453125 19.1875 8.296875 \nz\n\" id=\"DejaVuSans-50\"/>\n        <path d=\"M 31.78125 66.40625 \nQ 24.171875 66.40625 20.328125 58.90625 \nQ 16.5 51.421875 16.5 36.375 \nQ 16.5 21.390625 20.328125 13.890625 \nQ 24.171875 6.390625 31.78125 6.390625 \nQ 39.453125 6.390625 43.28125 13.890625 \nQ 47.125 21.390625 47.125 36.375 \nQ 47.125 51.421875 43.28125 58.90625 \nQ 39.453125 66.40625 31.78125 66.40625 \nz\nM 31.78125 74.21875 \nQ 44.046875 74.21875 50.515625 64.515625 \nQ 56.984375 54.828125 56.984375 36.375 \nQ 56.984375 17.96875 50.515625 8.265625 \nQ 44.046875 -1.421875 31.78125 -1.421875 \nQ 19.53125 -1.421875 13.0625 8.265625 \nQ 6.59375 17.96875 6.59375 36.375 \nQ 6.59375 54.828125 13.0625 64.515625 \nQ 19.53125 74.21875 31.78125 74.21875 \nz\n\" id=\"DejaVuSans-48\"/>\n       </defs>\n       <use xlink:href=\"#DejaVuSans-50\"/>\n       <use x=\"63.623047\" xlink:href=\"#DejaVuSans-48\"/>\n       <use x=\"127.246094\" xlink:href=\"#DejaVuSans-48\"/>\n      </g>\n     </g>\n    </g>\n    <g id=\"xtick_2\">\n     <g id=\"line2d_2\">\n      <g>\n       <use style=\"stroke:#000000;stroke-width:0.8;\" x=\"220.728125\" xlink:href=\"#m4bb6ac8de9\" y=\"333.36\"/>\n      </g>\n     </g>\n     <g id=\"text_2\">\n      <!-- 304 -->\n      <g transform=\"translate(223.4875 359.4475)rotate(-90)scale(0.1 -0.1)\">\n       <defs>\n        <path d=\"M 40.578125 39.3125 \nQ 47.65625 37.796875 51.625 33 \nQ 55.609375 28.21875 55.609375 21.1875 \nQ 55.609375 10.40625 48.1875 4.484375 \nQ 40.765625 -1.421875 27.09375 -1.421875 \nQ 22.515625 -1.421875 17.65625 -0.515625 \nQ 12.796875 0.390625 7.625 2.203125 \nL 7.625 11.71875 \nQ 11.71875 9.328125 16.59375 8.109375 \nQ 21.484375 6.890625 26.8125 6.890625 \nQ 36.078125 6.890625 40.9375 10.546875 \nQ 45.796875 14.203125 45.796875 21.1875 \nQ 45.796875 27.640625 41.28125 31.265625 \nQ 36.765625 34.90625 28.71875 34.90625 \nL 20.21875 34.90625 \nL 20.21875 43.015625 \nL 29.109375 43.015625 \nQ 36.375 43.015625 40.234375 45.921875 \nQ 44.09375 48.828125 44.09375 54.296875 \nQ 44.09375 59.90625 40.109375 62.90625 \nQ 36.140625 65.921875 28.71875 65.921875 \nQ 24.65625 65.921875 20.015625 65.03125 \nQ 15.375 64.15625 9.8125 62.3125 \nL 9.8125 71.09375 \nQ 15.4375 72.65625 20.34375 73.4375 \nQ 25.25 74.21875 29.59375 74.21875 \nQ 40.828125 74.21875 47.359375 69.109375 \nQ 53.90625 64.015625 53.90625 55.328125 \nQ 53.90625 49.265625 50.4375 45.09375 \nQ 46.96875 40.921875 40.578125 39.3125 \nz\n\" id=\"DejaVuSans-51\"/>\n        <path d=\"M 37.796875 64.3125 \nL 12.890625 25.390625 \nL 37.796875 25.390625 \nz\nM 35.203125 72.90625 \nL 47.609375 72.90625 \nL 47.609375 25.390625 \nL 58.015625 25.390625 \nL 58.015625 17.1875 \nL 47.609375 17.1875 \nL 47.609375 0 \nL 37.796875 0 \nL 37.796875 17.1875 \nL 4.890625 17.1875 \nL 4.890625 26.703125 \nz\n\" id=\"DejaVuSans-52\"/>\n       </defs>\n       <use xlink:href=\"#DejaVuSans-51\"/>\n       <use x=\"63.623047\" xlink:href=\"#DejaVuSans-48\"/>\n       <use x=\"127.246094\" xlink:href=\"#DejaVuSans-52\"/>\n      </g>\n     </g>\n    </g>\n    <g id=\"xtick_3\">\n     <g id=\"line2d_3\">\n      <g>\n       <use style=\"stroke:#000000;stroke-width:0.8;\" x=\"332.328125\" xlink:href=\"#m4bb6ac8de9\" y=\"333.36\"/>\n      </g>\n     </g>\n     <g id=\"text_3\">\n      <!-- 301 -->\n      <g transform=\"translate(335.0875 359.4475)rotate(-90)scale(0.1 -0.1)\">\n       <defs>\n        <path d=\"M 12.40625 8.296875 \nL 28.515625 8.296875 \nL 28.515625 63.921875 \nL 10.984375 60.40625 \nL 10.984375 69.390625 \nL 28.421875 72.90625 \nL 38.28125 72.90625 \nL 38.28125 8.296875 \nL 54.390625 8.296875 \nL 54.390625 0 \nL 12.40625 0 \nz\n\" id=\"DejaVuSans-49\"/>\n       </defs>\n       <use xlink:href=\"#DejaVuSans-51\"/>\n       <use x=\"63.623047\" xlink:href=\"#DejaVuSans-48\"/>\n       <use x=\"127.246094\" xlink:href=\"#DejaVuSans-49\"/>\n      </g>\n     </g>\n    </g>\n    <g id=\"xtick_4\">\n     <g id=\"line2d_4\">\n      <g>\n       <use style=\"stroke:#000000;stroke-width:0.8;\" x=\"443.928125\" xlink:href=\"#m4bb6ac8de9\" y=\"333.36\"/>\n      </g>\n     </g>\n     <g id=\"text_4\">\n      <!-- 403 -->\n      <g transform=\"translate(446.6875 359.4475)rotate(-90)scale(0.1 -0.1)\">\n       <use xlink:href=\"#DejaVuSans-52\"/>\n       <use x=\"63.623047\" xlink:href=\"#DejaVuSans-48\"/>\n       <use x=\"127.246094\" xlink:href=\"#DejaVuSans-51\"/>\n      </g>\n     </g>\n    </g>\n    <g id=\"xtick_5\">\n     <g id=\"line2d_5\">\n      <g>\n       <use style=\"stroke:#000000;stroke-width:0.8;\" x=\"555.528125\" xlink:href=\"#m4bb6ac8de9\" y=\"333.36\"/>\n      </g>\n     </g>\n     <g id=\"text_5\">\n      <!-- 206 -->\n      <g transform=\"translate(558.2875 359.4475)rotate(-90)scale(0.1 -0.1)\">\n       <defs>\n        <path d=\"M 33.015625 40.375 \nQ 26.375 40.375 22.484375 35.828125 \nQ 18.609375 31.296875 18.609375 23.390625 \nQ 18.609375 15.53125 22.484375 10.953125 \nQ 26.375 6.390625 33.015625 6.390625 \nQ 39.65625 6.390625 43.53125 10.953125 \nQ 47.40625 15.53125 47.40625 23.390625 \nQ 47.40625 31.296875 43.53125 35.828125 \nQ 39.65625 40.375 33.015625 40.375 \nz\nM 52.59375 71.296875 \nL 52.59375 62.3125 \nQ 48.875 64.0625 45.09375 64.984375 \nQ 41.3125 65.921875 37.59375 65.921875 \nQ 27.828125 65.921875 22.671875 59.328125 \nQ 17.53125 52.734375 16.796875 39.40625 \nQ 19.671875 43.65625 24.015625 45.921875 \nQ 28.375 48.1875 33.59375 48.1875 \nQ 44.578125 48.1875 50.953125 41.515625 \nQ 57.328125 34.859375 57.328125 23.390625 \nQ 57.328125 12.15625 50.6875 5.359375 \nQ 44.046875 -1.421875 33.015625 -1.421875 \nQ 20.359375 -1.421875 13.671875 8.265625 \nQ 6.984375 17.96875 6.984375 36.375 \nQ 6.984375 53.65625 15.1875 63.9375 \nQ 23.390625 74.21875 37.203125 74.21875 \nQ 40.921875 74.21875 44.703125 73.484375 \nQ 48.484375 72.75 52.59375 71.296875 \nz\n\" id=\"DejaVuSans-54\"/>\n       </defs>\n       <use xlink:href=\"#DejaVuSans-50\"/>\n       <use x=\"63.623047\" xlink:href=\"#DejaVuSans-48\"/>\n       <use x=\"127.246094\" xlink:href=\"#DejaVuSans-54\"/>\n      </g>\n     </g>\n    </g>\n    <g id=\"text_6\">\n     <!-- Status -->\n     <g transform=\"translate(316.396094 371.045937)scale(0.1 -0.1)\">\n      <defs>\n       <path d=\"M 53.515625 70.515625 \nL 53.515625 60.890625 \nQ 47.90625 63.578125 42.921875 64.890625 \nQ 37.9375 66.21875 33.296875 66.21875 \nQ 25.25 66.21875 20.875 63.09375 \nQ 16.5 59.96875 16.5 54.203125 \nQ 16.5 49.359375 19.40625 46.890625 \nQ 22.3125 44.4375 30.421875 42.921875 \nL 36.375 41.703125 \nQ 47.40625 39.59375 52.65625 34.296875 \nQ 57.90625 29 57.90625 20.125 \nQ 57.90625 9.515625 50.796875 4.046875 \nQ 43.703125 -1.421875 29.984375 -1.421875 \nQ 24.8125 -1.421875 18.96875 -0.25 \nQ 13.140625 0.921875 6.890625 3.21875 \nL 6.890625 13.375 \nQ 12.890625 10.015625 18.65625 8.296875 \nQ 24.421875 6.59375 29.984375 6.59375 \nQ 38.421875 6.59375 43.015625 9.90625 \nQ 47.609375 13.234375 47.609375 19.390625 \nQ 47.609375 24.75 44.3125 27.78125 \nQ 41.015625 30.8125 33.5 32.328125 \nL 27.484375 33.5 \nQ 16.453125 35.6875 11.515625 40.375 \nQ 6.59375 45.0625 6.59375 53.421875 \nQ 6.59375 63.09375 13.40625 68.65625 \nQ 20.21875 74.21875 32.171875 74.21875 \nQ 37.3125 74.21875 42.625 73.28125 \nQ 47.953125 72.359375 53.515625 70.515625 \nz\n\" id=\"DejaVuSans-83\"/>\n       <path d=\"M 18.3125 70.21875 \nL 18.3125 54.6875 \nL 36.8125 54.6875 \nL 36.8125 47.703125 \nL 18.3125 47.703125 \nL 18.3125 18.015625 \nQ 18.3125 11.328125 20.140625 9.421875 \nQ 21.96875 7.515625 27.59375 7.515625 \nL 36.8125 7.515625 \nL 36.8125 0 \nL 27.59375 0 \nQ 17.1875 0 13.234375 3.875 \nQ 9.28125 7.765625 9.28125 18.015625 \nL 9.28125 47.703125 \nL 2.6875 47.703125 \nL 2.6875 54.6875 \nL 9.28125 54.6875 \nL 9.28125 70.21875 \nz\n\" id=\"DejaVuSans-116\"/>\n       <path d=\"M 34.28125 27.484375 \nQ 23.390625 27.484375 19.1875 25 \nQ 14.984375 22.515625 14.984375 16.5 \nQ 14.984375 11.71875 18.140625 8.90625 \nQ 21.296875 6.109375 26.703125 6.109375 \nQ 34.1875 6.109375 38.703125 11.40625 \nQ 43.21875 16.703125 43.21875 25.484375 \nL 43.21875 27.484375 \nz\nM 52.203125 31.203125 \nL 52.203125 0 \nL 43.21875 0 \nL 43.21875 8.296875 \nQ 40.140625 3.328125 35.546875 0.953125 \nQ 30.953125 -1.421875 24.3125 -1.421875 \nQ 15.921875 -1.421875 10.953125 3.296875 \nQ 6 8.015625 6 15.921875 \nQ 6 25.140625 12.171875 29.828125 \nQ 18.359375 34.515625 30.609375 34.515625 \nL 43.21875 34.515625 \nL 43.21875 35.40625 \nQ 43.21875 41.609375 39.140625 45 \nQ 35.0625 48.390625 27.6875 48.390625 \nQ 23 48.390625 18.546875 47.265625 \nQ 14.109375 46.140625 10.015625 43.890625 \nL 10.015625 52.203125 \nQ 14.9375 54.109375 19.578125 55.046875 \nQ 24.21875 56 28.609375 56 \nQ 40.484375 56 46.34375 49.84375 \nQ 52.203125 43.703125 52.203125 31.203125 \nz\n\" id=\"DejaVuSans-97\"/>\n       <path d=\"M 8.5 21.578125 \nL 8.5 54.6875 \nL 17.484375 54.6875 \nL 17.484375 21.921875 \nQ 17.484375 14.15625 20.5 10.265625 \nQ 23.53125 6.390625 29.59375 6.390625 \nQ 36.859375 6.390625 41.078125 11.03125 \nQ 45.3125 15.671875 45.3125 23.6875 \nL 45.3125 54.6875 \nL 54.296875 54.6875 \nL 54.296875 0 \nL 45.3125 0 \nL 45.3125 8.40625 \nQ 42.046875 3.421875 37.71875 1 \nQ 33.40625 -1.421875 27.6875 -1.421875 \nQ 18.265625 -1.421875 13.375 4.4375 \nQ 8.5 10.296875 8.5 21.578125 \nz\nM 31.109375 56 \nz\n\" id=\"DejaVuSans-117\"/>\n       <path d=\"M 44.28125 53.078125 \nL 44.28125 44.578125 \nQ 40.484375 46.53125 36.375 47.5 \nQ 32.28125 48.484375 27.875 48.484375 \nQ 21.1875 48.484375 17.84375 46.4375 \nQ 14.5 44.390625 14.5 40.28125 \nQ 14.5 37.15625 16.890625 35.375 \nQ 19.28125 33.59375 26.515625 31.984375 \nL 29.59375 31.296875 \nQ 39.15625 29.25 43.1875 25.515625 \nQ 47.21875 21.78125 47.21875 15.09375 \nQ 47.21875 7.46875 41.1875 3.015625 \nQ 35.15625 -1.421875 24.609375 -1.421875 \nQ 20.21875 -1.421875 15.453125 -0.5625 \nQ 10.6875 0.296875 5.421875 2 \nL 5.421875 11.28125 \nQ 10.40625 8.6875 15.234375 7.390625 \nQ 20.0625 6.109375 24.8125 6.109375 \nQ 31.15625 6.109375 34.5625 8.28125 \nQ 37.984375 10.453125 37.984375 14.40625 \nQ 37.984375 18.0625 35.515625 20.015625 \nQ 33.0625 21.96875 24.703125 23.78125 \nL 21.578125 24.515625 \nQ 13.234375 26.265625 9.515625 29.90625 \nQ 5.8125 33.546875 5.8125 39.890625 \nQ 5.8125 47.609375 11.28125 51.796875 \nQ 16.75 56 26.8125 56 \nQ 31.78125 56 36.171875 55.265625 \nQ 40.578125 54.546875 44.28125 53.078125 \nz\n\" id=\"DejaVuSans-115\"/>\n      </defs>\n      <use xlink:href=\"#DejaVuSans-83\"/>\n      <use x=\"63.476562\" xlink:href=\"#DejaVuSans-116\"/>\n      <use x=\"102.685547\" xlink:href=\"#DejaVuSans-97\"/>\n      <use x=\"163.964844\" xlink:href=\"#DejaVuSans-116\"/>\n      <use x=\"203.173828\" xlink:href=\"#DejaVuSans-117\"/>\n      <use x=\"266.552734\" xlink:href=\"#DejaVuSans-115\"/>\n     </g>\n    </g>\n   </g>\n   <g id=\"matplotlib.axis_2\">\n    <g id=\"ytick_1\">\n     <g id=\"line2d_6\">\n      <defs>\n       <path d=\"M 0 0 \nL -3.5 0 \n\" id=\"ma0d9658747\" style=\"stroke:#000000;stroke-width:0.8;\"/>\n      </defs>\n      <g>\n       <use style=\"stroke:#000000;stroke-width:0.8;\" x=\"53.328125\" xlink:href=\"#ma0d9658747\" y=\"333.36\"/>\n      </g>\n     </g>\n     <g id=\"text_7\">\n      <!-- 0 -->\n      <g transform=\"translate(39.965625 337.159219)scale(0.1 -0.1)\">\n       <use xlink:href=\"#DejaVuSans-48\"/>\n      </g>\n     </g>\n    </g>\n    <g id=\"ytick_2\">\n     <g id=\"line2d_7\">\n      <g>\n       <use style=\"stroke:#000000;stroke-width:0.8;\" x=\"53.328125\" xlink:href=\"#ma0d9658747\" y=\"275.080718\"/>\n      </g>\n     </g>\n     <g id=\"text_8\">\n      <!-- 200 -->\n      <g transform=\"translate(27.240625 278.879937)scale(0.1 -0.1)\">\n       <use xlink:href=\"#DejaVuSans-50\"/>\n       <use x=\"63.623047\" xlink:href=\"#DejaVuSans-48\"/>\n       <use x=\"127.246094\" xlink:href=\"#DejaVuSans-48\"/>\n      </g>\n     </g>\n    </g>\n    <g id=\"ytick_3\">\n     <g id=\"line2d_8\">\n      <g>\n       <use style=\"stroke:#000000;stroke-width:0.8;\" x=\"53.328125\" xlink:href=\"#ma0d9658747\" y=\"216.801437\"/>\n      </g>\n     </g>\n     <g id=\"text_9\">\n      <!-- 400 -->\n      <g transform=\"translate(27.240625 220.600655)scale(0.1 -0.1)\">\n       <use xlink:href=\"#DejaVuSans-52\"/>\n       <use x=\"63.623047\" xlink:href=\"#DejaVuSans-48\"/>\n       <use x=\"127.246094\" xlink:href=\"#DejaVuSans-48\"/>\n      </g>\n     </g>\n    </g>\n    <g id=\"ytick_4\">\n     <g id=\"line2d_9\">\n      <g>\n       <use style=\"stroke:#000000;stroke-width:0.8;\" x=\"53.328125\" xlink:href=\"#ma0d9658747\" y=\"158.522155\"/>\n      </g>\n     </g>\n     <g id=\"text_10\">\n      <!-- 600 -->\n      <g transform=\"translate(27.240625 162.321374)scale(0.1 -0.1)\">\n       <use xlink:href=\"#DejaVuSans-54\"/>\n       <use x=\"63.623047\" xlink:href=\"#DejaVuSans-48\"/>\n       <use x=\"127.246094\" xlink:href=\"#DejaVuSans-48\"/>\n      </g>\n     </g>\n    </g>\n    <g id=\"ytick_5\">\n     <g id=\"line2d_10\">\n      <g>\n       <use style=\"stroke:#000000;stroke-width:0.8;\" x=\"53.328125\" xlink:href=\"#ma0d9658747\" y=\"100.242873\"/>\n      </g>\n     </g>\n     <g id=\"text_11\">\n      <!-- 800 -->\n      <g transform=\"translate(27.240625 104.042092)scale(0.1 -0.1)\">\n       <defs>\n        <path d=\"M 31.78125 34.625 \nQ 24.75 34.625 20.71875 30.859375 \nQ 16.703125 27.09375 16.703125 20.515625 \nQ 16.703125 13.921875 20.71875 10.15625 \nQ 24.75 6.390625 31.78125 6.390625 \nQ 38.8125 6.390625 42.859375 10.171875 \nQ 46.921875 13.96875 46.921875 20.515625 \nQ 46.921875 27.09375 42.890625 30.859375 \nQ 38.875 34.625 31.78125 34.625 \nz\nM 21.921875 38.8125 \nQ 15.578125 40.375 12.03125 44.71875 \nQ 8.5 49.078125 8.5 55.328125 \nQ 8.5 64.0625 14.71875 69.140625 \nQ 20.953125 74.21875 31.78125 74.21875 \nQ 42.671875 74.21875 48.875 69.140625 \nQ 55.078125 64.0625 55.078125 55.328125 \nQ 55.078125 49.078125 51.53125 44.71875 \nQ 48 40.375 41.703125 38.8125 \nQ 48.828125 37.15625 52.796875 32.3125 \nQ 56.78125 27.484375 56.78125 20.515625 \nQ 56.78125 9.90625 50.3125 4.234375 \nQ 43.84375 -1.421875 31.78125 -1.421875 \nQ 19.734375 -1.421875 13.25 4.234375 \nQ 6.78125 9.90625 6.78125 20.515625 \nQ 6.78125 27.484375 10.78125 32.3125 \nQ 14.796875 37.15625 21.921875 38.8125 \nz\nM 18.3125 54.390625 \nQ 18.3125 48.734375 21.84375 45.5625 \nQ 25.390625 42.390625 31.78125 42.390625 \nQ 38.140625 42.390625 41.71875 45.5625 \nQ 45.3125 48.734375 45.3125 54.390625 \nQ 45.3125 60.0625 41.71875 63.234375 \nQ 38.140625 66.40625 31.78125 66.40625 \nQ 25.390625 66.40625 21.84375 63.234375 \nQ 18.3125 60.0625 18.3125 54.390625 \nz\n\" id=\"DejaVuSans-56\"/>\n       </defs>\n       <use xlink:href=\"#DejaVuSans-56\"/>\n       <use x=\"63.623047\" xlink:href=\"#DejaVuSans-48\"/>\n       <use x=\"127.246094\" xlink:href=\"#DejaVuSans-48\"/>\n      </g>\n     </g>\n    </g>\n    <g id=\"ytick_6\">\n     <g id=\"line2d_11\">\n      <g>\n       <use style=\"stroke:#000000;stroke-width:0.8;\" x=\"53.328125\" xlink:href=\"#ma0d9658747\" y=\"41.963592\"/>\n      </g>\n     </g>\n     <g id=\"text_12\">\n      <!-- 1000 -->\n      <g transform=\"translate(20.878125 45.76281)scale(0.1 -0.1)\">\n       <use xlink:href=\"#DejaVuSans-49\"/>\n       <use x=\"63.623047\" xlink:href=\"#DejaVuSans-48\"/>\n       <use x=\"127.246094\" xlink:href=\"#DejaVuSans-48\"/>\n       <use x=\"190.869141\" xlink:href=\"#DejaVuSans-48\"/>\n      </g>\n     </g>\n    </g>\n    <g id=\"text_13\">\n     <!-- Frequency -->\n     <g transform=\"translate(14.798438 196.109687)rotate(-90)scale(0.1 -0.1)\">\n      <defs>\n       <path d=\"M 9.8125 72.90625 \nL 51.703125 72.90625 \nL 51.703125 64.59375 \nL 19.671875 64.59375 \nL 19.671875 43.109375 \nL 48.578125 43.109375 \nL 48.578125 34.8125 \nL 19.671875 34.8125 \nL 19.671875 0 \nL 9.8125 0 \nz\n\" id=\"DejaVuSans-70\"/>\n       <path d=\"M 41.109375 46.296875 \nQ 39.59375 47.171875 37.8125 47.578125 \nQ 36.03125 48 33.890625 48 \nQ 26.265625 48 22.1875 43.046875 \nQ 18.109375 38.09375 18.109375 28.8125 \nL 18.109375 0 \nL 9.078125 0 \nL 9.078125 54.6875 \nL 18.109375 54.6875 \nL 18.109375 46.1875 \nQ 20.953125 51.171875 25.484375 53.578125 \nQ 30.03125 56 36.53125 56 \nQ 37.453125 56 38.578125 55.875 \nQ 39.703125 55.765625 41.0625 55.515625 \nz\n\" id=\"DejaVuSans-114\"/>\n       <path d=\"M 56.203125 29.59375 \nL 56.203125 25.203125 \nL 14.890625 25.203125 \nQ 15.484375 15.921875 20.484375 11.0625 \nQ 25.484375 6.203125 34.421875 6.203125 \nQ 39.59375 6.203125 44.453125 7.46875 \nQ 49.3125 8.734375 54.109375 11.28125 \nL 54.109375 2.78125 \nQ 49.265625 0.734375 44.1875 -0.34375 \nQ 39.109375 -1.421875 33.890625 -1.421875 \nQ 20.796875 -1.421875 13.15625 6.1875 \nQ 5.515625 13.8125 5.515625 26.8125 \nQ 5.515625 40.234375 12.765625 48.109375 \nQ 20.015625 56 32.328125 56 \nQ 43.359375 56 49.78125 48.890625 \nQ 56.203125 41.796875 56.203125 29.59375 \nz\nM 47.21875 32.234375 \nQ 47.125 39.59375 43.09375 43.984375 \nQ 39.0625 48.390625 32.421875 48.390625 \nQ 24.90625 48.390625 20.390625 44.140625 \nQ 15.875 39.890625 15.1875 32.171875 \nz\n\" id=\"DejaVuSans-101\"/>\n       <path d=\"M 14.796875 27.296875 \nQ 14.796875 17.390625 18.875 11.75 \nQ 22.953125 6.109375 30.078125 6.109375 \nQ 37.203125 6.109375 41.296875 11.75 \nQ 45.40625 17.390625 45.40625 27.296875 \nQ 45.40625 37.203125 41.296875 42.84375 \nQ 37.203125 48.484375 30.078125 48.484375 \nQ 22.953125 48.484375 18.875 42.84375 \nQ 14.796875 37.203125 14.796875 27.296875 \nz\nM 45.40625 8.203125 \nQ 42.578125 3.328125 38.25 0.953125 \nQ 33.9375 -1.421875 27.875 -1.421875 \nQ 17.96875 -1.421875 11.734375 6.484375 \nQ 5.515625 14.40625 5.515625 27.296875 \nQ 5.515625 40.1875 11.734375 48.09375 \nQ 17.96875 56 27.875 56 \nQ 33.9375 56 38.25 53.625 \nQ 42.578125 51.265625 45.40625 46.390625 \nL 45.40625 54.6875 \nL 54.390625 54.6875 \nL 54.390625 -20.796875 \nL 45.40625 -20.796875 \nz\n\" id=\"DejaVuSans-113\"/>\n       <path d=\"M 54.890625 33.015625 \nL 54.890625 0 \nL 45.90625 0 \nL 45.90625 32.71875 \nQ 45.90625 40.484375 42.875 44.328125 \nQ 39.84375 48.1875 33.796875 48.1875 \nQ 26.515625 48.1875 22.3125 43.546875 \nQ 18.109375 38.921875 18.109375 30.90625 \nL 18.109375 0 \nL 9.078125 0 \nL 9.078125 54.6875 \nL 18.109375 54.6875 \nL 18.109375 46.1875 \nQ 21.34375 51.125 25.703125 53.5625 \nQ 30.078125 56 35.796875 56 \nQ 45.21875 56 50.046875 50.171875 \nQ 54.890625 44.34375 54.890625 33.015625 \nz\n\" id=\"DejaVuSans-110\"/>\n       <path d=\"M 48.78125 52.59375 \nL 48.78125 44.1875 \nQ 44.96875 46.296875 41.140625 47.34375 \nQ 37.3125 48.390625 33.40625 48.390625 \nQ 24.65625 48.390625 19.8125 42.84375 \nQ 14.984375 37.3125 14.984375 27.296875 \nQ 14.984375 17.28125 19.8125 11.734375 \nQ 24.65625 6.203125 33.40625 6.203125 \nQ 37.3125 6.203125 41.140625 7.25 \nQ 44.96875 8.296875 48.78125 10.40625 \nL 48.78125 2.09375 \nQ 45.015625 0.34375 40.984375 -0.53125 \nQ 36.96875 -1.421875 32.421875 -1.421875 \nQ 20.0625 -1.421875 12.78125 6.34375 \nQ 5.515625 14.109375 5.515625 27.296875 \nQ 5.515625 40.671875 12.859375 48.328125 \nQ 20.21875 56 33.015625 56 \nQ 37.15625 56 41.109375 55.140625 \nQ 45.0625 54.296875 48.78125 52.59375 \nz\n\" id=\"DejaVuSans-99\"/>\n       <path d=\"M 32.171875 -5.078125 \nQ 28.375 -14.84375 24.75 -17.8125 \nQ 21.140625 -20.796875 15.09375 -20.796875 \nL 7.90625 -20.796875 \nL 7.90625 -13.28125 \nL 13.1875 -13.28125 \nQ 16.890625 -13.28125 18.9375 -11.515625 \nQ 21 -9.765625 23.484375 -3.21875 \nL 25.09375 0.875 \nL 2.984375 54.6875 \nL 12.5 54.6875 \nL 29.59375 11.921875 \nL 46.6875 54.6875 \nL 56.203125 54.6875 \nz\n\" id=\"DejaVuSans-121\"/>\n      </defs>\n      <use xlink:href=\"#DejaVuSans-70\"/>\n      <use x=\"50.269531\" xlink:href=\"#DejaVuSans-114\"/>\n      <use x=\"89.132812\" xlink:href=\"#DejaVuSans-101\"/>\n      <use x=\"150.65625\" xlink:href=\"#DejaVuSans-113\"/>\n      <use x=\"214.132812\" xlink:href=\"#DejaVuSans-117\"/>\n      <use x=\"277.511719\" xlink:href=\"#DejaVuSans-101\"/>\n      <use x=\"339.035156\" xlink:href=\"#DejaVuSans-110\"/>\n      <use x=\"402.414062\" xlink:href=\"#DejaVuSans-99\"/>\n      <use x=\"457.394531\" xlink:href=\"#DejaVuSans-121\"/>\n     </g>\n    </g>\n   </g>\n   <g id=\"patch_8\">\n    <path d=\"M 53.328125 333.36 \nL 53.328125 7.2 \n\" style=\"fill:none;stroke:#000000;stroke-linecap:square;stroke-linejoin:miter;stroke-width:0.8;\"/>\n   </g>\n   <g id=\"patch_9\">\n    <path d=\"M 611.328125 333.36 \nL 611.328125 7.2 \n\" style=\"fill:none;stroke:#000000;stroke-linecap:square;stroke-linejoin:miter;stroke-width:0.8;\"/>\n   </g>\n   <g id=\"patch_10\">\n    <path d=\"M 53.328125 333.36 \nL 611.328125 333.36 \n\" style=\"fill:none;stroke:#000000;stroke-linecap:square;stroke-linejoin:miter;stroke-width:0.8;\"/>\n   </g>\n   <g id=\"patch_11\">\n    <path d=\"M 53.328125 7.2 \nL 611.328125 7.2 \n\" style=\"fill:none;stroke:#000000;stroke-linecap:square;stroke-linejoin:miter;stroke-width:0.8;\"/>\n   </g>\n  </g>\n </g>\n <defs>\n  <clipPath id=\"p3acc37524a\">\n   <rect height=\"326.16\" width=\"558\" x=\"53.328125\" y=\"7.2\"/>\n  </clipPath>\n </defs>\n</svg>\n",
      "image/png": "[encoded data removed]"
     },
     "metadata": {
      "needs_background": "light"
     }
    }
   ],
   "source": [
    "graph = Logs_copy[['Status', 'Date']].groupby(['Status']).count().sort_values(by = 'Date',ascending = False)\n",
    "graph = graph.rename(columns = {'Date' : 'Frequency'})\n",
    "graph.plot.bar(y = 'Frequency', color = 'r', ylabel = 'Frequency', legend = None, figsize = (10,6))\n",
    "plt.show()"
   ]
  },
  {
   "cell_type": "code",
   "execution_count": 34,
   "metadata": {},
   "outputs": [
    {
     "output_type": "display_data",
     "data": {
      "text/plain": "<Figure size 720x432 with 1 Axes>",
      "image/svg+xml": "<?xml version=\"1.0\" encoding=\"utf-8\" standalone=\"no\"?>\n<!DOCTYPE svg PUBLIC \"-//W3C//DTD SVG 1.1//EN\"\n  \"http://www.w3.org/Graphics/SVG/1.1/DTD/svg11.dtd\">\n<!-- Created with matplotlib (https://matplotlib.org/) -->\n<svg height=\"417.158438pt\" version=\"1.1\" viewBox=\"0 0 612.165625 417.158438\" width=\"612.165625pt\" xmlns=\"http://www.w3.org/2000/svg\" xmlns:xlink=\"http://www.w3.org/1999/xlink\">\n <metadata>\n  <rdf:RDF xmlns:cc=\"http://creativecommons.org/ns#\" xmlns:dc=\"http://purl.org/dc/elements/1.1/\" xmlns:rdf=\"http://www.w3.org/1999/02/22-rdf-syntax-ns#\">\n   <cc:Work>\n    <dc:type rdf:resource=\"http://purl.org/dc/dcmitype/StillImage\"/>\n    <dc:date>2021-03-04T18:38:10.223880</dc:date>\n    <dc:format>image/svg+xml</dc:format>\n    <dc:creator>\n     <cc:Agent>\n      <dc:title>Matplotlib v3.3.2, https://matplotlib.org/</dc:title>\n     </cc:Agent>\n    </dc:creator>\n   </cc:Work>\n  </rdf:RDF>\n </metadata>\n <defs>\n  <style type=\"text/css\">*{stroke-linecap:butt;stroke-linejoin:round;}</style>\n </defs>\n <g id=\"figure_1\">\n  <g id=\"patch_1\">\n   <path d=\"M 0 417.158438 \nL 612.165625 417.158438 \nL 612.165625 0 \nL 0 0 \nz\n\" style=\"fill:none;\"/>\n  </g>\n  <g id=\"axes_1\">\n   <g id=\"patch_2\">\n    <path d=\"M 46.965625 333.36 \nL 604.965625 333.36 \nL 604.965625 7.2 \nL 46.965625 7.2 \nz\n\" style=\"fill:#ffffff;\"/>\n   </g>\n   <g id=\"patch_3\">\n    <path clip-path=\"url(#p8fd35852c2)\" d=\"M 74.865625 333.36 \nL 130.665625 333.36 \nL 130.665625 22.731429 \nL 74.865625 22.731429 \nz\n\" style=\"fill:#bfbf00;\"/>\n   </g>\n   <g id=\"patch_4\">\n    <path clip-path=\"url(#p8fd35852c2)\" d=\"M 186.465625 333.36 \nL 242.265625 333.36 \nL 242.265625 227.48159 \nL 186.465625 227.48159 \nz\n\" style=\"fill:#bfbf00;\"/>\n   </g>\n   <g id=\"patch_5\">\n    <path clip-path=\"url(#p8fd35852c2)\" d=\"M 298.065625 333.36 \nL 353.865625 333.36 \nL 353.865625 326.742599 \nL 298.065625 326.742599 \nz\n\" style=\"fill:#bfbf00;\"/>\n   </g>\n   <g id=\"patch_6\">\n    <path clip-path=\"url(#p8fd35852c2)\" d=\"M 409.665625 333.36 \nL 465.465625 333.36 \nL 465.465625 327.910376 \nL 409.665625 327.910376 \nz\n\" style=\"fill:#bfbf00;\"/>\n   </g>\n   <g id=\"patch_7\">\n    <path clip-path=\"url(#p8fd35852c2)\" d=\"M 521.265625 333.36 \nL 577.065625 333.36 \nL 577.065625 332.970741 \nL 521.265625 332.970741 \nz\n\" style=\"fill:#bfbf00;\"/>\n   </g>\n   <g id=\"matplotlib.axis_1\">\n    <g id=\"xtick_1\">\n     <g id=\"line2d_1\">\n      <defs>\n       <path d=\"M 0 0 \nL 0 3.5 \n\" id=\"m3a07800c01\" style=\"stroke:#000000;stroke-width:0.8;\"/>\n      </defs>\n      <g>\n       <use style=\"stroke:#000000;stroke-width:0.8;\" x=\"102.765625\" xlink:href=\"#m3a07800c01\" y=\"333.36\"/>\n      </g>\n     </g>\n     <g id=\"text_1\">\n      <!-- browser -->\n      <g transform=\"translate(105.525 380.364688)rotate(-90)scale(0.1 -0.1)\">\n       <defs>\n        <path d=\"M 48.6875 27.296875 \nQ 48.6875 37.203125 44.609375 42.84375 \nQ 40.53125 48.484375 33.40625 48.484375 \nQ 26.265625 48.484375 22.1875 42.84375 \nQ 18.109375 37.203125 18.109375 27.296875 \nQ 18.109375 17.390625 22.1875 11.75 \nQ 26.265625 6.109375 33.40625 6.109375 \nQ 40.53125 6.109375 44.609375 11.75 \nQ 48.6875 17.390625 48.6875 27.296875 \nz\nM 18.109375 46.390625 \nQ 20.953125 51.265625 25.265625 53.625 \nQ 29.59375 56 35.59375 56 \nQ 45.5625 56 51.78125 48.09375 \nQ 58.015625 40.1875 58.015625 27.296875 \nQ 58.015625 14.40625 51.78125 6.484375 \nQ 45.5625 -1.421875 35.59375 -1.421875 \nQ 29.59375 -1.421875 25.265625 0.953125 \nQ 20.953125 3.328125 18.109375 8.203125 \nL 18.109375 0 \nL 9.078125 0 \nL 9.078125 75.984375 \nL 18.109375 75.984375 \nz\n\" id=\"DejaVuSans-98\"/>\n        <path d=\"M 41.109375 46.296875 \nQ 39.59375 47.171875 37.8125 47.578125 \nQ 36.03125 48 33.890625 48 \nQ 26.265625 48 22.1875 43.046875 \nQ 18.109375 38.09375 18.109375 28.8125 \nL 18.109375 0 \nL 9.078125 0 \nL 9.078125 54.6875 \nL 18.109375 54.6875 \nL 18.109375 46.1875 \nQ 20.953125 51.171875 25.484375 53.578125 \nQ 30.03125 56 36.53125 56 \nQ 37.453125 56 38.578125 55.875 \nQ 39.703125 55.765625 41.0625 55.515625 \nz\n\" id=\"DejaVuSans-114\"/>\n        <path d=\"M 30.609375 48.390625 \nQ 23.390625 48.390625 19.1875 42.75 \nQ 14.984375 37.109375 14.984375 27.296875 \nQ 14.984375 17.484375 19.15625 11.84375 \nQ 23.34375 6.203125 30.609375 6.203125 \nQ 37.796875 6.203125 41.984375 11.859375 \nQ 46.1875 17.53125 46.1875 27.296875 \nQ 46.1875 37.015625 41.984375 42.703125 \nQ 37.796875 48.390625 30.609375 48.390625 \nz\nM 30.609375 56 \nQ 42.328125 56 49.015625 48.375 \nQ 55.71875 40.765625 55.71875 27.296875 \nQ 55.71875 13.875 49.015625 6.21875 \nQ 42.328125 -1.421875 30.609375 -1.421875 \nQ 18.84375 -1.421875 12.171875 6.21875 \nQ 5.515625 13.875 5.515625 27.296875 \nQ 5.515625 40.765625 12.171875 48.375 \nQ 18.84375 56 30.609375 56 \nz\n\" id=\"DejaVuSans-111\"/>\n        <path d=\"M 4.203125 54.6875 \nL 13.1875 54.6875 \nL 24.421875 12.015625 \nL 35.59375 54.6875 \nL 46.1875 54.6875 \nL 57.421875 12.015625 \nL 68.609375 54.6875 \nL 77.59375 54.6875 \nL 63.28125 0 \nL 52.6875 0 \nL 40.921875 44.828125 \nL 29.109375 0 \nL 18.5 0 \nz\n\" id=\"DejaVuSans-119\"/>\n        <path d=\"M 44.28125 53.078125 \nL 44.28125 44.578125 \nQ 40.484375 46.53125 36.375 47.5 \nQ 32.28125 48.484375 27.875 48.484375 \nQ 21.1875 48.484375 17.84375 46.4375 \nQ 14.5 44.390625 14.5 40.28125 \nQ 14.5 37.15625 16.890625 35.375 \nQ 19.28125 33.59375 26.515625 31.984375 \nL 29.59375 31.296875 \nQ 39.15625 29.25 43.1875 25.515625 \nQ 47.21875 21.78125 47.21875 15.09375 \nQ 47.21875 7.46875 41.1875 3.015625 \nQ 35.15625 -1.421875 24.609375 -1.421875 \nQ 20.21875 -1.421875 15.453125 -0.5625 \nQ 10.6875 0.296875 5.421875 2 \nL 5.421875 11.28125 \nQ 10.40625 8.6875 15.234375 7.390625 \nQ 20.0625 6.109375 24.8125 6.109375 \nQ 31.15625 6.109375 34.5625 8.28125 \nQ 37.984375 10.453125 37.984375 14.40625 \nQ 37.984375 18.0625 35.515625 20.015625 \nQ 33.0625 21.96875 24.703125 23.78125 \nL 21.578125 24.515625 \nQ 13.234375 26.265625 9.515625 29.90625 \nQ 5.8125 33.546875 5.8125 39.890625 \nQ 5.8125 47.609375 11.28125 51.796875 \nQ 16.75 56 26.8125 56 \nQ 31.78125 56 36.171875 55.265625 \nQ 40.578125 54.546875 44.28125 53.078125 \nz\n\" id=\"DejaVuSans-115\"/>\n        <path d=\"M 56.203125 29.59375 \nL 56.203125 25.203125 \nL 14.890625 25.203125 \nQ 15.484375 15.921875 20.484375 11.0625 \nQ 25.484375 6.203125 34.421875 6.203125 \nQ 39.59375 6.203125 44.453125 7.46875 \nQ 49.3125 8.734375 54.109375 11.28125 \nL 54.109375 2.78125 \nQ 49.265625 0.734375 44.1875 -0.34375 \nQ 39.109375 -1.421875 33.890625 -1.421875 \nQ 20.796875 -1.421875 13.15625 6.1875 \nQ 5.515625 13.8125 5.515625 26.8125 \nQ 5.515625 40.234375 12.765625 48.109375 \nQ 20.015625 56 32.328125 56 \nQ 43.359375 56 49.78125 48.890625 \nQ 56.203125 41.796875 56.203125 29.59375 \nz\nM 47.21875 32.234375 \nQ 47.125 39.59375 43.09375 43.984375 \nQ 39.0625 48.390625 32.421875 48.390625 \nQ 24.90625 48.390625 20.390625 44.140625 \nQ 15.875 39.890625 15.1875 32.171875 \nz\n\" id=\"DejaVuSans-101\"/>\n       </defs>\n       <use xlink:href=\"#DejaVuSans-98\"/>\n       <use x=\"63.476562\" xlink:href=\"#DejaVuSans-114\"/>\n       <use x=\"102.339844\" xlink:href=\"#DejaVuSans-111\"/>\n       <use x=\"163.521484\" xlink:href=\"#DejaVuSans-119\"/>\n       <use x=\"245.308594\" xlink:href=\"#DejaVuSans-115\"/>\n       <use x=\"297.408203\" xlink:href=\"#DejaVuSans-101\"/>\n       <use x=\"358.931641\" xlink:href=\"#DejaVuSans-114\"/>\n      </g>\n     </g>\n    </g>\n    <g id=\"xtick_2\">\n     <g id=\"line2d_2\">\n      <g>\n       <use style=\"stroke:#000000;stroke-width:0.8;\" x=\"214.365625\" xlink:href=\"#m3a07800c01\" y=\"333.36\"/>\n      </g>\n     </g>\n     <g id=\"text_2\">\n      <!-- generic -->\n      <g transform=\"translate(217.125 377.739688)rotate(-90)scale(0.1 -0.1)\">\n       <defs>\n        <path d=\"M 45.40625 27.984375 \nQ 45.40625 37.75 41.375 43.109375 \nQ 37.359375 48.484375 30.078125 48.484375 \nQ 22.859375 48.484375 18.828125 43.109375 \nQ 14.796875 37.75 14.796875 27.984375 \nQ 14.796875 18.265625 18.828125 12.890625 \nQ 22.859375 7.515625 30.078125 7.515625 \nQ 37.359375 7.515625 41.375 12.890625 \nQ 45.40625 18.265625 45.40625 27.984375 \nz\nM 54.390625 6.78125 \nQ 54.390625 -7.171875 48.1875 -13.984375 \nQ 42 -20.796875 29.203125 -20.796875 \nQ 24.46875 -20.796875 20.265625 -20.09375 \nQ 16.0625 -19.390625 12.109375 -17.921875 \nL 12.109375 -9.1875 \nQ 16.0625 -11.328125 19.921875 -12.34375 \nQ 23.78125 -13.375 27.78125 -13.375 \nQ 36.625 -13.375 41.015625 -8.765625 \nQ 45.40625 -4.15625 45.40625 5.171875 \nL 45.40625 9.625 \nQ 42.625 4.78125 38.28125 2.390625 \nQ 33.9375 0 27.875 0 \nQ 17.828125 0 11.671875 7.65625 \nQ 5.515625 15.328125 5.515625 27.984375 \nQ 5.515625 40.671875 11.671875 48.328125 \nQ 17.828125 56 27.875 56 \nQ 33.9375 56 38.28125 53.609375 \nQ 42.625 51.21875 45.40625 46.390625 \nL 45.40625 54.6875 \nL 54.390625 54.6875 \nz\n\" id=\"DejaVuSans-103\"/>\n        <path d=\"M 54.890625 33.015625 \nL 54.890625 0 \nL 45.90625 0 \nL 45.90625 32.71875 \nQ 45.90625 40.484375 42.875 44.328125 \nQ 39.84375 48.1875 33.796875 48.1875 \nQ 26.515625 48.1875 22.3125 43.546875 \nQ 18.109375 38.921875 18.109375 30.90625 \nL 18.109375 0 \nL 9.078125 0 \nL 9.078125 54.6875 \nL 18.109375 54.6875 \nL 18.109375 46.1875 \nQ 21.34375 51.125 25.703125 53.5625 \nQ 30.078125 56 35.796875 56 \nQ 45.21875 56 50.046875 50.171875 \nQ 54.890625 44.34375 54.890625 33.015625 \nz\n\" id=\"DejaVuSans-110\"/>\n        <path d=\"M 9.421875 54.6875 \nL 18.40625 54.6875 \nL 18.40625 0 \nL 9.421875 0 \nz\nM 9.421875 75.984375 \nL 18.40625 75.984375 \nL 18.40625 64.59375 \nL 9.421875 64.59375 \nz\n\" id=\"DejaVuSans-105\"/>\n        <path d=\"M 48.78125 52.59375 \nL 48.78125 44.1875 \nQ 44.96875 46.296875 41.140625 47.34375 \nQ 37.3125 48.390625 33.40625 48.390625 \nQ 24.65625 48.390625 19.8125 42.84375 \nQ 14.984375 37.3125 14.984375 27.296875 \nQ 14.984375 17.28125 19.8125 11.734375 \nQ 24.65625 6.203125 33.40625 6.203125 \nQ 37.3125 6.203125 41.140625 7.25 \nQ 44.96875 8.296875 48.78125 10.40625 \nL 48.78125 2.09375 \nQ 45.015625 0.34375 40.984375 -0.53125 \nQ 36.96875 -1.421875 32.421875 -1.421875 \nQ 20.0625 -1.421875 12.78125 6.34375 \nQ 5.515625 14.109375 5.515625 27.296875 \nQ 5.515625 40.671875 12.859375 48.328125 \nQ 20.21875 56 33.015625 56 \nQ 37.15625 56 41.109375 55.140625 \nQ 45.0625 54.296875 48.78125 52.59375 \nz\n\" id=\"DejaVuSans-99\"/>\n       </defs>\n       <use xlink:href=\"#DejaVuSans-103\"/>\n       <use x=\"63.476562\" xlink:href=\"#DejaVuSans-101\"/>\n       <use x=\"125\" xlink:href=\"#DejaVuSans-110\"/>\n       <use x=\"188.378906\" xlink:href=\"#DejaVuSans-101\"/>\n       <use x=\"249.902344\" xlink:href=\"#DejaVuSans-114\"/>\n       <use x=\"291.015625\" xlink:href=\"#DejaVuSans-105\"/>\n       <use x=\"318.798828\" xlink:href=\"#DejaVuSans-99\"/>\n      </g>\n     </g>\n    </g>\n    <g id=\"xtick_3\">\n     <g id=\"line2d_3\">\n      <g>\n       <use style=\"stroke:#000000;stroke-width:0.8;\" x=\"325.965625\" xlink:href=\"#m3a07800c01\" y=\"333.36\"/>\n      </g>\n     </g>\n    </g>\n    <g id=\"xtick_4\">\n     <g id=\"line2d_4\">\n      <g>\n       <use style=\"stroke:#000000;stroke-width:0.8;\" x=\"437.565625\" xlink:href=\"#m3a07800c01\" y=\"333.36\"/>\n      </g>\n     </g>\n     <g id=\"text_3\">\n      <!-- library -->\n      <g transform=\"translate(440.325 372.533438)rotate(-90)scale(0.1 -0.1)\">\n       <defs>\n        <path d=\"M 9.421875 75.984375 \nL 18.40625 75.984375 \nL 18.40625 0 \nL 9.421875 0 \nz\n\" id=\"DejaVuSans-108\"/>\n        <path d=\"M 34.28125 27.484375 \nQ 23.390625 27.484375 19.1875 25 \nQ 14.984375 22.515625 14.984375 16.5 \nQ 14.984375 11.71875 18.140625 8.90625 \nQ 21.296875 6.109375 26.703125 6.109375 \nQ 34.1875 6.109375 38.703125 11.40625 \nQ 43.21875 16.703125 43.21875 25.484375 \nL 43.21875 27.484375 \nz\nM 52.203125 31.203125 \nL 52.203125 0 \nL 43.21875 0 \nL 43.21875 8.296875 \nQ 40.140625 3.328125 35.546875 0.953125 \nQ 30.953125 -1.421875 24.3125 -1.421875 \nQ 15.921875 -1.421875 10.953125 3.296875 \nQ 6 8.015625 6 15.921875 \nQ 6 25.140625 12.171875 29.828125 \nQ 18.359375 34.515625 30.609375 34.515625 \nL 43.21875 34.515625 \nL 43.21875 35.40625 \nQ 43.21875 41.609375 39.140625 45 \nQ 35.0625 48.390625 27.6875 48.390625 \nQ 23 48.390625 18.546875 47.265625 \nQ 14.109375 46.140625 10.015625 43.890625 \nL 10.015625 52.203125 \nQ 14.9375 54.109375 19.578125 55.046875 \nQ 24.21875 56 28.609375 56 \nQ 40.484375 56 46.34375 49.84375 \nQ 52.203125 43.703125 52.203125 31.203125 \nz\n\" id=\"DejaVuSans-97\"/>\n        <path d=\"M 32.171875 -5.078125 \nQ 28.375 -14.84375 24.75 -17.8125 \nQ 21.140625 -20.796875 15.09375 -20.796875 \nL 7.90625 -20.796875 \nL 7.90625 -13.28125 \nL 13.1875 -13.28125 \nQ 16.890625 -13.28125 18.9375 -11.515625 \nQ 21 -9.765625 23.484375 -3.21875 \nL 25.09375 0.875 \nL 2.984375 54.6875 \nL 12.5 54.6875 \nL 29.59375 11.921875 \nL 46.6875 54.6875 \nL 56.203125 54.6875 \nz\n\" id=\"DejaVuSans-121\"/>\n       </defs>\n       <use xlink:href=\"#DejaVuSans-108\"/>\n       <use x=\"27.783203\" xlink:href=\"#DejaVuSans-105\"/>\n       <use x=\"55.566406\" xlink:href=\"#DejaVuSans-98\"/>\n       <use x=\"119.042969\" xlink:href=\"#DejaVuSans-114\"/>\n       <use x=\"160.15625\" xlink:href=\"#DejaVuSans-97\"/>\n       <use x=\"221.435547\" xlink:href=\"#DejaVuSans-114\"/>\n       <use x=\"262.548828\" xlink:href=\"#DejaVuSans-121\"/>\n      </g>\n     </g>\n    </g>\n    <g id=\"xtick_5\">\n     <g id=\"line2d_5\">\n      <g>\n       <use style=\"stroke:#000000;stroke-width:0.8;\" x=\"549.165625\" xlink:href=\"#m3a07800c01\" y=\"333.36\"/>\n      </g>\n     </g>\n     <g id=\"text_4\">\n      <!-- mobile app -->\n      <g transform=\"translate(551.925 396.280313)rotate(-90)scale(0.1 -0.1)\">\n       <defs>\n        <path d=\"M 52 44.1875 \nQ 55.375 50.25 60.0625 53.125 \nQ 64.75 56 71.09375 56 \nQ 79.640625 56 84.28125 50.015625 \nQ 88.921875 44.046875 88.921875 33.015625 \nL 88.921875 0 \nL 79.890625 0 \nL 79.890625 32.71875 \nQ 79.890625 40.578125 77.09375 44.375 \nQ 74.3125 48.1875 68.609375 48.1875 \nQ 61.625 48.1875 57.5625 43.546875 \nQ 53.515625 38.921875 53.515625 30.90625 \nL 53.515625 0 \nL 44.484375 0 \nL 44.484375 32.71875 \nQ 44.484375 40.625 41.703125 44.40625 \nQ 38.921875 48.1875 33.109375 48.1875 \nQ 26.21875 48.1875 22.15625 43.53125 \nQ 18.109375 38.875 18.109375 30.90625 \nL 18.109375 0 \nL 9.078125 0 \nL 9.078125 54.6875 \nL 18.109375 54.6875 \nL 18.109375 46.1875 \nQ 21.1875 51.21875 25.484375 53.609375 \nQ 29.78125 56 35.6875 56 \nQ 41.65625 56 45.828125 52.96875 \nQ 50 49.953125 52 44.1875 \nz\n\" id=\"DejaVuSans-109\"/>\n        <path id=\"DejaVuSans-32\"/>\n        <path d=\"M 18.109375 8.203125 \nL 18.109375 -20.796875 \nL 9.078125 -20.796875 \nL 9.078125 54.6875 \nL 18.109375 54.6875 \nL 18.109375 46.390625 \nQ 20.953125 51.265625 25.265625 53.625 \nQ 29.59375 56 35.59375 56 \nQ 45.5625 56 51.78125 48.09375 \nQ 58.015625 40.1875 58.015625 27.296875 \nQ 58.015625 14.40625 51.78125 6.484375 \nQ 45.5625 -1.421875 35.59375 -1.421875 \nQ 29.59375 -1.421875 25.265625 0.953125 \nQ 20.953125 3.328125 18.109375 8.203125 \nz\nM 48.6875 27.296875 \nQ 48.6875 37.203125 44.609375 42.84375 \nQ 40.53125 48.484375 33.40625 48.484375 \nQ 26.265625 48.484375 22.1875 42.84375 \nQ 18.109375 37.203125 18.109375 27.296875 \nQ 18.109375 17.390625 22.1875 11.75 \nQ 26.265625 6.109375 33.40625 6.109375 \nQ 40.53125 6.109375 44.609375 11.75 \nQ 48.6875 17.390625 48.6875 27.296875 \nz\n\" id=\"DejaVuSans-112\"/>\n       </defs>\n       <use xlink:href=\"#DejaVuSans-109\"/>\n       <use x=\"97.412109\" xlink:href=\"#DejaVuSans-111\"/>\n       <use x=\"158.59375\" xlink:href=\"#DejaVuSans-98\"/>\n       <use x=\"222.070312\" xlink:href=\"#DejaVuSans-105\"/>\n       <use x=\"249.853516\" xlink:href=\"#DejaVuSans-108\"/>\n       <use x=\"277.636719\" xlink:href=\"#DejaVuSans-101\"/>\n       <use x=\"339.160156\" xlink:href=\"#DejaVuSans-32\"/>\n       <use x=\"370.947266\" xlink:href=\"#DejaVuSans-97\"/>\n       <use x=\"432.226562\" xlink:href=\"#DejaVuSans-112\"/>\n       <use x=\"495.703125\" xlink:href=\"#DejaVuSans-112\"/>\n      </g>\n     </g>\n    </g>\n    <g id=\"text_5\">\n     <!-- Client Type -->\n     <g transform=\"translate(298.41875 407.87875)scale(0.1 -0.1)\">\n      <defs>\n       <path d=\"M 64.40625 67.28125 \nL 64.40625 56.890625 \nQ 59.421875 61.53125 53.78125 63.8125 \nQ 48.140625 66.109375 41.796875 66.109375 \nQ 29.296875 66.109375 22.65625 58.46875 \nQ 16.015625 50.828125 16.015625 36.375 \nQ 16.015625 21.96875 22.65625 14.328125 \nQ 29.296875 6.6875 41.796875 6.6875 \nQ 48.140625 6.6875 53.78125 8.984375 \nQ 59.421875 11.28125 64.40625 15.921875 \nL 64.40625 5.609375 \nQ 59.234375 2.09375 53.4375 0.328125 \nQ 47.65625 -1.421875 41.21875 -1.421875 \nQ 24.65625 -1.421875 15.125 8.703125 \nQ 5.609375 18.84375 5.609375 36.375 \nQ 5.609375 53.953125 15.125 64.078125 \nQ 24.65625 74.21875 41.21875 74.21875 \nQ 47.75 74.21875 53.53125 72.484375 \nQ 59.328125 70.75 64.40625 67.28125 \nz\n\" id=\"DejaVuSans-67\"/>\n       <path d=\"M 18.3125 70.21875 \nL 18.3125 54.6875 \nL 36.8125 54.6875 \nL 36.8125 47.703125 \nL 18.3125 47.703125 \nL 18.3125 18.015625 \nQ 18.3125 11.328125 20.140625 9.421875 \nQ 21.96875 7.515625 27.59375 7.515625 \nL 36.8125 7.515625 \nL 36.8125 0 \nL 27.59375 0 \nQ 17.1875 0 13.234375 3.875 \nQ 9.28125 7.765625 9.28125 18.015625 \nL 9.28125 47.703125 \nL 2.6875 47.703125 \nL 2.6875 54.6875 \nL 9.28125 54.6875 \nL 9.28125 70.21875 \nz\n\" id=\"DejaVuSans-116\"/>\n       <path d=\"M -0.296875 72.90625 \nL 61.375 72.90625 \nL 61.375 64.59375 \nL 35.5 64.59375 \nL 35.5 0 \nL 25.59375 0 \nL 25.59375 64.59375 \nL -0.296875 64.59375 \nz\n\" id=\"DejaVuSans-84\"/>\n      </defs>\n      <use xlink:href=\"#DejaVuSans-67\"/>\n      <use x=\"69.824219\" xlink:href=\"#DejaVuSans-108\"/>\n      <use x=\"97.607422\" xlink:href=\"#DejaVuSans-105\"/>\n      <use x=\"125.390625\" xlink:href=\"#DejaVuSans-101\"/>\n      <use x=\"186.914062\" xlink:href=\"#DejaVuSans-110\"/>\n      <use x=\"250.292969\" xlink:href=\"#DejaVuSans-116\"/>\n      <use x=\"289.501953\" xlink:href=\"#DejaVuSans-32\"/>\n      <use x=\"321.289062\" xlink:href=\"#DejaVuSans-84\"/>\n      <use x=\"366.748047\" xlink:href=\"#DejaVuSans-121\"/>\n      <use x=\"425.927734\" xlink:href=\"#DejaVuSans-112\"/>\n      <use x=\"489.404297\" xlink:href=\"#DejaVuSans-101\"/>\n     </g>\n    </g>\n   </g>\n   <g id=\"matplotlib.axis_2\">\n    <g id=\"ytick_1\">\n     <g id=\"line2d_6\">\n      <defs>\n       <path d=\"M 0 0 \nL -3.5 0 \n\" id=\"me939b27d25\" style=\"stroke:#000000;stroke-width:0.8;\"/>\n      </defs>\n      <g>\n       <use style=\"stroke:#000000;stroke-width:0.8;\" x=\"46.965625\" xlink:href=\"#me939b27d25\" y=\"333.36\"/>\n      </g>\n     </g>\n     <g id=\"text_6\">\n      <!-- 0 -->\n      <g transform=\"translate(33.603125 337.159219)scale(0.1 -0.1)\">\n       <defs>\n        <path d=\"M 31.78125 66.40625 \nQ 24.171875 66.40625 20.328125 58.90625 \nQ 16.5 51.421875 16.5 36.375 \nQ 16.5 21.390625 20.328125 13.890625 \nQ 24.171875 6.390625 31.78125 6.390625 \nQ 39.453125 6.390625 43.28125 13.890625 \nQ 47.125 21.390625 47.125 36.375 \nQ 47.125 51.421875 43.28125 58.90625 \nQ 39.453125 66.40625 31.78125 66.40625 \nz\nM 31.78125 74.21875 \nQ 44.046875 74.21875 50.515625 64.515625 \nQ 56.984375 54.828125 56.984375 36.375 \nQ 56.984375 17.96875 50.515625 8.265625 \nQ 44.046875 -1.421875 31.78125 -1.421875 \nQ 19.53125 -1.421875 13.0625 8.265625 \nQ 6.59375 17.96875 6.59375 36.375 \nQ 6.59375 54.828125 13.0625 64.515625 \nQ 19.53125 74.21875 31.78125 74.21875 \nz\n\" id=\"DejaVuSans-48\"/>\n       </defs>\n       <use xlink:href=\"#DejaVuSans-48\"/>\n      </g>\n     </g>\n    </g>\n    <g id=\"ytick_2\">\n     <g id=\"line2d_7\">\n      <g>\n       <use style=\"stroke:#000000;stroke-width:0.8;\" x=\"46.965625\" xlink:href=\"#me939b27d25\" y=\"294.434114\"/>\n      </g>\n     </g>\n     <g id=\"text_7\">\n      <!-- 100 -->\n      <g transform=\"translate(20.878125 298.233333)scale(0.1 -0.1)\">\n       <defs>\n        <path d=\"M 12.40625 8.296875 \nL 28.515625 8.296875 \nL 28.515625 63.921875 \nL 10.984375 60.40625 \nL 10.984375 69.390625 \nL 28.421875 72.90625 \nL 38.28125 72.90625 \nL 38.28125 8.296875 \nL 54.390625 8.296875 \nL 54.390625 0 \nL 12.40625 0 \nz\n\" id=\"DejaVuSans-49\"/>\n       </defs>\n       <use xlink:href=\"#DejaVuSans-49\"/>\n       <use x=\"63.623047\" xlink:href=\"#DejaVuSans-48\"/>\n       <use x=\"127.246094\" xlink:href=\"#DejaVuSans-48\"/>\n      </g>\n     </g>\n    </g>\n    <g id=\"ytick_3\">\n     <g id=\"line2d_8\">\n      <g>\n       <use style=\"stroke:#000000;stroke-width:0.8;\" x=\"46.965625\" xlink:href=\"#me939b27d25\" y=\"255.508228\"/>\n      </g>\n     </g>\n     <g id=\"text_8\">\n      <!-- 200 -->\n      <g transform=\"translate(20.878125 259.307446)scale(0.1 -0.1)\">\n       <defs>\n        <path d=\"M 19.1875 8.296875 \nL 53.609375 8.296875 \nL 53.609375 0 \nL 7.328125 0 \nL 7.328125 8.296875 \nQ 12.9375 14.109375 22.625 23.890625 \nQ 32.328125 33.6875 34.8125 36.53125 \nQ 39.546875 41.84375 41.421875 45.53125 \nQ 43.3125 49.21875 43.3125 52.78125 \nQ 43.3125 58.59375 39.234375 62.25 \nQ 35.15625 65.921875 28.609375 65.921875 \nQ 23.96875 65.921875 18.8125 64.3125 \nQ 13.671875 62.703125 7.8125 59.421875 \nL 7.8125 69.390625 \nQ 13.765625 71.78125 18.9375 73 \nQ 24.125 74.21875 28.421875 74.21875 \nQ 39.75 74.21875 46.484375 68.546875 \nQ 53.21875 62.890625 53.21875 53.421875 \nQ 53.21875 48.921875 51.53125 44.890625 \nQ 49.859375 40.875 45.40625 35.40625 \nQ 44.1875 33.984375 37.640625 27.21875 \nQ 31.109375 20.453125 19.1875 8.296875 \nz\n\" id=\"DejaVuSans-50\"/>\n       </defs>\n       <use xlink:href=\"#DejaVuSans-50\"/>\n       <use x=\"63.623047\" xlink:href=\"#DejaVuSans-48\"/>\n       <use x=\"127.246094\" xlink:href=\"#DejaVuSans-48\"/>\n      </g>\n     </g>\n    </g>\n    <g id=\"ytick_4\">\n     <g id=\"line2d_9\">\n      <g>\n       <use style=\"stroke:#000000;stroke-width:0.8;\" x=\"46.965625\" xlink:href=\"#me939b27d25\" y=\"216.582342\"/>\n      </g>\n     </g>\n     <g id=\"text_9\">\n      <!-- 300 -->\n      <g transform=\"translate(20.878125 220.38156)scale(0.1 -0.1)\">\n       <defs>\n        <path d=\"M 40.578125 39.3125 \nQ 47.65625 37.796875 51.625 33 \nQ 55.609375 28.21875 55.609375 21.1875 \nQ 55.609375 10.40625 48.1875 4.484375 \nQ 40.765625 -1.421875 27.09375 -1.421875 \nQ 22.515625 -1.421875 17.65625 -0.515625 \nQ 12.796875 0.390625 7.625 2.203125 \nL 7.625 11.71875 \nQ 11.71875 9.328125 16.59375 8.109375 \nQ 21.484375 6.890625 26.8125 6.890625 \nQ 36.078125 6.890625 40.9375 10.546875 \nQ 45.796875 14.203125 45.796875 21.1875 \nQ 45.796875 27.640625 41.28125 31.265625 \nQ 36.765625 34.90625 28.71875 34.90625 \nL 20.21875 34.90625 \nL 20.21875 43.015625 \nL 29.109375 43.015625 \nQ 36.375 43.015625 40.234375 45.921875 \nQ 44.09375 48.828125 44.09375 54.296875 \nQ 44.09375 59.90625 40.109375 62.90625 \nQ 36.140625 65.921875 28.71875 65.921875 \nQ 24.65625 65.921875 20.015625 65.03125 \nQ 15.375 64.15625 9.8125 62.3125 \nL 9.8125 71.09375 \nQ 15.4375 72.65625 20.34375 73.4375 \nQ 25.25 74.21875 29.59375 74.21875 \nQ 40.828125 74.21875 47.359375 69.109375 \nQ 53.90625 64.015625 53.90625 55.328125 \nQ 53.90625 49.265625 50.4375 45.09375 \nQ 46.96875 40.921875 40.578125 39.3125 \nz\n\" id=\"DejaVuSans-51\"/>\n       </defs>\n       <use xlink:href=\"#DejaVuSans-51\"/>\n       <use x=\"63.623047\" xlink:href=\"#DejaVuSans-48\"/>\n       <use x=\"127.246094\" xlink:href=\"#DejaVuSans-48\"/>\n      </g>\n     </g>\n    </g>\n    <g id=\"ytick_5\">\n     <g id=\"line2d_10\">\n      <g>\n       <use style=\"stroke:#000000;stroke-width:0.8;\" x=\"46.965625\" xlink:href=\"#me939b27d25\" y=\"177.656455\"/>\n      </g>\n     </g>\n     <g id=\"text_10\">\n      <!-- 400 -->\n      <g transform=\"translate(20.878125 181.455674)scale(0.1 -0.1)\">\n       <defs>\n        <path d=\"M 37.796875 64.3125 \nL 12.890625 25.390625 \nL 37.796875 25.390625 \nz\nM 35.203125 72.90625 \nL 47.609375 72.90625 \nL 47.609375 25.390625 \nL 58.015625 25.390625 \nL 58.015625 17.1875 \nL 47.609375 17.1875 \nL 47.609375 0 \nL 37.796875 0 \nL 37.796875 17.1875 \nL 4.890625 17.1875 \nL 4.890625 26.703125 \nz\n\" id=\"DejaVuSans-52\"/>\n       </defs>\n       <use xlink:href=\"#DejaVuSans-52\"/>\n       <use x=\"63.623047\" xlink:href=\"#DejaVuSans-48\"/>\n       <use x=\"127.246094\" xlink:href=\"#DejaVuSans-48\"/>\n      </g>\n     </g>\n    </g>\n    <g id=\"ytick_6\">\n     <g id=\"line2d_11\">\n      <g>\n       <use style=\"stroke:#000000;stroke-width:0.8;\" x=\"46.965625\" xlink:href=\"#me939b27d25\" y=\"138.730569\"/>\n      </g>\n     </g>\n     <g id=\"text_11\">\n      <!-- 500 -->\n      <g transform=\"translate(20.878125 142.529788)scale(0.1 -0.1)\">\n       <defs>\n        <path d=\"M 10.796875 72.90625 \nL 49.515625 72.90625 \nL 49.515625 64.59375 \nL 19.828125 64.59375 \nL 19.828125 46.734375 \nQ 21.96875 47.46875 24.109375 47.828125 \nQ 26.265625 48.1875 28.421875 48.1875 \nQ 40.625 48.1875 47.75 41.5 \nQ 54.890625 34.8125 54.890625 23.390625 \nQ 54.890625 11.625 47.5625 5.09375 \nQ 40.234375 -1.421875 26.90625 -1.421875 \nQ 22.3125 -1.421875 17.546875 -0.640625 \nQ 12.796875 0.140625 7.71875 1.703125 \nL 7.71875 11.625 \nQ 12.109375 9.234375 16.796875 8.0625 \nQ 21.484375 6.890625 26.703125 6.890625 \nQ 35.15625 6.890625 40.078125 11.328125 \nQ 45.015625 15.765625 45.015625 23.390625 \nQ 45.015625 31 40.078125 35.4375 \nQ 35.15625 39.890625 26.703125 39.890625 \nQ 22.75 39.890625 18.8125 39.015625 \nQ 14.890625 38.140625 10.796875 36.28125 \nz\n\" id=\"DejaVuSans-53\"/>\n       </defs>\n       <use xlink:href=\"#DejaVuSans-53\"/>\n       <use x=\"63.623047\" xlink:href=\"#DejaVuSans-48\"/>\n       <use x=\"127.246094\" xlink:href=\"#DejaVuSans-48\"/>\n      </g>\n     </g>\n    </g>\n    <g id=\"ytick_7\">\n     <g id=\"line2d_12\">\n      <g>\n       <use style=\"stroke:#000000;stroke-width:0.8;\" x=\"46.965625\" xlink:href=\"#me939b27d25\" y=\"99.804683\"/>\n      </g>\n     </g>\n     <g id=\"text_12\">\n      <!-- 600 -->\n      <g transform=\"translate(20.878125 103.603902)scale(0.1 -0.1)\">\n       <defs>\n        <path d=\"M 33.015625 40.375 \nQ 26.375 40.375 22.484375 35.828125 \nQ 18.609375 31.296875 18.609375 23.390625 \nQ 18.609375 15.53125 22.484375 10.953125 \nQ 26.375 6.390625 33.015625 6.390625 \nQ 39.65625 6.390625 43.53125 10.953125 \nQ 47.40625 15.53125 47.40625 23.390625 \nQ 47.40625 31.296875 43.53125 35.828125 \nQ 39.65625 40.375 33.015625 40.375 \nz\nM 52.59375 71.296875 \nL 52.59375 62.3125 \nQ 48.875 64.0625 45.09375 64.984375 \nQ 41.3125 65.921875 37.59375 65.921875 \nQ 27.828125 65.921875 22.671875 59.328125 \nQ 17.53125 52.734375 16.796875 39.40625 \nQ 19.671875 43.65625 24.015625 45.921875 \nQ 28.375 48.1875 33.59375 48.1875 \nQ 44.578125 48.1875 50.953125 41.515625 \nQ 57.328125 34.859375 57.328125 23.390625 \nQ 57.328125 12.15625 50.6875 5.359375 \nQ 44.046875 -1.421875 33.015625 -1.421875 \nQ 20.359375 -1.421875 13.671875 8.265625 \nQ 6.984375 17.96875 6.984375 36.375 \nQ 6.984375 53.65625 15.1875 63.9375 \nQ 23.390625 74.21875 37.203125 74.21875 \nQ 40.921875 74.21875 44.703125 73.484375 \nQ 48.484375 72.75 52.59375 71.296875 \nz\n\" id=\"DejaVuSans-54\"/>\n       </defs>\n       <use xlink:href=\"#DejaVuSans-54\"/>\n       <use x=\"63.623047\" xlink:href=\"#DejaVuSans-48\"/>\n       <use x=\"127.246094\" xlink:href=\"#DejaVuSans-48\"/>\n      </g>\n     </g>\n    </g>\n    <g id=\"ytick_8\">\n     <g id=\"line2d_13\">\n      <g>\n       <use style=\"stroke:#000000;stroke-width:0.8;\" x=\"46.965625\" xlink:href=\"#me939b27d25\" y=\"60.878797\"/>\n      </g>\n     </g>\n     <g id=\"text_13\">\n      <!-- 700 -->\n      <g transform=\"translate(20.878125 64.678016)scale(0.1 -0.1)\">\n       <defs>\n        <path d=\"M 8.203125 72.90625 \nL 55.078125 72.90625 \nL 55.078125 68.703125 \nL 28.609375 0 \nL 18.3125 0 \nL 43.21875 64.59375 \nL 8.203125 64.59375 \nz\n\" id=\"DejaVuSans-55\"/>\n       </defs>\n       <use xlink:href=\"#DejaVuSans-55\"/>\n       <use x=\"63.623047\" xlink:href=\"#DejaVuSans-48\"/>\n       <use x=\"127.246094\" xlink:href=\"#DejaVuSans-48\"/>\n      </g>\n     </g>\n    </g>\n    <g id=\"ytick_9\">\n     <g id=\"line2d_14\">\n      <g>\n       <use style=\"stroke:#000000;stroke-width:0.8;\" x=\"46.965625\" xlink:href=\"#me939b27d25\" y=\"21.952911\"/>\n      </g>\n     </g>\n     <g id=\"text_14\">\n      <!-- 800 -->\n      <g transform=\"translate(20.878125 25.75213)scale(0.1 -0.1)\">\n       <defs>\n        <path d=\"M 31.78125 34.625 \nQ 24.75 34.625 20.71875 30.859375 \nQ 16.703125 27.09375 16.703125 20.515625 \nQ 16.703125 13.921875 20.71875 10.15625 \nQ 24.75 6.390625 31.78125 6.390625 \nQ 38.8125 6.390625 42.859375 10.171875 \nQ 46.921875 13.96875 46.921875 20.515625 \nQ 46.921875 27.09375 42.890625 30.859375 \nQ 38.875 34.625 31.78125 34.625 \nz\nM 21.921875 38.8125 \nQ 15.578125 40.375 12.03125 44.71875 \nQ 8.5 49.078125 8.5 55.328125 \nQ 8.5 64.0625 14.71875 69.140625 \nQ 20.953125 74.21875 31.78125 74.21875 \nQ 42.671875 74.21875 48.875 69.140625 \nQ 55.078125 64.0625 55.078125 55.328125 \nQ 55.078125 49.078125 51.53125 44.71875 \nQ 48 40.375 41.703125 38.8125 \nQ 48.828125 37.15625 52.796875 32.3125 \nQ 56.78125 27.484375 56.78125 20.515625 \nQ 56.78125 9.90625 50.3125 4.234375 \nQ 43.84375 -1.421875 31.78125 -1.421875 \nQ 19.734375 -1.421875 13.25 4.234375 \nQ 6.78125 9.90625 6.78125 20.515625 \nQ 6.78125 27.484375 10.78125 32.3125 \nQ 14.796875 37.15625 21.921875 38.8125 \nz\nM 18.3125 54.390625 \nQ 18.3125 48.734375 21.84375 45.5625 \nQ 25.390625 42.390625 31.78125 42.390625 \nQ 38.140625 42.390625 41.71875 45.5625 \nQ 45.3125 48.734375 45.3125 54.390625 \nQ 45.3125 60.0625 41.71875 63.234375 \nQ 38.140625 66.40625 31.78125 66.40625 \nQ 25.390625 66.40625 21.84375 63.234375 \nQ 18.3125 60.0625 18.3125 54.390625 \nz\n\" id=\"DejaVuSans-56\"/>\n       </defs>\n       <use xlink:href=\"#DejaVuSans-56\"/>\n       <use x=\"63.623047\" xlink:href=\"#DejaVuSans-48\"/>\n       <use x=\"127.246094\" xlink:href=\"#DejaVuSans-48\"/>\n      </g>\n     </g>\n    </g>\n    <g id=\"text_15\">\n     <!-- Frequency -->\n     <g transform=\"translate(14.798437 196.109688)rotate(-90)scale(0.1 -0.1)\">\n      <defs>\n       <path d=\"M 9.8125 72.90625 \nL 51.703125 72.90625 \nL 51.703125 64.59375 \nL 19.671875 64.59375 \nL 19.671875 43.109375 \nL 48.578125 43.109375 \nL 48.578125 34.8125 \nL 19.671875 34.8125 \nL 19.671875 0 \nL 9.8125 0 \nz\n\" id=\"DejaVuSans-70\"/>\n       <path d=\"M 14.796875 27.296875 \nQ 14.796875 17.390625 18.875 11.75 \nQ 22.953125 6.109375 30.078125 6.109375 \nQ 37.203125 6.109375 41.296875 11.75 \nQ 45.40625 17.390625 45.40625 27.296875 \nQ 45.40625 37.203125 41.296875 42.84375 \nQ 37.203125 48.484375 30.078125 48.484375 \nQ 22.953125 48.484375 18.875 42.84375 \nQ 14.796875 37.203125 14.796875 27.296875 \nz\nM 45.40625 8.203125 \nQ 42.578125 3.328125 38.25 0.953125 \nQ 33.9375 -1.421875 27.875 -1.421875 \nQ 17.96875 -1.421875 11.734375 6.484375 \nQ 5.515625 14.40625 5.515625 27.296875 \nQ 5.515625 40.1875 11.734375 48.09375 \nQ 17.96875 56 27.875 56 \nQ 33.9375 56 38.25 53.625 \nQ 42.578125 51.265625 45.40625 46.390625 \nL 45.40625 54.6875 \nL 54.390625 54.6875 \nL 54.390625 -20.796875 \nL 45.40625 -20.796875 \nz\n\" id=\"DejaVuSans-113\"/>\n       <path d=\"M 8.5 21.578125 \nL 8.5 54.6875 \nL 17.484375 54.6875 \nL 17.484375 21.921875 \nQ 17.484375 14.15625 20.5 10.265625 \nQ 23.53125 6.390625 29.59375 6.390625 \nQ 36.859375 6.390625 41.078125 11.03125 \nQ 45.3125 15.671875 45.3125 23.6875 \nL 45.3125 54.6875 \nL 54.296875 54.6875 \nL 54.296875 0 \nL 45.3125 0 \nL 45.3125 8.40625 \nQ 42.046875 3.421875 37.71875 1 \nQ 33.40625 -1.421875 27.6875 -1.421875 \nQ 18.265625 -1.421875 13.375 4.4375 \nQ 8.5 10.296875 8.5 21.578125 \nz\nM 31.109375 56 \nz\n\" id=\"DejaVuSans-117\"/>\n      </defs>\n      <use xlink:href=\"#DejaVuSans-70\"/>\n      <use x=\"50.269531\" xlink:href=\"#DejaVuSans-114\"/>\n      <use x=\"89.132812\" xlink:href=\"#DejaVuSans-101\"/>\n      <use x=\"150.65625\" xlink:href=\"#DejaVuSans-113\"/>\n      <use x=\"214.132812\" xlink:href=\"#DejaVuSans-117\"/>\n      <use x=\"277.511719\" xlink:href=\"#DejaVuSans-101\"/>\n      <use x=\"339.035156\" xlink:href=\"#DejaVuSans-110\"/>\n      <use x=\"402.414062\" xlink:href=\"#DejaVuSans-99\"/>\n      <use x=\"457.394531\" xlink:href=\"#DejaVuSans-121\"/>\n     </g>\n    </g>\n   </g>\n   <g id=\"patch_8\">\n    <path d=\"M 46.965625 333.36 \nL 46.965625 7.2 \n\" style=\"fill:none;stroke:#000000;stroke-linecap:square;stroke-linejoin:miter;stroke-width:0.8;\"/>\n   </g>\n   <g id=\"patch_9\">\n    <path d=\"M 604.965625 333.36 \nL 604.965625 7.2 \n\" style=\"fill:none;stroke:#000000;stroke-linecap:square;stroke-linejoin:miter;stroke-width:0.8;\"/>\n   </g>\n   <g id=\"patch_10\">\n    <path d=\"M 46.965625 333.36 \nL 604.965625 333.36 \n\" style=\"fill:none;stroke:#000000;stroke-linecap:square;stroke-linejoin:miter;stroke-width:0.8;\"/>\n   </g>\n   <g id=\"patch_11\">\n    <path d=\"M 46.965625 7.2 \nL 604.965625 7.2 \n\" style=\"fill:none;stroke:#000000;stroke-linecap:square;stroke-linejoin:miter;stroke-width:0.8;\"/>\n   </g>\n  </g>\n </g>\n <defs>\n  <clipPath id=\"p8fd35852c2\">\n   <rect height=\"326.16\" width=\"558\" x=\"46.965625\" y=\"7.2\"/>\n  </clipPath>\n </defs>\n</svg>\n",
      "image/png": "[encoded data removed]"
     },
     "metadata": {
      "needs_background": "light"
     }
    }
   ],
   "source": [
    "graph = Logs_copy[['Client Type', 'Date']].groupby(['Client Type']).count().sort_values(by = 'Date',ascending = False)\n",
    "graph = graph.rename(columns = {'Date' : 'Frequency'})\n",
    "graph.plot.bar(y = 'Frequency', color = 'y', ylabel = 'Frequency', legend = None, figsize = (10,6))\n",
    "plt.show()"
   ]
  },
  {
   "cell_type": "code",
   "execution_count": 35,
   "metadata": {},
   "outputs": [
    {
     "output_type": "execute_result",
     "data": {
      "text/plain": [
       "<seaborn.axisgrid.FacetGrid at 0x7fc1fe5aab20>"
      ]
     },
     "metadata": {},
     "execution_count": 35
    },
    {
     "output_type": "display_data",
     "data": {
      "text/plain": "<Figure size 502.125x360 with 1 Axes>",
      "image/svg+xml": "<?xml version=\"1.0\" encoding=\"utf-8\" standalone=\"no\"?>\n<!DOCTYPE svg PUBLIC \"-//W3C//DTD SVG 1.1//EN\"\n  \"http://www.w3.org/Graphics/SVG/1.1/DTD/svg11.dtd\">\n<!-- Created with matplotlib (https://matplotlib.org/) -->\n<svg height=\"352.15625pt\" version=\"1.1\" viewBox=\"0 0 500.365625 352.15625\" width=\"500.365625pt\" xmlns=\"http://www.w3.org/2000/svg\" xmlns:xlink=\"http://www.w3.org/1999/xlink\">\n <metadata>\n  <rdf:RDF xmlns:cc=\"http://creativecommons.org/ns#\" xmlns:dc=\"http://purl.org/dc/elements/1.1/\" xmlns:rdf=\"http://www.w3.org/1999/02/22-rdf-syntax-ns#\">\n   <cc:Work>\n    <dc:type rdf:resource=\"http://purl.org/dc/dcmitype/StillImage\"/>\n    <dc:date>2021-03-04T18:38:10.614875</dc:date>\n    <dc:format>image/svg+xml</dc:format>\n    <dc:creator>\n     <cc:Agent>\n      <dc:title>Matplotlib v3.3.2, https://matplotlib.org/</dc:title>\n     </cc:Agent>\n    </dc:creator>\n   </cc:Work>\n  </rdf:RDF>\n </metadata>\n <defs>\n  <style type=\"text/css\">*{stroke-linecap:butt;stroke-linejoin:round;}</style>\n </defs>\n <g id=\"figure_1\">\n  <g id=\"patch_1\">\n   <path d=\"M 0 352.15625 \nL 500.365625 352.15625 \nL 500.365625 0 \nL 0 0 \nz\n\" style=\"fill:none;\"/>\n  </g>\n  <g id=\"axes_1\">\n   <g id=\"patch_2\">\n    <path d=\"M 46.965625 314.6 \nL 340.219375 314.6 \nL 340.219375 7.2 \nL 46.965625 7.2 \nz\n\" style=\"fill:#ffffff;\"/>\n   </g>\n   <g id=\"patch_3\">\n    <path clip-path=\"url(#pf6a347e119)\" d=\"M 60.295341 314.6 \nL 113.614205 314.6 \nL 113.614205 156.647431 \nL 60.295341 156.647431 \nz\n\" style=\"fill:#1f77b4;fill-opacity:0.75;stroke:#000000;stroke-linejoin:miter;\"/>\n   </g>\n   <g id=\"patch_4\">\n    <path clip-path=\"url(#pf6a347e119)\" d=\"M 113.614205 314.6 \nL 166.933068 314.6 \nL 166.933068 147.390137 \nL 113.614205 147.390137 \nz\n\" style=\"fill:#1f77b4;fill-opacity:0.75;stroke:#000000;stroke-linejoin:miter;\"/>\n   </g>\n   <g id=\"patch_5\">\n    <path clip-path=\"url(#pf6a347e119)\" d=\"M 166.933068 314.6 \nL 220.251932 314.6 \nL 220.251932 305.921287 \nL 166.933068 305.921287 \nz\n\" style=\"fill:#1f77b4;fill-opacity:0.75;stroke:#000000;stroke-linejoin:miter;\"/>\n   </g>\n   <g id=\"patch_6\">\n    <path clip-path=\"url(#pf6a347e119)\" d=\"M 220.251932 314.6 \nL 273.570795 314.6 \nL 273.570795 21.838095 \nL 220.251932 21.838095 \nz\n\" style=\"fill:#1f77b4;fill-opacity:0.75;stroke:#000000;stroke-linejoin:miter;\"/>\n   </g>\n   <g id=\"patch_7\">\n    <path clip-path=\"url(#pf6a347e119)\" d=\"M 273.570795 314.6 \nL 326.889659 314.6 \nL 326.889659 303.606964 \nL 273.570795 303.606964 \nz\n\" style=\"fill:#1f77b4;fill-opacity:0.75;stroke:#000000;stroke-linejoin:miter;\"/>\n   </g>\n   <g id=\"matplotlib.axis_1\">\n    <g id=\"xtick_1\">\n     <g id=\"line2d_1\">\n      <defs>\n       <path d=\"M 0 0 \nL 0 3.5 \n\" id=\"m2d2a42fe40\" style=\"stroke:#000000;stroke-width:0.8;\"/>\n      </defs>\n      <g>\n       <use style=\"stroke:#000000;stroke-width:0.8;\" x=\"86.954773\" xlink:href=\"#m2d2a42fe40\" y=\"314.6\"/>\n      </g>\n     </g>\n     <g id=\"text_1\">\n      <!-- Android -->\n      <g transform=\"translate(67.625866 329.198437)scale(0.1 -0.1)\">\n       <defs>\n        <path d=\"M 34.1875 63.1875 \nL 20.796875 26.90625 \nL 47.609375 26.90625 \nz\nM 28.609375 72.90625 \nL 39.796875 72.90625 \nL 67.578125 0 \nL 57.328125 0 \nL 50.6875 18.703125 \nL 17.828125 18.703125 \nL 11.1875 0 \nL 0.78125 0 \nz\n\" id=\"DejaVuSans-65\"/>\n        <path d=\"M 54.890625 33.015625 \nL 54.890625 0 \nL 45.90625 0 \nL 45.90625 32.71875 \nQ 45.90625 40.484375 42.875 44.328125 \nQ 39.84375 48.1875 33.796875 48.1875 \nQ 26.515625 48.1875 22.3125 43.546875 \nQ 18.109375 38.921875 18.109375 30.90625 \nL 18.109375 0 \nL 9.078125 0 \nL 9.078125 54.6875 \nL 18.109375 54.6875 \nL 18.109375 46.1875 \nQ 21.34375 51.125 25.703125 53.5625 \nQ 30.078125 56 35.796875 56 \nQ 45.21875 56 50.046875 50.171875 \nQ 54.890625 44.34375 54.890625 33.015625 \nz\n\" id=\"DejaVuSans-110\"/>\n        <path d=\"M 45.40625 46.390625 \nL 45.40625 75.984375 \nL 54.390625 75.984375 \nL 54.390625 0 \nL 45.40625 0 \nL 45.40625 8.203125 \nQ 42.578125 3.328125 38.25 0.953125 \nQ 33.9375 -1.421875 27.875 -1.421875 \nQ 17.96875 -1.421875 11.734375 6.484375 \nQ 5.515625 14.40625 5.515625 27.296875 \nQ 5.515625 40.1875 11.734375 48.09375 \nQ 17.96875 56 27.875 56 \nQ 33.9375 56 38.25 53.625 \nQ 42.578125 51.265625 45.40625 46.390625 \nz\nM 14.796875 27.296875 \nQ 14.796875 17.390625 18.875 11.75 \nQ 22.953125 6.109375 30.078125 6.109375 \nQ 37.203125 6.109375 41.296875 11.75 \nQ 45.40625 17.390625 45.40625 27.296875 \nQ 45.40625 37.203125 41.296875 42.84375 \nQ 37.203125 48.484375 30.078125 48.484375 \nQ 22.953125 48.484375 18.875 42.84375 \nQ 14.796875 37.203125 14.796875 27.296875 \nz\n\" id=\"DejaVuSans-100\"/>\n        <path d=\"M 41.109375 46.296875 \nQ 39.59375 47.171875 37.8125 47.578125 \nQ 36.03125 48 33.890625 48 \nQ 26.265625 48 22.1875 43.046875 \nQ 18.109375 38.09375 18.109375 28.8125 \nL 18.109375 0 \nL 9.078125 0 \nL 9.078125 54.6875 \nL 18.109375 54.6875 \nL 18.109375 46.1875 \nQ 20.953125 51.171875 25.484375 53.578125 \nQ 30.03125 56 36.53125 56 \nQ 37.453125 56 38.578125 55.875 \nQ 39.703125 55.765625 41.0625 55.515625 \nz\n\" id=\"DejaVuSans-114\"/>\n        <path d=\"M 30.609375 48.390625 \nQ 23.390625 48.390625 19.1875 42.75 \nQ 14.984375 37.109375 14.984375 27.296875 \nQ 14.984375 17.484375 19.15625 11.84375 \nQ 23.34375 6.203125 30.609375 6.203125 \nQ 37.796875 6.203125 41.984375 11.859375 \nQ 46.1875 17.53125 46.1875 27.296875 \nQ 46.1875 37.015625 41.984375 42.703125 \nQ 37.796875 48.390625 30.609375 48.390625 \nz\nM 30.609375 56 \nQ 42.328125 56 49.015625 48.375 \nQ 55.71875 40.765625 55.71875 27.296875 \nQ 55.71875 13.875 49.015625 6.21875 \nQ 42.328125 -1.421875 30.609375 -1.421875 \nQ 18.84375 -1.421875 12.171875 6.21875 \nQ 5.515625 13.875 5.515625 27.296875 \nQ 5.515625 40.765625 12.171875 48.375 \nQ 18.84375 56 30.609375 56 \nz\n\" id=\"DejaVuSans-111\"/>\n        <path d=\"M 9.421875 54.6875 \nL 18.40625 54.6875 \nL 18.40625 0 \nL 9.421875 0 \nz\nM 9.421875 75.984375 \nL 18.40625 75.984375 \nL 18.40625 64.59375 \nL 9.421875 64.59375 \nz\n\" id=\"DejaVuSans-105\"/>\n       </defs>\n       <use xlink:href=\"#DejaVuSans-65\"/>\n       <use x=\"68.408203\" xlink:href=\"#DejaVuSans-110\"/>\n       <use x=\"131.787109\" xlink:href=\"#DejaVuSans-100\"/>\n       <use x=\"195.263672\" xlink:href=\"#DejaVuSans-114\"/>\n       <use x=\"234.126953\" xlink:href=\"#DejaVuSans-111\"/>\n       <use x=\"295.308594\" xlink:href=\"#DejaVuSans-105\"/>\n       <use x=\"323.091797\" xlink:href=\"#DejaVuSans-100\"/>\n      </g>\n     </g>\n    </g>\n    <g id=\"xtick_2\">\n     <g id=\"line2d_2\">\n      <g>\n       <use style=\"stroke:#000000;stroke-width:0.8;\" x=\"140.273636\" xlink:href=\"#m2d2a42fe40\" y=\"314.6\"/>\n      </g>\n     </g>\n    </g>\n    <g id=\"xtick_3\">\n     <g id=\"line2d_3\">\n      <g>\n       <use style=\"stroke:#000000;stroke-width:0.8;\" x=\"193.5925\" xlink:href=\"#m2d2a42fe40\" y=\"314.6\"/>\n      </g>\n     </g>\n     <g id=\"text_2\">\n      <!-- GNU/Linux -->\n      <g transform=\"translate(167.162031 329.198437)scale(0.1 -0.1)\">\n       <defs>\n        <path d=\"M 59.515625 10.40625 \nL 59.515625 29.984375 \nL 43.40625 29.984375 \nL 43.40625 38.09375 \nL 69.28125 38.09375 \nL 69.28125 6.78125 \nQ 63.578125 2.734375 56.6875 0.65625 \nQ 49.8125 -1.421875 42 -1.421875 \nQ 24.90625 -1.421875 15.25 8.5625 \nQ 5.609375 18.5625 5.609375 36.375 \nQ 5.609375 54.25 15.25 64.234375 \nQ 24.90625 74.21875 42 74.21875 \nQ 49.125 74.21875 55.546875 72.453125 \nQ 61.96875 70.703125 67.390625 67.28125 \nL 67.390625 56.78125 \nQ 61.921875 61.421875 55.765625 63.765625 \nQ 49.609375 66.109375 42.828125 66.109375 \nQ 29.4375 66.109375 22.71875 58.640625 \nQ 16.015625 51.171875 16.015625 36.375 \nQ 16.015625 21.625 22.71875 14.15625 \nQ 29.4375 6.6875 42.828125 6.6875 \nQ 48.046875 6.6875 52.140625 7.59375 \nQ 56.25 8.5 59.515625 10.40625 \nz\n\" id=\"DejaVuSans-71\"/>\n        <path d=\"M 9.8125 72.90625 \nL 23.09375 72.90625 \nL 55.421875 11.921875 \nL 55.421875 72.90625 \nL 64.984375 72.90625 \nL 64.984375 0 \nL 51.703125 0 \nL 19.390625 60.984375 \nL 19.390625 0 \nL 9.8125 0 \nz\n\" id=\"DejaVuSans-78\"/>\n        <path d=\"M 8.6875 72.90625 \nL 18.609375 72.90625 \nL 18.609375 28.609375 \nQ 18.609375 16.890625 22.84375 11.734375 \nQ 27.09375 6.59375 36.625 6.59375 \nQ 46.09375 6.59375 50.34375 11.734375 \nQ 54.59375 16.890625 54.59375 28.609375 \nL 54.59375 72.90625 \nL 64.5 72.90625 \nL 64.5 27.390625 \nQ 64.5 13.140625 57.4375 5.859375 \nQ 50.390625 -1.421875 36.625 -1.421875 \nQ 22.796875 -1.421875 15.734375 5.859375 \nQ 8.6875 13.140625 8.6875 27.390625 \nz\n\" id=\"DejaVuSans-85\"/>\n        <path d=\"M 25.390625 72.90625 \nL 33.6875 72.90625 \nL 8.296875 -9.28125 \nL 0 -9.28125 \nz\n\" id=\"DejaVuSans-47\"/>\n        <path d=\"M 9.8125 72.90625 \nL 19.671875 72.90625 \nL 19.671875 8.296875 \nL 55.171875 8.296875 \nL 55.171875 0 \nL 9.8125 0 \nz\n\" id=\"DejaVuSans-76\"/>\n        <path d=\"M 8.5 21.578125 \nL 8.5 54.6875 \nL 17.484375 54.6875 \nL 17.484375 21.921875 \nQ 17.484375 14.15625 20.5 10.265625 \nQ 23.53125 6.390625 29.59375 6.390625 \nQ 36.859375 6.390625 41.078125 11.03125 \nQ 45.3125 15.671875 45.3125 23.6875 \nL 45.3125 54.6875 \nL 54.296875 54.6875 \nL 54.296875 0 \nL 45.3125 0 \nL 45.3125 8.40625 \nQ 42.046875 3.421875 37.71875 1 \nQ 33.40625 -1.421875 27.6875 -1.421875 \nQ 18.265625 -1.421875 13.375 4.4375 \nQ 8.5 10.296875 8.5 21.578125 \nz\nM 31.109375 56 \nz\n\" id=\"DejaVuSans-117\"/>\n        <path d=\"M 54.890625 54.6875 \nL 35.109375 28.078125 \nL 55.90625 0 \nL 45.3125 0 \nL 29.390625 21.484375 \nL 13.484375 0 \nL 2.875 0 \nL 24.125 28.609375 \nL 4.6875 54.6875 \nL 15.28125 54.6875 \nL 29.78125 35.203125 \nL 44.28125 54.6875 \nz\n\" id=\"DejaVuSans-120\"/>\n       </defs>\n       <use xlink:href=\"#DejaVuSans-71\"/>\n       <use x=\"77.490234\" xlink:href=\"#DejaVuSans-78\"/>\n       <use x=\"152.294922\" xlink:href=\"#DejaVuSans-85\"/>\n       <use x=\"225.488281\" xlink:href=\"#DejaVuSans-47\"/>\n       <use x=\"259.179688\" xlink:href=\"#DejaVuSans-76\"/>\n       <use x=\"314.892578\" xlink:href=\"#DejaVuSans-105\"/>\n       <use x=\"342.675781\" xlink:href=\"#DejaVuSans-110\"/>\n       <use x=\"406.054688\" xlink:href=\"#DejaVuSans-117\"/>\n       <use x=\"469.433594\" xlink:href=\"#DejaVuSans-120\"/>\n      </g>\n     </g>\n    </g>\n    <g id=\"xtick_4\">\n     <g id=\"line2d_4\">\n      <g>\n       <use style=\"stroke:#000000;stroke-width:0.8;\" x=\"246.911364\" xlink:href=\"#m2d2a42fe40\" y=\"314.6\"/>\n      </g>\n     </g>\n     <g id=\"text_3\">\n      <!-- Windows -->\n      <g transform=\"translate(224.594957 329.198437)scale(0.1 -0.1)\">\n       <defs>\n        <path d=\"M 3.328125 72.90625 \nL 13.28125 72.90625 \nL 28.609375 11.28125 \nL 43.890625 72.90625 \nL 54.984375 72.90625 \nL 70.3125 11.28125 \nL 85.59375 72.90625 \nL 95.609375 72.90625 \nL 77.296875 0 \nL 64.890625 0 \nL 49.515625 63.28125 \nL 33.984375 0 \nL 21.578125 0 \nz\n\" id=\"DejaVuSans-87\"/>\n        <path d=\"M 4.203125 54.6875 \nL 13.1875 54.6875 \nL 24.421875 12.015625 \nL 35.59375 54.6875 \nL 46.1875 54.6875 \nL 57.421875 12.015625 \nL 68.609375 54.6875 \nL 77.59375 54.6875 \nL 63.28125 0 \nL 52.6875 0 \nL 40.921875 44.828125 \nL 29.109375 0 \nL 18.5 0 \nz\n\" id=\"DejaVuSans-119\"/>\n        <path d=\"M 44.28125 53.078125 \nL 44.28125 44.578125 \nQ 40.484375 46.53125 36.375 47.5 \nQ 32.28125 48.484375 27.875 48.484375 \nQ 21.1875 48.484375 17.84375 46.4375 \nQ 14.5 44.390625 14.5 40.28125 \nQ 14.5 37.15625 16.890625 35.375 \nQ 19.28125 33.59375 26.515625 31.984375 \nL 29.59375 31.296875 \nQ 39.15625 29.25 43.1875 25.515625 \nQ 47.21875 21.78125 47.21875 15.09375 \nQ 47.21875 7.46875 41.1875 3.015625 \nQ 35.15625 -1.421875 24.609375 -1.421875 \nQ 20.21875 -1.421875 15.453125 -0.5625 \nQ 10.6875 0.296875 5.421875 2 \nL 5.421875 11.28125 \nQ 10.40625 8.6875 15.234375 7.390625 \nQ 20.0625 6.109375 24.8125 6.109375 \nQ 31.15625 6.109375 34.5625 8.28125 \nQ 37.984375 10.453125 37.984375 14.40625 \nQ 37.984375 18.0625 35.515625 20.015625 \nQ 33.0625 21.96875 24.703125 23.78125 \nL 21.578125 24.515625 \nQ 13.234375 26.265625 9.515625 29.90625 \nQ 5.8125 33.546875 5.8125 39.890625 \nQ 5.8125 47.609375 11.28125 51.796875 \nQ 16.75 56 26.8125 56 \nQ 31.78125 56 36.171875 55.265625 \nQ 40.578125 54.546875 44.28125 53.078125 \nz\n\" id=\"DejaVuSans-115\"/>\n       </defs>\n       <use xlink:href=\"#DejaVuSans-87\"/>\n       <use x=\"96.626953\" xlink:href=\"#DejaVuSans-105\"/>\n       <use x=\"124.410156\" xlink:href=\"#DejaVuSans-110\"/>\n       <use x=\"187.789062\" xlink:href=\"#DejaVuSans-100\"/>\n       <use x=\"251.265625\" xlink:href=\"#DejaVuSans-111\"/>\n       <use x=\"312.447266\" xlink:href=\"#DejaVuSans-119\"/>\n       <use x=\"394.234375\" xlink:href=\"#DejaVuSans-115\"/>\n      </g>\n     </g>\n    </g>\n    <g id=\"xtick_5\">\n     <g id=\"line2d_5\">\n      <g>\n       <use style=\"stroke:#000000;stroke-width:0.8;\" x=\"300.230227\" xlink:href=\"#m2d2a42fe40\" y=\"314.6\"/>\n      </g>\n     </g>\n     <g id=\"text_4\">\n      <!-- iOS -->\n      <g transform=\"translate(291.731009 329.198437)scale(0.1 -0.1)\">\n       <defs>\n        <path d=\"M 39.40625 66.21875 \nQ 28.65625 66.21875 22.328125 58.203125 \nQ 16.015625 50.203125 16.015625 36.375 \nQ 16.015625 22.609375 22.328125 14.59375 \nQ 28.65625 6.59375 39.40625 6.59375 \nQ 50.140625 6.59375 56.421875 14.59375 \nQ 62.703125 22.609375 62.703125 36.375 \nQ 62.703125 50.203125 56.421875 58.203125 \nQ 50.140625 66.21875 39.40625 66.21875 \nz\nM 39.40625 74.21875 \nQ 54.734375 74.21875 63.90625 63.9375 \nQ 73.09375 53.65625 73.09375 36.375 \nQ 73.09375 19.140625 63.90625 8.859375 \nQ 54.734375 -1.421875 39.40625 -1.421875 \nQ 24.03125 -1.421875 14.8125 8.828125 \nQ 5.609375 19.09375 5.609375 36.375 \nQ 5.609375 53.65625 14.8125 63.9375 \nQ 24.03125 74.21875 39.40625 74.21875 \nz\n\" id=\"DejaVuSans-79\"/>\n        <path d=\"M 53.515625 70.515625 \nL 53.515625 60.890625 \nQ 47.90625 63.578125 42.921875 64.890625 \nQ 37.9375 66.21875 33.296875 66.21875 \nQ 25.25 66.21875 20.875 63.09375 \nQ 16.5 59.96875 16.5 54.203125 \nQ 16.5 49.359375 19.40625 46.890625 \nQ 22.3125 44.4375 30.421875 42.921875 \nL 36.375 41.703125 \nQ 47.40625 39.59375 52.65625 34.296875 \nQ 57.90625 29 57.90625 20.125 \nQ 57.90625 9.515625 50.796875 4.046875 \nQ 43.703125 -1.421875 29.984375 -1.421875 \nQ 24.8125 -1.421875 18.96875 -0.25 \nQ 13.140625 0.921875 6.890625 3.21875 \nL 6.890625 13.375 \nQ 12.890625 10.015625 18.65625 8.296875 \nQ 24.421875 6.59375 29.984375 6.59375 \nQ 38.421875 6.59375 43.015625 9.90625 \nQ 47.609375 13.234375 47.609375 19.390625 \nQ 47.609375 24.75 44.3125 27.78125 \nQ 41.015625 30.8125 33.5 32.328125 \nL 27.484375 33.5 \nQ 16.453125 35.6875 11.515625 40.375 \nQ 6.59375 45.0625 6.59375 53.421875 \nQ 6.59375 63.09375 13.40625 68.65625 \nQ 20.21875 74.21875 32.171875 74.21875 \nQ 37.3125 74.21875 42.625 73.28125 \nQ 47.953125 72.359375 53.515625 70.515625 \nz\n\" id=\"DejaVuSans-83\"/>\n       </defs>\n       <use xlink:href=\"#DejaVuSans-105\"/>\n       <use x=\"27.783203\" xlink:href=\"#DejaVuSans-79\"/>\n       <use x=\"106.494141\" xlink:href=\"#DejaVuSans-83\"/>\n      </g>\n     </g>\n    </g>\n    <g id=\"text_5\">\n     <!-- Os Name -->\n     <g transform=\"translate(170.71125 342.876562)scale(0.1 -0.1)\">\n      <defs>\n       <path id=\"DejaVuSans-32\"/>\n       <path d=\"M 34.28125 27.484375 \nQ 23.390625 27.484375 19.1875 25 \nQ 14.984375 22.515625 14.984375 16.5 \nQ 14.984375 11.71875 18.140625 8.90625 \nQ 21.296875 6.109375 26.703125 6.109375 \nQ 34.1875 6.109375 38.703125 11.40625 \nQ 43.21875 16.703125 43.21875 25.484375 \nL 43.21875 27.484375 \nz\nM 52.203125 31.203125 \nL 52.203125 0 \nL 43.21875 0 \nL 43.21875 8.296875 \nQ 40.140625 3.328125 35.546875 0.953125 \nQ 30.953125 -1.421875 24.3125 -1.421875 \nQ 15.921875 -1.421875 10.953125 3.296875 \nQ 6 8.015625 6 15.921875 \nQ 6 25.140625 12.171875 29.828125 \nQ 18.359375 34.515625 30.609375 34.515625 \nL 43.21875 34.515625 \nL 43.21875 35.40625 \nQ 43.21875 41.609375 39.140625 45 \nQ 35.0625 48.390625 27.6875 48.390625 \nQ 23 48.390625 18.546875 47.265625 \nQ 14.109375 46.140625 10.015625 43.890625 \nL 10.015625 52.203125 \nQ 14.9375 54.109375 19.578125 55.046875 \nQ 24.21875 56 28.609375 56 \nQ 40.484375 56 46.34375 49.84375 \nQ 52.203125 43.703125 52.203125 31.203125 \nz\n\" id=\"DejaVuSans-97\"/>\n       <path d=\"M 52 44.1875 \nQ 55.375 50.25 60.0625 53.125 \nQ 64.75 56 71.09375 56 \nQ 79.640625 56 84.28125 50.015625 \nQ 88.921875 44.046875 88.921875 33.015625 \nL 88.921875 0 \nL 79.890625 0 \nL 79.890625 32.71875 \nQ 79.890625 40.578125 77.09375 44.375 \nQ 74.3125 48.1875 68.609375 48.1875 \nQ 61.625 48.1875 57.5625 43.546875 \nQ 53.515625 38.921875 53.515625 30.90625 \nL 53.515625 0 \nL 44.484375 0 \nL 44.484375 32.71875 \nQ 44.484375 40.625 41.703125 44.40625 \nQ 38.921875 48.1875 33.109375 48.1875 \nQ 26.21875 48.1875 22.15625 43.53125 \nQ 18.109375 38.875 18.109375 30.90625 \nL 18.109375 0 \nL 9.078125 0 \nL 9.078125 54.6875 \nL 18.109375 54.6875 \nL 18.109375 46.1875 \nQ 21.1875 51.21875 25.484375 53.609375 \nQ 29.78125 56 35.6875 56 \nQ 41.65625 56 45.828125 52.96875 \nQ 50 49.953125 52 44.1875 \nz\n\" id=\"DejaVuSans-109\"/>\n       <path d=\"M 56.203125 29.59375 \nL 56.203125 25.203125 \nL 14.890625 25.203125 \nQ 15.484375 15.921875 20.484375 11.0625 \nQ 25.484375 6.203125 34.421875 6.203125 \nQ 39.59375 6.203125 44.453125 7.46875 \nQ 49.3125 8.734375 54.109375 11.28125 \nL 54.109375 2.78125 \nQ 49.265625 0.734375 44.1875 -0.34375 \nQ 39.109375 -1.421875 33.890625 -1.421875 \nQ 20.796875 -1.421875 13.15625 6.1875 \nQ 5.515625 13.8125 5.515625 26.8125 \nQ 5.515625 40.234375 12.765625 48.109375 \nQ 20.015625 56 32.328125 56 \nQ 43.359375 56 49.78125 48.890625 \nQ 56.203125 41.796875 56.203125 29.59375 \nz\nM 47.21875 32.234375 \nQ 47.125 39.59375 43.09375 43.984375 \nQ 39.0625 48.390625 32.421875 48.390625 \nQ 24.90625 48.390625 20.390625 44.140625 \nQ 15.875 39.890625 15.1875 32.171875 \nz\n\" id=\"DejaVuSans-101\"/>\n      </defs>\n      <use xlink:href=\"#DejaVuSans-79\"/>\n      <use x=\"78.710938\" xlink:href=\"#DejaVuSans-115\"/>\n      <use x=\"130.810547\" xlink:href=\"#DejaVuSans-32\"/>\n      <use x=\"162.597656\" xlink:href=\"#DejaVuSans-78\"/>\n      <use x=\"237.402344\" xlink:href=\"#DejaVuSans-97\"/>\n      <use x=\"298.681641\" xlink:href=\"#DejaVuSans-109\"/>\n      <use x=\"396.09375\" xlink:href=\"#DejaVuSans-101\"/>\n     </g>\n    </g>\n   </g>\n   <g id=\"matplotlib.axis_2\">\n    <g id=\"ytick_1\">\n     <g id=\"line2d_6\">\n      <defs>\n       <path d=\"M 0 0 \nL -3.5 0 \n\" id=\"m9525352891\" style=\"stroke:#000000;stroke-width:0.8;\"/>\n      </defs>\n      <g>\n       <use style=\"stroke:#000000;stroke-width:0.8;\" x=\"46.965625\" xlink:href=\"#m9525352891\" y=\"314.6\"/>\n      </g>\n     </g>\n     <g id=\"text_6\">\n      <!-- 0 -->\n      <g transform=\"translate(33.603125 318.399219)scale(0.1 -0.1)\">\n       <defs>\n        <path d=\"M 31.78125 66.40625 \nQ 24.171875 66.40625 20.328125 58.90625 \nQ 16.5 51.421875 16.5 36.375 \nQ 16.5 21.390625 20.328125 13.890625 \nQ 24.171875 6.390625 31.78125 6.390625 \nQ 39.453125 6.390625 43.28125 13.890625 \nQ 47.125 21.390625 47.125 36.375 \nQ 47.125 51.421875 43.28125 58.90625 \nQ 39.453125 66.40625 31.78125 66.40625 \nz\nM 31.78125 74.21875 \nQ 44.046875 74.21875 50.515625 64.515625 \nQ 56.984375 54.828125 56.984375 36.375 \nQ 56.984375 17.96875 50.515625 8.265625 \nQ 44.046875 -1.421875 31.78125 -1.421875 \nQ 19.53125 -1.421875 13.0625 8.265625 \nQ 6.59375 17.96875 6.59375 36.375 \nQ 6.59375 54.828125 13.0625 64.515625 \nQ 19.53125 74.21875 31.78125 74.21875 \nz\n\" id=\"DejaVuSans-48\"/>\n       </defs>\n       <use xlink:href=\"#DejaVuSans-48\"/>\n      </g>\n     </g>\n    </g>\n    <g id=\"ytick_2\">\n     <g id=\"line2d_7\">\n      <g>\n       <use style=\"stroke:#000000;stroke-width:0.8;\" x=\"46.965625\" xlink:href=\"#m9525352891\" y=\"256.741916\"/>\n      </g>\n     </g>\n     <g id=\"text_7\">\n      <!-- 100 -->\n      <g transform=\"translate(20.878125 260.541135)scale(0.1 -0.1)\">\n       <defs>\n        <path d=\"M 12.40625 8.296875 \nL 28.515625 8.296875 \nL 28.515625 63.921875 \nL 10.984375 60.40625 \nL 10.984375 69.390625 \nL 28.421875 72.90625 \nL 38.28125 72.90625 \nL 38.28125 8.296875 \nL 54.390625 8.296875 \nL 54.390625 0 \nL 12.40625 0 \nz\n\" id=\"DejaVuSans-49\"/>\n       </defs>\n       <use xlink:href=\"#DejaVuSans-49\"/>\n       <use x=\"63.623047\" xlink:href=\"#DejaVuSans-48\"/>\n       <use x=\"127.246094\" xlink:href=\"#DejaVuSans-48\"/>\n      </g>\n     </g>\n    </g>\n    <g id=\"ytick_3\">\n     <g id=\"line2d_8\">\n      <g>\n       <use style=\"stroke:#000000;stroke-width:0.8;\" x=\"46.965625\" xlink:href=\"#m9525352891\" y=\"198.883832\"/>\n      </g>\n     </g>\n     <g id=\"text_8\">\n      <!-- 200 -->\n      <g transform=\"translate(20.878125 202.683051)scale(0.1 -0.1)\">\n       <defs>\n        <path d=\"M 19.1875 8.296875 \nL 53.609375 8.296875 \nL 53.609375 0 \nL 7.328125 0 \nL 7.328125 8.296875 \nQ 12.9375 14.109375 22.625 23.890625 \nQ 32.328125 33.6875 34.8125 36.53125 \nQ 39.546875 41.84375 41.421875 45.53125 \nQ 43.3125 49.21875 43.3125 52.78125 \nQ 43.3125 58.59375 39.234375 62.25 \nQ 35.15625 65.921875 28.609375 65.921875 \nQ 23.96875 65.921875 18.8125 64.3125 \nQ 13.671875 62.703125 7.8125 59.421875 \nL 7.8125 69.390625 \nQ 13.765625 71.78125 18.9375 73 \nQ 24.125 74.21875 28.421875 74.21875 \nQ 39.75 74.21875 46.484375 68.546875 \nQ 53.21875 62.890625 53.21875 53.421875 \nQ 53.21875 48.921875 51.53125 44.890625 \nQ 49.859375 40.875 45.40625 35.40625 \nQ 44.1875 33.984375 37.640625 27.21875 \nQ 31.109375 20.453125 19.1875 8.296875 \nz\n\" id=\"DejaVuSans-50\"/>\n       </defs>\n       <use xlink:href=\"#DejaVuSans-50\"/>\n       <use x=\"63.623047\" xlink:href=\"#DejaVuSans-48\"/>\n       <use x=\"127.246094\" xlink:href=\"#DejaVuSans-48\"/>\n      </g>\n     </g>\n    </g>\n    <g id=\"ytick_4\">\n     <g id=\"line2d_9\">\n      <g>\n       <use style=\"stroke:#000000;stroke-width:0.8;\" x=\"46.965625\" xlink:href=\"#m9525352891\" y=\"141.025748\"/>\n      </g>\n     </g>\n     <g id=\"text_9\">\n      <!-- 300 -->\n      <g transform=\"translate(20.878125 144.824967)scale(0.1 -0.1)\">\n       <defs>\n        <path d=\"M 40.578125 39.3125 \nQ 47.65625 37.796875 51.625 33 \nQ 55.609375 28.21875 55.609375 21.1875 \nQ 55.609375 10.40625 48.1875 4.484375 \nQ 40.765625 -1.421875 27.09375 -1.421875 \nQ 22.515625 -1.421875 17.65625 -0.515625 \nQ 12.796875 0.390625 7.625 2.203125 \nL 7.625 11.71875 \nQ 11.71875 9.328125 16.59375 8.109375 \nQ 21.484375 6.890625 26.8125 6.890625 \nQ 36.078125 6.890625 40.9375 10.546875 \nQ 45.796875 14.203125 45.796875 21.1875 \nQ 45.796875 27.640625 41.28125 31.265625 \nQ 36.765625 34.90625 28.71875 34.90625 \nL 20.21875 34.90625 \nL 20.21875 43.015625 \nL 29.109375 43.015625 \nQ 36.375 43.015625 40.234375 45.921875 \nQ 44.09375 48.828125 44.09375 54.296875 \nQ 44.09375 59.90625 40.109375 62.90625 \nQ 36.140625 65.921875 28.71875 65.921875 \nQ 24.65625 65.921875 20.015625 65.03125 \nQ 15.375 64.15625 9.8125 62.3125 \nL 9.8125 71.09375 \nQ 15.4375 72.65625 20.34375 73.4375 \nQ 25.25 74.21875 29.59375 74.21875 \nQ 40.828125 74.21875 47.359375 69.109375 \nQ 53.90625 64.015625 53.90625 55.328125 \nQ 53.90625 49.265625 50.4375 45.09375 \nQ 46.96875 40.921875 40.578125 39.3125 \nz\n\" id=\"DejaVuSans-51\"/>\n       </defs>\n       <use xlink:href=\"#DejaVuSans-51\"/>\n       <use x=\"63.623047\" xlink:href=\"#DejaVuSans-48\"/>\n       <use x=\"127.246094\" xlink:href=\"#DejaVuSans-48\"/>\n      </g>\n     </g>\n    </g>\n    <g id=\"ytick_5\">\n     <g id=\"line2d_10\">\n      <g>\n       <use style=\"stroke:#000000;stroke-width:0.8;\" x=\"46.965625\" xlink:href=\"#m9525352891\" y=\"83.167664\"/>\n      </g>\n     </g>\n     <g id=\"text_10\">\n      <!-- 400 -->\n      <g transform=\"translate(20.878125 86.966883)scale(0.1 -0.1)\">\n       <defs>\n        <path d=\"M 37.796875 64.3125 \nL 12.890625 25.390625 \nL 37.796875 25.390625 \nz\nM 35.203125 72.90625 \nL 47.609375 72.90625 \nL 47.609375 25.390625 \nL 58.015625 25.390625 \nL 58.015625 17.1875 \nL 47.609375 17.1875 \nL 47.609375 0 \nL 37.796875 0 \nL 37.796875 17.1875 \nL 4.890625 17.1875 \nL 4.890625 26.703125 \nz\n\" id=\"DejaVuSans-52\"/>\n       </defs>\n       <use xlink:href=\"#DejaVuSans-52\"/>\n       <use x=\"63.623047\" xlink:href=\"#DejaVuSans-48\"/>\n       <use x=\"127.246094\" xlink:href=\"#DejaVuSans-48\"/>\n      </g>\n     </g>\n    </g>\n    <g id=\"ytick_6\">\n     <g id=\"line2d_11\">\n      <g>\n       <use style=\"stroke:#000000;stroke-width:0.8;\" x=\"46.965625\" xlink:href=\"#m9525352891\" y=\"25.30958\"/>\n      </g>\n     </g>\n     <g id=\"text_11\">\n      <!-- 500 -->\n      <g transform=\"translate(20.878125 29.108799)scale(0.1 -0.1)\">\n       <defs>\n        <path d=\"M 10.796875 72.90625 \nL 49.515625 72.90625 \nL 49.515625 64.59375 \nL 19.828125 64.59375 \nL 19.828125 46.734375 \nQ 21.96875 47.46875 24.109375 47.828125 \nQ 26.265625 48.1875 28.421875 48.1875 \nQ 40.625 48.1875 47.75 41.5 \nQ 54.890625 34.8125 54.890625 23.390625 \nQ 54.890625 11.625 47.5625 5.09375 \nQ 40.234375 -1.421875 26.90625 -1.421875 \nQ 22.3125 -1.421875 17.546875 -0.640625 \nQ 12.796875 0.140625 7.71875 1.703125 \nL 7.71875 11.625 \nQ 12.109375 9.234375 16.796875 8.0625 \nQ 21.484375 6.890625 26.703125 6.890625 \nQ 35.15625 6.890625 40.078125 11.328125 \nQ 45.015625 15.765625 45.015625 23.390625 \nQ 45.015625 31 40.078125 35.4375 \nQ 35.15625 39.890625 26.703125 39.890625 \nQ 22.75 39.890625 18.8125 39.015625 \nQ 14.890625 38.140625 10.796875 36.28125 \nz\n\" id=\"DejaVuSans-53\"/>\n       </defs>\n       <use xlink:href=\"#DejaVuSans-53\"/>\n       <use x=\"63.623047\" xlink:href=\"#DejaVuSans-48\"/>\n       <use x=\"127.246094\" xlink:href=\"#DejaVuSans-48\"/>\n      </g>\n     </g>\n    </g>\n    <g id=\"text_12\">\n     <!-- Count -->\n     <g transform=\"translate(14.798438 175.748437)rotate(-90)scale(0.1 -0.1)\">\n      <defs>\n       <path d=\"M 64.40625 67.28125 \nL 64.40625 56.890625 \nQ 59.421875 61.53125 53.78125 63.8125 \nQ 48.140625 66.109375 41.796875 66.109375 \nQ 29.296875 66.109375 22.65625 58.46875 \nQ 16.015625 50.828125 16.015625 36.375 \nQ 16.015625 21.96875 22.65625 14.328125 \nQ 29.296875 6.6875 41.796875 6.6875 \nQ 48.140625 6.6875 53.78125 8.984375 \nQ 59.421875 11.28125 64.40625 15.921875 \nL 64.40625 5.609375 \nQ 59.234375 2.09375 53.4375 0.328125 \nQ 47.65625 -1.421875 41.21875 -1.421875 \nQ 24.65625 -1.421875 15.125 8.703125 \nQ 5.609375 18.84375 5.609375 36.375 \nQ 5.609375 53.953125 15.125 64.078125 \nQ 24.65625 74.21875 41.21875 74.21875 \nQ 47.75 74.21875 53.53125 72.484375 \nQ 59.328125 70.75 64.40625 67.28125 \nz\n\" id=\"DejaVuSans-67\"/>\n       <path d=\"M 18.3125 70.21875 \nL 18.3125 54.6875 \nL 36.8125 54.6875 \nL 36.8125 47.703125 \nL 18.3125 47.703125 \nL 18.3125 18.015625 \nQ 18.3125 11.328125 20.140625 9.421875 \nQ 21.96875 7.515625 27.59375 7.515625 \nL 36.8125 7.515625 \nL 36.8125 0 \nL 27.59375 0 \nQ 17.1875 0 13.234375 3.875 \nQ 9.28125 7.765625 9.28125 18.015625 \nL 9.28125 47.703125 \nL 2.6875 47.703125 \nL 2.6875 54.6875 \nL 9.28125 54.6875 \nL 9.28125 70.21875 \nz\n\" id=\"DejaVuSans-116\"/>\n      </defs>\n      <use xlink:href=\"#DejaVuSans-67\"/>\n      <use x=\"69.824219\" xlink:href=\"#DejaVuSans-111\"/>\n      <use x=\"131.005859\" xlink:href=\"#DejaVuSans-117\"/>\n      <use x=\"194.384766\" xlink:href=\"#DejaVuSans-110\"/>\n      <use x=\"257.763672\" xlink:href=\"#DejaVuSans-116\"/>\n     </g>\n    </g>\n   </g>\n   <g id=\"patch_8\">\n    <path d=\"M 46.965625 314.6 \nL 46.965625 7.2 \n\" style=\"fill:none;stroke:#000000;stroke-linecap:square;stroke-linejoin:miter;stroke-width:0.8;\"/>\n   </g>\n   <g id=\"patch_9\">\n    <path d=\"M 46.965625 314.6 \nL 340.219375 314.6 \n\" style=\"fill:none;stroke:#000000;stroke-linecap:square;stroke-linejoin:miter;stroke-width:0.8;\"/>\n   </g>\n  </g>\n  <g id=\"legend_1\">\n   <g id=\"text_13\">\n    <!-- Date -->\n    <g transform=\"translate(412.311719 171.498437)scale(0.1 -0.1)\">\n     <defs>\n      <path d=\"M 19.671875 64.796875 \nL 19.671875 8.109375 \nL 31.59375 8.109375 \nQ 46.6875 8.109375 53.6875 14.9375 \nQ 60.6875 21.78125 60.6875 36.53125 \nQ 60.6875 51.171875 53.6875 57.984375 \nQ 46.6875 64.796875 31.59375 64.796875 \nz\nM 9.8125 72.90625 \nL 30.078125 72.90625 \nQ 51.265625 72.90625 61.171875 64.09375 \nQ 71.09375 55.28125 71.09375 36.53125 \nQ 71.09375 17.671875 61.125 8.828125 \nQ 51.171875 0 30.078125 0 \nL 9.8125 0 \nz\n\" id=\"DejaVuSans-68\"/>\n     </defs>\n     <use xlink:href=\"#DejaVuSans-68\"/>\n     <use x=\"77.001953\" xlink:href=\"#DejaVuSans-97\"/>\n     <use x=\"138.28125\" xlink:href=\"#DejaVuSans-116\"/>\n     <use x=\"177.490234\" xlink:href=\"#DejaVuSans-101\"/>\n    </g>\n   </g>\n   <g id=\"patch_10\">\n    <path d=\"M 357.159375 186.176562 \nL 377.159375 186.176562 \nL 377.159375 179.176562 \nL 357.159375 179.176562 \nz\n\" style=\"fill:#1f77b4;fill-opacity:0.75;stroke:#000000;stroke-linejoin:miter;\"/>\n   </g>\n   <g id=\"text_14\">\n    <!-- 2014-03-02 00:00:00 -->\n    <g transform=\"translate(385.159375 186.176562)scale(0.1 -0.1)\">\n     <defs>\n      <path d=\"M 4.890625 31.390625 \nL 31.203125 31.390625 \nL 31.203125 23.390625 \nL 4.890625 23.390625 \nz\n\" id=\"DejaVuSans-45\"/>\n      <path d=\"M 11.71875 12.40625 \nL 22.015625 12.40625 \nL 22.015625 0 \nL 11.71875 0 \nz\nM 11.71875 51.703125 \nL 22.015625 51.703125 \nL 22.015625 39.3125 \nL 11.71875 39.3125 \nz\n\" id=\"DejaVuSans-58\"/>\n     </defs>\n     <use xlink:href=\"#DejaVuSans-50\"/>\n     <use x=\"63.623047\" xlink:href=\"#DejaVuSans-48\"/>\n     <use x=\"127.246094\" xlink:href=\"#DejaVuSans-49\"/>\n     <use x=\"190.869141\" xlink:href=\"#DejaVuSans-52\"/>\n     <use x=\"254.492188\" xlink:href=\"#DejaVuSans-45\"/>\n     <use x=\"290.576172\" xlink:href=\"#DejaVuSans-48\"/>\n     <use x=\"354.199219\" xlink:href=\"#DejaVuSans-51\"/>\n     <use x=\"417.822266\" xlink:href=\"#DejaVuSans-45\"/>\n     <use x=\"453.90625\" xlink:href=\"#DejaVuSans-48\"/>\n     <use x=\"517.529297\" xlink:href=\"#DejaVuSans-50\"/>\n     <use x=\"581.152344\" xlink:href=\"#DejaVuSans-32\"/>\n     <use x=\"612.939453\" xlink:href=\"#DejaVuSans-48\"/>\n     <use x=\"676.5625\" xlink:href=\"#DejaVuSans-48\"/>\n     <use x=\"740.185547\" xlink:href=\"#DejaVuSans-58\"/>\n     <use x=\"773.876953\" xlink:href=\"#DejaVuSans-48\"/>\n     <use x=\"837.5\" xlink:href=\"#DejaVuSans-48\"/>\n     <use x=\"901.123047\" xlink:href=\"#DejaVuSans-58\"/>\n     <use x=\"934.814453\" xlink:href=\"#DejaVuSans-48\"/>\n     <use x=\"998.4375\" xlink:href=\"#DejaVuSans-48\"/>\n    </g>\n   </g>\n  </g>\n </g>\n <defs>\n  <clipPath id=\"pf6a347e119\">\n   <rect height=\"307.4\" width=\"293.25375\" x=\"46.965625\" y=\"7.2\"/>\n  </clipPath>\n </defs>\n</svg>\n",
      "image/png": "[encoded data removed]"
     },
     "metadata": {
      "needs_background": "light"
     }
    }
   ],
   "source": [
    "sns.displot(data = Logs_copy, x = \"Os Name\", hue = \"Date\", multiple = \"stack\")"
   ]
  },
  {
   "cell_type": "code",
   "execution_count": 36,
   "metadata": {},
   "outputs": [],
   "source": [
    "Logs_export = Logs_copy.copy()\n",
    "\n",
    "Logs_export.replace('', 'null', inplace = True)\n",
    "\n",
    "Logs_export.to_csv('../Data/Logs_export.csv', index = False)"
   ]
  }
 ],
 "metadata": {
  "kernelspec": {
   "display_name": "Python 3",
   "language": "python",
   "name": "python3"
  },
  "language_info": {
   "codemirror_mode": {
    "name": "ipython",
    "version": 3
   },
   "file_extension": ".py",
   "mimetype": "text/x-python",
   "name": "python",
   "nbconvert_exporter": "python",
   "pygments_lexer": "ipython3",
   "version": "3.8.5-final"
  }
 },
 "nbformat": 4,
 "nbformat_minor": 4
}