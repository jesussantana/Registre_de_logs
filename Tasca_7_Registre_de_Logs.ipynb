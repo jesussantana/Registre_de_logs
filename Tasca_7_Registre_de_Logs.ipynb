{
 "cells": [
  {
   "cell_type": "markdown",
   "metadata": {},
   "source": [
    "# IT Academy - Data Science amb Python\n",
    "## Tasca 7: Estructura de control\n",
    "\n",
    "###  [Github Registre de Logs](https://github.com/jesussantana/Registre_de_logs)"
   ]
  },
  {
   "cell_type": "markdown",
   "metadata": {},
   "source": [
    "###  Exercici 1\n",
    "- Normalitza, identifica i enumera cada un dels atributs / variables de l'estructura de l'arxiu \"Web_access_log-akumenius.com\" que trobaràs al repositori de GitHub \"Data-sources\"."
   ]
  },
  {
   "cell_type": "code",
   "execution_count": 3,
   "metadata": {},
   "outputs": [
    {
     "data": {
      "text/html": [
       "<div>\n",
       "<style scoped>\n",
       "    .dataframe tbody tr th:only-of-type {\n",
       "        vertical-align: middle;\n",
       "    }\n",
       "\n",
       "    .dataframe tbody tr th {\n",
       "        vertical-align: top;\n",
       "    }\n",
       "\n",
       "    .dataframe thead th {\n",
       "        text-align: right;\n",
       "    }\n",
       "</style>\n",
       "<table border=\"1\" class=\"dataframe\">\n",
       "  <thead>\n",
       "    <tr style=\"text-align: right;\">\n",
       "      <th></th>\n",
       "      <th>Wev</th>\n",
       "      <th>IP</th>\n",
       "      <th>Time</th>\n",
       "      <th>Method</th>\n",
       "      <th>Status</th>\n",
       "      <th>Response</th>\n",
       "      <th>Browser</th>\n",
       "      <th>System</th>\n",
       "    </tr>\n",
       "  </thead>\n",
       "  <tbody>\n",
       "    <tr>\n",
       "      <th>0</th>\n",
       "      <td>localhost 127.0.0.1 - -</td>\n",
       "      <td>23/Feb/2014:03:10:31 +0100] \"OPTIONS * HTTP/1....</td>\n",
       "      <td>None</td>\n",
       "      <td>NaN</td>\n",
       "      <td>NaN</td>\n",
       "      <td>NaN</td>\n",
       "      <td>NaN</td>\n",
       "      <td>NaN</td>\n",
       "    </tr>\n",
       "    <tr>\n",
       "      <th>1</th>\n",
       "      <td>localhost 127.0.0.1 - -</td>\n",
       "      <td>23/Feb/2014:03:10:31 +0100] \"OPTIONS * HTTP/1....</td>\n",
       "      <td>None</td>\n",
       "      <td>NaN</td>\n",
       "      <td>NaN</td>\n",
       "      <td>NaN</td>\n",
       "      <td>NaN</td>\n",
       "      <td>NaN</td>\n",
       "    </tr>\n",
       "    <tr>\n",
       "      <th>2</th>\n",
       "      <td>localhost 127.0.0.1 - -</td>\n",
       "      <td>23/Feb/2014:03:10:31 +0100] \"OPTIONS * HTTP/1....</td>\n",
       "      <td>None</td>\n",
       "      <td>NaN</td>\n",
       "      <td>NaN</td>\n",
       "      <td>NaN</td>\n",
       "      <td>NaN</td>\n",
       "      <td>NaN</td>\n",
       "    </tr>\n",
       "    <tr>\n",
       "      <th>3</th>\n",
       "      <td>localhost 127.0.0.1 - -</td>\n",
       "      <td>23/Feb/2014:03:10:31 +0100] \"OPTIONS * HTTP/1....</td>\n",
       "      <td>None</td>\n",
       "      <td>NaN</td>\n",
       "      <td>NaN</td>\n",
       "      <td>NaN</td>\n",
       "      <td>NaN</td>\n",
       "      <td>NaN</td>\n",
       "    </tr>\n",
       "    <tr>\n",
       "      <th>4</th>\n",
       "      <td>localhost 127.0.0.1 - -</td>\n",
       "      <td>23/Feb/2014:03:10:31 +0100] \"OPTIONS * HTTP/1....</td>\n",
       "      <td>None</td>\n",
       "      <td>NaN</td>\n",
       "      <td>NaN</td>\n",
       "      <td>NaN</td>\n",
       "      <td>NaN</td>\n",
       "      <td>NaN</td>\n",
       "    </tr>\n",
       "  </tbody>\n",
       "</table>\n",
       "</div>"
      ],
      "text/plain": [
       "                       Wev                                                 IP  \\\n",
       "0  localhost 127.0.0.1 - -  23/Feb/2014:03:10:31 +0100] \"OPTIONS * HTTP/1....   \n",
       "1  localhost 127.0.0.1 - -  23/Feb/2014:03:10:31 +0100] \"OPTIONS * HTTP/1....   \n",
       "2  localhost 127.0.0.1 - -  23/Feb/2014:03:10:31 +0100] \"OPTIONS * HTTP/1....   \n",
       "3  localhost 127.0.0.1 - -  23/Feb/2014:03:10:31 +0100] \"OPTIONS * HTTP/1....   \n",
       "4  localhost 127.0.0.1 - -  23/Feb/2014:03:10:31 +0100] \"OPTIONS * HTTP/1....   \n",
       "\n",
       "   Time  Method  Status  Response  Browser  System  \n",
       "0  None     NaN     NaN       NaN      NaN     NaN  \n",
       "1  None     NaN     NaN       NaN      NaN     NaN  \n",
       "2  None     NaN     NaN       NaN      NaN     NaN  \n",
       "3  None     NaN     NaN       NaN      NaN     NaN  \n",
       "4  None     NaN     NaN       NaN      NaN     NaN  "
      ]
     },
     "execution_count": 3,
     "metadata": {},
     "output_type": "execute_result"
    }
   ],
   "source": [
    "import numpy as np\n",
    "import pandas as pd\n",
    "\n",
    "from io import StringIO\n",
    "import re\n",
    "\n",
    "\n",
    "path = '../Data/Web_access_log-akumenius.com.txt'\n",
    "\n",
    "df = pd.read_csv(path, sep='\\s\\[', names =['Wev','IP','Time', 'Method', 'Status', 'Response', 'Browser', 'System'], engine='python')\n",
    "\n",
    "df.head()"
   ]
  },
  {
   "cell_type": "markdown",
   "metadata": {},
   "source": [
    "###  Exercici 2\n",
    "- Neteja, preprocesa, estructura i transforma (dataframe) les dades del registre d'Accés a la web."
   ]
  },
  {
   "cell_type": "markdown",
   "metadata": {},
   "source": [
    "###  Exercici 3\n",
    "- Geolocalitza les IP's. Aqui tens una pagina de interes:\n",
    "  - [IP2Locattion](https://blog.ip2location.com/knowledge-base/how-to-add-a-sub-account-in-ip2location/)"
   ]
  },
  {
   "cell_type": "markdown",
   "metadata": {},
   "source": [
    "###  Exercici 4\n",
    "- Mostreu-me la teva creativitat, Sorprèn-me fes un pas més enllà amb el analysis anterior."
   ]
  }
 ],
 "metadata": {
  "kernelspec": {
   "display_name": "Python 3",
   "language": "python",
   "name": "python3"
  },
  "language_info": {
   "codemirror_mode": {
    "name": "ipython",
    "version": 3
   },
   "file_extension": ".py",
   "mimetype": "text/x-python",
   "name": "python",
   "nbconvert_exporter": "python",
   "pygments_lexer": "ipython3",
   "version": "3.8.5"
  }
 },
 "nbformat": 4,
 "nbformat_minor": 4
}
