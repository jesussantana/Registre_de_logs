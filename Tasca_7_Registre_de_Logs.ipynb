{
 "cells": [
  {
   "cell_type": "markdown",
   "metadata": {},
   "source": [
    "# IT Academy - Data Science amb Python\n",
    "## Tasca 7: Estructura de control\n",
    "\n",
    "###  [Github Registre de Logs](https://github.com/jesussantana/Registre_de_logs)"
   ]
  },
  {
   "cell_type": "markdown",
   "metadata": {},
   "source": [
    "###  Exercici 1\n",
    "- Normalitza, identifica i enumera cada un dels atributs / variables de l'estructura de l'arxiu \"Web_access_log-akumenius.com\" que trobaràs al repositori de GitHub \"Data-sources\"."
   ]
  },
  {
   "cell_type": "code",
   "execution_count": 1,
   "metadata": {},
   "outputs": [],
   "source": [
    "import numpy as np\n",
    "import pandas as pd\n",
    "import time\n",
    "import requests\n",
    "import re\n",
    "from datetime import datetime\n",
    "from datetime import timedelta\n",
    "\n",
    "pd.set_option('display.max_columns', None)"
   ]
  },
  {
   "cell_type": "code",
   "execution_count": 2,
   "metadata": {},
   "outputs": [
    {
     "output_type": "execute_result",
     "data": {
      "text/plain": [
       "                   DNS                              IP  \\\n",
       "0  localhost 127.0.0.1  - [23/Feb/2014:03:10:31 +0100]   \n",
       "1  localhost 127.0.0.1  - [23/Feb/2014:03:10:31 +0100]   \n",
       "2  localhost 127.0.0.1  - [23/Feb/2014:03:10:31 +0100]   \n",
       "3  localhost 127.0.0.1  - [23/Feb/2014:03:10:31 +0100]   \n",
       "4  localhost 127.0.0.1  - [23/Feb/2014:03:10:31 +0100]   \n",
       "\n",
       "                  Location Date                                        Time  \\\n",
       "0  OPTIONS * HTTP/1.0\" 200  \"-\"  Apache (internal dummy connection)\" VLOG=-   \n",
       "1  OPTIONS * HTTP/1.0\" 200  \"-\"  Apache (internal dummy connection)\" VLOG=-   \n",
       "2  OPTIONS * HTTP/1.0\" 200  \"-\"  Apache (internal dummy connection)\" VLOG=-   \n",
       "3  OPTIONS * HTTP/1.0\" 200  \"-\"  Apache (internal dummy connection)\" VLOG=-   \n",
       "4  OPTIONS * HTTP/1.0\" 200  \"-\"  Apache (internal dummy connection)\" VLOG=-   \n",
       "\n",
       "   Request  Status  Size  Referer  UserAgent  \n",
       "0      NaN     NaN   NaN      NaN        NaN  \n",
       "1      NaN     NaN   NaN      NaN        NaN  \n",
       "2      NaN     NaN   NaN      NaN        NaN  \n",
       "3      NaN     NaN   NaN      NaN        NaN  \n",
       "4      NaN     NaN   NaN      NaN        NaN  "
      ],
      "text/html": "<div>\n<style scoped>\n    .dataframe tbody tr th:only-of-type {\n        vertical-align: middle;\n    }\n\n    .dataframe tbody tr th {\n        vertical-align: top;\n    }\n\n    .dataframe thead th {\n        text-align: right;\n    }\n</style>\n<table border=\"1\" class=\"dataframe\">\n  <thead>\n    <tr style=\"text-align: right;\">\n      <th></th>\n      <th>DNS</th>\n      <th>IP</th>\n      <th>Location</th>\n      <th>Date</th>\n      <th>Time</th>\n      <th>Request</th>\n      <th>Status</th>\n      <th>Size</th>\n      <th>Referer</th>\n      <th>UserAgent</th>\n    </tr>\n  </thead>\n  <tbody>\n    <tr>\n      <th>0</th>\n      <td>localhost 127.0.0.1</td>\n      <td>- [23/Feb/2014:03:10:31 +0100]</td>\n      <td>OPTIONS * HTTP/1.0\" 200</td>\n      <td>\"-\"</td>\n      <td>Apache (internal dummy connection)\" VLOG=-</td>\n      <td>NaN</td>\n      <td>NaN</td>\n      <td>NaN</td>\n      <td>NaN</td>\n      <td>NaN</td>\n    </tr>\n    <tr>\n      <th>1</th>\n      <td>localhost 127.0.0.1</td>\n      <td>- [23/Feb/2014:03:10:31 +0100]</td>\n      <td>OPTIONS * HTTP/1.0\" 200</td>\n      <td>\"-\"</td>\n      <td>Apache (internal dummy connection)\" VLOG=-</td>\n      <td>NaN</td>\n      <td>NaN</td>\n      <td>NaN</td>\n      <td>NaN</td>\n      <td>NaN</td>\n    </tr>\n    <tr>\n      <th>2</th>\n      <td>localhost 127.0.0.1</td>\n      <td>- [23/Feb/2014:03:10:31 +0100]</td>\n      <td>OPTIONS * HTTP/1.0\" 200</td>\n      <td>\"-\"</td>\n      <td>Apache (internal dummy connection)\" VLOG=-</td>\n      <td>NaN</td>\n      <td>NaN</td>\n      <td>NaN</td>\n      <td>NaN</td>\n      <td>NaN</td>\n    </tr>\n    <tr>\n      <th>3</th>\n      <td>localhost 127.0.0.1</td>\n      <td>- [23/Feb/2014:03:10:31 +0100]</td>\n      <td>OPTIONS * HTTP/1.0\" 200</td>\n      <td>\"-\"</td>\n      <td>Apache (internal dummy connection)\" VLOG=-</td>\n      <td>NaN</td>\n      <td>NaN</td>\n      <td>NaN</td>\n      <td>NaN</td>\n      <td>NaN</td>\n    </tr>\n    <tr>\n      <th>4</th>\n      <td>localhost 127.0.0.1</td>\n      <td>- [23/Feb/2014:03:10:31 +0100]</td>\n      <td>OPTIONS * HTTP/1.0\" 200</td>\n      <td>\"-\"</td>\n      <td>Apache (internal dummy connection)\" VLOG=-</td>\n      <td>NaN</td>\n      <td>NaN</td>\n      <td>NaN</td>\n      <td>NaN</td>\n      <td>NaN</td>\n    </tr>\n  </tbody>\n</table>\n</div>"
     },
     "metadata": {},
     "execution_count": 2
    }
   ],
   "source": [
    "path = '../Data/Web_access_log-akumenius.com.txt'\n",
    "\n",
    "Logs_raw = pd.read_csv(path, sep='\\s | \\- | \\\"', names =['DNS','IP','Location','Date','Time','Request','Status','Size','Referer','UserAgent'], nrows = 1000, engine='python')\n",
    "\n",
    "Logs_copy = Logs_raw.copy()\n",
    "\n",
    "Logs_copy.head()"
   ]
  },
  {
   "cell_type": "markdown",
   "metadata": {},
   "source": [
    "###  Exercici 2\n",
    "- Neteja, preprocesa, estructura i transforma (dataframe) les dades del registre d'Accés a la web."
   ]
  },
  {
   "cell_type": "code",
   "execution_count": 3,
   "metadata": {},
   "outputs": [
    {
     "output_type": "execute_result",
     "data": {
      "text/plain": [
       "(1000, 10)"
      ]
     },
     "metadata": {},
     "execution_count": 3
    }
   ],
   "source": [
    "Logs_copy.shape"
   ]
  },
  {
   "cell_type": "code",
   "execution_count": 4,
   "metadata": {},
   "outputs": [
    {
     "output_type": "execute_result",
     "data": {
      "text/plain": [
       "DNS             0\n",
       "IP              0\n",
       "Location        0\n",
       "Date            0\n",
       "Time            0\n",
       "Request      1000\n",
       "Status       1000\n",
       "Size         1000\n",
       "Referer      1000\n",
       "UserAgent    1000\n",
       "dtype: int64"
      ]
     },
     "metadata": {},
     "execution_count": 4
    }
   ],
   "source": [
    "Logs_copy.isnull().sum()"
   ]
  },
  {
   "cell_type": "code",
   "execution_count": 5,
   "metadata": {},
   "outputs": [
    {
     "output_type": "execute_result",
     "data": {
      "text/plain": [
       "                   DNS                              IP  \\\n",
       "0  localhost 127.0.0.1  - [23/Feb/2014:03:10:31 +0100]   \n",
       "1  localhost 127.0.0.1  - [23/Feb/2014:03:10:31 +0100]   \n",
       "2  localhost 127.0.0.1  - [23/Feb/2014:03:10:31 +0100]   \n",
       "3  localhost 127.0.0.1  - [23/Feb/2014:03:10:31 +0100]   \n",
       "4  localhost 127.0.0.1  - [23/Feb/2014:03:10:31 +0100]   \n",
       "\n",
       "                  Location Date                                        Time  \\\n",
       "0  OPTIONS * HTTP/1.0\" 200  \"-\"  Apache (internal dummy connection)\" VLOG=-   \n",
       "1  OPTIONS * HTTP/1.0\" 200  \"-\"  Apache (internal dummy connection)\" VLOG=-   \n",
       "2  OPTIONS * HTTP/1.0\" 200  \"-\"  Apache (internal dummy connection)\" VLOG=-   \n",
       "3  OPTIONS * HTTP/1.0\" 200  \"-\"  Apache (internal dummy connection)\" VLOG=-   \n",
       "4  OPTIONS * HTTP/1.0\" 200  \"-\"  Apache (internal dummy connection)\" VLOG=-   \n",
       "\n",
       "   Request  Status  Size  Referer  UserAgent  \n",
       "0      NaN     NaN   NaN      NaN        NaN  \n",
       "1      NaN     NaN   NaN      NaN        NaN  \n",
       "2      NaN     NaN   NaN      NaN        NaN  \n",
       "3      NaN     NaN   NaN      NaN        NaN  \n",
       "4      NaN     NaN   NaN      NaN        NaN  "
      ],
      "text/html": "<div>\n<style scoped>\n    .dataframe tbody tr th:only-of-type {\n        vertical-align: middle;\n    }\n\n    .dataframe tbody tr th {\n        vertical-align: top;\n    }\n\n    .dataframe thead th {\n        text-align: right;\n    }\n</style>\n<table border=\"1\" class=\"dataframe\">\n  <thead>\n    <tr style=\"text-align: right;\">\n      <th></th>\n      <th>DNS</th>\n      <th>IP</th>\n      <th>Location</th>\n      <th>Date</th>\n      <th>Time</th>\n      <th>Request</th>\n      <th>Status</th>\n      <th>Size</th>\n      <th>Referer</th>\n      <th>UserAgent</th>\n    </tr>\n  </thead>\n  <tbody>\n    <tr>\n      <th>0</th>\n      <td>localhost 127.0.0.1</td>\n      <td>- [23/Feb/2014:03:10:31 +0100]</td>\n      <td>OPTIONS * HTTP/1.0\" 200</td>\n      <td>\"-\"</td>\n      <td>Apache (internal dummy connection)\" VLOG=-</td>\n      <td>NaN</td>\n      <td>NaN</td>\n      <td>NaN</td>\n      <td>NaN</td>\n      <td>NaN</td>\n    </tr>\n    <tr>\n      <th>1</th>\n      <td>localhost 127.0.0.1</td>\n      <td>- [23/Feb/2014:03:10:31 +0100]</td>\n      <td>OPTIONS * HTTP/1.0\" 200</td>\n      <td>\"-\"</td>\n      <td>Apache (internal dummy connection)\" VLOG=-</td>\n      <td>NaN</td>\n      <td>NaN</td>\n      <td>NaN</td>\n      <td>NaN</td>\n      <td>NaN</td>\n    </tr>\n    <tr>\n      <th>2</th>\n      <td>localhost 127.0.0.1</td>\n      <td>- [23/Feb/2014:03:10:31 +0100]</td>\n      <td>OPTIONS * HTTP/1.0\" 200</td>\n      <td>\"-\"</td>\n      <td>Apache (internal dummy connection)\" VLOG=-</td>\n      <td>NaN</td>\n      <td>NaN</td>\n      <td>NaN</td>\n      <td>NaN</td>\n      <td>NaN</td>\n    </tr>\n    <tr>\n      <th>3</th>\n      <td>localhost 127.0.0.1</td>\n      <td>- [23/Feb/2014:03:10:31 +0100]</td>\n      <td>OPTIONS * HTTP/1.0\" 200</td>\n      <td>\"-\"</td>\n      <td>Apache (internal dummy connection)\" VLOG=-</td>\n      <td>NaN</td>\n      <td>NaN</td>\n      <td>NaN</td>\n      <td>NaN</td>\n      <td>NaN</td>\n    </tr>\n    <tr>\n      <th>4</th>\n      <td>localhost 127.0.0.1</td>\n      <td>- [23/Feb/2014:03:10:31 +0100]</td>\n      <td>OPTIONS * HTTP/1.0\" 200</td>\n      <td>\"-\"</td>\n      <td>Apache (internal dummy connection)\" VLOG=-</td>\n      <td>NaN</td>\n      <td>NaN</td>\n      <td>NaN</td>\n      <td>NaN</td>\n      <td>NaN</td>\n    </tr>\n  </tbody>\n</table>\n</div>"
     },
     "metadata": {},
     "execution_count": 5
    }
   ],
   "source": [
    "Logs_copy.head()"
   ]
  },
  {
   "cell_type": "code",
   "execution_count": 6,
   "metadata": {
    "scrolled": true
   },
   "outputs": [
    {
     "output_type": "execute_result",
     "data": {
      "text/plain": [
       "                   DNS  IP Location                            Date  Time  \\\n",
       "0  localhost 127.0.0.1 NaN           - [23/Feb/2014:03:10:31 +0100]   NaN   \n",
       "1  localhost 127.0.0.1 NaN           - [23/Feb/2014:03:10:31 +0100]   NaN   \n",
       "2  localhost 127.0.0.1 NaN           - [23/Feb/2014:03:10:31 +0100]   NaN   \n",
       "3  localhost 127.0.0.1 NaN           - [23/Feb/2014:03:10:31 +0100]   NaN   \n",
       "4  localhost 127.0.0.1 NaN           - [23/Feb/2014:03:10:31 +0100]   NaN   \n",
       "\n",
       "                   Request  Status  Size Referer  \\\n",
       "0  OPTIONS * HTTP/1.0\" 200     NaN   NaN     \"-\"   \n",
       "1  OPTIONS * HTTP/1.0\" 200     NaN   NaN     \"-\"   \n",
       "2  OPTIONS * HTTP/1.0\" 200     NaN   NaN     \"-\"   \n",
       "3  OPTIONS * HTTP/1.0\" 200     NaN   NaN     \"-\"   \n",
       "4  OPTIONS * HTTP/1.0\" 200     NaN   NaN     \"-\"   \n",
       "\n",
       "                                    UserAgent  \n",
       "0  Apache (internal dummy connection)\" VLOG=-  \n",
       "1  Apache (internal dummy connection)\" VLOG=-  \n",
       "2  Apache (internal dummy connection)\" VLOG=-  \n",
       "3  Apache (internal dummy connection)\" VLOG=-  \n",
       "4  Apache (internal dummy connection)\" VLOG=-  "
      ],
      "text/html": "<div>\n<style scoped>\n    .dataframe tbody tr th:only-of-type {\n        vertical-align: middle;\n    }\n\n    .dataframe tbody tr th {\n        vertical-align: top;\n    }\n\n    .dataframe thead th {\n        text-align: right;\n    }\n</style>\n<table border=\"1\" class=\"dataframe\">\n  <thead>\n    <tr style=\"text-align: right;\">\n      <th></th>\n      <th>DNS</th>\n      <th>IP</th>\n      <th>Location</th>\n      <th>Date</th>\n      <th>Time</th>\n      <th>Request</th>\n      <th>Status</th>\n      <th>Size</th>\n      <th>Referer</th>\n      <th>UserAgent</th>\n    </tr>\n  </thead>\n  <tbody>\n    <tr>\n      <th>0</th>\n      <td>localhost 127.0.0.1</td>\n      <td>NaN</td>\n      <td></td>\n      <td>- [23/Feb/2014:03:10:31 +0100]</td>\n      <td>NaN</td>\n      <td>OPTIONS * HTTP/1.0\" 200</td>\n      <td>NaN</td>\n      <td>NaN</td>\n      <td>\"-\"</td>\n      <td>Apache (internal dummy connection)\" VLOG=-</td>\n    </tr>\n    <tr>\n      <th>1</th>\n      <td>localhost 127.0.0.1</td>\n      <td>NaN</td>\n      <td></td>\n      <td>- [23/Feb/2014:03:10:31 +0100]</td>\n      <td>NaN</td>\n      <td>OPTIONS * HTTP/1.0\" 200</td>\n      <td>NaN</td>\n      <td>NaN</td>\n      <td>\"-\"</td>\n      <td>Apache (internal dummy connection)\" VLOG=-</td>\n    </tr>\n    <tr>\n      <th>2</th>\n      <td>localhost 127.0.0.1</td>\n      <td>NaN</td>\n      <td></td>\n      <td>- [23/Feb/2014:03:10:31 +0100]</td>\n      <td>NaN</td>\n      <td>OPTIONS * HTTP/1.0\" 200</td>\n      <td>NaN</td>\n      <td>NaN</td>\n      <td>\"-\"</td>\n      <td>Apache (internal dummy connection)\" VLOG=-</td>\n    </tr>\n    <tr>\n      <th>3</th>\n      <td>localhost 127.0.0.1</td>\n      <td>NaN</td>\n      <td></td>\n      <td>- [23/Feb/2014:03:10:31 +0100]</td>\n      <td>NaN</td>\n      <td>OPTIONS * HTTP/1.0\" 200</td>\n      <td>NaN</td>\n      <td>NaN</td>\n      <td>\"-\"</td>\n      <td>Apache (internal dummy connection)\" VLOG=-</td>\n    </tr>\n    <tr>\n      <th>4</th>\n      <td>localhost 127.0.0.1</td>\n      <td>NaN</td>\n      <td></td>\n      <td>- [23/Feb/2014:03:10:31 +0100]</td>\n      <td>NaN</td>\n      <td>OPTIONS * HTTP/1.0\" 200</td>\n      <td>NaN</td>\n      <td>NaN</td>\n      <td>\"-\"</td>\n      <td>Apache (internal dummy connection)\" VLOG=-</td>\n    </tr>\n  </tbody>\n</table>\n</div>"
     },
     "metadata": {},
     "execution_count": 6
    }
   ],
   "source": [
    "# Reorder columns of data\n",
    "\n",
    "Logs_copy.UserAgent = Logs_copy.Time\n",
    "Logs_copy.Request = Logs_copy.Location\n",
    "Logs_copy.Referer = Logs_copy.Date\n",
    "Logs_copy.Date = Logs_copy.IP\n",
    "Logs_copy.Time = Logs_copy.IP = np.nan\n",
    "Logs_copy.Location = \" \"\n",
    "\n",
    "Logs_copy.head()"
   ]
  },
  {
   "cell_type": "code",
   "execution_count": 7,
   "metadata": {},
   "outputs": [],
   "source": [
    "# DNS & IP data split\n",
    "\n",
    "Logs_copy[['DNS','IP']] = Logs_copy.DNS.str.split('\\s', expand = True).get([0, 1])"
   ]
  },
  {
   "cell_type": "code",
   "execution_count": 8,
   "metadata": {},
   "outputs": [
    {
     "output_type": "execute_result",
     "data": {
      "text/plain": [
       "         DNS         IP Location                            Date  Time  \\\n",
       "0  localhost  127.0.0.1           - [23/Feb/2014:03:10:31 +0100]   NaN   \n",
       "1  localhost  127.0.0.1           - [23/Feb/2014:03:10:31 +0100]   NaN   \n",
       "2  localhost  127.0.0.1           - [23/Feb/2014:03:10:31 +0100]   NaN   \n",
       "3  localhost  127.0.0.1           - [23/Feb/2014:03:10:31 +0100]   NaN   \n",
       "4  localhost  127.0.0.1           - [23/Feb/2014:03:10:31 +0100]   NaN   \n",
       "\n",
       "                   Request  Status  Size Referer  \\\n",
       "0  OPTIONS * HTTP/1.0\" 200     NaN   NaN     \"-\"   \n",
       "1  OPTIONS * HTTP/1.0\" 200     NaN   NaN     \"-\"   \n",
       "2  OPTIONS * HTTP/1.0\" 200     NaN   NaN     \"-\"   \n",
       "3  OPTIONS * HTTP/1.0\" 200     NaN   NaN     \"-\"   \n",
       "4  OPTIONS * HTTP/1.0\" 200     NaN   NaN     \"-\"   \n",
       "\n",
       "                                    UserAgent  \n",
       "0  Apache (internal dummy connection)\" VLOG=-  \n",
       "1  Apache (internal dummy connection)\" VLOG=-  \n",
       "2  Apache (internal dummy connection)\" VLOG=-  \n",
       "3  Apache (internal dummy connection)\" VLOG=-  \n",
       "4  Apache (internal dummy connection)\" VLOG=-  "
      ],
      "text/html": "<div>\n<style scoped>\n    .dataframe tbody tr th:only-of-type {\n        vertical-align: middle;\n    }\n\n    .dataframe tbody tr th {\n        vertical-align: top;\n    }\n\n    .dataframe thead th {\n        text-align: right;\n    }\n</style>\n<table border=\"1\" class=\"dataframe\">\n  <thead>\n    <tr style=\"text-align: right;\">\n      <th></th>\n      <th>DNS</th>\n      <th>IP</th>\n      <th>Location</th>\n      <th>Date</th>\n      <th>Time</th>\n      <th>Request</th>\n      <th>Status</th>\n      <th>Size</th>\n      <th>Referer</th>\n      <th>UserAgent</th>\n    </tr>\n  </thead>\n  <tbody>\n    <tr>\n      <th>0</th>\n      <td>localhost</td>\n      <td>127.0.0.1</td>\n      <td></td>\n      <td>- [23/Feb/2014:03:10:31 +0100]</td>\n      <td>NaN</td>\n      <td>OPTIONS * HTTP/1.0\" 200</td>\n      <td>NaN</td>\n      <td>NaN</td>\n      <td>\"-\"</td>\n      <td>Apache (internal dummy connection)\" VLOG=-</td>\n    </tr>\n    <tr>\n      <th>1</th>\n      <td>localhost</td>\n      <td>127.0.0.1</td>\n      <td></td>\n      <td>- [23/Feb/2014:03:10:31 +0100]</td>\n      <td>NaN</td>\n      <td>OPTIONS * HTTP/1.0\" 200</td>\n      <td>NaN</td>\n      <td>NaN</td>\n      <td>\"-\"</td>\n      <td>Apache (internal dummy connection)\" VLOG=-</td>\n    </tr>\n    <tr>\n      <th>2</th>\n      <td>localhost</td>\n      <td>127.0.0.1</td>\n      <td></td>\n      <td>- [23/Feb/2014:03:10:31 +0100]</td>\n      <td>NaN</td>\n      <td>OPTIONS * HTTP/1.0\" 200</td>\n      <td>NaN</td>\n      <td>NaN</td>\n      <td>\"-\"</td>\n      <td>Apache (internal dummy connection)\" VLOG=-</td>\n    </tr>\n    <tr>\n      <th>3</th>\n      <td>localhost</td>\n      <td>127.0.0.1</td>\n      <td></td>\n      <td>- [23/Feb/2014:03:10:31 +0100]</td>\n      <td>NaN</td>\n      <td>OPTIONS * HTTP/1.0\" 200</td>\n      <td>NaN</td>\n      <td>NaN</td>\n      <td>\"-\"</td>\n      <td>Apache (internal dummy connection)\" VLOG=-</td>\n    </tr>\n    <tr>\n      <th>4</th>\n      <td>localhost</td>\n      <td>127.0.0.1</td>\n      <td></td>\n      <td>- [23/Feb/2014:03:10:31 +0100]</td>\n      <td>NaN</td>\n      <td>OPTIONS * HTTP/1.0\" 200</td>\n      <td>NaN</td>\n      <td>NaN</td>\n      <td>\"-\"</td>\n      <td>Apache (internal dummy connection)\" VLOG=-</td>\n    </tr>\n  </tbody>\n</table>\n</div>"
     },
     "metadata": {},
     "execution_count": 8
    }
   ],
   "source": [
    "Logs_copy.head()"
   ]
  },
  {
   "cell_type": "code",
   "execution_count": 9,
   "metadata": {},
   "outputs": [
    {
     "output_type": "execute_result",
     "data": {
      "text/plain": [
       "array(['localhost', 'www.akumenius.com'], dtype=object)"
      ]
     },
     "metadata": {},
     "execution_count": 9
    }
   ],
   "source": [
    "Logs_copy.DNS.unique()"
   ]
  },
  {
   "cell_type": "code",
   "execution_count": 10,
   "metadata": {},
   "outputs": [
    {
     "output_type": "execute_result",
     "data": {
      "text/plain": [
       "         DNS         IP Location                            Date  \\\n",
       "0  localhost  127.0.0.1           - [23/Feb/2014:03:10:31 +0100]   \n",
       "1  localhost  127.0.0.1           - [23/Feb/2014:03:10:31 +0100]   \n",
       "2  localhost  127.0.0.1           - [23/Feb/2014:03:10:31 +0100]   \n",
       "3  localhost  127.0.0.1           - [23/Feb/2014:03:10:31 +0100]   \n",
       "4  localhost  127.0.0.1           - [23/Feb/2014:03:10:31 +0100]   \n",
       "\n",
       "             Time                  Request  Status  Size Referer  \\\n",
       "0  03:10:31 +0100  OPTIONS * HTTP/1.0\" 200     NaN   NaN     \"-\"   \n",
       "1  03:10:31 +0100  OPTIONS * HTTP/1.0\" 200     NaN   NaN     \"-\"   \n",
       "2  03:10:31 +0100  OPTIONS * HTTP/1.0\" 200     NaN   NaN     \"-\"   \n",
       "3  03:10:31 +0100  OPTIONS * HTTP/1.0\" 200     NaN   NaN     \"-\"   \n",
       "4  03:10:31 +0100  OPTIONS * HTTP/1.0\" 200     NaN   NaN     \"-\"   \n",
       "\n",
       "                                    UserAgent  \n",
       "0  Apache (internal dummy connection)\" VLOG=-  \n",
       "1  Apache (internal dummy connection)\" VLOG=-  \n",
       "2  Apache (internal dummy connection)\" VLOG=-  \n",
       "3  Apache (internal dummy connection)\" VLOG=-  \n",
       "4  Apache (internal dummy connection)\" VLOG=-  "
      ],
      "text/html": "<div>\n<style scoped>\n    .dataframe tbody tr th:only-of-type {\n        vertical-align: middle;\n    }\n\n    .dataframe tbody tr th {\n        vertical-align: top;\n    }\n\n    .dataframe thead th {\n        text-align: right;\n    }\n</style>\n<table border=\"1\" class=\"dataframe\">\n  <thead>\n    <tr style=\"text-align: right;\">\n      <th></th>\n      <th>DNS</th>\n      <th>IP</th>\n      <th>Location</th>\n      <th>Date</th>\n      <th>Time</th>\n      <th>Request</th>\n      <th>Status</th>\n      <th>Size</th>\n      <th>Referer</th>\n      <th>UserAgent</th>\n    </tr>\n  </thead>\n  <tbody>\n    <tr>\n      <th>0</th>\n      <td>localhost</td>\n      <td>127.0.0.1</td>\n      <td></td>\n      <td>- [23/Feb/2014:03:10:31 +0100]</td>\n      <td>03:10:31 +0100</td>\n      <td>OPTIONS * HTTP/1.0\" 200</td>\n      <td>NaN</td>\n      <td>NaN</td>\n      <td>\"-\"</td>\n      <td>Apache (internal dummy connection)\" VLOG=-</td>\n    </tr>\n    <tr>\n      <th>1</th>\n      <td>localhost</td>\n      <td>127.0.0.1</td>\n      <td></td>\n      <td>- [23/Feb/2014:03:10:31 +0100]</td>\n      <td>03:10:31 +0100</td>\n      <td>OPTIONS * HTTP/1.0\" 200</td>\n      <td>NaN</td>\n      <td>NaN</td>\n      <td>\"-\"</td>\n      <td>Apache (internal dummy connection)\" VLOG=-</td>\n    </tr>\n    <tr>\n      <th>2</th>\n      <td>localhost</td>\n      <td>127.0.0.1</td>\n      <td></td>\n      <td>- [23/Feb/2014:03:10:31 +0100]</td>\n      <td>03:10:31 +0100</td>\n      <td>OPTIONS * HTTP/1.0\" 200</td>\n      <td>NaN</td>\n      <td>NaN</td>\n      <td>\"-\"</td>\n      <td>Apache (internal dummy connection)\" VLOG=-</td>\n    </tr>\n    <tr>\n      <th>3</th>\n      <td>localhost</td>\n      <td>127.0.0.1</td>\n      <td></td>\n      <td>- [23/Feb/2014:03:10:31 +0100]</td>\n      <td>03:10:31 +0100</td>\n      <td>OPTIONS * HTTP/1.0\" 200</td>\n      <td>NaN</td>\n      <td>NaN</td>\n      <td>\"-\"</td>\n      <td>Apache (internal dummy connection)\" VLOG=-</td>\n    </tr>\n    <tr>\n      <th>4</th>\n      <td>localhost</td>\n      <td>127.0.0.1</td>\n      <td></td>\n      <td>- [23/Feb/2014:03:10:31 +0100]</td>\n      <td>03:10:31 +0100</td>\n      <td>OPTIONS * HTTP/1.0\" 200</td>\n      <td>NaN</td>\n      <td>NaN</td>\n      <td>\"-\"</td>\n      <td>Apache (internal dummy connection)\" VLOG=-</td>\n    </tr>\n  </tbody>\n</table>\n</div>"
     },
     "metadata": {},
     "execution_count": 10
    }
   ],
   "source": [
    "# Time data extraction\n",
    "\n",
    "Logs_copy.Time = Logs_copy.Date.str.extract(':(\\d{2}:\\d{2}:\\d{2}.*)]')\n",
    "\n",
    "#Logs_copy.Time = pd.to_datetime(Logs_copy.Time, format = '%H:%M:%S %z')\n",
    "Logs_copy.head()"
   ]
  },
  {
   "cell_type": "code",
   "execution_count": 11,
   "metadata": {},
   "outputs": [],
   "source": [
    "# Date data extraction\n",
    "\n",
    "Logs_copy.Date = Logs_copy.Date.str.extract('(\\d+/\\w+/\\d+)')\n",
    "\n",
    "Logs_copy.Date = pd.to_datetime(Logs_copy.Date, format = '%d/%b/%Y')"
   ]
  },
  {
   "cell_type": "code",
   "execution_count": 12,
   "metadata": {
    "scrolled": true
   },
   "outputs": [
    {
     "output_type": "execute_result",
     "data": {
      "text/plain": [
       "         DNS         IP Location       Date            Time  \\\n",
       "0  localhost  127.0.0.1          2014-02-23  03:10:31 +0100   \n",
       "1  localhost  127.0.0.1          2014-02-23  03:10:31 +0100   \n",
       "2  localhost  127.0.0.1          2014-02-23  03:10:31 +0100   \n",
       "3  localhost  127.0.0.1          2014-02-23  03:10:31 +0100   \n",
       "4  localhost  127.0.0.1          2014-02-23  03:10:31 +0100   \n",
       "\n",
       "                   Request  Status  Size Referer  \\\n",
       "0  OPTIONS * HTTP/1.0\" 200     NaN   NaN     \"-\"   \n",
       "1  OPTIONS * HTTP/1.0\" 200     NaN   NaN     \"-\"   \n",
       "2  OPTIONS * HTTP/1.0\" 200     NaN   NaN     \"-\"   \n",
       "3  OPTIONS * HTTP/1.0\" 200     NaN   NaN     \"-\"   \n",
       "4  OPTIONS * HTTP/1.0\" 200     NaN   NaN     \"-\"   \n",
       "\n",
       "                                    UserAgent  \n",
       "0  Apache (internal dummy connection)\" VLOG=-  \n",
       "1  Apache (internal dummy connection)\" VLOG=-  \n",
       "2  Apache (internal dummy connection)\" VLOG=-  \n",
       "3  Apache (internal dummy connection)\" VLOG=-  \n",
       "4  Apache (internal dummy connection)\" VLOG=-  "
      ],
      "text/html": "<div>\n<style scoped>\n    .dataframe tbody tr th:only-of-type {\n        vertical-align: middle;\n    }\n\n    .dataframe tbody tr th {\n        vertical-align: top;\n    }\n\n    .dataframe thead th {\n        text-align: right;\n    }\n</style>\n<table border=\"1\" class=\"dataframe\">\n  <thead>\n    <tr style=\"text-align: right;\">\n      <th></th>\n      <th>DNS</th>\n      <th>IP</th>\n      <th>Location</th>\n      <th>Date</th>\n      <th>Time</th>\n      <th>Request</th>\n      <th>Status</th>\n      <th>Size</th>\n      <th>Referer</th>\n      <th>UserAgent</th>\n    </tr>\n  </thead>\n  <tbody>\n    <tr>\n      <th>0</th>\n      <td>localhost</td>\n      <td>127.0.0.1</td>\n      <td></td>\n      <td>2014-02-23</td>\n      <td>03:10:31 +0100</td>\n      <td>OPTIONS * HTTP/1.0\" 200</td>\n      <td>NaN</td>\n      <td>NaN</td>\n      <td>\"-\"</td>\n      <td>Apache (internal dummy connection)\" VLOG=-</td>\n    </tr>\n    <tr>\n      <th>1</th>\n      <td>localhost</td>\n      <td>127.0.0.1</td>\n      <td></td>\n      <td>2014-02-23</td>\n      <td>03:10:31 +0100</td>\n      <td>OPTIONS * HTTP/1.0\" 200</td>\n      <td>NaN</td>\n      <td>NaN</td>\n      <td>\"-\"</td>\n      <td>Apache (internal dummy connection)\" VLOG=-</td>\n    </tr>\n    <tr>\n      <th>2</th>\n      <td>localhost</td>\n      <td>127.0.0.1</td>\n      <td></td>\n      <td>2014-02-23</td>\n      <td>03:10:31 +0100</td>\n      <td>OPTIONS * HTTP/1.0\" 200</td>\n      <td>NaN</td>\n      <td>NaN</td>\n      <td>\"-\"</td>\n      <td>Apache (internal dummy connection)\" VLOG=-</td>\n    </tr>\n    <tr>\n      <th>3</th>\n      <td>localhost</td>\n      <td>127.0.0.1</td>\n      <td></td>\n      <td>2014-02-23</td>\n      <td>03:10:31 +0100</td>\n      <td>OPTIONS * HTTP/1.0\" 200</td>\n      <td>NaN</td>\n      <td>NaN</td>\n      <td>\"-\"</td>\n      <td>Apache (internal dummy connection)\" VLOG=-</td>\n    </tr>\n    <tr>\n      <th>4</th>\n      <td>localhost</td>\n      <td>127.0.0.1</td>\n      <td></td>\n      <td>2014-02-23</td>\n      <td>03:10:31 +0100</td>\n      <td>OPTIONS * HTTP/1.0\" 200</td>\n      <td>NaN</td>\n      <td>NaN</td>\n      <td>\"-\"</td>\n      <td>Apache (internal dummy connection)\" VLOG=-</td>\n    </tr>\n  </tbody>\n</table>\n</div>"
     },
     "metadata": {},
     "execution_count": 12
    }
   ],
   "source": [
    "Logs_copy.head()"
   ]
  },
  {
   "cell_type": "code",
   "execution_count": 13,
   "metadata": {},
   "outputs": [],
   "source": [
    "# Request & Status data split\n",
    "\n",
    "Logs_copy[['Request','Status']] = Logs_copy.Request.str.split('\\\"', expand = True).get([0, 1])"
   ]
  },
  {
   "cell_type": "code",
   "execution_count": 14,
   "metadata": {},
   "outputs": [
    {
     "output_type": "execute_result",
     "data": {
      "text/plain": [
       "         DNS         IP Location       Date            Time  \\\n",
       "0  localhost  127.0.0.1          2014-02-23  03:10:31 +0100   \n",
       "1  localhost  127.0.0.1          2014-02-23  03:10:31 +0100   \n",
       "2  localhost  127.0.0.1          2014-02-23  03:10:31 +0100   \n",
       "3  localhost  127.0.0.1          2014-02-23  03:10:31 +0100   \n",
       "4  localhost  127.0.0.1          2014-02-23  03:10:31 +0100   \n",
       "\n",
       "              Request Status  Size Referer  \\\n",
       "0  OPTIONS * HTTP/1.0    200   NaN     \"-\"   \n",
       "1  OPTIONS * HTTP/1.0    200   NaN     \"-\"   \n",
       "2  OPTIONS * HTTP/1.0    200   NaN     \"-\"   \n",
       "3  OPTIONS * HTTP/1.0    200   NaN     \"-\"   \n",
       "4  OPTIONS * HTTP/1.0    200   NaN     \"-\"   \n",
       "\n",
       "                                    UserAgent  \n",
       "0  Apache (internal dummy connection)\" VLOG=-  \n",
       "1  Apache (internal dummy connection)\" VLOG=-  \n",
       "2  Apache (internal dummy connection)\" VLOG=-  \n",
       "3  Apache (internal dummy connection)\" VLOG=-  \n",
       "4  Apache (internal dummy connection)\" VLOG=-  "
      ],
      "text/html": "<div>\n<style scoped>\n    .dataframe tbody tr th:only-of-type {\n        vertical-align: middle;\n    }\n\n    .dataframe tbody tr th {\n        vertical-align: top;\n    }\n\n    .dataframe thead th {\n        text-align: right;\n    }\n</style>\n<table border=\"1\" class=\"dataframe\">\n  <thead>\n    <tr style=\"text-align: right;\">\n      <th></th>\n      <th>DNS</th>\n      <th>IP</th>\n      <th>Location</th>\n      <th>Date</th>\n      <th>Time</th>\n      <th>Request</th>\n      <th>Status</th>\n      <th>Size</th>\n      <th>Referer</th>\n      <th>UserAgent</th>\n    </tr>\n  </thead>\n  <tbody>\n    <tr>\n      <th>0</th>\n      <td>localhost</td>\n      <td>127.0.0.1</td>\n      <td></td>\n      <td>2014-02-23</td>\n      <td>03:10:31 +0100</td>\n      <td>OPTIONS * HTTP/1.0</td>\n      <td>200</td>\n      <td>NaN</td>\n      <td>\"-\"</td>\n      <td>Apache (internal dummy connection)\" VLOG=-</td>\n    </tr>\n    <tr>\n      <th>1</th>\n      <td>localhost</td>\n      <td>127.0.0.1</td>\n      <td></td>\n      <td>2014-02-23</td>\n      <td>03:10:31 +0100</td>\n      <td>OPTIONS * HTTP/1.0</td>\n      <td>200</td>\n      <td>NaN</td>\n      <td>\"-\"</td>\n      <td>Apache (internal dummy connection)\" VLOG=-</td>\n    </tr>\n    <tr>\n      <th>2</th>\n      <td>localhost</td>\n      <td>127.0.0.1</td>\n      <td></td>\n      <td>2014-02-23</td>\n      <td>03:10:31 +0100</td>\n      <td>OPTIONS * HTTP/1.0</td>\n      <td>200</td>\n      <td>NaN</td>\n      <td>\"-\"</td>\n      <td>Apache (internal dummy connection)\" VLOG=-</td>\n    </tr>\n    <tr>\n      <th>3</th>\n      <td>localhost</td>\n      <td>127.0.0.1</td>\n      <td></td>\n      <td>2014-02-23</td>\n      <td>03:10:31 +0100</td>\n      <td>OPTIONS * HTTP/1.0</td>\n      <td>200</td>\n      <td>NaN</td>\n      <td>\"-\"</td>\n      <td>Apache (internal dummy connection)\" VLOG=-</td>\n    </tr>\n    <tr>\n      <th>4</th>\n      <td>localhost</td>\n      <td>127.0.0.1</td>\n      <td></td>\n      <td>2014-02-23</td>\n      <td>03:10:31 +0100</td>\n      <td>OPTIONS * HTTP/1.0</td>\n      <td>200</td>\n      <td>NaN</td>\n      <td>\"-\"</td>\n      <td>Apache (internal dummy connection)\" VLOG=-</td>\n    </tr>\n  </tbody>\n</table>\n</div>"
     },
     "metadata": {},
     "execution_count": 14
    }
   ],
   "source": [
    "Logs_copy.head()"
   ]
  },
  {
   "cell_type": "code",
   "execution_count": 15,
   "metadata": {},
   "outputs": [
    {
     "output_type": "execute_result",
     "data": {
      "text/plain": [
       "         DNS         IP Location       Date            Time  \\\n",
       "0  localhost  127.0.0.1          2014-02-23  03:10:31 +0100   \n",
       "1  localhost  127.0.0.1          2014-02-23  03:10:31 +0100   \n",
       "2  localhost  127.0.0.1          2014-02-23  03:10:31 +0100   \n",
       "3  localhost  127.0.0.1          2014-02-23  03:10:31 +0100   \n",
       "4  localhost  127.0.0.1          2014-02-23  03:10:31 +0100   \n",
       "\n",
       "              Request Status Size Referer  \\\n",
       "0  OPTIONS * HTTP/1.0    200  200     \"-\"   \n",
       "1  OPTIONS * HTTP/1.0    200  200     \"-\"   \n",
       "2  OPTIONS * HTTP/1.0    200  200     \"-\"   \n",
       "3  OPTIONS * HTTP/1.0    200  200     \"-\"   \n",
       "4  OPTIONS * HTTP/1.0    200  200     \"-\"   \n",
       "\n",
       "                                    UserAgent  \n",
       "0  Apache (internal dummy connection)\" VLOG=-  \n",
       "1  Apache (internal dummy connection)\" VLOG=-  \n",
       "2  Apache (internal dummy connection)\" VLOG=-  \n",
       "3  Apache (internal dummy connection)\" VLOG=-  \n",
       "4  Apache (internal dummy connection)\" VLOG=-  "
      ],
      "text/html": "<div>\n<style scoped>\n    .dataframe tbody tr th:only-of-type {\n        vertical-align: middle;\n    }\n\n    .dataframe tbody tr th {\n        vertical-align: top;\n    }\n\n    .dataframe thead th {\n        text-align: right;\n    }\n</style>\n<table border=\"1\" class=\"dataframe\">\n  <thead>\n    <tr style=\"text-align: right;\">\n      <th></th>\n      <th>DNS</th>\n      <th>IP</th>\n      <th>Location</th>\n      <th>Date</th>\n      <th>Time</th>\n      <th>Request</th>\n      <th>Status</th>\n      <th>Size</th>\n      <th>Referer</th>\n      <th>UserAgent</th>\n    </tr>\n  </thead>\n  <tbody>\n    <tr>\n      <th>0</th>\n      <td>localhost</td>\n      <td>127.0.0.1</td>\n      <td></td>\n      <td>2014-02-23</td>\n      <td>03:10:31 +0100</td>\n      <td>OPTIONS * HTTP/1.0</td>\n      <td>200</td>\n      <td>200</td>\n      <td>\"-\"</td>\n      <td>Apache (internal dummy connection)\" VLOG=-</td>\n    </tr>\n    <tr>\n      <th>1</th>\n      <td>localhost</td>\n      <td>127.0.0.1</td>\n      <td></td>\n      <td>2014-02-23</td>\n      <td>03:10:31 +0100</td>\n      <td>OPTIONS * HTTP/1.0</td>\n      <td>200</td>\n      <td>200</td>\n      <td>\"-\"</td>\n      <td>Apache (internal dummy connection)\" VLOG=-</td>\n    </tr>\n    <tr>\n      <th>2</th>\n      <td>localhost</td>\n      <td>127.0.0.1</td>\n      <td></td>\n      <td>2014-02-23</td>\n      <td>03:10:31 +0100</td>\n      <td>OPTIONS * HTTP/1.0</td>\n      <td>200</td>\n      <td>200</td>\n      <td>\"-\"</td>\n      <td>Apache (internal dummy connection)\" VLOG=-</td>\n    </tr>\n    <tr>\n      <th>3</th>\n      <td>localhost</td>\n      <td>127.0.0.1</td>\n      <td></td>\n      <td>2014-02-23</td>\n      <td>03:10:31 +0100</td>\n      <td>OPTIONS * HTTP/1.0</td>\n      <td>200</td>\n      <td>200</td>\n      <td>\"-\"</td>\n      <td>Apache (internal dummy connection)\" VLOG=-</td>\n    </tr>\n    <tr>\n      <th>4</th>\n      <td>localhost</td>\n      <td>127.0.0.1</td>\n      <td></td>\n      <td>2014-02-23</td>\n      <td>03:10:31 +0100</td>\n      <td>OPTIONS * HTTP/1.0</td>\n      <td>200</td>\n      <td>200</td>\n      <td>\"-\"</td>\n      <td>Apache (internal dummy connection)\" VLOG=-</td>\n    </tr>\n  </tbody>\n</table>\n</div>"
     },
     "metadata": {},
     "execution_count": 15
    }
   ],
   "source": [
    "# Size data extraction\n",
    "\n",
    "Logs_copy.Size = Logs_copy.Status.str.extract('(\\d+$)')\n",
    "Logs_copy.head()"
   ]
  },
  {
   "cell_type": "code",
   "execution_count": 16,
   "metadata": {
    "scrolled": true
   },
   "outputs": [
    {
     "output_type": "execute_result",
     "data": {
      "text/plain": [
       "         DNS         IP Location       Date            Time  \\\n",
       "0  localhost  127.0.0.1          2014-02-23  03:10:31 +0100   \n",
       "1  localhost  127.0.0.1          2014-02-23  03:10:31 +0100   \n",
       "2  localhost  127.0.0.1          2014-02-23  03:10:31 +0100   \n",
       "3  localhost  127.0.0.1          2014-02-23  03:10:31 +0100   \n",
       "4  localhost  127.0.0.1          2014-02-23  03:10:31 +0100   \n",
       "\n",
       "              Request Status Size Referer  \\\n",
       "0  OPTIONS * HTTP/1.0    200  200     \"-\"   \n",
       "1  OPTIONS * HTTP/1.0    200  200     \"-\"   \n",
       "2  OPTIONS * HTTP/1.0    200  200     \"-\"   \n",
       "3  OPTIONS * HTTP/1.0    200  200     \"-\"   \n",
       "4  OPTIONS * HTTP/1.0    200  200     \"-\"   \n",
       "\n",
       "                                    UserAgent  \n",
       "0  Apache (internal dummy connection)\" VLOG=-  \n",
       "1  Apache (internal dummy connection)\" VLOG=-  \n",
       "2  Apache (internal dummy connection)\" VLOG=-  \n",
       "3  Apache (internal dummy connection)\" VLOG=-  \n",
       "4  Apache (internal dummy connection)\" VLOG=-  "
      ],
      "text/html": "<div>\n<style scoped>\n    .dataframe tbody tr th:only-of-type {\n        vertical-align: middle;\n    }\n\n    .dataframe tbody tr th {\n        vertical-align: top;\n    }\n\n    .dataframe thead th {\n        text-align: right;\n    }\n</style>\n<table border=\"1\" class=\"dataframe\">\n  <thead>\n    <tr style=\"text-align: right;\">\n      <th></th>\n      <th>DNS</th>\n      <th>IP</th>\n      <th>Location</th>\n      <th>Date</th>\n      <th>Time</th>\n      <th>Request</th>\n      <th>Status</th>\n      <th>Size</th>\n      <th>Referer</th>\n      <th>UserAgent</th>\n    </tr>\n  </thead>\n  <tbody>\n    <tr>\n      <th>0</th>\n      <td>localhost</td>\n      <td>127.0.0.1</td>\n      <td></td>\n      <td>2014-02-23</td>\n      <td>03:10:31 +0100</td>\n      <td>OPTIONS * HTTP/1.0</td>\n      <td>200</td>\n      <td>200</td>\n      <td>\"-\"</td>\n      <td>Apache (internal dummy connection)\" VLOG=-</td>\n    </tr>\n    <tr>\n      <th>1</th>\n      <td>localhost</td>\n      <td>127.0.0.1</td>\n      <td></td>\n      <td>2014-02-23</td>\n      <td>03:10:31 +0100</td>\n      <td>OPTIONS * HTTP/1.0</td>\n      <td>200</td>\n      <td>200</td>\n      <td>\"-\"</td>\n      <td>Apache (internal dummy connection)\" VLOG=-</td>\n    </tr>\n    <tr>\n      <th>2</th>\n      <td>localhost</td>\n      <td>127.0.0.1</td>\n      <td></td>\n      <td>2014-02-23</td>\n      <td>03:10:31 +0100</td>\n      <td>OPTIONS * HTTP/1.0</td>\n      <td>200</td>\n      <td>200</td>\n      <td>\"-\"</td>\n      <td>Apache (internal dummy connection)\" VLOG=-</td>\n    </tr>\n    <tr>\n      <th>3</th>\n      <td>localhost</td>\n      <td>127.0.0.1</td>\n      <td></td>\n      <td>2014-02-23</td>\n      <td>03:10:31 +0100</td>\n      <td>OPTIONS * HTTP/1.0</td>\n      <td>200</td>\n      <td>200</td>\n      <td>\"-\"</td>\n      <td>Apache (internal dummy connection)\" VLOG=-</td>\n    </tr>\n    <tr>\n      <th>4</th>\n      <td>localhost</td>\n      <td>127.0.0.1</td>\n      <td></td>\n      <td>2014-02-23</td>\n      <td>03:10:31 +0100</td>\n      <td>OPTIONS * HTTP/1.0</td>\n      <td>200</td>\n      <td>200</td>\n      <td>\"-\"</td>\n      <td>Apache (internal dummy connection)\" VLOG=-</td>\n    </tr>\n  </tbody>\n</table>\n</div>"
     },
     "metadata": {},
     "execution_count": 16
    }
   ],
   "source": [
    "# Status data extraction\n",
    "\n",
    "Logs_copy.Status = Logs_copy.Status.str.extract('(\\d{3})')\n",
    "Logs_copy.head()"
   ]
  },
  {
   "cell_type": "code",
   "execution_count": 17,
   "metadata": {},
   "outputs": [
    {
     "output_type": "execute_result",
     "data": {
      "text/plain": [
       "                   DNS               IP Location       Date            Time  \\\n",
       "0            localhost        127.0.0.1          2014-02-23  03:10:31 +0100   \n",
       "1            localhost        127.0.0.1          2014-02-23  03:10:31 +0100   \n",
       "2            localhost        127.0.0.1          2014-02-23  03:10:31 +0100   \n",
       "3            localhost        127.0.0.1          2014-02-23  03:10:31 +0100   \n",
       "4            localhost        127.0.0.1          2014-02-23  03:10:31 +0100   \n",
       "..                 ...              ...      ...        ...             ...   \n",
       "995  www.akumenius.com    66.249.76.216          2014-02-23  03:34:53 +0100   \n",
       "996  www.akumenius.com    66.249.76.216          2014-02-23  03:34:53 +0100   \n",
       "997  www.akumenius.com  162.243.192.191          2014-02-23  03:34:55 +0100   \n",
       "998  www.akumenius.com    66.249.76.216          2014-02-23  03:34:56 +0100   \n",
       "999  www.akumenius.com    66.249.76.216          2014-02-23  03:34:58 +0100   \n",
       "\n",
       "                                               Request Status   Size  \\\n",
       "0                                   OPTIONS * HTTP/1.0    200    200   \n",
       "1                                   OPTIONS * HTTP/1.0    200    200   \n",
       "2                                   OPTIONS * HTTP/1.0    200    200   \n",
       "3                                   OPTIONS * HTTP/1.0    200    200   \n",
       "4                                   OPTIONS * HTTP/1.0    200    200   \n",
       "..                                                 ...    ...    ...   \n",
       "995  GET /destinos-baratos/destinosEstrelles/hotele...    200   8812   \n",
       "996  GET /hoteles-baratos/ofertas-hotel-Apollo-Hote...    404   3100   \n",
       "997                            GET /escapadas HTTP/1.1    200   9509   \n",
       "998  GET /hoteles-baratos/ofertas-hotel-Al-Hamra-Fo...    404   3100   \n",
       "999  GET /destinos-caracteristicas/hoteles-baratos-...    200  17163   \n",
       "\n",
       "                        Referer  \\\n",
       "0                           \"-\"   \n",
       "1                           \"-\"   \n",
       "2                           \"-\"   \n",
       "3                           \"-\"   \n",
       "4                           \"-\"   \n",
       "..                          ...   \n",
       "995                          -\"   \n",
       "996                          -\"   \n",
       "997  http://www.akumenius.com/\"   \n",
       "998                          -\"   \n",
       "999                          -\"   \n",
       "\n",
       "                                             UserAgent  \n",
       "0           Apache (internal dummy connection)\" VLOG=-  \n",
       "1           Apache (internal dummy connection)\" VLOG=-  \n",
       "2           Apache (internal dummy connection)\" VLOG=-  \n",
       "3           Apache (internal dummy connection)\" VLOG=-  \n",
       "4           Apache (internal dummy connection)\" VLOG=-  \n",
       "..                                                 ...  \n",
       "995  Mozilla/5.0 (compatible; Googlebot/2.1; +http:...  \n",
       "996  Mozilla/5.0 (compatible; Googlebot/2.1; +http:...  \n",
       "997  Mozilla/5.0 (compatible; spbot/4.0.7; +http://...  \n",
       "998  Mozilla/5.0 (compatible; Googlebot/2.1; +http:...  \n",
       "999  Mozilla/5.0 (compatible; Googlebot/2.1; +http:...  \n",
       "\n",
       "[1000 rows x 10 columns]"
      ],
      "text/html": "<div>\n<style scoped>\n    .dataframe tbody tr th:only-of-type {\n        vertical-align: middle;\n    }\n\n    .dataframe tbody tr th {\n        vertical-align: top;\n    }\n\n    .dataframe thead th {\n        text-align: right;\n    }\n</style>\n<table border=\"1\" class=\"dataframe\">\n  <thead>\n    <tr style=\"text-align: right;\">\n      <th></th>\n      <th>DNS</th>\n      <th>IP</th>\n      <th>Location</th>\n      <th>Date</th>\n      <th>Time</th>\n      <th>Request</th>\n      <th>Status</th>\n      <th>Size</th>\n      <th>Referer</th>\n      <th>UserAgent</th>\n    </tr>\n  </thead>\n  <tbody>\n    <tr>\n      <th>0</th>\n      <td>localhost</td>\n      <td>127.0.0.1</td>\n      <td></td>\n      <td>2014-02-23</td>\n      <td>03:10:31 +0100</td>\n      <td>OPTIONS * HTTP/1.0</td>\n      <td>200</td>\n      <td>200</td>\n      <td>\"-\"</td>\n      <td>Apache (internal dummy connection)\" VLOG=-</td>\n    </tr>\n    <tr>\n      <th>1</th>\n      <td>localhost</td>\n      <td>127.0.0.1</td>\n      <td></td>\n      <td>2014-02-23</td>\n      <td>03:10:31 +0100</td>\n      <td>OPTIONS * HTTP/1.0</td>\n      <td>200</td>\n      <td>200</td>\n      <td>\"-\"</td>\n      <td>Apache (internal dummy connection)\" VLOG=-</td>\n    </tr>\n    <tr>\n      <th>2</th>\n      <td>localhost</td>\n      <td>127.0.0.1</td>\n      <td></td>\n      <td>2014-02-23</td>\n      <td>03:10:31 +0100</td>\n      <td>OPTIONS * HTTP/1.0</td>\n      <td>200</td>\n      <td>200</td>\n      <td>\"-\"</td>\n      <td>Apache (internal dummy connection)\" VLOG=-</td>\n    </tr>\n    <tr>\n      <th>3</th>\n      <td>localhost</td>\n      <td>127.0.0.1</td>\n      <td></td>\n      <td>2014-02-23</td>\n      <td>03:10:31 +0100</td>\n      <td>OPTIONS * HTTP/1.0</td>\n      <td>200</td>\n      <td>200</td>\n      <td>\"-\"</td>\n      <td>Apache (internal dummy connection)\" VLOG=-</td>\n    </tr>\n    <tr>\n      <th>4</th>\n      <td>localhost</td>\n      <td>127.0.0.1</td>\n      <td></td>\n      <td>2014-02-23</td>\n      <td>03:10:31 +0100</td>\n      <td>OPTIONS * HTTP/1.0</td>\n      <td>200</td>\n      <td>200</td>\n      <td>\"-\"</td>\n      <td>Apache (internal dummy connection)\" VLOG=-</td>\n    </tr>\n    <tr>\n      <th>...</th>\n      <td>...</td>\n      <td>...</td>\n      <td>...</td>\n      <td>...</td>\n      <td>...</td>\n      <td>...</td>\n      <td>...</td>\n      <td>...</td>\n      <td>...</td>\n      <td>...</td>\n    </tr>\n    <tr>\n      <th>995</th>\n      <td>www.akumenius.com</td>\n      <td>66.249.76.216</td>\n      <td></td>\n      <td>2014-02-23</td>\n      <td>03:34:53 +0100</td>\n      <td>GET /destinos-baratos/destinosEstrelles/hotele...</td>\n      <td>200</td>\n      <td>8812</td>\n      <td>-\"</td>\n      <td>Mozilla/5.0 (compatible; Googlebot/2.1; +http:...</td>\n    </tr>\n    <tr>\n      <th>996</th>\n      <td>www.akumenius.com</td>\n      <td>66.249.76.216</td>\n      <td></td>\n      <td>2014-02-23</td>\n      <td>03:34:53 +0100</td>\n      <td>GET /hoteles-baratos/ofertas-hotel-Apollo-Hote...</td>\n      <td>404</td>\n      <td>3100</td>\n      <td>-\"</td>\n      <td>Mozilla/5.0 (compatible; Googlebot/2.1; +http:...</td>\n    </tr>\n    <tr>\n      <th>997</th>\n      <td>www.akumenius.com</td>\n      <td>162.243.192.191</td>\n      <td></td>\n      <td>2014-02-23</td>\n      <td>03:34:55 +0100</td>\n      <td>GET /escapadas HTTP/1.1</td>\n      <td>200</td>\n      <td>9509</td>\n      <td>http://www.akumenius.com/\"</td>\n      <td>Mozilla/5.0 (compatible; spbot/4.0.7; +http://...</td>\n    </tr>\n    <tr>\n      <th>998</th>\n      <td>www.akumenius.com</td>\n      <td>66.249.76.216</td>\n      <td></td>\n      <td>2014-02-23</td>\n      <td>03:34:56 +0100</td>\n      <td>GET /hoteles-baratos/ofertas-hotel-Al-Hamra-Fo...</td>\n      <td>404</td>\n      <td>3100</td>\n      <td>-\"</td>\n      <td>Mozilla/5.0 (compatible; Googlebot/2.1; +http:...</td>\n    </tr>\n    <tr>\n      <th>999</th>\n      <td>www.akumenius.com</td>\n      <td>66.249.76.216</td>\n      <td></td>\n      <td>2014-02-23</td>\n      <td>03:34:58 +0100</td>\n      <td>GET /destinos-caracteristicas/hoteles-baratos-...</td>\n      <td>200</td>\n      <td>17163</td>\n      <td>-\"</td>\n      <td>Mozilla/5.0 (compatible; Googlebot/2.1; +http:...</td>\n    </tr>\n  </tbody>\n</table>\n<p>1000 rows × 10 columns</p>\n</div>"
     },
     "metadata": {},
     "execution_count": 17
    }
   ],
   "source": [
    "    \n",
    "for index, row in Logs_copy.iterrows(): \n",
    "    \n",
    "    if '(\\d\"$)' in row.Referer:\n",
    "        row.Referer = \" \"\n",
    "\n",
    "Logs_copy"
   ]
  },
  {
   "cell_type": "code",
   "execution_count": 18,
   "metadata": {},
   "outputs": [],
   "source": [
    "for index, row in Logs_copy.iterrows(): \n",
    "    \n",
    "    if re.search('-\"', row.Referer):\n",
    "\n",
    "        row.Referer = \" \""
   ]
  },
  {
   "cell_type": "code",
   "execution_count": 19,
   "metadata": {},
   "outputs": [
    {
     "output_type": "execute_result",
     "data": {
      "text/plain": [
       "                   DNS               IP Location       Date            Time  \\\n",
       "0            localhost        127.0.0.1          2014-02-23  03:10:31 +0100   \n",
       "1            localhost        127.0.0.1          2014-02-23  03:10:31 +0100   \n",
       "2            localhost        127.0.0.1          2014-02-23  03:10:31 +0100   \n",
       "3            localhost        127.0.0.1          2014-02-23  03:10:31 +0100   \n",
       "4            localhost        127.0.0.1          2014-02-23  03:10:31 +0100   \n",
       "..                 ...              ...      ...        ...             ...   \n",
       "995  www.akumenius.com    66.249.76.216          2014-02-23  03:34:53 +0100   \n",
       "996  www.akumenius.com    66.249.76.216          2014-02-23  03:34:53 +0100   \n",
       "997  www.akumenius.com  162.243.192.191          2014-02-23  03:34:55 +0100   \n",
       "998  www.akumenius.com    66.249.76.216          2014-02-23  03:34:56 +0100   \n",
       "999  www.akumenius.com    66.249.76.216          2014-02-23  03:34:58 +0100   \n",
       "\n",
       "                                               Request Status   Size  \\\n",
       "0                                   OPTIONS * HTTP/1.0    200    200   \n",
       "1                                   OPTIONS * HTTP/1.0    200    200   \n",
       "2                                   OPTIONS * HTTP/1.0    200    200   \n",
       "3                                   OPTIONS * HTTP/1.0    200    200   \n",
       "4                                   OPTIONS * HTTP/1.0    200    200   \n",
       "..                                                 ...    ...    ...   \n",
       "995  GET /destinos-baratos/destinosEstrelles/hotele...    200   8812   \n",
       "996  GET /hoteles-baratos/ofertas-hotel-Apollo-Hote...    404   3100   \n",
       "997                            GET /escapadas HTTP/1.1    200   9509   \n",
       "998  GET /hoteles-baratos/ofertas-hotel-Al-Hamra-Fo...    404   3100   \n",
       "999  GET /destinos-caracteristicas/hoteles-baratos-...    200  17163   \n",
       "\n",
       "                        Referer  \\\n",
       "0                           \"-\"   \n",
       "1                           \"-\"   \n",
       "2                           \"-\"   \n",
       "3                           \"-\"   \n",
       "4                           \"-\"   \n",
       "..                          ...   \n",
       "995                          -\"   \n",
       "996                          -\"   \n",
       "997  http://www.akumenius.com/\"   \n",
       "998                          -\"   \n",
       "999                          -\"   \n",
       "\n",
       "                                             UserAgent  \n",
       "0           Apache (internal dummy connection)\" VLOG=-  \n",
       "1           Apache (internal dummy connection)\" VLOG=-  \n",
       "2           Apache (internal dummy connection)\" VLOG=-  \n",
       "3           Apache (internal dummy connection)\" VLOG=-  \n",
       "4           Apache (internal dummy connection)\" VLOG=-  \n",
       "..                                                 ...  \n",
       "995  Mozilla/5.0 (compatible; Googlebot/2.1; +http:...  \n",
       "996  Mozilla/5.0 (compatible; Googlebot/2.1; +http:...  \n",
       "997  Mozilla/5.0 (compatible; spbot/4.0.7; +http://...  \n",
       "998  Mozilla/5.0 (compatible; Googlebot/2.1; +http:...  \n",
       "999  Mozilla/5.0 (compatible; Googlebot/2.1; +http:...  \n",
       "\n",
       "[1000 rows x 10 columns]"
      ],
      "text/html": "<div>\n<style scoped>\n    .dataframe tbody tr th:only-of-type {\n        vertical-align: middle;\n    }\n\n    .dataframe tbody tr th {\n        vertical-align: top;\n    }\n\n    .dataframe thead th {\n        text-align: right;\n    }\n</style>\n<table border=\"1\" class=\"dataframe\">\n  <thead>\n    <tr style=\"text-align: right;\">\n      <th></th>\n      <th>DNS</th>\n      <th>IP</th>\n      <th>Location</th>\n      <th>Date</th>\n      <th>Time</th>\n      <th>Request</th>\n      <th>Status</th>\n      <th>Size</th>\n      <th>Referer</th>\n      <th>UserAgent</th>\n    </tr>\n  </thead>\n  <tbody>\n    <tr>\n      <th>0</th>\n      <td>localhost</td>\n      <td>127.0.0.1</td>\n      <td></td>\n      <td>2014-02-23</td>\n      <td>03:10:31 +0100</td>\n      <td>OPTIONS * HTTP/1.0</td>\n      <td>200</td>\n      <td>200</td>\n      <td>\"-\"</td>\n      <td>Apache (internal dummy connection)\" VLOG=-</td>\n    </tr>\n    <tr>\n      <th>1</th>\n      <td>localhost</td>\n      <td>127.0.0.1</td>\n      <td></td>\n      <td>2014-02-23</td>\n      <td>03:10:31 +0100</td>\n      <td>OPTIONS * HTTP/1.0</td>\n      <td>200</td>\n      <td>200</td>\n      <td>\"-\"</td>\n      <td>Apache (internal dummy connection)\" VLOG=-</td>\n    </tr>\n    <tr>\n      <th>2</th>\n      <td>localhost</td>\n      <td>127.0.0.1</td>\n      <td></td>\n      <td>2014-02-23</td>\n      <td>03:10:31 +0100</td>\n      <td>OPTIONS * HTTP/1.0</td>\n      <td>200</td>\n      <td>200</td>\n      <td>\"-\"</td>\n      <td>Apache (internal dummy connection)\" VLOG=-</td>\n    </tr>\n    <tr>\n      <th>3</th>\n      <td>localhost</td>\n      <td>127.0.0.1</td>\n      <td></td>\n      <td>2014-02-23</td>\n      <td>03:10:31 +0100</td>\n      <td>OPTIONS * HTTP/1.0</td>\n      <td>200</td>\n      <td>200</td>\n      <td>\"-\"</td>\n      <td>Apache (internal dummy connection)\" VLOG=-</td>\n    </tr>\n    <tr>\n      <th>4</th>\n      <td>localhost</td>\n      <td>127.0.0.1</td>\n      <td></td>\n      <td>2014-02-23</td>\n      <td>03:10:31 +0100</td>\n      <td>OPTIONS * HTTP/1.0</td>\n      <td>200</td>\n      <td>200</td>\n      <td>\"-\"</td>\n      <td>Apache (internal dummy connection)\" VLOG=-</td>\n    </tr>\n    <tr>\n      <th>...</th>\n      <td>...</td>\n      <td>...</td>\n      <td>...</td>\n      <td>...</td>\n      <td>...</td>\n      <td>...</td>\n      <td>...</td>\n      <td>...</td>\n      <td>...</td>\n      <td>...</td>\n    </tr>\n    <tr>\n      <th>995</th>\n      <td>www.akumenius.com</td>\n      <td>66.249.76.216</td>\n      <td></td>\n      <td>2014-02-23</td>\n      <td>03:34:53 +0100</td>\n      <td>GET /destinos-baratos/destinosEstrelles/hotele...</td>\n      <td>200</td>\n      <td>8812</td>\n      <td>-\"</td>\n      <td>Mozilla/5.0 (compatible; Googlebot/2.1; +http:...</td>\n    </tr>\n    <tr>\n      <th>996</th>\n      <td>www.akumenius.com</td>\n      <td>66.249.76.216</td>\n      <td></td>\n      <td>2014-02-23</td>\n      <td>03:34:53 +0100</td>\n      <td>GET /hoteles-baratos/ofertas-hotel-Apollo-Hote...</td>\n      <td>404</td>\n      <td>3100</td>\n      <td>-\"</td>\n      <td>Mozilla/5.0 (compatible; Googlebot/2.1; +http:...</td>\n    </tr>\n    <tr>\n      <th>997</th>\n      <td>www.akumenius.com</td>\n      <td>162.243.192.191</td>\n      <td></td>\n      <td>2014-02-23</td>\n      <td>03:34:55 +0100</td>\n      <td>GET /escapadas HTTP/1.1</td>\n      <td>200</td>\n      <td>9509</td>\n      <td>http://www.akumenius.com/\"</td>\n      <td>Mozilla/5.0 (compatible; spbot/4.0.7; +http://...</td>\n    </tr>\n    <tr>\n      <th>998</th>\n      <td>www.akumenius.com</td>\n      <td>66.249.76.216</td>\n      <td></td>\n      <td>2014-02-23</td>\n      <td>03:34:56 +0100</td>\n      <td>GET /hoteles-baratos/ofertas-hotel-Al-Hamra-Fo...</td>\n      <td>404</td>\n      <td>3100</td>\n      <td>-\"</td>\n      <td>Mozilla/5.0 (compatible; Googlebot/2.1; +http:...</td>\n    </tr>\n    <tr>\n      <th>999</th>\n      <td>www.akumenius.com</td>\n      <td>66.249.76.216</td>\n      <td></td>\n      <td>2014-02-23</td>\n      <td>03:34:58 +0100</td>\n      <td>GET /destinos-caracteristicas/hoteles-baratos-...</td>\n      <td>200</td>\n      <td>17163</td>\n      <td>-\"</td>\n      <td>Mozilla/5.0 (compatible; Googlebot/2.1; +http:...</td>\n    </tr>\n  </tbody>\n</table>\n<p>1000 rows × 10 columns</p>\n</div>"
     },
     "metadata": {},
     "execution_count": 19
    }
   ],
   "source": [
    "Logs_copy"
   ]
  },
  {
   "cell_type": "markdown",
   "metadata": {},
   "source": [
    "###  Exercici 3\n",
    "- Geolocalitza les IP's. Aqui tens una pagina de interes:\n",
    "  - [IP2Locattion](https://blog.ip2location.com/knowledge-base/how-to-add-a-sub-account-in-ip2location/)"
   ]
  },
  {
   "cell_type": "code",
   "execution_count": 20,
   "metadata": {},
   "outputs": [],
   "source": [
    "import json\n",
    "from ip2geotools.databases.noncommercial import DbIpCity"
   ]
  },
  {
   "cell_type": "code",
   "execution_count": 21,
   "metadata": {},
   "outputs": [
    {
     "output_type": "execute_result",
     "data": {
      "text/plain": [
       "array(['127.0.0.1', '66.249.76.216', '5.255.253.53', '157.55.35.112',\n",
       "       '193.111.141.116', '5.10.83.71', '180.76.5.223', '180.76.6.148',\n",
       "       '180.76.5.188', '180.76.6.135', '180.76.6.44', '180.76.5.172',\n",
       "       '180.76.5.18', '157.56.92.174', '74.86.158.107', '180.76.6.136',\n",
       "       '5.10.83.87', '5.10.83.21', '5.10.83.31', '180.76.5.64',\n",
       "       '180.76.5.31', '180.76.5.27', '180.76.5.65', '157.55.33.97',\n",
       "       '217.12.28.5', '180.76.6.64', '5.10.83.64', '180.76.5.195',\n",
       "       '180.76.6.40', '180.76.5.200', '131.253.24.3', '199.30.20.223',\n",
       "       '180.76.6.50', '180.76.5.168', '157.55.32.88', '5.10.83.88',\n",
       "       '180.76.5.23', '180.76.5.145', '180.76.6.16', '176.31.255.177',\n",
       "       '185.10.104.131', '180.76.6.55', '180.76.5.95', '180.76.6.59',\n",
       "       '157.55.33.26', '180.76.5.213', '192.81.215.7', '180.76.6.133',\n",
       "       '5.10.83.52', '174.129.237.157', '180.76.5.38', '180.76.5.177',\n",
       "       '180.76.6.21', '180.76.6.159', '180.76.5.199', '180.76.6.157',\n",
       "       '157.55.32.183', '180.76.6.146', '180.76.6.130', '180.76.6.230',\n",
       "       '180.76.5.156', '5.10.83.73', '5.10.83.46', '180.76.5.201',\n",
       "       '5.10.83.51', '185.10.104.194', '162.243.192.191', '180.76.5.69',\n",
       "       '180.76.5.203'], dtype=object)"
      ]
     },
     "metadata": {},
     "execution_count": 21
    }
   ],
   "source": [
    "# Extract Ips\n",
    "\n",
    "ips = Logs_copy.IP.unique()\n",
    "ips"
   ]
  },
  {
   "cell_type": "code",
   "execution_count": 22,
   "metadata": {},
   "outputs": [],
   "source": [
    "# Function for extract Locations\n",
    "\n",
    "localhost = \"127.0.0.1\"\n",
    "\n",
    "def extract_location(ip):\n",
    "    \n",
    "    try:\n",
    "        if ip == localhost:\n",
    "            return ('Local', 'Local')\n",
    "\n",
    "        else:\n",
    "            response = DbIpCity.get(ip, api_key = 'free').to_json()    \n",
    "            data = json.loads(response)\n",
    "            return data['city'], data['country']\n",
    "    \n",
    "    except:\n",
    "        return np.nan"
   ]
  },
  {
   "cell_type": "code",
   "execution_count": 23,
   "metadata": {},
   "outputs": [
    {
     "output_type": "execute_result",
     "data": {
      "text/plain": [
       "('Mountain View', 'US')"
      ]
     },
     "metadata": {},
     "execution_count": 23
    }
   ],
   "source": [
    "# Extract Location Test\n",
    "\n",
    "extract_location(Logs_copy.IP[50])"
   ]
  },
  {
   "cell_type": "code",
   "execution_count": 24,
   "metadata": {},
   "outputs": [
    {
     "output_type": "stream",
     "name": "stdout",
     "text": [
      "0:00:36.318211\n"
     ]
    }
   ],
   "source": [
    "# List of locations for unique Ips\n",
    "start = time.monotonic()\n",
    "\n",
    "locations = []\n",
    "\n",
    "for item in ips:\n",
    "    \n",
    "    locations.append(extract_location(item))  \n",
    "\n",
    "locations\n",
    "\n",
    "end = time.monotonic()\n",
    "\n",
    "print(timedelta(seconds = end - start))\n"
   ]
  },
  {
   "cell_type": "code",
   "execution_count": 25,
   "metadata": {},
   "outputs": [
    {
     "output_type": "execute_result",
     "data": {
      "text/plain": [
       "[('Local', 'Local'),\n",
       " ('Mountain View', 'US'),\n",
       " ('Moscow (Tsentralnyy administrativnyy okrug)', 'RU'),\n",
       " ('Newark', 'US'),\n",
       " ('Amsterdam (Nieuwmarkt en Lastage)', 'NL'),\n",
       " ('Amsterdam', 'NL'),\n",
       " ('Beijing', 'CN'),\n",
       " ('Beijing', 'CN'),\n",
       " ('Beijing', 'CN'),\n",
       " ('Beijing', 'CN'),\n",
       " ('Beijing', 'CN'),\n",
       " ('Beijing', 'CN'),\n",
       " ('Beijing', 'CN'),\n",
       " ('Newark', 'US'),\n",
       " ('Chicago', 'US'),\n",
       " ('Beijing', 'CN'),\n",
       " ('Amsterdam', 'NL'),\n",
       " ('Road Town', 'VG'),\n",
       " ('Road Town', 'VG'),\n",
       " ('Beijing', 'CN'),\n",
       " ('Beijing', 'CN'),\n",
       " ('Beijing', 'CN'),\n",
       " ('Beijing', 'CN'),\n",
       " ('Newark', 'US'),\n",
       " ('Seville', 'ES'),\n",
       " ('Beijing', 'CN'),\n",
       " ('Amsterdam', 'NL'),\n",
       " ('Beijing', 'CN'),\n",
       " ('Beijing', 'CN'),\n",
       " ('Beijing', 'CN'),\n",
       " ('Ashburn', 'US'),\n",
       " ('Ashburn', 'US'),\n",
       " ('Beijing', 'CN'),\n",
       " ('Beijing', 'CN'),\n",
       " ('Newark', 'US'),\n",
       " ('Amsterdam', 'NL'),\n",
       " ('Beijing', 'CN'),\n",
       " ('Beijing', 'CN'),\n",
       " ('Beijing', 'CN'),\n",
       " ('Roubaix', 'FR'),\n",
       " ('Frankfurt am Main', 'DE'),\n",
       " ('Beijing', 'CN'),\n",
       " ('Beijing', 'CN'),\n",
       " ('Beijing', 'CN'),\n",
       " ('Newark', 'US'),\n",
       " ('Beijing', 'CN'),\n",
       " ('North Bergen', 'US'),\n",
       " ('Beijing', 'CN'),\n",
       " ('Stockholm (Kista)', 'SE'),\n",
       " ('Ashburn', 'US'),\n",
       " ('Beijing', 'CN'),\n",
       " ('Beijing', 'CN'),\n",
       " ('Beijing', 'CN'),\n",
       " ('Beijing', 'CN'),\n",
       " ('Beijing', 'CN'),\n",
       " ('Beijing', 'CN'),\n",
       " ('Newark', 'US'),\n",
       " ('Beijing', 'CN'),\n",
       " ('Beijing', 'CN'),\n",
       " ('Beijing', 'CN'),\n",
       " ('Beijing', 'CN'),\n",
       " ('Amsterdam', 'NL'),\n",
       " ('Stockholm (Kista)', 'SE'),\n",
       " ('Beijing', 'CN'),\n",
       " ('Stockholm (Kista)', 'SE'),\n",
       " ('Frankfurt am Main', 'DE'),\n",
       " ('New York', 'US'),\n",
       " ('Beijing', 'CN'),\n",
       " ('Beijing', 'CN')]"
      ]
     },
     "metadata": {},
     "execution_count": 25
    }
   ],
   "source": [
    "locations"
   ]
  },
  {
   "cell_type": "code",
   "execution_count": 26,
   "metadata": {},
   "outputs": [
    {
     "output_type": "stream",
     "name": "stdout",
     "text": [
      "0:00:00.652929\n"
     ]
    }
   ],
   "source": [
    "# Compare ips & add location\n",
    "start = time.monotonic()\n",
    "\n",
    "for index, row in Logs_copy.iterrows():\n",
    "    \n",
    "    # iterate the two lists\n",
    "    for a, b in zip(ips, locations):\n",
    "        \n",
    "        # Compare & add\n",
    "        if row.IP == a:\n",
    "            row.Location = b\n",
    "\n",
    "end = time.monotonic()\n",
    "\n",
    "print(timedelta(seconds = end - start))"
   ]
  },
  {
   "cell_type": "code",
   "execution_count": 27,
   "metadata": {},
   "outputs": [
    {
     "output_type": "execute_result",
     "data": {
      "text/plain": [
       "         DNS         IP Location       Date            Time  \\\n",
       "0  localhost  127.0.0.1          2014-02-23  03:10:31 +0100   \n",
       "1  localhost  127.0.0.1          2014-02-23  03:10:31 +0100   \n",
       "2  localhost  127.0.0.1          2014-02-23  03:10:31 +0100   \n",
       "3  localhost  127.0.0.1          2014-02-23  03:10:31 +0100   \n",
       "4  localhost  127.0.0.1          2014-02-23  03:10:31 +0100   \n",
       "\n",
       "              Request Status Size Referer  \\\n",
       "0  OPTIONS * HTTP/1.0    200  200     \"-\"   \n",
       "1  OPTIONS * HTTP/1.0    200  200     \"-\"   \n",
       "2  OPTIONS * HTTP/1.0    200  200     \"-\"   \n",
       "3  OPTIONS * HTTP/1.0    200  200     \"-\"   \n",
       "4  OPTIONS * HTTP/1.0    200  200     \"-\"   \n",
       "\n",
       "                                    UserAgent  \n",
       "0  Apache (internal dummy connection)\" VLOG=-  \n",
       "1  Apache (internal dummy connection)\" VLOG=-  \n",
       "2  Apache (internal dummy connection)\" VLOG=-  \n",
       "3  Apache (internal dummy connection)\" VLOG=-  \n",
       "4  Apache (internal dummy connection)\" VLOG=-  "
      ],
      "text/html": "<div>\n<style scoped>\n    .dataframe tbody tr th:only-of-type {\n        vertical-align: middle;\n    }\n\n    .dataframe tbody tr th {\n        vertical-align: top;\n    }\n\n    .dataframe thead th {\n        text-align: right;\n    }\n</style>\n<table border=\"1\" class=\"dataframe\">\n  <thead>\n    <tr style=\"text-align: right;\">\n      <th></th>\n      <th>DNS</th>\n      <th>IP</th>\n      <th>Location</th>\n      <th>Date</th>\n      <th>Time</th>\n      <th>Request</th>\n      <th>Status</th>\n      <th>Size</th>\n      <th>Referer</th>\n      <th>UserAgent</th>\n    </tr>\n  </thead>\n  <tbody>\n    <tr>\n      <th>0</th>\n      <td>localhost</td>\n      <td>127.0.0.1</td>\n      <td></td>\n      <td>2014-02-23</td>\n      <td>03:10:31 +0100</td>\n      <td>OPTIONS * HTTP/1.0</td>\n      <td>200</td>\n      <td>200</td>\n      <td>\"-\"</td>\n      <td>Apache (internal dummy connection)\" VLOG=-</td>\n    </tr>\n    <tr>\n      <th>1</th>\n      <td>localhost</td>\n      <td>127.0.0.1</td>\n      <td></td>\n      <td>2014-02-23</td>\n      <td>03:10:31 +0100</td>\n      <td>OPTIONS * HTTP/1.0</td>\n      <td>200</td>\n      <td>200</td>\n      <td>\"-\"</td>\n      <td>Apache (internal dummy connection)\" VLOG=-</td>\n    </tr>\n    <tr>\n      <th>2</th>\n      <td>localhost</td>\n      <td>127.0.0.1</td>\n      <td></td>\n      <td>2014-02-23</td>\n      <td>03:10:31 +0100</td>\n      <td>OPTIONS * HTTP/1.0</td>\n      <td>200</td>\n      <td>200</td>\n      <td>\"-\"</td>\n      <td>Apache (internal dummy connection)\" VLOG=-</td>\n    </tr>\n    <tr>\n      <th>3</th>\n      <td>localhost</td>\n      <td>127.0.0.1</td>\n      <td></td>\n      <td>2014-02-23</td>\n      <td>03:10:31 +0100</td>\n      <td>OPTIONS * HTTP/1.0</td>\n      <td>200</td>\n      <td>200</td>\n      <td>\"-\"</td>\n      <td>Apache (internal dummy connection)\" VLOG=-</td>\n    </tr>\n    <tr>\n      <th>4</th>\n      <td>localhost</td>\n      <td>127.0.0.1</td>\n      <td></td>\n      <td>2014-02-23</td>\n      <td>03:10:31 +0100</td>\n      <td>OPTIONS * HTTP/1.0</td>\n      <td>200</td>\n      <td>200</td>\n      <td>\"-\"</td>\n      <td>Apache (internal dummy connection)\" VLOG=-</td>\n    </tr>\n  </tbody>\n</table>\n</div>"
     },
     "metadata": {},
     "execution_count": 27
    }
   ],
   "source": [
    "Logs_copy.head()"
   ]
  },
  {
   "cell_type": "code",
   "execution_count": 28,
   "metadata": {},
   "outputs": [
    {
     "output_type": "execute_result",
     "data": {
      "text/plain": [
       "                   DNS               IP Location       Date            Time  \\\n",
       "0            localhost        127.0.0.1          2014-02-23  03:10:31 +0100   \n",
       "1            localhost        127.0.0.1          2014-02-23  03:10:31 +0100   \n",
       "2            localhost        127.0.0.1          2014-02-23  03:10:31 +0100   \n",
       "3            localhost        127.0.0.1          2014-02-23  03:10:31 +0100   \n",
       "4            localhost        127.0.0.1          2014-02-23  03:10:31 +0100   \n",
       "..                 ...              ...      ...        ...             ...   \n",
       "995  www.akumenius.com    66.249.76.216          2014-02-23  03:34:53 +0100   \n",
       "996  www.akumenius.com    66.249.76.216          2014-02-23  03:34:53 +0100   \n",
       "997  www.akumenius.com  162.243.192.191          2014-02-23  03:34:55 +0100   \n",
       "998  www.akumenius.com    66.249.76.216          2014-02-23  03:34:56 +0100   \n",
       "999  www.akumenius.com    66.249.76.216          2014-02-23  03:34:58 +0100   \n",
       "\n",
       "                                               Request Status   Size  \\\n",
       "0                                   OPTIONS * HTTP/1.0    200    200   \n",
       "1                                   OPTIONS * HTTP/1.0    200    200   \n",
       "2                                   OPTIONS * HTTP/1.0    200    200   \n",
       "3                                   OPTIONS * HTTP/1.0    200    200   \n",
       "4                                   OPTIONS * HTTP/1.0    200    200   \n",
       "..                                                 ...    ...    ...   \n",
       "995  GET /destinos-baratos/destinosEstrelles/hotele...    200   8812   \n",
       "996  GET /hoteles-baratos/ofertas-hotel-Apollo-Hote...    404   3100   \n",
       "997                            GET /escapadas HTTP/1.1    200   9509   \n",
       "998  GET /hoteles-baratos/ofertas-hotel-Al-Hamra-Fo...    404   3100   \n",
       "999  GET /destinos-caracteristicas/hoteles-baratos-...    200  17163   \n",
       "\n",
       "                        Referer  \\\n",
       "0                           \"-\"   \n",
       "1                           \"-\"   \n",
       "2                           \"-\"   \n",
       "3                           \"-\"   \n",
       "4                           \"-\"   \n",
       "..                          ...   \n",
       "995                          -\"   \n",
       "996                          -\"   \n",
       "997  http://www.akumenius.com/\"   \n",
       "998                          -\"   \n",
       "999                          -\"   \n",
       "\n",
       "                                             UserAgent  \\\n",
       "0           Apache (internal dummy connection)\" VLOG=-   \n",
       "1           Apache (internal dummy connection)\" VLOG=-   \n",
       "2           Apache (internal dummy connection)\" VLOG=-   \n",
       "3           Apache (internal dummy connection)\" VLOG=-   \n",
       "4           Apache (internal dummy connection)\" VLOG=-   \n",
       "..                                                 ...   \n",
       "995  Mozilla/5.0 (compatible; Googlebot/2.1; +http:...   \n",
       "996  Mozilla/5.0 (compatible; Googlebot/2.1; +http:...   \n",
       "997  Mozilla/5.0 (compatible; spbot/4.0.7; +http://...   \n",
       "998  Mozilla/5.0 (compatible; Googlebot/2.1; +http:...   \n",
       "999  Mozilla/5.0 (compatible; Googlebot/2.1; +http:...   \n",
       "\n",
       "                                    Client Name Client Type Client Version  \\\n",
       "0    Apache (internal dummy connection)\" VLOG=-     generic           None   \n",
       "1    Apache (internal dummy connection)\" VLOG=-     generic           None   \n",
       "2    Apache (internal dummy connection)\" VLOG=-     generic           None   \n",
       "3    Apache (internal dummy connection)\" VLOG=-     generic           None   \n",
       "4    Apache (internal dummy connection)\" VLOG=-     generic           None   \n",
       "..                                          ...         ...            ...   \n",
       "995                                   Googlebot     generic            2.1   \n",
       "996                                   Googlebot     generic            2.1   \n",
       "997                                       spbot     generic          4.0.7   \n",
       "998                                   Googlebot     generic            2.1   \n",
       "999                                   Googlebot     generic            2.1   \n",
       "\n",
       "    Os Name Os Version Device Type  \n",
       "0                                   \n",
       "1                                   \n",
       "2                                   \n",
       "3                                   \n",
       "4                                   \n",
       "..      ...        ...         ...  \n",
       "995                                 \n",
       "996                                 \n",
       "997                                 \n",
       "998                                 \n",
       "999                                 \n",
       "\n",
       "[1000 rows x 16 columns]"
      ],
      "text/html": "<div>\n<style scoped>\n    .dataframe tbody tr th:only-of-type {\n        vertical-align: middle;\n    }\n\n    .dataframe tbody tr th {\n        vertical-align: top;\n    }\n\n    .dataframe thead th {\n        text-align: right;\n    }\n</style>\n<table border=\"1\" class=\"dataframe\">\n  <thead>\n    <tr style=\"text-align: right;\">\n      <th></th>\n      <th>DNS</th>\n      <th>IP</th>\n      <th>Location</th>\n      <th>Date</th>\n      <th>Time</th>\n      <th>Request</th>\n      <th>Status</th>\n      <th>Size</th>\n      <th>Referer</th>\n      <th>UserAgent</th>\n      <th>Client Name</th>\n      <th>Client Type</th>\n      <th>Client Version</th>\n      <th>Os Name</th>\n      <th>Os Version</th>\n      <th>Device Type</th>\n    </tr>\n  </thead>\n  <tbody>\n    <tr>\n      <th>0</th>\n      <td>localhost</td>\n      <td>127.0.0.1</td>\n      <td></td>\n      <td>2014-02-23</td>\n      <td>03:10:31 +0100</td>\n      <td>OPTIONS * HTTP/1.0</td>\n      <td>200</td>\n      <td>200</td>\n      <td>\"-\"</td>\n      <td>Apache (internal dummy connection)\" VLOG=-</td>\n      <td>Apache (internal dummy connection)\" VLOG=-</td>\n      <td>generic</td>\n      <td>None</td>\n      <td></td>\n      <td></td>\n      <td></td>\n    </tr>\n    <tr>\n      <th>1</th>\n      <td>localhost</td>\n      <td>127.0.0.1</td>\n      <td></td>\n      <td>2014-02-23</td>\n      <td>03:10:31 +0100</td>\n      <td>OPTIONS * HTTP/1.0</td>\n      <td>200</td>\n      <td>200</td>\n      <td>\"-\"</td>\n      <td>Apache (internal dummy connection)\" VLOG=-</td>\n      <td>Apache (internal dummy connection)\" VLOG=-</td>\n      <td>generic</td>\n      <td>None</td>\n      <td></td>\n      <td></td>\n      <td></td>\n    </tr>\n    <tr>\n      <th>2</th>\n      <td>localhost</td>\n      <td>127.0.0.1</td>\n      <td></td>\n      <td>2014-02-23</td>\n      <td>03:10:31 +0100</td>\n      <td>OPTIONS * HTTP/1.0</td>\n      <td>200</td>\n      <td>200</td>\n      <td>\"-\"</td>\n      <td>Apache (internal dummy connection)\" VLOG=-</td>\n      <td>Apache (internal dummy connection)\" VLOG=-</td>\n      <td>generic</td>\n      <td>None</td>\n      <td></td>\n      <td></td>\n      <td></td>\n    </tr>\n    <tr>\n      <th>3</th>\n      <td>localhost</td>\n      <td>127.0.0.1</td>\n      <td></td>\n      <td>2014-02-23</td>\n      <td>03:10:31 +0100</td>\n      <td>OPTIONS * HTTP/1.0</td>\n      <td>200</td>\n      <td>200</td>\n      <td>\"-\"</td>\n      <td>Apache (internal dummy connection)\" VLOG=-</td>\n      <td>Apache (internal dummy connection)\" VLOG=-</td>\n      <td>generic</td>\n      <td>None</td>\n      <td></td>\n      <td></td>\n      <td></td>\n    </tr>\n    <tr>\n      <th>4</th>\n      <td>localhost</td>\n      <td>127.0.0.1</td>\n      <td></td>\n      <td>2014-02-23</td>\n      <td>03:10:31 +0100</td>\n      <td>OPTIONS * HTTP/1.0</td>\n      <td>200</td>\n      <td>200</td>\n      <td>\"-\"</td>\n      <td>Apache (internal dummy connection)\" VLOG=-</td>\n      <td>Apache (internal dummy connection)\" VLOG=-</td>\n      <td>generic</td>\n      <td>None</td>\n      <td></td>\n      <td></td>\n      <td></td>\n    </tr>\n    <tr>\n      <th>...</th>\n      <td>...</td>\n      <td>...</td>\n      <td>...</td>\n      <td>...</td>\n      <td>...</td>\n      <td>...</td>\n      <td>...</td>\n      <td>...</td>\n      <td>...</td>\n      <td>...</td>\n      <td>...</td>\n      <td>...</td>\n      <td>...</td>\n      <td>...</td>\n      <td>...</td>\n      <td>...</td>\n    </tr>\n    <tr>\n      <th>995</th>\n      <td>www.akumenius.com</td>\n      <td>66.249.76.216</td>\n      <td></td>\n      <td>2014-02-23</td>\n      <td>03:34:53 +0100</td>\n      <td>GET /destinos-baratos/destinosEstrelles/hotele...</td>\n      <td>200</td>\n      <td>8812</td>\n      <td>-\"</td>\n      <td>Mozilla/5.0 (compatible; Googlebot/2.1; +http:...</td>\n      <td>Googlebot</td>\n      <td>generic</td>\n      <td>2.1</td>\n      <td></td>\n      <td></td>\n      <td></td>\n    </tr>\n    <tr>\n      <th>996</th>\n      <td>www.akumenius.com</td>\n      <td>66.249.76.216</td>\n      <td></td>\n      <td>2014-02-23</td>\n      <td>03:34:53 +0100</td>\n      <td>GET /hoteles-baratos/ofertas-hotel-Apollo-Hote...</td>\n      <td>404</td>\n      <td>3100</td>\n      <td>-\"</td>\n      <td>Mozilla/5.0 (compatible; Googlebot/2.1; +http:...</td>\n      <td>Googlebot</td>\n      <td>generic</td>\n      <td>2.1</td>\n      <td></td>\n      <td></td>\n      <td></td>\n    </tr>\n    <tr>\n      <th>997</th>\n      <td>www.akumenius.com</td>\n      <td>162.243.192.191</td>\n      <td></td>\n      <td>2014-02-23</td>\n      <td>03:34:55 +0100</td>\n      <td>GET /escapadas HTTP/1.1</td>\n      <td>200</td>\n      <td>9509</td>\n      <td>http://www.akumenius.com/\"</td>\n      <td>Mozilla/5.0 (compatible; spbot/4.0.7; +http://...</td>\n      <td>spbot</td>\n      <td>generic</td>\n      <td>4.0.7</td>\n      <td></td>\n      <td></td>\n      <td></td>\n    </tr>\n    <tr>\n      <th>998</th>\n      <td>www.akumenius.com</td>\n      <td>66.249.76.216</td>\n      <td></td>\n      <td>2014-02-23</td>\n      <td>03:34:56 +0100</td>\n      <td>GET /hoteles-baratos/ofertas-hotel-Al-Hamra-Fo...</td>\n      <td>404</td>\n      <td>3100</td>\n      <td>-\"</td>\n      <td>Mozilla/5.0 (compatible; Googlebot/2.1; +http:...</td>\n      <td>Googlebot</td>\n      <td>generic</td>\n      <td>2.1</td>\n      <td></td>\n      <td></td>\n      <td></td>\n    </tr>\n    <tr>\n      <th>999</th>\n      <td>www.akumenius.com</td>\n      <td>66.249.76.216</td>\n      <td></td>\n      <td>2014-02-23</td>\n      <td>03:34:58 +0100</td>\n      <td>GET /destinos-caracteristicas/hoteles-baratos-...</td>\n      <td>200</td>\n      <td>17163</td>\n      <td>-\"</td>\n      <td>Mozilla/5.0 (compatible; Googlebot/2.1; +http:...</td>\n      <td>Googlebot</td>\n      <td>generic</td>\n      <td>2.1</td>\n      <td></td>\n      <td></td>\n      <td></td>\n    </tr>\n  </tbody>\n</table>\n<p>1000 rows × 16 columns</p>\n</div>"
     },
     "metadata": {},
     "execution_count": 28
    }
   ],
   "source": [
    "# Extract UserAgent Data\n",
    "\n",
    "from device_detector import SoftwareDetector\n",
    "\n",
    "Devices = Logs_copy['UserAgent']\n",
    "device = []\n",
    "\n",
    "for x in Devices:\n",
    "    \n",
    "    device.append(SoftwareDetector(x).parse())\n",
    "\n",
    "client_name = []\n",
    "client_type = []\n",
    "client_version = []\n",
    "os_name = []\n",
    "os_version = []\n",
    "device_type = []\n",
    "\n",
    "for x in device:\n",
    "    \n",
    "    client_name.append(x.client_name())\n",
    "    client_type.append(x.client_type())\n",
    "    client_version.append(x.client_version())\n",
    "    os_name.append(x.os_name())\n",
    "    os_version.append(x.os_version())\n",
    "    device_type.append(x.device_type())\n",
    "\n",
    "Logs_copy['Client Name'] = client_name\n",
    "Logs_copy['Client Type'] = client_type\n",
    "Logs_copy['Client Version'] = client_version\n",
    "Logs_copy['Os Name'] = os_name\n",
    "Logs_copy['Os Version'] = os_version\n",
    "Logs_copy['Device Type'] = device_type\n",
    "\n",
    "Logs_copy"
   ]
  },
  {
   "cell_type": "code",
   "execution_count": 29,
   "metadata": {},
   "outputs": [
    {
     "output_type": "execute_result",
     "data": {
      "text/plain": [
       "'Apache (internal dummy connection)\" VLOG=-'"
      ]
     },
     "metadata": {},
     "execution_count": 29
    }
   ],
   "source": [
    "Logs_copy.UserAgent[0]"
   ]
  },
  {
   "cell_type": "code",
   "execution_count": 30,
   "metadata": {},
   "outputs": [
    {
     "output_type": "execute_result",
     "data": {
      "text/plain": [
       "         DNS         IP Location       Date            Time  \\\n",
       "0  localhost  127.0.0.1          2014-02-23  03:10:31 +0100   \n",
       "1  localhost  127.0.0.1          2014-02-23  03:10:31 +0100   \n",
       "2  localhost  127.0.0.1          2014-02-23  03:10:31 +0100   \n",
       "3  localhost  127.0.0.1          2014-02-23  03:10:31 +0100   \n",
       "4  localhost  127.0.0.1          2014-02-23  03:10:31 +0100   \n",
       "\n",
       "              Request Status Size Referer  \\\n",
       "0  OPTIONS * HTTP/1.0    200  200     \"-\"   \n",
       "1  OPTIONS * HTTP/1.0    200  200     \"-\"   \n",
       "2  OPTIONS * HTTP/1.0    200  200     \"-\"   \n",
       "3  OPTIONS * HTTP/1.0    200  200     \"-\"   \n",
       "4  OPTIONS * HTTP/1.0    200  200     \"-\"   \n",
       "\n",
       "                                  Client Name Client Type Client Version  \\\n",
       "0  Apache (internal dummy connection)\" VLOG=-     generic           None   \n",
       "1  Apache (internal dummy connection)\" VLOG=-     generic           None   \n",
       "2  Apache (internal dummy connection)\" VLOG=-     generic           None   \n",
       "3  Apache (internal dummy connection)\" VLOG=-     generic           None   \n",
       "4  Apache (internal dummy connection)\" VLOG=-     generic           None   \n",
       "\n",
       "  Os Name Os Version Device Type  \n",
       "0                                 \n",
       "1                                 \n",
       "2                                 \n",
       "3                                 \n",
       "4                                 "
      ],
      "text/html": "<div>\n<style scoped>\n    .dataframe tbody tr th:only-of-type {\n        vertical-align: middle;\n    }\n\n    .dataframe tbody tr th {\n        vertical-align: top;\n    }\n\n    .dataframe thead th {\n        text-align: right;\n    }\n</style>\n<table border=\"1\" class=\"dataframe\">\n  <thead>\n    <tr style=\"text-align: right;\">\n      <th></th>\n      <th>DNS</th>\n      <th>IP</th>\n      <th>Location</th>\n      <th>Date</th>\n      <th>Time</th>\n      <th>Request</th>\n      <th>Status</th>\n      <th>Size</th>\n      <th>Referer</th>\n      <th>Client Name</th>\n      <th>Client Type</th>\n      <th>Client Version</th>\n      <th>Os Name</th>\n      <th>Os Version</th>\n      <th>Device Type</th>\n    </tr>\n  </thead>\n  <tbody>\n    <tr>\n      <th>0</th>\n      <td>localhost</td>\n      <td>127.0.0.1</td>\n      <td></td>\n      <td>2014-02-23</td>\n      <td>03:10:31 +0100</td>\n      <td>OPTIONS * HTTP/1.0</td>\n      <td>200</td>\n      <td>200</td>\n      <td>\"-\"</td>\n      <td>Apache (internal dummy connection)\" VLOG=-</td>\n      <td>generic</td>\n      <td>None</td>\n      <td></td>\n      <td></td>\n      <td></td>\n    </tr>\n    <tr>\n      <th>1</th>\n      <td>localhost</td>\n      <td>127.0.0.1</td>\n      <td></td>\n      <td>2014-02-23</td>\n      <td>03:10:31 +0100</td>\n      <td>OPTIONS * HTTP/1.0</td>\n      <td>200</td>\n      <td>200</td>\n      <td>\"-\"</td>\n      <td>Apache (internal dummy connection)\" VLOG=-</td>\n      <td>generic</td>\n      <td>None</td>\n      <td></td>\n      <td></td>\n      <td></td>\n    </tr>\n    <tr>\n      <th>2</th>\n      <td>localhost</td>\n      <td>127.0.0.1</td>\n      <td></td>\n      <td>2014-02-23</td>\n      <td>03:10:31 +0100</td>\n      <td>OPTIONS * HTTP/1.0</td>\n      <td>200</td>\n      <td>200</td>\n      <td>\"-\"</td>\n      <td>Apache (internal dummy connection)\" VLOG=-</td>\n      <td>generic</td>\n      <td>None</td>\n      <td></td>\n      <td></td>\n      <td></td>\n    </tr>\n    <tr>\n      <th>3</th>\n      <td>localhost</td>\n      <td>127.0.0.1</td>\n      <td></td>\n      <td>2014-02-23</td>\n      <td>03:10:31 +0100</td>\n      <td>OPTIONS * HTTP/1.0</td>\n      <td>200</td>\n      <td>200</td>\n      <td>\"-\"</td>\n      <td>Apache (internal dummy connection)\" VLOG=-</td>\n      <td>generic</td>\n      <td>None</td>\n      <td></td>\n      <td></td>\n      <td></td>\n    </tr>\n    <tr>\n      <th>4</th>\n      <td>localhost</td>\n      <td>127.0.0.1</td>\n      <td></td>\n      <td>2014-02-23</td>\n      <td>03:10:31 +0100</td>\n      <td>OPTIONS * HTTP/1.0</td>\n      <td>200</td>\n      <td>200</td>\n      <td>\"-\"</td>\n      <td>Apache (internal dummy connection)\" VLOG=-</td>\n      <td>generic</td>\n      <td>None</td>\n      <td></td>\n      <td></td>\n      <td></td>\n    </tr>\n  </tbody>\n</table>\n</div>"
     },
     "metadata": {},
     "execution_count": 30
    }
   ],
   "source": [
    "del(Logs_copy['UserAgent'])\n",
    "\n",
    "Logs_copy.head()"
   ]
  },
  {
   "cell_type": "markdown",
   "metadata": {},
   "source": [
    "###  Exercici 4\n",
    "- Mostreu-me la teva creativitat, Sorprèn-me fes un pas més enllà amb el analysis anterior."
   ]
  },
  {
   "cell_type": "code",
   "execution_count": 31,
   "metadata": {},
   "outputs": [],
   "source": [
    "import matplotlib.pyplot as plt\n",
    "import seaborn as sns\n",
    "%matplotlib inline"
   ]
  },
  {
   "cell_type": "code",
   "execution_count": 32,
   "metadata": {},
   "outputs": [
    {
     "output_type": "execute_result",
     "data": {
      "text/plain": [
       "<AxesSubplot:>"
      ]
     },
     "metadata": {},
     "execution_count": 32
    },
    {
     "output_type": "display_data",
     "data": {
      "text/plain": "<Figure size 720x432 with 1 Axes>",
      "image/svg+xml": "<?xml version=\"1.0\" encoding=\"utf-8\" standalone=\"no\"?>\n<!DOCTYPE svg PUBLIC \"-//W3C//DTD SVG 1.1//EN\"\n  \"http://www.w3.org/Graphics/SVG/1.1/DTD/svg11.dtd\">\n<!-- Created with matplotlib (https://matplotlib.org/) -->\n<svg height=\"357.238125pt\" version=\"1.1\" viewBox=\"0 0 582.578125 357.238125\" width=\"582.578125pt\" xmlns=\"http://www.w3.org/2000/svg\" xmlns:xlink=\"http://www.w3.org/1999/xlink\">\n <metadata>\n  <rdf:RDF xmlns:cc=\"http://creativecommons.org/ns#\" xmlns:dc=\"http://purl.org/dc/elements/1.1/\" xmlns:rdf=\"http://www.w3.org/1999/02/22-rdf-syntax-ns#\">\n   <cc:Work>\n    <dc:type rdf:resource=\"http://purl.org/dc/dcmitype/StillImage\"/>\n    <dc:date>2021-03-07T18:34:53.637456</dc:date>\n    <dc:format>image/svg+xml</dc:format>\n    <dc:creator>\n     <cc:Agent>\n      <dc:title>Matplotlib v3.3.2, https://matplotlib.org/</dc:title>\n     </cc:Agent>\n    </dc:creator>\n   </cc:Work>\n  </rdf:RDF>\n </metadata>\n <defs>\n  <style type=\"text/css\">*{stroke-linecap:butt;stroke-linejoin:round;}</style>\n </defs>\n <g id=\"figure_1\">\n  <g id=\"patch_1\">\n   <path d=\"M 0 357.238125 \nL 582.578125 357.238125 \nL 582.578125 0 \nL 0 0 \nz\n\" style=\"fill:none;\"/>\n  </g>\n  <g id=\"axes_1\">\n   <g id=\"patch_2\">\n    <path d=\"M 17.378125 333.36 \nL 575.378125 333.36 \nL 575.378125 7.2 \nL 17.378125 7.2 \nz\n\" style=\"fill:#ffffff;\"/>\n   </g>\n   <g id=\"patch_3\">\n    <path clip-path=\"url(#pbb9a714ac7)\" d=\"M 17.378125 251.82 \nL 548.806696 251.82 \nL 548.806696 88.74 \nL 17.378125 88.74 \nz\n\" style=\"fill:#1f77b4;\"/>\n   </g>\n   <g id=\"matplotlib.axis_1\">\n    <g id=\"xtick_1\">\n     <g id=\"line2d_1\">\n      <defs>\n       <path d=\"M 0 0 \nL 0 3.5 \n\" id=\"md191a86cbb\" style=\"stroke:#000000;stroke-width:0.8;\"/>\n      </defs>\n      <g>\n       <use style=\"stroke:#000000;stroke-width:0.8;\" x=\"17.378125\" xlink:href=\"#md191a86cbb\" y=\"333.36\"/>\n      </g>\n     </g>\n     <g id=\"text_1\">\n      <!-- 0 -->\n      <g transform=\"translate(14.196875 347.958438)scale(0.1 -0.1)\">\n       <defs>\n        <path d=\"M 31.78125 66.40625 \nQ 24.171875 66.40625 20.328125 58.90625 \nQ 16.5 51.421875 16.5 36.375 \nQ 16.5 21.390625 20.328125 13.890625 \nQ 24.171875 6.390625 31.78125 6.390625 \nQ 39.453125 6.390625 43.28125 13.890625 \nQ 47.125 21.390625 47.125 36.375 \nQ 47.125 51.421875 43.28125 58.90625 \nQ 39.453125 66.40625 31.78125 66.40625 \nz\nM 31.78125 74.21875 \nQ 44.046875 74.21875 50.515625 64.515625 \nQ 56.984375 54.828125 56.984375 36.375 \nQ 56.984375 17.96875 50.515625 8.265625 \nQ 44.046875 -1.421875 31.78125 -1.421875 \nQ 19.53125 -1.421875 13.0625 8.265625 \nQ 6.59375 17.96875 6.59375 36.375 \nQ 6.59375 54.828125 13.0625 64.515625 \nQ 19.53125 74.21875 31.78125 74.21875 \nz\n\" id=\"DejaVuSans-48\"/>\n       </defs>\n       <use xlink:href=\"#DejaVuSans-48\"/>\n      </g>\n     </g>\n    </g>\n    <g id=\"xtick_2\">\n     <g id=\"line2d_2\">\n      <g>\n       <use style=\"stroke:#000000;stroke-width:0.8;\" x=\"123.663839\" xlink:href=\"#md191a86cbb\" y=\"333.36\"/>\n      </g>\n     </g>\n     <g id=\"text_2\">\n      <!-- 200 -->\n      <g transform=\"translate(114.120089 347.958438)scale(0.1 -0.1)\">\n       <defs>\n        <path d=\"M 19.1875 8.296875 \nL 53.609375 8.296875 \nL 53.609375 0 \nL 7.328125 0 \nL 7.328125 8.296875 \nQ 12.9375 14.109375 22.625 23.890625 \nQ 32.328125 33.6875 34.8125 36.53125 \nQ 39.546875 41.84375 41.421875 45.53125 \nQ 43.3125 49.21875 43.3125 52.78125 \nQ 43.3125 58.59375 39.234375 62.25 \nQ 35.15625 65.921875 28.609375 65.921875 \nQ 23.96875 65.921875 18.8125 64.3125 \nQ 13.671875 62.703125 7.8125 59.421875 \nL 7.8125 69.390625 \nQ 13.765625 71.78125 18.9375 73 \nQ 24.125 74.21875 28.421875 74.21875 \nQ 39.75 74.21875 46.484375 68.546875 \nQ 53.21875 62.890625 53.21875 53.421875 \nQ 53.21875 48.921875 51.53125 44.890625 \nQ 49.859375 40.875 45.40625 35.40625 \nQ 44.1875 33.984375 37.640625 27.21875 \nQ 31.109375 20.453125 19.1875 8.296875 \nz\n\" id=\"DejaVuSans-50\"/>\n       </defs>\n       <use xlink:href=\"#DejaVuSans-50\"/>\n       <use x=\"63.623047\" xlink:href=\"#DejaVuSans-48\"/>\n       <use x=\"127.246094\" xlink:href=\"#DejaVuSans-48\"/>\n      </g>\n     </g>\n    </g>\n    <g id=\"xtick_3\">\n     <g id=\"line2d_3\">\n      <g>\n       <use style=\"stroke:#000000;stroke-width:0.8;\" x=\"229.949554\" xlink:href=\"#md191a86cbb\" y=\"333.36\"/>\n      </g>\n     </g>\n     <g id=\"text_3\">\n      <!-- 400 -->\n      <g transform=\"translate(220.405804 347.958438)scale(0.1 -0.1)\">\n       <defs>\n        <path d=\"M 37.796875 64.3125 \nL 12.890625 25.390625 \nL 37.796875 25.390625 \nz\nM 35.203125 72.90625 \nL 47.609375 72.90625 \nL 47.609375 25.390625 \nL 58.015625 25.390625 \nL 58.015625 17.1875 \nL 47.609375 17.1875 \nL 47.609375 0 \nL 37.796875 0 \nL 37.796875 17.1875 \nL 4.890625 17.1875 \nL 4.890625 26.703125 \nz\n\" id=\"DejaVuSans-52\"/>\n       </defs>\n       <use xlink:href=\"#DejaVuSans-52\"/>\n       <use x=\"63.623047\" xlink:href=\"#DejaVuSans-48\"/>\n       <use x=\"127.246094\" xlink:href=\"#DejaVuSans-48\"/>\n      </g>\n     </g>\n    </g>\n    <g id=\"xtick_4\">\n     <g id=\"line2d_4\">\n      <g>\n       <use style=\"stroke:#000000;stroke-width:0.8;\" x=\"336.235268\" xlink:href=\"#md191a86cbb\" y=\"333.36\"/>\n      </g>\n     </g>\n     <g id=\"text_4\">\n      <!-- 600 -->\n      <g transform=\"translate(326.691518 347.958438)scale(0.1 -0.1)\">\n       <defs>\n        <path d=\"M 33.015625 40.375 \nQ 26.375 40.375 22.484375 35.828125 \nQ 18.609375 31.296875 18.609375 23.390625 \nQ 18.609375 15.53125 22.484375 10.953125 \nQ 26.375 6.390625 33.015625 6.390625 \nQ 39.65625 6.390625 43.53125 10.953125 \nQ 47.40625 15.53125 47.40625 23.390625 \nQ 47.40625 31.296875 43.53125 35.828125 \nQ 39.65625 40.375 33.015625 40.375 \nz\nM 52.59375 71.296875 \nL 52.59375 62.3125 \nQ 48.875 64.0625 45.09375 64.984375 \nQ 41.3125 65.921875 37.59375 65.921875 \nQ 27.828125 65.921875 22.671875 59.328125 \nQ 17.53125 52.734375 16.796875 39.40625 \nQ 19.671875 43.65625 24.015625 45.921875 \nQ 28.375 48.1875 33.59375 48.1875 \nQ 44.578125 48.1875 50.953125 41.515625 \nQ 57.328125 34.859375 57.328125 23.390625 \nQ 57.328125 12.15625 50.6875 5.359375 \nQ 44.046875 -1.421875 33.015625 -1.421875 \nQ 20.359375 -1.421875 13.671875 8.265625 \nQ 6.984375 17.96875 6.984375 36.375 \nQ 6.984375 53.65625 15.1875 63.9375 \nQ 23.390625 74.21875 37.203125 74.21875 \nQ 40.921875 74.21875 44.703125 73.484375 \nQ 48.484375 72.75 52.59375 71.296875 \nz\n\" id=\"DejaVuSans-54\"/>\n       </defs>\n       <use xlink:href=\"#DejaVuSans-54\"/>\n       <use x=\"63.623047\" xlink:href=\"#DejaVuSans-48\"/>\n       <use x=\"127.246094\" xlink:href=\"#DejaVuSans-48\"/>\n      </g>\n     </g>\n    </g>\n    <g id=\"xtick_5\">\n     <g id=\"line2d_5\">\n      <g>\n       <use style=\"stroke:#000000;stroke-width:0.8;\" x=\"442.520982\" xlink:href=\"#md191a86cbb\" y=\"333.36\"/>\n      </g>\n     </g>\n     <g id=\"text_5\">\n      <!-- 800 -->\n      <g transform=\"translate(432.977232 347.958438)scale(0.1 -0.1)\">\n       <defs>\n        <path d=\"M 31.78125 34.625 \nQ 24.75 34.625 20.71875 30.859375 \nQ 16.703125 27.09375 16.703125 20.515625 \nQ 16.703125 13.921875 20.71875 10.15625 \nQ 24.75 6.390625 31.78125 6.390625 \nQ 38.8125 6.390625 42.859375 10.171875 \nQ 46.921875 13.96875 46.921875 20.515625 \nQ 46.921875 27.09375 42.890625 30.859375 \nQ 38.875 34.625 31.78125 34.625 \nz\nM 21.921875 38.8125 \nQ 15.578125 40.375 12.03125 44.71875 \nQ 8.5 49.078125 8.5 55.328125 \nQ 8.5 64.0625 14.71875 69.140625 \nQ 20.953125 74.21875 31.78125 74.21875 \nQ 42.671875 74.21875 48.875 69.140625 \nQ 55.078125 64.0625 55.078125 55.328125 \nQ 55.078125 49.078125 51.53125 44.71875 \nQ 48 40.375 41.703125 38.8125 \nQ 48.828125 37.15625 52.796875 32.3125 \nQ 56.78125 27.484375 56.78125 20.515625 \nQ 56.78125 9.90625 50.3125 4.234375 \nQ 43.84375 -1.421875 31.78125 -1.421875 \nQ 19.734375 -1.421875 13.25 4.234375 \nQ 6.78125 9.90625 6.78125 20.515625 \nQ 6.78125 27.484375 10.78125 32.3125 \nQ 14.796875 37.15625 21.921875 38.8125 \nz\nM 18.3125 54.390625 \nQ 18.3125 48.734375 21.84375 45.5625 \nQ 25.390625 42.390625 31.78125 42.390625 \nQ 38.140625 42.390625 41.71875 45.5625 \nQ 45.3125 48.734375 45.3125 54.390625 \nQ 45.3125 60.0625 41.71875 63.234375 \nQ 38.140625 66.40625 31.78125 66.40625 \nQ 25.390625 66.40625 21.84375 63.234375 \nQ 18.3125 60.0625 18.3125 54.390625 \nz\n\" id=\"DejaVuSans-56\"/>\n       </defs>\n       <use xlink:href=\"#DejaVuSans-56\"/>\n       <use x=\"63.623047\" xlink:href=\"#DejaVuSans-48\"/>\n       <use x=\"127.246094\" xlink:href=\"#DejaVuSans-48\"/>\n      </g>\n     </g>\n    </g>\n    <g id=\"xtick_6\">\n     <g id=\"line2d_6\">\n      <g>\n       <use style=\"stroke:#000000;stroke-width:0.8;\" x=\"548.806696\" xlink:href=\"#md191a86cbb\" y=\"333.36\"/>\n      </g>\n     </g>\n     <g id=\"text_6\">\n      <!-- 1000 -->\n      <g transform=\"translate(536.081696 347.958438)scale(0.1 -0.1)\">\n       <defs>\n        <path d=\"M 12.40625 8.296875 \nL 28.515625 8.296875 \nL 28.515625 63.921875 \nL 10.984375 60.40625 \nL 10.984375 69.390625 \nL 28.421875 72.90625 \nL 38.28125 72.90625 \nL 38.28125 8.296875 \nL 54.390625 8.296875 \nL 54.390625 0 \nL 12.40625 0 \nz\n\" id=\"DejaVuSans-49\"/>\n       </defs>\n       <use xlink:href=\"#DejaVuSans-49\"/>\n       <use x=\"63.623047\" xlink:href=\"#DejaVuSans-48\"/>\n       <use x=\"127.246094\" xlink:href=\"#DejaVuSans-48\"/>\n       <use x=\"190.869141\" xlink:href=\"#DejaVuSans-48\"/>\n      </g>\n     </g>\n    </g>\n   </g>\n   <g id=\"matplotlib.axis_2\">\n    <g id=\"ytick_1\">\n     <g id=\"line2d_7\">\n      <defs>\n       <path d=\"M 0 0 \nL -3.5 0 \n\" id=\"mb345a99404\" style=\"stroke:#000000;stroke-width:0.8;\"/>\n      </defs>\n      <g>\n       <use style=\"stroke:#000000;stroke-width:0.8;\" x=\"17.378125\" xlink:href=\"#mb345a99404\" y=\"170.28\"/>\n      </g>\n     </g>\n     <g id=\"text_7\">\n      <!--   -->\n      <g transform=\"translate(7.2 174.079219)scale(0.1 -0.1)\">\n       <defs>\n        <path id=\"DejaVuSans-32\"/>\n       </defs>\n       <use xlink:href=\"#DejaVuSans-32\"/>\n      </g>\n     </g>\n    </g>\n   </g>\n   <g id=\"patch_4\">\n    <path d=\"M 17.378125 333.36 \nL 17.378125 7.2 \n\" style=\"fill:none;stroke:#000000;stroke-linecap:square;stroke-linejoin:miter;stroke-width:0.8;\"/>\n   </g>\n   <g id=\"patch_5\">\n    <path d=\"M 575.378125 333.36 \nL 575.378125 7.2 \n\" style=\"fill:none;stroke:#000000;stroke-linecap:square;stroke-linejoin:miter;stroke-width:0.8;\"/>\n   </g>\n   <g id=\"patch_6\">\n    <path d=\"M 17.378125 333.36 \nL 575.378125 333.36 \n\" style=\"fill:none;stroke:#000000;stroke-linecap:square;stroke-linejoin:miter;stroke-width:0.8;\"/>\n   </g>\n   <g id=\"patch_7\">\n    <path d=\"M 17.378125 7.2 \nL 575.378125 7.2 \n\" style=\"fill:none;stroke:#000000;stroke-linecap:square;stroke-linejoin:miter;stroke-width:0.8;\"/>\n   </g>\n  </g>\n </g>\n <defs>\n  <clipPath id=\"pbb9a714ac7\">\n   <rect height=\"326.16\" width=\"558\" x=\"17.378125\" y=\"7.2\"/>\n  </clipPath>\n </defs>\n</svg>\n",
      "image/png": "[encoded data removed]"
     },
     "metadata": {
      "needs_background": "light"
     }
    }
   ],
   "source": [
    "\n",
    "Logs_copy.Location.value_counts(ascending = True).plot(kind = 'barh', figsize = (10,6))"
   ]
  },
  {
   "cell_type": "code",
   "execution_count": 33,
   "metadata": {},
   "outputs": [
    {
     "output_type": "display_data",
     "data": {
      "text/plain": "<Figure size 720x432 with 1 Axes>",
      "image/svg+xml": "<?xml version=\"1.0\" encoding=\"utf-8\" standalone=\"no\"?>\n<!DOCTYPE svg PUBLIC \"-//W3C//DTD SVG 1.1//EN\"\n  \"http://www.w3.org/Graphics/SVG/1.1/DTD/svg11.dtd\">\n<!-- Created with matplotlib (https://matplotlib.org/) -->\n<svg height=\"467.074062pt\" version=\"1.1\" viewBox=\"0 0 618.528125 467.074062\" width=\"618.528125pt\" xmlns=\"http://www.w3.org/2000/svg\" xmlns:xlink=\"http://www.w3.org/1999/xlink\">\n <metadata>\n  <rdf:RDF xmlns:cc=\"http://creativecommons.org/ns#\" xmlns:dc=\"http://purl.org/dc/elements/1.1/\" xmlns:rdf=\"http://www.w3.org/1999/02/22-rdf-syntax-ns#\">\n   <cc:Work>\n    <dc:type rdf:resource=\"http://purl.org/dc/dcmitype/StillImage\"/>\n    <dc:date>2021-03-07T18:34:53.866912</dc:date>\n    <dc:format>image/svg+xml</dc:format>\n    <dc:creator>\n     <cc:Agent>\n      <dc:title>Matplotlib v3.3.2, https://matplotlib.org/</dc:title>\n     </cc:Agent>\n    </dc:creator>\n   </cc:Work>\n  </rdf:RDF>\n </metadata>\n <defs>\n  <style type=\"text/css\">*{stroke-linecap:butt;stroke-linejoin:round;}</style>\n </defs>\n <g id=\"figure_1\">\n  <g id=\"patch_1\">\n   <path d=\"M 0 467.074062 \nL 618.528125 467.074062 \nL 618.528125 0 \nL 0 0 \nz\n\" style=\"fill:none;\"/>\n  </g>\n  <g id=\"axes_1\">\n   <g id=\"patch_2\">\n    <path d=\"M 53.328125 333.36 \nL 611.328125 333.36 \nL 611.328125 7.2 \nL 53.328125 7.2 \nz\n\" style=\"fill:#ffffff;\"/>\n   </g>\n   <g id=\"patch_3\">\n    <path clip-path=\"url(#pa6c537c6ba)\" d=\"M 123.078125 333.36 \nL 262.578125 333.36 \nL 262.578125 22.731429 \nL 123.078125 22.731429 \nz\n\" style=\"fill:#008000;\"/>\n   </g>\n   <g id=\"patch_4\">\n    <path clip-path=\"url(#pa6c537c6ba)\" d=\"M 402.078125 333.36 \nL 541.578125 333.36 \nL 541.578125 326.372445 \nL 402.078125 326.372445 \nz\n\" style=\"fill:#008000;\"/>\n   </g>\n   <g id=\"matplotlib.axis_1\">\n    <g id=\"xtick_1\">\n     <g id=\"line2d_1\">\n      <defs>\n       <path d=\"M 0 0 \nL 0 3.5 \n\" id=\"m6557c91b42\" style=\"stroke:#000000;stroke-width:0.8;\"/>\n      </defs>\n      <g>\n       <use style=\"stroke:#000000;stroke-width:0.8;\" x=\"192.828125\" xlink:href=\"#m6557c91b42\" y=\"333.36\"/>\n      </g>\n     </g>\n     <g id=\"text_1\">\n      <!-- www.akumenius.com -->\n      <g transform=\"translate(195.5875 446.195937)rotate(-90)scale(0.1 -0.1)\">\n       <defs>\n        <path d=\"M 4.203125 54.6875 \nL 13.1875 54.6875 \nL 24.421875 12.015625 \nL 35.59375 54.6875 \nL 46.1875 54.6875 \nL 57.421875 12.015625 \nL 68.609375 54.6875 \nL 77.59375 54.6875 \nL 63.28125 0 \nL 52.6875 0 \nL 40.921875 44.828125 \nL 29.109375 0 \nL 18.5 0 \nz\n\" id=\"DejaVuSans-119\"/>\n        <path d=\"M 10.6875 12.40625 \nL 21 12.40625 \nL 21 0 \nL 10.6875 0 \nz\n\" id=\"DejaVuSans-46\"/>\n        <path d=\"M 34.28125 27.484375 \nQ 23.390625 27.484375 19.1875 25 \nQ 14.984375 22.515625 14.984375 16.5 \nQ 14.984375 11.71875 18.140625 8.90625 \nQ 21.296875 6.109375 26.703125 6.109375 \nQ 34.1875 6.109375 38.703125 11.40625 \nQ 43.21875 16.703125 43.21875 25.484375 \nL 43.21875 27.484375 \nz\nM 52.203125 31.203125 \nL 52.203125 0 \nL 43.21875 0 \nL 43.21875 8.296875 \nQ 40.140625 3.328125 35.546875 0.953125 \nQ 30.953125 -1.421875 24.3125 -1.421875 \nQ 15.921875 -1.421875 10.953125 3.296875 \nQ 6 8.015625 6 15.921875 \nQ 6 25.140625 12.171875 29.828125 \nQ 18.359375 34.515625 30.609375 34.515625 \nL 43.21875 34.515625 \nL 43.21875 35.40625 \nQ 43.21875 41.609375 39.140625 45 \nQ 35.0625 48.390625 27.6875 48.390625 \nQ 23 48.390625 18.546875 47.265625 \nQ 14.109375 46.140625 10.015625 43.890625 \nL 10.015625 52.203125 \nQ 14.9375 54.109375 19.578125 55.046875 \nQ 24.21875 56 28.609375 56 \nQ 40.484375 56 46.34375 49.84375 \nQ 52.203125 43.703125 52.203125 31.203125 \nz\n\" id=\"DejaVuSans-97\"/>\n        <path d=\"M 9.078125 75.984375 \nL 18.109375 75.984375 \nL 18.109375 31.109375 \nL 44.921875 54.6875 \nL 56.390625 54.6875 \nL 27.390625 29.109375 \nL 57.625 0 \nL 45.90625 0 \nL 18.109375 26.703125 \nL 18.109375 0 \nL 9.078125 0 \nz\n\" id=\"DejaVuSans-107\"/>\n        <path d=\"M 8.5 21.578125 \nL 8.5 54.6875 \nL 17.484375 54.6875 \nL 17.484375 21.921875 \nQ 17.484375 14.15625 20.5 10.265625 \nQ 23.53125 6.390625 29.59375 6.390625 \nQ 36.859375 6.390625 41.078125 11.03125 \nQ 45.3125 15.671875 45.3125 23.6875 \nL 45.3125 54.6875 \nL 54.296875 54.6875 \nL 54.296875 0 \nL 45.3125 0 \nL 45.3125 8.40625 \nQ 42.046875 3.421875 37.71875 1 \nQ 33.40625 -1.421875 27.6875 -1.421875 \nQ 18.265625 -1.421875 13.375 4.4375 \nQ 8.5 10.296875 8.5 21.578125 \nz\nM 31.109375 56 \nz\n\" id=\"DejaVuSans-117\"/>\n        <path d=\"M 52 44.1875 \nQ 55.375 50.25 60.0625 53.125 \nQ 64.75 56 71.09375 56 \nQ 79.640625 56 84.28125 50.015625 \nQ 88.921875 44.046875 88.921875 33.015625 \nL 88.921875 0 \nL 79.890625 0 \nL 79.890625 32.71875 \nQ 79.890625 40.578125 77.09375 44.375 \nQ 74.3125 48.1875 68.609375 48.1875 \nQ 61.625 48.1875 57.5625 43.546875 \nQ 53.515625 38.921875 53.515625 30.90625 \nL 53.515625 0 \nL 44.484375 0 \nL 44.484375 32.71875 \nQ 44.484375 40.625 41.703125 44.40625 \nQ 38.921875 48.1875 33.109375 48.1875 \nQ 26.21875 48.1875 22.15625 43.53125 \nQ 18.109375 38.875 18.109375 30.90625 \nL 18.109375 0 \nL 9.078125 0 \nL 9.078125 54.6875 \nL 18.109375 54.6875 \nL 18.109375 46.1875 \nQ 21.1875 51.21875 25.484375 53.609375 \nQ 29.78125 56 35.6875 56 \nQ 41.65625 56 45.828125 52.96875 \nQ 50 49.953125 52 44.1875 \nz\n\" id=\"DejaVuSans-109\"/>\n        <path d=\"M 56.203125 29.59375 \nL 56.203125 25.203125 \nL 14.890625 25.203125 \nQ 15.484375 15.921875 20.484375 11.0625 \nQ 25.484375 6.203125 34.421875 6.203125 \nQ 39.59375 6.203125 44.453125 7.46875 \nQ 49.3125 8.734375 54.109375 11.28125 \nL 54.109375 2.78125 \nQ 49.265625 0.734375 44.1875 -0.34375 \nQ 39.109375 -1.421875 33.890625 -1.421875 \nQ 20.796875 -1.421875 13.15625 6.1875 \nQ 5.515625 13.8125 5.515625 26.8125 \nQ 5.515625 40.234375 12.765625 48.109375 \nQ 20.015625 56 32.328125 56 \nQ 43.359375 56 49.78125 48.890625 \nQ 56.203125 41.796875 56.203125 29.59375 \nz\nM 47.21875 32.234375 \nQ 47.125 39.59375 43.09375 43.984375 \nQ 39.0625 48.390625 32.421875 48.390625 \nQ 24.90625 48.390625 20.390625 44.140625 \nQ 15.875 39.890625 15.1875 32.171875 \nz\n\" id=\"DejaVuSans-101\"/>\n        <path d=\"M 54.890625 33.015625 \nL 54.890625 0 \nL 45.90625 0 \nL 45.90625 32.71875 \nQ 45.90625 40.484375 42.875 44.328125 \nQ 39.84375 48.1875 33.796875 48.1875 \nQ 26.515625 48.1875 22.3125 43.546875 \nQ 18.109375 38.921875 18.109375 30.90625 \nL 18.109375 0 \nL 9.078125 0 \nL 9.078125 54.6875 \nL 18.109375 54.6875 \nL 18.109375 46.1875 \nQ 21.34375 51.125 25.703125 53.5625 \nQ 30.078125 56 35.796875 56 \nQ 45.21875 56 50.046875 50.171875 \nQ 54.890625 44.34375 54.890625 33.015625 \nz\n\" id=\"DejaVuSans-110\"/>\n        <path d=\"M 9.421875 54.6875 \nL 18.40625 54.6875 \nL 18.40625 0 \nL 9.421875 0 \nz\nM 9.421875 75.984375 \nL 18.40625 75.984375 \nL 18.40625 64.59375 \nL 9.421875 64.59375 \nz\n\" id=\"DejaVuSans-105\"/>\n        <path d=\"M 44.28125 53.078125 \nL 44.28125 44.578125 \nQ 40.484375 46.53125 36.375 47.5 \nQ 32.28125 48.484375 27.875 48.484375 \nQ 21.1875 48.484375 17.84375 46.4375 \nQ 14.5 44.390625 14.5 40.28125 \nQ 14.5 37.15625 16.890625 35.375 \nQ 19.28125 33.59375 26.515625 31.984375 \nL 29.59375 31.296875 \nQ 39.15625 29.25 43.1875 25.515625 \nQ 47.21875 21.78125 47.21875 15.09375 \nQ 47.21875 7.46875 41.1875 3.015625 \nQ 35.15625 -1.421875 24.609375 -1.421875 \nQ 20.21875 -1.421875 15.453125 -0.5625 \nQ 10.6875 0.296875 5.421875 2 \nL 5.421875 11.28125 \nQ 10.40625 8.6875 15.234375 7.390625 \nQ 20.0625 6.109375 24.8125 6.109375 \nQ 31.15625 6.109375 34.5625 8.28125 \nQ 37.984375 10.453125 37.984375 14.40625 \nQ 37.984375 18.0625 35.515625 20.015625 \nQ 33.0625 21.96875 24.703125 23.78125 \nL 21.578125 24.515625 \nQ 13.234375 26.265625 9.515625 29.90625 \nQ 5.8125 33.546875 5.8125 39.890625 \nQ 5.8125 47.609375 11.28125 51.796875 \nQ 16.75 56 26.8125 56 \nQ 31.78125 56 36.171875 55.265625 \nQ 40.578125 54.546875 44.28125 53.078125 \nz\n\" id=\"DejaVuSans-115\"/>\n        <path d=\"M 48.78125 52.59375 \nL 48.78125 44.1875 \nQ 44.96875 46.296875 41.140625 47.34375 \nQ 37.3125 48.390625 33.40625 48.390625 \nQ 24.65625 48.390625 19.8125 42.84375 \nQ 14.984375 37.3125 14.984375 27.296875 \nQ 14.984375 17.28125 19.8125 11.734375 \nQ 24.65625 6.203125 33.40625 6.203125 \nQ 37.3125 6.203125 41.140625 7.25 \nQ 44.96875 8.296875 48.78125 10.40625 \nL 48.78125 2.09375 \nQ 45.015625 0.34375 40.984375 -0.53125 \nQ 36.96875 -1.421875 32.421875 -1.421875 \nQ 20.0625 -1.421875 12.78125 6.34375 \nQ 5.515625 14.109375 5.515625 27.296875 \nQ 5.515625 40.671875 12.859375 48.328125 \nQ 20.21875 56 33.015625 56 \nQ 37.15625 56 41.109375 55.140625 \nQ 45.0625 54.296875 48.78125 52.59375 \nz\n\" id=\"DejaVuSans-99\"/>\n        <path d=\"M 30.609375 48.390625 \nQ 23.390625 48.390625 19.1875 42.75 \nQ 14.984375 37.109375 14.984375 27.296875 \nQ 14.984375 17.484375 19.15625 11.84375 \nQ 23.34375 6.203125 30.609375 6.203125 \nQ 37.796875 6.203125 41.984375 11.859375 \nQ 46.1875 17.53125 46.1875 27.296875 \nQ 46.1875 37.015625 41.984375 42.703125 \nQ 37.796875 48.390625 30.609375 48.390625 \nz\nM 30.609375 56 \nQ 42.328125 56 49.015625 48.375 \nQ 55.71875 40.765625 55.71875 27.296875 \nQ 55.71875 13.875 49.015625 6.21875 \nQ 42.328125 -1.421875 30.609375 -1.421875 \nQ 18.84375 -1.421875 12.171875 6.21875 \nQ 5.515625 13.875 5.515625 27.296875 \nQ 5.515625 40.765625 12.171875 48.375 \nQ 18.84375 56 30.609375 56 \nz\n\" id=\"DejaVuSans-111\"/>\n       </defs>\n       <use xlink:href=\"#DejaVuSans-119\"/>\n       <use x=\"81.787109\" xlink:href=\"#DejaVuSans-119\"/>\n       <use x=\"163.574219\" xlink:href=\"#DejaVuSans-119\"/>\n       <use x=\"236.236328\" xlink:href=\"#DejaVuSans-46\"/>\n       <use x=\"268.023438\" xlink:href=\"#DejaVuSans-97\"/>\n       <use x=\"329.302734\" xlink:href=\"#DejaVuSans-107\"/>\n       <use x=\"384.087891\" xlink:href=\"#DejaVuSans-117\"/>\n       <use x=\"447.466797\" xlink:href=\"#DejaVuSans-109\"/>\n       <use x=\"544.878906\" xlink:href=\"#DejaVuSans-101\"/>\n       <use x=\"606.402344\" xlink:href=\"#DejaVuSans-110\"/>\n       <use x=\"669.78125\" xlink:href=\"#DejaVuSans-105\"/>\n       <use x=\"697.564453\" xlink:href=\"#DejaVuSans-117\"/>\n       <use x=\"760.943359\" xlink:href=\"#DejaVuSans-115\"/>\n       <use x=\"813.042969\" xlink:href=\"#DejaVuSans-46\"/>\n       <use x=\"844.830078\" xlink:href=\"#DejaVuSans-99\"/>\n       <use x=\"899.810547\" xlink:href=\"#DejaVuSans-111\"/>\n       <use x=\"960.992188\" xlink:href=\"#DejaVuSans-109\"/>\n      </g>\n     </g>\n    </g>\n    <g id=\"xtick_2\">\n     <g id=\"line2d_2\">\n      <g>\n       <use style=\"stroke:#000000;stroke-width:0.8;\" x=\"471.828125\" xlink:href=\"#m6557c91b42\" y=\"333.36\"/>\n      </g>\n     </g>\n     <g id=\"text_2\">\n      <!-- localhost -->\n      <g transform=\"translate(474.5875 385.2475)rotate(-90)scale(0.1 -0.1)\">\n       <defs>\n        <path d=\"M 9.421875 75.984375 \nL 18.40625 75.984375 \nL 18.40625 0 \nL 9.421875 0 \nz\n\" id=\"DejaVuSans-108\"/>\n        <path d=\"M 54.890625 33.015625 \nL 54.890625 0 \nL 45.90625 0 \nL 45.90625 32.71875 \nQ 45.90625 40.484375 42.875 44.328125 \nQ 39.84375 48.1875 33.796875 48.1875 \nQ 26.515625 48.1875 22.3125 43.546875 \nQ 18.109375 38.921875 18.109375 30.90625 \nL 18.109375 0 \nL 9.078125 0 \nL 9.078125 75.984375 \nL 18.109375 75.984375 \nL 18.109375 46.1875 \nQ 21.34375 51.125 25.703125 53.5625 \nQ 30.078125 56 35.796875 56 \nQ 45.21875 56 50.046875 50.171875 \nQ 54.890625 44.34375 54.890625 33.015625 \nz\n\" id=\"DejaVuSans-104\"/>\n        <path d=\"M 18.3125 70.21875 \nL 18.3125 54.6875 \nL 36.8125 54.6875 \nL 36.8125 47.703125 \nL 18.3125 47.703125 \nL 18.3125 18.015625 \nQ 18.3125 11.328125 20.140625 9.421875 \nQ 21.96875 7.515625 27.59375 7.515625 \nL 36.8125 7.515625 \nL 36.8125 0 \nL 27.59375 0 \nQ 17.1875 0 13.234375 3.875 \nQ 9.28125 7.765625 9.28125 18.015625 \nL 9.28125 47.703125 \nL 2.6875 47.703125 \nL 2.6875 54.6875 \nL 9.28125 54.6875 \nL 9.28125 70.21875 \nz\n\" id=\"DejaVuSans-116\"/>\n       </defs>\n       <use xlink:href=\"#DejaVuSans-108\"/>\n       <use x=\"27.783203\" xlink:href=\"#DejaVuSans-111\"/>\n       <use x=\"88.964844\" xlink:href=\"#DejaVuSans-99\"/>\n       <use x=\"143.945312\" xlink:href=\"#DejaVuSans-97\"/>\n       <use x=\"205.224609\" xlink:href=\"#DejaVuSans-108\"/>\n       <use x=\"233.007812\" xlink:href=\"#DejaVuSans-104\"/>\n       <use x=\"296.386719\" xlink:href=\"#DejaVuSans-111\"/>\n       <use x=\"357.568359\" xlink:href=\"#DejaVuSans-115\"/>\n       <use x=\"409.667969\" xlink:href=\"#DejaVuSans-116\"/>\n      </g>\n     </g>\n    </g>\n    <g id=\"text_3\">\n     <!-- DNS -->\n     <g transform=\"translate(321.563281 457.794375)scale(0.1 -0.1)\">\n      <defs>\n       <path d=\"M 19.671875 64.796875 \nL 19.671875 8.109375 \nL 31.59375 8.109375 \nQ 46.6875 8.109375 53.6875 14.9375 \nQ 60.6875 21.78125 60.6875 36.53125 \nQ 60.6875 51.171875 53.6875 57.984375 \nQ 46.6875 64.796875 31.59375 64.796875 \nz\nM 9.8125 72.90625 \nL 30.078125 72.90625 \nQ 51.265625 72.90625 61.171875 64.09375 \nQ 71.09375 55.28125 71.09375 36.53125 \nQ 71.09375 17.671875 61.125 8.828125 \nQ 51.171875 0 30.078125 0 \nL 9.8125 0 \nz\n\" id=\"DejaVuSans-68\"/>\n       <path d=\"M 9.8125 72.90625 \nL 23.09375 72.90625 \nL 55.421875 11.921875 \nL 55.421875 72.90625 \nL 64.984375 72.90625 \nL 64.984375 0 \nL 51.703125 0 \nL 19.390625 60.984375 \nL 19.390625 0 \nL 9.8125 0 \nz\n\" id=\"DejaVuSans-78\"/>\n       <path d=\"M 53.515625 70.515625 \nL 53.515625 60.890625 \nQ 47.90625 63.578125 42.921875 64.890625 \nQ 37.9375 66.21875 33.296875 66.21875 \nQ 25.25 66.21875 20.875 63.09375 \nQ 16.5 59.96875 16.5 54.203125 \nQ 16.5 49.359375 19.40625 46.890625 \nQ 22.3125 44.4375 30.421875 42.921875 \nL 36.375 41.703125 \nQ 47.40625 39.59375 52.65625 34.296875 \nQ 57.90625 29 57.90625 20.125 \nQ 57.90625 9.515625 50.796875 4.046875 \nQ 43.703125 -1.421875 29.984375 -1.421875 \nQ 24.8125 -1.421875 18.96875 -0.25 \nQ 13.140625 0.921875 6.890625 3.21875 \nL 6.890625 13.375 \nQ 12.890625 10.015625 18.65625 8.296875 \nQ 24.421875 6.59375 29.984375 6.59375 \nQ 38.421875 6.59375 43.015625 9.90625 \nQ 47.609375 13.234375 47.609375 19.390625 \nQ 47.609375 24.75 44.3125 27.78125 \nQ 41.015625 30.8125 33.5 32.328125 \nL 27.484375 33.5 \nQ 16.453125 35.6875 11.515625 40.375 \nQ 6.59375 45.0625 6.59375 53.421875 \nQ 6.59375 63.09375 13.40625 68.65625 \nQ 20.21875 74.21875 32.171875 74.21875 \nQ 37.3125 74.21875 42.625 73.28125 \nQ 47.953125 72.359375 53.515625 70.515625 \nz\n\" id=\"DejaVuSans-83\"/>\n      </defs>\n      <use xlink:href=\"#DejaVuSans-68\"/>\n      <use x=\"77.001953\" xlink:href=\"#DejaVuSans-78\"/>\n      <use x=\"151.806641\" xlink:href=\"#DejaVuSans-83\"/>\n     </g>\n    </g>\n   </g>\n   <g id=\"matplotlib.axis_2\">\n    <g id=\"ytick_1\">\n     <g id=\"line2d_3\">\n      <defs>\n       <path d=\"M 0 0 \nL -3.5 0 \n\" id=\"m765fa22051\" style=\"stroke:#000000;stroke-width:0.8;\"/>\n      </defs>\n      <g>\n       <use style=\"stroke:#000000;stroke-width:0.8;\" x=\"53.328125\" xlink:href=\"#m765fa22051\" y=\"333.36\"/>\n      </g>\n     </g>\n     <g id=\"text_4\">\n      <!-- 0 -->\n      <g transform=\"translate(39.965625 337.159219)scale(0.1 -0.1)\">\n       <defs>\n        <path d=\"M 31.78125 66.40625 \nQ 24.171875 66.40625 20.328125 58.90625 \nQ 16.5 51.421875 16.5 36.375 \nQ 16.5 21.390625 20.328125 13.890625 \nQ 24.171875 6.390625 31.78125 6.390625 \nQ 39.453125 6.390625 43.28125 13.890625 \nQ 47.125 21.390625 47.125 36.375 \nQ 47.125 51.421875 43.28125 58.90625 \nQ 39.453125 66.40625 31.78125 66.40625 \nz\nM 31.78125 74.21875 \nQ 44.046875 74.21875 50.515625 64.515625 \nQ 56.984375 54.828125 56.984375 36.375 \nQ 56.984375 17.96875 50.515625 8.265625 \nQ 44.046875 -1.421875 31.78125 -1.421875 \nQ 19.53125 -1.421875 13.0625 8.265625 \nQ 6.59375 17.96875 6.59375 36.375 \nQ 6.59375 54.828125 13.0625 64.515625 \nQ 19.53125 74.21875 31.78125 74.21875 \nz\n\" id=\"DejaVuSans-48\"/>\n       </defs>\n       <use xlink:href=\"#DejaVuSans-48\"/>\n      </g>\n     </g>\n    </g>\n    <g id=\"ytick_2\">\n     <g id=\"line2d_4\">\n      <g>\n       <use style=\"stroke:#000000;stroke-width:0.8;\" x=\"53.328125\" xlink:href=\"#m765fa22051\" y=\"269.836775\"/>\n      </g>\n     </g>\n     <g id=\"text_5\">\n      <!-- 200 -->\n      <g transform=\"translate(27.240625 273.635994)scale(0.1 -0.1)\">\n       <defs>\n        <path d=\"M 19.1875 8.296875 \nL 53.609375 8.296875 \nL 53.609375 0 \nL 7.328125 0 \nL 7.328125 8.296875 \nQ 12.9375 14.109375 22.625 23.890625 \nQ 32.328125 33.6875 34.8125 36.53125 \nQ 39.546875 41.84375 41.421875 45.53125 \nQ 43.3125 49.21875 43.3125 52.78125 \nQ 43.3125 58.59375 39.234375 62.25 \nQ 35.15625 65.921875 28.609375 65.921875 \nQ 23.96875 65.921875 18.8125 64.3125 \nQ 13.671875 62.703125 7.8125 59.421875 \nL 7.8125 69.390625 \nQ 13.765625 71.78125 18.9375 73 \nQ 24.125 74.21875 28.421875 74.21875 \nQ 39.75 74.21875 46.484375 68.546875 \nQ 53.21875 62.890625 53.21875 53.421875 \nQ 53.21875 48.921875 51.53125 44.890625 \nQ 49.859375 40.875 45.40625 35.40625 \nQ 44.1875 33.984375 37.640625 27.21875 \nQ 31.109375 20.453125 19.1875 8.296875 \nz\n\" id=\"DejaVuSans-50\"/>\n       </defs>\n       <use xlink:href=\"#DejaVuSans-50\"/>\n       <use x=\"63.623047\" xlink:href=\"#DejaVuSans-48\"/>\n       <use x=\"127.246094\" xlink:href=\"#DejaVuSans-48\"/>\n      </g>\n     </g>\n    </g>\n    <g id=\"ytick_3\">\n     <g id=\"line2d_5\">\n      <g>\n       <use style=\"stroke:#000000;stroke-width:0.8;\" x=\"53.328125\" xlink:href=\"#m765fa22051\" y=\"206.31355\"/>\n      </g>\n     </g>\n     <g id=\"text_6\">\n      <!-- 400 -->\n      <g transform=\"translate(27.240625 210.112768)scale(0.1 -0.1)\">\n       <defs>\n        <path d=\"M 37.796875 64.3125 \nL 12.890625 25.390625 \nL 37.796875 25.390625 \nz\nM 35.203125 72.90625 \nL 47.609375 72.90625 \nL 47.609375 25.390625 \nL 58.015625 25.390625 \nL 58.015625 17.1875 \nL 47.609375 17.1875 \nL 47.609375 0 \nL 37.796875 0 \nL 37.796875 17.1875 \nL 4.890625 17.1875 \nL 4.890625 26.703125 \nz\n\" id=\"DejaVuSans-52\"/>\n       </defs>\n       <use xlink:href=\"#DejaVuSans-52\"/>\n       <use x=\"63.623047\" xlink:href=\"#DejaVuSans-48\"/>\n       <use x=\"127.246094\" xlink:href=\"#DejaVuSans-48\"/>\n      </g>\n     </g>\n    </g>\n    <g id=\"ytick_4\">\n     <g id=\"line2d_6\">\n      <g>\n       <use style=\"stroke:#000000;stroke-width:0.8;\" x=\"53.328125\" xlink:href=\"#m765fa22051\" y=\"142.790324\"/>\n      </g>\n     </g>\n     <g id=\"text_7\">\n      <!-- 600 -->\n      <g transform=\"translate(27.240625 146.589543)scale(0.1 -0.1)\">\n       <defs>\n        <path d=\"M 33.015625 40.375 \nQ 26.375 40.375 22.484375 35.828125 \nQ 18.609375 31.296875 18.609375 23.390625 \nQ 18.609375 15.53125 22.484375 10.953125 \nQ 26.375 6.390625 33.015625 6.390625 \nQ 39.65625 6.390625 43.53125 10.953125 \nQ 47.40625 15.53125 47.40625 23.390625 \nQ 47.40625 31.296875 43.53125 35.828125 \nQ 39.65625 40.375 33.015625 40.375 \nz\nM 52.59375 71.296875 \nL 52.59375 62.3125 \nQ 48.875 64.0625 45.09375 64.984375 \nQ 41.3125 65.921875 37.59375 65.921875 \nQ 27.828125 65.921875 22.671875 59.328125 \nQ 17.53125 52.734375 16.796875 39.40625 \nQ 19.671875 43.65625 24.015625 45.921875 \nQ 28.375 48.1875 33.59375 48.1875 \nQ 44.578125 48.1875 50.953125 41.515625 \nQ 57.328125 34.859375 57.328125 23.390625 \nQ 57.328125 12.15625 50.6875 5.359375 \nQ 44.046875 -1.421875 33.015625 -1.421875 \nQ 20.359375 -1.421875 13.671875 8.265625 \nQ 6.984375 17.96875 6.984375 36.375 \nQ 6.984375 53.65625 15.1875 63.9375 \nQ 23.390625 74.21875 37.203125 74.21875 \nQ 40.921875 74.21875 44.703125 73.484375 \nQ 48.484375 72.75 52.59375 71.296875 \nz\n\" id=\"DejaVuSans-54\"/>\n       </defs>\n       <use xlink:href=\"#DejaVuSans-54\"/>\n       <use x=\"63.623047\" xlink:href=\"#DejaVuSans-48\"/>\n       <use x=\"127.246094\" xlink:href=\"#DejaVuSans-48\"/>\n      </g>\n     </g>\n    </g>\n    <g id=\"ytick_5\">\n     <g id=\"line2d_7\">\n      <g>\n       <use style=\"stroke:#000000;stroke-width:0.8;\" x=\"53.328125\" xlink:href=\"#m765fa22051\" y=\"79.267099\"/>\n      </g>\n     </g>\n     <g id=\"text_8\">\n      <!-- 800 -->\n      <g transform=\"translate(27.240625 83.066318)scale(0.1 -0.1)\">\n       <defs>\n        <path d=\"M 31.78125 34.625 \nQ 24.75 34.625 20.71875 30.859375 \nQ 16.703125 27.09375 16.703125 20.515625 \nQ 16.703125 13.921875 20.71875 10.15625 \nQ 24.75 6.390625 31.78125 6.390625 \nQ 38.8125 6.390625 42.859375 10.171875 \nQ 46.921875 13.96875 46.921875 20.515625 \nQ 46.921875 27.09375 42.890625 30.859375 \nQ 38.875 34.625 31.78125 34.625 \nz\nM 21.921875 38.8125 \nQ 15.578125 40.375 12.03125 44.71875 \nQ 8.5 49.078125 8.5 55.328125 \nQ 8.5 64.0625 14.71875 69.140625 \nQ 20.953125 74.21875 31.78125 74.21875 \nQ 42.671875 74.21875 48.875 69.140625 \nQ 55.078125 64.0625 55.078125 55.328125 \nQ 55.078125 49.078125 51.53125 44.71875 \nQ 48 40.375 41.703125 38.8125 \nQ 48.828125 37.15625 52.796875 32.3125 \nQ 56.78125 27.484375 56.78125 20.515625 \nQ 56.78125 9.90625 50.3125 4.234375 \nQ 43.84375 -1.421875 31.78125 -1.421875 \nQ 19.734375 -1.421875 13.25 4.234375 \nQ 6.78125 9.90625 6.78125 20.515625 \nQ 6.78125 27.484375 10.78125 32.3125 \nQ 14.796875 37.15625 21.921875 38.8125 \nz\nM 18.3125 54.390625 \nQ 18.3125 48.734375 21.84375 45.5625 \nQ 25.390625 42.390625 31.78125 42.390625 \nQ 38.140625 42.390625 41.71875 45.5625 \nQ 45.3125 48.734375 45.3125 54.390625 \nQ 45.3125 60.0625 41.71875 63.234375 \nQ 38.140625 66.40625 31.78125 66.40625 \nQ 25.390625 66.40625 21.84375 63.234375 \nQ 18.3125 60.0625 18.3125 54.390625 \nz\n\" id=\"DejaVuSans-56\"/>\n       </defs>\n       <use xlink:href=\"#DejaVuSans-56\"/>\n       <use x=\"63.623047\" xlink:href=\"#DejaVuSans-48\"/>\n       <use x=\"127.246094\" xlink:href=\"#DejaVuSans-48\"/>\n      </g>\n     </g>\n    </g>\n    <g id=\"ytick_6\">\n     <g id=\"line2d_8\">\n      <g>\n       <use style=\"stroke:#000000;stroke-width:0.8;\" x=\"53.328125\" xlink:href=\"#m765fa22051\" y=\"15.743874\"/>\n      </g>\n     </g>\n     <g id=\"text_9\">\n      <!-- 1000 -->\n      <g transform=\"translate(20.878125 19.543093)scale(0.1 -0.1)\">\n       <defs>\n        <path d=\"M 12.40625 8.296875 \nL 28.515625 8.296875 \nL 28.515625 63.921875 \nL 10.984375 60.40625 \nL 10.984375 69.390625 \nL 28.421875 72.90625 \nL 38.28125 72.90625 \nL 38.28125 8.296875 \nL 54.390625 8.296875 \nL 54.390625 0 \nL 12.40625 0 \nz\n\" id=\"DejaVuSans-49\"/>\n       </defs>\n       <use xlink:href=\"#DejaVuSans-49\"/>\n       <use x=\"63.623047\" xlink:href=\"#DejaVuSans-48\"/>\n       <use x=\"127.246094\" xlink:href=\"#DejaVuSans-48\"/>\n       <use x=\"190.869141\" xlink:href=\"#DejaVuSans-48\"/>\n      </g>\n     </g>\n    </g>\n    <g id=\"text_10\">\n     <!-- Frequency -->\n     <g transform=\"translate(14.798438 196.109687)rotate(-90)scale(0.1 -0.1)\">\n      <defs>\n       <path d=\"M 9.8125 72.90625 \nL 51.703125 72.90625 \nL 51.703125 64.59375 \nL 19.671875 64.59375 \nL 19.671875 43.109375 \nL 48.578125 43.109375 \nL 48.578125 34.8125 \nL 19.671875 34.8125 \nL 19.671875 0 \nL 9.8125 0 \nz\n\" id=\"DejaVuSans-70\"/>\n       <path d=\"M 41.109375 46.296875 \nQ 39.59375 47.171875 37.8125 47.578125 \nQ 36.03125 48 33.890625 48 \nQ 26.265625 48 22.1875 43.046875 \nQ 18.109375 38.09375 18.109375 28.8125 \nL 18.109375 0 \nL 9.078125 0 \nL 9.078125 54.6875 \nL 18.109375 54.6875 \nL 18.109375 46.1875 \nQ 20.953125 51.171875 25.484375 53.578125 \nQ 30.03125 56 36.53125 56 \nQ 37.453125 56 38.578125 55.875 \nQ 39.703125 55.765625 41.0625 55.515625 \nz\n\" id=\"DejaVuSans-114\"/>\n       <path d=\"M 14.796875 27.296875 \nQ 14.796875 17.390625 18.875 11.75 \nQ 22.953125 6.109375 30.078125 6.109375 \nQ 37.203125 6.109375 41.296875 11.75 \nQ 45.40625 17.390625 45.40625 27.296875 \nQ 45.40625 37.203125 41.296875 42.84375 \nQ 37.203125 48.484375 30.078125 48.484375 \nQ 22.953125 48.484375 18.875 42.84375 \nQ 14.796875 37.203125 14.796875 27.296875 \nz\nM 45.40625 8.203125 \nQ 42.578125 3.328125 38.25 0.953125 \nQ 33.9375 -1.421875 27.875 -1.421875 \nQ 17.96875 -1.421875 11.734375 6.484375 \nQ 5.515625 14.40625 5.515625 27.296875 \nQ 5.515625 40.1875 11.734375 48.09375 \nQ 17.96875 56 27.875 56 \nQ 33.9375 56 38.25 53.625 \nQ 42.578125 51.265625 45.40625 46.390625 \nL 45.40625 54.6875 \nL 54.390625 54.6875 \nL 54.390625 -20.796875 \nL 45.40625 -20.796875 \nz\n\" id=\"DejaVuSans-113\"/>\n       <path d=\"M 32.171875 -5.078125 \nQ 28.375 -14.84375 24.75 -17.8125 \nQ 21.140625 -20.796875 15.09375 -20.796875 \nL 7.90625 -20.796875 \nL 7.90625 -13.28125 \nL 13.1875 -13.28125 \nQ 16.890625 -13.28125 18.9375 -11.515625 \nQ 21 -9.765625 23.484375 -3.21875 \nL 25.09375 0.875 \nL 2.984375 54.6875 \nL 12.5 54.6875 \nL 29.59375 11.921875 \nL 46.6875 54.6875 \nL 56.203125 54.6875 \nz\n\" id=\"DejaVuSans-121\"/>\n      </defs>\n      <use xlink:href=\"#DejaVuSans-70\"/>\n      <use x=\"50.269531\" xlink:href=\"#DejaVuSans-114\"/>\n      <use x=\"89.132812\" xlink:href=\"#DejaVuSans-101\"/>\n      <use x=\"150.65625\" xlink:href=\"#DejaVuSans-113\"/>\n      <use x=\"214.132812\" xlink:href=\"#DejaVuSans-117\"/>\n      <use x=\"277.511719\" xlink:href=\"#DejaVuSans-101\"/>\n      <use x=\"339.035156\" xlink:href=\"#DejaVuSans-110\"/>\n      <use x=\"402.414062\" xlink:href=\"#DejaVuSans-99\"/>\n      <use x=\"457.394531\" xlink:href=\"#DejaVuSans-121\"/>\n     </g>\n    </g>\n   </g>\n   <g id=\"patch_5\">\n    <path d=\"M 53.328125 333.36 \nL 53.328125 7.2 \n\" style=\"fill:none;stroke:#000000;stroke-linecap:square;stroke-linejoin:miter;stroke-width:0.8;\"/>\n   </g>\n   <g id=\"patch_6\">\n    <path d=\"M 611.328125 333.36 \nL 611.328125 7.2 \n\" style=\"fill:none;stroke:#000000;stroke-linecap:square;stroke-linejoin:miter;stroke-width:0.8;\"/>\n   </g>\n   <g id=\"patch_7\">\n    <path d=\"M 53.328125 333.36 \nL 611.328125 333.36 \n\" style=\"fill:none;stroke:#000000;stroke-linecap:square;stroke-linejoin:miter;stroke-width:0.8;\"/>\n   </g>\n   <g id=\"patch_8\">\n    <path d=\"M 53.328125 7.2 \nL 611.328125 7.2 \n\" style=\"fill:none;stroke:#000000;stroke-linecap:square;stroke-linejoin:miter;stroke-width:0.8;\"/>\n   </g>\n  </g>\n </g>\n <defs>\n  <clipPath id=\"pa6c537c6ba\">\n   <rect height=\"326.16\" width=\"558\" x=\"53.328125\" y=\"7.2\"/>\n  </clipPath>\n </defs>\n</svg>\n",
      "image/png": "[encoded data removed]"
     },
     "metadata": {
      "needs_background": "light"
     }
    }
   ],
   "source": [
    "graph = Logs_copy[['DNS', 'Location']].groupby(['DNS']).count().sort_values(by = 'Location',ascending = False)\n",
    "graph = graph.rename(columns = {'Location' : 'Frequency'})\n",
    "graph.plot.bar(y = 'Frequency', color = 'g', ylabel = 'Frequency', legend = None, figsize = (10,6))\n",
    "plt.show()"
   ]
  },
  {
   "cell_type": "code",
   "execution_count": 34,
   "metadata": {},
   "outputs": [
    {
     "output_type": "display_data",
     "data": {
      "text/plain": "<Figure size 720x432 with 1 Axes>",
      "image/svg+xml": "<?xml version=\"1.0\" encoding=\"utf-8\" standalone=\"no\"?>\n<!DOCTYPE svg PUBLIC \"-//W3C//DTD SVG 1.1//EN\"\n  \"http://www.w3.org/Graphics/SVG/1.1/DTD/svg11.dtd\">\n<!-- Created with matplotlib (https://matplotlib.org/) -->\n<svg height=\"380.325625pt\" version=\"1.1\" viewBox=\"0 0 612.165625 380.325625\" width=\"612.165625pt\" xmlns=\"http://www.w3.org/2000/svg\" xmlns:xlink=\"http://www.w3.org/1999/xlink\">\n <metadata>\n  <rdf:RDF xmlns:cc=\"http://creativecommons.org/ns#\" xmlns:dc=\"http://purl.org/dc/elements/1.1/\" xmlns:rdf=\"http://www.w3.org/1999/02/22-rdf-syntax-ns#\">\n   <cc:Work>\n    <dc:type rdf:resource=\"http://purl.org/dc/dcmitype/StillImage\"/>\n    <dc:date>2021-03-07T18:34:54.103288</dc:date>\n    <dc:format>image/svg+xml</dc:format>\n    <dc:creator>\n     <cc:Agent>\n      <dc:title>Matplotlib v3.3.2, https://matplotlib.org/</dc:title>\n     </cc:Agent>\n    </dc:creator>\n   </cc:Work>\n  </rdf:RDF>\n </metadata>\n <defs>\n  <style type=\"text/css\">*{stroke-linecap:butt;stroke-linejoin:round;}</style>\n </defs>\n <g id=\"figure_1\">\n  <g id=\"patch_1\">\n   <path d=\"M 0 380.325625 \nL 612.165625 380.325625 \nL 612.165625 0 \nL 0 0 \nz\n\" style=\"fill:none;\"/>\n  </g>\n  <g id=\"axes_1\">\n   <g id=\"patch_2\">\n    <path d=\"M 46.965625 333.36 \nL 604.965625 333.36 \nL 604.965625 7.2 \nL 46.965625 7.2 \nz\n\" style=\"fill:#ffffff;\"/>\n   </g>\n   <g id=\"patch_3\">\n    <path clip-path=\"url(#pae8c7fd89d)\" d=\"M 93.465625 333.36 \nL 186.465625 333.36 \nL 186.465625 22.731429 \nL 93.465625 22.731429 \nz\n\" style=\"fill:#ff0000;\"/>\n   </g>\n   <g id=\"patch_4\">\n    <path clip-path=\"url(#pae8c7fd89d)\" d=\"M 279.465625 333.36 \nL 372.465625 333.36 \nL 372.465625 66.27749 \nL 279.465625 66.27749 \nz\n\" style=\"fill:#ff0000;\"/>\n   </g>\n   <g id=\"patch_5\">\n    <path clip-path=\"url(#pae8c7fd89d)\" d=\"M 465.465625 333.36 \nL 558.465625 333.36 \nL 558.465625 330.456929 \nL 465.465625 330.456929 \nz\n\" style=\"fill:#ff0000;\"/>\n   </g>\n   <g id=\"matplotlib.axis_1\">\n    <g id=\"xtick_1\">\n     <g id=\"line2d_1\">\n      <defs>\n       <path d=\"M 0 0 \nL 0 3.5 \n\" id=\"m304db536c4\" style=\"stroke:#000000;stroke-width:0.8;\"/>\n      </defs>\n      <g>\n       <use style=\"stroke:#000000;stroke-width:0.8;\" x=\"139.965625\" xlink:href=\"#m304db536c4\" y=\"333.36\"/>\n      </g>\n     </g>\n     <g id=\"text_1\">\n      <!-- 200 -->\n      <g transform=\"translate(142.725 359.4475)rotate(-90)scale(0.1 -0.1)\">\n       <defs>\n        <path d=\"M 19.1875 8.296875 \nL 53.609375 8.296875 \nL 53.609375 0 \nL 7.328125 0 \nL 7.328125 8.296875 \nQ 12.9375 14.109375 22.625 23.890625 \nQ 32.328125 33.6875 34.8125 36.53125 \nQ 39.546875 41.84375 41.421875 45.53125 \nQ 43.3125 49.21875 43.3125 52.78125 \nQ 43.3125 58.59375 39.234375 62.25 \nQ 35.15625 65.921875 28.609375 65.921875 \nQ 23.96875 65.921875 18.8125 64.3125 \nQ 13.671875 62.703125 7.8125 59.421875 \nL 7.8125 69.390625 \nQ 13.765625 71.78125 18.9375 73 \nQ 24.125 74.21875 28.421875 74.21875 \nQ 39.75 74.21875 46.484375 68.546875 \nQ 53.21875 62.890625 53.21875 53.421875 \nQ 53.21875 48.921875 51.53125 44.890625 \nQ 49.859375 40.875 45.40625 35.40625 \nQ 44.1875 33.984375 37.640625 27.21875 \nQ 31.109375 20.453125 19.1875 8.296875 \nz\n\" id=\"DejaVuSans-50\"/>\n        <path d=\"M 31.78125 66.40625 \nQ 24.171875 66.40625 20.328125 58.90625 \nQ 16.5 51.421875 16.5 36.375 \nQ 16.5 21.390625 20.328125 13.890625 \nQ 24.171875 6.390625 31.78125 6.390625 \nQ 39.453125 6.390625 43.28125 13.890625 \nQ 47.125 21.390625 47.125 36.375 \nQ 47.125 51.421875 43.28125 58.90625 \nQ 39.453125 66.40625 31.78125 66.40625 \nz\nM 31.78125 74.21875 \nQ 44.046875 74.21875 50.515625 64.515625 \nQ 56.984375 54.828125 56.984375 36.375 \nQ 56.984375 17.96875 50.515625 8.265625 \nQ 44.046875 -1.421875 31.78125 -1.421875 \nQ 19.53125 -1.421875 13.0625 8.265625 \nQ 6.59375 17.96875 6.59375 36.375 \nQ 6.59375 54.828125 13.0625 64.515625 \nQ 19.53125 74.21875 31.78125 74.21875 \nz\n\" id=\"DejaVuSans-48\"/>\n       </defs>\n       <use xlink:href=\"#DejaVuSans-50\"/>\n       <use x=\"63.623047\" xlink:href=\"#DejaVuSans-48\"/>\n       <use x=\"127.246094\" xlink:href=\"#DejaVuSans-48\"/>\n      </g>\n     </g>\n    </g>\n    <g id=\"xtick_2\">\n     <g id=\"line2d_2\">\n      <g>\n       <use style=\"stroke:#000000;stroke-width:0.8;\" x=\"325.965625\" xlink:href=\"#m304db536c4\" y=\"333.36\"/>\n      </g>\n     </g>\n     <g id=\"text_2\">\n      <!-- 404 -->\n      <g transform=\"translate(328.725 359.4475)rotate(-90)scale(0.1 -0.1)\">\n       <defs>\n        <path d=\"M 37.796875 64.3125 \nL 12.890625 25.390625 \nL 37.796875 25.390625 \nz\nM 35.203125 72.90625 \nL 47.609375 72.90625 \nL 47.609375 25.390625 \nL 58.015625 25.390625 \nL 58.015625 17.1875 \nL 47.609375 17.1875 \nL 47.609375 0 \nL 37.796875 0 \nL 37.796875 17.1875 \nL 4.890625 17.1875 \nL 4.890625 26.703125 \nz\n\" id=\"DejaVuSans-52\"/>\n       </defs>\n       <use xlink:href=\"#DejaVuSans-52\"/>\n       <use x=\"63.623047\" xlink:href=\"#DejaVuSans-48\"/>\n       <use x=\"127.246094\" xlink:href=\"#DejaVuSans-52\"/>\n      </g>\n     </g>\n    </g>\n    <g id=\"xtick_3\">\n     <g id=\"line2d_3\">\n      <g>\n       <use style=\"stroke:#000000;stroke-width:0.8;\" x=\"511.965625\" xlink:href=\"#m304db536c4\" y=\"333.36\"/>\n      </g>\n     </g>\n     <g id=\"text_3\">\n      <!-- 304 -->\n      <g transform=\"translate(514.725 359.4475)rotate(-90)scale(0.1 -0.1)\">\n       <defs>\n        <path d=\"M 40.578125 39.3125 \nQ 47.65625 37.796875 51.625 33 \nQ 55.609375 28.21875 55.609375 21.1875 \nQ 55.609375 10.40625 48.1875 4.484375 \nQ 40.765625 -1.421875 27.09375 -1.421875 \nQ 22.515625 -1.421875 17.65625 -0.515625 \nQ 12.796875 0.390625 7.625 2.203125 \nL 7.625 11.71875 \nQ 11.71875 9.328125 16.59375 8.109375 \nQ 21.484375 6.890625 26.8125 6.890625 \nQ 36.078125 6.890625 40.9375 10.546875 \nQ 45.796875 14.203125 45.796875 21.1875 \nQ 45.796875 27.640625 41.28125 31.265625 \nQ 36.765625 34.90625 28.71875 34.90625 \nL 20.21875 34.90625 \nL 20.21875 43.015625 \nL 29.109375 43.015625 \nQ 36.375 43.015625 40.234375 45.921875 \nQ 44.09375 48.828125 44.09375 54.296875 \nQ 44.09375 59.90625 40.109375 62.90625 \nQ 36.140625 65.921875 28.71875 65.921875 \nQ 24.65625 65.921875 20.015625 65.03125 \nQ 15.375 64.15625 9.8125 62.3125 \nL 9.8125 71.09375 \nQ 15.4375 72.65625 20.34375 73.4375 \nQ 25.25 74.21875 29.59375 74.21875 \nQ 40.828125 74.21875 47.359375 69.109375 \nQ 53.90625 64.015625 53.90625 55.328125 \nQ 53.90625 49.265625 50.4375 45.09375 \nQ 46.96875 40.921875 40.578125 39.3125 \nz\n\" id=\"DejaVuSans-51\"/>\n       </defs>\n       <use xlink:href=\"#DejaVuSans-51\"/>\n       <use x=\"63.623047\" xlink:href=\"#DejaVuSans-48\"/>\n       <use x=\"127.246094\" xlink:href=\"#DejaVuSans-52\"/>\n      </g>\n     </g>\n    </g>\n    <g id=\"text_4\">\n     <!-- Status -->\n     <g transform=\"translate(310.033594 371.045937)scale(0.1 -0.1)\">\n      <defs>\n       <path d=\"M 53.515625 70.515625 \nL 53.515625 60.890625 \nQ 47.90625 63.578125 42.921875 64.890625 \nQ 37.9375 66.21875 33.296875 66.21875 \nQ 25.25 66.21875 20.875 63.09375 \nQ 16.5 59.96875 16.5 54.203125 \nQ 16.5 49.359375 19.40625 46.890625 \nQ 22.3125 44.4375 30.421875 42.921875 \nL 36.375 41.703125 \nQ 47.40625 39.59375 52.65625 34.296875 \nQ 57.90625 29 57.90625 20.125 \nQ 57.90625 9.515625 50.796875 4.046875 \nQ 43.703125 -1.421875 29.984375 -1.421875 \nQ 24.8125 -1.421875 18.96875 -0.25 \nQ 13.140625 0.921875 6.890625 3.21875 \nL 6.890625 13.375 \nQ 12.890625 10.015625 18.65625 8.296875 \nQ 24.421875 6.59375 29.984375 6.59375 \nQ 38.421875 6.59375 43.015625 9.90625 \nQ 47.609375 13.234375 47.609375 19.390625 \nQ 47.609375 24.75 44.3125 27.78125 \nQ 41.015625 30.8125 33.5 32.328125 \nL 27.484375 33.5 \nQ 16.453125 35.6875 11.515625 40.375 \nQ 6.59375 45.0625 6.59375 53.421875 \nQ 6.59375 63.09375 13.40625 68.65625 \nQ 20.21875 74.21875 32.171875 74.21875 \nQ 37.3125 74.21875 42.625 73.28125 \nQ 47.953125 72.359375 53.515625 70.515625 \nz\n\" id=\"DejaVuSans-83\"/>\n       <path d=\"M 18.3125 70.21875 \nL 18.3125 54.6875 \nL 36.8125 54.6875 \nL 36.8125 47.703125 \nL 18.3125 47.703125 \nL 18.3125 18.015625 \nQ 18.3125 11.328125 20.140625 9.421875 \nQ 21.96875 7.515625 27.59375 7.515625 \nL 36.8125 7.515625 \nL 36.8125 0 \nL 27.59375 0 \nQ 17.1875 0 13.234375 3.875 \nQ 9.28125 7.765625 9.28125 18.015625 \nL 9.28125 47.703125 \nL 2.6875 47.703125 \nL 2.6875 54.6875 \nL 9.28125 54.6875 \nL 9.28125 70.21875 \nz\n\" id=\"DejaVuSans-116\"/>\n       <path d=\"M 34.28125 27.484375 \nQ 23.390625 27.484375 19.1875 25 \nQ 14.984375 22.515625 14.984375 16.5 \nQ 14.984375 11.71875 18.140625 8.90625 \nQ 21.296875 6.109375 26.703125 6.109375 \nQ 34.1875 6.109375 38.703125 11.40625 \nQ 43.21875 16.703125 43.21875 25.484375 \nL 43.21875 27.484375 \nz\nM 52.203125 31.203125 \nL 52.203125 0 \nL 43.21875 0 \nL 43.21875 8.296875 \nQ 40.140625 3.328125 35.546875 0.953125 \nQ 30.953125 -1.421875 24.3125 -1.421875 \nQ 15.921875 -1.421875 10.953125 3.296875 \nQ 6 8.015625 6 15.921875 \nQ 6 25.140625 12.171875 29.828125 \nQ 18.359375 34.515625 30.609375 34.515625 \nL 43.21875 34.515625 \nL 43.21875 35.40625 \nQ 43.21875 41.609375 39.140625 45 \nQ 35.0625 48.390625 27.6875 48.390625 \nQ 23 48.390625 18.546875 47.265625 \nQ 14.109375 46.140625 10.015625 43.890625 \nL 10.015625 52.203125 \nQ 14.9375 54.109375 19.578125 55.046875 \nQ 24.21875 56 28.609375 56 \nQ 40.484375 56 46.34375 49.84375 \nQ 52.203125 43.703125 52.203125 31.203125 \nz\n\" id=\"DejaVuSans-97\"/>\n       <path d=\"M 8.5 21.578125 \nL 8.5 54.6875 \nL 17.484375 54.6875 \nL 17.484375 21.921875 \nQ 17.484375 14.15625 20.5 10.265625 \nQ 23.53125 6.390625 29.59375 6.390625 \nQ 36.859375 6.390625 41.078125 11.03125 \nQ 45.3125 15.671875 45.3125 23.6875 \nL 45.3125 54.6875 \nL 54.296875 54.6875 \nL 54.296875 0 \nL 45.3125 0 \nL 45.3125 8.40625 \nQ 42.046875 3.421875 37.71875 1 \nQ 33.40625 -1.421875 27.6875 -1.421875 \nQ 18.265625 -1.421875 13.375 4.4375 \nQ 8.5 10.296875 8.5 21.578125 \nz\nM 31.109375 56 \nz\n\" id=\"DejaVuSans-117\"/>\n       <path d=\"M 44.28125 53.078125 \nL 44.28125 44.578125 \nQ 40.484375 46.53125 36.375 47.5 \nQ 32.28125 48.484375 27.875 48.484375 \nQ 21.1875 48.484375 17.84375 46.4375 \nQ 14.5 44.390625 14.5 40.28125 \nQ 14.5 37.15625 16.890625 35.375 \nQ 19.28125 33.59375 26.515625 31.984375 \nL 29.59375 31.296875 \nQ 39.15625 29.25 43.1875 25.515625 \nQ 47.21875 21.78125 47.21875 15.09375 \nQ 47.21875 7.46875 41.1875 3.015625 \nQ 35.15625 -1.421875 24.609375 -1.421875 \nQ 20.21875 -1.421875 15.453125 -0.5625 \nQ 10.6875 0.296875 5.421875 2 \nL 5.421875 11.28125 \nQ 10.40625 8.6875 15.234375 7.390625 \nQ 20.0625 6.109375 24.8125 6.109375 \nQ 31.15625 6.109375 34.5625 8.28125 \nQ 37.984375 10.453125 37.984375 14.40625 \nQ 37.984375 18.0625 35.515625 20.015625 \nQ 33.0625 21.96875 24.703125 23.78125 \nL 21.578125 24.515625 \nQ 13.234375 26.265625 9.515625 29.90625 \nQ 5.8125 33.546875 5.8125 39.890625 \nQ 5.8125 47.609375 11.28125 51.796875 \nQ 16.75 56 26.8125 56 \nQ 31.78125 56 36.171875 55.265625 \nQ 40.578125 54.546875 44.28125 53.078125 \nz\n\" id=\"DejaVuSans-115\"/>\n      </defs>\n      <use xlink:href=\"#DejaVuSans-83\"/>\n      <use x=\"63.476562\" xlink:href=\"#DejaVuSans-116\"/>\n      <use x=\"102.685547\" xlink:href=\"#DejaVuSans-97\"/>\n      <use x=\"163.964844\" xlink:href=\"#DejaVuSans-116\"/>\n      <use x=\"203.173828\" xlink:href=\"#DejaVuSans-117\"/>\n      <use x=\"266.552734\" xlink:href=\"#DejaVuSans-115\"/>\n     </g>\n    </g>\n   </g>\n   <g id=\"matplotlib.axis_2\">\n    <g id=\"ytick_1\">\n     <g id=\"line2d_4\">\n      <defs>\n       <path d=\"M 0 0 \nL -3.5 0 \n\" id=\"m0d4b2325bf\" style=\"stroke:#000000;stroke-width:0.8;\"/>\n      </defs>\n      <g>\n       <use style=\"stroke:#000000;stroke-width:0.8;\" x=\"46.965625\" xlink:href=\"#m0d4b2325bf\" y=\"333.36\"/>\n      </g>\n     </g>\n     <g id=\"text_5\">\n      <!-- 0 -->\n      <g transform=\"translate(33.603125 337.159219)scale(0.1 -0.1)\">\n       <use xlink:href=\"#DejaVuSans-48\"/>\n      </g>\n     </g>\n    </g>\n    <g id=\"ytick_2\">\n     <g id=\"line2d_5\">\n      <g>\n       <use style=\"stroke:#000000;stroke-width:0.8;\" x=\"46.965625\" xlink:href=\"#m0d4b2325bf\" y=\"275.298585\"/>\n      </g>\n     </g>\n     <g id=\"text_6\">\n      <!-- 100 -->\n      <g transform=\"translate(20.878125 279.097804)scale(0.1 -0.1)\">\n       <defs>\n        <path d=\"M 12.40625 8.296875 \nL 28.515625 8.296875 \nL 28.515625 63.921875 \nL 10.984375 60.40625 \nL 10.984375 69.390625 \nL 28.421875 72.90625 \nL 38.28125 72.90625 \nL 38.28125 8.296875 \nL 54.390625 8.296875 \nL 54.390625 0 \nL 12.40625 0 \nz\n\" id=\"DejaVuSans-49\"/>\n       </defs>\n       <use xlink:href=\"#DejaVuSans-49\"/>\n       <use x=\"63.623047\" xlink:href=\"#DejaVuSans-48\"/>\n       <use x=\"127.246094\" xlink:href=\"#DejaVuSans-48\"/>\n      </g>\n     </g>\n    </g>\n    <g id=\"ytick_3\">\n     <g id=\"line2d_6\">\n      <g>\n       <use style=\"stroke:#000000;stroke-width:0.8;\" x=\"46.965625\" xlink:href=\"#m0d4b2325bf\" y=\"217.23717\"/>\n      </g>\n     </g>\n     <g id=\"text_7\">\n      <!-- 200 -->\n      <g transform=\"translate(20.878125 221.036388)scale(0.1 -0.1)\">\n       <use xlink:href=\"#DejaVuSans-50\"/>\n       <use x=\"63.623047\" xlink:href=\"#DejaVuSans-48\"/>\n       <use x=\"127.246094\" xlink:href=\"#DejaVuSans-48\"/>\n      </g>\n     </g>\n    </g>\n    <g id=\"ytick_4\">\n     <g id=\"line2d_7\">\n      <g>\n       <use style=\"stroke:#000000;stroke-width:0.8;\" x=\"46.965625\" xlink:href=\"#m0d4b2325bf\" y=\"159.175754\"/>\n      </g>\n     </g>\n     <g id=\"text_8\">\n      <!-- 300 -->\n      <g transform=\"translate(20.878125 162.974973)scale(0.1 -0.1)\">\n       <use xlink:href=\"#DejaVuSans-51\"/>\n       <use x=\"63.623047\" xlink:href=\"#DejaVuSans-48\"/>\n       <use x=\"127.246094\" xlink:href=\"#DejaVuSans-48\"/>\n      </g>\n     </g>\n    </g>\n    <g id=\"ytick_5\">\n     <g id=\"line2d_8\">\n      <g>\n       <use style=\"stroke:#000000;stroke-width:0.8;\" x=\"46.965625\" xlink:href=\"#m0d4b2325bf\" y=\"101.114339\"/>\n      </g>\n     </g>\n     <g id=\"text_9\">\n      <!-- 400 -->\n      <g transform=\"translate(20.878125 104.913558)scale(0.1 -0.1)\">\n       <use xlink:href=\"#DejaVuSans-52\"/>\n       <use x=\"63.623047\" xlink:href=\"#DejaVuSans-48\"/>\n       <use x=\"127.246094\" xlink:href=\"#DejaVuSans-48\"/>\n      </g>\n     </g>\n    </g>\n    <g id=\"ytick_6\">\n     <g id=\"line2d_9\">\n      <g>\n       <use style=\"stroke:#000000;stroke-width:0.8;\" x=\"46.965625\" xlink:href=\"#m0d4b2325bf\" y=\"43.052924\"/>\n      </g>\n     </g>\n     <g id=\"text_10\">\n      <!-- 500 -->\n      <g transform=\"translate(20.878125 46.852143)scale(0.1 -0.1)\">\n       <defs>\n        <path d=\"M 10.796875 72.90625 \nL 49.515625 72.90625 \nL 49.515625 64.59375 \nL 19.828125 64.59375 \nL 19.828125 46.734375 \nQ 21.96875 47.46875 24.109375 47.828125 \nQ 26.265625 48.1875 28.421875 48.1875 \nQ 40.625 48.1875 47.75 41.5 \nQ 54.890625 34.8125 54.890625 23.390625 \nQ 54.890625 11.625 47.5625 5.09375 \nQ 40.234375 -1.421875 26.90625 -1.421875 \nQ 22.3125 -1.421875 17.546875 -0.640625 \nQ 12.796875 0.140625 7.71875 1.703125 \nL 7.71875 11.625 \nQ 12.109375 9.234375 16.796875 8.0625 \nQ 21.484375 6.890625 26.703125 6.890625 \nQ 35.15625 6.890625 40.078125 11.328125 \nQ 45.015625 15.765625 45.015625 23.390625 \nQ 45.015625 31 40.078125 35.4375 \nQ 35.15625 39.890625 26.703125 39.890625 \nQ 22.75 39.890625 18.8125 39.015625 \nQ 14.890625 38.140625 10.796875 36.28125 \nz\n\" id=\"DejaVuSans-53\"/>\n       </defs>\n       <use xlink:href=\"#DejaVuSans-53\"/>\n       <use x=\"63.623047\" xlink:href=\"#DejaVuSans-48\"/>\n       <use x=\"127.246094\" xlink:href=\"#DejaVuSans-48\"/>\n      </g>\n     </g>\n    </g>\n    <g id=\"text_11\">\n     <!-- Frequency -->\n     <g transform=\"translate(14.798437 196.109687)rotate(-90)scale(0.1 -0.1)\">\n      <defs>\n       <path d=\"M 9.8125 72.90625 \nL 51.703125 72.90625 \nL 51.703125 64.59375 \nL 19.671875 64.59375 \nL 19.671875 43.109375 \nL 48.578125 43.109375 \nL 48.578125 34.8125 \nL 19.671875 34.8125 \nL 19.671875 0 \nL 9.8125 0 \nz\n\" id=\"DejaVuSans-70\"/>\n       <path d=\"M 41.109375 46.296875 \nQ 39.59375 47.171875 37.8125 47.578125 \nQ 36.03125 48 33.890625 48 \nQ 26.265625 48 22.1875 43.046875 \nQ 18.109375 38.09375 18.109375 28.8125 \nL 18.109375 0 \nL 9.078125 0 \nL 9.078125 54.6875 \nL 18.109375 54.6875 \nL 18.109375 46.1875 \nQ 20.953125 51.171875 25.484375 53.578125 \nQ 30.03125 56 36.53125 56 \nQ 37.453125 56 38.578125 55.875 \nQ 39.703125 55.765625 41.0625 55.515625 \nz\n\" id=\"DejaVuSans-114\"/>\n       <path d=\"M 56.203125 29.59375 \nL 56.203125 25.203125 \nL 14.890625 25.203125 \nQ 15.484375 15.921875 20.484375 11.0625 \nQ 25.484375 6.203125 34.421875 6.203125 \nQ 39.59375 6.203125 44.453125 7.46875 \nQ 49.3125 8.734375 54.109375 11.28125 \nL 54.109375 2.78125 \nQ 49.265625 0.734375 44.1875 -0.34375 \nQ 39.109375 -1.421875 33.890625 -1.421875 \nQ 20.796875 -1.421875 13.15625 6.1875 \nQ 5.515625 13.8125 5.515625 26.8125 \nQ 5.515625 40.234375 12.765625 48.109375 \nQ 20.015625 56 32.328125 56 \nQ 43.359375 56 49.78125 48.890625 \nQ 56.203125 41.796875 56.203125 29.59375 \nz\nM 47.21875 32.234375 \nQ 47.125 39.59375 43.09375 43.984375 \nQ 39.0625 48.390625 32.421875 48.390625 \nQ 24.90625 48.390625 20.390625 44.140625 \nQ 15.875 39.890625 15.1875 32.171875 \nz\n\" id=\"DejaVuSans-101\"/>\n       <path d=\"M 14.796875 27.296875 \nQ 14.796875 17.390625 18.875 11.75 \nQ 22.953125 6.109375 30.078125 6.109375 \nQ 37.203125 6.109375 41.296875 11.75 \nQ 45.40625 17.390625 45.40625 27.296875 \nQ 45.40625 37.203125 41.296875 42.84375 \nQ 37.203125 48.484375 30.078125 48.484375 \nQ 22.953125 48.484375 18.875 42.84375 \nQ 14.796875 37.203125 14.796875 27.296875 \nz\nM 45.40625 8.203125 \nQ 42.578125 3.328125 38.25 0.953125 \nQ 33.9375 -1.421875 27.875 -1.421875 \nQ 17.96875 -1.421875 11.734375 6.484375 \nQ 5.515625 14.40625 5.515625 27.296875 \nQ 5.515625 40.1875 11.734375 48.09375 \nQ 17.96875 56 27.875 56 \nQ 33.9375 56 38.25 53.625 \nQ 42.578125 51.265625 45.40625 46.390625 \nL 45.40625 54.6875 \nL 54.390625 54.6875 \nL 54.390625 -20.796875 \nL 45.40625 -20.796875 \nz\n\" id=\"DejaVuSans-113\"/>\n       <path d=\"M 54.890625 33.015625 \nL 54.890625 0 \nL 45.90625 0 \nL 45.90625 32.71875 \nQ 45.90625 40.484375 42.875 44.328125 \nQ 39.84375 48.1875 33.796875 48.1875 \nQ 26.515625 48.1875 22.3125 43.546875 \nQ 18.109375 38.921875 18.109375 30.90625 \nL 18.109375 0 \nL 9.078125 0 \nL 9.078125 54.6875 \nL 18.109375 54.6875 \nL 18.109375 46.1875 \nQ 21.34375 51.125 25.703125 53.5625 \nQ 30.078125 56 35.796875 56 \nQ 45.21875 56 50.046875 50.171875 \nQ 54.890625 44.34375 54.890625 33.015625 \nz\n\" id=\"DejaVuSans-110\"/>\n       <path d=\"M 48.78125 52.59375 \nL 48.78125 44.1875 \nQ 44.96875 46.296875 41.140625 47.34375 \nQ 37.3125 48.390625 33.40625 48.390625 \nQ 24.65625 48.390625 19.8125 42.84375 \nQ 14.984375 37.3125 14.984375 27.296875 \nQ 14.984375 17.28125 19.8125 11.734375 \nQ 24.65625 6.203125 33.40625 6.203125 \nQ 37.3125 6.203125 41.140625 7.25 \nQ 44.96875 8.296875 48.78125 10.40625 \nL 48.78125 2.09375 \nQ 45.015625 0.34375 40.984375 -0.53125 \nQ 36.96875 -1.421875 32.421875 -1.421875 \nQ 20.0625 -1.421875 12.78125 6.34375 \nQ 5.515625 14.109375 5.515625 27.296875 \nQ 5.515625 40.671875 12.859375 48.328125 \nQ 20.21875 56 33.015625 56 \nQ 37.15625 56 41.109375 55.140625 \nQ 45.0625 54.296875 48.78125 52.59375 \nz\n\" id=\"DejaVuSans-99\"/>\n       <path d=\"M 32.171875 -5.078125 \nQ 28.375 -14.84375 24.75 -17.8125 \nQ 21.140625 -20.796875 15.09375 -20.796875 \nL 7.90625 -20.796875 \nL 7.90625 -13.28125 \nL 13.1875 -13.28125 \nQ 16.890625 -13.28125 18.9375 -11.515625 \nQ 21 -9.765625 23.484375 -3.21875 \nL 25.09375 0.875 \nL 2.984375 54.6875 \nL 12.5 54.6875 \nL 29.59375 11.921875 \nL 46.6875 54.6875 \nL 56.203125 54.6875 \nz\n\" id=\"DejaVuSans-121\"/>\n      </defs>\n      <use xlink:href=\"#DejaVuSans-70\"/>\n      <use x=\"50.269531\" xlink:href=\"#DejaVuSans-114\"/>\n      <use x=\"89.132812\" xlink:href=\"#DejaVuSans-101\"/>\n      <use x=\"150.65625\" xlink:href=\"#DejaVuSans-113\"/>\n      <use x=\"214.132812\" xlink:href=\"#DejaVuSans-117\"/>\n      <use x=\"277.511719\" xlink:href=\"#DejaVuSans-101\"/>\n      <use x=\"339.035156\" xlink:href=\"#DejaVuSans-110\"/>\n      <use x=\"402.414062\" xlink:href=\"#DejaVuSans-99\"/>\n      <use x=\"457.394531\" xlink:href=\"#DejaVuSans-121\"/>\n     </g>\n    </g>\n   </g>\n   <g id=\"patch_6\">\n    <path d=\"M 46.965625 333.36 \nL 46.965625 7.2 \n\" style=\"fill:none;stroke:#000000;stroke-linecap:square;stroke-linejoin:miter;stroke-width:0.8;\"/>\n   </g>\n   <g id=\"patch_7\">\n    <path d=\"M 604.965625 333.36 \nL 604.965625 7.2 \n\" style=\"fill:none;stroke:#000000;stroke-linecap:square;stroke-linejoin:miter;stroke-width:0.8;\"/>\n   </g>\n   <g id=\"patch_8\">\n    <path d=\"M 46.965625 333.36 \nL 604.965625 333.36 \n\" style=\"fill:none;stroke:#000000;stroke-linecap:square;stroke-linejoin:miter;stroke-width:0.8;\"/>\n   </g>\n   <g id=\"patch_9\">\n    <path d=\"M 46.965625 7.2 \nL 604.965625 7.2 \n\" style=\"fill:none;stroke:#000000;stroke-linecap:square;stroke-linejoin:miter;stroke-width:0.8;\"/>\n   </g>\n  </g>\n </g>\n <defs>\n  <clipPath id=\"pae8c7fd89d\">\n   <rect height=\"326.16\" width=\"558\" x=\"46.965625\" y=\"7.2\"/>\n  </clipPath>\n </defs>\n</svg>\n",
      "image/png": "[encoded data removed]"
     },
     "metadata": {
      "needs_background": "light"
     }
    }
   ],
   "source": [
    "graph = Logs_copy[['Status', 'Date']].groupby(['Status']).count().sort_values(by = 'Date',ascending = False)\n",
    "graph = graph.rename(columns = {'Date' : 'Frequency'})\n",
    "graph.plot.bar(y = 'Frequency', color = 'r', ylabel = 'Frequency', legend = None, figsize = (10,6))\n",
    "plt.show()"
   ]
  },
  {
   "cell_type": "code",
   "execution_count": 35,
   "metadata": {},
   "outputs": [
    {
     "output_type": "display_data",
     "data": {
      "text/plain": "<Figure size 720x432 with 1 Axes>",
      "image/svg+xml": "<?xml version=\"1.0\" encoding=\"utf-8\" standalone=\"no\"?>\n<!DOCTYPE svg PUBLIC \"-//W3C//DTD SVG 1.1//EN\"\n  \"http://www.w3.org/Graphics/SVG/1.1/DTD/svg11.dtd\">\n<!-- Created with matplotlib (https://matplotlib.org/) -->\n<svg height=\"401.242813pt\" version=\"1.1\" viewBox=\"0 0 618.528125 401.242813\" width=\"618.528125pt\" xmlns=\"http://www.w3.org/2000/svg\" xmlns:xlink=\"http://www.w3.org/1999/xlink\">\n <metadata>\n  <rdf:RDF xmlns:cc=\"http://creativecommons.org/ns#\" xmlns:dc=\"http://purl.org/dc/elements/1.1/\" xmlns:rdf=\"http://www.w3.org/1999/02/22-rdf-syntax-ns#\">\n   <cc:Work>\n    <dc:type rdf:resource=\"http://purl.org/dc/dcmitype/StillImage\"/>\n    <dc:date>2021-03-07T18:34:54.326768</dc:date>\n    <dc:format>image/svg+xml</dc:format>\n    <dc:creator>\n     <cc:Agent>\n      <dc:title>Matplotlib v3.3.2, https://matplotlib.org/</dc:title>\n     </cc:Agent>\n    </dc:creator>\n   </cc:Work>\n  </rdf:RDF>\n </metadata>\n <defs>\n  <style type=\"text/css\">*{stroke-linecap:butt;stroke-linejoin:round;}</style>\n </defs>\n <g id=\"figure_1\">\n  <g id=\"patch_1\">\n   <path d=\"M 0 401.242813 \nL 618.528125 401.242813 \nL 618.528125 0 \nL 0 0 \nz\n\" style=\"fill:none;\"/>\n  </g>\n  <g id=\"axes_1\">\n   <g id=\"patch_2\">\n    <path d=\"M 53.328125 333.36 \nL 611.328125 333.36 \nL 611.328125 7.2 \nL 53.328125 7.2 \nz\n\" style=\"fill:#ffffff;\"/>\n   </g>\n   <g id=\"patch_3\">\n    <path clip-path=\"url(#pb2ae166f29)\" d=\"M 88.203125 333.36 \nL 157.953125 333.36 \nL 157.953125 22.731429 \nL 88.203125 22.731429 \nz\n\" style=\"fill:#bfbf00;\"/>\n   </g>\n   <g id=\"patch_4\">\n    <path clip-path=\"url(#pb2ae166f29)\" d=\"M 227.703125 333.36 \nL 297.453125 333.36 \nL 297.453125 325.650501 \nL 227.703125 325.650501 \nz\n\" style=\"fill:#bfbf00;\"/>\n   </g>\n   <g id=\"patch_5\">\n    <path clip-path=\"url(#pb2ae166f29)\" d=\"M 367.203125 333.36 \nL 436.953125 333.36 \nL 436.953125 331.111396 \nL 367.203125 331.111396 \nz\n\" style=\"fill:#bfbf00;\"/>\n   </g>\n   <g id=\"patch_6\">\n    <path clip-path=\"url(#pb2ae166f29)\" d=\"M 506.703125 333.36 \nL 576.453125 333.36 \nL 576.453125 332.717542 \nL 506.703125 332.717542 \nz\n\" style=\"fill:#bfbf00;\"/>\n   </g>\n   <g id=\"matplotlib.axis_1\">\n    <g id=\"xtick_1\">\n     <g id=\"line2d_1\">\n      <defs>\n       <path d=\"M 0 0 \nL 0 3.5 \n\" id=\"m23aac66348\" style=\"stroke:#000000;stroke-width:0.8;\"/>\n      </defs>\n      <g>\n       <use style=\"stroke:#000000;stroke-width:0.8;\" x=\"123.078125\" xlink:href=\"#m23aac66348\" y=\"333.36\"/>\n      </g>\n     </g>\n     <g id=\"text_1\">\n      <!-- generic -->\n      <g transform=\"translate(125.8375 377.739688)rotate(-90)scale(0.1 -0.1)\">\n       <defs>\n        <path d=\"M 45.40625 27.984375 \nQ 45.40625 37.75 41.375 43.109375 \nQ 37.359375 48.484375 30.078125 48.484375 \nQ 22.859375 48.484375 18.828125 43.109375 \nQ 14.796875 37.75 14.796875 27.984375 \nQ 14.796875 18.265625 18.828125 12.890625 \nQ 22.859375 7.515625 30.078125 7.515625 \nQ 37.359375 7.515625 41.375 12.890625 \nQ 45.40625 18.265625 45.40625 27.984375 \nz\nM 54.390625 6.78125 \nQ 54.390625 -7.171875 48.1875 -13.984375 \nQ 42 -20.796875 29.203125 -20.796875 \nQ 24.46875 -20.796875 20.265625 -20.09375 \nQ 16.0625 -19.390625 12.109375 -17.921875 \nL 12.109375 -9.1875 \nQ 16.0625 -11.328125 19.921875 -12.34375 \nQ 23.78125 -13.375 27.78125 -13.375 \nQ 36.625 -13.375 41.015625 -8.765625 \nQ 45.40625 -4.15625 45.40625 5.171875 \nL 45.40625 9.625 \nQ 42.625 4.78125 38.28125 2.390625 \nQ 33.9375 0 27.875 0 \nQ 17.828125 0 11.671875 7.65625 \nQ 5.515625 15.328125 5.515625 27.984375 \nQ 5.515625 40.671875 11.671875 48.328125 \nQ 17.828125 56 27.875 56 \nQ 33.9375 56 38.28125 53.609375 \nQ 42.625 51.21875 45.40625 46.390625 \nL 45.40625 54.6875 \nL 54.390625 54.6875 \nz\n\" id=\"DejaVuSans-103\"/>\n        <path d=\"M 56.203125 29.59375 \nL 56.203125 25.203125 \nL 14.890625 25.203125 \nQ 15.484375 15.921875 20.484375 11.0625 \nQ 25.484375 6.203125 34.421875 6.203125 \nQ 39.59375 6.203125 44.453125 7.46875 \nQ 49.3125 8.734375 54.109375 11.28125 \nL 54.109375 2.78125 \nQ 49.265625 0.734375 44.1875 -0.34375 \nQ 39.109375 -1.421875 33.890625 -1.421875 \nQ 20.796875 -1.421875 13.15625 6.1875 \nQ 5.515625 13.8125 5.515625 26.8125 \nQ 5.515625 40.234375 12.765625 48.109375 \nQ 20.015625 56 32.328125 56 \nQ 43.359375 56 49.78125 48.890625 \nQ 56.203125 41.796875 56.203125 29.59375 \nz\nM 47.21875 32.234375 \nQ 47.125 39.59375 43.09375 43.984375 \nQ 39.0625 48.390625 32.421875 48.390625 \nQ 24.90625 48.390625 20.390625 44.140625 \nQ 15.875 39.890625 15.1875 32.171875 \nz\n\" id=\"DejaVuSans-101\"/>\n        <path d=\"M 54.890625 33.015625 \nL 54.890625 0 \nL 45.90625 0 \nL 45.90625 32.71875 \nQ 45.90625 40.484375 42.875 44.328125 \nQ 39.84375 48.1875 33.796875 48.1875 \nQ 26.515625 48.1875 22.3125 43.546875 \nQ 18.109375 38.921875 18.109375 30.90625 \nL 18.109375 0 \nL 9.078125 0 \nL 9.078125 54.6875 \nL 18.109375 54.6875 \nL 18.109375 46.1875 \nQ 21.34375 51.125 25.703125 53.5625 \nQ 30.078125 56 35.796875 56 \nQ 45.21875 56 50.046875 50.171875 \nQ 54.890625 44.34375 54.890625 33.015625 \nz\n\" id=\"DejaVuSans-110\"/>\n        <path d=\"M 41.109375 46.296875 \nQ 39.59375 47.171875 37.8125 47.578125 \nQ 36.03125 48 33.890625 48 \nQ 26.265625 48 22.1875 43.046875 \nQ 18.109375 38.09375 18.109375 28.8125 \nL 18.109375 0 \nL 9.078125 0 \nL 9.078125 54.6875 \nL 18.109375 54.6875 \nL 18.109375 46.1875 \nQ 20.953125 51.171875 25.484375 53.578125 \nQ 30.03125 56 36.53125 56 \nQ 37.453125 56 38.578125 55.875 \nQ 39.703125 55.765625 41.0625 55.515625 \nz\n\" id=\"DejaVuSans-114\"/>\n        <path d=\"M 9.421875 54.6875 \nL 18.40625 54.6875 \nL 18.40625 0 \nL 9.421875 0 \nz\nM 9.421875 75.984375 \nL 18.40625 75.984375 \nL 18.40625 64.59375 \nL 9.421875 64.59375 \nz\n\" id=\"DejaVuSans-105\"/>\n        <path d=\"M 48.78125 52.59375 \nL 48.78125 44.1875 \nQ 44.96875 46.296875 41.140625 47.34375 \nQ 37.3125 48.390625 33.40625 48.390625 \nQ 24.65625 48.390625 19.8125 42.84375 \nQ 14.984375 37.3125 14.984375 27.296875 \nQ 14.984375 17.28125 19.8125 11.734375 \nQ 24.65625 6.203125 33.40625 6.203125 \nQ 37.3125 6.203125 41.140625 7.25 \nQ 44.96875 8.296875 48.78125 10.40625 \nL 48.78125 2.09375 \nQ 45.015625 0.34375 40.984375 -0.53125 \nQ 36.96875 -1.421875 32.421875 -1.421875 \nQ 20.0625 -1.421875 12.78125 6.34375 \nQ 5.515625 14.109375 5.515625 27.296875 \nQ 5.515625 40.671875 12.859375 48.328125 \nQ 20.21875 56 33.015625 56 \nQ 37.15625 56 41.109375 55.140625 \nQ 45.0625 54.296875 48.78125 52.59375 \nz\n\" id=\"DejaVuSans-99\"/>\n       </defs>\n       <use xlink:href=\"#DejaVuSans-103\"/>\n       <use x=\"63.476562\" xlink:href=\"#DejaVuSans-101\"/>\n       <use x=\"125\" xlink:href=\"#DejaVuSans-110\"/>\n       <use x=\"188.378906\" xlink:href=\"#DejaVuSans-101\"/>\n       <use x=\"249.902344\" xlink:href=\"#DejaVuSans-114\"/>\n       <use x=\"291.015625\" xlink:href=\"#DejaVuSans-105\"/>\n       <use x=\"318.798828\" xlink:href=\"#DejaVuSans-99\"/>\n      </g>\n     </g>\n    </g>\n    <g id=\"xtick_2\">\n     <g id=\"line2d_2\">\n      <g>\n       <use style=\"stroke:#000000;stroke-width:0.8;\" x=\"262.578125\" xlink:href=\"#m23aac66348\" y=\"333.36\"/>\n      </g>\n     </g>\n     <g id=\"text_2\">\n      <!-- browser -->\n      <g transform=\"translate(265.3375 380.364688)rotate(-90)scale(0.1 -0.1)\">\n       <defs>\n        <path d=\"M 48.6875 27.296875 \nQ 48.6875 37.203125 44.609375 42.84375 \nQ 40.53125 48.484375 33.40625 48.484375 \nQ 26.265625 48.484375 22.1875 42.84375 \nQ 18.109375 37.203125 18.109375 27.296875 \nQ 18.109375 17.390625 22.1875 11.75 \nQ 26.265625 6.109375 33.40625 6.109375 \nQ 40.53125 6.109375 44.609375 11.75 \nQ 48.6875 17.390625 48.6875 27.296875 \nz\nM 18.109375 46.390625 \nQ 20.953125 51.265625 25.265625 53.625 \nQ 29.59375 56 35.59375 56 \nQ 45.5625 56 51.78125 48.09375 \nQ 58.015625 40.1875 58.015625 27.296875 \nQ 58.015625 14.40625 51.78125 6.484375 \nQ 45.5625 -1.421875 35.59375 -1.421875 \nQ 29.59375 -1.421875 25.265625 0.953125 \nQ 20.953125 3.328125 18.109375 8.203125 \nL 18.109375 0 \nL 9.078125 0 \nL 9.078125 75.984375 \nL 18.109375 75.984375 \nz\n\" id=\"DejaVuSans-98\"/>\n        <path d=\"M 30.609375 48.390625 \nQ 23.390625 48.390625 19.1875 42.75 \nQ 14.984375 37.109375 14.984375 27.296875 \nQ 14.984375 17.484375 19.15625 11.84375 \nQ 23.34375 6.203125 30.609375 6.203125 \nQ 37.796875 6.203125 41.984375 11.859375 \nQ 46.1875 17.53125 46.1875 27.296875 \nQ 46.1875 37.015625 41.984375 42.703125 \nQ 37.796875 48.390625 30.609375 48.390625 \nz\nM 30.609375 56 \nQ 42.328125 56 49.015625 48.375 \nQ 55.71875 40.765625 55.71875 27.296875 \nQ 55.71875 13.875 49.015625 6.21875 \nQ 42.328125 -1.421875 30.609375 -1.421875 \nQ 18.84375 -1.421875 12.171875 6.21875 \nQ 5.515625 13.875 5.515625 27.296875 \nQ 5.515625 40.765625 12.171875 48.375 \nQ 18.84375 56 30.609375 56 \nz\n\" id=\"DejaVuSans-111\"/>\n        <path d=\"M 4.203125 54.6875 \nL 13.1875 54.6875 \nL 24.421875 12.015625 \nL 35.59375 54.6875 \nL 46.1875 54.6875 \nL 57.421875 12.015625 \nL 68.609375 54.6875 \nL 77.59375 54.6875 \nL 63.28125 0 \nL 52.6875 0 \nL 40.921875 44.828125 \nL 29.109375 0 \nL 18.5 0 \nz\n\" id=\"DejaVuSans-119\"/>\n        <path d=\"M 44.28125 53.078125 \nL 44.28125 44.578125 \nQ 40.484375 46.53125 36.375 47.5 \nQ 32.28125 48.484375 27.875 48.484375 \nQ 21.1875 48.484375 17.84375 46.4375 \nQ 14.5 44.390625 14.5 40.28125 \nQ 14.5 37.15625 16.890625 35.375 \nQ 19.28125 33.59375 26.515625 31.984375 \nL 29.59375 31.296875 \nQ 39.15625 29.25 43.1875 25.515625 \nQ 47.21875 21.78125 47.21875 15.09375 \nQ 47.21875 7.46875 41.1875 3.015625 \nQ 35.15625 -1.421875 24.609375 -1.421875 \nQ 20.21875 -1.421875 15.453125 -0.5625 \nQ 10.6875 0.296875 5.421875 2 \nL 5.421875 11.28125 \nQ 10.40625 8.6875 15.234375 7.390625 \nQ 20.0625 6.109375 24.8125 6.109375 \nQ 31.15625 6.109375 34.5625 8.28125 \nQ 37.984375 10.453125 37.984375 14.40625 \nQ 37.984375 18.0625 35.515625 20.015625 \nQ 33.0625 21.96875 24.703125 23.78125 \nL 21.578125 24.515625 \nQ 13.234375 26.265625 9.515625 29.90625 \nQ 5.8125 33.546875 5.8125 39.890625 \nQ 5.8125 47.609375 11.28125 51.796875 \nQ 16.75 56 26.8125 56 \nQ 31.78125 56 36.171875 55.265625 \nQ 40.578125 54.546875 44.28125 53.078125 \nz\n\" id=\"DejaVuSans-115\"/>\n       </defs>\n       <use xlink:href=\"#DejaVuSans-98\"/>\n       <use x=\"63.476562\" xlink:href=\"#DejaVuSans-114\"/>\n       <use x=\"102.339844\" xlink:href=\"#DejaVuSans-111\"/>\n       <use x=\"163.521484\" xlink:href=\"#DejaVuSans-119\"/>\n       <use x=\"245.308594\" xlink:href=\"#DejaVuSans-115\"/>\n       <use x=\"297.408203\" xlink:href=\"#DejaVuSans-101\"/>\n       <use x=\"358.931641\" xlink:href=\"#DejaVuSans-114\"/>\n      </g>\n     </g>\n    </g>\n    <g id=\"xtick_3\">\n     <g id=\"line2d_3\">\n      <g>\n       <use style=\"stroke:#000000;stroke-width:0.8;\" x=\"402.078125\" xlink:href=\"#m23aac66348\" y=\"333.36\"/>\n      </g>\n     </g>\n    </g>\n    <g id=\"xtick_4\">\n     <g id=\"line2d_4\">\n      <g>\n       <use style=\"stroke:#000000;stroke-width:0.8;\" x=\"541.578125\" xlink:href=\"#m23aac66348\" y=\"333.36\"/>\n      </g>\n     </g>\n     <g id=\"text_3\">\n      <!-- library -->\n      <g transform=\"translate(544.3375 372.533437)rotate(-90)scale(0.1 -0.1)\">\n       <defs>\n        <path d=\"M 9.421875 75.984375 \nL 18.40625 75.984375 \nL 18.40625 0 \nL 9.421875 0 \nz\n\" id=\"DejaVuSans-108\"/>\n        <path d=\"M 34.28125 27.484375 \nQ 23.390625 27.484375 19.1875 25 \nQ 14.984375 22.515625 14.984375 16.5 \nQ 14.984375 11.71875 18.140625 8.90625 \nQ 21.296875 6.109375 26.703125 6.109375 \nQ 34.1875 6.109375 38.703125 11.40625 \nQ 43.21875 16.703125 43.21875 25.484375 \nL 43.21875 27.484375 \nz\nM 52.203125 31.203125 \nL 52.203125 0 \nL 43.21875 0 \nL 43.21875 8.296875 \nQ 40.140625 3.328125 35.546875 0.953125 \nQ 30.953125 -1.421875 24.3125 -1.421875 \nQ 15.921875 -1.421875 10.953125 3.296875 \nQ 6 8.015625 6 15.921875 \nQ 6 25.140625 12.171875 29.828125 \nQ 18.359375 34.515625 30.609375 34.515625 \nL 43.21875 34.515625 \nL 43.21875 35.40625 \nQ 43.21875 41.609375 39.140625 45 \nQ 35.0625 48.390625 27.6875 48.390625 \nQ 23 48.390625 18.546875 47.265625 \nQ 14.109375 46.140625 10.015625 43.890625 \nL 10.015625 52.203125 \nQ 14.9375 54.109375 19.578125 55.046875 \nQ 24.21875 56 28.609375 56 \nQ 40.484375 56 46.34375 49.84375 \nQ 52.203125 43.703125 52.203125 31.203125 \nz\n\" id=\"DejaVuSans-97\"/>\n        <path d=\"M 32.171875 -5.078125 \nQ 28.375 -14.84375 24.75 -17.8125 \nQ 21.140625 -20.796875 15.09375 -20.796875 \nL 7.90625 -20.796875 \nL 7.90625 -13.28125 \nL 13.1875 -13.28125 \nQ 16.890625 -13.28125 18.9375 -11.515625 \nQ 21 -9.765625 23.484375 -3.21875 \nL 25.09375 0.875 \nL 2.984375 54.6875 \nL 12.5 54.6875 \nL 29.59375 11.921875 \nL 46.6875 54.6875 \nL 56.203125 54.6875 \nz\n\" id=\"DejaVuSans-121\"/>\n       </defs>\n       <use xlink:href=\"#DejaVuSans-108\"/>\n       <use x=\"27.783203\" xlink:href=\"#DejaVuSans-105\"/>\n       <use x=\"55.566406\" xlink:href=\"#DejaVuSans-98\"/>\n       <use x=\"119.042969\" xlink:href=\"#DejaVuSans-114\"/>\n       <use x=\"160.15625\" xlink:href=\"#DejaVuSans-97\"/>\n       <use x=\"221.435547\" xlink:href=\"#DejaVuSans-114\"/>\n       <use x=\"262.548828\" xlink:href=\"#DejaVuSans-121\"/>\n      </g>\n     </g>\n    </g>\n    <g id=\"text_4\">\n     <!-- Client Type -->\n     <g transform=\"translate(304.78125 391.963125)scale(0.1 -0.1)\">\n      <defs>\n       <path d=\"M 64.40625 67.28125 \nL 64.40625 56.890625 \nQ 59.421875 61.53125 53.78125 63.8125 \nQ 48.140625 66.109375 41.796875 66.109375 \nQ 29.296875 66.109375 22.65625 58.46875 \nQ 16.015625 50.828125 16.015625 36.375 \nQ 16.015625 21.96875 22.65625 14.328125 \nQ 29.296875 6.6875 41.796875 6.6875 \nQ 48.140625 6.6875 53.78125 8.984375 \nQ 59.421875 11.28125 64.40625 15.921875 \nL 64.40625 5.609375 \nQ 59.234375 2.09375 53.4375 0.328125 \nQ 47.65625 -1.421875 41.21875 -1.421875 \nQ 24.65625 -1.421875 15.125 8.703125 \nQ 5.609375 18.84375 5.609375 36.375 \nQ 5.609375 53.953125 15.125 64.078125 \nQ 24.65625 74.21875 41.21875 74.21875 \nQ 47.75 74.21875 53.53125 72.484375 \nQ 59.328125 70.75 64.40625 67.28125 \nz\n\" id=\"DejaVuSans-67\"/>\n       <path d=\"M 18.3125 70.21875 \nL 18.3125 54.6875 \nL 36.8125 54.6875 \nL 36.8125 47.703125 \nL 18.3125 47.703125 \nL 18.3125 18.015625 \nQ 18.3125 11.328125 20.140625 9.421875 \nQ 21.96875 7.515625 27.59375 7.515625 \nL 36.8125 7.515625 \nL 36.8125 0 \nL 27.59375 0 \nQ 17.1875 0 13.234375 3.875 \nQ 9.28125 7.765625 9.28125 18.015625 \nL 9.28125 47.703125 \nL 2.6875 47.703125 \nL 2.6875 54.6875 \nL 9.28125 54.6875 \nL 9.28125 70.21875 \nz\n\" id=\"DejaVuSans-116\"/>\n       <path id=\"DejaVuSans-32\"/>\n       <path d=\"M -0.296875 72.90625 \nL 61.375 72.90625 \nL 61.375 64.59375 \nL 35.5 64.59375 \nL 35.5 0 \nL 25.59375 0 \nL 25.59375 64.59375 \nL -0.296875 64.59375 \nz\n\" id=\"DejaVuSans-84\"/>\n       <path d=\"M 18.109375 8.203125 \nL 18.109375 -20.796875 \nL 9.078125 -20.796875 \nL 9.078125 54.6875 \nL 18.109375 54.6875 \nL 18.109375 46.390625 \nQ 20.953125 51.265625 25.265625 53.625 \nQ 29.59375 56 35.59375 56 \nQ 45.5625 56 51.78125 48.09375 \nQ 58.015625 40.1875 58.015625 27.296875 \nQ 58.015625 14.40625 51.78125 6.484375 \nQ 45.5625 -1.421875 35.59375 -1.421875 \nQ 29.59375 -1.421875 25.265625 0.953125 \nQ 20.953125 3.328125 18.109375 8.203125 \nz\nM 48.6875 27.296875 \nQ 48.6875 37.203125 44.609375 42.84375 \nQ 40.53125 48.484375 33.40625 48.484375 \nQ 26.265625 48.484375 22.1875 42.84375 \nQ 18.109375 37.203125 18.109375 27.296875 \nQ 18.109375 17.390625 22.1875 11.75 \nQ 26.265625 6.109375 33.40625 6.109375 \nQ 40.53125 6.109375 44.609375 11.75 \nQ 48.6875 17.390625 48.6875 27.296875 \nz\n\" id=\"DejaVuSans-112\"/>\n      </defs>\n      <use xlink:href=\"#DejaVuSans-67\"/>\n      <use x=\"69.824219\" xlink:href=\"#DejaVuSans-108\"/>\n      <use x=\"97.607422\" xlink:href=\"#DejaVuSans-105\"/>\n      <use x=\"125.390625\" xlink:href=\"#DejaVuSans-101\"/>\n      <use x=\"186.914062\" xlink:href=\"#DejaVuSans-110\"/>\n      <use x=\"250.292969\" xlink:href=\"#DejaVuSans-116\"/>\n      <use x=\"289.501953\" xlink:href=\"#DejaVuSans-32\"/>\n      <use x=\"321.289062\" xlink:href=\"#DejaVuSans-84\"/>\n      <use x=\"366.748047\" xlink:href=\"#DejaVuSans-121\"/>\n      <use x=\"425.927734\" xlink:href=\"#DejaVuSans-112\"/>\n      <use x=\"489.404297\" xlink:href=\"#DejaVuSans-101\"/>\n     </g>\n    </g>\n   </g>\n   <g id=\"matplotlib.axis_2\">\n    <g id=\"ytick_1\">\n     <g id=\"line2d_5\">\n      <defs>\n       <path d=\"M 0 0 \nL -3.5 0 \n\" id=\"mf9516d6f53\" style=\"stroke:#000000;stroke-width:0.8;\"/>\n      </defs>\n      <g>\n       <use style=\"stroke:#000000;stroke-width:0.8;\" x=\"53.328125\" xlink:href=\"#mf9516d6f53\" y=\"333.36\"/>\n      </g>\n     </g>\n     <g id=\"text_5\">\n      <!-- 0 -->\n      <g transform=\"translate(39.965625 337.159219)scale(0.1 -0.1)\">\n       <defs>\n        <path d=\"M 31.78125 66.40625 \nQ 24.171875 66.40625 20.328125 58.90625 \nQ 16.5 51.421875 16.5 36.375 \nQ 16.5 21.390625 20.328125 13.890625 \nQ 24.171875 6.390625 31.78125 6.390625 \nQ 39.453125 6.390625 43.28125 13.890625 \nQ 47.125 21.390625 47.125 36.375 \nQ 47.125 51.421875 43.28125 58.90625 \nQ 39.453125 66.40625 31.78125 66.40625 \nz\nM 31.78125 74.21875 \nQ 44.046875 74.21875 50.515625 64.515625 \nQ 56.984375 54.828125 56.984375 36.375 \nQ 56.984375 17.96875 50.515625 8.265625 \nQ 44.046875 -1.421875 31.78125 -1.421875 \nQ 19.53125 -1.421875 13.0625 8.265625 \nQ 6.59375 17.96875 6.59375 36.375 \nQ 6.59375 54.828125 13.0625 64.515625 \nQ 19.53125 74.21875 31.78125 74.21875 \nz\n\" id=\"DejaVuSans-48\"/>\n       </defs>\n       <use xlink:href=\"#DejaVuSans-48\"/>\n      </g>\n     </g>\n    </g>\n    <g id=\"ytick_2\">\n     <g id=\"line2d_6\">\n      <g>\n       <use style=\"stroke:#000000;stroke-width:0.8;\" x=\"53.328125\" xlink:href=\"#mf9516d6f53\" y=\"269.114173\"/>\n      </g>\n     </g>\n     <g id=\"text_6\">\n      <!-- 200 -->\n      <g transform=\"translate(27.240625 272.913392)scale(0.1 -0.1)\">\n       <defs>\n        <path d=\"M 19.1875 8.296875 \nL 53.609375 8.296875 \nL 53.609375 0 \nL 7.328125 0 \nL 7.328125 8.296875 \nQ 12.9375 14.109375 22.625 23.890625 \nQ 32.328125 33.6875 34.8125 36.53125 \nQ 39.546875 41.84375 41.421875 45.53125 \nQ 43.3125 49.21875 43.3125 52.78125 \nQ 43.3125 58.59375 39.234375 62.25 \nQ 35.15625 65.921875 28.609375 65.921875 \nQ 23.96875 65.921875 18.8125 64.3125 \nQ 13.671875 62.703125 7.8125 59.421875 \nL 7.8125 69.390625 \nQ 13.765625 71.78125 18.9375 73 \nQ 24.125 74.21875 28.421875 74.21875 \nQ 39.75 74.21875 46.484375 68.546875 \nQ 53.21875 62.890625 53.21875 53.421875 \nQ 53.21875 48.921875 51.53125 44.890625 \nQ 49.859375 40.875 45.40625 35.40625 \nQ 44.1875 33.984375 37.640625 27.21875 \nQ 31.109375 20.453125 19.1875 8.296875 \nz\n\" id=\"DejaVuSans-50\"/>\n       </defs>\n       <use xlink:href=\"#DejaVuSans-50\"/>\n       <use x=\"63.623047\" xlink:href=\"#DejaVuSans-48\"/>\n       <use x=\"127.246094\" xlink:href=\"#DejaVuSans-48\"/>\n      </g>\n     </g>\n    </g>\n    <g id=\"ytick_3\">\n     <g id=\"line2d_7\">\n      <g>\n       <use style=\"stroke:#000000;stroke-width:0.8;\" x=\"53.328125\" xlink:href=\"#mf9516d6f53\" y=\"204.868347\"/>\n      </g>\n     </g>\n     <g id=\"text_7\">\n      <!-- 400 -->\n      <g transform=\"translate(27.240625 208.667566)scale(0.1 -0.1)\">\n       <defs>\n        <path d=\"M 37.796875 64.3125 \nL 12.890625 25.390625 \nL 37.796875 25.390625 \nz\nM 35.203125 72.90625 \nL 47.609375 72.90625 \nL 47.609375 25.390625 \nL 58.015625 25.390625 \nL 58.015625 17.1875 \nL 47.609375 17.1875 \nL 47.609375 0 \nL 37.796875 0 \nL 37.796875 17.1875 \nL 4.890625 17.1875 \nL 4.890625 26.703125 \nz\n\" id=\"DejaVuSans-52\"/>\n       </defs>\n       <use xlink:href=\"#DejaVuSans-52\"/>\n       <use x=\"63.623047\" xlink:href=\"#DejaVuSans-48\"/>\n       <use x=\"127.246094\" xlink:href=\"#DejaVuSans-48\"/>\n      </g>\n     </g>\n    </g>\n    <g id=\"ytick_4\">\n     <g id=\"line2d_8\">\n      <g>\n       <use style=\"stroke:#000000;stroke-width:0.8;\" x=\"53.328125\" xlink:href=\"#mf9516d6f53\" y=\"140.62252\"/>\n      </g>\n     </g>\n     <g id=\"text_8\">\n      <!-- 600 -->\n      <g transform=\"translate(27.240625 144.421739)scale(0.1 -0.1)\">\n       <defs>\n        <path d=\"M 33.015625 40.375 \nQ 26.375 40.375 22.484375 35.828125 \nQ 18.609375 31.296875 18.609375 23.390625 \nQ 18.609375 15.53125 22.484375 10.953125 \nQ 26.375 6.390625 33.015625 6.390625 \nQ 39.65625 6.390625 43.53125 10.953125 \nQ 47.40625 15.53125 47.40625 23.390625 \nQ 47.40625 31.296875 43.53125 35.828125 \nQ 39.65625 40.375 33.015625 40.375 \nz\nM 52.59375 71.296875 \nL 52.59375 62.3125 \nQ 48.875 64.0625 45.09375 64.984375 \nQ 41.3125 65.921875 37.59375 65.921875 \nQ 27.828125 65.921875 22.671875 59.328125 \nQ 17.53125 52.734375 16.796875 39.40625 \nQ 19.671875 43.65625 24.015625 45.921875 \nQ 28.375 48.1875 33.59375 48.1875 \nQ 44.578125 48.1875 50.953125 41.515625 \nQ 57.328125 34.859375 57.328125 23.390625 \nQ 57.328125 12.15625 50.6875 5.359375 \nQ 44.046875 -1.421875 33.015625 -1.421875 \nQ 20.359375 -1.421875 13.671875 8.265625 \nQ 6.984375 17.96875 6.984375 36.375 \nQ 6.984375 53.65625 15.1875 63.9375 \nQ 23.390625 74.21875 37.203125 74.21875 \nQ 40.921875 74.21875 44.703125 73.484375 \nQ 48.484375 72.75 52.59375 71.296875 \nz\n\" id=\"DejaVuSans-54\"/>\n       </defs>\n       <use xlink:href=\"#DejaVuSans-54\"/>\n       <use x=\"63.623047\" xlink:href=\"#DejaVuSans-48\"/>\n       <use x=\"127.246094\" xlink:href=\"#DejaVuSans-48\"/>\n      </g>\n     </g>\n    </g>\n    <g id=\"ytick_5\">\n     <g id=\"line2d_9\">\n      <g>\n       <use style=\"stroke:#000000;stroke-width:0.8;\" x=\"53.328125\" xlink:href=\"#mf9516d6f53\" y=\"76.376694\"/>\n      </g>\n     </g>\n     <g id=\"text_9\">\n      <!-- 800 -->\n      <g transform=\"translate(27.240625 80.175913)scale(0.1 -0.1)\">\n       <defs>\n        <path d=\"M 31.78125 34.625 \nQ 24.75 34.625 20.71875 30.859375 \nQ 16.703125 27.09375 16.703125 20.515625 \nQ 16.703125 13.921875 20.71875 10.15625 \nQ 24.75 6.390625 31.78125 6.390625 \nQ 38.8125 6.390625 42.859375 10.171875 \nQ 46.921875 13.96875 46.921875 20.515625 \nQ 46.921875 27.09375 42.890625 30.859375 \nQ 38.875 34.625 31.78125 34.625 \nz\nM 21.921875 38.8125 \nQ 15.578125 40.375 12.03125 44.71875 \nQ 8.5 49.078125 8.5 55.328125 \nQ 8.5 64.0625 14.71875 69.140625 \nQ 20.953125 74.21875 31.78125 74.21875 \nQ 42.671875 74.21875 48.875 69.140625 \nQ 55.078125 64.0625 55.078125 55.328125 \nQ 55.078125 49.078125 51.53125 44.71875 \nQ 48 40.375 41.703125 38.8125 \nQ 48.828125 37.15625 52.796875 32.3125 \nQ 56.78125 27.484375 56.78125 20.515625 \nQ 56.78125 9.90625 50.3125 4.234375 \nQ 43.84375 -1.421875 31.78125 -1.421875 \nQ 19.734375 -1.421875 13.25 4.234375 \nQ 6.78125 9.90625 6.78125 20.515625 \nQ 6.78125 27.484375 10.78125 32.3125 \nQ 14.796875 37.15625 21.921875 38.8125 \nz\nM 18.3125 54.390625 \nQ 18.3125 48.734375 21.84375 45.5625 \nQ 25.390625 42.390625 31.78125 42.390625 \nQ 38.140625 42.390625 41.71875 45.5625 \nQ 45.3125 48.734375 45.3125 54.390625 \nQ 45.3125 60.0625 41.71875 63.234375 \nQ 38.140625 66.40625 31.78125 66.40625 \nQ 25.390625 66.40625 21.84375 63.234375 \nQ 18.3125 60.0625 18.3125 54.390625 \nz\n\" id=\"DejaVuSans-56\"/>\n       </defs>\n       <use xlink:href=\"#DejaVuSans-56\"/>\n       <use x=\"63.623047\" xlink:href=\"#DejaVuSans-48\"/>\n       <use x=\"127.246094\" xlink:href=\"#DejaVuSans-48\"/>\n      </g>\n     </g>\n    </g>\n    <g id=\"ytick_6\">\n     <g id=\"line2d_10\">\n      <g>\n       <use style=\"stroke:#000000;stroke-width:0.8;\" x=\"53.328125\" xlink:href=\"#mf9516d6f53\" y=\"12.130867\"/>\n      </g>\n     </g>\n     <g id=\"text_10\">\n      <!-- 1000 -->\n      <g transform=\"translate(20.878125 15.930086)scale(0.1 -0.1)\">\n       <defs>\n        <path d=\"M 12.40625 8.296875 \nL 28.515625 8.296875 \nL 28.515625 63.921875 \nL 10.984375 60.40625 \nL 10.984375 69.390625 \nL 28.421875 72.90625 \nL 38.28125 72.90625 \nL 38.28125 8.296875 \nL 54.390625 8.296875 \nL 54.390625 0 \nL 12.40625 0 \nz\n\" id=\"DejaVuSans-49\"/>\n       </defs>\n       <use xlink:href=\"#DejaVuSans-49\"/>\n       <use x=\"63.623047\" xlink:href=\"#DejaVuSans-48\"/>\n       <use x=\"127.246094\" xlink:href=\"#DejaVuSans-48\"/>\n       <use x=\"190.869141\" xlink:href=\"#DejaVuSans-48\"/>\n      </g>\n     </g>\n    </g>\n    <g id=\"text_11\">\n     <!-- Frequency -->\n     <g transform=\"translate(14.798438 196.109688)rotate(-90)scale(0.1 -0.1)\">\n      <defs>\n       <path d=\"M 9.8125 72.90625 \nL 51.703125 72.90625 \nL 51.703125 64.59375 \nL 19.671875 64.59375 \nL 19.671875 43.109375 \nL 48.578125 43.109375 \nL 48.578125 34.8125 \nL 19.671875 34.8125 \nL 19.671875 0 \nL 9.8125 0 \nz\n\" id=\"DejaVuSans-70\"/>\n       <path d=\"M 14.796875 27.296875 \nQ 14.796875 17.390625 18.875 11.75 \nQ 22.953125 6.109375 30.078125 6.109375 \nQ 37.203125 6.109375 41.296875 11.75 \nQ 45.40625 17.390625 45.40625 27.296875 \nQ 45.40625 37.203125 41.296875 42.84375 \nQ 37.203125 48.484375 30.078125 48.484375 \nQ 22.953125 48.484375 18.875 42.84375 \nQ 14.796875 37.203125 14.796875 27.296875 \nz\nM 45.40625 8.203125 \nQ 42.578125 3.328125 38.25 0.953125 \nQ 33.9375 -1.421875 27.875 -1.421875 \nQ 17.96875 -1.421875 11.734375 6.484375 \nQ 5.515625 14.40625 5.515625 27.296875 \nQ 5.515625 40.1875 11.734375 48.09375 \nQ 17.96875 56 27.875 56 \nQ 33.9375 56 38.25 53.625 \nQ 42.578125 51.265625 45.40625 46.390625 \nL 45.40625 54.6875 \nL 54.390625 54.6875 \nL 54.390625 -20.796875 \nL 45.40625 -20.796875 \nz\n\" id=\"DejaVuSans-113\"/>\n       <path d=\"M 8.5 21.578125 \nL 8.5 54.6875 \nL 17.484375 54.6875 \nL 17.484375 21.921875 \nQ 17.484375 14.15625 20.5 10.265625 \nQ 23.53125 6.390625 29.59375 6.390625 \nQ 36.859375 6.390625 41.078125 11.03125 \nQ 45.3125 15.671875 45.3125 23.6875 \nL 45.3125 54.6875 \nL 54.296875 54.6875 \nL 54.296875 0 \nL 45.3125 0 \nL 45.3125 8.40625 \nQ 42.046875 3.421875 37.71875 1 \nQ 33.40625 -1.421875 27.6875 -1.421875 \nQ 18.265625 -1.421875 13.375 4.4375 \nQ 8.5 10.296875 8.5 21.578125 \nz\nM 31.109375 56 \nz\n\" id=\"DejaVuSans-117\"/>\n      </defs>\n      <use xlink:href=\"#DejaVuSans-70\"/>\n      <use x=\"50.269531\" xlink:href=\"#DejaVuSans-114\"/>\n      <use x=\"89.132812\" xlink:href=\"#DejaVuSans-101\"/>\n      <use x=\"150.65625\" xlink:href=\"#DejaVuSans-113\"/>\n      <use x=\"214.132812\" xlink:href=\"#DejaVuSans-117\"/>\n      <use x=\"277.511719\" xlink:href=\"#DejaVuSans-101\"/>\n      <use x=\"339.035156\" xlink:href=\"#DejaVuSans-110\"/>\n      <use x=\"402.414062\" xlink:href=\"#DejaVuSans-99\"/>\n      <use x=\"457.394531\" xlink:href=\"#DejaVuSans-121\"/>\n     </g>\n    </g>\n   </g>\n   <g id=\"patch_7\">\n    <path d=\"M 53.328125 333.36 \nL 53.328125 7.2 \n\" style=\"fill:none;stroke:#000000;stroke-linecap:square;stroke-linejoin:miter;stroke-width:0.8;\"/>\n   </g>\n   <g id=\"patch_8\">\n    <path d=\"M 611.328125 333.36 \nL 611.328125 7.2 \n\" style=\"fill:none;stroke:#000000;stroke-linecap:square;stroke-linejoin:miter;stroke-width:0.8;\"/>\n   </g>\n   <g id=\"patch_9\">\n    <path d=\"M 53.328125 333.36 \nL 611.328125 333.36 \n\" style=\"fill:none;stroke:#000000;stroke-linecap:square;stroke-linejoin:miter;stroke-width:0.8;\"/>\n   </g>\n   <g id=\"patch_10\">\n    <path d=\"M 53.328125 7.2 \nL 611.328125 7.2 \n\" style=\"fill:none;stroke:#000000;stroke-linecap:square;stroke-linejoin:miter;stroke-width:0.8;\"/>\n   </g>\n  </g>\n </g>\n <defs>\n  <clipPath id=\"pb2ae166f29\">\n   <rect height=\"326.16\" width=\"558\" x=\"53.328125\" y=\"7.2\"/>\n  </clipPath>\n </defs>\n</svg>\n",
      "image/png": "[encoded data removed]"
     },
     "metadata": {
      "needs_background": "light"
     }
    }
   ],
   "source": [
    "graph = Logs_copy[['Client Type', 'Date']].groupby(['Client Type']).count().sort_values(by = 'Date',ascending = False)\n",
    "graph = graph.rename(columns = {'Date' : 'Frequency'})\n",
    "graph.plot.bar(y = 'Frequency', color = 'y', ylabel = 'Frequency', legend = None, figsize = (10,6))\n",
    "plt.show()"
   ]
  },
  {
   "cell_type": "code",
   "execution_count": 36,
   "metadata": {},
   "outputs": [
    {
     "output_type": "execute_result",
     "data": {
      "text/plain": [
       "<seaborn.axisgrid.FacetGrid at 0x7fe55fba5be0>"
      ]
     },
     "metadata": {},
     "execution_count": 36
    },
    {
     "output_type": "display_data",
     "data": {
      "text/plain": "<Figure size 502.125x360 with 1 Axes>",
      "image/svg+xml": "<?xml version=\"1.0\" encoding=\"utf-8\" standalone=\"no\"?>\n<!DOCTYPE svg PUBLIC \"-//W3C//DTD SVG 1.1//EN\"\n  \"http://www.w3.org/Graphics/SVG/1.1/DTD/svg11.dtd\">\n<!-- Created with matplotlib (https://matplotlib.org/) -->\n<svg height=\"352.15625pt\" version=\"1.1\" viewBox=\"0 0 500.353125 352.15625\" width=\"500.353125pt\" xmlns=\"http://www.w3.org/2000/svg\" xmlns:xlink=\"http://www.w3.org/1999/xlink\">\n <metadata>\n  <rdf:RDF xmlns:cc=\"http://creativecommons.org/ns#\" xmlns:dc=\"http://purl.org/dc/elements/1.1/\" xmlns:rdf=\"http://www.w3.org/1999/02/22-rdf-syntax-ns#\">\n   <cc:Work>\n    <dc:type rdf:resource=\"http://purl.org/dc/dcmitype/StillImage\"/>\n    <dc:date>2021-03-07T18:34:54.726866</dc:date>\n    <dc:format>image/svg+xml</dc:format>\n    <dc:creator>\n     <cc:Agent>\n      <dc:title>Matplotlib v3.3.2, https://matplotlib.org/</dc:title>\n     </cc:Agent>\n    </dc:creator>\n   </cc:Work>\n  </rdf:RDF>\n </metadata>\n <defs>\n  <style type=\"text/css\">*{stroke-linecap:butt;stroke-linejoin:round;}</style>\n </defs>\n <g id=\"figure_1\">\n  <g id=\"patch_1\">\n   <path d=\"M 0 352.15625 \nL 500.353125 352.15625 \nL 500.353125 0 \nL 0 0 \nz\n\" style=\"fill:none;\"/>\n  </g>\n  <g id=\"axes_1\">\n   <g id=\"patch_2\">\n    <path d=\"M 53.328125 314.6 \nL 340.206875 314.6 \nL 340.206875 7.2 \nL 53.328125 7.2 \nz\n\" style=\"fill:#ffffff;\"/>\n   </g>\n   <g id=\"patch_3\">\n    <path clip-path=\"url(#p6b36b62782)\" d=\"M 66.368068 314.6 \nL 131.567784 314.6 \nL 131.567784 21.838095 \nL 66.368068 21.838095 \nz\n\" style=\"fill:#1f77b4;fill-opacity:0.75;stroke:#000000;stroke-linejoin:miter;\"/>\n   </g>\n   <g id=\"patch_4\">\n    <path clip-path=\"url(#p6b36b62782)\" d=\"M 131.567784 314.6 \nL 196.7675 314.6 \nL 196.7675 313.69268 \nL 131.567784 313.69268 \nz\n\" style=\"fill:#1f77b4;fill-opacity:0.75;stroke:#000000;stroke-linejoin:miter;\"/>\n   </g>\n   <g id=\"patch_5\">\n    <path clip-path=\"url(#p6b36b62782)\" d=\"M 196.7675 314.6 \nL 261.967216 314.6 \nL 261.967216 306.73656 \nL 196.7675 306.73656 \nz\n\" style=\"fill:#1f77b4;fill-opacity:0.75;stroke:#000000;stroke-linejoin:miter;\"/>\n   </g>\n   <g id=\"patch_6\">\n    <path clip-path=\"url(#p6b36b62782)\" d=\"M 261.967216 314.6 \nL 327.166932 314.6 \nL 327.166932 313.69268 \nL 261.967216 313.69268 \nz\n\" style=\"fill:#1f77b4;fill-opacity:0.75;stroke:#000000;stroke-linejoin:miter;\"/>\n   </g>\n   <g id=\"matplotlib.axis_1\">\n    <g id=\"xtick_1\">\n     <g id=\"line2d_1\">\n      <defs>\n       <path d=\"M 0 0 \nL 0 3.5 \n\" id=\"m74ae05e8a8\" style=\"stroke:#000000;stroke-width:0.8;\"/>\n      </defs>\n      <g>\n       <use style=\"stroke:#000000;stroke-width:0.8;\" x=\"98.967926\" xlink:href=\"#m74ae05e8a8\" y=\"314.6\"/>\n      </g>\n     </g>\n    </g>\n    <g id=\"xtick_2\">\n     <g id=\"line2d_2\">\n      <g>\n       <use style=\"stroke:#000000;stroke-width:0.8;\" x=\"164.167642\" xlink:href=\"#m74ae05e8a8\" y=\"314.6\"/>\n      </g>\n     </g>\n     <g id=\"text_1\">\n      <!-- GNU/Linux -->\n      <g transform=\"translate(137.737173 329.198437)scale(0.1 -0.1)\">\n       <defs>\n        <path d=\"M 59.515625 10.40625 \nL 59.515625 29.984375 \nL 43.40625 29.984375 \nL 43.40625 38.09375 \nL 69.28125 38.09375 \nL 69.28125 6.78125 \nQ 63.578125 2.734375 56.6875 0.65625 \nQ 49.8125 -1.421875 42 -1.421875 \nQ 24.90625 -1.421875 15.25 8.5625 \nQ 5.609375 18.5625 5.609375 36.375 \nQ 5.609375 54.25 15.25 64.234375 \nQ 24.90625 74.21875 42 74.21875 \nQ 49.125 74.21875 55.546875 72.453125 \nQ 61.96875 70.703125 67.390625 67.28125 \nL 67.390625 56.78125 \nQ 61.921875 61.421875 55.765625 63.765625 \nQ 49.609375 66.109375 42.828125 66.109375 \nQ 29.4375 66.109375 22.71875 58.640625 \nQ 16.015625 51.171875 16.015625 36.375 \nQ 16.015625 21.625 22.71875 14.15625 \nQ 29.4375 6.6875 42.828125 6.6875 \nQ 48.046875 6.6875 52.140625 7.59375 \nQ 56.25 8.5 59.515625 10.40625 \nz\n\" id=\"DejaVuSans-71\"/>\n        <path d=\"M 9.8125 72.90625 \nL 23.09375 72.90625 \nL 55.421875 11.921875 \nL 55.421875 72.90625 \nL 64.984375 72.90625 \nL 64.984375 0 \nL 51.703125 0 \nL 19.390625 60.984375 \nL 19.390625 0 \nL 9.8125 0 \nz\n\" id=\"DejaVuSans-78\"/>\n        <path d=\"M 8.6875 72.90625 \nL 18.609375 72.90625 \nL 18.609375 28.609375 \nQ 18.609375 16.890625 22.84375 11.734375 \nQ 27.09375 6.59375 36.625 6.59375 \nQ 46.09375 6.59375 50.34375 11.734375 \nQ 54.59375 16.890625 54.59375 28.609375 \nL 54.59375 72.90625 \nL 64.5 72.90625 \nL 64.5 27.390625 \nQ 64.5 13.140625 57.4375 5.859375 \nQ 50.390625 -1.421875 36.625 -1.421875 \nQ 22.796875 -1.421875 15.734375 5.859375 \nQ 8.6875 13.140625 8.6875 27.390625 \nz\n\" id=\"DejaVuSans-85\"/>\n        <path d=\"M 25.390625 72.90625 \nL 33.6875 72.90625 \nL 8.296875 -9.28125 \nL 0 -9.28125 \nz\n\" id=\"DejaVuSans-47\"/>\n        <path d=\"M 9.8125 72.90625 \nL 19.671875 72.90625 \nL 19.671875 8.296875 \nL 55.171875 8.296875 \nL 55.171875 0 \nL 9.8125 0 \nz\n\" id=\"DejaVuSans-76\"/>\n        <path d=\"M 9.421875 54.6875 \nL 18.40625 54.6875 \nL 18.40625 0 \nL 9.421875 0 \nz\nM 9.421875 75.984375 \nL 18.40625 75.984375 \nL 18.40625 64.59375 \nL 9.421875 64.59375 \nz\n\" id=\"DejaVuSans-105\"/>\n        <path d=\"M 54.890625 33.015625 \nL 54.890625 0 \nL 45.90625 0 \nL 45.90625 32.71875 \nQ 45.90625 40.484375 42.875 44.328125 \nQ 39.84375 48.1875 33.796875 48.1875 \nQ 26.515625 48.1875 22.3125 43.546875 \nQ 18.109375 38.921875 18.109375 30.90625 \nL 18.109375 0 \nL 9.078125 0 \nL 9.078125 54.6875 \nL 18.109375 54.6875 \nL 18.109375 46.1875 \nQ 21.34375 51.125 25.703125 53.5625 \nQ 30.078125 56 35.796875 56 \nQ 45.21875 56 50.046875 50.171875 \nQ 54.890625 44.34375 54.890625 33.015625 \nz\n\" id=\"DejaVuSans-110\"/>\n        <path d=\"M 8.5 21.578125 \nL 8.5 54.6875 \nL 17.484375 54.6875 \nL 17.484375 21.921875 \nQ 17.484375 14.15625 20.5 10.265625 \nQ 23.53125 6.390625 29.59375 6.390625 \nQ 36.859375 6.390625 41.078125 11.03125 \nQ 45.3125 15.671875 45.3125 23.6875 \nL 45.3125 54.6875 \nL 54.296875 54.6875 \nL 54.296875 0 \nL 45.3125 0 \nL 45.3125 8.40625 \nQ 42.046875 3.421875 37.71875 1 \nQ 33.40625 -1.421875 27.6875 -1.421875 \nQ 18.265625 -1.421875 13.375 4.4375 \nQ 8.5 10.296875 8.5 21.578125 \nz\nM 31.109375 56 \nz\n\" id=\"DejaVuSans-117\"/>\n        <path d=\"M 54.890625 54.6875 \nL 35.109375 28.078125 \nL 55.90625 0 \nL 45.3125 0 \nL 29.390625 21.484375 \nL 13.484375 0 \nL 2.875 0 \nL 24.125 28.609375 \nL 4.6875 54.6875 \nL 15.28125 54.6875 \nL 29.78125 35.203125 \nL 44.28125 54.6875 \nz\n\" id=\"DejaVuSans-120\"/>\n       </defs>\n       <use xlink:href=\"#DejaVuSans-71\"/>\n       <use x=\"77.490234\" xlink:href=\"#DejaVuSans-78\"/>\n       <use x=\"152.294922\" xlink:href=\"#DejaVuSans-85\"/>\n       <use x=\"225.488281\" xlink:href=\"#DejaVuSans-47\"/>\n       <use x=\"259.179688\" xlink:href=\"#DejaVuSans-76\"/>\n       <use x=\"314.892578\" xlink:href=\"#DejaVuSans-105\"/>\n       <use x=\"342.675781\" xlink:href=\"#DejaVuSans-110\"/>\n       <use x=\"406.054688\" xlink:href=\"#DejaVuSans-117\"/>\n       <use x=\"469.433594\" xlink:href=\"#DejaVuSans-120\"/>\n      </g>\n     </g>\n    </g>\n    <g id=\"xtick_3\">\n     <g id=\"line2d_3\">\n      <g>\n       <use style=\"stroke:#000000;stroke-width:0.8;\" x=\"229.367358\" xlink:href=\"#m74ae05e8a8\" y=\"314.6\"/>\n      </g>\n     </g>\n     <g id=\"text_2\">\n      <!-- Windows -->\n      <g transform=\"translate(207.050952 329.198437)scale(0.1 -0.1)\">\n       <defs>\n        <path d=\"M 3.328125 72.90625 \nL 13.28125 72.90625 \nL 28.609375 11.28125 \nL 43.890625 72.90625 \nL 54.984375 72.90625 \nL 70.3125 11.28125 \nL 85.59375 72.90625 \nL 95.609375 72.90625 \nL 77.296875 0 \nL 64.890625 0 \nL 49.515625 63.28125 \nL 33.984375 0 \nL 21.578125 0 \nz\n\" id=\"DejaVuSans-87\"/>\n        <path d=\"M 45.40625 46.390625 \nL 45.40625 75.984375 \nL 54.390625 75.984375 \nL 54.390625 0 \nL 45.40625 0 \nL 45.40625 8.203125 \nQ 42.578125 3.328125 38.25 0.953125 \nQ 33.9375 -1.421875 27.875 -1.421875 \nQ 17.96875 -1.421875 11.734375 6.484375 \nQ 5.515625 14.40625 5.515625 27.296875 \nQ 5.515625 40.1875 11.734375 48.09375 \nQ 17.96875 56 27.875 56 \nQ 33.9375 56 38.25 53.625 \nQ 42.578125 51.265625 45.40625 46.390625 \nz\nM 14.796875 27.296875 \nQ 14.796875 17.390625 18.875 11.75 \nQ 22.953125 6.109375 30.078125 6.109375 \nQ 37.203125 6.109375 41.296875 11.75 \nQ 45.40625 17.390625 45.40625 27.296875 \nQ 45.40625 37.203125 41.296875 42.84375 \nQ 37.203125 48.484375 30.078125 48.484375 \nQ 22.953125 48.484375 18.875 42.84375 \nQ 14.796875 37.203125 14.796875 27.296875 \nz\n\" id=\"DejaVuSans-100\"/>\n        <path d=\"M 30.609375 48.390625 \nQ 23.390625 48.390625 19.1875 42.75 \nQ 14.984375 37.109375 14.984375 27.296875 \nQ 14.984375 17.484375 19.15625 11.84375 \nQ 23.34375 6.203125 30.609375 6.203125 \nQ 37.796875 6.203125 41.984375 11.859375 \nQ 46.1875 17.53125 46.1875 27.296875 \nQ 46.1875 37.015625 41.984375 42.703125 \nQ 37.796875 48.390625 30.609375 48.390625 \nz\nM 30.609375 56 \nQ 42.328125 56 49.015625 48.375 \nQ 55.71875 40.765625 55.71875 27.296875 \nQ 55.71875 13.875 49.015625 6.21875 \nQ 42.328125 -1.421875 30.609375 -1.421875 \nQ 18.84375 -1.421875 12.171875 6.21875 \nQ 5.515625 13.875 5.515625 27.296875 \nQ 5.515625 40.765625 12.171875 48.375 \nQ 18.84375 56 30.609375 56 \nz\n\" id=\"DejaVuSans-111\"/>\n        <path d=\"M 4.203125 54.6875 \nL 13.1875 54.6875 \nL 24.421875 12.015625 \nL 35.59375 54.6875 \nL 46.1875 54.6875 \nL 57.421875 12.015625 \nL 68.609375 54.6875 \nL 77.59375 54.6875 \nL 63.28125 0 \nL 52.6875 0 \nL 40.921875 44.828125 \nL 29.109375 0 \nL 18.5 0 \nz\n\" id=\"DejaVuSans-119\"/>\n        <path d=\"M 44.28125 53.078125 \nL 44.28125 44.578125 \nQ 40.484375 46.53125 36.375 47.5 \nQ 32.28125 48.484375 27.875 48.484375 \nQ 21.1875 48.484375 17.84375 46.4375 \nQ 14.5 44.390625 14.5 40.28125 \nQ 14.5 37.15625 16.890625 35.375 \nQ 19.28125 33.59375 26.515625 31.984375 \nL 29.59375 31.296875 \nQ 39.15625 29.25 43.1875 25.515625 \nQ 47.21875 21.78125 47.21875 15.09375 \nQ 47.21875 7.46875 41.1875 3.015625 \nQ 35.15625 -1.421875 24.609375 -1.421875 \nQ 20.21875 -1.421875 15.453125 -0.5625 \nQ 10.6875 0.296875 5.421875 2 \nL 5.421875 11.28125 \nQ 10.40625 8.6875 15.234375 7.390625 \nQ 20.0625 6.109375 24.8125 6.109375 \nQ 31.15625 6.109375 34.5625 8.28125 \nQ 37.984375 10.453125 37.984375 14.40625 \nQ 37.984375 18.0625 35.515625 20.015625 \nQ 33.0625 21.96875 24.703125 23.78125 \nL 21.578125 24.515625 \nQ 13.234375 26.265625 9.515625 29.90625 \nQ 5.8125 33.546875 5.8125 39.890625 \nQ 5.8125 47.609375 11.28125 51.796875 \nQ 16.75 56 26.8125 56 \nQ 31.78125 56 36.171875 55.265625 \nQ 40.578125 54.546875 44.28125 53.078125 \nz\n\" id=\"DejaVuSans-115\"/>\n       </defs>\n       <use xlink:href=\"#DejaVuSans-87\"/>\n       <use x=\"96.626953\" xlink:href=\"#DejaVuSans-105\"/>\n       <use x=\"124.410156\" xlink:href=\"#DejaVuSans-110\"/>\n       <use x=\"187.789062\" xlink:href=\"#DejaVuSans-100\"/>\n       <use x=\"251.265625\" xlink:href=\"#DejaVuSans-111\"/>\n       <use x=\"312.447266\" xlink:href=\"#DejaVuSans-119\"/>\n       <use x=\"394.234375\" xlink:href=\"#DejaVuSans-115\"/>\n      </g>\n     </g>\n    </g>\n    <g id=\"xtick_4\">\n     <g id=\"line2d_4\">\n      <g>\n       <use style=\"stroke:#000000;stroke-width:0.8;\" x=\"294.567074\" xlink:href=\"#m74ae05e8a8\" y=\"314.6\"/>\n      </g>\n     </g>\n     <g id=\"text_3\">\n      <!-- iOS -->\n      <g transform=\"translate(286.067855 329.198437)scale(0.1 -0.1)\">\n       <defs>\n        <path d=\"M 39.40625 66.21875 \nQ 28.65625 66.21875 22.328125 58.203125 \nQ 16.015625 50.203125 16.015625 36.375 \nQ 16.015625 22.609375 22.328125 14.59375 \nQ 28.65625 6.59375 39.40625 6.59375 \nQ 50.140625 6.59375 56.421875 14.59375 \nQ 62.703125 22.609375 62.703125 36.375 \nQ 62.703125 50.203125 56.421875 58.203125 \nQ 50.140625 66.21875 39.40625 66.21875 \nz\nM 39.40625 74.21875 \nQ 54.734375 74.21875 63.90625 63.9375 \nQ 73.09375 53.65625 73.09375 36.375 \nQ 73.09375 19.140625 63.90625 8.859375 \nQ 54.734375 -1.421875 39.40625 -1.421875 \nQ 24.03125 -1.421875 14.8125 8.828125 \nQ 5.609375 19.09375 5.609375 36.375 \nQ 5.609375 53.65625 14.8125 63.9375 \nQ 24.03125 74.21875 39.40625 74.21875 \nz\n\" id=\"DejaVuSans-79\"/>\n        <path d=\"M 53.515625 70.515625 \nL 53.515625 60.890625 \nQ 47.90625 63.578125 42.921875 64.890625 \nQ 37.9375 66.21875 33.296875 66.21875 \nQ 25.25 66.21875 20.875 63.09375 \nQ 16.5 59.96875 16.5 54.203125 \nQ 16.5 49.359375 19.40625 46.890625 \nQ 22.3125 44.4375 30.421875 42.921875 \nL 36.375 41.703125 \nQ 47.40625 39.59375 52.65625 34.296875 \nQ 57.90625 29 57.90625 20.125 \nQ 57.90625 9.515625 50.796875 4.046875 \nQ 43.703125 -1.421875 29.984375 -1.421875 \nQ 24.8125 -1.421875 18.96875 -0.25 \nQ 13.140625 0.921875 6.890625 3.21875 \nL 6.890625 13.375 \nQ 12.890625 10.015625 18.65625 8.296875 \nQ 24.421875 6.59375 29.984375 6.59375 \nQ 38.421875 6.59375 43.015625 9.90625 \nQ 47.609375 13.234375 47.609375 19.390625 \nQ 47.609375 24.75 44.3125 27.78125 \nQ 41.015625 30.8125 33.5 32.328125 \nL 27.484375 33.5 \nQ 16.453125 35.6875 11.515625 40.375 \nQ 6.59375 45.0625 6.59375 53.421875 \nQ 6.59375 63.09375 13.40625 68.65625 \nQ 20.21875 74.21875 32.171875 74.21875 \nQ 37.3125 74.21875 42.625 73.28125 \nQ 47.953125 72.359375 53.515625 70.515625 \nz\n\" id=\"DejaVuSans-83\"/>\n       </defs>\n       <use xlink:href=\"#DejaVuSans-105\"/>\n       <use x=\"27.783203\" xlink:href=\"#DejaVuSans-79\"/>\n       <use x=\"106.494141\" xlink:href=\"#DejaVuSans-83\"/>\n      </g>\n     </g>\n    </g>\n    <g id=\"text_4\">\n     <!-- Os Name -->\n     <g transform=\"translate(173.88625 342.876562)scale(0.1 -0.1)\">\n      <defs>\n       <path id=\"DejaVuSans-32\"/>\n       <path d=\"M 34.28125 27.484375 \nQ 23.390625 27.484375 19.1875 25 \nQ 14.984375 22.515625 14.984375 16.5 \nQ 14.984375 11.71875 18.140625 8.90625 \nQ 21.296875 6.109375 26.703125 6.109375 \nQ 34.1875 6.109375 38.703125 11.40625 \nQ 43.21875 16.703125 43.21875 25.484375 \nL 43.21875 27.484375 \nz\nM 52.203125 31.203125 \nL 52.203125 0 \nL 43.21875 0 \nL 43.21875 8.296875 \nQ 40.140625 3.328125 35.546875 0.953125 \nQ 30.953125 -1.421875 24.3125 -1.421875 \nQ 15.921875 -1.421875 10.953125 3.296875 \nQ 6 8.015625 6 15.921875 \nQ 6 25.140625 12.171875 29.828125 \nQ 18.359375 34.515625 30.609375 34.515625 \nL 43.21875 34.515625 \nL 43.21875 35.40625 \nQ 43.21875 41.609375 39.140625 45 \nQ 35.0625 48.390625 27.6875 48.390625 \nQ 23 48.390625 18.546875 47.265625 \nQ 14.109375 46.140625 10.015625 43.890625 \nL 10.015625 52.203125 \nQ 14.9375 54.109375 19.578125 55.046875 \nQ 24.21875 56 28.609375 56 \nQ 40.484375 56 46.34375 49.84375 \nQ 52.203125 43.703125 52.203125 31.203125 \nz\n\" id=\"DejaVuSans-97\"/>\n       <path d=\"M 52 44.1875 \nQ 55.375 50.25 60.0625 53.125 \nQ 64.75 56 71.09375 56 \nQ 79.640625 56 84.28125 50.015625 \nQ 88.921875 44.046875 88.921875 33.015625 \nL 88.921875 0 \nL 79.890625 0 \nL 79.890625 32.71875 \nQ 79.890625 40.578125 77.09375 44.375 \nQ 74.3125 48.1875 68.609375 48.1875 \nQ 61.625 48.1875 57.5625 43.546875 \nQ 53.515625 38.921875 53.515625 30.90625 \nL 53.515625 0 \nL 44.484375 0 \nL 44.484375 32.71875 \nQ 44.484375 40.625 41.703125 44.40625 \nQ 38.921875 48.1875 33.109375 48.1875 \nQ 26.21875 48.1875 22.15625 43.53125 \nQ 18.109375 38.875 18.109375 30.90625 \nL 18.109375 0 \nL 9.078125 0 \nL 9.078125 54.6875 \nL 18.109375 54.6875 \nL 18.109375 46.1875 \nQ 21.1875 51.21875 25.484375 53.609375 \nQ 29.78125 56 35.6875 56 \nQ 41.65625 56 45.828125 52.96875 \nQ 50 49.953125 52 44.1875 \nz\n\" id=\"DejaVuSans-109\"/>\n       <path d=\"M 56.203125 29.59375 \nL 56.203125 25.203125 \nL 14.890625 25.203125 \nQ 15.484375 15.921875 20.484375 11.0625 \nQ 25.484375 6.203125 34.421875 6.203125 \nQ 39.59375 6.203125 44.453125 7.46875 \nQ 49.3125 8.734375 54.109375 11.28125 \nL 54.109375 2.78125 \nQ 49.265625 0.734375 44.1875 -0.34375 \nQ 39.109375 -1.421875 33.890625 -1.421875 \nQ 20.796875 -1.421875 13.15625 6.1875 \nQ 5.515625 13.8125 5.515625 26.8125 \nQ 5.515625 40.234375 12.765625 48.109375 \nQ 20.015625 56 32.328125 56 \nQ 43.359375 56 49.78125 48.890625 \nQ 56.203125 41.796875 56.203125 29.59375 \nz\nM 47.21875 32.234375 \nQ 47.125 39.59375 43.09375 43.984375 \nQ 39.0625 48.390625 32.421875 48.390625 \nQ 24.90625 48.390625 20.390625 44.140625 \nQ 15.875 39.890625 15.1875 32.171875 \nz\n\" id=\"DejaVuSans-101\"/>\n      </defs>\n      <use xlink:href=\"#DejaVuSans-79\"/>\n      <use x=\"78.710938\" xlink:href=\"#DejaVuSans-115\"/>\n      <use x=\"130.810547\" xlink:href=\"#DejaVuSans-32\"/>\n      <use x=\"162.597656\" xlink:href=\"#DejaVuSans-78\"/>\n      <use x=\"237.402344\" xlink:href=\"#DejaVuSans-97\"/>\n      <use x=\"298.681641\" xlink:href=\"#DejaVuSans-109\"/>\n      <use x=\"396.09375\" xlink:href=\"#DejaVuSans-101\"/>\n     </g>\n    </g>\n   </g>\n   <g id=\"matplotlib.axis_2\">\n    <g id=\"ytick_1\">\n     <g id=\"line2d_5\">\n      <defs>\n       <path d=\"M 0 0 \nL -3.5 0 \n\" id=\"mada36e0786\" style=\"stroke:#000000;stroke-width:0.8;\"/>\n      </defs>\n      <g>\n       <use style=\"stroke:#000000;stroke-width:0.8;\" x=\"53.328125\" xlink:href=\"#mada36e0786\" y=\"314.6\"/>\n      </g>\n     </g>\n     <g id=\"text_5\">\n      <!-- 0 -->\n      <g transform=\"translate(39.965625 318.399219)scale(0.1 -0.1)\">\n       <defs>\n        <path d=\"M 31.78125 66.40625 \nQ 24.171875 66.40625 20.328125 58.90625 \nQ 16.5 51.421875 16.5 36.375 \nQ 16.5 21.390625 20.328125 13.890625 \nQ 24.171875 6.390625 31.78125 6.390625 \nQ 39.453125 6.390625 43.28125 13.890625 \nQ 47.125 21.390625 47.125 36.375 \nQ 47.125 51.421875 43.28125 58.90625 \nQ 39.453125 66.40625 31.78125 66.40625 \nz\nM 31.78125 74.21875 \nQ 44.046875 74.21875 50.515625 64.515625 \nQ 56.984375 54.828125 56.984375 36.375 \nQ 56.984375 17.96875 50.515625 8.265625 \nQ 44.046875 -1.421875 31.78125 -1.421875 \nQ 19.53125 -1.421875 13.0625 8.265625 \nQ 6.59375 17.96875 6.59375 36.375 \nQ 6.59375 54.828125 13.0625 64.515625 \nQ 19.53125 74.21875 31.78125 74.21875 \nz\n\" id=\"DejaVuSans-48\"/>\n       </defs>\n       <use xlink:href=\"#DejaVuSans-48\"/>\n      </g>\n     </g>\n    </g>\n    <g id=\"ytick_2\">\n     <g id=\"line2d_6\">\n      <g>\n       <use style=\"stroke:#000000;stroke-width:0.8;\" x=\"53.328125\" xlink:href=\"#mada36e0786\" y=\"254.112003\"/>\n      </g>\n     </g>\n     <g id=\"text_6\">\n      <!-- 200 -->\n      <g transform=\"translate(27.240625 257.911222)scale(0.1 -0.1)\">\n       <defs>\n        <path d=\"M 19.1875 8.296875 \nL 53.609375 8.296875 \nL 53.609375 0 \nL 7.328125 0 \nL 7.328125 8.296875 \nQ 12.9375 14.109375 22.625 23.890625 \nQ 32.328125 33.6875 34.8125 36.53125 \nQ 39.546875 41.84375 41.421875 45.53125 \nQ 43.3125 49.21875 43.3125 52.78125 \nQ 43.3125 58.59375 39.234375 62.25 \nQ 35.15625 65.921875 28.609375 65.921875 \nQ 23.96875 65.921875 18.8125 64.3125 \nQ 13.671875 62.703125 7.8125 59.421875 \nL 7.8125 69.390625 \nQ 13.765625 71.78125 18.9375 73 \nQ 24.125 74.21875 28.421875 74.21875 \nQ 39.75 74.21875 46.484375 68.546875 \nQ 53.21875 62.890625 53.21875 53.421875 \nQ 53.21875 48.921875 51.53125 44.890625 \nQ 49.859375 40.875 45.40625 35.40625 \nQ 44.1875 33.984375 37.640625 27.21875 \nQ 31.109375 20.453125 19.1875 8.296875 \nz\n\" id=\"DejaVuSans-50\"/>\n       </defs>\n       <use xlink:href=\"#DejaVuSans-50\"/>\n       <use x=\"63.623047\" xlink:href=\"#DejaVuSans-48\"/>\n       <use x=\"127.246094\" xlink:href=\"#DejaVuSans-48\"/>\n      </g>\n     </g>\n    </g>\n    <g id=\"ytick_3\">\n     <g id=\"line2d_7\">\n      <g>\n       <use style=\"stroke:#000000;stroke-width:0.8;\" x=\"53.328125\" xlink:href=\"#mada36e0786\" y=\"193.624006\"/>\n      </g>\n     </g>\n     <g id=\"text_7\">\n      <!-- 400 -->\n      <g transform=\"translate(27.240625 197.423225)scale(0.1 -0.1)\">\n       <defs>\n        <path d=\"M 37.796875 64.3125 \nL 12.890625 25.390625 \nL 37.796875 25.390625 \nz\nM 35.203125 72.90625 \nL 47.609375 72.90625 \nL 47.609375 25.390625 \nL 58.015625 25.390625 \nL 58.015625 17.1875 \nL 47.609375 17.1875 \nL 47.609375 0 \nL 37.796875 0 \nL 37.796875 17.1875 \nL 4.890625 17.1875 \nL 4.890625 26.703125 \nz\n\" id=\"DejaVuSans-52\"/>\n       </defs>\n       <use xlink:href=\"#DejaVuSans-52\"/>\n       <use x=\"63.623047\" xlink:href=\"#DejaVuSans-48\"/>\n       <use x=\"127.246094\" xlink:href=\"#DejaVuSans-48\"/>\n      </g>\n     </g>\n    </g>\n    <g id=\"ytick_4\">\n     <g id=\"line2d_8\">\n      <g>\n       <use style=\"stroke:#000000;stroke-width:0.8;\" x=\"53.328125\" xlink:href=\"#mada36e0786\" y=\"133.136009\"/>\n      </g>\n     </g>\n     <g id=\"text_8\">\n      <!-- 600 -->\n      <g transform=\"translate(27.240625 136.935228)scale(0.1 -0.1)\">\n       <defs>\n        <path d=\"M 33.015625 40.375 \nQ 26.375 40.375 22.484375 35.828125 \nQ 18.609375 31.296875 18.609375 23.390625 \nQ 18.609375 15.53125 22.484375 10.953125 \nQ 26.375 6.390625 33.015625 6.390625 \nQ 39.65625 6.390625 43.53125 10.953125 \nQ 47.40625 15.53125 47.40625 23.390625 \nQ 47.40625 31.296875 43.53125 35.828125 \nQ 39.65625 40.375 33.015625 40.375 \nz\nM 52.59375 71.296875 \nL 52.59375 62.3125 \nQ 48.875 64.0625 45.09375 64.984375 \nQ 41.3125 65.921875 37.59375 65.921875 \nQ 27.828125 65.921875 22.671875 59.328125 \nQ 17.53125 52.734375 16.796875 39.40625 \nQ 19.671875 43.65625 24.015625 45.921875 \nQ 28.375 48.1875 33.59375 48.1875 \nQ 44.578125 48.1875 50.953125 41.515625 \nQ 57.328125 34.859375 57.328125 23.390625 \nQ 57.328125 12.15625 50.6875 5.359375 \nQ 44.046875 -1.421875 33.015625 -1.421875 \nQ 20.359375 -1.421875 13.671875 8.265625 \nQ 6.984375 17.96875 6.984375 36.375 \nQ 6.984375 53.65625 15.1875 63.9375 \nQ 23.390625 74.21875 37.203125 74.21875 \nQ 40.921875 74.21875 44.703125 73.484375 \nQ 48.484375 72.75 52.59375 71.296875 \nz\n\" id=\"DejaVuSans-54\"/>\n       </defs>\n       <use xlink:href=\"#DejaVuSans-54\"/>\n       <use x=\"63.623047\" xlink:href=\"#DejaVuSans-48\"/>\n       <use x=\"127.246094\" xlink:href=\"#DejaVuSans-48\"/>\n      </g>\n     </g>\n    </g>\n    <g id=\"ytick_5\">\n     <g id=\"line2d_9\">\n      <g>\n       <use style=\"stroke:#000000;stroke-width:0.8;\" x=\"53.328125\" xlink:href=\"#mada36e0786\" y=\"72.648013\"/>\n      </g>\n     </g>\n     <g id=\"text_9\">\n      <!-- 800 -->\n      <g transform=\"translate(27.240625 76.447231)scale(0.1 -0.1)\">\n       <defs>\n        <path d=\"M 31.78125 34.625 \nQ 24.75 34.625 20.71875 30.859375 \nQ 16.703125 27.09375 16.703125 20.515625 \nQ 16.703125 13.921875 20.71875 10.15625 \nQ 24.75 6.390625 31.78125 6.390625 \nQ 38.8125 6.390625 42.859375 10.171875 \nQ 46.921875 13.96875 46.921875 20.515625 \nQ 46.921875 27.09375 42.890625 30.859375 \nQ 38.875 34.625 31.78125 34.625 \nz\nM 21.921875 38.8125 \nQ 15.578125 40.375 12.03125 44.71875 \nQ 8.5 49.078125 8.5 55.328125 \nQ 8.5 64.0625 14.71875 69.140625 \nQ 20.953125 74.21875 31.78125 74.21875 \nQ 42.671875 74.21875 48.875 69.140625 \nQ 55.078125 64.0625 55.078125 55.328125 \nQ 55.078125 49.078125 51.53125 44.71875 \nQ 48 40.375 41.703125 38.8125 \nQ 48.828125 37.15625 52.796875 32.3125 \nQ 56.78125 27.484375 56.78125 20.515625 \nQ 56.78125 9.90625 50.3125 4.234375 \nQ 43.84375 -1.421875 31.78125 -1.421875 \nQ 19.734375 -1.421875 13.25 4.234375 \nQ 6.78125 9.90625 6.78125 20.515625 \nQ 6.78125 27.484375 10.78125 32.3125 \nQ 14.796875 37.15625 21.921875 38.8125 \nz\nM 18.3125 54.390625 \nQ 18.3125 48.734375 21.84375 45.5625 \nQ 25.390625 42.390625 31.78125 42.390625 \nQ 38.140625 42.390625 41.71875 45.5625 \nQ 45.3125 48.734375 45.3125 54.390625 \nQ 45.3125 60.0625 41.71875 63.234375 \nQ 38.140625 66.40625 31.78125 66.40625 \nQ 25.390625 66.40625 21.84375 63.234375 \nQ 18.3125 60.0625 18.3125 54.390625 \nz\n\" id=\"DejaVuSans-56\"/>\n       </defs>\n       <use xlink:href=\"#DejaVuSans-56\"/>\n       <use x=\"63.623047\" xlink:href=\"#DejaVuSans-48\"/>\n       <use x=\"127.246094\" xlink:href=\"#DejaVuSans-48\"/>\n      </g>\n     </g>\n    </g>\n    <g id=\"ytick_6\">\n     <g id=\"line2d_10\">\n      <g>\n       <use style=\"stroke:#000000;stroke-width:0.8;\" x=\"53.328125\" xlink:href=\"#mada36e0786\" y=\"12.160016\"/>\n      </g>\n     </g>\n     <g id=\"text_10\">\n      <!-- 1000 -->\n      <g transform=\"translate(20.878125 15.959234)scale(0.1 -0.1)\">\n       <defs>\n        <path d=\"M 12.40625 8.296875 \nL 28.515625 8.296875 \nL 28.515625 63.921875 \nL 10.984375 60.40625 \nL 10.984375 69.390625 \nL 28.421875 72.90625 \nL 38.28125 72.90625 \nL 38.28125 8.296875 \nL 54.390625 8.296875 \nL 54.390625 0 \nL 12.40625 0 \nz\n\" id=\"DejaVuSans-49\"/>\n       </defs>\n       <use xlink:href=\"#DejaVuSans-49\"/>\n       <use x=\"63.623047\" xlink:href=\"#DejaVuSans-48\"/>\n       <use x=\"127.246094\" xlink:href=\"#DejaVuSans-48\"/>\n       <use x=\"190.869141\" xlink:href=\"#DejaVuSans-48\"/>\n      </g>\n     </g>\n    </g>\n    <g id=\"text_11\">\n     <!-- Count -->\n     <g transform=\"translate(14.798438 175.748437)rotate(-90)scale(0.1 -0.1)\">\n      <defs>\n       <path d=\"M 64.40625 67.28125 \nL 64.40625 56.890625 \nQ 59.421875 61.53125 53.78125 63.8125 \nQ 48.140625 66.109375 41.796875 66.109375 \nQ 29.296875 66.109375 22.65625 58.46875 \nQ 16.015625 50.828125 16.015625 36.375 \nQ 16.015625 21.96875 22.65625 14.328125 \nQ 29.296875 6.6875 41.796875 6.6875 \nQ 48.140625 6.6875 53.78125 8.984375 \nQ 59.421875 11.28125 64.40625 15.921875 \nL 64.40625 5.609375 \nQ 59.234375 2.09375 53.4375 0.328125 \nQ 47.65625 -1.421875 41.21875 -1.421875 \nQ 24.65625 -1.421875 15.125 8.703125 \nQ 5.609375 18.84375 5.609375 36.375 \nQ 5.609375 53.953125 15.125 64.078125 \nQ 24.65625 74.21875 41.21875 74.21875 \nQ 47.75 74.21875 53.53125 72.484375 \nQ 59.328125 70.75 64.40625 67.28125 \nz\n\" id=\"DejaVuSans-67\"/>\n       <path d=\"M 18.3125 70.21875 \nL 18.3125 54.6875 \nL 36.8125 54.6875 \nL 36.8125 47.703125 \nL 18.3125 47.703125 \nL 18.3125 18.015625 \nQ 18.3125 11.328125 20.140625 9.421875 \nQ 21.96875 7.515625 27.59375 7.515625 \nL 36.8125 7.515625 \nL 36.8125 0 \nL 27.59375 0 \nQ 17.1875 0 13.234375 3.875 \nQ 9.28125 7.765625 9.28125 18.015625 \nL 9.28125 47.703125 \nL 2.6875 47.703125 \nL 2.6875 54.6875 \nL 9.28125 54.6875 \nL 9.28125 70.21875 \nz\n\" id=\"DejaVuSans-116\"/>\n      </defs>\n      <use xlink:href=\"#DejaVuSans-67\"/>\n      <use x=\"69.824219\" xlink:href=\"#DejaVuSans-111\"/>\n      <use x=\"131.005859\" xlink:href=\"#DejaVuSans-117\"/>\n      <use x=\"194.384766\" xlink:href=\"#DejaVuSans-110\"/>\n      <use x=\"257.763672\" xlink:href=\"#DejaVuSans-116\"/>\n     </g>\n    </g>\n   </g>\n   <g id=\"patch_7\">\n    <path d=\"M 53.328125 314.6 \nL 53.328125 7.2 \n\" style=\"fill:none;stroke:#000000;stroke-linecap:square;stroke-linejoin:miter;stroke-width:0.8;\"/>\n   </g>\n   <g id=\"patch_8\">\n    <path d=\"M 53.328125 314.6 \nL 340.206875 314.6 \n\" style=\"fill:none;stroke:#000000;stroke-linecap:square;stroke-linejoin:miter;stroke-width:0.8;\"/>\n   </g>\n  </g>\n  <g id=\"legend_1\">\n   <g id=\"text_12\">\n    <!-- Date -->\n    <g transform=\"translate(412.299219 171.498437)scale(0.1 -0.1)\">\n     <defs>\n      <path d=\"M 19.671875 64.796875 \nL 19.671875 8.109375 \nL 31.59375 8.109375 \nQ 46.6875 8.109375 53.6875 14.9375 \nQ 60.6875 21.78125 60.6875 36.53125 \nQ 60.6875 51.171875 53.6875 57.984375 \nQ 46.6875 64.796875 31.59375 64.796875 \nz\nM 9.8125 72.90625 \nL 30.078125 72.90625 \nQ 51.265625 72.90625 61.171875 64.09375 \nQ 71.09375 55.28125 71.09375 36.53125 \nQ 71.09375 17.671875 61.125 8.828125 \nQ 51.171875 0 30.078125 0 \nL 9.8125 0 \nz\n\" id=\"DejaVuSans-68\"/>\n     </defs>\n     <use xlink:href=\"#DejaVuSans-68\"/>\n     <use x=\"77.001953\" xlink:href=\"#DejaVuSans-97\"/>\n     <use x=\"138.28125\" xlink:href=\"#DejaVuSans-116\"/>\n     <use x=\"177.490234\" xlink:href=\"#DejaVuSans-101\"/>\n    </g>\n   </g>\n   <g id=\"patch_9\">\n    <path d=\"M 357.146875 186.176562 \nL 377.146875 186.176562 \nL 377.146875 179.176562 \nL 357.146875 179.176562 \nz\n\" style=\"fill:#1f77b4;fill-opacity:0.75;stroke:#000000;stroke-linejoin:miter;\"/>\n   </g>\n   <g id=\"text_13\">\n    <!-- 2014-02-23 00:00:00 -->\n    <g transform=\"translate(385.146875 186.176562)scale(0.1 -0.1)\">\n     <defs>\n      <path d=\"M 4.890625 31.390625 \nL 31.203125 31.390625 \nL 31.203125 23.390625 \nL 4.890625 23.390625 \nz\n\" id=\"DejaVuSans-45\"/>\n      <path d=\"M 40.578125 39.3125 \nQ 47.65625 37.796875 51.625 33 \nQ 55.609375 28.21875 55.609375 21.1875 \nQ 55.609375 10.40625 48.1875 4.484375 \nQ 40.765625 -1.421875 27.09375 -1.421875 \nQ 22.515625 -1.421875 17.65625 -0.515625 \nQ 12.796875 0.390625 7.625 2.203125 \nL 7.625 11.71875 \nQ 11.71875 9.328125 16.59375 8.109375 \nQ 21.484375 6.890625 26.8125 6.890625 \nQ 36.078125 6.890625 40.9375 10.546875 \nQ 45.796875 14.203125 45.796875 21.1875 \nQ 45.796875 27.640625 41.28125 31.265625 \nQ 36.765625 34.90625 28.71875 34.90625 \nL 20.21875 34.90625 \nL 20.21875 43.015625 \nL 29.109375 43.015625 \nQ 36.375 43.015625 40.234375 45.921875 \nQ 44.09375 48.828125 44.09375 54.296875 \nQ 44.09375 59.90625 40.109375 62.90625 \nQ 36.140625 65.921875 28.71875 65.921875 \nQ 24.65625 65.921875 20.015625 65.03125 \nQ 15.375 64.15625 9.8125 62.3125 \nL 9.8125 71.09375 \nQ 15.4375 72.65625 20.34375 73.4375 \nQ 25.25 74.21875 29.59375 74.21875 \nQ 40.828125 74.21875 47.359375 69.109375 \nQ 53.90625 64.015625 53.90625 55.328125 \nQ 53.90625 49.265625 50.4375 45.09375 \nQ 46.96875 40.921875 40.578125 39.3125 \nz\n\" id=\"DejaVuSans-51\"/>\n      <path d=\"M 11.71875 12.40625 \nL 22.015625 12.40625 \nL 22.015625 0 \nL 11.71875 0 \nz\nM 11.71875 51.703125 \nL 22.015625 51.703125 \nL 22.015625 39.3125 \nL 11.71875 39.3125 \nz\n\" id=\"DejaVuSans-58\"/>\n     </defs>\n     <use xlink:href=\"#DejaVuSans-50\"/>\n     <use x=\"63.623047\" xlink:href=\"#DejaVuSans-48\"/>\n     <use x=\"127.246094\" xlink:href=\"#DejaVuSans-49\"/>\n     <use x=\"190.869141\" xlink:href=\"#DejaVuSans-52\"/>\n     <use x=\"254.492188\" xlink:href=\"#DejaVuSans-45\"/>\n     <use x=\"290.576172\" xlink:href=\"#DejaVuSans-48\"/>\n     <use x=\"354.199219\" xlink:href=\"#DejaVuSans-50\"/>\n     <use x=\"417.822266\" xlink:href=\"#DejaVuSans-45\"/>\n     <use x=\"453.90625\" xlink:href=\"#DejaVuSans-50\"/>\n     <use x=\"517.529297\" xlink:href=\"#DejaVuSans-51\"/>\n     <use x=\"581.152344\" xlink:href=\"#DejaVuSans-32\"/>\n     <use x=\"612.939453\" xlink:href=\"#DejaVuSans-48\"/>\n     <use x=\"676.5625\" xlink:href=\"#DejaVuSans-48\"/>\n     <use x=\"740.185547\" xlink:href=\"#DejaVuSans-58\"/>\n     <use x=\"773.876953\" xlink:href=\"#DejaVuSans-48\"/>\n     <use x=\"837.5\" xlink:href=\"#DejaVuSans-48\"/>\n     <use x=\"901.123047\" xlink:href=\"#DejaVuSans-58\"/>\n     <use x=\"934.814453\" xlink:href=\"#DejaVuSans-48\"/>\n     <use x=\"998.4375\" xlink:href=\"#DejaVuSans-48\"/>\n    </g>\n   </g>\n  </g>\n </g>\n <defs>\n  <clipPath id=\"p6b36b62782\">\n   <rect height=\"307.4\" width=\"286.87875\" x=\"53.328125\" y=\"7.2\"/>\n  </clipPath>\n </defs>\n</svg>\n",
      "image/png": "[encoded data removed]"
     },
     "metadata": {
      "needs_background": "light"
     }
    }
   ],
   "source": [
    "sns.displot(data = Logs_copy, x = \"Os Name\", hue = \"Date\", multiple = \"stack\")"
   ]
  },
  {
   "cell_type": "code",
   "execution_count": 37,
   "metadata": {},
   "outputs": [],
   "source": [
    "Logs_export = Logs_copy.copy()\n",
    "\n",
    "Logs_export.replace('', 'null', inplace = True)\n",
    "\n",
    "Logs_export.to_csv('../Data/Logs_export.csv', index = False)"
   ]
  }
 ],
 "metadata": {
  "kernelspec": {
   "display_name": "Python 3",
   "language": "python",
   "name": "python3"
  },
  "language_info": {
   "codemirror_mode": {
    "name": "ipython",
    "version": 3
   },
   "file_extension": ".py",
   "mimetype": "text/x-python",
   "name": "python",
   "nbconvert_exporter": "python",
   "pygments_lexer": "ipython3",
   "version": "3.8.5-final"
  }
 },
 "nbformat": 4,
 "nbformat_minor": 4
}