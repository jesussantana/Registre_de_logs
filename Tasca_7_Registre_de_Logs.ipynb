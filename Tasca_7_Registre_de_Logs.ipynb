{
 "cells": [
  {
   "cell_type": "markdown",
   "metadata": {},
   "source": [
    "# IT Academy - Data Science amb Python  \n",
    "## Task 7: Log Transformation with Regular Expressions  \n",
    "### [Github Registre de Logs](https://github.com/jesussantana/Registre_de_logs)  \n",
    "\n",
    "[![forthebadge made-with-python](http://ForTheBadge.com/images/badges/made-with-python.svg)](https://www.python.org/)  \n",
    "[![Made withJupyter](https://img.shields.io/badge/Made%20with-Jupyter-orange?style=for-the-badge&logo=Jupyter)](https://jupyter.org/try)  \n",
    "[![Code Time](https://wakatime.com/badge/github/jesussantana/Registre_de_logs.svg)](https://wakatime.com/badge/github/jesussantana/Registre_de_logs) "
   ]
  },
  {
   "source": [
    "### Exercise 1\n",
    "- Normalize, identify, and enumerate each of the attributes / variables in the \"Web_access_log-akumenius.com\" file structure found in the GitHub repository \"Data-sources\"."
   ],
   "cell_type": "markdown",
   "metadata": {}
  },
  {
   "cell_type": "code",
   "execution_count": 1,
   "metadata": {},
   "outputs": [],
   "source": [
    "import multiprocessing\n",
    "import numpy as np\n",
    "import pandas as pd\n",
    "import warnings\n",
    "import requests\n",
    "import json\n",
    "import time\n",
    "import re\n",
    "\n",
    "import geopandas as gpd\n",
    "import matplotlib.pyplot as plt\n",
    "import cartopy.crs as ccrs\n",
    "import seaborn as sns\n",
    "%matplotlib inline\n",
    "\n",
    "from datetime import datetime\n",
    "from joblib import Parallel, delayed\n",
    "from pandas import json_normalize\n",
    "from device_detector import SoftwareDetector\n",
    "\n",
    "warnings.filterwarnings('ignore')"
   ]
  },
  {
   "cell_type": "code",
   "execution_count": 2,
   "metadata": {},
   "outputs": [
    {
     "output_type": "execute_result",
     "data": {
      "text/plain": [
       "                   DNS                              ip  \\\n",
       "0  localhost 127.0.0.1  - [23/Feb/2014:03:10:31 +0100]   \n",
       "1  localhost 127.0.0.1  - [23/Feb/2014:03:10:31 +0100]   \n",
       "2  localhost 127.0.0.1  - [23/Feb/2014:03:10:31 +0100]   \n",
       "3  localhost 127.0.0.1  - [23/Feb/2014:03:10:31 +0100]   \n",
       "4  localhost 127.0.0.1  - [23/Feb/2014:03:10:31 +0100]   \n",
       "\n",
       "                      Date Time                                     Request  \\\n",
       "0  OPTIONS * HTTP/1.0\" 200  \"-\"  Apache (internal dummy connection)\" VLOG=-   \n",
       "1  OPTIONS * HTTP/1.0\" 200  \"-\"  Apache (internal dummy connection)\" VLOG=-   \n",
       "2  OPTIONS * HTTP/1.0\" 200  \"-\"  Apache (internal dummy connection)\" VLOG=-   \n",
       "3  OPTIONS * HTTP/1.0\" 200  \"-\"  Apache (internal dummy connection)\" VLOG=-   \n",
       "4  OPTIONS * HTTP/1.0\" 200  \"-\"  Apache (internal dummy connection)\" VLOG=-   \n",
       "\n",
       "  Status  Size Referer  UserAgent  \n",
       "0   None  None    None        NaN  \n",
       "1   None  None    None        NaN  \n",
       "2   None  None    None        NaN  \n",
       "3   None  None    None        NaN  \n",
       "4   None  None    None        NaN  "
      ],
      "text/html": "<div>\n<style scoped>\n    .dataframe tbody tr th:only-of-type {\n        vertical-align: middle;\n    }\n\n    .dataframe tbody tr th {\n        vertical-align: top;\n    }\n\n    .dataframe thead th {\n        text-align: right;\n    }\n</style>\n<table border=\"1\" class=\"dataframe\">\n  <thead>\n    <tr style=\"text-align: right;\">\n      <th></th>\n      <th>DNS</th>\n      <th>ip</th>\n      <th>Date</th>\n      <th>Time</th>\n      <th>Request</th>\n      <th>Status</th>\n      <th>Size</th>\n      <th>Referer</th>\n      <th>UserAgent</th>\n    </tr>\n  </thead>\n  <tbody>\n    <tr>\n      <th>0</th>\n      <td>localhost 127.0.0.1</td>\n      <td>- [23/Feb/2014:03:10:31 +0100]</td>\n      <td>OPTIONS * HTTP/1.0\" 200</td>\n      <td>\"-\"</td>\n      <td>Apache (internal dummy connection)\" VLOG=-</td>\n      <td>None</td>\n      <td>None</td>\n      <td>None</td>\n      <td>NaN</td>\n    </tr>\n    <tr>\n      <th>1</th>\n      <td>localhost 127.0.0.1</td>\n      <td>- [23/Feb/2014:03:10:31 +0100]</td>\n      <td>OPTIONS * HTTP/1.0\" 200</td>\n      <td>\"-\"</td>\n      <td>Apache (internal dummy connection)\" VLOG=-</td>\n      <td>None</td>\n      <td>None</td>\n      <td>None</td>\n      <td>NaN</td>\n    </tr>\n    <tr>\n      <th>2</th>\n      <td>localhost 127.0.0.1</td>\n      <td>- [23/Feb/2014:03:10:31 +0100]</td>\n      <td>OPTIONS * HTTP/1.0\" 200</td>\n      <td>\"-\"</td>\n      <td>Apache (internal dummy connection)\" VLOG=-</td>\n      <td>None</td>\n      <td>None</td>\n      <td>None</td>\n      <td>NaN</td>\n    </tr>\n    <tr>\n      <th>3</th>\n      <td>localhost 127.0.0.1</td>\n      <td>- [23/Feb/2014:03:10:31 +0100]</td>\n      <td>OPTIONS * HTTP/1.0\" 200</td>\n      <td>\"-\"</td>\n      <td>Apache (internal dummy connection)\" VLOG=-</td>\n      <td>None</td>\n      <td>None</td>\n      <td>None</td>\n      <td>NaN</td>\n    </tr>\n    <tr>\n      <th>4</th>\n      <td>localhost 127.0.0.1</td>\n      <td>- [23/Feb/2014:03:10:31 +0100]</td>\n      <td>OPTIONS * HTTP/1.0\" 200</td>\n      <td>\"-\"</td>\n      <td>Apache (internal dummy connection)\" VLOG=-</td>\n      <td>None</td>\n      <td>None</td>\n      <td>None</td>\n      <td>NaN</td>\n    </tr>\n  </tbody>\n</table>\n</div>"
     },
     "metadata": {},
     "execution_count": 2
    }
   ],
   "source": [
    "pd.set_option('display.max_columns', None)\n",
    "\n",
    "path = 'data/Web_access_log-akumenius.com.txt'\n",
    "\n",
    "Logs_raw = pd.read_csv(path, sep='\\s | \\- | \\\"', names =['DNS','ip','Date','Time','Request','Status','Size','Referer','UserAgent'], engine='python')\n",
    "\n",
    "Logs_copy = Logs_raw.copy()\n",
    "\n",
    "Logs_copy.head()"
   ]
  },
  {
   "cell_type": "markdown",
   "metadata": {},
   "source": [
    "- We load the data to check how it has been distributed\n",
    "  - The variables that we will use:\n",
    "    - 'DNS','IP','Date','Time','Request','Status','Size','Referer','UserAgent'"
   ]
  },
  {
   "cell_type": "markdown",
   "metadata": {},
   "source": [
    "###  Exercise 2\n",
    "- Cleans, preprocesses, structures and transforms (dataframe) the data of the Web Access record."
   ]
  },
  {
   "cell_type": "markdown",
   "metadata": {},
   "source": [
    "- Check rows and columns"
   ]
  },
  {
   "cell_type": "code",
   "execution_count": 3,
   "metadata": {},
   "outputs": [
    {
     "output_type": "execute_result",
     "data": {
      "text/plain": [
       "                                    DNS                              ip  \\\n",
       "261868   www.akumenius.com 5.255.253.53  - [02/Mar/2014:03:05:39 +0100]   \n",
       "261869  www.akumenius.com 74.86.158.107  - [02/Mar/2014:03:09:52 +0100]   \n",
       "261870              localhost 127.0.0.1  - [02/Mar/2014:03:10:18 +0100]   \n",
       "261871              localhost 127.0.0.1  - [02/Mar/2014:03:10:18 +0100]   \n",
       "261872              localhost 127.0.0.1  - [02/Mar/2014:03:10:18 +0100]   \n",
       "\n",
       "                            Date Time  \\\n",
       "261868  GET / HTTP/1.1\" 200 7528   -\"   \n",
       "261869      HEAD / HTTP/1.1\" 200  \"-\"   \n",
       "261870   OPTIONS * HTTP/1.0\" 200  \"-\"   \n",
       "261871   OPTIONS * HTTP/1.0\" 200  \"-\"   \n",
       "261872   OPTIONS * HTTP/1.0\" 200  \"-\"   \n",
       "\n",
       "                                                  Request Status  Size  \\\n",
       "261868  Mozilla/5.0 (compatible; YandexBot/3.0; +http:...   None  None   \n",
       "261869  Mozilla/5.0+(compatible; UptimeRobot/2.0; http...   None  None   \n",
       "261870         Apache (internal dummy connection)\" VLOG=-   None  None   \n",
       "261871         Apache (internal dummy connection)\" VLOG=-   None  None   \n",
       "261872         Apache (internal dummy connection)\" VLOG=-   None  None   \n",
       "\n",
       "       Referer  UserAgent  \n",
       "261868    None        NaN  \n",
       "261869    None        NaN  \n",
       "261870    None        NaN  \n",
       "261871    None        NaN  \n",
       "261872    None        NaN  "
      ],
      "text/html": "<div>\n<style scoped>\n    .dataframe tbody tr th:only-of-type {\n        vertical-align: middle;\n    }\n\n    .dataframe tbody tr th {\n        vertical-align: top;\n    }\n\n    .dataframe thead th {\n        text-align: right;\n    }\n</style>\n<table border=\"1\" class=\"dataframe\">\n  <thead>\n    <tr style=\"text-align: right;\">\n      <th></th>\n      <th>DNS</th>\n      <th>ip</th>\n      <th>Date</th>\n      <th>Time</th>\n      <th>Request</th>\n      <th>Status</th>\n      <th>Size</th>\n      <th>Referer</th>\n      <th>UserAgent</th>\n    </tr>\n  </thead>\n  <tbody>\n    <tr>\n      <th>261868</th>\n      <td>www.akumenius.com 5.255.253.53</td>\n      <td>- [02/Mar/2014:03:05:39 +0100]</td>\n      <td>GET / HTTP/1.1\" 200 7528</td>\n      <td>-\"</td>\n      <td>Mozilla/5.0 (compatible; YandexBot/3.0; +http:...</td>\n      <td>None</td>\n      <td>None</td>\n      <td>None</td>\n      <td>NaN</td>\n    </tr>\n    <tr>\n      <th>261869</th>\n      <td>www.akumenius.com 74.86.158.107</td>\n      <td>- [02/Mar/2014:03:09:52 +0100]</td>\n      <td>HEAD / HTTP/1.1\" 200</td>\n      <td>\"-\"</td>\n      <td>Mozilla/5.0+(compatible; UptimeRobot/2.0; http...</td>\n      <td>None</td>\n      <td>None</td>\n      <td>None</td>\n      <td>NaN</td>\n    </tr>\n    <tr>\n      <th>261870</th>\n      <td>localhost 127.0.0.1</td>\n      <td>- [02/Mar/2014:03:10:18 +0100]</td>\n      <td>OPTIONS * HTTP/1.0\" 200</td>\n      <td>\"-\"</td>\n      <td>Apache (internal dummy connection)\" VLOG=-</td>\n      <td>None</td>\n      <td>None</td>\n      <td>None</td>\n      <td>NaN</td>\n    </tr>\n    <tr>\n      <th>261871</th>\n      <td>localhost 127.0.0.1</td>\n      <td>- [02/Mar/2014:03:10:18 +0100]</td>\n      <td>OPTIONS * HTTP/1.0\" 200</td>\n      <td>\"-\"</td>\n      <td>Apache (internal dummy connection)\" VLOG=-</td>\n      <td>None</td>\n      <td>None</td>\n      <td>None</td>\n      <td>NaN</td>\n    </tr>\n    <tr>\n      <th>261872</th>\n      <td>localhost 127.0.0.1</td>\n      <td>- [02/Mar/2014:03:10:18 +0100]</td>\n      <td>OPTIONS * HTTP/1.0\" 200</td>\n      <td>\"-\"</td>\n      <td>Apache (internal dummy connection)\" VLOG=-</td>\n      <td>None</td>\n      <td>None</td>\n      <td>None</td>\n      <td>NaN</td>\n    </tr>\n  </tbody>\n</table>\n</div>"
     },
     "metadata": {},
     "execution_count": 3
    }
   ],
   "source": [
    "Logs_copy.tail()"
   ]
  },
  {
   "cell_type": "code",
   "execution_count": 4,
   "metadata": {},
   "outputs": [
    {
     "output_type": "stream",
     "name": "stdout",
     "text": [
      "<class 'pandas.core.frame.DataFrame'>\nRangeIndex: 261873 entries, 0 to 261872\nData columns (total 9 columns):\n #   Column     Non-Null Count   Dtype  \n---  ------     --------------   -----  \n 0   DNS        261873 non-null  object \n 1   ip         261873 non-null  object \n 2   Date       261873 non-null  object \n 3   Time       261873 non-null  object \n 4   Request    261873 non-null  object \n 5   Status     486 non-null     object \n 6   Size       1 non-null       object \n 7   Referer    1 non-null       object \n 8   UserAgent  0 non-null       float64\ndtypes: float64(1), object(8)\nmemory usage: 18.0+ MB\n"
     ]
    }
   ],
   "source": [
    "Logs_copy.info()"
   ]
  },
  {
   "cell_type": "code",
   "execution_count": 5,
   "metadata": {},
   "outputs": [
    {
     "output_type": "execute_result",
     "data": {
      "text/plain": [
       "(261873, 9)"
      ]
     },
     "metadata": {},
     "execution_count": 5
    }
   ],
   "source": [
    "Logs_copy.shape"
   ]
  },
  {
   "cell_type": "markdown",
   "metadata": {},
   "source": [
    "- Check for null data"
   ]
  },
  {
   "cell_type": "code",
   "execution_count": 6,
   "metadata": {},
   "outputs": [
    {
     "output_type": "execute_result",
     "data": {
      "text/plain": [
       "DNS               0\n",
       "ip                0\n",
       "Date              0\n",
       "Time              0\n",
       "Request           0\n",
       "Status       261387\n",
       "Size         261872\n",
       "Referer      261872\n",
       "UserAgent    261873\n",
       "dtype: int64"
      ]
     },
     "metadata": {},
     "execution_count": 6
    }
   ],
   "source": [
    "Logs_copy.isnull().sum()"
   ]
  },
  {
   "cell_type": "code",
   "execution_count": 7,
   "metadata": {},
   "outputs": [
    {
     "output_type": "execute_result",
     "data": {
      "text/plain": [
       "                   DNS                              ip  \\\n",
       "0  localhost 127.0.0.1  - [23/Feb/2014:03:10:31 +0100]   \n",
       "1  localhost 127.0.0.1  - [23/Feb/2014:03:10:31 +0100]   \n",
       "2  localhost 127.0.0.1  - [23/Feb/2014:03:10:31 +0100]   \n",
       "3  localhost 127.0.0.1  - [23/Feb/2014:03:10:31 +0100]   \n",
       "4  localhost 127.0.0.1  - [23/Feb/2014:03:10:31 +0100]   \n",
       "\n",
       "                      Date Time                                     Request  \\\n",
       "0  OPTIONS * HTTP/1.0\" 200  \"-\"  Apache (internal dummy connection)\" VLOG=-   \n",
       "1  OPTIONS * HTTP/1.0\" 200  \"-\"  Apache (internal dummy connection)\" VLOG=-   \n",
       "2  OPTIONS * HTTP/1.0\" 200  \"-\"  Apache (internal dummy connection)\" VLOG=-   \n",
       "3  OPTIONS * HTTP/1.0\" 200  \"-\"  Apache (internal dummy connection)\" VLOG=-   \n",
       "4  OPTIONS * HTTP/1.0\" 200  \"-\"  Apache (internal dummy connection)\" VLOG=-   \n",
       "\n",
       "  Status  Size Referer  UserAgent  \n",
       "0   None  None    None        NaN  \n",
       "1   None  None    None        NaN  \n",
       "2   None  None    None        NaN  \n",
       "3   None  None    None        NaN  \n",
       "4   None  None    None        NaN  "
      ],
      "text/html": "<div>\n<style scoped>\n    .dataframe tbody tr th:only-of-type {\n        vertical-align: middle;\n    }\n\n    .dataframe tbody tr th {\n        vertical-align: top;\n    }\n\n    .dataframe thead th {\n        text-align: right;\n    }\n</style>\n<table border=\"1\" class=\"dataframe\">\n  <thead>\n    <tr style=\"text-align: right;\">\n      <th></th>\n      <th>DNS</th>\n      <th>ip</th>\n      <th>Date</th>\n      <th>Time</th>\n      <th>Request</th>\n      <th>Status</th>\n      <th>Size</th>\n      <th>Referer</th>\n      <th>UserAgent</th>\n    </tr>\n  </thead>\n  <tbody>\n    <tr>\n      <th>0</th>\n      <td>localhost 127.0.0.1</td>\n      <td>- [23/Feb/2014:03:10:31 +0100]</td>\n      <td>OPTIONS * HTTP/1.0\" 200</td>\n      <td>\"-\"</td>\n      <td>Apache (internal dummy connection)\" VLOG=-</td>\n      <td>None</td>\n      <td>None</td>\n      <td>None</td>\n      <td>NaN</td>\n    </tr>\n    <tr>\n      <th>1</th>\n      <td>localhost 127.0.0.1</td>\n      <td>- [23/Feb/2014:03:10:31 +0100]</td>\n      <td>OPTIONS * HTTP/1.0\" 200</td>\n      <td>\"-\"</td>\n      <td>Apache (internal dummy connection)\" VLOG=-</td>\n      <td>None</td>\n      <td>None</td>\n      <td>None</td>\n      <td>NaN</td>\n    </tr>\n    <tr>\n      <th>2</th>\n      <td>localhost 127.0.0.1</td>\n      <td>- [23/Feb/2014:03:10:31 +0100]</td>\n      <td>OPTIONS * HTTP/1.0\" 200</td>\n      <td>\"-\"</td>\n      <td>Apache (internal dummy connection)\" VLOG=-</td>\n      <td>None</td>\n      <td>None</td>\n      <td>None</td>\n      <td>NaN</td>\n    </tr>\n    <tr>\n      <th>3</th>\n      <td>localhost 127.0.0.1</td>\n      <td>- [23/Feb/2014:03:10:31 +0100]</td>\n      <td>OPTIONS * HTTP/1.0\" 200</td>\n      <td>\"-\"</td>\n      <td>Apache (internal dummy connection)\" VLOG=-</td>\n      <td>None</td>\n      <td>None</td>\n      <td>None</td>\n      <td>NaN</td>\n    </tr>\n    <tr>\n      <th>4</th>\n      <td>localhost 127.0.0.1</td>\n      <td>- [23/Feb/2014:03:10:31 +0100]</td>\n      <td>OPTIONS * HTTP/1.0\" 200</td>\n      <td>\"-\"</td>\n      <td>Apache (internal dummy connection)\" VLOG=-</td>\n      <td>None</td>\n      <td>None</td>\n      <td>None</td>\n      <td>NaN</td>\n    </tr>\n  </tbody>\n</table>\n</div>"
     },
     "metadata": {},
     "execution_count": 7
    }
   ],
   "source": [
    "Logs_copy.head()"
   ]
  },
  {
   "cell_type": "code",
   "execution_count": 8,
   "metadata": {},
   "outputs": [
    {
     "output_type": "execute_result",
     "data": {
      "text/plain": [
       "                                    DNS                              ip  \\\n",
       "261868   www.akumenius.com 5.255.253.53  - [02/Mar/2014:03:05:39 +0100]   \n",
       "261869  www.akumenius.com 74.86.158.107  - [02/Mar/2014:03:09:52 +0100]   \n",
       "261870              localhost 127.0.0.1  - [02/Mar/2014:03:10:18 +0100]   \n",
       "261871              localhost 127.0.0.1  - [02/Mar/2014:03:10:18 +0100]   \n",
       "261872              localhost 127.0.0.1  - [02/Mar/2014:03:10:18 +0100]   \n",
       "\n",
       "                            Date Time  \\\n",
       "261868  GET / HTTP/1.1\" 200 7528   -\"   \n",
       "261869      HEAD / HTTP/1.1\" 200  \"-\"   \n",
       "261870   OPTIONS * HTTP/1.0\" 200  \"-\"   \n",
       "261871   OPTIONS * HTTP/1.0\" 200  \"-\"   \n",
       "261872   OPTIONS * HTTP/1.0\" 200  \"-\"   \n",
       "\n",
       "                                                  Request Status  Size  \\\n",
       "261868  Mozilla/5.0 (compatible; YandexBot/3.0; +http:...   None  None   \n",
       "261869  Mozilla/5.0+(compatible; UptimeRobot/2.0; http...   None  None   \n",
       "261870         Apache (internal dummy connection)\" VLOG=-   None  None   \n",
       "261871         Apache (internal dummy connection)\" VLOG=-   None  None   \n",
       "261872         Apache (internal dummy connection)\" VLOG=-   None  None   \n",
       "\n",
       "       Referer  UserAgent  \n",
       "261868    None        NaN  \n",
       "261869    None        NaN  \n",
       "261870    None        NaN  \n",
       "261871    None        NaN  \n",
       "261872    None        NaN  "
      ],
      "text/html": "<div>\n<style scoped>\n    .dataframe tbody tr th:only-of-type {\n        vertical-align: middle;\n    }\n\n    .dataframe tbody tr th {\n        vertical-align: top;\n    }\n\n    .dataframe thead th {\n        text-align: right;\n    }\n</style>\n<table border=\"1\" class=\"dataframe\">\n  <thead>\n    <tr style=\"text-align: right;\">\n      <th></th>\n      <th>DNS</th>\n      <th>ip</th>\n      <th>Date</th>\n      <th>Time</th>\n      <th>Request</th>\n      <th>Status</th>\n      <th>Size</th>\n      <th>Referer</th>\n      <th>UserAgent</th>\n    </tr>\n  </thead>\n  <tbody>\n    <tr>\n      <th>261868</th>\n      <td>www.akumenius.com 5.255.253.53</td>\n      <td>- [02/Mar/2014:03:05:39 +0100]</td>\n      <td>GET / HTTP/1.1\" 200 7528</td>\n      <td>-\"</td>\n      <td>Mozilla/5.0 (compatible; YandexBot/3.0; +http:...</td>\n      <td>None</td>\n      <td>None</td>\n      <td>None</td>\n      <td>NaN</td>\n    </tr>\n    <tr>\n      <th>261869</th>\n      <td>www.akumenius.com 74.86.158.107</td>\n      <td>- [02/Mar/2014:03:09:52 +0100]</td>\n      <td>HEAD / HTTP/1.1\" 200</td>\n      <td>\"-\"</td>\n      <td>Mozilla/5.0+(compatible; UptimeRobot/2.0; http...</td>\n      <td>None</td>\n      <td>None</td>\n      <td>None</td>\n      <td>NaN</td>\n    </tr>\n    <tr>\n      <th>261870</th>\n      <td>localhost 127.0.0.1</td>\n      <td>- [02/Mar/2014:03:10:18 +0100]</td>\n      <td>OPTIONS * HTTP/1.0\" 200</td>\n      <td>\"-\"</td>\n      <td>Apache (internal dummy connection)\" VLOG=-</td>\n      <td>None</td>\n      <td>None</td>\n      <td>None</td>\n      <td>NaN</td>\n    </tr>\n    <tr>\n      <th>261871</th>\n      <td>localhost 127.0.0.1</td>\n      <td>- [02/Mar/2014:03:10:18 +0100]</td>\n      <td>OPTIONS * HTTP/1.0\" 200</td>\n      <td>\"-\"</td>\n      <td>Apache (internal dummy connection)\" VLOG=-</td>\n      <td>None</td>\n      <td>None</td>\n      <td>None</td>\n      <td>NaN</td>\n    </tr>\n    <tr>\n      <th>261872</th>\n      <td>localhost 127.0.0.1</td>\n      <td>- [02/Mar/2014:03:10:18 +0100]</td>\n      <td>OPTIONS * HTTP/1.0\" 200</td>\n      <td>\"-\"</td>\n      <td>Apache (internal dummy connection)\" VLOG=-</td>\n      <td>None</td>\n      <td>None</td>\n      <td>None</td>\n      <td>NaN</td>\n    </tr>\n  </tbody>\n</table>\n</div>"
     },
     "metadata": {},
     "execution_count": 8
    }
   ],
   "source": [
    "Logs_copy.tail()"
   ]
  },
  {
   "cell_type": "markdown",
   "metadata": {},
   "source": [
    "- Reorder columns of data"
   ]
  },
  {
   "cell_type": "code",
   "execution_count": 9,
   "metadata": {
    "scrolled": true
   },
   "outputs": [
    {
     "output_type": "execute_result",
     "data": {
      "text/plain": [
       "                   DNS    ip                            Date  Time  \\\n",
       "0  localhost 127.0.0.1  None  - [23/Feb/2014:03:10:31 +0100]  None   \n",
       "1  localhost 127.0.0.1  None  - [23/Feb/2014:03:10:31 +0100]  None   \n",
       "2  localhost 127.0.0.1  None  - [23/Feb/2014:03:10:31 +0100]  None   \n",
       "3  localhost 127.0.0.1  None  - [23/Feb/2014:03:10:31 +0100]  None   \n",
       "4  localhost 127.0.0.1  None  - [23/Feb/2014:03:10:31 +0100]  None   \n",
       "\n",
       "                   Request Status  Size Referer  \\\n",
       "0  OPTIONS * HTTP/1.0\" 200   None  None     \"-\"   \n",
       "1  OPTIONS * HTTP/1.0\" 200   None  None     \"-\"   \n",
       "2  OPTIONS * HTTP/1.0\" 200   None  None     \"-\"   \n",
       "3  OPTIONS * HTTP/1.0\" 200   None  None     \"-\"   \n",
       "4  OPTIONS * HTTP/1.0\" 200   None  None     \"-\"   \n",
       "\n",
       "                                    UserAgent  \n",
       "0  Apache (internal dummy connection)\" VLOG=-  \n",
       "1  Apache (internal dummy connection)\" VLOG=-  \n",
       "2  Apache (internal dummy connection)\" VLOG=-  \n",
       "3  Apache (internal dummy connection)\" VLOG=-  \n",
       "4  Apache (internal dummy connection)\" VLOG=-  "
      ],
      "text/html": "<div>\n<style scoped>\n    .dataframe tbody tr th:only-of-type {\n        vertical-align: middle;\n    }\n\n    .dataframe tbody tr th {\n        vertical-align: top;\n    }\n\n    .dataframe thead th {\n        text-align: right;\n    }\n</style>\n<table border=\"1\" class=\"dataframe\">\n  <thead>\n    <tr style=\"text-align: right;\">\n      <th></th>\n      <th>DNS</th>\n      <th>ip</th>\n      <th>Date</th>\n      <th>Time</th>\n      <th>Request</th>\n      <th>Status</th>\n      <th>Size</th>\n      <th>Referer</th>\n      <th>UserAgent</th>\n    </tr>\n  </thead>\n  <tbody>\n    <tr>\n      <th>0</th>\n      <td>localhost 127.0.0.1</td>\n      <td>None</td>\n      <td>- [23/Feb/2014:03:10:31 +0100]</td>\n      <td>None</td>\n      <td>OPTIONS * HTTP/1.0\" 200</td>\n      <td>None</td>\n      <td>None</td>\n      <td>\"-\"</td>\n      <td>Apache (internal dummy connection)\" VLOG=-</td>\n    </tr>\n    <tr>\n      <th>1</th>\n      <td>localhost 127.0.0.1</td>\n      <td>None</td>\n      <td>- [23/Feb/2014:03:10:31 +0100]</td>\n      <td>None</td>\n      <td>OPTIONS * HTTP/1.0\" 200</td>\n      <td>None</td>\n      <td>None</td>\n      <td>\"-\"</td>\n      <td>Apache (internal dummy connection)\" VLOG=-</td>\n    </tr>\n    <tr>\n      <th>2</th>\n      <td>localhost 127.0.0.1</td>\n      <td>None</td>\n      <td>- [23/Feb/2014:03:10:31 +0100]</td>\n      <td>None</td>\n      <td>OPTIONS * HTTP/1.0\" 200</td>\n      <td>None</td>\n      <td>None</td>\n      <td>\"-\"</td>\n      <td>Apache (internal dummy connection)\" VLOG=-</td>\n    </tr>\n    <tr>\n      <th>3</th>\n      <td>localhost 127.0.0.1</td>\n      <td>None</td>\n      <td>- [23/Feb/2014:03:10:31 +0100]</td>\n      <td>None</td>\n      <td>OPTIONS * HTTP/1.0\" 200</td>\n      <td>None</td>\n      <td>None</td>\n      <td>\"-\"</td>\n      <td>Apache (internal dummy connection)\" VLOG=-</td>\n    </tr>\n    <tr>\n      <th>4</th>\n      <td>localhost 127.0.0.1</td>\n      <td>None</td>\n      <td>- [23/Feb/2014:03:10:31 +0100]</td>\n      <td>None</td>\n      <td>OPTIONS * HTTP/1.0\" 200</td>\n      <td>None</td>\n      <td>None</td>\n      <td>\"-\"</td>\n      <td>Apache (internal dummy connection)\" VLOG=-</td>\n    </tr>\n  </tbody>\n</table>\n</div>"
     },
     "metadata": {},
     "execution_count": 9
    }
   ],
   "source": [
    "Logs_copy.UserAgent = Logs_copy.Request\n",
    "Logs_copy.Request = Logs_copy.Date\n",
    "Logs_copy.Referer = Logs_copy.Time\n",
    "Logs_copy.Date = Logs_copy.ip\n",
    "Logs_copy.Time = Logs_copy.ip = None\n",
    "\n",
    "Logs_copy.head()"
   ]
  },
  {
   "cell_type": "markdown",
   "metadata": {},
   "source": [
    "- DNS & IP data split"
   ]
  },
  {
   "cell_type": "code",
   "execution_count": 10,
   "metadata": {},
   "outputs": [],
   "source": [
    "Logs_copy[['DNS','ip']] = Logs_copy.DNS.str.split('\\s', expand = True).get([0, 1])"
   ]
  },
  {
   "cell_type": "code",
   "execution_count": 11,
   "metadata": {},
   "outputs": [
    {
     "output_type": "execute_result",
     "data": {
      "text/plain": [
       "         DNS         ip                            Date  Time  \\\n",
       "0  localhost  127.0.0.1  - [23/Feb/2014:03:10:31 +0100]  None   \n",
       "1  localhost  127.0.0.1  - [23/Feb/2014:03:10:31 +0100]  None   \n",
       "2  localhost  127.0.0.1  - [23/Feb/2014:03:10:31 +0100]  None   \n",
       "3  localhost  127.0.0.1  - [23/Feb/2014:03:10:31 +0100]  None   \n",
       "4  localhost  127.0.0.1  - [23/Feb/2014:03:10:31 +0100]  None   \n",
       "\n",
       "                   Request Status  Size Referer  \\\n",
       "0  OPTIONS * HTTP/1.0\" 200   None  None     \"-\"   \n",
       "1  OPTIONS * HTTP/1.0\" 200   None  None     \"-\"   \n",
       "2  OPTIONS * HTTP/1.0\" 200   None  None     \"-\"   \n",
       "3  OPTIONS * HTTP/1.0\" 200   None  None     \"-\"   \n",
       "4  OPTIONS * HTTP/1.0\" 200   None  None     \"-\"   \n",
       "\n",
       "                                    UserAgent  \n",
       "0  Apache (internal dummy connection)\" VLOG=-  \n",
       "1  Apache (internal dummy connection)\" VLOG=-  \n",
       "2  Apache (internal dummy connection)\" VLOG=-  \n",
       "3  Apache (internal dummy connection)\" VLOG=-  \n",
       "4  Apache (internal dummy connection)\" VLOG=-  "
      ],
      "text/html": "<div>\n<style scoped>\n    .dataframe tbody tr th:only-of-type {\n        vertical-align: middle;\n    }\n\n    .dataframe tbody tr th {\n        vertical-align: top;\n    }\n\n    .dataframe thead th {\n        text-align: right;\n    }\n</style>\n<table border=\"1\" class=\"dataframe\">\n  <thead>\n    <tr style=\"text-align: right;\">\n      <th></th>\n      <th>DNS</th>\n      <th>ip</th>\n      <th>Date</th>\n      <th>Time</th>\n      <th>Request</th>\n      <th>Status</th>\n      <th>Size</th>\n      <th>Referer</th>\n      <th>UserAgent</th>\n    </tr>\n  </thead>\n  <tbody>\n    <tr>\n      <th>0</th>\n      <td>localhost</td>\n      <td>127.0.0.1</td>\n      <td>- [23/Feb/2014:03:10:31 +0100]</td>\n      <td>None</td>\n      <td>OPTIONS * HTTP/1.0\" 200</td>\n      <td>None</td>\n      <td>None</td>\n      <td>\"-\"</td>\n      <td>Apache (internal dummy connection)\" VLOG=-</td>\n    </tr>\n    <tr>\n      <th>1</th>\n      <td>localhost</td>\n      <td>127.0.0.1</td>\n      <td>- [23/Feb/2014:03:10:31 +0100]</td>\n      <td>None</td>\n      <td>OPTIONS * HTTP/1.0\" 200</td>\n      <td>None</td>\n      <td>None</td>\n      <td>\"-\"</td>\n      <td>Apache (internal dummy connection)\" VLOG=-</td>\n    </tr>\n    <tr>\n      <th>2</th>\n      <td>localhost</td>\n      <td>127.0.0.1</td>\n      <td>- [23/Feb/2014:03:10:31 +0100]</td>\n      <td>None</td>\n      <td>OPTIONS * HTTP/1.0\" 200</td>\n      <td>None</td>\n      <td>None</td>\n      <td>\"-\"</td>\n      <td>Apache (internal dummy connection)\" VLOG=-</td>\n    </tr>\n    <tr>\n      <th>3</th>\n      <td>localhost</td>\n      <td>127.0.0.1</td>\n      <td>- [23/Feb/2014:03:10:31 +0100]</td>\n      <td>None</td>\n      <td>OPTIONS * HTTP/1.0\" 200</td>\n      <td>None</td>\n      <td>None</td>\n      <td>\"-\"</td>\n      <td>Apache (internal dummy connection)\" VLOG=-</td>\n    </tr>\n    <tr>\n      <th>4</th>\n      <td>localhost</td>\n      <td>127.0.0.1</td>\n      <td>- [23/Feb/2014:03:10:31 +0100]</td>\n      <td>None</td>\n      <td>OPTIONS * HTTP/1.0\" 200</td>\n      <td>None</td>\n      <td>None</td>\n      <td>\"-\"</td>\n      <td>Apache (internal dummy connection)\" VLOG=-</td>\n    </tr>\n  </tbody>\n</table>\n</div>"
     },
     "metadata": {},
     "execution_count": 11
    }
   ],
   "source": [
    "Logs_copy.head()"
   ]
  },
  {
   "cell_type": "markdown",
   "metadata": {},
   "source": [
    "- Check how many different DNS & Ips exist"
   ]
  },
  {
   "cell_type": "code",
   "execution_count": 12,
   "metadata": {},
   "outputs": [
    {
     "output_type": "execute_result",
     "data": {
      "text/plain": [
       "array(['localhost', 'www.akumenius.com', 'akumenius.com', 'akumenius.es',\n",
       "       'test.akumenius.com'], dtype=object)"
      ]
     },
     "metadata": {},
     "execution_count": 12
    }
   ],
   "source": [
    "Logs_copy.DNS.unique()"
   ]
  },
  {
   "cell_type": "code",
   "execution_count": 13,
   "metadata": {},
   "outputs": [
    {
     "output_type": "execute_result",
     "data": {
      "text/plain": [
       "2921"
      ]
     },
     "metadata": {},
     "execution_count": 13
    }
   ],
   "source": [
    "len(Logs_copy.ip.unique())"
   ]
  },
  {
   "source": [
    "- Normalize DNS"
   ],
   "cell_type": "markdown",
   "metadata": {}
  },
  {
   "cell_type": "code",
   "execution_count": 14,
   "metadata": {},
   "outputs": [],
   "source": [
    "String_pattern = \"^[aeiouAEIOU]{1}[A-Za-z]*\"\n",
    "Logs_copy.DNS = Logs_copy.DNS.apply(lambda x: (('www.{}'.format(x)) if re.search(String_pattern, x) else x))"
   ]
  },
  {
   "cell_type": "code",
   "execution_count": 15,
   "metadata": {},
   "outputs": [
    {
     "output_type": "execute_result",
     "data": {
      "text/plain": [
       "array(['localhost', 'www.akumenius.com', 'www.akumenius.es',\n",
       "       'test.akumenius.com'], dtype=object)"
      ]
     },
     "metadata": {},
     "execution_count": 15
    }
   ],
   "source": [
    "Logs_copy.DNS.unique()"
   ]
  },
  {
   "cell_type": "markdown",
   "metadata": {},
   "source": [
    "- Time data extraction"
   ]
  },
  {
   "cell_type": "code",
   "execution_count": 16,
   "metadata": {},
   "outputs": [
    {
     "output_type": "execute_result",
     "data": {
      "text/plain": [
       "         DNS         ip                            Date Time  \\\n",
       "0  localhost  127.0.0.1  - [23/Feb/2014:03:10:31 +0100]  NaT   \n",
       "1  localhost  127.0.0.1  - [23/Feb/2014:03:10:31 +0100]  NaT   \n",
       "2  localhost  127.0.0.1  - [23/Feb/2014:03:10:31 +0100]  NaT   \n",
       "3  localhost  127.0.0.1  - [23/Feb/2014:03:10:31 +0100]  NaT   \n",
       "4  localhost  127.0.0.1  - [23/Feb/2014:03:10:31 +0100]  NaT   \n",
       "\n",
       "                   Request Status  Size Referer  \\\n",
       "0  OPTIONS * HTTP/1.0\" 200   None  None     \"-\"   \n",
       "1  OPTIONS * HTTP/1.0\" 200   None  None     \"-\"   \n",
       "2  OPTIONS * HTTP/1.0\" 200   None  None     \"-\"   \n",
       "3  OPTIONS * HTTP/1.0\" 200   None  None     \"-\"   \n",
       "4  OPTIONS * HTTP/1.0\" 200   None  None     \"-\"   \n",
       "\n",
       "                                    UserAgent  \n",
       "0  Apache (internal dummy connection)\" VLOG=-  \n",
       "1  Apache (internal dummy connection)\" VLOG=-  \n",
       "2  Apache (internal dummy connection)\" VLOG=-  \n",
       "3  Apache (internal dummy connection)\" VLOG=-  \n",
       "4  Apache (internal dummy connection)\" VLOG=-  "
      ],
      "text/html": "<div>\n<style scoped>\n    .dataframe tbody tr th:only-of-type {\n        vertical-align: middle;\n    }\n\n    .dataframe tbody tr th {\n        vertical-align: top;\n    }\n\n    .dataframe thead th {\n        text-align: right;\n    }\n</style>\n<table border=\"1\" class=\"dataframe\">\n  <thead>\n    <tr style=\"text-align: right;\">\n      <th></th>\n      <th>DNS</th>\n      <th>ip</th>\n      <th>Date</th>\n      <th>Time</th>\n      <th>Request</th>\n      <th>Status</th>\n      <th>Size</th>\n      <th>Referer</th>\n      <th>UserAgent</th>\n    </tr>\n  </thead>\n  <tbody>\n    <tr>\n      <th>0</th>\n      <td>localhost</td>\n      <td>127.0.0.1</td>\n      <td>- [23/Feb/2014:03:10:31 +0100]</td>\n      <td>NaT</td>\n      <td>OPTIONS * HTTP/1.0\" 200</td>\n      <td>None</td>\n      <td>None</td>\n      <td>\"-\"</td>\n      <td>Apache (internal dummy connection)\" VLOG=-</td>\n    </tr>\n    <tr>\n      <th>1</th>\n      <td>localhost</td>\n      <td>127.0.0.1</td>\n      <td>- [23/Feb/2014:03:10:31 +0100]</td>\n      <td>NaT</td>\n      <td>OPTIONS * HTTP/1.0\" 200</td>\n      <td>None</td>\n      <td>None</td>\n      <td>\"-\"</td>\n      <td>Apache (internal dummy connection)\" VLOG=-</td>\n    </tr>\n    <tr>\n      <th>2</th>\n      <td>localhost</td>\n      <td>127.0.0.1</td>\n      <td>- [23/Feb/2014:03:10:31 +0100]</td>\n      <td>NaT</td>\n      <td>OPTIONS * HTTP/1.0\" 200</td>\n      <td>None</td>\n      <td>None</td>\n      <td>\"-\"</td>\n      <td>Apache (internal dummy connection)\" VLOG=-</td>\n    </tr>\n    <tr>\n      <th>3</th>\n      <td>localhost</td>\n      <td>127.0.0.1</td>\n      <td>- [23/Feb/2014:03:10:31 +0100]</td>\n      <td>NaT</td>\n      <td>OPTIONS * HTTP/1.0\" 200</td>\n      <td>None</td>\n      <td>None</td>\n      <td>\"-\"</td>\n      <td>Apache (internal dummy connection)\" VLOG=-</td>\n    </tr>\n    <tr>\n      <th>4</th>\n      <td>localhost</td>\n      <td>127.0.0.1</td>\n      <td>- [23/Feb/2014:03:10:31 +0100]</td>\n      <td>NaT</td>\n      <td>OPTIONS * HTTP/1.0\" 200</td>\n      <td>None</td>\n      <td>None</td>\n      <td>\"-\"</td>\n      <td>Apache (internal dummy connection)\" VLOG=-</td>\n    </tr>\n  </tbody>\n</table>\n</div>"
     },
     "metadata": {},
     "execution_count": 16
    }
   ],
   "source": [
    "Logs_copy.Time =pd.to_datetime(Logs_copy.Time,format='%d/%b/%Y:%H:%M:%S %z',errors='ignore')\n",
    "\n",
    "\n",
    "Logs_copy.head()"
   ]
  },
  {
   "cell_type": "code",
   "execution_count": 17,
   "metadata": {},
   "outputs": [
    {
     "output_type": "execute_result",
     "data": {
      "text/plain": [
       "         DNS         ip                            Date            Time  \\\n",
       "0  localhost  127.0.0.1  - [23/Feb/2014:03:10:31 +0100]  03:10:31 +0100   \n",
       "1  localhost  127.0.0.1  - [23/Feb/2014:03:10:31 +0100]  03:10:31 +0100   \n",
       "2  localhost  127.0.0.1  - [23/Feb/2014:03:10:31 +0100]  03:10:31 +0100   \n",
       "3  localhost  127.0.0.1  - [23/Feb/2014:03:10:31 +0100]  03:10:31 +0100   \n",
       "4  localhost  127.0.0.1  - [23/Feb/2014:03:10:31 +0100]  03:10:31 +0100   \n",
       "\n",
       "                   Request Status  Size Referer  \\\n",
       "0  OPTIONS * HTTP/1.0\" 200   None  None     \"-\"   \n",
       "1  OPTIONS * HTTP/1.0\" 200   None  None     \"-\"   \n",
       "2  OPTIONS * HTTP/1.0\" 200   None  None     \"-\"   \n",
       "3  OPTIONS * HTTP/1.0\" 200   None  None     \"-\"   \n",
       "4  OPTIONS * HTTP/1.0\" 200   None  None     \"-\"   \n",
       "\n",
       "                                    UserAgent  \n",
       "0  Apache (internal dummy connection)\" VLOG=-  \n",
       "1  Apache (internal dummy connection)\" VLOG=-  \n",
       "2  Apache (internal dummy connection)\" VLOG=-  \n",
       "3  Apache (internal dummy connection)\" VLOG=-  \n",
       "4  Apache (internal dummy connection)\" VLOG=-  "
      ],
      "text/html": "<div>\n<style scoped>\n    .dataframe tbody tr th:only-of-type {\n        vertical-align: middle;\n    }\n\n    .dataframe tbody tr th {\n        vertical-align: top;\n    }\n\n    .dataframe thead th {\n        text-align: right;\n    }\n</style>\n<table border=\"1\" class=\"dataframe\">\n  <thead>\n    <tr style=\"text-align: right;\">\n      <th></th>\n      <th>DNS</th>\n      <th>ip</th>\n      <th>Date</th>\n      <th>Time</th>\n      <th>Request</th>\n      <th>Status</th>\n      <th>Size</th>\n      <th>Referer</th>\n      <th>UserAgent</th>\n    </tr>\n  </thead>\n  <tbody>\n    <tr>\n      <th>0</th>\n      <td>localhost</td>\n      <td>127.0.0.1</td>\n      <td>- [23/Feb/2014:03:10:31 +0100]</td>\n      <td>03:10:31 +0100</td>\n      <td>OPTIONS * HTTP/1.0\" 200</td>\n      <td>None</td>\n      <td>None</td>\n      <td>\"-\"</td>\n      <td>Apache (internal dummy connection)\" VLOG=-</td>\n    </tr>\n    <tr>\n      <th>1</th>\n      <td>localhost</td>\n      <td>127.0.0.1</td>\n      <td>- [23/Feb/2014:03:10:31 +0100]</td>\n      <td>03:10:31 +0100</td>\n      <td>OPTIONS * HTTP/1.0\" 200</td>\n      <td>None</td>\n      <td>None</td>\n      <td>\"-\"</td>\n      <td>Apache (internal dummy connection)\" VLOG=-</td>\n    </tr>\n    <tr>\n      <th>2</th>\n      <td>localhost</td>\n      <td>127.0.0.1</td>\n      <td>- [23/Feb/2014:03:10:31 +0100]</td>\n      <td>03:10:31 +0100</td>\n      <td>OPTIONS * HTTP/1.0\" 200</td>\n      <td>None</td>\n      <td>None</td>\n      <td>\"-\"</td>\n      <td>Apache (internal dummy connection)\" VLOG=-</td>\n    </tr>\n    <tr>\n      <th>3</th>\n      <td>localhost</td>\n      <td>127.0.0.1</td>\n      <td>- [23/Feb/2014:03:10:31 +0100]</td>\n      <td>03:10:31 +0100</td>\n      <td>OPTIONS * HTTP/1.0\" 200</td>\n      <td>None</td>\n      <td>None</td>\n      <td>\"-\"</td>\n      <td>Apache (internal dummy connection)\" VLOG=-</td>\n    </tr>\n    <tr>\n      <th>4</th>\n      <td>localhost</td>\n      <td>127.0.0.1</td>\n      <td>- [23/Feb/2014:03:10:31 +0100]</td>\n      <td>03:10:31 +0100</td>\n      <td>OPTIONS * HTTP/1.0\" 200</td>\n      <td>None</td>\n      <td>None</td>\n      <td>\"-\"</td>\n      <td>Apache (internal dummy connection)\" VLOG=-</td>\n    </tr>\n  </tbody>\n</table>\n</div>"
     },
     "metadata": {},
     "execution_count": 17
    }
   ],
   "source": [
    "Logs_copy.Time = Logs_copy.Date.str.extract(':(\\d{2}:\\d{2}:\\d{2}.*)]')\n",
    "Logs_copy.head()"
   ]
  },
  {
   "cell_type": "markdown",
   "metadata": {},
   "source": [
    "- Date data extraction"
   ]
  },
  {
   "cell_type": "code",
   "execution_count": 18,
   "metadata": {},
   "outputs": [],
   "source": [
    "Logs_copy.Date = Logs_copy.Date.str.extract('(\\d+/\\w+/\\d+)')\n",
    "\n",
    "Logs_copy.Date = pd.to_datetime(Logs_copy.Date, format = '%d/%b/%Y')"
   ]
  },
  {
   "cell_type": "code",
   "execution_count": 19,
   "metadata": {
    "scrolled": true
   },
   "outputs": [
    {
     "output_type": "execute_result",
     "data": {
      "text/plain": [
       "         DNS         ip       Date            Time                  Request  \\\n",
       "0  localhost  127.0.0.1 2014-02-23  03:10:31 +0100  OPTIONS * HTTP/1.0\" 200   \n",
       "1  localhost  127.0.0.1 2014-02-23  03:10:31 +0100  OPTIONS * HTTP/1.0\" 200   \n",
       "2  localhost  127.0.0.1 2014-02-23  03:10:31 +0100  OPTIONS * HTTP/1.0\" 200   \n",
       "3  localhost  127.0.0.1 2014-02-23  03:10:31 +0100  OPTIONS * HTTP/1.0\" 200   \n",
       "4  localhost  127.0.0.1 2014-02-23  03:10:31 +0100  OPTIONS * HTTP/1.0\" 200   \n",
       "\n",
       "  Status  Size Referer                                   UserAgent  \n",
       "0   None  None     \"-\"  Apache (internal dummy connection)\" VLOG=-  \n",
       "1   None  None     \"-\"  Apache (internal dummy connection)\" VLOG=-  \n",
       "2   None  None     \"-\"  Apache (internal dummy connection)\" VLOG=-  \n",
       "3   None  None     \"-\"  Apache (internal dummy connection)\" VLOG=-  \n",
       "4   None  None     \"-\"  Apache (internal dummy connection)\" VLOG=-  "
      ],
      "text/html": "<div>\n<style scoped>\n    .dataframe tbody tr th:only-of-type {\n        vertical-align: middle;\n    }\n\n    .dataframe tbody tr th {\n        vertical-align: top;\n    }\n\n    .dataframe thead th {\n        text-align: right;\n    }\n</style>\n<table border=\"1\" class=\"dataframe\">\n  <thead>\n    <tr style=\"text-align: right;\">\n      <th></th>\n      <th>DNS</th>\n      <th>ip</th>\n      <th>Date</th>\n      <th>Time</th>\n      <th>Request</th>\n      <th>Status</th>\n      <th>Size</th>\n      <th>Referer</th>\n      <th>UserAgent</th>\n    </tr>\n  </thead>\n  <tbody>\n    <tr>\n      <th>0</th>\n      <td>localhost</td>\n      <td>127.0.0.1</td>\n      <td>2014-02-23</td>\n      <td>03:10:31 +0100</td>\n      <td>OPTIONS * HTTP/1.0\" 200</td>\n      <td>None</td>\n      <td>None</td>\n      <td>\"-\"</td>\n      <td>Apache (internal dummy connection)\" VLOG=-</td>\n    </tr>\n    <tr>\n      <th>1</th>\n      <td>localhost</td>\n      <td>127.0.0.1</td>\n      <td>2014-02-23</td>\n      <td>03:10:31 +0100</td>\n      <td>OPTIONS * HTTP/1.0\" 200</td>\n      <td>None</td>\n      <td>None</td>\n      <td>\"-\"</td>\n      <td>Apache (internal dummy connection)\" VLOG=-</td>\n    </tr>\n    <tr>\n      <th>2</th>\n      <td>localhost</td>\n      <td>127.0.0.1</td>\n      <td>2014-02-23</td>\n      <td>03:10:31 +0100</td>\n      <td>OPTIONS * HTTP/1.0\" 200</td>\n      <td>None</td>\n      <td>None</td>\n      <td>\"-\"</td>\n      <td>Apache (internal dummy connection)\" VLOG=-</td>\n    </tr>\n    <tr>\n      <th>3</th>\n      <td>localhost</td>\n      <td>127.0.0.1</td>\n      <td>2014-02-23</td>\n      <td>03:10:31 +0100</td>\n      <td>OPTIONS * HTTP/1.0\" 200</td>\n      <td>None</td>\n      <td>None</td>\n      <td>\"-\"</td>\n      <td>Apache (internal dummy connection)\" VLOG=-</td>\n    </tr>\n    <tr>\n      <th>4</th>\n      <td>localhost</td>\n      <td>127.0.0.1</td>\n      <td>2014-02-23</td>\n      <td>03:10:31 +0100</td>\n      <td>OPTIONS * HTTP/1.0\" 200</td>\n      <td>None</td>\n      <td>None</td>\n      <td>\"-\"</td>\n      <td>Apache (internal dummy connection)\" VLOG=-</td>\n    </tr>\n  </tbody>\n</table>\n</div>"
     },
     "metadata": {},
     "execution_count": 19
    }
   ],
   "source": [
    "Logs_copy.head()"
   ]
  },
  {
   "cell_type": "markdown",
   "metadata": {},
   "source": [
    "- Request & Status data split"
   ]
  },
  {
   "cell_type": "code",
   "execution_count": 20,
   "metadata": {},
   "outputs": [],
   "source": [
    "Logs_copy[['Request','Status']] = Logs_copy.Request.str.split('\\\"', expand = True).get([0, 1])"
   ]
  },
  {
   "cell_type": "code",
   "execution_count": 21,
   "metadata": {},
   "outputs": [
    {
     "output_type": "execute_result",
     "data": {
      "text/plain": [
       "                      DNS             ip       Date            Time  \\\n",
       "261868  www.akumenius.com   5.255.253.53 2014-03-02  03:05:39 +0100   \n",
       "261869  www.akumenius.com  74.86.158.107 2014-03-02  03:09:52 +0100   \n",
       "261870          localhost      127.0.0.1 2014-03-02  03:10:18 +0100   \n",
       "261871          localhost      127.0.0.1 2014-03-02  03:10:18 +0100   \n",
       "261872          localhost      127.0.0.1 2014-03-02  03:10:18 +0100   \n",
       "\n",
       "                   Request     Status  Size Referer  \\\n",
       "261868      GET / HTTP/1.1   200 7528  None      -\"   \n",
       "261869     HEAD / HTTP/1.1        200  None     \"-\"   \n",
       "261870  OPTIONS * HTTP/1.0        200  None     \"-\"   \n",
       "261871  OPTIONS * HTTP/1.0        200  None     \"-\"   \n",
       "261872  OPTIONS * HTTP/1.0        200  None     \"-\"   \n",
       "\n",
       "                                                UserAgent  \n",
       "261868  Mozilla/5.0 (compatible; YandexBot/3.0; +http:...  \n",
       "261869  Mozilla/5.0+(compatible; UptimeRobot/2.0; http...  \n",
       "261870         Apache (internal dummy connection)\" VLOG=-  \n",
       "261871         Apache (internal dummy connection)\" VLOG=-  \n",
       "261872         Apache (internal dummy connection)\" VLOG=-  "
      ],
      "text/html": "<div>\n<style scoped>\n    .dataframe tbody tr th:only-of-type {\n        vertical-align: middle;\n    }\n\n    .dataframe tbody tr th {\n        vertical-align: top;\n    }\n\n    .dataframe thead th {\n        text-align: right;\n    }\n</style>\n<table border=\"1\" class=\"dataframe\">\n  <thead>\n    <tr style=\"text-align: right;\">\n      <th></th>\n      <th>DNS</th>\n      <th>ip</th>\n      <th>Date</th>\n      <th>Time</th>\n      <th>Request</th>\n      <th>Status</th>\n      <th>Size</th>\n      <th>Referer</th>\n      <th>UserAgent</th>\n    </tr>\n  </thead>\n  <tbody>\n    <tr>\n      <th>261868</th>\n      <td>www.akumenius.com</td>\n      <td>5.255.253.53</td>\n      <td>2014-03-02</td>\n      <td>03:05:39 +0100</td>\n      <td>GET / HTTP/1.1</td>\n      <td>200 7528</td>\n      <td>None</td>\n      <td>-\"</td>\n      <td>Mozilla/5.0 (compatible; YandexBot/3.0; +http:...</td>\n    </tr>\n    <tr>\n      <th>261869</th>\n      <td>www.akumenius.com</td>\n      <td>74.86.158.107</td>\n      <td>2014-03-02</td>\n      <td>03:09:52 +0100</td>\n      <td>HEAD / HTTP/1.1</td>\n      <td>200</td>\n      <td>None</td>\n      <td>\"-\"</td>\n      <td>Mozilla/5.0+(compatible; UptimeRobot/2.0; http...</td>\n    </tr>\n    <tr>\n      <th>261870</th>\n      <td>localhost</td>\n      <td>127.0.0.1</td>\n      <td>2014-03-02</td>\n      <td>03:10:18 +0100</td>\n      <td>OPTIONS * HTTP/1.0</td>\n      <td>200</td>\n      <td>None</td>\n      <td>\"-\"</td>\n      <td>Apache (internal dummy connection)\" VLOG=-</td>\n    </tr>\n    <tr>\n      <th>261871</th>\n      <td>localhost</td>\n      <td>127.0.0.1</td>\n      <td>2014-03-02</td>\n      <td>03:10:18 +0100</td>\n      <td>OPTIONS * HTTP/1.0</td>\n      <td>200</td>\n      <td>None</td>\n      <td>\"-\"</td>\n      <td>Apache (internal dummy connection)\" VLOG=-</td>\n    </tr>\n    <tr>\n      <th>261872</th>\n      <td>localhost</td>\n      <td>127.0.0.1</td>\n      <td>2014-03-02</td>\n      <td>03:10:18 +0100</td>\n      <td>OPTIONS * HTTP/1.0</td>\n      <td>200</td>\n      <td>None</td>\n      <td>\"-\"</td>\n      <td>Apache (internal dummy connection)\" VLOG=-</td>\n    </tr>\n  </tbody>\n</table>\n</div>"
     },
     "metadata": {},
     "execution_count": 21
    }
   ],
   "source": [
    "Logs_copy.tail()"
   ]
  },
  {
   "cell_type": "code",
   "execution_count": 22,
   "metadata": {},
   "outputs": [
    {
     "output_type": "execute_result",
     "data": {
      "text/plain": [
       "         DNS         ip       Date            Time             Request Status  \\\n",
       "0  localhost  127.0.0.1 2014-02-23  03:10:31 +0100  OPTIONS * HTTP/1.0    200   \n",
       "1  localhost  127.0.0.1 2014-02-23  03:10:31 +0100  OPTIONS * HTTP/1.0    200   \n",
       "2  localhost  127.0.0.1 2014-02-23  03:10:31 +0100  OPTIONS * HTTP/1.0    200   \n",
       "3  localhost  127.0.0.1 2014-02-23  03:10:31 +0100  OPTIONS * HTTP/1.0    200   \n",
       "4  localhost  127.0.0.1 2014-02-23  03:10:31 +0100  OPTIONS * HTTP/1.0    200   \n",
       "\n",
       "   Size Referer                                   UserAgent  \n",
       "0  None     \"-\"  Apache (internal dummy connection)\" VLOG=-  \n",
       "1  None     \"-\"  Apache (internal dummy connection)\" VLOG=-  \n",
       "2  None     \"-\"  Apache (internal dummy connection)\" VLOG=-  \n",
       "3  None     \"-\"  Apache (internal dummy connection)\" VLOG=-  \n",
       "4  None     \"-\"  Apache (internal dummy connection)\" VLOG=-  "
      ],
      "text/html": "<div>\n<style scoped>\n    .dataframe tbody tr th:only-of-type {\n        vertical-align: middle;\n    }\n\n    .dataframe tbody tr th {\n        vertical-align: top;\n    }\n\n    .dataframe thead th {\n        text-align: right;\n    }\n</style>\n<table border=\"1\" class=\"dataframe\">\n  <thead>\n    <tr style=\"text-align: right;\">\n      <th></th>\n      <th>DNS</th>\n      <th>ip</th>\n      <th>Date</th>\n      <th>Time</th>\n      <th>Request</th>\n      <th>Status</th>\n      <th>Size</th>\n      <th>Referer</th>\n      <th>UserAgent</th>\n    </tr>\n  </thead>\n  <tbody>\n    <tr>\n      <th>0</th>\n      <td>localhost</td>\n      <td>127.0.0.1</td>\n      <td>2014-02-23</td>\n      <td>03:10:31 +0100</td>\n      <td>OPTIONS * HTTP/1.0</td>\n      <td>200</td>\n      <td>None</td>\n      <td>\"-\"</td>\n      <td>Apache (internal dummy connection)\" VLOG=-</td>\n    </tr>\n    <tr>\n      <th>1</th>\n      <td>localhost</td>\n      <td>127.0.0.1</td>\n      <td>2014-02-23</td>\n      <td>03:10:31 +0100</td>\n      <td>OPTIONS * HTTP/1.0</td>\n      <td>200</td>\n      <td>None</td>\n      <td>\"-\"</td>\n      <td>Apache (internal dummy connection)\" VLOG=-</td>\n    </tr>\n    <tr>\n      <th>2</th>\n      <td>localhost</td>\n      <td>127.0.0.1</td>\n      <td>2014-02-23</td>\n      <td>03:10:31 +0100</td>\n      <td>OPTIONS * HTTP/1.0</td>\n      <td>200</td>\n      <td>None</td>\n      <td>\"-\"</td>\n      <td>Apache (internal dummy connection)\" VLOG=-</td>\n    </tr>\n    <tr>\n      <th>3</th>\n      <td>localhost</td>\n      <td>127.0.0.1</td>\n      <td>2014-02-23</td>\n      <td>03:10:31 +0100</td>\n      <td>OPTIONS * HTTP/1.0</td>\n      <td>200</td>\n      <td>None</td>\n      <td>\"-\"</td>\n      <td>Apache (internal dummy connection)\" VLOG=-</td>\n    </tr>\n    <tr>\n      <th>4</th>\n      <td>localhost</td>\n      <td>127.0.0.1</td>\n      <td>2014-02-23</td>\n      <td>03:10:31 +0100</td>\n      <td>OPTIONS * HTTP/1.0</td>\n      <td>200</td>\n      <td>None</td>\n      <td>\"-\"</td>\n      <td>Apache (internal dummy connection)\" VLOG=-</td>\n    </tr>\n  </tbody>\n</table>\n</div>"
     },
     "metadata": {},
     "execution_count": 22
    }
   ],
   "source": [
    "Logs_copy.head()"
   ]
  },
  {
   "cell_type": "markdown",
   "metadata": {},
   "source": [
    "- Size data extraction"
   ]
  },
  {
   "cell_type": "code",
   "execution_count": 23,
   "metadata": {},
   "outputs": [
    {
     "output_type": "execute_result",
     "data": {
      "text/plain": [
       "                      DNS             ip       Date            Time  \\\n",
       "0               localhost      127.0.0.1 2014-02-23  03:10:31 +0100   \n",
       "1               localhost      127.0.0.1 2014-02-23  03:10:31 +0100   \n",
       "2               localhost      127.0.0.1 2014-02-23  03:10:31 +0100   \n",
       "3               localhost      127.0.0.1 2014-02-23  03:10:31 +0100   \n",
       "4               localhost      127.0.0.1 2014-02-23  03:10:31 +0100   \n",
       "...                   ...            ...        ...             ...   \n",
       "261868  www.akumenius.com   5.255.253.53 2014-03-02  03:05:39 +0100   \n",
       "261869  www.akumenius.com  74.86.158.107 2014-03-02  03:09:52 +0100   \n",
       "261870          localhost      127.0.0.1 2014-03-02  03:10:18 +0100   \n",
       "261871          localhost      127.0.0.1 2014-03-02  03:10:18 +0100   \n",
       "261872          localhost      127.0.0.1 2014-03-02  03:10:18 +0100   \n",
       "\n",
       "                   Request     Status  Size Referer  \\\n",
       "0       OPTIONS * HTTP/1.0        200   200     \"-\"   \n",
       "1       OPTIONS * HTTP/1.0        200   200     \"-\"   \n",
       "2       OPTIONS * HTTP/1.0        200   200     \"-\"   \n",
       "3       OPTIONS * HTTP/1.0        200   200     \"-\"   \n",
       "4       OPTIONS * HTTP/1.0        200   200     \"-\"   \n",
       "...                    ...        ...   ...     ...   \n",
       "261868      GET / HTTP/1.1   200 7528  7528      -\"   \n",
       "261869     HEAD / HTTP/1.1        200   200     \"-\"   \n",
       "261870  OPTIONS * HTTP/1.0        200   200     \"-\"   \n",
       "261871  OPTIONS * HTTP/1.0        200   200     \"-\"   \n",
       "261872  OPTIONS * HTTP/1.0        200   200     \"-\"   \n",
       "\n",
       "                                                UserAgent  \n",
       "0              Apache (internal dummy connection)\" VLOG=-  \n",
       "1              Apache (internal dummy connection)\" VLOG=-  \n",
       "2              Apache (internal dummy connection)\" VLOG=-  \n",
       "3              Apache (internal dummy connection)\" VLOG=-  \n",
       "4              Apache (internal dummy connection)\" VLOG=-  \n",
       "...                                                   ...  \n",
       "261868  Mozilla/5.0 (compatible; YandexBot/3.0; +http:...  \n",
       "261869  Mozilla/5.0+(compatible; UptimeRobot/2.0; http...  \n",
       "261870         Apache (internal dummy connection)\" VLOG=-  \n",
       "261871         Apache (internal dummy connection)\" VLOG=-  \n",
       "261872         Apache (internal dummy connection)\" VLOG=-  \n",
       "\n",
       "[261873 rows x 9 columns]"
      ],
      "text/html": "<div>\n<style scoped>\n    .dataframe tbody tr th:only-of-type {\n        vertical-align: middle;\n    }\n\n    .dataframe tbody tr th {\n        vertical-align: top;\n    }\n\n    .dataframe thead th {\n        text-align: right;\n    }\n</style>\n<table border=\"1\" class=\"dataframe\">\n  <thead>\n    <tr style=\"text-align: right;\">\n      <th></th>\n      <th>DNS</th>\n      <th>ip</th>\n      <th>Date</th>\n      <th>Time</th>\n      <th>Request</th>\n      <th>Status</th>\n      <th>Size</th>\n      <th>Referer</th>\n      <th>UserAgent</th>\n    </tr>\n  </thead>\n  <tbody>\n    <tr>\n      <th>0</th>\n      <td>localhost</td>\n      <td>127.0.0.1</td>\n      <td>2014-02-23</td>\n      <td>03:10:31 +0100</td>\n      <td>OPTIONS * HTTP/1.0</td>\n      <td>200</td>\n      <td>200</td>\n      <td>\"-\"</td>\n      <td>Apache (internal dummy connection)\" VLOG=-</td>\n    </tr>\n    <tr>\n      <th>1</th>\n      <td>localhost</td>\n      <td>127.0.0.1</td>\n      <td>2014-02-23</td>\n      <td>03:10:31 +0100</td>\n      <td>OPTIONS * HTTP/1.0</td>\n      <td>200</td>\n      <td>200</td>\n      <td>\"-\"</td>\n      <td>Apache (internal dummy connection)\" VLOG=-</td>\n    </tr>\n    <tr>\n      <th>2</th>\n      <td>localhost</td>\n      <td>127.0.0.1</td>\n      <td>2014-02-23</td>\n      <td>03:10:31 +0100</td>\n      <td>OPTIONS * HTTP/1.0</td>\n      <td>200</td>\n      <td>200</td>\n      <td>\"-\"</td>\n      <td>Apache (internal dummy connection)\" VLOG=-</td>\n    </tr>\n    <tr>\n      <th>3</th>\n      <td>localhost</td>\n      <td>127.0.0.1</td>\n      <td>2014-02-23</td>\n      <td>03:10:31 +0100</td>\n      <td>OPTIONS * HTTP/1.0</td>\n      <td>200</td>\n      <td>200</td>\n      <td>\"-\"</td>\n      <td>Apache (internal dummy connection)\" VLOG=-</td>\n    </tr>\n    <tr>\n      <th>4</th>\n      <td>localhost</td>\n      <td>127.0.0.1</td>\n      <td>2014-02-23</td>\n      <td>03:10:31 +0100</td>\n      <td>OPTIONS * HTTP/1.0</td>\n      <td>200</td>\n      <td>200</td>\n      <td>\"-\"</td>\n      <td>Apache (internal dummy connection)\" VLOG=-</td>\n    </tr>\n    <tr>\n      <th>...</th>\n      <td>...</td>\n      <td>...</td>\n      <td>...</td>\n      <td>...</td>\n      <td>...</td>\n      <td>...</td>\n      <td>...</td>\n      <td>...</td>\n      <td>...</td>\n    </tr>\n    <tr>\n      <th>261868</th>\n      <td>www.akumenius.com</td>\n      <td>5.255.253.53</td>\n      <td>2014-03-02</td>\n      <td>03:05:39 +0100</td>\n      <td>GET / HTTP/1.1</td>\n      <td>200 7528</td>\n      <td>7528</td>\n      <td>-\"</td>\n      <td>Mozilla/5.0 (compatible; YandexBot/3.0; +http:...</td>\n    </tr>\n    <tr>\n      <th>261869</th>\n      <td>www.akumenius.com</td>\n      <td>74.86.158.107</td>\n      <td>2014-03-02</td>\n      <td>03:09:52 +0100</td>\n      <td>HEAD / HTTP/1.1</td>\n      <td>200</td>\n      <td>200</td>\n      <td>\"-\"</td>\n      <td>Mozilla/5.0+(compatible; UptimeRobot/2.0; http...</td>\n    </tr>\n    <tr>\n      <th>261870</th>\n      <td>localhost</td>\n      <td>127.0.0.1</td>\n      <td>2014-03-02</td>\n      <td>03:10:18 +0100</td>\n      <td>OPTIONS * HTTP/1.0</td>\n      <td>200</td>\n      <td>200</td>\n      <td>\"-\"</td>\n      <td>Apache (internal dummy connection)\" VLOG=-</td>\n    </tr>\n    <tr>\n      <th>261871</th>\n      <td>localhost</td>\n      <td>127.0.0.1</td>\n      <td>2014-03-02</td>\n      <td>03:10:18 +0100</td>\n      <td>OPTIONS * HTTP/1.0</td>\n      <td>200</td>\n      <td>200</td>\n      <td>\"-\"</td>\n      <td>Apache (internal dummy connection)\" VLOG=-</td>\n    </tr>\n    <tr>\n      <th>261872</th>\n      <td>localhost</td>\n      <td>127.0.0.1</td>\n      <td>2014-03-02</td>\n      <td>03:10:18 +0100</td>\n      <td>OPTIONS * HTTP/1.0</td>\n      <td>200</td>\n      <td>200</td>\n      <td>\"-\"</td>\n      <td>Apache (internal dummy connection)\" VLOG=-</td>\n    </tr>\n  </tbody>\n</table>\n<p>261873 rows × 9 columns</p>\n</div>"
     },
     "metadata": {},
     "execution_count": 23
    }
   ],
   "source": [
    "Logs_copy.Size = Logs_copy.Status.str.extract('(\\d+$)')\n",
    "Logs_copy"
   ]
  },
  {
   "cell_type": "markdown",
   "metadata": {},
   "source": [
    "- Clean Size data"
   ]
  },
  {
   "cell_type": "code",
   "execution_count": 24,
   "metadata": {},
   "outputs": [
    {
     "output_type": "stream",
     "name": "stdout",
     "text": [
      "CPU times: user 87.4 ms, sys: 95 µs, total: 87.5 ms\nWall time: 85.9 ms\n"
     ]
    }
   ],
   "source": [
    "%%time\n",
    "\n",
    "Logs_copy.Size = Logs_copy.Size.apply(lambda x: (np.nan if x == '200' else x))"
   ]
  },
  {
   "cell_type": "code",
   "execution_count": 25,
   "metadata": {},
   "outputs": [
    {
     "output_type": "execute_result",
     "data": {
      "text/plain": [
       "                      DNS             ip       Date            Time  \\\n",
       "0               localhost      127.0.0.1 2014-02-23  03:10:31 +0100   \n",
       "1               localhost      127.0.0.1 2014-02-23  03:10:31 +0100   \n",
       "2               localhost      127.0.0.1 2014-02-23  03:10:31 +0100   \n",
       "3               localhost      127.0.0.1 2014-02-23  03:10:31 +0100   \n",
       "4               localhost      127.0.0.1 2014-02-23  03:10:31 +0100   \n",
       "...                   ...            ...        ...             ...   \n",
       "261868  www.akumenius.com   5.255.253.53 2014-03-02  03:05:39 +0100   \n",
       "261869  www.akumenius.com  74.86.158.107 2014-03-02  03:09:52 +0100   \n",
       "261870          localhost      127.0.0.1 2014-03-02  03:10:18 +0100   \n",
       "261871          localhost      127.0.0.1 2014-03-02  03:10:18 +0100   \n",
       "261872          localhost      127.0.0.1 2014-03-02  03:10:18 +0100   \n",
       "\n",
       "                   Request     Status  Size Referer  \\\n",
       "0       OPTIONS * HTTP/1.0        200   NaN     \"-\"   \n",
       "1       OPTIONS * HTTP/1.0        200   NaN     \"-\"   \n",
       "2       OPTIONS * HTTP/1.0        200   NaN     \"-\"   \n",
       "3       OPTIONS * HTTP/1.0        200   NaN     \"-\"   \n",
       "4       OPTIONS * HTTP/1.0        200   NaN     \"-\"   \n",
       "...                    ...        ...   ...     ...   \n",
       "261868      GET / HTTP/1.1   200 7528  7528      -\"   \n",
       "261869     HEAD / HTTP/1.1        200   NaN     \"-\"   \n",
       "261870  OPTIONS * HTTP/1.0        200   NaN     \"-\"   \n",
       "261871  OPTIONS * HTTP/1.0        200   NaN     \"-\"   \n",
       "261872  OPTIONS * HTTP/1.0        200   NaN     \"-\"   \n",
       "\n",
       "                                                UserAgent  \n",
       "0              Apache (internal dummy connection)\" VLOG=-  \n",
       "1              Apache (internal dummy connection)\" VLOG=-  \n",
       "2              Apache (internal dummy connection)\" VLOG=-  \n",
       "3              Apache (internal dummy connection)\" VLOG=-  \n",
       "4              Apache (internal dummy connection)\" VLOG=-  \n",
       "...                                                   ...  \n",
       "261868  Mozilla/5.0 (compatible; YandexBot/3.0; +http:...  \n",
       "261869  Mozilla/5.0+(compatible; UptimeRobot/2.0; http...  \n",
       "261870         Apache (internal dummy connection)\" VLOG=-  \n",
       "261871         Apache (internal dummy connection)\" VLOG=-  \n",
       "261872         Apache (internal dummy connection)\" VLOG=-  \n",
       "\n",
       "[261873 rows x 9 columns]"
      ],
      "text/html": "<div>\n<style scoped>\n    .dataframe tbody tr th:only-of-type {\n        vertical-align: middle;\n    }\n\n    .dataframe tbody tr th {\n        vertical-align: top;\n    }\n\n    .dataframe thead th {\n        text-align: right;\n    }\n</style>\n<table border=\"1\" class=\"dataframe\">\n  <thead>\n    <tr style=\"text-align: right;\">\n      <th></th>\n      <th>DNS</th>\n      <th>ip</th>\n      <th>Date</th>\n      <th>Time</th>\n      <th>Request</th>\n      <th>Status</th>\n      <th>Size</th>\n      <th>Referer</th>\n      <th>UserAgent</th>\n    </tr>\n  </thead>\n  <tbody>\n    <tr>\n      <th>0</th>\n      <td>localhost</td>\n      <td>127.0.0.1</td>\n      <td>2014-02-23</td>\n      <td>03:10:31 +0100</td>\n      <td>OPTIONS * HTTP/1.0</td>\n      <td>200</td>\n      <td>NaN</td>\n      <td>\"-\"</td>\n      <td>Apache (internal dummy connection)\" VLOG=-</td>\n    </tr>\n    <tr>\n      <th>1</th>\n      <td>localhost</td>\n      <td>127.0.0.1</td>\n      <td>2014-02-23</td>\n      <td>03:10:31 +0100</td>\n      <td>OPTIONS * HTTP/1.0</td>\n      <td>200</td>\n      <td>NaN</td>\n      <td>\"-\"</td>\n      <td>Apache (internal dummy connection)\" VLOG=-</td>\n    </tr>\n    <tr>\n      <th>2</th>\n      <td>localhost</td>\n      <td>127.0.0.1</td>\n      <td>2014-02-23</td>\n      <td>03:10:31 +0100</td>\n      <td>OPTIONS * HTTP/1.0</td>\n      <td>200</td>\n      <td>NaN</td>\n      <td>\"-\"</td>\n      <td>Apache (internal dummy connection)\" VLOG=-</td>\n    </tr>\n    <tr>\n      <th>3</th>\n      <td>localhost</td>\n      <td>127.0.0.1</td>\n      <td>2014-02-23</td>\n      <td>03:10:31 +0100</td>\n      <td>OPTIONS * HTTP/1.0</td>\n      <td>200</td>\n      <td>NaN</td>\n      <td>\"-\"</td>\n      <td>Apache (internal dummy connection)\" VLOG=-</td>\n    </tr>\n    <tr>\n      <th>4</th>\n      <td>localhost</td>\n      <td>127.0.0.1</td>\n      <td>2014-02-23</td>\n      <td>03:10:31 +0100</td>\n      <td>OPTIONS * HTTP/1.0</td>\n      <td>200</td>\n      <td>NaN</td>\n      <td>\"-\"</td>\n      <td>Apache (internal dummy connection)\" VLOG=-</td>\n    </tr>\n    <tr>\n      <th>...</th>\n      <td>...</td>\n      <td>...</td>\n      <td>...</td>\n      <td>...</td>\n      <td>...</td>\n      <td>...</td>\n      <td>...</td>\n      <td>...</td>\n      <td>...</td>\n    </tr>\n    <tr>\n      <th>261868</th>\n      <td>www.akumenius.com</td>\n      <td>5.255.253.53</td>\n      <td>2014-03-02</td>\n      <td>03:05:39 +0100</td>\n      <td>GET / HTTP/1.1</td>\n      <td>200 7528</td>\n      <td>7528</td>\n      <td>-\"</td>\n      <td>Mozilla/5.0 (compatible; YandexBot/3.0; +http:...</td>\n    </tr>\n    <tr>\n      <th>261869</th>\n      <td>www.akumenius.com</td>\n      <td>74.86.158.107</td>\n      <td>2014-03-02</td>\n      <td>03:09:52 +0100</td>\n      <td>HEAD / HTTP/1.1</td>\n      <td>200</td>\n      <td>NaN</td>\n      <td>\"-\"</td>\n      <td>Mozilla/5.0+(compatible; UptimeRobot/2.0; http...</td>\n    </tr>\n    <tr>\n      <th>261870</th>\n      <td>localhost</td>\n      <td>127.0.0.1</td>\n      <td>2014-03-02</td>\n      <td>03:10:18 +0100</td>\n      <td>OPTIONS * HTTP/1.0</td>\n      <td>200</td>\n      <td>NaN</td>\n      <td>\"-\"</td>\n      <td>Apache (internal dummy connection)\" VLOG=-</td>\n    </tr>\n    <tr>\n      <th>261871</th>\n      <td>localhost</td>\n      <td>127.0.0.1</td>\n      <td>2014-03-02</td>\n      <td>03:10:18 +0100</td>\n      <td>OPTIONS * HTTP/1.0</td>\n      <td>200</td>\n      <td>NaN</td>\n      <td>\"-\"</td>\n      <td>Apache (internal dummy connection)\" VLOG=-</td>\n    </tr>\n    <tr>\n      <th>261872</th>\n      <td>localhost</td>\n      <td>127.0.0.1</td>\n      <td>2014-03-02</td>\n      <td>03:10:18 +0100</td>\n      <td>OPTIONS * HTTP/1.0</td>\n      <td>200</td>\n      <td>NaN</td>\n      <td>\"-\"</td>\n      <td>Apache (internal dummy connection)\" VLOG=-</td>\n    </tr>\n  </tbody>\n</table>\n<p>261873 rows × 9 columns</p>\n</div>"
     },
     "metadata": {},
     "execution_count": 25
    }
   ],
   "source": [
    "Logs_copy"
   ]
  },
  {
   "cell_type": "markdown",
   "metadata": {},
   "source": [
    "- Status data extraction"
   ]
  },
  {
   "cell_type": "code",
   "execution_count": 26,
   "metadata": {
    "scrolled": true
   },
   "outputs": [
    {
     "output_type": "execute_result",
     "data": {
      "text/plain": [
       "                      DNS             ip       Date            Time  \\\n",
       "261868  www.akumenius.com   5.255.253.53 2014-03-02  03:05:39 +0100   \n",
       "261869  www.akumenius.com  74.86.158.107 2014-03-02  03:09:52 +0100   \n",
       "261870          localhost      127.0.0.1 2014-03-02  03:10:18 +0100   \n",
       "261871          localhost      127.0.0.1 2014-03-02  03:10:18 +0100   \n",
       "261872          localhost      127.0.0.1 2014-03-02  03:10:18 +0100   \n",
       "\n",
       "                   Request Status  Size Referer  \\\n",
       "261868      GET / HTTP/1.1    200  7528      -\"   \n",
       "261869     HEAD / HTTP/1.1    200   NaN     \"-\"   \n",
       "261870  OPTIONS * HTTP/1.0    200   NaN     \"-\"   \n",
       "261871  OPTIONS * HTTP/1.0    200   NaN     \"-\"   \n",
       "261872  OPTIONS * HTTP/1.0    200   NaN     \"-\"   \n",
       "\n",
       "                                                UserAgent  \n",
       "261868  Mozilla/5.0 (compatible; YandexBot/3.0; +http:...  \n",
       "261869  Mozilla/5.0+(compatible; UptimeRobot/2.0; http...  \n",
       "261870         Apache (internal dummy connection)\" VLOG=-  \n",
       "261871         Apache (internal dummy connection)\" VLOG=-  \n",
       "261872         Apache (internal dummy connection)\" VLOG=-  "
      ],
      "text/html": "<div>\n<style scoped>\n    .dataframe tbody tr th:only-of-type {\n        vertical-align: middle;\n    }\n\n    .dataframe tbody tr th {\n        vertical-align: top;\n    }\n\n    .dataframe thead th {\n        text-align: right;\n    }\n</style>\n<table border=\"1\" class=\"dataframe\">\n  <thead>\n    <tr style=\"text-align: right;\">\n      <th></th>\n      <th>DNS</th>\n      <th>ip</th>\n      <th>Date</th>\n      <th>Time</th>\n      <th>Request</th>\n      <th>Status</th>\n      <th>Size</th>\n      <th>Referer</th>\n      <th>UserAgent</th>\n    </tr>\n  </thead>\n  <tbody>\n    <tr>\n      <th>261868</th>\n      <td>www.akumenius.com</td>\n      <td>5.255.253.53</td>\n      <td>2014-03-02</td>\n      <td>03:05:39 +0100</td>\n      <td>GET / HTTP/1.1</td>\n      <td>200</td>\n      <td>7528</td>\n      <td>-\"</td>\n      <td>Mozilla/5.0 (compatible; YandexBot/3.0; +http:...</td>\n    </tr>\n    <tr>\n      <th>261869</th>\n      <td>www.akumenius.com</td>\n      <td>74.86.158.107</td>\n      <td>2014-03-02</td>\n      <td>03:09:52 +0100</td>\n      <td>HEAD / HTTP/1.1</td>\n      <td>200</td>\n      <td>NaN</td>\n      <td>\"-\"</td>\n      <td>Mozilla/5.0+(compatible; UptimeRobot/2.0; http...</td>\n    </tr>\n    <tr>\n      <th>261870</th>\n      <td>localhost</td>\n      <td>127.0.0.1</td>\n      <td>2014-03-02</td>\n      <td>03:10:18 +0100</td>\n      <td>OPTIONS * HTTP/1.0</td>\n      <td>200</td>\n      <td>NaN</td>\n      <td>\"-\"</td>\n      <td>Apache (internal dummy connection)\" VLOG=-</td>\n    </tr>\n    <tr>\n      <th>261871</th>\n      <td>localhost</td>\n      <td>127.0.0.1</td>\n      <td>2014-03-02</td>\n      <td>03:10:18 +0100</td>\n      <td>OPTIONS * HTTP/1.0</td>\n      <td>200</td>\n      <td>NaN</td>\n      <td>\"-\"</td>\n      <td>Apache (internal dummy connection)\" VLOG=-</td>\n    </tr>\n    <tr>\n      <th>261872</th>\n      <td>localhost</td>\n      <td>127.0.0.1</td>\n      <td>2014-03-02</td>\n      <td>03:10:18 +0100</td>\n      <td>OPTIONS * HTTP/1.0</td>\n      <td>200</td>\n      <td>NaN</td>\n      <td>\"-\"</td>\n      <td>Apache (internal dummy connection)\" VLOG=-</td>\n    </tr>\n  </tbody>\n</table>\n</div>"
     },
     "metadata": {},
     "execution_count": 26
    }
   ],
   "source": [
    "Logs_copy.Status = Logs_copy.Status.str.extract('(\\d{3})')\n",
    "Logs_copy.tail()"
   ]
  },
  {
   "cell_type": "markdown",
   "metadata": {},
   "source": [
    "- Clean Referer data"
   ]
  },
  {
   "cell_type": "code",
   "execution_count": 27,
   "metadata": {},
   "outputs": [
    {
     "output_type": "stream",
     "name": "stdout",
     "text": [
      "CPU times: user 310 ms, sys: 48 µs, total: 310 ms\nWall time: 308 ms\n"
     ]
    }
   ],
   "source": [
    "%%time\n",
    "Logs_copy.Referer = Logs_copy.Referer.astype(str)\n",
    "Logs_copy.Referer = Logs_copy.Referer.apply(lambda x: (np.nan if re.search('-\"', x) else x.rstrip('-\"')))"
   ]
  },
  {
   "cell_type": "code",
   "execution_count": 28,
   "metadata": {},
   "outputs": [
    {
     "output_type": "execute_result",
     "data": {
      "text/plain": [
       "array([nan,\n",
       "       'http://www.akumenius.com/hoteles-baratos/ofertas-hotel-Playa-Blanca-All-Inclusive-en-Cayo%20Largo_CUBA-62359b.html',\n",
       "       'http://www.akumenius.com/', ...,\n",
       "       '\"http://www.akumenius.com/booking/152186/t/BARCELO%20DOMINICAN%20BEACH/4',\n",
       "       'http://www.akumenius.com/hotelDetailPopup/49612/b',\n",
       "       'http://www.akumenius.com/destinos-baratos/destinos-caracteristicas/hoteles-baratos-en-Phuket_TAILANDIA-con-Windsurf'],\n",
       "      dtype=object)"
      ]
     },
     "metadata": {},
     "execution_count": 28
    }
   ],
   "source": [
    "Logs_copy.Referer.unique()"
   ]
  },
  {
   "cell_type": "code",
   "execution_count": 29,
   "metadata": {},
   "outputs": [
    {
     "output_type": "execute_result",
     "data": {
      "text/plain": [
       "                      DNS             ip       Date            Time  \\\n",
       "0               localhost      127.0.0.1 2014-02-23  03:10:31 +0100   \n",
       "1               localhost      127.0.0.1 2014-02-23  03:10:31 +0100   \n",
       "2               localhost      127.0.0.1 2014-02-23  03:10:31 +0100   \n",
       "3               localhost      127.0.0.1 2014-02-23  03:10:31 +0100   \n",
       "4               localhost      127.0.0.1 2014-02-23  03:10:31 +0100   \n",
       "...                   ...            ...        ...             ...   \n",
       "261868  www.akumenius.com   5.255.253.53 2014-03-02  03:05:39 +0100   \n",
       "261869  www.akumenius.com  74.86.158.107 2014-03-02  03:09:52 +0100   \n",
       "261870          localhost      127.0.0.1 2014-03-02  03:10:18 +0100   \n",
       "261871          localhost      127.0.0.1 2014-03-02  03:10:18 +0100   \n",
       "261872          localhost      127.0.0.1 2014-03-02  03:10:18 +0100   \n",
       "\n",
       "                   Request Status  Size Referer  \\\n",
       "0       OPTIONS * HTTP/1.0    200   NaN     NaN   \n",
       "1       OPTIONS * HTTP/1.0    200   NaN     NaN   \n",
       "2       OPTIONS * HTTP/1.0    200   NaN     NaN   \n",
       "3       OPTIONS * HTTP/1.0    200   NaN     NaN   \n",
       "4       OPTIONS * HTTP/1.0    200   NaN     NaN   \n",
       "...                    ...    ...   ...     ...   \n",
       "261868      GET / HTTP/1.1    200  7528     NaN   \n",
       "261869     HEAD / HTTP/1.1    200   NaN     NaN   \n",
       "261870  OPTIONS * HTTP/1.0    200   NaN     NaN   \n",
       "261871  OPTIONS * HTTP/1.0    200   NaN     NaN   \n",
       "261872  OPTIONS * HTTP/1.0    200   NaN     NaN   \n",
       "\n",
       "                                                UserAgent  \n",
       "0              Apache (internal dummy connection)\" VLOG=-  \n",
       "1              Apache (internal dummy connection)\" VLOG=-  \n",
       "2              Apache (internal dummy connection)\" VLOG=-  \n",
       "3              Apache (internal dummy connection)\" VLOG=-  \n",
       "4              Apache (internal dummy connection)\" VLOG=-  \n",
       "...                                                   ...  \n",
       "261868  Mozilla/5.0 (compatible; YandexBot/3.0; +http:...  \n",
       "261869  Mozilla/5.0+(compatible; UptimeRobot/2.0; http...  \n",
       "261870         Apache (internal dummy connection)\" VLOG=-  \n",
       "261871         Apache (internal dummy connection)\" VLOG=-  \n",
       "261872         Apache (internal dummy connection)\" VLOG=-  \n",
       "\n",
       "[261873 rows x 9 columns]"
      ],
      "text/html": "<div>\n<style scoped>\n    .dataframe tbody tr th:only-of-type {\n        vertical-align: middle;\n    }\n\n    .dataframe tbody tr th {\n        vertical-align: top;\n    }\n\n    .dataframe thead th {\n        text-align: right;\n    }\n</style>\n<table border=\"1\" class=\"dataframe\">\n  <thead>\n    <tr style=\"text-align: right;\">\n      <th></th>\n      <th>DNS</th>\n      <th>ip</th>\n      <th>Date</th>\n      <th>Time</th>\n      <th>Request</th>\n      <th>Status</th>\n      <th>Size</th>\n      <th>Referer</th>\n      <th>UserAgent</th>\n    </tr>\n  </thead>\n  <tbody>\n    <tr>\n      <th>0</th>\n      <td>localhost</td>\n      <td>127.0.0.1</td>\n      <td>2014-02-23</td>\n      <td>03:10:31 +0100</td>\n      <td>OPTIONS * HTTP/1.0</td>\n      <td>200</td>\n      <td>NaN</td>\n      <td>NaN</td>\n      <td>Apache (internal dummy connection)\" VLOG=-</td>\n    </tr>\n    <tr>\n      <th>1</th>\n      <td>localhost</td>\n      <td>127.0.0.1</td>\n      <td>2014-02-23</td>\n      <td>03:10:31 +0100</td>\n      <td>OPTIONS * HTTP/1.0</td>\n      <td>200</td>\n      <td>NaN</td>\n      <td>NaN</td>\n      <td>Apache (internal dummy connection)\" VLOG=-</td>\n    </tr>\n    <tr>\n      <th>2</th>\n      <td>localhost</td>\n      <td>127.0.0.1</td>\n      <td>2014-02-23</td>\n      <td>03:10:31 +0100</td>\n      <td>OPTIONS * HTTP/1.0</td>\n      <td>200</td>\n      <td>NaN</td>\n      <td>NaN</td>\n      <td>Apache (internal dummy connection)\" VLOG=-</td>\n    </tr>\n    <tr>\n      <th>3</th>\n      <td>localhost</td>\n      <td>127.0.0.1</td>\n      <td>2014-02-23</td>\n      <td>03:10:31 +0100</td>\n      <td>OPTIONS * HTTP/1.0</td>\n      <td>200</td>\n      <td>NaN</td>\n      <td>NaN</td>\n      <td>Apache (internal dummy connection)\" VLOG=-</td>\n    </tr>\n    <tr>\n      <th>4</th>\n      <td>localhost</td>\n      <td>127.0.0.1</td>\n      <td>2014-02-23</td>\n      <td>03:10:31 +0100</td>\n      <td>OPTIONS * HTTP/1.0</td>\n      <td>200</td>\n      <td>NaN</td>\n      <td>NaN</td>\n      <td>Apache (internal dummy connection)\" VLOG=-</td>\n    </tr>\n    <tr>\n      <th>...</th>\n      <td>...</td>\n      <td>...</td>\n      <td>...</td>\n      <td>...</td>\n      <td>...</td>\n      <td>...</td>\n      <td>...</td>\n      <td>...</td>\n      <td>...</td>\n    </tr>\n    <tr>\n      <th>261868</th>\n      <td>www.akumenius.com</td>\n      <td>5.255.253.53</td>\n      <td>2014-03-02</td>\n      <td>03:05:39 +0100</td>\n      <td>GET / HTTP/1.1</td>\n      <td>200</td>\n      <td>7528</td>\n      <td>NaN</td>\n      <td>Mozilla/5.0 (compatible; YandexBot/3.0; +http:...</td>\n    </tr>\n    <tr>\n      <th>261869</th>\n      <td>www.akumenius.com</td>\n      <td>74.86.158.107</td>\n      <td>2014-03-02</td>\n      <td>03:09:52 +0100</td>\n      <td>HEAD / HTTP/1.1</td>\n      <td>200</td>\n      <td>NaN</td>\n      <td>NaN</td>\n      <td>Mozilla/5.0+(compatible; UptimeRobot/2.0; http...</td>\n    </tr>\n    <tr>\n      <th>261870</th>\n      <td>localhost</td>\n      <td>127.0.0.1</td>\n      <td>2014-03-02</td>\n      <td>03:10:18 +0100</td>\n      <td>OPTIONS * HTTP/1.0</td>\n      <td>200</td>\n      <td>NaN</td>\n      <td>NaN</td>\n      <td>Apache (internal dummy connection)\" VLOG=-</td>\n    </tr>\n    <tr>\n      <th>261871</th>\n      <td>localhost</td>\n      <td>127.0.0.1</td>\n      <td>2014-03-02</td>\n      <td>03:10:18 +0100</td>\n      <td>OPTIONS * HTTP/1.0</td>\n      <td>200</td>\n      <td>NaN</td>\n      <td>NaN</td>\n      <td>Apache (internal dummy connection)\" VLOG=-</td>\n    </tr>\n    <tr>\n      <th>261872</th>\n      <td>localhost</td>\n      <td>127.0.0.1</td>\n      <td>2014-03-02</td>\n      <td>03:10:18 +0100</td>\n      <td>OPTIONS * HTTP/1.0</td>\n      <td>200</td>\n      <td>NaN</td>\n      <td>NaN</td>\n      <td>Apache (internal dummy connection)\" VLOG=-</td>\n    </tr>\n  </tbody>\n</table>\n<p>261873 rows × 9 columns</p>\n</div>"
     },
     "metadata": {},
     "execution_count": 29
    }
   ],
   "source": [
    "Logs_copy"
   ]
  },
  {
   "cell_type": "markdown",
   "metadata": {},
   "source": [
    "###  Exercise 3\n",
    "- Geolocates IP's. Here is a page of interest:\n",
    "  - [freegeoip](https://freegeoip.app/)"
   ]
  },
  {
   "cell_type": "markdown",
   "metadata": {},
   "source": [
    "- We export Ips file for security"
   ]
  },
  {
   "cell_type": "code",
   "execution_count": 30,
   "metadata": {},
   "outputs": [],
   "source": [
    "Ips_export= Logs_copy.ip.copy()\n",
    "\n",
    "Ips_export.replace('', 'null', inplace = True)\n",
    "\n",
    "Ips_export.to_csv('../../Data/Ips_export.csv', index = False)"
   ]
  },
  {
   "cell_type": "markdown",
   "metadata": {},
   "source": [
    "- Ips file recovery"
   ]
  },
  {
   "cell_type": "code",
   "execution_count": 31,
   "metadata": {},
   "outputs": [
    {
     "output_type": "execute_result",
     "data": {
      "text/plain": [
       "          ip\n",
       "0  127.0.0.1\n",
       "1  127.0.0.1\n",
       "2  127.0.0.1\n",
       "3  127.0.0.1\n",
       "4  127.0.0.1"
      ],
      "text/html": "<div>\n<style scoped>\n    .dataframe tbody tr th:only-of-type {\n        vertical-align: middle;\n    }\n\n    .dataframe tbody tr th {\n        vertical-align: top;\n    }\n\n    .dataframe thead th {\n        text-align: right;\n    }\n</style>\n<table border=\"1\" class=\"dataframe\">\n  <thead>\n    <tr style=\"text-align: right;\">\n      <th></th>\n      <th>ip</th>\n    </tr>\n  </thead>\n  <tbody>\n    <tr>\n      <th>0</th>\n      <td>127.0.0.1</td>\n    </tr>\n    <tr>\n      <th>1</th>\n      <td>127.0.0.1</td>\n    </tr>\n    <tr>\n      <th>2</th>\n      <td>127.0.0.1</td>\n    </tr>\n    <tr>\n      <th>3</th>\n      <td>127.0.0.1</td>\n    </tr>\n    <tr>\n      <th>4</th>\n      <td>127.0.0.1</td>\n    </tr>\n  </tbody>\n</table>\n</div>"
     },
     "metadata": {},
     "execution_count": 31
    }
   ],
   "source": [
    "path = '../../Data/Ips_export.csv'\n",
    "\n",
    "Ips_raw = pd.read_csv(path, sep= 'delimiter', engine='python')\n",
    "\n",
    "Ips_raw.head()"
   ]
  },
  {
   "cell_type": "code",
   "execution_count": 32,
   "metadata": {},
   "outputs": [
    {
     "output_type": "execute_result",
     "data": {
      "text/plain": [
       "                   ip\n",
       "261868   5.255.253.53\n",
       "261869  74.86.158.107\n",
       "261870      127.0.0.1\n",
       "261871      127.0.0.1\n",
       "261872      127.0.0.1"
      ],
      "text/html": "<div>\n<style scoped>\n    .dataframe tbody tr th:only-of-type {\n        vertical-align: middle;\n    }\n\n    .dataframe tbody tr th {\n        vertical-align: top;\n    }\n\n    .dataframe thead th {\n        text-align: right;\n    }\n</style>\n<table border=\"1\" class=\"dataframe\">\n  <thead>\n    <tr style=\"text-align: right;\">\n      <th></th>\n      <th>ip</th>\n    </tr>\n  </thead>\n  <tbody>\n    <tr>\n      <th>261868</th>\n      <td>5.255.253.53</td>\n    </tr>\n    <tr>\n      <th>261869</th>\n      <td>74.86.158.107</td>\n    </tr>\n    <tr>\n      <th>261870</th>\n      <td>127.0.0.1</td>\n    </tr>\n    <tr>\n      <th>261871</th>\n      <td>127.0.0.1</td>\n    </tr>\n    <tr>\n      <th>261872</th>\n      <td>127.0.0.1</td>\n    </tr>\n  </tbody>\n</table>\n</div>"
     },
     "metadata": {},
     "execution_count": 32
    }
   ],
   "source": [
    "Ips_raw.tail()"
   ]
  },
  {
   "cell_type": "markdown",
   "metadata": {},
   "source": [
    "- Make a copy of the data to be used and we check them"
   ]
  },
  {
   "cell_type": "code",
   "execution_count": 33,
   "metadata": {},
   "outputs": [],
   "source": [
    "ips_unique = pd.DataFrame({\"ip\": Ips_raw.ip.unique()})"
   ]
  },
  {
   "cell_type": "code",
   "execution_count": 34,
   "metadata": {},
   "outputs": [
    {
     "output_type": "execute_result",
     "data": {
      "text/plain": [
       "2921"
      ]
     },
     "metadata": {},
     "execution_count": 34
    }
   ],
   "source": [
    "len(ips_unique)"
   ]
  },
  {
   "cell_type": "code",
   "execution_count": 35,
   "metadata": {},
   "outputs": [
    {
     "output_type": "execute_result",
     "data": {
      "text/plain": [
       "                   ip\n",
       "0           127.0.0.1\n",
       "1       66.249.76.216\n",
       "2        5.255.253.53\n",
       "3       157.55.35.112\n",
       "4     193.111.141.116\n",
       "...               ...\n",
       "2916    46.222.83.180\n",
       "2917    79.155.78.117\n",
       "2918  217.174.248.179\n",
       "2919   188.135.173.80\n",
       "2920     206.198.5.33\n",
       "\n",
       "[2921 rows x 1 columns]"
      ],
      "text/html": "<div>\n<style scoped>\n    .dataframe tbody tr th:only-of-type {\n        vertical-align: middle;\n    }\n\n    .dataframe tbody tr th {\n        vertical-align: top;\n    }\n\n    .dataframe thead th {\n        text-align: right;\n    }\n</style>\n<table border=\"1\" class=\"dataframe\">\n  <thead>\n    <tr style=\"text-align: right;\">\n      <th></th>\n      <th>ip</th>\n    </tr>\n  </thead>\n  <tbody>\n    <tr>\n      <th>0</th>\n      <td>127.0.0.1</td>\n    </tr>\n    <tr>\n      <th>1</th>\n      <td>66.249.76.216</td>\n    </tr>\n    <tr>\n      <th>2</th>\n      <td>5.255.253.53</td>\n    </tr>\n    <tr>\n      <th>3</th>\n      <td>157.55.35.112</td>\n    </tr>\n    <tr>\n      <th>4</th>\n      <td>193.111.141.116</td>\n    </tr>\n    <tr>\n      <th>...</th>\n      <td>...</td>\n    </tr>\n    <tr>\n      <th>2916</th>\n      <td>46.222.83.180</td>\n    </tr>\n    <tr>\n      <th>2917</th>\n      <td>79.155.78.117</td>\n    </tr>\n    <tr>\n      <th>2918</th>\n      <td>217.174.248.179</td>\n    </tr>\n    <tr>\n      <th>2919</th>\n      <td>188.135.173.80</td>\n    </tr>\n    <tr>\n      <th>2920</th>\n      <td>206.198.5.33</td>\n    </tr>\n  </tbody>\n</table>\n<p>2921 rows × 1 columns</p>\n</div>"
     },
     "metadata": {},
     "execution_count": 35
    }
   ],
   "source": [
    "ips_unique"
   ]
  },
  {
   "cell_type": "code",
   "execution_count": 36,
   "metadata": {},
   "outputs": [],
   "source": [
    "url = \"https://freegeoip.app/json/\"\n",
    "localhost = \"127.0.0.1\"\n",
    "local = {'ip': '127.0.0.1',\n",
    " 'country_code': 'ES',\n",
    " 'country_name': 'Spain',\n",
    " 'region_code': 'GI',\n",
    " 'region_name': 'Girona',\n",
    " 'city': 'Girona',\n",
    " 'zip_code': '17003',\n",
    " 'time_zone': 'Europe/Madrid',\n",
    " 'latitude': 41.9831,\n",
    " 'longitude': \t2.8249,\n",
    " 'metro_code': 0}"
   ]
  },
  {
   "cell_type": "markdown",
   "metadata": {},
   "source": [
    "- Function for extract Information freegeoip"
   ]
  },
  {
   "cell_type": "code",
   "execution_count": 37,
   "metadata": {},
   "outputs": [],
   "source": [
    "def extract_info(ip):\n",
    "    if ip != localhost:\n",
    "        try:\n",
    "            response = requests.get(url+ip)\n",
    "            if response.status_code == 200:\n",
    "                return response.json()\n",
    "        except TypeError:\n",
    "            pass       \n",
    "    else:\n",
    "        return local"
   ]
  },
  {
   "cell_type": "markdown",
   "metadata": {},
   "source": [
    "- Ips Information Extraction"
   ]
  },
  {
   "cell_type": "code",
   "execution_count": null,
   "metadata": {},
   "outputs": [],
   "source": [
    "%%time\n",
    "\n",
    "geolocations = {}\n",
    "\n",
    "geolocations = (Parallel(n_jobs = 8, backend = \"multiprocessing\")(map(delayed(extract_info), ips_unique.ip)))\n",
    "\n",
    "len(geolocations)"
   ]
  },
  {
   "cell_type": "markdown",
   "metadata": {},
   "source": [
    "- joblib.Parallel uses the backend module to start worker processes, executing tasks simultaneously on separate CPUs.\n",
    "- It takes about 1 minute to extract the data from the 2921 IPS, much faster when using 4 cores and 8 threads"
   ]
  },
  {
   "cell_type": "markdown",
   "metadata": {},
   "source": [
    "- Check the Data obtained"
   ]
  },
  {
   "cell_type": "code",
   "execution_count": null,
   "metadata": {},
   "outputs": [],
   "source": [
    "type(geolocations)"
   ]
  },
  {
   "cell_type": "code",
   "execution_count": null,
   "metadata": {},
   "outputs": [],
   "source": [
    "geolocations[1]"
   ]
  },
  {
   "cell_type": "markdown",
   "metadata": {},
   "source": [
    "- Convert to Dataframe"
   ]
  },
  {
   "cell_type": "code",
   "execution_count": null,
   "metadata": {},
   "outputs": [],
   "source": [
    "geolocation_df = pd.DataFrame(geolocations)"
   ]
  },
  {
   "cell_type": "code",
   "execution_count": null,
   "metadata": {},
   "outputs": [],
   "source": [
    "geolocation_df"
   ]
  },
  {
   "cell_type": "markdown",
   "metadata": {},
   "source": [
    "- Export Geolocations to JSON File"
   ]
  },
  {
   "cell_type": "code",
   "execution_count": null,
   "metadata": {},
   "outputs": [],
   "source": [
    "geolocation_df_export = geolocation_df.copy()\n",
    "geolocation_df_export.to_json('data/geolocation.json', orient=\"records\")"
   ]
  },
  {
   "source": [
    "-  Export Geolocations to CSV File"
   ],
   "cell_type": "markdown",
   "metadata": {}
  },
  {
   "cell_type": "code",
   "execution_count": null,
   "metadata": {},
   "outputs": [],
   "source": [
    "geolocation_df_export = geolocation_df.copy()\n",
    "\n",
    "geolocation_df_export.replace('', 'null', inplace = True)\n",
    "\n",
    "geolocation_df_export.to_json('data/geolocation.csv')"
   ]
  },
  {
   "cell_type": "code",
   "execution_count": null,
   "metadata": {},
   "outputs": [],
   "source": [
    "geolocation_df.info()"
   ]
  },
  {
   "cell_type": "markdown",
   "metadata": {},
   "source": [
    "- Do a merge by the column of IPs"
   ]
  },
  {
   "cell_type": "code",
   "execution_count": null,
   "metadata": {},
   "outputs": [],
   "source": [
    "Logs_copy2 = Logs_copy.merge(geolocation_df, on='ip', how='outer')"
   ]
  },
  {
   "cell_type": "markdown",
   "metadata": {},
   "source": [
    "- Check the result"
   ]
  },
  {
   "cell_type": "code",
   "execution_count": null,
   "metadata": {},
   "outputs": [],
   "source": [
    "Logs_copy2.tail()"
   ]
  },
  {
   "cell_type": "code",
   "execution_count": null,
   "metadata": {},
   "outputs": [],
   "source": [
    "Logs_copy2.metro_code.unique()"
   ]
  },
  {
   "cell_type": "code",
   "execution_count": null,
   "metadata": {},
   "outputs": [],
   "source": [
    "Logs_copy2.info()"
   ]
  },
  {
   "cell_type": "markdown",
   "metadata": {},
   "source": [
    "###  Exercise 4\n",
    "- Show me your creativity, Surprise me go one step further with the above analysis."
   ]
  },
  {
   "cell_type": "markdown",
   "metadata": {},
   "source": [
    "- Extract UserAgent Data"
   ]
  },
  {
   "cell_type": "code",
   "execution_count": null,
   "metadata": {},
   "outputs": [],
   "source": [
    "%%time\n",
    "\n",
    "Devices = Logs_copy2.UserAgent\n",
    "\n",
    "device = Devices.apply(lambda x: SoftwareDetector(x).parse())\n",
    "\n",
    "print(device)"
   ]
  },
  {
   "cell_type": "markdown",
   "metadata": {},
   "source": [
    "- Assign the values"
   ]
  },
  {
   "cell_type": "code",
   "execution_count": null,
   "metadata": {},
   "outputs": [],
   "source": [
    "%%time\n",
    "\n",
    "Logs_copy2['Client_Name'] = device.apply(lambda x: x.client_name())\n",
    "Logs_copy2['Client_Type'] = device.apply(lambda x: x.client_type())\n",
    "Logs_copy2['Client_Version'] = device.apply(lambda x: x.client_version())\n",
    "Logs_copy2['Os_Name'] = device.apply(lambda x: x.os_name())\n",
    "Logs_copy2['Os_Version'] = device.apply(lambda x: x.os_version())\n",
    "Logs_copy2['Engine'] = device.apply(lambda x: x.engine())\n",
    "Logs_copy2['Device_Brand_Name'] = device.apply(lambda x: x.device_brand_name())\n",
    "Logs_copy2['Device_Model'] = device.apply(lambda x: x.device_model())\n",
    "Logs_copy2['Device_Type'] = device.apply(lambda x: x.device_type())\n",
    "\n"
   ]
  },
  {
   "cell_type": "markdown",
   "metadata": {},
   "source": [
    "- Rename & Reorder columns"
   ]
  },
  {
   "cell_type": "code",
   "execution_count": null,
   "metadata": {},
   "outputs": [],
   "source": [
    "Logs_copy2.columns = map(str.upper, Logs_copy2.columns)\n",
    "Logs_copy2.columns"
   ]
  },
  {
   "cell_type": "code",
   "execution_count": null,
   "metadata": {},
   "outputs": [],
   "source": [
    "Logs_copy2 = Logs_copy2[['DNS', 'IP', 'DATE', 'TIME','COUNTRY_CODE', 'COUNTRY_NAME', 'REGION_CODE',\n",
    "       'REGION_NAME', 'CITY', 'ZIP_CODE', 'TIME_ZONE', 'LATITUDE', 'LONGITUDE','METRO_CODE', 'REQUEST', 'STATUS', 'SIZE', 'REFERER','USERAGENT','CLIENT_NAME', 'CLIENT_TYPE', 'CLIENT_VERSION','OS_NAME','OS_VERSION','ENGINE', 'DEVICE_BRAND_NAME', 'DEVICE_MODEL','DEVICE_TYPE']]\n",
    "Logs_copy2.head()"
   ]
  },
  {
   "cell_type": "markdown",
   "metadata": {},
   "source": [
    "- Check the result"
   ]
  },
  {
   "cell_type": "code",
   "execution_count": null,
   "metadata": {},
   "outputs": [],
   "source": [
    "Logs_copy2.tail()"
   ]
  },
  {
   "cell_type": "code",
   "execution_count": null,
   "metadata": {},
   "outputs": [],
   "source": [
    "Logs_copy2.USERAGENT[0]"
   ]
  },
  {
   "cell_type": "markdown",
   "metadata": {},
   "source": [
    "- The column from which we have extracted the data is deleted"
   ]
  },
  {
   "cell_type": "code",
   "execution_count": null,
   "metadata": {},
   "outputs": [],
   "source": [
    "del(Logs_copy2['USERAGENT'])\n",
    "\n",
    "Logs_copy2.tail()"
   ]
  },
  {
   "cell_type": "markdown",
   "metadata": {},
   "source": [
    "- Clean Client Data"
   ]
  },
  {
   "cell_type": "code",
   "execution_count": null,
   "metadata": {},
   "outputs": [],
   "source": [
    "%%time\n",
    "\n",
    "Logs_copy2.CLIENT_NAME = Logs_copy2.CLIENT_NAME.apply(lambda x: (x[0:6] if re.search('Apache', x) else x))"
   ]
  },
  {
   "cell_type": "code",
   "execution_count": null,
   "metadata": {},
   "outputs": [],
   "source": [
    "Logs_copy2"
   ]
  },
  {
   "cell_type": "markdown",
   "metadata": {},
   "source": [
    "- Number of user views by DNS"
   ]
  },
  {
   "cell_type": "code",
   "execution_count": null,
   "metadata": {},
   "outputs": [],
   "source": [
    "sns.set_theme(style=\"darkgrid\")\n"
   ]
  },
  {
   "cell_type": "code",
   "execution_count": null,
   "metadata": {},
   "outputs": [],
   "source": [
    "fig, ax1 = plt.subplots(figsize=(15, 8),sharex=True,tight_layout=True)\n",
    "\n",
    "dns = sns.barplot(data=Logs_copy2.groupby('DNS')[['IP']].count().sort_values(by='IP',ascending=False).reset_index().head(10),\n",
    "                    y='DNS',  \n",
    "                    x='IP',\n",
    "                    palette='mako_r',\n",
    "                    ax=ax1)\n",
    "\n",
    "dns.set(title='Number of user views by DNS',\n",
    "          ylabel=None,\n",
    "          xlabel=None)"
   ]
  },
  {
   "cell_type": "markdown",
   "metadata": {},
   "source": [
    "- Number of user views by Country"
   ]
  },
  {
   "cell_type": "code",
   "execution_count": null,
   "metadata": {},
   "outputs": [],
   "source": [
    "fig, ax1 = plt.subplots(figsize=(15, 8),sharex=True,tight_layout=True)\n",
    "\n",
    "country = sns.barplot(data=Logs_copy2.groupby('COUNTRY_NAME')[['IP']].count().sort_values(by='IP',ascending=False).reset_index().head(10),\n",
    "                    y='COUNTRY_NAME',  \n",
    "                    x='IP',\n",
    "                    palette='rocket_r',\n",
    "                    ax=ax1)\n",
    "\n",
    "country.set(title='Number of user views by country',\n",
    "          ylabel=None,\n",
    "          xlabel=None)"
   ]
  },
  {
   "source": [
    "- Number of user views by City"
   ],
   "cell_type": "markdown",
   "metadata": {}
  },
  {
   "cell_type": "code",
   "execution_count": null,
   "metadata": {},
   "outputs": [],
   "source": [
    "fig, ax1 = plt.subplots(figsize=(15, 8),sharex=True,tight_layout=True)\n",
    "\n",
    "city = sns.barplot(data=Logs_copy2.groupby('CITY')[['IP']].count().sort_values(by='IP',ascending=False).reset_index().head(10),\n",
    "                    y='CITY',  \n",
    "                    x='IP',\n",
    "                    palette='viridis_r',\n",
    "                    ax=ax1)\n",
    "\n",
    "city.set(title='Number of user views by City',\n",
    "          ylabel=None,\n",
    "          xlabel=None)"
   ]
  },
  {
   "source": [
    "- Number of user views by Request"
   ],
   "cell_type": "markdown",
   "metadata": {}
  },
  {
   "cell_type": "code",
   "execution_count": null,
   "metadata": {},
   "outputs": [],
   "source": [
    "fig, ax1 = plt.subplots(figsize=(15, 8),sharex=True,tight_layout=True)\n",
    "\n",
    "city = sns.barplot(data=Logs_copy2.groupby('REQUEST')[['IP']].count().sort_values(by='IP',ascending=False).reset_index().head(10),\n",
    "                    y='REQUEST',  \n",
    "                    x='IP',\n",
    "                    palette='inferno_r',\n",
    "                    ax=ax1)\n",
    "\n",
    "city.set(title='Number of user views by Request',\n",
    "          ylabel=None,\n",
    "          xlabel=None)"
   ]
  },
  {
   "source": [
    "- Number of user views by Referer"
   ],
   "cell_type": "markdown",
   "metadata": {}
  },
  {
   "cell_type": "code",
   "execution_count": null,
   "metadata": {},
   "outputs": [],
   "source": [
    "fig, ax1 = plt.subplots(figsize=(15, 8),sharex=True,tight_layout=True)\n",
    "\n",
    "city = sns.barplot(data=Logs_copy2.groupby('REFERER')[['IP']].count().sort_values(by='IP',ascending=False).reset_index().head(10),\n",
    "                    y='REFERER',  \n",
    "                    x='IP',\n",
    "                    palette='magma_r',\n",
    "                    ax=ax1)\n",
    "\n",
    "city.set(title='Number of user views by Referer',\n",
    "          ylabel=None,\n",
    "          xlabel=None)"
   ]
  },
  {
   "cell_type": "markdown",
   "metadata": {},
   "source": [
    "- views by Device and OS"
   ]
  },
  {
   "cell_type": "code",
   "execution_count": null,
   "metadata": {},
   "outputs": [],
   "source": [
    "\n",
    "sns.displot(data = Logs_copy2, x = \"DATE\", hue = \"OS_NAME\", multiple=\"stack\", kind=\"kde\", height=10)"
   ]
  },
  {
   "cell_type": "markdown",
   "metadata": {},
   "source": [
    "- Status by number of views"
   ]
  },
  {
   "cell_type": "code",
   "execution_count": null,
   "metadata": {},
   "outputs": [],
   "source": [
    "graph = Logs_copy2[['STATUS', 'DNS']].groupby(['STATUS']).count().sort_values(by = 'DNS',ascending = False)\n",
    "graph = graph.rename(columns = {'DNS' : 'Frequency'})\n",
    "graph.plot.bar(y = 'Frequency', color = 'r', ylabel = 'Frequency', legend = None, figsize = (14,7))\n",
    "plt.show()"
   ]
  },
  {
   "cell_type": "markdown",
   "metadata": {},
   "source": [
    "- Views by Client Type"
   ]
  },
  {
   "cell_type": "code",
   "execution_count": null,
   "metadata": {},
   "outputs": [],
   "source": [
    "graph = Logs_copy2[['CLIENT_TYPE', 'DNS']].groupby(['CLIENT_TYPE']).count().sort_values(by = 'DNS',ascending = False)\n",
    "graph = graph.rename(columns = {'DNS' : 'Frequency'})\n",
    "graph.plot.bar(y = 'Frequency', color = 'g', ylabel = 'Frequency', legend = None, figsize = (14,7))\n",
    "plt.show()"
   ]
  },
  {
   "cell_type": "markdown",
   "metadata": {},
   "source": [
    "- Device type for DNS"
   ]
  },
  {
   "cell_type": "code",
   "execution_count": null,
   "metadata": {},
   "outputs": [],
   "source": [
    "sns.set(rc={\"figure.figsize\": (20, 10)})\n",
    "sns.displot(data = Logs_copy2, x = \"DATE\", hue = \"DEVICE_TYPE\", multiple = \"stack\", kind=\"kde\", height=10)"
   ]
  },
  {
   "cell_type": "markdown",
   "metadata": {},
   "source": [
    "- Geolocations"
   ]
  },
  {
   "cell_type": "code",
   "execution_count": null,
   "metadata": {},
   "outputs": [],
   "source": [
    "GEOLOCATIONS = Logs_copy2[Logs_copy2['LONGITUDE'] != \" \"][['IP', 'LONGITUDE', 'LATITUDE']].astype({'LONGITUDE': float,'LATITUDE': float})\n",
    "GEOLOCATIONS = (GEOLOCATIONS[['IP', 'LONGITUDE', 'LATITUDE']].groupby('IP').agg({'LONGITUDE' : np.mean, 'LATITUDE': np.mean, 'IP' : 'count'}).astype({'IP': float}))\n",
    "\n",
    "GEOLOCATIONS.info()"
   ]
  },
  {
   "cell_type": "markdown",
   "metadata": {},
   "source": [
    "- Geolocations of web Views"
   ]
  },
  {
   "cell_type": "code",
   "execution_count": null,
   "metadata": {},
   "outputs": [],
   "source": [
    "def main():\n",
    "    fig = plt.figure(figsize=(20, 10))\n",
    "    ax = fig.add_subplot(1, 1, 1, projection=ccrs.Robinson())\n",
    "    \n",
    "    ax.set_global()\n",
    "\n",
    "    ax.stock_img()\n",
    "    ax.coastlines()\n",
    "   \n",
    "    ax.plot(GEOLOCATIONS.LONGITUDE, GEOLOCATIONS.LATITUDE, '*', alpha= 0.15, transform=ccrs.PlateCarree(), color='darkgreen')\n",
    "\n",
    "    plt.title('Geolocations of web Views',fontdict={'family': 'serif', \n",
    "                    'color' : 'black',\n",
    "                    'weight': 'bold',\n",
    "                    'size': 18})\n",
    "    plt.show()\n",
    "\n",
    "\n",
    "if __name__ == '__main__':\n",
    "    main()\n"
   ]
  },
  {
   "cell_type": "markdown",
   "metadata": {},
   "source": [
    "- Zone more density of Views to the web"
   ]
  },
  {
   "cell_type": "code",
   "execution_count": null,
   "metadata": {},
   "outputs": [],
   "source": [
    "def main():\n",
    "    fig = plt.figure(figsize=(30, 15))\n",
    "    ax = fig.add_subplot(1, 1, 1, projection=ccrs.Robinson())\n",
    "    \n",
    "\n",
    "\n",
    "    central_lon, central_lat = -3.7492, 40.4636\n",
    "    extent = [-20, 20, 30, 55]\n",
    "    ax = plt.axes(projection=ccrs.Orthographic(central_lon, central_lat))\n",
    "    ax.set_extent(extent)\n",
    "    ax.stock_img()\n",
    "    ax.coastlines(resolution='50m')\n",
    "   \n",
    "    ax.plot(GEOLOCATIONS.LONGITUDE, GEOLOCATIONS.LATITUDE, '*', alpha= 0.15, transform=ccrs.PlateCarree(), color='green')\n",
    "\n",
    "    plt.title('Zone more density of web iews',fontdict={'family': 'serif', \n",
    "                    'color' : 'black',\n",
    "                    'weight': 'bold',\n",
    "                    'size': 18})\n",
    "    plt.show()\n",
    "\n",
    "\n",
    "if __name__ == '__main__':\n",
    "    main()"
   ]
  },
  {
   "cell_type": "markdown",
   "metadata": {},
   "source": [
    "- Save the data obtained for later reuse"
   ]
  },
  {
   "cell_type": "code",
   "execution_count": null,
   "metadata": {},
   "outputs": [],
   "source": [
    "Logs_export = Logs_copy2.copy()\n",
    "\n",
    "Logs_export.replace('', 'null', inplace = True)\n",
    "\n",
    "Logs_export.to_csv('data/Logs_export.csv', index = False)"
   ]
  },
  {
   "source": [
    "## Build Dashboard In Python – Plotly Dash \n",
    "### Dash is a Python framework, based on Flask, Plotly and ReactJS\n",
    "### New environment for the project v0.1"
   ],
   "cell_type": "markdown",
   "metadata": {}
  },
  {
   "source": [
    "- mkdir web_log && cd web_log\n",
    "- python3 -m venv venv\n",
    "- source venv/bin/activate"
   ],
   "cell_type": "markdown",
   "metadata": {}
  },
  {
   "source": [
    "- python -m pip install dash==1.13.3 pandas==1.0.5"
   ],
   "cell_type": "markdown",
   "metadata": {}
  },
  {
   "source": [
    "### Create app.py Dashboard"
   ],
   "cell_type": "markdown",
   "metadata": {}
  },
  {
   "source": [
    "### Run Application"
   ],
   "cell_type": "markdown",
   "metadata": {}
  },
  {
   "source": [
    "- python app.py"
   ],
   "cell_type": "markdown",
   "metadata": {}
  },
  {
   "source": [
    "### [Web Log Dash App Github Repo](https://github.com/jesussantana/web-log-dash)\n",
    "### [Web Log Dash App Deploy](http://jesussantana.pythonanywhere.com/)"
   ],
   "cell_type": "markdown",
   "metadata": {}
  }
 ],
 "metadata": {
  "kernelspec": {
   "name": "python385jvsc74a57bd02c304d0744c63eb0cf275252f889b831c4efa7f5cd03bb8eb1791a6cbed8475e",
   "display_name": "Python 3.8.5 64-bit ('base': conda)"
  },
  "language_info": {
   "codemirror_mode": {
    "name": "ipython",
    "version": 3
   },
   "file_extension": ".py",
   "mimetype": "text/x-python",
   "name": "python",
   "nbconvert_exporter": "python",
   "pygments_lexer": "ipython3",
   "version": "3.8.5-final"
  },
  "metadata": {
   "interpreter": {
    "hash": "2c304d0744c63eb0cf275252f889b831c4efa7f5cd03bb8eb1791a6cbed8475e"
   }
  }
 },
 "nbformat": 4,
 "nbformat_minor": 4
}